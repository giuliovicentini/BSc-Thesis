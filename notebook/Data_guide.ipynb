{
 "cells": [
  {
   "cell_type": "code",
   "execution_count": 1,
   "metadata": {},
   "outputs": [],
   "source": [
    "%matplotlib inline\n",
    "\n",
    "import uproot"
   ]
  },
  {
   "cell_type": "markdown",
   "metadata": {},
   "source": [
    "**Training dataset**"
   ]
  },
  {
   "cell_type": "code",
   "execution_count": 2,
   "metadata": {},
   "outputs": [],
   "source": [
    "datafile = uproot.open(\"/mnt/Storage/fmanzali/FlatComplete/eplus_hits_dn_0.root\") #open the first file"
   ]
  },
  {
   "cell_type": "code",
   "execution_count": 3,
   "metadata": {},
   "outputs": [
    {
     "data": {
      "text/plain": [
       "[b'lpmt_hits;187',\n",
       " b'lpmt_hits;186',\n",
       " b'spmt_hits;5',\n",
       " b'spmt_hits;4',\n",
       " b'true_info;1',\n",
       " b'lpmt_pos;1',\n",
       " b'spmt_pos;1']"
      ]
     },
     "execution_count": 3,
     "metadata": {},
     "output_type": "execute_result"
    }
   ],
   "source": [
    "datafile.keys() #These are the \"folders\" inside the file"
   ]
  },
  {
   "cell_type": "code",
   "execution_count": 4,
   "metadata": {},
   "outputs": [
    {
     "data": {
      "text/plain": [
       "[b'nHits', b'pmtID', b'hitTime', b'isDN']"
      ]
     },
     "execution_count": 4,
     "metadata": {},
     "output_type": "execute_result"
    }
   ],
   "source": [
    "#Large PMT data:\n",
    "largePMT = datafile[\"lpmt_hits\"]\n",
    "largePMT.keys() #Hits data structure"
   ]
  },
  {
   "cell_type": "code",
   "execution_count": 5,
   "metadata": {},
   "outputs": [],
   "source": [
    "events = largePMT.arrays(entrystart=0, entrystop=100) #Take first 100 events"
   ]
  },
  {
   "cell_type": "code",
   "execution_count": 6,
   "metadata": {
    "scrolled": true
   },
   "outputs": [
    {
     "name": "stdout",
     "output_type": "stream",
     "text": [
      "8902\n"
     ]
    }
   ],
   "source": [
    "nhits = events[b'nHits'][0] #number of hits in the first event (note that keys are stored in bynary, so you need the \"b\" before the string)\n",
    "print(nhits)"
   ]
  },
  {
   "cell_type": "markdown",
   "metadata": {},
   "source": [
    "Then `events[b'pmtID'][0]`, `events[b'hitTime'][0]` and `events[b'isDN'][0]` are three arrays of length `nhits`, representing the ID of every PMT hit, the time of that hit (where 0 is the instant of positron emission), and a flag classifying that hit as due to dark Noise (if true) or signal (if false)."
   ]
  },
  {
   "cell_type": "code",
   "execution_count": 7,
   "metadata": {},
   "outputs": [
    {
     "data": {
      "text/plain": [
       "array([14175, 17319, 16882, ..., 17715, 17718, 17722], dtype=int32)"
      ]
     },
     "execution_count": 7,
     "metadata": {},
     "output_type": "execute_result"
    }
   ],
   "source": [
    "events[b'pmtID'][0] #These are the PMTs that have been hit in the first event"
   ]
  },
  {
   "cell_type": "code",
   "execution_count": 8,
   "metadata": {},
   "outputs": [
    {
     "data": {
      "text/plain": [
       "array([249.99261,  40.01031, 162.1232 , ..., 815.56793, 322.00272,\n",
       "       532.9748 ], dtype=float32)"
      ]
     },
     "execution_count": 8,
     "metadata": {},
     "output_type": "execute_result"
    }
   ],
   "source": [
    "events[b'hitTime'][0] #These are the hit times for those PMTs"
   ]
  },
  {
   "cell_type": "code",
   "execution_count": 9,
   "metadata": {},
   "outputs": [
    {
     "name": "stdout",
     "output_type": "stream",
     "text": [
      "The PMT #14175 was hit at 249.99261474609375 and this was due to Signal\n"
     ]
    }
   ],
   "source": [
    "#For example:\n",
    "print(\"The PMT #{} was hit at {} and this was due to {}\".format(events[b'pmtID'][0,0], events[b'hitTime'][0,0], \"Dark noise\" if events[b'isDN'][0,0]  else \"Signal\"))"
   ]
  },
  {
   "cell_type": "code",
   "execution_count": 10,
   "metadata": {},
   "outputs": [
    {
     "data": {
      "text/plain": [
       "[b'evtID', b'E', b'x', b'y', b'z', b'R']"
      ]
     },
     "execution_count": 10,
     "metadata": {},
     "output_type": "execute_result"
    }
   ],
   "source": [
    "#The true data is stored in datafile[\"true_info\"], and contains the coordinates of the IBD, and the positron energy\n",
    "#(and also R = sqrt(x^2 + y^2 + z^2))\n",
    "datafile[\"true_info\"].keys()"
   ]
  },
  {
   "cell_type": "code",
   "execution_count": 11,
   "metadata": {},
   "outputs": [
    {
     "data": {
      "text/plain": [
       "[b'pmt_id', b'pmt_x', b'pmt_y', b'pmt_z']"
      ]
     },
     "execution_count": 11,
     "metadata": {},
     "output_type": "execute_result"
    }
   ],
   "source": [
    "#The PMT positions are stored in datafile[\"lpmt_pos\"]\n",
    "datafile[\"lpmt_pos\"].keys()"
   ]
  }
 ],
 "metadata": {
  "kernelspec": {
   "display_name": "Python 3",
   "language": "python",
   "name": "python3"
  },
  "language_info": {
   "codemirror_mode": {
    "name": "ipython",
    "version": 3
   },
   "file_extension": ".py",
   "mimetype": "text/x-python",
   "name": "python",
   "nbconvert_exporter": "python",
   "pygments_lexer": "ipython3",
   "version": "3.6.9"
  }
 },
 "nbformat": 4,
 "nbformat_minor": 2
}
