{
 "cells": [
  {
   "cell_type": "markdown",
   "metadata": {},
   "source": [
    "# network for time histogram"
   ]
  },
  {
   "cell_type": "code",
   "execution_count": 1,
   "metadata": {},
   "outputs": [],
   "source": [
    "import numpy as np\n",
    "import matplotlib.pyplot as plt\n",
    "\n",
    "import imageio\n",
    "import glob"
   ]
  },
  {
   "cell_type": "code",
   "execution_count": 4,
   "metadata": {},
   "outputs": [
    {
     "name": "stdout",
     "output_type": "stream",
     "text": [
      "99985\n"
     ]
    }
   ],
   "source": [
    "i = 0\n",
    "for frame in glob.glob(\"/mnt/Storage/gvicentini/electron_time/*.npy\"):\n",
    "    #frame = None\n",
    "    i +=1\n",
    "print(i)"
   ]
  },
  {
   "cell_type": "markdown",
   "metadata": {},
   "source": [
    "# input with this shape"
   ]
  },
  {
   "cell_type": "code",
   "execution_count": 33,
   "metadata": {},
   "outputs": [
    {
     "data": {
      "text/plain": [
       "array([[446.],\n",
       "       [489.],\n",
       "       [466.],\n",
       "       [415.],\n",
       "       [368.],\n",
       "       [318.],\n",
       "       [299.],\n",
       "       [253.],\n",
       "       [220.],\n",
       "       [224.],\n",
       "       [144.],\n",
       "       [ 90.],\n",
       "       [ 77.],\n",
       "       [ 50.],\n",
       "       [ 46.],\n",
       "       [ 25.],\n",
       "       [ 25.],\n",
       "       [ 15.],\n",
       "       [  5.],\n",
       "       [  0.]])"
      ]
     },
     "execution_count": 33,
     "metadata": {},
     "output_type": "execute_result"
    }
   ],
   "source": [
    "frame = \"/mnt/Storage/gvicentini/electron_time/0el_time0.npy\"\n",
    "arr = np.load(frame)\n",
    "arr = np.reshape(arr, (20,1))\n",
    "arr"
   ]
  },
  {
   "cell_type": "code",
   "execution_count": 10,
   "metadata": {},
   "outputs": [],
   "source": [
    "i = 0\n",
    "labels = np.zeros(199985)\n",
    "powers = np.empty((199985, 20, 1), dtype=np.float64)\n",
    "for frame in glob.glob(\"/mnt/Storage/gvicentini/positron_time/*.npy\"):\n",
    "    spec = np.load(frame)\n",
    "    spec = np.reshape(spec, (20,1))\n",
    "    powers[i] = spec\n",
    "    i += 1\n",
    "for frame in glob.glob(\"/mnt/Storage/gvicentini/electron_time/*.npy\"):\n",
    "    spec = np.load(frame) \n",
    "    spec = np.reshape(spec, (20,1))\n",
    "    powers[i] = spec\n",
    "    labels[i] = 1.0\n",
    "    i += 1"
   ]
  },
  {
   "cell_type": "code",
   "execution_count": 17,
   "metadata": {},
   "outputs": [],
   "source": [
    "powers = powers/powers.max()"
   ]
  },
  {
   "cell_type": "code",
   "execution_count": 19,
   "metadata": {},
   "outputs": [
    {
     "data": {
      "text/plain": [
       "(199985, 20, 1)"
      ]
     },
     "execution_count": 19,
     "metadata": {},
     "output_type": "execute_result"
    }
   ],
   "source": [
    "powers.shape"
   ]
  },
  {
   "cell_type": "code",
   "execution_count": 20,
   "metadata": {},
   "outputs": [],
   "source": [
    "from sklearn.model_selection import train_test_split\n",
    "X_train, X_test, Y_train, Y_test = train_test_split(powers , labels ,test_size=0.2)"
   ]
  },
  {
   "cell_type": "markdown",
   "metadata": {},
   "source": [
    "# build the model"
   ]
  },
  {
   "cell_type": "code",
   "execution_count": 25,
   "metadata": {},
   "outputs": [],
   "source": [
    "from keras.models import Sequential\n",
    "from keras.layers import Dense, Conv1D, Flatten, Dropout, MaxPooling1D\n",
    "\n",
    "model = Sequential()\n",
    "\n",
    "model.add(Conv1D(filters=32, kernel_size=3, padding='same', activation='relu', kernel_initializer='he_uniform',  input_shape=(20, 1)))\n",
    "model.add(MaxPooling1D(pool_size=2))\n",
    "model.add(Flatten())\n",
    "model.add(Dense(128, activation='relu', kernel_initializer='he_uniform'))\n",
    "model.add(Dropout(0.5))\n",
    "model.add(Dense(1, activation='softmax'))"
   ]
  },
  {
   "cell_type": "code",
   "execution_count": 26,
   "metadata": {},
   "outputs": [
    {
     "name": "stdout",
     "output_type": "stream",
     "text": [
      "Model: \"sequential_2\"\n",
      "_________________________________________________________________\n",
      "Layer (type)                 Output Shape              Param #   \n",
      "=================================================================\n",
      "conv1d_2 (Conv1D)            (None, 20, 32)            128       \n",
      "_________________________________________________________________\n",
      "max_pooling1d_2 (MaxPooling1 (None, 10, 32)            0         \n",
      "_________________________________________________________________\n",
      "flatten_2 (Flatten)          (None, 320)               0         \n",
      "_________________________________________________________________\n",
      "dense_3 (Dense)              (None, 128)               41088     \n",
      "_________________________________________________________________\n",
      "dropout_2 (Dropout)          (None, 128)               0         \n",
      "_________________________________________________________________\n",
      "dense_4 (Dense)              (None, 1)                 129       \n",
      "=================================================================\n",
      "Total params: 41,345\n",
      "Trainable params: 41,345\n",
      "Non-trainable params: 0\n",
      "_________________________________________________________________\n"
     ]
    }
   ],
   "source": [
    "model.summary()"
   ]
  },
  {
   "cell_type": "code",
   "execution_count": 27,
   "metadata": {},
   "outputs": [],
   "source": [
    "model.compile(loss='binary_crossentropy', optimizer='adam', metrics=['accuracy'])"
   ]
  },
  {
   "cell_type": "markdown",
   "metadata": {},
   "source": [
    "# training"
   ]
  },
  {
   "cell_type": "code",
   "execution_count": 28,
   "metadata": {},
   "outputs": [
    {
     "name": "stdout",
     "output_type": "stream",
     "text": [
      "Train on 159988 samples, validate on 39997 samples\n",
      "Epoch 1/10\n",
      "159988/159988 [==============================] - 10s 65us/step - loss: 7.6723 - accuracy: 0.4996 - val_loss: 7.6050 - val_accuracy: 0.5013\n",
      "Epoch 2/10\n",
      "159988/159988 [==============================] - 11s 66us/step - loss: 7.6723 - accuracy: 0.4996 - val_loss: 7.6050 - val_accuracy: 0.5013\n",
      "Epoch 3/10\n",
      "159988/159988 [==============================] - 10s 63us/step - loss: 7.6723 - accuracy: 0.4996 - val_loss: 7.6050 - val_accuracy: 0.5013\n",
      "Epoch 4/10\n",
      "159988/159988 [==============================] - 10s 65us/step - loss: 7.6723 - accuracy: 0.4996 - val_loss: 7.6050 - val_accuracy: 0.5013\n",
      "Epoch 5/10\n",
      "159988/159988 [==============================] - 11s 66us/step - loss: 7.6723 - accuracy: 0.4996 - val_loss: 7.6050 - val_accuracy: 0.5013\n",
      "Epoch 6/10\n",
      "159988/159988 [==============================] - 10s 65us/step - loss: 7.6723 - accuracy: 0.4996 - val_loss: 7.6050 - val_accuracy: 0.5013\n",
      "Epoch 7/10\n",
      "159988/159988 [==============================] - 10s 60us/step - loss: 7.6723 - accuracy: 0.4996 - val_loss: 7.6050 - val_accuracy: 0.5013\n",
      "Epoch 8/10\n",
      "159988/159988 [==============================] - 10s 64us/step - loss: 7.6723 - accuracy: 0.4996 - val_loss: 7.6050 - val_accuracy: 0.5013\n",
      "Epoch 9/10\n",
      "159988/159988 [==============================] - 11s 70us/step - loss: 7.6723 - accuracy: 0.4996 - val_loss: 7.6050 - val_accuracy: 0.5013\n",
      "Epoch 10/10\n",
      "159988/159988 [==============================] - 10s 64us/step - loss: 7.6723 - accuracy: 0.4996 - val_loss: 7.6050 - val_accuracy: 0.5013\n"
     ]
    }
   ],
   "source": [
    "history = model.fit(X_train, Y_train, validation_data=(X_test, Y_test), epochs=10)"
   ]
  },
  {
   "cell_type": "markdown",
   "metadata": {},
   "source": [
    "# no good results"
   ]
  },
  {
   "cell_type": "code",
   "execution_count": 29,
   "metadata": {},
   "outputs": [
    {
     "name": "stdout",
     "output_type": "stream",
     "text": [
      "39997/39997 [==============================] - 1s 24us/step\n",
      "50.1287579536438\n"
     ]
    }
   ],
   "source": [
    "acc = model.evaluate(X_test, Y_test)\n",
    "print((acc[1] * 100.0))"
   ]
  },
  {
   "cell_type": "code",
   "execution_count": 30,
   "metadata": {},
   "outputs": [],
   "source": [
    "def summarize_diagnostics(history):\n",
    "    # plot loss\n",
    "    plt.subplot(211)\n",
    "    plt.title('Cross Entropy Loss')\n",
    "    plt.plot(history.history['loss'], color='blue', label='train')\n",
    "    plt.plot(history.history['val_loss'], color='orange', label='test')\n",
    "    # plot accuracy\n",
    "    plt.subplot(212)\n",
    "    plt.title('Classification Accuracy')\n",
    "    plt.plot(history.history['accuracy'], color='blue', label='train')\n",
    "    plt.plot(history.history['val_accuracy'], color='orange', label='test')"
   ]
  },
  {
   "cell_type": "code",
   "execution_count": 32,
   "metadata": {},
   "outputs": [
    {
     "data": {
      "image/png": "[encoded data removed]",
      "text/plain": [
       "<Figure size 432x288 with 2 Axes>"
      ]
     },
     "metadata": {
      "needs_background": "light"
     },
     "output_type": "display_data"
    }
   ],
   "source": [
    "summarize_diagnostics(history)"
   ]
  },
  {
   "cell_type": "markdown",
   "metadata": {},
   "source": [
    "# try with a more deep one"
   ]
  },
  {
   "cell_type": "code",
   "execution_count": 37,
   "metadata": {},
   "outputs": [],
   "source": [
    "model1 = Sequential()\n",
    "model1.add(Conv1D(32, 3, activation='relu', kernel_initializer='he_uniform', padding='same', input_shape=(20, 1)))\n",
    "model1.add(MaxPooling1D(2))\n",
    "model1.add(Dropout(0.2))\n",
    "model1.add(Conv1D(64, 3, activation='relu', kernel_initializer='he_uniform', padding='same'))\n",
    "model1.add(MaxPooling1D(2))\n",
    "model1.add(Dropout(0.2))\n",
    "model1.add(Conv1D(128, 3, activation='relu', kernel_initializer='he_uniform', padding='same'))\n",
    "model1.add(MaxPooling1D(2))\n",
    "model1.add(Dropout(0.2))\n",
    "model1.add(Flatten())\n",
    "model1.add(Dense(128, activation='relu', kernel_initializer='he_uniform'))\n",
    "model1.add(Dropout(0.5))\n",
    "model1.add(Dense(1, activation='sigmoid'))"
   ]
  },
  {
   "cell_type": "code",
   "execution_count": 38,
   "metadata": {},
   "outputs": [
    {
     "name": "stdout",
     "output_type": "stream",
     "text": [
      "Model: \"sequential_4\"\n",
      "_________________________________________________________________\n",
      "Layer (type)                 Output Shape              Param #   \n",
      "=================================================================\n",
      "conv1d_4 (Conv1D)            (None, 20, 32)            128       \n",
      "_________________________________________________________________\n",
      "max_pooling1d_3 (MaxPooling1 (None, 10, 32)            0         \n",
      "_________________________________________________________________\n",
      "dropout_3 (Dropout)          (None, 10, 32)            0         \n",
      "_________________________________________________________________\n",
      "conv1d_5 (Conv1D)            (None, 10, 64)            6208      \n",
      "_________________________________________________________________\n",
      "max_pooling1d_4 (MaxPooling1 (None, 5, 64)             0         \n",
      "_________________________________________________________________\n",
      "dropout_4 (Dropout)          (None, 5, 64)             0         \n",
      "_________________________________________________________________\n",
      "conv1d_6 (Conv1D)            (None, 5, 128)            24704     \n",
      "_________________________________________________________________\n",
      "max_pooling1d_5 (MaxPooling1 (None, 2, 128)            0         \n",
      "_________________________________________________________________\n",
      "dropout_5 (Dropout)          (None, 2, 128)            0         \n",
      "_________________________________________________________________\n",
      "flatten_3 (Flatten)          (None, 256)               0         \n",
      "_________________________________________________________________\n",
      "dense_5 (Dense)              (None, 128)               32896     \n",
      "_________________________________________________________________\n",
      "dropout_6 (Dropout)          (None, 128)               0         \n",
      "_________________________________________________________________\n",
      "dense_6 (Dense)              (None, 1)                 129       \n",
      "=================================================================\n",
      "Total params: 64,065\n",
      "Trainable params: 64,065\n",
      "Non-trainable params: 0\n",
      "_________________________________________________________________\n"
     ]
    }
   ],
   "source": [
    "model1.summary()"
   ]
  },
  {
   "cell_type": "code",
   "execution_count": 39,
   "metadata": {},
   "outputs": [],
   "source": [
    "model1.compile(loss='binary_crossentropy', optimizer='adam', metrics=['accuracy'])"
   ]
  },
  {
   "cell_type": "code",
   "execution_count": 40,
   "metadata": {},
   "outputs": [
    {
     "name": "stdout",
     "output_type": "stream",
     "text": [
      "Train on 159988 samples, validate on 39997 samples\n",
      "Epoch 1/10\n",
      "159988/159988 [==============================] - 22s 140us/step - loss: 0.3901 - accuracy: 0.7628 - val_loss: 0.0400 - val_accuracy: 0.9966\n",
      "Epoch 2/10\n",
      "159988/159988 [==============================] - 21s 132us/step - loss: 0.1120 - accuracy: 0.9592 - val_loss: 0.0489 - val_accuracy: 0.9654\n",
      "Epoch 3/10\n",
      "159988/159988 [==============================] - 21s 133us/step - loss: 0.1238 - accuracy: 0.9554 - val_loss: 0.0425 - val_accuracy: 0.9821\n",
      "Epoch 4/10\n",
      "159988/159988 [==============================] - 22s 135us/step - loss: 0.1296 - accuracy: 0.9560 - val_loss: 0.0222 - val_accuracy: 0.9993\n",
      "Epoch 5/10\n",
      "159988/159988 [==============================] - 21s 134us/step - loss: 0.1288 - accuracy: 0.9551 - val_loss: 0.0396 - val_accuracy: 0.9877\n",
      "Epoch 6/10\n",
      "159988/159988 [==============================] - 22s 139us/step - loss: 0.2247 - accuracy: 0.9084 - val_loss: 0.1906 - val_accuracy: 0.9180\n",
      "Epoch 7/10\n",
      "159988/159988 [==============================] - 22s 139us/step - loss: 0.5383 - accuracy: 0.6863 - val_loss: 0.5381 - val_accuracy: 0.6692\n",
      "Epoch 8/10\n",
      "159988/159988 [==============================] - 21s 132us/step - loss: 0.2667 - accuracy: 0.8692 - val_loss: 0.4363 - val_accuracy: 0.8132\n",
      "Epoch 9/10\n",
      "159988/159988 [==============================] - 21s 131us/step - loss: 0.1629 - accuracy: 0.9220 - val_loss: 0.4605 - val_accuracy: 0.7705\n",
      "Epoch 10/10\n",
      "159988/159988 [==============================] - 22s 140us/step - loss: 0.1450 - accuracy: 0.9306 - val_loss: 0.6000 - val_accuracy: 0.7396\n"
     ]
    }
   ],
   "source": [
    "history1 = model1.fit(X_train, Y_train, validation_data=(X_test, Y_test), epochs=10)"
   ]
  },
  {
   "cell_type": "markdown",
   "metadata": {},
   "source": [
    "# not so bad results"
   ]
  },
  {
   "cell_type": "code",
   "execution_count": 41,
   "metadata": {},
   "outputs": [
    {
     "name": "stdout",
     "output_type": "stream",
     "text": [
      "39997/39997 [==============================] - 2s 52us/step\n",
      "73.95804524421692\n"
     ]
    }
   ],
   "source": [
    "acc1 = model1.evaluate(X_test, Y_test)\n",
    "print((acc1[1] * 100.0))"
   ]
  },
  {
   "cell_type": "markdown",
   "metadata": {},
   "source": [
    "# but the evalution functions show a strange trend"
   ]
  },
  {
   "cell_type": "code",
   "execution_count": 42,
   "metadata": {},
   "outputs": [
    {
     "data": {
      "image/png": "[encoded data removed]",
      "text/plain": [
       "<Figure size 432x288 with 2 Axes>"
      ]
     },
     "metadata": {
      "needs_background": "light"
     },
     "output_type": "display_data"
    }
   ],
   "source": [
    "summarize_diagnostics(history1)"
   ]
  },
  {
   "cell_type": "markdown",
   "metadata": {},
   "source": [
    "# try with more epochs"
   ]
  },
  {
   "cell_type": "code",
   "execution_count": 43,
   "metadata": {},
   "outputs": [
    {
     "name": "stdout",
     "output_type": "stream",
     "text": [
      "Train on 159988 samples, validate on 39997 samples\n",
      "Epoch 1/100\n",
      "159988/159988 [==============================] - 20s 126us/step - loss: 0.1725 - accuracy: 0.9035 - val_loss: 0.7167 - val_accuracy: 0.8192\n",
      "Epoch 2/100\n",
      "159988/159988 [==============================] - 21s 133us/step - loss: 0.2048 - accuracy: 0.8771 - val_loss: 0.1427 - val_accuracy: 0.9065\n",
      "Epoch 3/100\n",
      "159988/159988 [==============================] - 21s 134us/step - loss: 0.2036 - accuracy: 0.8765 - val_loss: 0.6133 - val_accuracy: 0.8032\n",
      "Epoch 4/100\n",
      "159988/159988 [==============================] - 21s 132us/step - loss: 0.2082 - accuracy: 0.8753 - val_loss: 0.3492 - val_accuracy: 0.8815\n",
      "Epoch 5/100\n",
      "159988/159988 [==============================] - 22s 137us/step - loss: 0.1949 - accuracy: 0.8832 - val_loss: 0.2662 - val_accuracy: 0.8576\n",
      "Epoch 6/100\n",
      "159988/159988 [==============================] - 22s 140us/step - loss: 0.1936 - accuracy: 0.8849 - val_loss: 0.1389 - val_accuracy: 0.9396\n",
      "Epoch 7/100\n",
      "159988/159988 [==============================] - 21s 130us/step - loss: 0.1690 - accuracy: 0.9074 - val_loss: 0.1781 - val_accuracy: 0.8638\n",
      "Epoch 8/100\n",
      "159988/159988 [==============================] - 22s 138us/step - loss: 0.1886 - accuracy: 0.8896 - val_loss: 0.3969 - val_accuracy: 0.8528\n",
      "Epoch 9/100\n",
      "159988/159988 [==============================] - 22s 135us/step - loss: 0.1949 - accuracy: 0.8850 - val_loss: 0.3356 - val_accuracy: 0.8595\n",
      "Epoch 10/100\n",
      "159988/159988 [==============================] - 22s 135us/step - loss: 0.1989 - accuracy: 0.8786 - val_loss: 0.2963 - val_accuracy: 0.8557\n",
      "Epoch 11/100\n",
      "159988/159988 [==============================] - 21s 132us/step - loss: 0.1833 - accuracy: 0.8931 - val_loss: 0.1715 - val_accuracy: 0.8888\n",
      "Epoch 12/100\n",
      "159988/159988 [==============================] - 22s 135us/step - loss: 0.1985 - accuracy: 0.8796 - val_loss: 0.2633 - val_accuracy: 0.8409\n",
      "Epoch 13/100\n",
      "159988/159988 [==============================] - 21s 130us/step - loss: 0.1877 - accuracy: 0.8857 - val_loss: 0.1758 - val_accuracy: 0.8895\n",
      "Epoch 14/100\n",
      "159988/159988 [==============================] - 20s 124us/step - loss: 0.1895 - accuracy: 0.8845 - val_loss: 0.1140 - val_accuracy: 0.9206\n",
      "Epoch 15/100\n",
      "159988/159988 [==============================] - 22s 136us/step - loss: 0.1932 - accuracy: 0.8822 - val_loss: 0.2042 - val_accuracy: 0.8761\n",
      "Epoch 16/100\n",
      "159988/159988 [==============================] - 22s 138us/step - loss: 0.1888 - accuracy: 0.8828 - val_loss: 0.5441 - val_accuracy: 0.7915\n",
      "Epoch 17/100\n",
      "159988/159988 [==============================] - 22s 135us/step - loss: 0.1931 - accuracy: 0.8832 - val_loss: 0.4328 - val_accuracy: 0.8189\n",
      "Epoch 18/100\n",
      "159988/159988 [==============================] - 22s 138us/step - loss: 0.1932 - accuracy: 0.8808 - val_loss: 0.2761 - val_accuracy: 0.8584\n",
      "Epoch 19/100\n",
      "159988/159988 [==============================] - 21s 132us/step - loss: 0.1840 - accuracy: 0.8889 - val_loss: 0.7227 - val_accuracy: 0.7998\n",
      "Epoch 20/100\n",
      "159988/159988 [==============================] - 22s 135us/step - loss: 0.1881 - accuracy: 0.8834 - val_loss: 0.4237 - val_accuracy: 0.8507\n",
      "Epoch 21/100\n",
      "159988/159988 [==============================] - 22s 137us/step - loss: 0.1843 - accuracy: 0.8866 - val_loss: 0.2789 - val_accuracy: 0.8206\n",
      "Epoch 22/100\n",
      "159988/159988 [==============================] - 22s 136us/step - loss: 0.1791 - accuracy: 0.8915 - val_loss: 0.4872 - val_accuracy: 0.8143\n",
      "Epoch 23/100\n",
      "159988/159988 [==============================] - 22s 137us/step - loss: 0.1843 - accuracy: 0.8871 - val_loss: 0.3433 - val_accuracy: 0.8813\n",
      "Epoch 24/100\n",
      "159988/159988 [==============================] - 20s 127us/step - loss: 0.1831 - accuracy: 0.8874 - val_loss: 0.3044 - val_accuracy: 0.8586\n",
      "Epoch 25/100\n",
      "159988/159988 [==============================] - 21s 130us/step - loss: 0.1951 - accuracy: 0.8821 - val_loss: 0.2778 - val_accuracy: 0.8254\n",
      "Epoch 26/100\n",
      "159988/159988 [==============================] - 22s 137us/step - loss: 0.1850 - accuracy: 0.8873 - val_loss: 0.0858 - val_accuracy: 0.9453\n",
      "Epoch 27/100\n",
      "159988/159988 [==============================] - 21s 128us/step - loss: 0.1844 - accuracy: 0.8867 - val_loss: 0.1639 - val_accuracy: 0.9018\n",
      "Epoch 28/100\n",
      "159988/159988 [==============================] - 21s 131us/step - loss: 0.1873 - accuracy: 0.8843 - val_loss: 0.3337 - val_accuracy: 0.8417\n",
      "Epoch 29/100\n",
      "159988/159988 [==============================] - 20s 124us/step - loss: 0.1821 - accuracy: 0.8889 - val_loss: 0.3572 - val_accuracy: 0.8710\n",
      "Epoch 30/100\n",
      "159988/159988 [==============================] - 21s 133us/step - loss: 0.1868 - accuracy: 0.8841 - val_loss: 0.3034 - val_accuracy: 0.8278\n",
      "Epoch 31/100\n",
      "159988/159988 [==============================] - 21s 133us/step - loss: 0.1790 - accuracy: 0.8920 - val_loss: 0.4275 - val_accuracy: 0.8366\n",
      "Epoch 32/100\n",
      "159988/159988 [==============================] - 20s 126us/step - loss: 0.1851 - accuracy: 0.8858 - val_loss: 0.2470 - val_accuracy: 0.8496\n",
      "Epoch 33/100\n",
      "159988/159988 [==============================] - 20s 126us/step - loss: 0.1826 - accuracy: 0.8866 - val_loss: 0.3790 - val_accuracy: 0.8632\n",
      "Epoch 34/100\n",
      "159988/159988 [==============================] - 21s 131us/step - loss: 0.1794 - accuracy: 0.8900 - val_loss: 0.1581 - val_accuracy: 0.8756\n",
      "Epoch 35/100\n",
      "159988/159988 [==============================] - 21s 130us/step - loss: 0.1820 - accuracy: 0.8868 - val_loss: 0.5327 - val_accuracy: 0.8375\n",
      "Epoch 36/100\n",
      "159988/159988 [==============================] - 20s 123us/step - loss: 0.1797 - accuracy: 0.8876 - val_loss: 0.2664 - val_accuracy: 0.8740\n",
      "Epoch 37/100\n",
      "159988/159988 [==============================] - 22s 137us/step - loss: 0.1840 - accuracy: 0.8867 - val_loss: 0.2493 - val_accuracy: 0.8988\n",
      "Epoch 38/100\n",
      "159988/159988 [==============================] - 20s 127us/step - loss: 0.1807 - accuracy: 0.8877 - val_loss: 0.3346 - val_accuracy: 0.8730\n",
      "Epoch 39/100\n",
      "159988/159988 [==============================] - 21s 131us/step - loss: 0.1796 - accuracy: 0.8876 - val_loss: 0.3855 - val_accuracy: 0.8727\n",
      "Epoch 40/100\n",
      "159988/159988 [==============================] - 21s 133us/step - loss: 0.1829 - accuracy: 0.8864 - val_loss: 0.3946 - val_accuracy: 0.8604\n",
      "Epoch 41/100\n",
      "159988/159988 [==============================] - 21s 130us/step - loss: 0.1773 - accuracy: 0.8894 - val_loss: 0.1860 - val_accuracy: 0.8801\n",
      "Epoch 42/100\n",
      "159988/159988 [==============================] - 21s 134us/step - loss: 0.1766 - accuracy: 0.8900 - val_loss: 0.5597 - val_accuracy: 0.8301\n",
      "Epoch 43/100\n",
      "159988/159988 [==============================] - 20s 128us/step - loss: 0.1809 - accuracy: 0.8877 - val_loss: 0.1661 - val_accuracy: 0.8860\n",
      "Epoch 44/100\n",
      "159988/159988 [==============================] - 21s 130us/step - loss: 0.1773 - accuracy: 0.8896 - val_loss: 0.3771 - val_accuracy: 0.8615\n",
      "Epoch 45/100\n",
      "159988/159988 [==============================] - 21s 134us/step - loss: 0.1786 - accuracy: 0.8888 - val_loss: 0.1768 - val_accuracy: 0.8987\n",
      "Epoch 46/100\n",
      "159988/159988 [==============================] - 21s 132us/step - loss: 0.1769 - accuracy: 0.8895 - val_loss: 0.1425 - val_accuracy: 0.8749\n",
      "Epoch 47/100\n",
      "159988/159988 [==============================] - 21s 132us/step - loss: 0.1794 - accuracy: 0.8884 - val_loss: 0.6589 - val_accuracy: 0.8310\n",
      "Epoch 48/100\n",
      "159988/159988 [==============================] - 21s 133us/step - loss: 0.1783 - accuracy: 0.8896 - val_loss: 0.1308 - val_accuracy: 0.9166\n",
      "Epoch 49/100\n",
      "159988/159988 [==============================] - 22s 137us/step - loss: 0.1748 - accuracy: 0.8912 - val_loss: 0.0681 - val_accuracy: 0.9730\n",
      "Epoch 50/100\n",
      "159988/159988 [==============================] - 22s 135us/step - loss: 0.1743 - accuracy: 0.8901 - val_loss: 0.4980 - val_accuracy: 0.8723\n",
      "Epoch 51/100\n",
      "159988/159988 [==============================] - 21s 131us/step - loss: 0.1753 - accuracy: 0.8907 - val_loss: 0.2932 - val_accuracy: 0.8621\n",
      "Epoch 52/100\n",
      "159988/159988 [==============================] - 21s 129us/step - loss: 0.1775 - accuracy: 0.8897 - val_loss: 0.3270 - val_accuracy: 0.8741\n",
      "Epoch 53/100\n",
      "159988/159988 [==============================] - 21s 131us/step - loss: 0.1779 - accuracy: 0.8907 - val_loss: 0.2405 - val_accuracy: 0.8727\n",
      "Epoch 54/100\n",
      "159988/159988 [==============================] - 22s 135us/step - loss: 0.1747 - accuracy: 0.8900 - val_loss: 0.4071 - val_accuracy: 0.8243\n",
      "Epoch 55/100\n",
      "159988/159988 [==============================] - 21s 132us/step - loss: 0.1770 - accuracy: 0.8894 - val_loss: 0.5338 - val_accuracy: 0.8346\n",
      "Epoch 56/100\n",
      "159988/159988 [==============================] - 21s 131us/step - loss: 0.1757 - accuracy: 0.8912 - val_loss: 0.0930 - val_accuracy: 0.9612\n",
      "Epoch 57/100\n",
      "159988/159988 [==============================] - 22s 135us/step - loss: 0.1748 - accuracy: 0.8909 - val_loss: 0.2697 - val_accuracy: 0.8637\n",
      "Epoch 58/100\n",
      "159988/159988 [==============================] - 22s 138us/step - loss: 0.1778 - accuracy: 0.8891 - val_loss: 0.1961 - val_accuracy: 0.8995\n",
      "Epoch 59/100\n",
      "159988/159988 [==============================] - 23s 146us/step - loss: 0.1748 - accuracy: 0.8907 - val_loss: 0.4891 - val_accuracy: 0.8311\n",
      "Epoch 60/100\n",
      "159988/159988 [==============================] - 22s 138us/step - loss: 0.1763 - accuracy: 0.8899 - val_loss: 0.3483 - val_accuracy: 0.8405\n",
      "Epoch 61/100\n",
      "159988/159988 [==============================] - 23s 141us/step - loss: 0.1782 - accuracy: 0.8885 - val_loss: 0.3320 - val_accuracy: 0.8403\n",
      "Epoch 62/100\n",
      "159988/159988 [==============================] - 23s 141us/step - loss: 0.1751 - accuracy: 0.8904 - val_loss: 0.1455 - val_accuracy: 0.8925\n",
      "Epoch 63/100\n",
      "159988/159988 [==============================] - 21s 133us/step - loss: 0.1779 - accuracy: 0.8888 - val_loss: 0.4225 - val_accuracy: 0.8340\n",
      "Epoch 64/100\n",
      "159988/159988 [==============================] - 21s 130us/step - loss: 0.1736 - accuracy: 0.8911 - val_loss: 0.2019 - val_accuracy: 0.8869\n",
      "Epoch 65/100\n",
      "159988/159988 [==============================] - 21s 134us/step - loss: 0.1716 - accuracy: 0.8915 - val_loss: 0.2690 - val_accuracy: 0.8356\n",
      "Epoch 66/100\n",
      "159988/159988 [==============================] - 21s 133us/step - loss: 0.1726 - accuracy: 0.8916 - val_loss: 0.3547 - val_accuracy: 0.8570\n",
      "Epoch 67/100\n",
      "159988/159988 [==============================] - 21s 133us/step - loss: 0.1723 - accuracy: 0.8912 - val_loss: 0.2772 - val_accuracy: 0.8821\n",
      "Epoch 68/100\n",
      "159988/159988 [==============================] - 22s 136us/step - loss: 0.1746 - accuracy: 0.8921 - val_loss: 0.1898 - val_accuracy: 0.9064\n",
      "Epoch 69/100\n",
      "159988/159988 [==============================] - 22s 136us/step - loss: 0.1739 - accuracy: 0.8906 - val_loss: 0.1299 - val_accuracy: 0.9395\n",
      "Epoch 70/100\n",
      "159988/159988 [==============================] - 22s 137us/step - loss: 0.1748 - accuracy: 0.8913 - val_loss: 0.4093 - val_accuracy: 0.8733\n",
      "Epoch 71/100\n",
      "159988/159988 [==============================] - 22s 136us/step - loss: 0.1757 - accuracy: 0.8900 - val_loss: 0.4060 - val_accuracy: 0.8624\n",
      "Epoch 72/100\n",
      "159988/159988 [==============================] - 23s 141us/step - loss: 0.1718 - accuracy: 0.8928 - val_loss: 0.1526 - val_accuracy: 0.9040\n",
      "Epoch 73/100\n",
      "159988/159988 [==============================] - 21s 132us/step - loss: 0.1739 - accuracy: 0.8901 - val_loss: 0.3521 - val_accuracy: 0.8797\n",
      "Epoch 74/100\n",
      "159988/159988 [==============================] - 21s 132us/step - loss: 0.1763 - accuracy: 0.8896 - val_loss: 0.2112 - val_accuracy: 0.8783\n",
      "Epoch 75/100\n",
      "159988/159988 [==============================] - 22s 139us/step - loss: 0.1765 - accuracy: 0.8904 - val_loss: 0.3439 - val_accuracy: 0.8729\n",
      "Epoch 76/100\n",
      "159988/159988 [==============================] - 22s 140us/step - loss: 0.1746 - accuracy: 0.8917 - val_loss: 0.3201 - val_accuracy: 0.8712\n",
      "Epoch 77/100\n",
      "159988/159988 [==============================] - 22s 135us/step - loss: 0.1717 - accuracy: 0.8928 - val_loss: 0.2223 - val_accuracy: 0.9006\n",
      "Epoch 78/100\n",
      "159988/159988 [==============================] - 22s 137us/step - loss: 0.1751 - accuracy: 0.8903 - val_loss: 0.5659 - val_accuracy: 0.8342\n",
      "Epoch 79/100\n",
      "159988/159988 [==============================] - 22s 136us/step - loss: 0.1727 - accuracy: 0.8907 - val_loss: 0.3077 - val_accuracy: 0.8517\n",
      "Epoch 80/100\n",
      "159988/159988 [==============================] - 22s 135us/step - loss: 0.1736 - accuracy: 0.8910 - val_loss: 0.3759 - val_accuracy: 0.8585\n",
      "Epoch 81/100\n",
      "159988/159988 [==============================] - 22s 136us/step - loss: 0.1728 - accuracy: 0.8919 - val_loss: 0.0941 - val_accuracy: 0.9452\n",
      "Epoch 82/100\n",
      "159988/159988 [==============================] - 22s 135us/step - loss: 0.1710 - accuracy: 0.8921 - val_loss: 0.5456 - val_accuracy: 0.8351\n",
      "Epoch 83/100\n",
      "159988/159988 [==============================] - 22s 136us/step - loss: 0.1739 - accuracy: 0.8905 - val_loss: 0.3626 - val_accuracy: 0.8554\n",
      "Epoch 84/100\n",
      "159988/159988 [==============================] - 22s 135us/step - loss: 0.1724 - accuracy: 0.8913 - val_loss: 0.2576 - val_accuracy: 0.8846\n",
      "Epoch 85/100\n",
      "159988/159988 [==============================] - 21s 134us/step - loss: 0.1722 - accuracy: 0.8923 - val_loss: 0.3346 - val_accuracy: 0.8789\n",
      "Epoch 86/100\n",
      "159988/159988 [==============================] - 22s 141us/step - loss: 0.1715 - accuracy: 0.8933 - val_loss: 0.5228 - val_accuracy: 0.8507\n",
      "Epoch 87/100\n",
      "159988/159988 [==============================] - 22s 136us/step - loss: 0.1708 - accuracy: 0.8924 - val_loss: 0.1921 - val_accuracy: 0.8876\n",
      "Epoch 88/100\n",
      "159988/159988 [==============================] - 22s 138us/step - loss: 0.1738 - accuracy: 0.8924 - val_loss: 0.2156 - val_accuracy: 0.9048\n",
      "Epoch 89/100\n",
      "159988/159988 [==============================] - 21s 134us/step - loss: 0.1767 - accuracy: 0.8903 - val_loss: 0.4754 - val_accuracy: 0.8210\n",
      "Epoch 90/100\n",
      "159988/159988 [==============================] - 22s 141us/step - loss: 0.1700 - accuracy: 0.8923 - val_loss: 0.4643 - val_accuracy: 0.8771\n",
      "Epoch 91/100\n",
      "159988/159988 [==============================] - 22s 138us/step - loss: 0.1727 - accuracy: 0.8917 - val_loss: 0.1860 - val_accuracy: 0.9156\n",
      "Epoch 92/100\n",
      "159988/159988 [==============================] - 22s 135us/step - loss: 0.1707 - accuracy: 0.8928 - val_loss: 0.3670 - val_accuracy: 0.8206\n",
      "Epoch 93/100\n",
      "159988/159988 [==============================] - 22s 135us/step - loss: 0.1735 - accuracy: 0.8917 - val_loss: 0.2384 - val_accuracy: 0.8795\n",
      "Epoch 94/100\n",
      "159988/159988 [==============================] - 21s 132us/step - loss: 0.1721 - accuracy: 0.8932 - val_loss: 0.1715 - val_accuracy: 0.8906\n",
      "Epoch 95/100\n",
      "159988/159988 [==============================] - 21s 128us/step - loss: 0.1690 - accuracy: 0.8942 - val_loss: 0.5352 - val_accuracy: 0.8620\n",
      "Epoch 96/100\n",
      "159988/159988 [==============================] - 21s 132us/step - loss: 0.1707 - accuracy: 0.8924 - val_loss: 0.1517 - val_accuracy: 0.9189\n",
      "Epoch 97/100\n",
      "159988/159988 [==============================] - 21s 131us/step - loss: 0.1705 - accuracy: 0.8927 - val_loss: 0.4444 - val_accuracy: 0.8614\n",
      "Epoch 98/100\n",
      "159988/159988 [==============================] - 21s 129us/step - loss: 0.1700 - accuracy: 0.8928 - val_loss: 0.2100 - val_accuracy: 0.8911\n",
      "Epoch 99/100\n",
      "159988/159988 [==============================] - 20s 125us/step - loss: 0.1715 - accuracy: 0.8924 - val_loss: 0.1475 - val_accuracy: 0.9175\n",
      "Epoch 100/100\n",
      "159988/159988 [==============================] - 22s 137us/step - loss: 0.1733 - accuracy: 0.8919 - val_loss: 0.1424 - val_accuracy: 0.8945\n"
     ]
    }
   ],
   "source": [
    "history1_1 = model1.fit(X_train, Y_train, validation_data=(X_test, Y_test), epochs=100)"
   ]
  },
  {
   "cell_type": "code",
   "execution_count": 44,
   "metadata": {},
   "outputs": [
    {
     "name": "stdout",
     "output_type": "stream",
     "text": [
      "39997/39997 [==============================] - 2s 41us/step\n",
      "73.95804524421692\n"
     ]
    }
   ],
   "source": [
    "acc1_1 = model1.evaluate(X_test, Y_test)"
   ]
  },
  {
   "cell_type": "markdown",
   "metadata": {},
   "source": [
    "# 90% of accuracy (?)"
   ]
  },
  {
   "cell_type": "code",
   "execution_count": 65,
   "metadata": {},
   "outputs": [
    {
     "name": "stdout",
     "output_type": "stream",
     "text": [
      "89.44670557975769\n"
     ]
    }
   ],
   "source": [
    "print((acc1_1[1] * 100.0))"
   ]
  },
  {
   "cell_type": "markdown",
   "metadata": {},
   "source": [
    "# but there is a problem of oscillation (to be fix)"
   ]
  },
  {
   "cell_type": "code",
   "execution_count": 45,
   "metadata": {},
   "outputs": [
    {
     "data": {
      "image/png": "[encoded data removed]",
      "text/plain": [
       "<Figure size 432x288 with 2 Axes>"
      ]
     },
     "metadata": {
      "needs_background": "light"
     },
     "output_type": "display_data"
    }
   ],
   "source": [
    "summarize_diagnostics(history1_1)"
   ]
  },
  {
   "cell_type": "code",
   "execution_count": 56,
   "metadata": {},
   "outputs": [
    {
     "data": {
      "text/plain": [
       "[<matplotlib.lines.Line2D at 0x7f34e41d8dd0>]"
      ]
     },
     "execution_count": 56,
     "metadata": {},
     "output_type": "execute_result"
    },
    {
     "data": {
      "image/png": "[encoded data removed]",
      "text/plain": [
       "<Figure size 432x288 with 1 Axes>"
      ]
     },
     "metadata": {
      "needs_background": "light"
     },
     "output_type": "display_data"
    }
   ],
   "source": [
    " plt.plot(history1_1.history['loss'], color='blue', label='train')"
   ]
  },
  {
   "cell_type": "code",
   "execution_count": 57,
   "metadata": {},
   "outputs": [
    {
     "data": {
      "text/plain": [
       "[<matplotlib.lines.Line2D at 0x7f34e414a3d0>]"
      ]
     },
     "execution_count": 57,
     "metadata": {},
     "output_type": "execute_result"
    },
    {
     "data": {
      "image/png": "[encoded data removed]",
      "text/plain": [
       "<Figure size 432x288 with 1 Axes>"
      ]
     },
     "metadata": {
      "needs_background": "light"
     },
     "output_type": "display_data"
    }
   ],
   "source": [
    "plt.plot(history1_1.history['accuracy'], color='blue', label='train')"
   ]
  },
  {
   "cell_type": "markdown",
   "metadata": {},
   "source": [
    "# reduce learning_rate = 0.0001 and increase batch_size=64"
   ]
  },
  {
   "cell_type": "code",
   "execution_count": 84,
   "metadata": {},
   "outputs": [],
   "source": [
    "model4 = Sequential()\n",
    "model4.add(Conv1D(32, 3, activation='relu', kernel_initializer='he_uniform', padding='same', input_shape=(20, 1)))\n",
    "model4.add(MaxPooling1D(2))\n",
    "model4.add(Dropout(0.2))\n",
    "model4.add(Conv1D(64, 3, activation='relu', kernel_initializer='he_uniform', padding='same'))\n",
    "model4.add(MaxPooling1D(2))\n",
    "model4.add(Dropout(0.2))\n",
    "model4.add(Conv1D(128, 3, activation='relu', kernel_initializer='he_uniform', padding='same'))\n",
    "model4.add(MaxPooling1D(2))\n",
    "model4.add(Dropout(0.2))\n",
    "model4.add(Flatten())\n",
    "model4.add(Dense(128, activation='relu', kernel_initializer='he_uniform'))\n",
    "model4.add(Dropout(0.5))\n",
    "model4.add(Dense(1, activation='sigmoid'))"
   ]
  },
  {
   "cell_type": "code",
   "execution_count": 85,
   "metadata": {},
   "outputs": [],
   "source": [
    "from keras.optimizers import Adam\n",
    "opt = Adam(lr=0.0001)\n",
    "model4.compile(loss='binary_crossentropy', optimizer=opt, metrics=['accuracy'])"
   ]
  },
  {
   "cell_type": "code",
   "execution_count": 86,
   "metadata": {},
   "outputs": [
    {
     "name": "stdout",
     "output_type": "stream",
     "text": [
      "Train on 159988 samples, validate on 39997 samples\n",
      "Epoch 1/20\n",
      "159988/159988 [==============================] - 18s 115us/step - loss: 0.6926 - accuracy: 0.5257 - val_loss: 0.6827 - val_accuracy: 0.5650\n",
      "Epoch 2/20\n",
      "159988/159988 [==============================] - 17s 104us/step - loss: 0.6783 - accuracy: 0.5591 - val_loss: 0.6545 - val_accuracy: 0.5692\n",
      "Epoch 3/20\n",
      "159988/159988 [==============================] - 18s 110us/step - loss: 0.6259 - accuracy: 0.6408 - val_loss: 0.4167 - val_accuracy: 0.8982\n",
      "Epoch 4/20\n",
      "159988/159988 [==============================] - 17s 106us/step - loss: 0.4485 - accuracy: 0.7917 - val_loss: 0.1647 - val_accuracy: 0.9904\n",
      "Epoch 5/20\n",
      "159988/159988 [==============================] - 17s 108us/step - loss: 0.2370 - accuracy: 0.9057 - val_loss: 0.0654 - val_accuracy: 0.9960\n",
      "Epoch 6/20\n",
      "159988/159988 [==============================] - 17s 106us/step - loss: 0.1227 - accuracy: 0.9552 - val_loss: 0.0345 - val_accuracy: 0.9976\n",
      "Epoch 7/20\n",
      "159988/159988 [==============================] - 17s 105us/step - loss: 0.0717 - accuracy: 0.9739 - val_loss: 0.0218 - val_accuracy: 0.9955\n",
      "Epoch 8/20\n",
      "159988/159988 [==============================] - 18s 110us/step - loss: 0.0458 - accuracy: 0.9828 - val_loss: 0.0145 - val_accuracy: 0.9979\n",
      "Epoch 9/20\n",
      "159988/159988 [==============================] - 18s 112us/step - loss: 0.0330 - accuracy: 0.9876 - val_loss: 0.0106 - val_accuracy: 0.9997\n",
      "Epoch 10/20\n",
      "159988/159988 [==============================] - 17s 105us/step - loss: 0.0268 - accuracy: 0.9895 - val_loss: 0.0107 - val_accuracy: 0.9954\n",
      "Epoch 11/20\n",
      "159988/159988 [==============================] - 17s 105us/step - loss: 0.0218 - accuracy: 0.9913 - val_loss: 0.0152 - val_accuracy: 0.9891\n",
      "Epoch 12/20\n",
      "159988/159988 [==============================] - 18s 110us/step - loss: 0.0181 - accuracy: 0.9928 - val_loss: 0.0135 - val_accuracy: 0.9927\n",
      "Epoch 13/20\n",
      "159988/159988 [==============================] - 17s 106us/step - loss: 0.0166 - accuracy: 0.9932 - val_loss: 0.0193 - val_accuracy: 0.9901\n",
      "Epoch 14/20\n",
      "159988/159988 [==============================] - 17s 108us/step - loss: 0.0151 - accuracy: 0.9938 - val_loss: 0.0054 - val_accuracy: 0.9989\n",
      "Epoch 15/20\n",
      "159988/159988 [==============================] - 18s 110us/step - loss: 0.0147 - accuracy: 0.9938 - val_loss: 0.0065 - val_accuracy: 0.9975\n",
      "Epoch 16/20\n",
      "159988/159988 [==============================] - 18s 114us/step - loss: 0.0131 - accuracy: 0.9945 - val_loss: 0.0064 - val_accuracy: 0.9968\n",
      "Epoch 17/20\n",
      "159988/159988 [==============================] - 16s 100us/step - loss: 0.0133 - accuracy: 0.9945 - val_loss: 0.0136 - val_accuracy: 0.9924\n",
      "Epoch 18/20\n",
      "159988/159988 [==============================] - 17s 104us/step - loss: 0.0123 - accuracy: 0.9945 - val_loss: 0.0051 - val_accuracy: 0.9980\n",
      "Epoch 19/20\n",
      "159988/159988 [==============================] - 18s 110us/step - loss: 0.0126 - accuracy: 0.9944 - val_loss: 0.0067 - val_accuracy: 0.9963\n",
      "Epoch 20/20\n",
      "159988/159988 [==============================] - 17s 104us/step - loss: 0.0121 - accuracy: 0.9947 - val_loss: 0.0061 - val_accuracy: 0.9960\n"
     ]
    }
   ],
   "source": [
    "history4 = model4.fit(X_train, Y_train, batch_size=64, validation_data=(X_test, Y_test), epochs=20)"
   ]
  },
  {
   "cell_type": "code",
   "execution_count": 87,
   "metadata": {},
   "outputs": [
    {
     "name": "stdout",
     "output_type": "stream",
     "text": [
      "39997/39997 [==============================] - 2s 48us/step\n",
      "99.59747195243835\n"
     ]
    }
   ],
   "source": [
    "acc4 = model4.evaluate(X_test, Y_test)\n",
    "print((acc4[1] * 100.0))"
   ]
  },
  {
   "cell_type": "code",
   "execution_count": 88,
   "metadata": {},
   "outputs": [
    {
     "data": {
      "image/png": "[encoded data removed]",
      "text/plain": [
       "<Figure size 432x288 with 2 Axes>"
      ]
     },
     "metadata": {
      "needs_background": "light"
     },
     "output_type": "display_data"
    }
   ],
   "source": [
    "summarize_diagnostics(history4)"
   ]
  },
  {
   "cell_type": "markdown",
   "metadata": {},
   "source": [
    "# change optimizer = Adagrad and batch_size=1024"
   ]
  },
  {
   "cell_type": "code",
   "execution_count": 60,
   "metadata": {},
   "outputs": [],
   "source": [
    "model1.compile(loss='binary_crossentropy', optimizer='Adagrad', metrics=['accuracy'])"
   ]
  },
  {
   "cell_type": "code",
   "execution_count": 61,
   "metadata": {},
   "outputs": [
    {
     "name": "stdout",
     "output_type": "stream",
     "text": [
      "Train on 159988 samples, validate on 39997 samples\n",
      "Epoch 1/100\n",
      "159988/159988 [==============================] - 7s 47us/step - loss: 0.6669 - accuracy: 0.5542 - val_loss: 0.6941 - val_accuracy: 0.5013\n",
      "Epoch 2/100\n",
      "159988/159988 [==============================] - 7s 46us/step - loss: 0.6579 - accuracy: 0.5629 - val_loss: 0.6948 - val_accuracy: 0.5013\n",
      "Epoch 3/100\n",
      "159988/159988 [==============================] - 7s 45us/step - loss: 0.6550 - accuracy: 0.5649 - val_loss: 0.6950 - val_accuracy: 0.5013\n",
      "Epoch 4/100\n",
      "159988/159988 [==============================] - 7s 46us/step - loss: 0.6537 - accuracy: 0.5656 - val_loss: 0.6949 - val_accuracy: 0.5013\n",
      "Epoch 5/100\n",
      "159988/159988 [==============================] - 7s 46us/step - loss: 0.6524 - accuracy: 0.5678 - val_loss: 0.6950 - val_accuracy: 0.5013\n",
      "Epoch 6/100\n",
      "159988/159988 [==============================] - 7s 44us/step - loss: 0.6521 - accuracy: 0.5676 - val_loss: 0.6952 - val_accuracy: 0.5013\n",
      "Epoch 7/100\n",
      "159988/159988 [==============================] - 7s 46us/step - loss: 0.6520 - accuracy: 0.5666 - val_loss: 0.6955 - val_accuracy: 0.5013\n",
      "Epoch 8/100\n",
      "159988/159988 [==============================] - 7s 45us/step - loss: 0.6514 - accuracy: 0.5675 - val_loss: 0.6958 - val_accuracy: 0.5013\n",
      "Epoch 9/100\n",
      "159988/159988 [==============================] - 7s 47us/step - loss: 0.6513 - accuracy: 0.5684 - val_loss: 0.6953 - val_accuracy: 0.5013\n",
      "Epoch 10/100\n",
      "159988/159988 [==============================] - 7s 41us/step - loss: 0.6507 - accuracy: 0.5697 - val_loss: 0.6951 - val_accuracy: 0.5013\n",
      "Epoch 11/100\n",
      "159988/159988 [==============================] - 7s 45us/step - loss: 0.6503 - accuracy: 0.5704 - val_loss: 0.6947 - val_accuracy: 0.5013\n",
      "Epoch 12/100\n",
      "159988/159988 [==============================] - 7s 46us/step - loss: 0.6499 - accuracy: 0.5702 - val_loss: 0.6951 - val_accuracy: 0.5013\n",
      "Epoch 13/100\n",
      "159988/159988 [==============================] - 7s 44us/step - loss: 0.6501 - accuracy: 0.5701 - val_loss: 0.6955 - val_accuracy: 0.5013\n",
      "Epoch 14/100\n",
      "159988/159988 [==============================] - 7s 44us/step - loss: 0.6500 - accuracy: 0.5698 - val_loss: 0.6952 - val_accuracy: 0.5013\n",
      "Epoch 15/100\n",
      "159988/159988 [==============================] - 7s 46us/step - loss: 0.6499 - accuracy: 0.5704 - val_loss: 0.6954 - val_accuracy: 0.5013\n",
      "Epoch 16/100\n",
      "159988/159988 [==============================] - 7s 45us/step - loss: 0.6492 - accuracy: 0.5723 - val_loss: 0.6953 - val_accuracy: 0.5013\n",
      "Epoch 17/100\n",
      "159988/159988 [==============================] - 7s 47us/step - loss: 0.6496 - accuracy: 0.5700 - val_loss: 0.6951 - val_accuracy: 0.5013\n",
      "Epoch 18/100\n",
      "159988/159988 [==============================] - 8s 47us/step - loss: 0.6493 - accuracy: 0.5714 - val_loss: 0.6948 - val_accuracy: 0.5275\n",
      "Epoch 19/100\n",
      "159988/159988 [==============================] - 7s 45us/step - loss: 0.6494 - accuracy: 0.5716 - val_loss: 0.6953 - val_accuracy: 0.5013\n",
      "Epoch 20/100\n",
      "159988/159988 [==============================] - 7s 45us/step - loss: 0.6493 - accuracy: 0.5710 - val_loss: 0.6956 - val_accuracy: 0.5013\n",
      "Epoch 21/100\n",
      "159988/159988 [==============================] - 7s 46us/step - loss: 0.6488 - accuracy: 0.5720 - val_loss: 0.6954 - val_accuracy: 0.5236\n",
      "Epoch 22/100\n",
      "159988/159988 [==============================] - 7s 46us/step - loss: 0.6489 - accuracy: 0.5717 - val_loss: 0.6955 - val_accuracy: 0.5279\n",
      "Epoch 23/100\n",
      "159988/159988 [==============================] - 7s 44us/step - loss: 0.6489 - accuracy: 0.5717 - val_loss: 0.6956 - val_accuracy: 0.5296\n",
      "Epoch 24/100\n",
      "159988/159988 [==============================] - 8s 47us/step - loss: 0.6486 - accuracy: 0.5726 - val_loss: 0.6953 - val_accuracy: 0.5343\n",
      "Epoch 25/100\n",
      "159988/159988 [==============================] - 7s 46us/step - loss: 0.6486 - accuracy: 0.5723 - val_loss: 0.6947 - val_accuracy: 0.5307\n",
      "Epoch 26/100\n",
      "159988/159988 [==============================] - 7s 45us/step - loss: 0.6491 - accuracy: 0.5714 - val_loss: 0.6949 - val_accuracy: 0.5271\n",
      "Epoch 27/100\n",
      "159988/159988 [==============================] - 8s 47us/step - loss: 0.6485 - accuracy: 0.5725 - val_loss: 0.6947 - val_accuracy: 0.5250\n",
      "Epoch 28/100\n",
      "159988/159988 [==============================] - 7s 44us/step - loss: 0.6480 - accuracy: 0.5741 - val_loss: 0.6944 - val_accuracy: 0.5248\n",
      "Epoch 29/100\n",
      "159988/159988 [==============================] - 7s 46us/step - loss: 0.6481 - accuracy: 0.5735 - val_loss: 0.6952 - val_accuracy: 0.5315\n",
      "Epoch 30/100\n",
      "159988/159988 [==============================] - 7s 44us/step - loss: 0.6481 - accuracy: 0.5739 - val_loss: 0.6947 - val_accuracy: 0.5300\n",
      "Epoch 31/100\n",
      "159988/159988 [==============================] - 7s 42us/step - loss: 0.6479 - accuracy: 0.5736 - val_loss: 0.6947 - val_accuracy: 0.5282\n",
      "Epoch 32/100\n",
      "159988/159988 [==============================] - 7s 45us/step - loss: 0.6477 - accuracy: 0.5748 - val_loss: 0.6942 - val_accuracy: 0.5260\n",
      "Epoch 33/100\n",
      "159988/159988 [==============================] - 7s 45us/step - loss: 0.6477 - accuracy: 0.5751 - val_loss: 0.6950 - val_accuracy: 0.5297\n",
      "Epoch 34/100\n",
      "159988/159988 [==============================] - 7s 46us/step - loss: 0.6474 - accuracy: 0.5752 - val_loss: 0.6938 - val_accuracy: 0.5430\n",
      "Epoch 35/100\n",
      "159988/159988 [==============================] - 7s 44us/step - loss: 0.6477 - accuracy: 0.5737 - val_loss: 0.6942 - val_accuracy: 0.5452\n",
      "Epoch 36/100\n",
      "159988/159988 [==============================] - 7s 46us/step - loss: 0.6477 - accuracy: 0.5755 - val_loss: 0.6940 - val_accuracy: 0.5424\n",
      "Epoch 37/100\n",
      "159988/159988 [==============================] - 7s 45us/step - loss: 0.6471 - accuracy: 0.5753 - val_loss: 0.6932 - val_accuracy: 0.5344\n",
      "Epoch 38/100\n",
      "159988/159988 [==============================] - 7s 44us/step - loss: 0.6470 - accuracy: 0.5773 - val_loss: 0.6917 - val_accuracy: 0.5431\n",
      "Epoch 39/100\n",
      "159988/159988 [==============================] - 7s 45us/step - loss: 0.6468 - accuracy: 0.5781 - val_loss: 0.6909 - val_accuracy: 0.5689\n",
      "Epoch 40/100\n",
      "159988/159988 [==============================] - 7s 47us/step - loss: 0.6471 - accuracy: 0.5765 - val_loss: 0.6913 - val_accuracy: 0.5625\n",
      "Epoch 41/100\n",
      "159988/159988 [==============================] - 7s 46us/step - loss: 0.6464 - accuracy: 0.5782 - val_loss: 0.6903 - val_accuracy: 0.5713\n",
      "Epoch 42/100\n",
      "159988/159988 [==============================] - 7s 44us/step - loss: 0.6466 - accuracy: 0.5771 - val_loss: 0.6908 - val_accuracy: 0.5592\n",
      "Epoch 43/100\n",
      "159988/159988 [==============================] - 7s 43us/step - loss: 0.6468 - accuracy: 0.5769 - val_loss: 0.6902 - val_accuracy: 0.5792\n",
      "Epoch 44/100\n",
      "159988/159988 [==============================] - 7s 45us/step - loss: 0.6463 - accuracy: 0.5777 - val_loss: 0.6893 - val_accuracy: 0.5813\n",
      "Epoch 45/100\n",
      "159988/159988 [==============================] - 7s 45us/step - loss: 0.6462 - accuracy: 0.5793 - val_loss: 0.6890 - val_accuracy: 0.5778\n",
      "Epoch 46/100\n",
      "159988/159988 [==============================] - 7s 45us/step - loss: 0.6463 - accuracy: 0.5791 - val_loss: 0.6897 - val_accuracy: 0.5918\n",
      "Epoch 47/100\n",
      "159988/159988 [==============================] - 7s 46us/step - loss: 0.6456 - accuracy: 0.5797 - val_loss: 0.6889 - val_accuracy: 0.6044\n",
      "Epoch 48/100\n",
      "159988/159988 [==============================] - 7s 46us/step - loss: 0.6461 - accuracy: 0.5790 - val_loss: 0.6889 - val_accuracy: 0.5898\n",
      "Epoch 49/100\n",
      "159988/159988 [==============================] - 7s 47us/step - loss: 0.6460 - accuracy: 0.5788 - val_loss: 0.6883 - val_accuracy: 0.5535\n",
      "Epoch 50/100\n",
      "159988/159988 [==============================] - 7s 44us/step - loss: 0.6455 - accuracy: 0.5808 - val_loss: 0.6884 - val_accuracy: 0.5599\n",
      "Epoch 51/100\n",
      "159988/159988 [==============================] - 7s 45us/step - loss: 0.6455 - accuracy: 0.5800 - val_loss: 0.6886 - val_accuracy: 0.5646\n",
      "Epoch 52/100\n",
      "159988/159988 [==============================] - 7s 44us/step - loss: 0.6460 - accuracy: 0.5797 - val_loss: 0.6883 - val_accuracy: 0.6034\n",
      "Epoch 53/100\n",
      "159988/159988 [==============================] - 7s 43us/step - loss: 0.6452 - accuracy: 0.5816 - val_loss: 0.6878 - val_accuracy: 0.5509\n",
      "Epoch 54/100\n",
      "159988/159988 [==============================] - 8s 48us/step - loss: 0.6453 - accuracy: 0.5799 - val_loss: 0.6882 - val_accuracy: 0.5576\n",
      "Epoch 55/100\n",
      "159988/159988 [==============================] - 7s 45us/step - loss: 0.6452 - accuracy: 0.5820 - val_loss: 0.6877 - val_accuracy: 0.5579\n",
      "Epoch 56/100\n",
      "159988/159988 [==============================] - 7s 45us/step - loss: 0.6446 - accuracy: 0.5819 - val_loss: 0.6870 - val_accuracy: 0.5225\n",
      "Epoch 57/100\n",
      "159988/159988 [==============================] - 7s 46us/step - loss: 0.6454 - accuracy: 0.5815 - val_loss: 0.6876 - val_accuracy: 0.5525\n",
      "Epoch 58/100\n",
      "159988/159988 [==============================] - 7s 46us/step - loss: 0.6452 - accuracy: 0.5821 - val_loss: 0.6873 - val_accuracy: 0.5496\n",
      "Epoch 59/100\n",
      "159988/159988 [==============================] - 7s 47us/step - loss: 0.6450 - accuracy: 0.5825 - val_loss: 0.6872 - val_accuracy: 0.5534\n",
      "Epoch 60/100\n",
      "159988/159988 [==============================] - 7s 43us/step - loss: 0.6443 - accuracy: 0.5833 - val_loss: 0.6868 - val_accuracy: 0.5300\n",
      "Epoch 61/100\n",
      "159988/159988 [==============================] - 7s 44us/step - loss: 0.6443 - accuracy: 0.5841 - val_loss: 0.6869 - val_accuracy: 0.5514\n",
      "Epoch 62/100\n",
      "159988/159988 [==============================] - 7s 45us/step - loss: 0.6444 - accuracy: 0.5844 - val_loss: 0.6865 - val_accuracy: 0.5591\n",
      "Epoch 63/100\n",
      "159988/159988 [==============================] - 7s 46us/step - loss: 0.6444 - accuracy: 0.5824 - val_loss: 0.6866 - val_accuracy: 0.5621\n",
      "Epoch 64/100\n",
      "159988/159988 [==============================] - 7s 45us/step - loss: 0.6447 - accuracy: 0.5827 - val_loss: 0.6862 - val_accuracy: 0.5541\n",
      "Epoch 65/100\n",
      "159988/159988 [==============================] - 8s 47us/step - loss: 0.6439 - accuracy: 0.5847 - val_loss: 0.6856 - val_accuracy: 0.5547\n",
      "Epoch 66/100\n",
      "159988/159988 [==============================] - 7s 43us/step - loss: 0.6440 - accuracy: 0.5840 - val_loss: 0.6863 - val_accuracy: 0.5677\n",
      "Epoch 67/100\n",
      "159988/159988 [==============================] - 7s 46us/step - loss: 0.6441 - accuracy: 0.5841 - val_loss: 0.6851 - val_accuracy: 0.5577\n",
      "Epoch 68/100\n",
      "159988/159988 [==============================] - 7s 45us/step - loss: 0.6443 - accuracy: 0.5843 - val_loss: 0.6855 - val_accuracy: 0.5712\n",
      "Epoch 69/100\n",
      "159988/159988 [==============================] - 7s 45us/step - loss: 0.6437 - accuracy: 0.5855 - val_loss: 0.6853 - val_accuracy: 0.5740\n",
      "Epoch 70/100\n",
      "159988/159988 [==============================] - 7s 44us/step - loss: 0.6439 - accuracy: 0.5847 - val_loss: 0.6854 - val_accuracy: 0.5727\n",
      "Epoch 71/100\n",
      "159988/159988 [==============================] - 7s 46us/step - loss: 0.6434 - accuracy: 0.5862 - val_loss: 0.6846 - val_accuracy: 0.5538\n",
      "Epoch 72/100\n",
      "159988/159988 [==============================] - 8s 48us/step - loss: 0.6432 - accuracy: 0.5871 - val_loss: 0.6841 - val_accuracy: 0.5616\n",
      "Epoch 73/100\n",
      "159988/159988 [==============================] - 7s 44us/step - loss: 0.6431 - accuracy: 0.5855 - val_loss: 0.6841 - val_accuracy: 0.5575\n",
      "Epoch 74/100\n",
      "159988/159988 [==============================] - 7s 45us/step - loss: 0.6429 - accuracy: 0.5870 - val_loss: 0.6847 - val_accuracy: 0.5650\n",
      "Epoch 75/100\n",
      "159988/159988 [==============================] - 8s 48us/step - loss: 0.6433 - accuracy: 0.5859 - val_loss: 0.6839 - val_accuracy: 0.5722\n",
      "Epoch 76/100\n",
      "159988/159988 [==============================] - 8s 48us/step - loss: 0.6432 - accuracy: 0.5867 - val_loss: 0.6835 - val_accuracy: 0.5586\n",
      "Epoch 77/100\n",
      "159988/159988 [==============================] - 7s 44us/step - loss: 0.6429 - accuracy: 0.5863 - val_loss: 0.6842 - val_accuracy: 0.5723\n",
      "Epoch 78/100\n",
      "159988/159988 [==============================] - 7s 42us/step - loss: 0.6426 - accuracy: 0.5886 - val_loss: 0.6830 - val_accuracy: 0.5841\n",
      "Epoch 79/100\n",
      "159988/159988 [==============================] - 7s 42us/step - loss: 0.6428 - accuracy: 0.5883 - val_loss: 0.6832 - val_accuracy: 0.5837\n",
      "Epoch 80/100\n",
      "159988/159988 [==============================] - 7s 46us/step - loss: 0.6426 - accuracy: 0.5879 - val_loss: 0.6834 - val_accuracy: 0.5906\n",
      "Epoch 81/100\n",
      "159988/159988 [==============================] - 7s 46us/step - loss: 0.6424 - accuracy: 0.5882 - val_loss: 0.6829 - val_accuracy: 0.5784\n",
      "Epoch 82/100\n",
      "159988/159988 [==============================] - 7s 46us/step - loss: 0.6423 - accuracy: 0.5882 - val_loss: 0.6821 - val_accuracy: 0.5742\n",
      "Epoch 83/100\n",
      "159988/159988 [==============================] - 8s 47us/step - loss: 0.6420 - accuracy: 0.5901 - val_loss: 0.6816 - val_accuracy: 0.5892\n",
      "Epoch 84/100\n",
      "159988/159988 [==============================] - 7s 43us/step - loss: 0.6416 - accuracy: 0.5898 - val_loss: 0.6815 - val_accuracy: 0.5684\n",
      "Epoch 85/100\n",
      "159988/159988 [==============================] - 7s 43us/step - loss: 0.6427 - accuracy: 0.5890 - val_loss: 0.6809 - val_accuracy: 0.5768\n",
      "Epoch 86/100\n",
      "159988/159988 [==============================] - 7s 45us/step - loss: 0.6419 - accuracy: 0.5895 - val_loss: 0.6813 - val_accuracy: 0.5767\n",
      "Epoch 87/100\n",
      "159988/159988 [==============================] - 7s 44us/step - loss: 0.6415 - accuracy: 0.5904 - val_loss: 0.6811 - val_accuracy: 0.5832\n",
      "Epoch 88/100\n",
      "159988/159988 [==============================] - 7s 43us/step - loss: 0.6415 - accuracy: 0.5912 - val_loss: 0.6813 - val_accuracy: 0.5848\n",
      "Epoch 89/100\n",
      "159988/159988 [==============================] - 7s 42us/step - loss: 0.6414 - accuracy: 0.5915 - val_loss: 0.6801 - val_accuracy: 0.5825\n",
      "Epoch 90/100\n",
      "159988/159988 [==============================] - 7s 41us/step - loss: 0.6409 - accuracy: 0.5919 - val_loss: 0.6803 - val_accuracy: 0.5817\n",
      "Epoch 91/100\n",
      "159988/159988 [==============================] - 7s 45us/step - loss: 0.6409 - accuracy: 0.5926 - val_loss: 0.6802 - val_accuracy: 0.5892\n",
      "Epoch 92/100\n",
      "159988/159988 [==============================] - 7s 46us/step - loss: 0.6410 - accuracy: 0.5915 - val_loss: 0.6797 - val_accuracy: 0.5950\n",
      "Epoch 93/100\n",
      "159988/159988 [==============================] - 7s 45us/step - loss: 0.6408 - accuracy: 0.5929 - val_loss: 0.6794 - val_accuracy: 0.5897\n",
      "Epoch 94/100\n",
      "159988/159988 [==============================] - 7s 45us/step - loss: 0.6411 - accuracy: 0.5925 - val_loss: 0.6790 - val_accuracy: 0.5832\n",
      "Epoch 95/100\n",
      "159988/159988 [==============================] - 7s 44us/step - loss: 0.6409 - accuracy: 0.5938 - val_loss: 0.6787 - val_accuracy: 0.5840\n",
      "Epoch 96/100\n",
      "159988/159988 [==============================] - 7s 45us/step - loss: 0.6402 - accuracy: 0.5934 - val_loss: 0.6782 - val_accuracy: 0.6129\n",
      "Epoch 97/100\n",
      "159988/159988 [==============================] - 7s 45us/step - loss: 0.6404 - accuracy: 0.5931 - val_loss: 0.6779 - val_accuracy: 0.6077\n",
      "Epoch 98/100\n",
      "159988/159988 [==============================] - 7s 43us/step - loss: 0.6398 - accuracy: 0.5951 - val_loss: 0.6772 - val_accuracy: 0.6077\n",
      "Epoch 99/100\n",
      "159988/159988 [==============================] - 7s 45us/step - loss: 0.6401 - accuracy: 0.5941 - val_loss: 0.6776 - val_accuracy: 0.5895\n",
      "Epoch 100/100\n",
      "159988/159988 [==============================] - 7s 46us/step - loss: 0.6403 - accuracy: 0.5935 - val_loss: 0.6761 - val_accuracy: 0.5908\n"
     ]
    }
   ],
   "source": [
    "history1_3 = model1.fit(X_train, Y_train, batch_size=1024, validation_data=(X_test, Y_test), epochs=100)"
   ]
  },
  {
   "cell_type": "code",
   "execution_count": 66,
   "metadata": {},
   "outputs": [
    {
     "name": "stdout",
     "output_type": "stream",
     "text": [
      "39997/39997 [==============================] - 2s 46us/step\n",
      "59.08192992210388\n"
     ]
    }
   ],
   "source": [
    "acc1_3 = model1.evaluate(X_test, Y_test)\n",
    "print((acc1_3[1] * 100.0))"
   ]
  },
  {
   "cell_type": "code",
   "execution_count": 64,
   "metadata": {},
   "outputs": [
    {
     "data": {
      "image/png": "[encoded data removed]",
      "text/plain": [
       "<Figure size 432x288 with 2 Axes>"
      ]
     },
     "metadata": {
      "needs_background": "light"
     },
     "output_type": "display_data"
    }
   ],
   "source": [
    "summarize_diagnostics(history1_3)"
   ]
  },
  {
   "cell_type": "markdown",
   "metadata": {},
   "source": [
    "# change optimizer=SGD and batch_size=512"
   ]
  },
  {
   "cell_type": "code",
   "execution_count": 68,
   "metadata": {},
   "outputs": [],
   "source": [
    "model1.compile(loss='binary_crossentropy', optimizer='SGD', metrics=['accuracy'])"
   ]
  },
  {
   "cell_type": "code",
   "execution_count": 69,
   "metadata": {},
   "outputs": [
    {
     "name": "stdout",
     "output_type": "stream",
     "text": [
      "Train on 159988 samples, validate on 39997 samples\n",
      "Epoch 1/100\n",
      "159988/159988 [==============================] - 8s 52us/step - loss: 0.6955 - accuracy: 0.4998 - val_loss: 0.6940 - val_accuracy: 0.5013\n",
      "Epoch 2/100\n",
      "159988/159988 [==============================] - 8s 49us/step - loss: 0.6937 - accuracy: 0.4993 - val_loss: 0.6933 - val_accuracy: 0.5013\n",
      "Epoch 3/100\n",
      "159988/159988 [==============================] - 8s 50us/step - loss: 0.6933 - accuracy: 0.4996 - val_loss: 0.6932 - val_accuracy: 0.5013\n",
      "Epoch 4/100\n",
      "159988/159988 [==============================] - 7s 46us/step - loss: 0.6932 - accuracy: 0.4994 - val_loss: 0.6931 - val_accuracy: 0.5013\n",
      "Epoch 5/100\n",
      "159988/159988 [==============================] - 8s 49us/step - loss: 0.6932 - accuracy: 0.4996 - val_loss: 0.6931 - val_accuracy: 0.5013\n",
      "Epoch 6/100\n",
      "159988/159988 [==============================] - 8s 48us/step - loss: 0.6932 - accuracy: 0.4995 - val_loss: 0.6931 - val_accuracy: 0.5013\n",
      "Epoch 7/100\n",
      "159988/159988 [==============================] - 8s 50us/step - loss: 0.6932 - accuracy: 0.4984 - val_loss: 0.6931 - val_accuracy: 0.4987\n",
      "Epoch 8/100\n",
      "159988/159988 [==============================] - 8s 49us/step - loss: 0.6932 - accuracy: 0.4993 - val_loss: 0.6931 - val_accuracy: 0.4987\n",
      "Epoch 9/100\n",
      "159988/159988 [==============================] - 8s 49us/step - loss: 0.6932 - accuracy: 0.4968 - val_loss: 0.6931 - val_accuracy: 0.4987\n",
      "Epoch 10/100\n",
      "159988/159988 [==============================] - 7s 46us/step - loss: 0.6932 - accuracy: 0.4997 - val_loss: 0.6932 - val_accuracy: 0.4987\n",
      "Epoch 11/100\n",
      "159988/159988 [==============================] - 8s 51us/step - loss: 0.6932 - accuracy: 0.4987 - val_loss: 0.6932 - val_accuracy: 0.4987\n",
      "Epoch 12/100\n",
      "159988/159988 [==============================] - 8s 48us/step - loss: 0.6932 - accuracy: 0.5003 - val_loss: 0.6932 - val_accuracy: 0.4987\n",
      "Epoch 13/100\n",
      "159988/159988 [==============================] - 7s 47us/step - loss: 0.6932 - accuracy: 0.4997 - val_loss: 0.6932 - val_accuracy: 0.4987\n",
      "Epoch 14/100\n",
      "159988/159988 [==============================] - 7s 43us/step - loss: 0.6932 - accuracy: 0.4978 - val_loss: 0.6932 - val_accuracy: 0.4987\n",
      "Epoch 15/100\n",
      "159988/159988 [==============================] - 8s 48us/step - loss: 0.6932 - accuracy: 0.5005 - val_loss: 0.6931 - val_accuracy: 0.4987\n",
      "Epoch 16/100\n",
      "159988/159988 [==============================] - 8s 50us/step - loss: 0.6932 - accuracy: 0.4996 - val_loss: 0.6932 - val_accuracy: 0.4987\n",
      "Epoch 17/100\n",
      "159988/159988 [==============================] - 8s 50us/step - loss: 0.6932 - accuracy: 0.5004 - val_loss: 0.6931 - val_accuracy: 0.4987\n",
      "Epoch 18/100\n",
      "159988/159988 [==============================] - 8s 48us/step - loss: 0.6932 - accuracy: 0.5003 - val_loss: 0.6931 - val_accuracy: 0.4987\n",
      "Epoch 19/100\n",
      "159988/159988 [==============================] - 8s 50us/step - loss: 0.6932 - accuracy: 0.5004 - val_loss: 0.6931 - val_accuracy: 0.5013\n",
      "Epoch 20/100\n",
      "159988/159988 [==============================] - 8s 50us/step - loss: 0.6932 - accuracy: 0.4985 - val_loss: 0.6931 - val_accuracy: 0.4987\n",
      "Epoch 21/100\n",
      "159988/159988 [==============================] - 8s 50us/step - loss: 0.6931 - accuracy: 0.4983 - val_loss: 0.6931 - val_accuracy: 0.4987\n",
      "Epoch 22/100\n",
      "159988/159988 [==============================] - 8s 50us/step - loss: 0.6932 - accuracy: 0.5003 - val_loss: 0.6931 - val_accuracy: 0.4987\n",
      "Epoch 23/100\n",
      "159988/159988 [==============================] - 8s 48us/step - loss: 0.6932 - accuracy: 0.4999 - val_loss: 0.6931 - val_accuracy: 0.4987\n",
      "Epoch 24/100\n",
      "159988/159988 [==============================] - 8s 49us/step - loss: 0.6931 - accuracy: 0.4997 - val_loss: 0.6931 - val_accuracy: 0.4987\n",
      "Epoch 25/100\n",
      "159988/159988 [==============================] - 8s 50us/step - loss: 0.6931 - accuracy: 0.5003 - val_loss: 0.6931 - val_accuracy: 0.4987\n",
      "Epoch 26/100\n",
      "159988/159988 [==============================] - 8s 49us/step - loss: 0.6932 - accuracy: 0.4990 - val_loss: 0.6931 - val_accuracy: 0.4987\n",
      "Epoch 27/100\n",
      "159988/159988 [==============================] - 7s 47us/step - loss: 0.6931 - accuracy: 0.4983 - val_loss: 0.6931 - val_accuracy: 0.4987\n",
      "Epoch 28/100\n",
      "159988/159988 [==============================] - 8s 51us/step - loss: 0.6932 - accuracy: 0.4989 - val_loss: 0.6932 - val_accuracy: 0.4987\n",
      "Epoch 29/100\n",
      "159988/159988 [==============================] - 8s 49us/step - loss: 0.6932 - accuracy: 0.5001 - val_loss: 0.6931 - val_accuracy: 0.4987\n",
      "Epoch 30/100\n",
      "159988/159988 [==============================] - 7s 46us/step - loss: 0.6932 - accuracy: 0.4982 - val_loss: 0.6932 - val_accuracy: 0.4987\n",
      "Epoch 31/100\n",
      "159988/159988 [==============================] - 8s 51us/step - loss: 0.6931 - accuracy: 0.5000 - val_loss: 0.6932 - val_accuracy: 0.4987\n",
      "Epoch 32/100\n",
      "159988/159988 [==============================] - 8s 51us/step - loss: 0.6932 - accuracy: 0.5003 - val_loss: 0.6932 - val_accuracy: 0.4987\n",
      "Epoch 33/100\n",
      "159988/159988 [==============================] - 8s 50us/step - loss: 0.6932 - accuracy: 0.5000 - val_loss: 0.6932 - val_accuracy: 0.4987\n",
      "Epoch 34/100\n",
      "159988/159988 [==============================] - 8s 52us/step - loss: 0.6932 - accuracy: 0.4998 - val_loss: 0.6931 - val_accuracy: 0.4987\n",
      "Epoch 35/100\n",
      "159988/159988 [==============================] - 7s 46us/step - loss: 0.6932 - accuracy: 0.4984 - val_loss: 0.6932 - val_accuracy: 0.4987\n",
      "Epoch 36/100\n",
      "159988/159988 [==============================] - 8s 48us/step - loss: 0.6932 - accuracy: 0.4997 - val_loss: 0.6931 - val_accuracy: 0.4987\n",
      "Epoch 37/100\n",
      "159988/159988 [==============================] - 8s 49us/step - loss: 0.6931 - accuracy: 0.4998 - val_loss: 0.6931 - val_accuracy: 0.4987\n",
      "Epoch 38/100\n",
      "159988/159988 [==============================] - 8s 52us/step - loss: 0.6932 - accuracy: 0.4998 - val_loss: 0.6931 - val_accuracy: 0.4987\n",
      "Epoch 39/100\n",
      "159988/159988 [==============================] - 8s 49us/step - loss: 0.6931 - accuracy: 0.4994 - val_loss: 0.6931 - val_accuracy: 0.4987\n",
      "Epoch 40/100\n",
      "159988/159988 [==============================] - 8s 50us/step - loss: 0.6932 - accuracy: 0.4973 - val_loss: 0.6932 - val_accuracy: 0.4987\n",
      "Epoch 41/100\n",
      "159988/159988 [==============================] - 8s 47us/step - loss: 0.6931 - accuracy: 0.4998 - val_loss: 0.6931 - val_accuracy: 0.4987\n",
      "Epoch 42/100\n",
      "159988/159988 [==============================] - 7s 47us/step - loss: 0.6932 - accuracy: 0.5004 - val_loss: 0.6931 - val_accuracy: 0.4987\n",
      "Epoch 43/100\n",
      "159988/159988 [==============================] - 8s 51us/step - loss: 0.6932 - accuracy: 0.5001 - val_loss: 0.6931 - val_accuracy: 0.4987\n",
      "Epoch 44/100\n",
      "159988/159988 [==============================] - 8s 50us/step - loss: 0.6932 - accuracy: 0.4997 - val_loss: 0.6932 - val_accuracy: 0.4987\n",
      "Epoch 45/100\n",
      "159988/159988 [==============================] - 7s 46us/step - loss: 0.6932 - accuracy: 0.5001 - val_loss: 0.6932 - val_accuracy: 0.4987\n",
      "Epoch 46/100\n",
      "159988/159988 [==============================] - 8s 49us/step - loss: 0.6931 - accuracy: 0.4996 - val_loss: 0.6932 - val_accuracy: 0.4987\n",
      "Epoch 47/100\n",
      "159988/159988 [==============================] - 8s 49us/step - loss: 0.6932 - accuracy: 0.5003 - val_loss: 0.6932 - val_accuracy: 0.4987\n",
      "Epoch 48/100\n",
      "159988/159988 [==============================] - 8s 50us/step - loss: 0.6931 - accuracy: 0.5002 - val_loss: 0.6931 - val_accuracy: 0.4987\n",
      "Epoch 49/100\n",
      "159988/159988 [==============================] - 8s 47us/step - loss: 0.6932 - accuracy: 0.5003 - val_loss: 0.6931 - val_accuracy: 0.4987\n",
      "Epoch 50/100\n",
      "159988/159988 [==============================] - 8s 47us/step - loss: 0.6932 - accuracy: 0.5003 - val_loss: 0.6931 - val_accuracy: 0.4987\n",
      "Epoch 51/100\n",
      "159988/159988 [==============================] - 8s 49us/step - loss: 0.6932 - accuracy: 0.4987 - val_loss: 0.6931 - val_accuracy: 0.4987\n",
      "Epoch 52/100\n",
      "159988/159988 [==============================] - 9s 54us/step - loss: 0.6931 - accuracy: 0.5003 - val_loss: 0.6931 - val_accuracy: 0.4987\n",
      "Epoch 53/100\n",
      "159988/159988 [==============================] - 8s 50us/step - loss: 0.6932 - accuracy: 0.4997 - val_loss: 0.6931 - val_accuracy: 0.4987\n",
      "Epoch 54/100\n",
      "159988/159988 [==============================] - 8s 51us/step - loss: 0.6931 - accuracy: 0.5005 - val_loss: 0.6931 - val_accuracy: 0.4987\n",
      "Epoch 55/100\n",
      "159988/159988 [==============================] - 8s 49us/step - loss: 0.6932 - accuracy: 0.4982 - val_loss: 0.6931 - val_accuracy: 0.4987\n",
      "Epoch 56/100\n",
      "159988/159988 [==============================] - 8s 51us/step - loss: 0.6932 - accuracy: 0.5002 - val_loss: 0.6931 - val_accuracy: 0.4987\n",
      "Epoch 57/100\n",
      "159988/159988 [==============================] - 8s 49us/step - loss: 0.6931 - accuracy: 0.4988 - val_loss: 0.6931 - val_accuracy: 0.4987\n",
      "Epoch 58/100\n",
      "159988/159988 [==============================] - 8s 50us/step - loss: 0.6932 - accuracy: 0.4990 - val_loss: 0.6931 - val_accuracy: 0.4987\n",
      "Epoch 59/100\n",
      "159988/159988 [==============================] - 8s 50us/step - loss: 0.6932 - accuracy: 0.5003 - val_loss: 0.6932 - val_accuracy: 0.4987\n",
      "Epoch 60/100\n",
      "159988/159988 [==============================] - 8s 51us/step - loss: 0.6931 - accuracy: 0.5006 - val_loss: 0.6931 - val_accuracy: 0.4987\n",
      "Epoch 61/100\n",
      "159988/159988 [==============================] - 8s 48us/step - loss: 0.6932 - accuracy: 0.4986 - val_loss: 0.6932 - val_accuracy: 0.4987\n",
      "Epoch 62/100\n",
      "159988/159988 [==============================] - 8s 51us/step - loss: 0.6932 - accuracy: 0.5000 - val_loss: 0.6932 - val_accuracy: 0.4987\n",
      "Epoch 63/100\n",
      "159988/159988 [==============================] - 8s 50us/step - loss: 0.6932 - accuracy: 0.4993 - val_loss: 0.6932 - val_accuracy: 0.4987\n",
      "Epoch 64/100\n",
      "159988/159988 [==============================] - 8s 47us/step - loss: 0.6932 - accuracy: 0.5005 - val_loss: 0.6931 - val_accuracy: 0.4987\n",
      "Epoch 65/100\n",
      "159988/159988 [==============================] - 8s 48us/step - loss: 0.6931 - accuracy: 0.4994 - val_loss: 0.6931 - val_accuracy: 0.4987\n",
      "Epoch 66/100\n",
      "159988/159988 [==============================] - 8s 48us/step - loss: 0.6932 - accuracy: 0.4998 - val_loss: 0.6931 - val_accuracy: 0.4987\n",
      "Epoch 67/100\n",
      "159988/159988 [==============================] - 8s 48us/step - loss: 0.6932 - accuracy: 0.5002 - val_loss: 0.6931 - val_accuracy: 0.4987\n",
      "Epoch 68/100\n",
      "159988/159988 [==============================] - 8s 50us/step - loss: 0.6931 - accuracy: 0.4996 - val_loss: 0.6931 - val_accuracy: 0.4987\n",
      "Epoch 69/100\n",
      "159988/159988 [==============================] - 7s 46us/step - loss: 0.6932 - accuracy: 0.4988 - val_loss: 0.6932 - val_accuracy: 0.4987\n",
      "Epoch 70/100\n",
      "159988/159988 [==============================] - 8s 48us/step - loss: 0.6932 - accuracy: 0.5002 - val_loss: 0.6931 - val_accuracy: 0.4987\n",
      "Epoch 71/100\n",
      "159988/159988 [==============================] - 8s 50us/step - loss: 0.6932 - accuracy: 0.4998 - val_loss: 0.6931 - val_accuracy: 0.4987\n",
      "Epoch 72/100\n",
      "159988/159988 [==============================] - 8s 52us/step - loss: 0.6932 - accuracy: 0.5004 - val_loss: 0.6932 - val_accuracy: 0.4987\n",
      "Epoch 73/100\n",
      "159988/159988 [==============================] - 8s 49us/step - loss: 0.6932 - accuracy: 0.5001 - val_loss: 0.6932 - val_accuracy: 0.4987\n",
      "Epoch 74/100\n",
      "159988/159988 [==============================] - 8s 48us/step - loss: 0.6932 - accuracy: 0.5004 - val_loss: 0.6931 - val_accuracy: 0.4987\n",
      "Epoch 75/100\n",
      "159988/159988 [==============================] - 8s 50us/step - loss: 0.6931 - accuracy: 0.5004 - val_loss: 0.6931 - val_accuracy: 0.4987\n",
      "Epoch 76/100\n",
      "159988/159988 [==============================] - 8s 51us/step - loss: 0.6931 - accuracy: 0.4999 - val_loss: 0.6931 - val_accuracy: 0.4987\n",
      "Epoch 77/100\n",
      "159988/159988 [==============================] - 8s 49us/step - loss: 0.6931 - accuracy: 0.5010 - val_loss: 0.6931 - val_accuracy: 0.4987\n",
      "Epoch 78/100\n",
      "159988/159988 [==============================] - 8s 51us/step - loss: 0.6932 - accuracy: 0.4992 - val_loss: 0.6932 - val_accuracy: 0.4987\n",
      "Epoch 79/100\n",
      "159988/159988 [==============================] - 8s 50us/step - loss: 0.6932 - accuracy: 0.5001 - val_loss: 0.6932 - val_accuracy: 0.4987\n",
      "Epoch 80/100\n",
      "159988/159988 [==============================] - 8s 48us/step - loss: 0.6932 - accuracy: 0.4993 - val_loss: 0.6931 - val_accuracy: 0.4987\n",
      "Epoch 81/100\n",
      "159988/159988 [==============================] - 8s 50us/step - loss: 0.6932 - accuracy: 0.5004 - val_loss: 0.6931 - val_accuracy: 0.4987\n",
      "Epoch 82/100\n",
      "159988/159988 [==============================] - 8s 51us/step - loss: 0.6932 - accuracy: 0.5002 - val_loss: 0.6931 - val_accuracy: 0.4987\n",
      "Epoch 83/100\n",
      "159988/159988 [==============================] - 8s 50us/step - loss: 0.6932 - accuracy: 0.5002 - val_loss: 0.6931 - val_accuracy: 0.4987\n",
      "Epoch 84/100\n",
      "159988/159988 [==============================] - 8s 48us/step - loss: 0.6931 - accuracy: 0.4999 - val_loss: 0.6932 - val_accuracy: 0.4987\n",
      "Epoch 85/100\n",
      "159988/159988 [==============================] - 8s 51us/step - loss: 0.6932 - accuracy: 0.5001 - val_loss: 0.6932 - val_accuracy: 0.4987\n",
      "Epoch 86/100\n",
      "159988/159988 [==============================] - 7s 46us/step - loss: 0.6932 - accuracy: 0.5000 - val_loss: 0.6932 - val_accuracy: 0.4987\n",
      "Epoch 87/100\n",
      "159988/159988 [==============================] - 8s 50us/step - loss: 0.6931 - accuracy: 0.4988 - val_loss: 0.6932 - val_accuracy: 0.4987\n",
      "Epoch 88/100\n",
      "159988/159988 [==============================] - 8s 51us/step - loss: 0.6932 - accuracy: 0.4993 - val_loss: 0.6932 - val_accuracy: 0.4987\n",
      "Epoch 89/100\n",
      "159988/159988 [==============================] - 8s 48us/step - loss: 0.6931 - accuracy: 0.5007 - val_loss: 0.6931 - val_accuracy: 0.4987\n",
      "Epoch 90/100\n",
      "159988/159988 [==============================] - 8s 48us/step - loss: 0.6932 - accuracy: 0.4988 - val_loss: 0.6931 - val_accuracy: 0.4987\n",
      "Epoch 91/100\n",
      "159988/159988 [==============================] - 8s 51us/step - loss: 0.6932 - accuracy: 0.5003 - val_loss: 0.6931 - val_accuracy: 0.4987\n",
      "Epoch 92/100\n",
      "159988/159988 [==============================] - 8s 47us/step - loss: 0.6932 - accuracy: 0.4992 - val_loss: 0.6932 - val_accuracy: 0.4987\n",
      "Epoch 93/100\n",
      "159988/159988 [==============================] - 8s 48us/step - loss: 0.6932 - accuracy: 0.5005 - val_loss: 0.6931 - val_accuracy: 0.4987\n",
      "Epoch 94/100\n",
      "159988/159988 [==============================] - 8s 47us/step - loss: 0.6931 - accuracy: 0.4997 - val_loss: 0.6931 - val_accuracy: 0.4987\n",
      "Epoch 95/100\n",
      "159988/159988 [==============================] - 8s 47us/step - loss: 0.6931 - accuracy: 0.5000 - val_loss: 0.6931 - val_accuracy: 0.4987\n",
      "Epoch 96/100\n",
      "159988/159988 [==============================] - 8s 49us/step - loss: 0.6932 - accuracy: 0.4997 - val_loss: 0.6932 - val_accuracy: 0.4987\n",
      "Epoch 97/100\n",
      "159988/159988 [==============================] - 8s 49us/step - loss: 0.6932 - accuracy: 0.5004 - val_loss: 0.6932 - val_accuracy: 0.4987\n",
      "Epoch 98/100\n",
      "159988/159988 [==============================] - 8s 48us/step - loss: 0.6932 - accuracy: 0.5001 - val_loss: 0.6931 - val_accuracy: 0.4987\n",
      "Epoch 99/100\n",
      "159988/159988 [==============================] - 8s 51us/step - loss: 0.6932 - accuracy: 0.5001 - val_loss: 0.6931 - val_accuracy: 0.4987\n",
      "Epoch 100/100\n",
      "159988/159988 [==============================] - 8s 49us/step - loss: 0.6932 - accuracy: 0.4986 - val_loss: 0.6931 - val_accuracy: 0.4987\n"
     ]
    }
   ],
   "source": [
    "history1_4 = model1.fit(X_train, Y_train, batch_size=512, validation_data=(X_test, Y_test), epochs=100)"
   ]
  },
  {
   "cell_type": "code",
   "execution_count": 70,
   "metadata": {},
   "outputs": [
    {
     "name": "stdout",
     "output_type": "stream",
     "text": [
      "39997/39997 [==============================] - 2s 45us/step\n",
      "49.87123906612396\n"
     ]
    }
   ],
   "source": [
    "acc1_4 = model1.evaluate(X_test, Y_test)\n",
    "print((acc1_4[1] * 100.0))"
   ]
  },
  {
   "cell_type": "code",
   "execution_count": 71,
   "metadata": {},
   "outputs": [
    {
     "data": {
      "image/png": "[encoded data removed]",
      "text/plain": [
       "<Figure size 432x288 with 2 Axes>"
      ]
     },
     "metadata": {
      "needs_background": "light"
     },
     "output_type": "display_data"
    }
   ],
   "source": [
    "summarize_diagnostics(history1_4)"
   ]
  },
  {
   "cell_type": "markdown",
   "metadata": {},
   "source": [
    "# batch_size=512"
   ]
  },
  {
   "cell_type": "code",
   "execution_count": 47,
   "metadata": {},
   "outputs": [
    {
     "name": "stdout",
     "output_type": "stream",
     "text": [
      "Train on 159988 samples, validate on 39997 samples\n",
      "Epoch 1/100\n",
      "159988/159988 [==============================] - 8s 53us/step - loss: 0.1535 - accuracy: 0.9012 - val_loss: 0.2504 - val_accuracy: 0.9062\n",
      "Epoch 2/100\n",
      "159988/159988 [==============================] - 8s 49us/step - loss: 0.1502 - accuracy: 0.9026 - val_loss: 0.2518 - val_accuracy: 0.9149\n",
      "Epoch 3/100\n",
      "159988/159988 [==============================] - 8s 49us/step - loss: 0.1502 - accuracy: 0.9031 - val_loss: 0.2270 - val_accuracy: 0.9151\n",
      "Epoch 4/100\n",
      "159988/159988 [==============================] - 8s 50us/step - loss: 0.1498 - accuracy: 0.9029 - val_loss: 0.1841 - val_accuracy: 0.9214\n",
      "Epoch 5/100\n",
      "159988/159988 [==============================] - 7s 44us/step - loss: 0.1484 - accuracy: 0.9032 - val_loss: 0.2098 - val_accuracy: 0.9262\n",
      "Epoch 6/100\n",
      "159988/159988 [==============================] - 7s 44us/step - loss: 0.1496 - accuracy: 0.9023 - val_loss: 0.2539 - val_accuracy: 0.9214\n",
      "Epoch 7/100\n",
      "159988/159988 [==============================] - 7s 47us/step - loss: 0.1500 - accuracy: 0.9020 - val_loss: 0.2210 - val_accuracy: 0.9226\n",
      "Epoch 8/100\n",
      "159988/159988 [==============================] - 8s 50us/step - loss: 0.1495 - accuracy: 0.9025 - val_loss: 0.2598 - val_accuracy: 0.9183\n",
      "Epoch 9/100\n",
      "159988/159988 [==============================] - 7s 43us/step - loss: 0.1506 - accuracy: 0.9019 - val_loss: 0.3047 - val_accuracy: 0.9076\n",
      "Epoch 10/100\n",
      "159988/159988 [==============================] - 8s 48us/step - loss: 0.1499 - accuracy: 0.9026 - val_loss: 0.2189 - val_accuracy: 0.9284\n",
      "Epoch 11/100\n",
      "159988/159988 [==============================] - 8s 49us/step - loss: 0.1512 - accuracy: 0.9012 - val_loss: 0.2293 - val_accuracy: 0.9301\n",
      "Epoch 12/100\n",
      "159988/159988 [==============================] - 8s 47us/step - loss: 0.1504 - accuracy: 0.9017 - val_loss: 0.2515 - val_accuracy: 0.9274\n",
      "Epoch 13/100\n",
      "159988/159988 [==============================] - 8s 48us/step - loss: 0.1498 - accuracy: 0.9024 - val_loss: 0.2643 - val_accuracy: 0.9163\n",
      "Epoch 14/100\n",
      "159988/159988 [==============================] - 7s 46us/step - loss: 0.1503 - accuracy: 0.9017 - val_loss: 0.2259 - val_accuracy: 0.9352\n",
      "Epoch 15/100\n",
      "159988/159988 [==============================] - 7s 47us/step - loss: 0.1511 - accuracy: 0.9021 - val_loss: 0.2275 - val_accuracy: 0.9220\n",
      "Epoch 16/100\n",
      "159988/159988 [==============================] - 8s 49us/step - loss: 0.1531 - accuracy: 0.9002 - val_loss: 0.2857 - val_accuracy: 0.9147\n",
      "Epoch 17/100\n",
      "159988/159988 [==============================] - 8s 50us/step - loss: 0.1520 - accuracy: 0.9008 - val_loss: 0.2997 - val_accuracy: 0.9182\n",
      "Epoch 18/100\n",
      "159988/159988 [==============================] - 8s 48us/step - loss: 0.1519 - accuracy: 0.9012 - val_loss: 0.2993 - val_accuracy: 0.9216\n",
      "Epoch 19/100\n",
      "159988/159988 [==============================] - 8s 48us/step - loss: 0.1505 - accuracy: 0.9008 - val_loss: 0.1804 - val_accuracy: 0.9341\n",
      "Epoch 20/100\n",
      "159988/159988 [==============================] - 8s 49us/step - loss: 0.1504 - accuracy: 0.9011 - val_loss: 0.2893 - val_accuracy: 0.9146\n",
      "Epoch 21/100\n",
      "159988/159988 [==============================] - 8s 48us/step - loss: 0.1517 - accuracy: 0.9020 - val_loss: 0.2580 - val_accuracy: 0.9227\n",
      "Epoch 22/100\n",
      "159988/159988 [==============================] - 8s 48us/step - loss: 0.1511 - accuracy: 0.9022 - val_loss: 0.2245 - val_accuracy: 0.9268\n",
      "Epoch 23/100\n",
      "159988/159988 [==============================] - 8s 49us/step - loss: 0.1516 - accuracy: 0.9007 - val_loss: 0.2546 - val_accuracy: 0.9144\n",
      "Epoch 24/100\n",
      "159988/159988 [==============================] - 8s 51us/step - loss: 0.1520 - accuracy: 0.9011 - val_loss: 0.3125 - val_accuracy: 0.9146\n",
      "Epoch 25/100\n",
      "159988/159988 [==============================] - 8s 49us/step - loss: 0.1521 - accuracy: 0.9014 - val_loss: 0.2338 - val_accuracy: 0.9240\n",
      "Epoch 26/100\n",
      "159988/159988 [==============================] - 7s 47us/step - loss: 0.1499 - accuracy: 0.9013 - val_loss: 0.3204 - val_accuracy: 0.9181\n",
      "Epoch 27/100\n",
      "159988/159988 [==============================] - 8s 49us/step - loss: 0.1487 - accuracy: 0.9022 - val_loss: 0.3737 - val_accuracy: 0.9051\n",
      "Epoch 28/100\n",
      "159988/159988 [==============================] - 8s 49us/step - loss: 0.1508 - accuracy: 0.9027 - val_loss: 0.2577 - val_accuracy: 0.9205\n",
      "Epoch 29/100\n",
      "159988/159988 [==============================] - 8s 49us/step - loss: 0.1500 - accuracy: 0.9008 - val_loss: 0.2373 - val_accuracy: 0.9214\n",
      "Epoch 30/100\n",
      "159988/159988 [==============================] - 8s 49us/step - loss: 0.1485 - accuracy: 0.9029 - val_loss: 0.3355 - val_accuracy: 0.9180\n",
      "Epoch 31/100\n",
      "159988/159988 [==============================] - 8s 51us/step - loss: 0.1519 - accuracy: 0.9014 - val_loss: 0.2866 - val_accuracy: 0.9278\n",
      "Epoch 32/100\n",
      "159988/159988 [==============================] - 8s 50us/step - loss: 0.1503 - accuracy: 0.9012 - val_loss: 0.2478 - val_accuracy: 0.9329\n",
      "Epoch 33/100\n",
      "159988/159988 [==============================] - 8s 49us/step - loss: 0.1503 - accuracy: 0.9018 - val_loss: 0.2579 - val_accuracy: 0.9238\n",
      "Epoch 34/100\n",
      "159988/159988 [==============================] - 8s 51us/step - loss: 0.1507 - accuracy: 0.9014 - val_loss: 0.3033 - val_accuracy: 0.9229\n",
      "Epoch 35/100\n",
      "159988/159988 [==============================] - 8s 49us/step - loss: 0.1480 - accuracy: 0.9026 - val_loss: 0.2963 - val_accuracy: 0.9184\n",
      "Epoch 36/100\n",
      "159988/159988 [==============================] - 8s 49us/step - loss: 0.1514 - accuracy: 0.9023 - val_loss: 0.2517 - val_accuracy: 0.9167\n",
      "Epoch 37/100\n",
      "159988/159988 [==============================] - 8s 51us/step - loss: 0.1493 - accuracy: 0.9018 - val_loss: 0.3906 - val_accuracy: 0.9144\n",
      "Epoch 38/100\n",
      "159988/159988 [==============================] - 8s 50us/step - loss: 0.1499 - accuracy: 0.9018 - val_loss: 0.7396 - val_accuracy: 0.8721\n",
      "Epoch 39/100\n",
      "159988/159988 [==============================] - 8s 49us/step - loss: 0.1519 - accuracy: 0.9018 - val_loss: 0.2986 - val_accuracy: 0.9209\n",
      "Epoch 40/100\n",
      "159988/159988 [==============================] - 8s 49us/step - loss: 0.1518 - accuracy: 0.9013 - val_loss: 0.2956 - val_accuracy: 0.9275\n",
      "Epoch 41/100\n",
      "159988/159988 [==============================] - 7s 46us/step - loss: 0.1478 - accuracy: 0.9029 - val_loss: 0.2725 - val_accuracy: 0.9206\n",
      "Epoch 42/100\n",
      "159988/159988 [==============================] - 8s 48us/step - loss: 0.1485 - accuracy: 0.9033 - val_loss: 0.1434 - val_accuracy: 0.9357\n",
      "Epoch 43/100\n",
      "159988/159988 [==============================] - 8s 49us/step - loss: 0.1489 - accuracy: 0.9023 - val_loss: 0.2768 - val_accuracy: 0.9367\n",
      "Epoch 44/100\n",
      "159988/159988 [==============================] - 7s 46us/step - loss: 0.1485 - accuracy: 0.9027 - val_loss: 0.2395 - val_accuracy: 0.9260\n",
      "Epoch 45/100\n",
      "159988/159988 [==============================] - 7s 45us/step - loss: 0.1549 - accuracy: 0.8989 - val_loss: 0.3038 - val_accuracy: 0.9252\n",
      "Epoch 46/100\n",
      "159988/159988 [==============================] - 8s 49us/step - loss: 0.1500 - accuracy: 0.9023 - val_loss: 0.3047 - val_accuracy: 0.9183\n",
      "Epoch 47/100\n",
      "159988/159988 [==============================] - 8s 49us/step - loss: 0.1474 - accuracy: 0.9031 - val_loss: 0.3009 - val_accuracy: 0.9209\n",
      "Epoch 48/100\n",
      "159988/159988 [==============================] - 8s 49us/step - loss: 0.1571 - accuracy: 0.9001 - val_loss: 0.2686 - val_accuracy: 0.8745\n",
      "Epoch 49/100\n",
      "159988/159988 [==============================] - 8s 50us/step - loss: 0.1491 - accuracy: 0.9023 - val_loss: 0.2657 - val_accuracy: 0.9277\n",
      "Epoch 50/100\n",
      "159988/159988 [==============================] - 8s 47us/step - loss: 0.1484 - accuracy: 0.9026 - val_loss: 0.3362 - val_accuracy: 0.9208\n",
      "Epoch 51/100\n",
      "159988/159988 [==============================] - 7s 46us/step - loss: 0.1474 - accuracy: 0.9039 - val_loss: 0.2358 - val_accuracy: 0.9349\n",
      "Epoch 52/100\n",
      "159988/159988 [==============================] - 7s 45us/step - loss: 0.1477 - accuracy: 0.9035 - val_loss: 0.2649 - val_accuracy: 0.9252\n",
      "Epoch 53/100\n",
      "159988/159988 [==============================] - 8s 50us/step - loss: 0.1485 - accuracy: 0.9026 - val_loss: 0.1806 - val_accuracy: 0.9135\n",
      "Epoch 54/100\n",
      "159988/159988 [==============================] - 8s 48us/step - loss: 0.1501 - accuracy: 0.9014 - val_loss: 0.2792 - val_accuracy: 0.9253\n",
      "Epoch 55/100\n",
      "159988/159988 [==============================] - 8s 50us/step - loss: 0.1499 - accuracy: 0.9022 - val_loss: 0.3180 - val_accuracy: 0.9226\n",
      "Epoch 56/100\n",
      "159988/159988 [==============================] - 7s 47us/step - loss: 0.1508 - accuracy: 0.9014 - val_loss: 0.2826 - val_accuracy: 0.9279\n",
      "Epoch 57/100\n",
      "159988/159988 [==============================] - 8s 50us/step - loss: 0.1493 - accuracy: 0.9021 - val_loss: 0.2668 - val_accuracy: 0.9223\n",
      "Epoch 58/100\n",
      "159988/159988 [==============================] - 8s 48us/step - loss: 0.1508 - accuracy: 0.9016 - val_loss: 0.3475 - val_accuracy: 0.9208\n",
      "Epoch 59/100\n",
      "159988/159988 [==============================] - 8s 49us/step - loss: 0.1496 - accuracy: 0.9023 - val_loss: 0.2986 - val_accuracy: 0.9342\n",
      "Epoch 60/100\n",
      "159988/159988 [==============================] - 8s 48us/step - loss: 0.1479 - accuracy: 0.9033 - val_loss: 0.2720 - val_accuracy: 0.9275\n",
      "Epoch 61/100\n",
      "159988/159988 [==============================] - 8s 51us/step - loss: 0.1548 - accuracy: 0.9000 - val_loss: 0.2966 - val_accuracy: 0.9291\n",
      "Epoch 62/100\n",
      "159988/159988 [==============================] - 8s 49us/step - loss: 0.1502 - accuracy: 0.9012 - val_loss: 0.2816 - val_accuracy: 0.9328\n",
      "Epoch 63/100\n",
      "159988/159988 [==============================] - 8s 52us/step - loss: 0.1490 - accuracy: 0.9026 - val_loss: 0.3840 - val_accuracy: 0.9165\n",
      "Epoch 64/100\n",
      "159988/159988 [==============================] - 8s 49us/step - loss: 0.1488 - accuracy: 0.9027 - val_loss: 0.3024 - val_accuracy: 0.9207\n",
      "Epoch 65/100\n",
      "159988/159988 [==============================] - 8s 50us/step - loss: 0.1498 - accuracy: 0.9020 - val_loss: 0.2636 - val_accuracy: 0.9274\n",
      "Epoch 66/100\n",
      "159988/159988 [==============================] - 8s 47us/step - loss: 0.1490 - accuracy: 0.9027 - val_loss: 0.2666 - val_accuracy: 0.9337\n",
      "Epoch 67/100\n",
      "159988/159988 [==============================] - 8s 50us/step - loss: 0.1488 - accuracy: 0.9028 - val_loss: 0.1382 - val_accuracy: 0.9370\n",
      "Epoch 68/100\n",
      "159988/159988 [==============================] - 8s 49us/step - loss: 0.1519 - accuracy: 0.9005 - val_loss: 0.2798 - val_accuracy: 0.9276\n",
      "Epoch 69/100\n",
      "159988/159988 [==============================] - 8s 51us/step - loss: 0.1486 - accuracy: 0.9024 - val_loss: 0.3793 - val_accuracy: 0.9180\n",
      "Epoch 70/100\n",
      "159988/159988 [==============================] - 8s 49us/step - loss: 0.1500 - accuracy: 0.9019 - val_loss: 0.2583 - val_accuracy: 0.9334\n",
      "Epoch 71/100\n",
      "159988/159988 [==============================] - 8s 51us/step - loss: 0.1480 - accuracy: 0.9030 - val_loss: 0.4542 - val_accuracy: 0.9140\n",
      "Epoch 72/100\n",
      "159988/159988 [==============================] - 8s 49us/step - loss: 0.1504 - accuracy: 0.9015 - val_loss: 0.2445 - val_accuracy: 0.9168\n",
      "Epoch 73/100\n",
      "159988/159988 [==============================] - 8s 47us/step - loss: 0.1490 - accuracy: 0.9032 - val_loss: 0.3932 - val_accuracy: 0.9041\n",
      "Epoch 74/100\n",
      "159988/159988 [==============================] - 7s 46us/step - loss: 0.1509 - accuracy: 0.9017 - val_loss: 0.3335 - val_accuracy: 0.9238\n",
      "Epoch 75/100\n",
      "159988/159988 [==============================] - 7s 47us/step - loss: 0.1486 - accuracy: 0.9022 - val_loss: 0.3063 - val_accuracy: 0.9313\n",
      "Epoch 76/100\n",
      "159988/159988 [==============================] - 7s 46us/step - loss: 0.1487 - accuracy: 0.9015 - val_loss: 0.2559 - val_accuracy: 0.9279\n",
      "Epoch 77/100\n",
      "159988/159988 [==============================] - 8s 48us/step - loss: 0.1477 - accuracy: 0.9023 - val_loss: 0.3722 - val_accuracy: 0.9248\n",
      "Epoch 78/100\n",
      "159988/159988 [==============================] - 8s 49us/step - loss: 0.1633 - accuracy: 0.8971 - val_loss: 0.2672 - val_accuracy: 0.9168\n",
      "Epoch 79/100\n",
      "159988/159988 [==============================] - 8s 50us/step - loss: 0.1478 - accuracy: 0.9034 - val_loss: 0.2610 - val_accuracy: 0.9263\n",
      "Epoch 80/100\n",
      "159988/159988 [==============================] - 7s 47us/step - loss: 0.1494 - accuracy: 0.9021 - val_loss: 0.3139 - val_accuracy: 0.9144\n",
      "Epoch 81/100\n",
      "159988/159988 [==============================] - 8s 48us/step - loss: 0.1458 - accuracy: 0.9042 - val_loss: 0.2325 - val_accuracy: 0.9367\n",
      "Epoch 82/100\n",
      "159988/159988 [==============================] - 8s 48us/step - loss: 0.1481 - accuracy: 0.9031 - val_loss: 0.2663 - val_accuracy: 0.9323\n",
      "Epoch 83/100\n",
      "159988/159988 [==============================] - 7s 45us/step - loss: 0.1506 - accuracy: 0.9023 - val_loss: 0.2784 - val_accuracy: 0.9196\n",
      "Epoch 84/100\n",
      "159988/159988 [==============================] - 7s 46us/step - loss: 0.1465 - accuracy: 0.9039 - val_loss: 0.2713 - val_accuracy: 0.9328\n",
      "Epoch 85/100\n",
      "159988/159988 [==============================] - 7s 47us/step - loss: 0.1509 - accuracy: 0.9009 - val_loss: 0.3411 - val_accuracy: 0.9207\n",
      "Epoch 86/100\n",
      "159988/159988 [==============================] - 7s 47us/step - loss: 0.1478 - accuracy: 0.9029 - val_loss: 0.3701 - val_accuracy: 0.9165\n",
      "Epoch 87/100\n",
      "159988/159988 [==============================] - 7s 46us/step - loss: 0.1506 - accuracy: 0.9013 - val_loss: 0.5034 - val_accuracy: 0.8986\n",
      "Epoch 88/100\n",
      "159988/159988 [==============================] - 7s 46us/step - loss: 0.1485 - accuracy: 0.9031 - val_loss: 0.4214 - val_accuracy: 0.9166\n",
      "Epoch 89/100\n",
      "159988/159988 [==============================] - 8s 48us/step - loss: 0.1532 - accuracy: 0.8999 - val_loss: 0.2362 - val_accuracy: 0.9268\n",
      "Epoch 90/100\n",
      "159988/159988 [==============================] - 7s 46us/step - loss: 0.1492 - accuracy: 0.9018 - val_loss: 0.3120 - val_accuracy: 0.9263\n",
      "Epoch 91/100\n",
      "159988/159988 [==============================] - 8s 50us/step - loss: 0.1479 - accuracy: 0.9027 - val_loss: 0.3940 - val_accuracy: 0.9143\n",
      "Epoch 92/100\n",
      "159988/159988 [==============================] - 7s 45us/step - loss: 0.1514 - accuracy: 0.9010 - val_loss: 0.4702 - val_accuracy: 0.9050\n",
      "Epoch 93/100\n",
      "159988/159988 [==============================] - 7s 47us/step - loss: 0.1489 - accuracy: 0.9025 - val_loss: 0.2611 - val_accuracy: 0.9276\n",
      "Epoch 94/100\n",
      "159988/159988 [==============================] - 8s 49us/step - loss: 0.1510 - accuracy: 0.9012 - val_loss: 0.2498 - val_accuracy: 0.9293\n",
      "Epoch 95/100\n",
      "159988/159988 [==============================] - 7s 44us/step - loss: 0.1489 - accuracy: 0.9033 - val_loss: 0.3938 - val_accuracy: 0.9112\n",
      "Epoch 96/100\n",
      "159988/159988 [==============================] - 8s 47us/step - loss: 0.1482 - accuracy: 0.9031 - val_loss: 0.7209 - val_accuracy: 0.8857\n",
      "Epoch 97/100\n",
      "159988/159988 [==============================] - 8s 49us/step - loss: 0.1916 - accuracy: 0.8878 - val_loss: 0.3203 - val_accuracy: 0.9077\n",
      "Epoch 98/100\n",
      "159988/159988 [==============================] - 8s 49us/step - loss: 0.1502 - accuracy: 0.9023 - val_loss: 0.2913 - val_accuracy: 0.9270\n",
      "Epoch 99/100\n",
      "159988/159988 [==============================] - 8s 48us/step - loss: 0.1505 - accuracy: 0.9013 - val_loss: 0.2894 - val_accuracy: 0.9268\n",
      "Epoch 100/100\n",
      "159988/159988 [==============================] - 8s 48us/step - loss: 0.1492 - accuracy: 0.9027 - val_loss: 0.3085 - val_accuracy: 0.9274\n"
     ]
    }
   ],
   "source": [
    "history1_2 = model1.fit(X_train, Y_train, batch_size=512, validation_data=(X_test, Y_test), epochs=100)"
   ]
  },
  {
   "cell_type": "code",
   "execution_count": 48,
   "metadata": {},
   "outputs": [
    {
     "name": "stdout",
     "output_type": "stream",
     "text": [
      "39997/39997 [==============================] - 2s 41us/step\n",
      "73.95804524421692\n"
     ]
    }
   ],
   "source": [
    "acc1_2 = model1.evaluate(X_test, Y_test)"
   ]
  },
  {
   "cell_type": "code",
   "execution_count": 72,
   "metadata": {},
   "outputs": [
    {
     "name": "stdout",
     "output_type": "stream",
     "text": [
      "92.73945689201355\n"
     ]
    }
   ],
   "source": [
    "print((acc1_2[1] * 100.0))"
   ]
  },
  {
   "cell_type": "code",
   "execution_count": 49,
   "metadata": {},
   "outputs": [
    {
     "data": {
      "image/png": "[encoded data removed]",
      "text/plain": [
       "<Figure size 432x288 with 2 Axes>"
      ]
     },
     "metadata": {
      "needs_background": "light"
     },
     "output_type": "display_data"
    }
   ],
   "source": [
    "summarize_diagnostics(history1_2)"
   ]
  },
  {
   "cell_type": "markdown",
   "metadata": {},
   "source": [
    "# more deep and batch_size=1024"
   ]
  },
  {
   "cell_type": "code",
   "execution_count": 50,
   "metadata": {},
   "outputs": [],
   "source": [
    "model2 = Sequential()\n",
    "model2.add(Conv1D(32, 3, activation='relu', kernel_initializer='he_uniform', padding='same', input_shape=(20, 1)))\n",
    "model2.add(MaxPooling1D(2))\n",
    "model2.add(Dropout(0.2))\n",
    "model2.add(Conv1D(64, 3, activation='relu', kernel_initializer='he_uniform', padding='same'))\n",
    "model2.add(MaxPooling1D(2))\n",
    "model2.add(Dropout(0.2))\n",
    "model2.add(Conv1D(128, 3, activation='relu', kernel_initializer='he_uniform', padding='same'))\n",
    "model2.add(MaxPooling1D(2))\n",
    "model2.add(Conv1D(256, 3, activation='relu', kernel_initializer='he_uniform', padding='same'))\n",
    "model2.add(MaxPooling1D(2))\n",
    "model2.add(Dropout(0.2))\n",
    "model2.add(Flatten())\n",
    "model2.add(Dense(128, activation='relu', kernel_initializer='he_uniform'))\n",
    "model2.add(Dropout(0.5))\n",
    "model2.add(Dense(1, activation='sigmoid'))"
   ]
  },
  {
   "cell_type": "code",
   "execution_count": 51,
   "metadata": {},
   "outputs": [],
   "source": [
    "model2.compile(loss='binary_crossentropy', optimizer='adam', metrics=['accuracy'])"
   ]
  },
  {
   "cell_type": "code",
   "execution_count": 52,
   "metadata": {},
   "outputs": [
    {
     "name": "stdout",
     "output_type": "stream",
     "text": [
      "Train on 159988 samples, validate on 39997 samples\n",
      "Epoch 1/100\n",
      "159988/159988 [==============================] - 7s 45us/step - loss: 0.1458 - accuracy: 0.9040 - val_loss: 0.3516 - val_accuracy: 0.9220\n",
      "Epoch 2/100\n",
      "159988/159988 [==============================] - 7s 46us/step - loss: 0.1459 - accuracy: 0.9037 - val_loss: 0.2833 - val_accuracy: 0.9286\n",
      "Epoch 3/100\n",
      "159988/159988 [==============================] - 7s 45us/step - loss: 0.1451 - accuracy: 0.9039 - val_loss: 0.3168 - val_accuracy: 0.9324\n",
      "Epoch 4/100\n",
      "159988/159988 [==============================] - 7s 45us/step - loss: 0.1457 - accuracy: 0.9036 - val_loss: 0.3230 - val_accuracy: 0.9231\n",
      "Epoch 5/100\n",
      "159988/159988 [==============================] - 7s 45us/step - loss: 0.1473 - accuracy: 0.9035 - val_loss: 0.3071 - val_accuracy: 0.9259\n",
      "Epoch 6/100\n",
      "159988/159988 [==============================] - 7s 43us/step - loss: 0.1452 - accuracy: 0.9046 - val_loss: 0.3075 - val_accuracy: 0.9250\n",
      "Epoch 7/100\n",
      "159988/159988 [==============================] - 7s 42us/step - loss: 0.1476 - accuracy: 0.9028 - val_loss: 0.3364 - val_accuracy: 0.9267\n",
      "Epoch 8/100\n",
      "159988/159988 [==============================] - 7s 41us/step - loss: 0.1470 - accuracy: 0.9038 - val_loss: 0.6038 - val_accuracy: 0.8867\n",
      "Epoch 9/100\n",
      "159988/159988 [==============================] - 8s 47us/step - loss: 0.1463 - accuracy: 0.9037 - val_loss: 0.3197 - val_accuracy: 0.9256\n",
      "Epoch 10/100\n",
      "159988/159988 [==============================] - 7s 44us/step - loss: 0.1450 - accuracy: 0.9041 - val_loss: 0.3547 - val_accuracy: 0.9198\n",
      "Epoch 11/100\n",
      "159988/159988 [==============================] - 7s 42us/step - loss: 0.1471 - accuracy: 0.9037 - val_loss: 0.3531 - val_accuracy: 0.9209\n",
      "Epoch 12/100\n",
      "159988/159988 [==============================] - 7s 44us/step - loss: 0.1474 - accuracy: 0.9031 - val_loss: 0.3402 - val_accuracy: 0.9218\n",
      "Epoch 13/100\n",
      "159988/159988 [==============================] - 7s 44us/step - loss: 0.1472 - accuracy: 0.9036 - val_loss: 0.2925 - val_accuracy: 0.9364\n",
      "Epoch 14/100\n",
      "159988/159988 [==============================] - 7s 46us/step - loss: 0.1460 - accuracy: 0.9043 - val_loss: 0.3415 - val_accuracy: 0.9228\n",
      "Epoch 15/100\n",
      "159988/159988 [==============================] - 7s 43us/step - loss: 0.1455 - accuracy: 0.9038 - val_loss: 0.3302 - val_accuracy: 0.9174\n",
      "Epoch 16/100\n",
      "159988/159988 [==============================] - 7s 44us/step - loss: 0.1466 - accuracy: 0.9029 - val_loss: 0.3684 - val_accuracy: 0.9257\n",
      "Epoch 17/100\n",
      "159988/159988 [==============================] - 7s 46us/step - loss: 0.1473 - accuracy: 0.9028 - val_loss: 0.3457 - val_accuracy: 0.9181\n",
      "Epoch 18/100\n",
      "159988/159988 [==============================] - 7s 45us/step - loss: 0.1468 - accuracy: 0.9047 - val_loss: 0.2647 - val_accuracy: 0.9278\n",
      "Epoch 19/100\n",
      "159988/159988 [==============================] - 7s 44us/step - loss: 0.1476 - accuracy: 0.9028 - val_loss: 0.2897 - val_accuracy: 0.9247\n",
      "Epoch 20/100\n",
      "159988/159988 [==============================] - 7s 43us/step - loss: 0.1460 - accuracy: 0.9040 - val_loss: 0.4086 - val_accuracy: 0.9138\n",
      "Epoch 21/100\n",
      "159988/159988 [==============================] - 7s 46us/step - loss: 0.1476 - accuracy: 0.9030 - val_loss: 0.2438 - val_accuracy: 0.9360\n",
      "Epoch 22/100\n",
      "159988/159988 [==============================] - 7s 45us/step - loss: 0.1478 - accuracy: 0.9024 - val_loss: 0.3646 - val_accuracy: 0.9175\n",
      "Epoch 23/100\n",
      "159988/159988 [==============================] - 7s 44us/step - loss: 0.1474 - accuracy: 0.9035 - val_loss: 0.3249 - val_accuracy: 0.9255\n",
      "Epoch 24/100\n",
      "159988/159988 [==============================] - 7s 45us/step - loss: 0.1471 - accuracy: 0.9032 - val_loss: 0.3269 - val_accuracy: 0.9234\n",
      "Epoch 25/100\n",
      "159988/159988 [==============================] - 7s 45us/step - loss: 0.1466 - accuracy: 0.9032 - val_loss: 0.3510 - val_accuracy: 0.9216\n",
      "Epoch 26/100\n",
      "159988/159988 [==============================] - 7s 46us/step - loss: 0.1481 - accuracy: 0.9020 - val_loss: 0.4151 - val_accuracy: 0.9188\n",
      "Epoch 27/100\n",
      "159988/159988 [==============================] - 7s 46us/step - loss: 0.1472 - accuracy: 0.9031 - val_loss: 0.2877 - val_accuracy: 0.9257\n",
      "Epoch 28/100\n",
      "159988/159988 [==============================] - 7s 43us/step - loss: 0.1468 - accuracy: 0.9036 - val_loss: 0.2836 - val_accuracy: 0.9325\n",
      "Epoch 29/100\n",
      "159988/159988 [==============================] - 8s 47us/step - loss: 0.1479 - accuracy: 0.9030 - val_loss: 0.3137 - val_accuracy: 0.9273\n",
      "Epoch 30/100\n",
      "159988/159988 [==============================] - 7s 42us/step - loss: 0.1496 - accuracy: 0.9015 - val_loss: 0.3898 - val_accuracy: 0.9208\n",
      "Epoch 31/100\n",
      "159988/159988 [==============================] - 7s 44us/step - loss: 0.1474 - accuracy: 0.9030 - val_loss: 0.3203 - val_accuracy: 0.9251\n",
      "Epoch 32/100\n",
      "159988/159988 [==============================] - 7s 45us/step - loss: 0.1471 - accuracy: 0.9033 - val_loss: 0.2382 - val_accuracy: 0.9273\n",
      "Epoch 33/100\n",
      "159988/159988 [==============================] - 7s 45us/step - loss: 0.1475 - accuracy: 0.9035 - val_loss: 0.3812 - val_accuracy: 0.9167\n",
      "Epoch 34/100\n",
      "159988/159988 [==============================] - 7s 44us/step - loss: 0.1478 - accuracy: 0.9028 - val_loss: 0.2511 - val_accuracy: 0.9274\n",
      "Epoch 35/100\n",
      "159988/159988 [==============================] - 8s 47us/step - loss: 0.1468 - accuracy: 0.9038 - val_loss: 0.2387 - val_accuracy: 0.9370\n",
      "Epoch 36/100\n",
      "159988/159988 [==============================] - 7s 43us/step - loss: 0.1470 - accuracy: 0.9036 - val_loss: 0.4051 - val_accuracy: 0.9192\n",
      "Epoch 37/100\n",
      "159988/159988 [==============================] - 7s 45us/step - loss: 0.1464 - accuracy: 0.9041 - val_loss: 0.1818 - val_accuracy: 0.9370\n",
      "Epoch 38/100\n",
      "159988/159988 [==============================] - 7s 44us/step - loss: 0.1459 - accuracy: 0.9036 - val_loss: 0.3296 - val_accuracy: 0.9250\n",
      "Epoch 39/100\n",
      "159988/159988 [==============================] - 7s 44us/step - loss: 0.1451 - accuracy: 0.9048 - val_loss: 0.3641 - val_accuracy: 0.9244\n",
      "Epoch 40/100\n",
      "159988/159988 [==============================] - 7s 45us/step - loss: 0.1457 - accuracy: 0.9044 - val_loss: 0.5937 - val_accuracy: 0.9011\n",
      "Epoch 41/100\n",
      "159988/159988 [==============================] - 7s 44us/step - loss: 0.1511 - accuracy: 0.9012 - val_loss: 0.3589 - val_accuracy: 0.9281\n",
      "Epoch 42/100\n",
      "159988/159988 [==============================] - 7s 43us/step - loss: 0.1462 - accuracy: 0.9041 - val_loss: 0.2916 - val_accuracy: 0.9318\n",
      "Epoch 43/100\n",
      "159988/159988 [==============================] - 7s 45us/step - loss: 0.1467 - accuracy: 0.9034 - val_loss: 0.3107 - val_accuracy: 0.9246\n",
      "Epoch 44/100\n",
      "159988/159988 [==============================] - 7s 46us/step - loss: 0.1476 - accuracy: 0.9028 - val_loss: 0.3838 - val_accuracy: 0.9160\n",
      "Epoch 45/100\n",
      "159988/159988 [==============================] - 7s 45us/step - loss: 0.1461 - accuracy: 0.9035 - val_loss: 0.3816 - val_accuracy: 0.9249\n",
      "Epoch 46/100\n",
      "159988/159988 [==============================] - 7s 42us/step - loss: 0.1477 - accuracy: 0.9028 - val_loss: 0.4003 - val_accuracy: 0.9167\n",
      "Epoch 47/100\n",
      "159988/159988 [==============================] - 7s 45us/step - loss: 0.1448 - accuracy: 0.9044 - val_loss: 0.3148 - val_accuracy: 0.9354\n",
      "Epoch 48/100\n",
      "159988/159988 [==============================] - 7s 46us/step - loss: 0.1483 - accuracy: 0.9021 - val_loss: 0.3034 - val_accuracy: 0.9269\n",
      "Epoch 49/100\n",
      "159988/159988 [==============================] - 7s 46us/step - loss: 0.1459 - accuracy: 0.9042 - val_loss: 0.3348 - val_accuracy: 0.9182\n",
      "Epoch 50/100\n",
      "159988/159988 [==============================] - 7s 42us/step - loss: 0.1478 - accuracy: 0.9040 - val_loss: 0.3153 - val_accuracy: 0.9295\n",
      "Epoch 51/100\n",
      "159988/159988 [==============================] - 7s 44us/step - loss: 0.1462 - accuracy: 0.9031 - val_loss: 0.2558 - val_accuracy: 0.9258\n",
      "Epoch 52/100\n",
      "159988/159988 [==============================] - 7s 44us/step - loss: 0.1454 - accuracy: 0.9045 - val_loss: 0.2891 - val_accuracy: 0.9367\n",
      "Epoch 53/100\n",
      "159988/159988 [==============================] - 7s 44us/step - loss: 0.1492 - accuracy: 0.9027 - val_loss: 0.3392 - val_accuracy: 0.9182\n",
      "Epoch 54/100\n",
      "159988/159988 [==============================] - 8s 47us/step - loss: 0.1484 - accuracy: 0.9021 - val_loss: 0.4817 - val_accuracy: 0.9026\n",
      "Epoch 55/100\n",
      "159988/159988 [==============================] - 7s 42us/step - loss: 0.1462 - accuracy: 0.9042 - val_loss: 0.3935 - val_accuracy: 0.9267\n",
      "Epoch 56/100\n",
      "159988/159988 [==============================] - 7s 45us/step - loss: 0.1970 - accuracy: 0.8838 - val_loss: 0.2153 - val_accuracy: 0.9366\n",
      "Epoch 57/100\n",
      "159988/159988 [==============================] - 7s 45us/step - loss: 0.1498 - accuracy: 0.9029 - val_loss: 0.2146 - val_accuracy: 0.9398\n",
      "Epoch 58/100\n",
      "159988/159988 [==============================] - 7s 43us/step - loss: 0.1488 - accuracy: 0.9028 - val_loss: 0.2470 - val_accuracy: 0.9403\n",
      "Epoch 59/100\n",
      "159988/159988 [==============================] - 7s 45us/step - loss: 0.1480 - accuracy: 0.9036 - val_loss: 0.3379 - val_accuracy: 0.9269\n",
      "Epoch 60/100\n",
      "159988/159988 [==============================] - 7s 44us/step - loss: 0.1480 - accuracy: 0.9027 - val_loss: 0.2767 - val_accuracy: 0.9386\n",
      "Epoch 61/100\n",
      "159988/159988 [==============================] - 7s 46us/step - loss: 0.1497 - accuracy: 0.9016 - val_loss: 0.2762 - val_accuracy: 0.9364\n",
      "Epoch 62/100\n",
      "159988/159988 [==============================] - 7s 45us/step - loss: 0.1479 - accuracy: 0.9036 - val_loss: 0.2574 - val_accuracy: 0.9365\n",
      "Epoch 63/100\n",
      "159988/159988 [==============================] - 7s 45us/step - loss: 0.1480 - accuracy: 0.9032 - val_loss: 0.2499 - val_accuracy: 0.9370\n",
      "Epoch 64/100\n",
      "159988/159988 [==============================] - 7s 45us/step - loss: 0.1488 - accuracy: 0.9025 - val_loss: 0.2910 - val_accuracy: 0.9362\n",
      "Epoch 65/100\n",
      "159988/159988 [==============================] - 7s 46us/step - loss: 0.1469 - accuracy: 0.9050 - val_loss: 0.3562 - val_accuracy: 0.9255\n",
      "Epoch 66/100\n",
      "159988/159988 [==============================] - 7s 46us/step - loss: 0.1467 - accuracy: 0.9041 - val_loss: 0.3548 - val_accuracy: 0.9174\n",
      "Epoch 67/100\n",
      "159988/159988 [==============================] - 7s 45us/step - loss: 0.1464 - accuracy: 0.9042 - val_loss: 0.3020 - val_accuracy: 0.9252\n",
      "Epoch 68/100\n",
      "159988/159988 [==============================] - 7s 46us/step - loss: 0.1451 - accuracy: 0.9049 - val_loss: 0.2766 - val_accuracy: 0.9336\n",
      "Epoch 69/100\n",
      "159988/159988 [==============================] - 7s 46us/step - loss: 0.1475 - accuracy: 0.9026 - val_loss: 0.3930 - val_accuracy: 0.9251\n",
      "Epoch 70/100\n",
      "159988/159988 [==============================] - 7s 45us/step - loss: 0.1462 - accuracy: 0.9043 - val_loss: 0.2705 - val_accuracy: 0.9369\n",
      "Epoch 71/100\n",
      "159988/159988 [==============================] - 7s 45us/step - loss: 0.1465 - accuracy: 0.9034 - val_loss: 0.3483 - val_accuracy: 0.9309\n",
      "Epoch 72/100\n",
      "159988/159988 [==============================] - 7s 44us/step - loss: 0.1463 - accuracy: 0.9045 - val_loss: 0.2420 - val_accuracy: 0.9241\n",
      "Epoch 73/100\n",
      "159988/159988 [==============================] - 7s 44us/step - loss: 0.1474 - accuracy: 0.9031 - val_loss: 0.3763 - val_accuracy: 0.9221\n",
      "Epoch 74/100\n",
      "159988/159988 [==============================] - 7s 46us/step - loss: 0.1457 - accuracy: 0.9050 - val_loss: 0.2229 - val_accuracy: 0.9296\n",
      "Epoch 75/100\n",
      "159988/159988 [==============================] - 7s 44us/step - loss: 0.1459 - accuracy: 0.9043 - val_loss: 0.2884 - val_accuracy: 0.9367\n",
      "Epoch 76/100\n",
      "159988/159988 [==============================] - 7s 44us/step - loss: 0.1478 - accuracy: 0.9038 - val_loss: 0.2271 - val_accuracy: 0.9372\n",
      "Epoch 77/100\n",
      "159988/159988 [==============================] - 7s 44us/step - loss: 0.1473 - accuracy: 0.9036 - val_loss: 0.4326 - val_accuracy: 0.9142\n",
      "Epoch 78/100\n",
      "159988/159988 [==============================] - 7s 46us/step - loss: 0.1457 - accuracy: 0.9038 - val_loss: 0.3116 - val_accuracy: 0.9359\n",
      "Epoch 79/100\n",
      "159988/159988 [==============================] - 7s 46us/step - loss: 0.1468 - accuracy: 0.9038 - val_loss: 0.4004 - val_accuracy: 0.9239\n",
      "Epoch 80/100\n",
      "159988/159988 [==============================] - 7s 44us/step - loss: 0.1470 - accuracy: 0.9034 - val_loss: 0.3312 - val_accuracy: 0.9240\n",
      "Epoch 81/100\n",
      "159988/159988 [==============================] - 8s 47us/step - loss: 0.1474 - accuracy: 0.9037 - val_loss: 0.4480 - val_accuracy: 0.9138\n",
      "Epoch 82/100\n",
      "159988/159988 [==============================] - 7s 46us/step - loss: 0.1495 - accuracy: 0.9018 - val_loss: 0.3087 - val_accuracy: 0.9285\n",
      "Epoch 83/100\n",
      "159988/159988 [==============================] - 7s 45us/step - loss: 0.1472 - accuracy: 0.9032 - val_loss: 0.3035 - val_accuracy: 0.9343\n",
      "Epoch 84/100\n",
      "159988/159988 [==============================] - 7s 42us/step - loss: 0.1489 - accuracy: 0.9019 - val_loss: 0.1713 - val_accuracy: 0.9388\n",
      "Epoch 85/100\n",
      "159988/159988 [==============================] - 7s 44us/step - loss: 0.1480 - accuracy: 0.9047 - val_loss: 0.3342 - val_accuracy: 0.9236\n",
      "Epoch 86/100\n",
      "159988/159988 [==============================] - 7s 46us/step - loss: 0.1453 - accuracy: 0.9048 - val_loss: 0.2315 - val_accuracy: 0.9229\n",
      "Epoch 87/100\n",
      "159988/159988 [==============================] - 7s 43us/step - loss: 0.1467 - accuracy: 0.9033 - val_loss: 0.3649 - val_accuracy: 0.9250\n",
      "Epoch 88/100\n",
      "159988/159988 [==============================] - 7s 44us/step - loss: 0.1458 - accuracy: 0.9041 - val_loss: 0.4103 - val_accuracy: 0.9068\n",
      "Epoch 89/100\n",
      "159988/159988 [==============================] - 7s 46us/step - loss: 0.1464 - accuracy: 0.9034 - val_loss: 0.5244 - val_accuracy: 0.8915\n",
      "Epoch 90/100\n",
      "159988/159988 [==============================] - 7s 45us/step - loss: 0.1475 - accuracy: 0.9028 - val_loss: 0.3672 - val_accuracy: 0.9264\n",
      "Epoch 91/100\n",
      "159988/159988 [==============================] - 8s 48us/step - loss: 0.1454 - accuracy: 0.9037 - val_loss: 0.3385 - val_accuracy: 0.9356\n",
      "Epoch 92/100\n",
      "159988/159988 [==============================] - 7s 46us/step - loss: 0.1431 - accuracy: 0.9058 - val_loss: 0.3653 - val_accuracy: 0.9272\n",
      "Epoch 93/100\n",
      "159988/159988 [==============================] - 7s 45us/step - loss: 0.1532 - accuracy: 0.9003 - val_loss: 0.3261 - val_accuracy: 0.9260\n",
      "Epoch 94/100\n",
      "159988/159988 [==============================] - 7s 44us/step - loss: 0.1450 - accuracy: 0.9051 - val_loss: 0.3318 - val_accuracy: 0.9213\n",
      "Epoch 95/100\n",
      "159988/159988 [==============================] - 7s 41us/step - loss: 0.1463 - accuracy: 0.9042 - val_loss: 0.2472 - val_accuracy: 0.9271\n",
      "Epoch 96/100\n",
      "159988/159988 [==============================] - 6s 40us/step - loss: 0.1490 - accuracy: 0.9016 - val_loss: 0.3667 - val_accuracy: 0.9192\n",
      "Epoch 97/100\n",
      "159988/159988 [==============================] - 7s 44us/step - loss: 0.1460 - accuracy: 0.9044 - val_loss: 0.3170 - val_accuracy: 0.9165\n",
      "Epoch 98/100\n",
      "159988/159988 [==============================] - 7s 42us/step - loss: 0.1455 - accuracy: 0.9048 - val_loss: 0.2240 - val_accuracy: 0.9370\n",
      "Epoch 99/100\n",
      "159988/159988 [==============================] - 7s 44us/step - loss: 0.1469 - accuracy: 0.9033 - val_loss: 0.2944 - val_accuracy: 0.9173\n",
      "Epoch 100/100\n",
      "159988/159988 [==============================] - 7s 45us/step - loss: 0.1446 - accuracy: 0.9054 - val_loss: 0.2852 - val_accuracy: 0.9252\n"
     ]
    }
   ],
   "source": [
    "history2 = model1.fit(X_train, Y_train, batch_size=1024, validation_data=(X_test, Y_test), epochs=100)"
   ]
  },
  {
   "cell_type": "code",
   "execution_count": 53,
   "metadata": {},
   "outputs": [
    {
     "name": "stdout",
     "output_type": "stream",
     "text": [
      "39997/39997 [==============================] - 2s 60us/step\n",
      "73.95804524421692\n"
     ]
    }
   ],
   "source": [
    "acc2 = model2.evaluate(X_test, Y_test)"
   ]
  },
  {
   "cell_type": "code",
   "execution_count": 73,
   "metadata": {},
   "outputs": [
    {
     "name": "stdout",
     "output_type": "stream",
     "text": [
      "50.1287579536438\n"
     ]
    }
   ],
   "source": [
    "print((acc2[1] * 100.0))"
   ]
  },
  {
   "cell_type": "code",
   "execution_count": 55,
   "metadata": {},
   "outputs": [
    {
     "data": {
      "image/png": "[encoded data removed]",
      "text/plain": [
       "<Figure size 432x288 with 2 Axes>"
      ]
     },
     "metadata": {
      "needs_background": "light"
     },
     "output_type": "display_data"
    }
   ],
   "source": [
    "summarize_diagnostics(history2)"
   ]
  },
  {
   "cell_type": "code",
   "execution_count": 58,
   "metadata": {},
   "outputs": [
    {
     "data": {
      "text/plain": [
       "[<matplotlib.lines.Line2D at 0x7f34e412bd50>]"
      ]
     },
     "execution_count": 58,
     "metadata": {},
     "output_type": "execute_result"
    },
    {
     "data": {
      "image/png": "[encoded data removed]",
      "text/plain": [
       "<Figure size 432x288 with 1 Axes>"
      ]
     },
     "metadata": {
      "needs_background": "light"
     },
     "output_type": "display_data"
    }
   ],
   "source": [
    "plt.plot(history2.history['accuracy'], color='blue', label='train')"
   ]
  },
  {
   "cell_type": "code",
   "execution_count": null,
   "metadata": {},
   "outputs": [],
   "source": []
  }
 ],
 "metadata": {
  "kernelspec": {
   "display_name": "Python 3",
   "language": "python",
   "name": "python3"
  },
  "language_info": {
   "codemirror_mode": {
    "name": "ipython",
    "version": 3
   },
   "file_extension": ".py",
   "mimetype": "text/x-python",
   "name": "python",
   "nbconvert_exporter": "python",
   "pygments_lexer": "ipython3",
   "version": "3.7.4"
  }
 },
 "nbformat": 4,
 "nbformat_minor": 2
}
