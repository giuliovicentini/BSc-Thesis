{
 "cells": [
  {
   "cell_type": "code",
   "execution_count": 24,
   "metadata": {},
   "outputs": [],
   "source": [
    "%matplotlib inline\n",
    "import pandas as pd\n",
    "import uproot\n",
    "import matplotlib.pyplot as plt\n",
    "import numpy as np\n",
    "import healpy as hp\n",
    "import pickle\n",
    "import h5py\n",
    "import boost_histogram as bh\n",
    "import os\n",
    "import random"
   ]
  },
  {
   "cell_type": "code",
   "execution_count": 4,
   "metadata": {},
   "outputs": [],
   "source": [
    "positron0 = uproot.open(\"/mnt/Storage/fmanzali/FlatComplete/eplus_hits_dn_0.root\")\n",
    "electron0 = uproot.open(\"/mnt/Storage/gvicentini/ElectronDataset/Hits/eminus_hits_dn_0.root\")\n",
    "posPMT0 = positron0[\"lpmt_hits\"]\n",
    "elPMT0 = electron0['lpmt_hits']\n",
    "\n",
    "PMT_cor = positron0[\"lpmt_pos\"].pandas.df()"
   ]
  },
  {
   "cell_type": "code",
   "execution_count": 5,
   "metadata": {},
   "outputs": [],
   "source": [
    "posINFO0 = positron0['true_info'].pandas.df()\n",
    "elINFO0 = electron0['true_info'].pandas.df()"
   ]
  },
  {
   "cell_type": "code",
   "execution_count": 6,
   "metadata": {},
   "outputs": [],
   "source": [
    "def no_DN (frame):\n",
    "    \n",
    "    i = frame.index[0][0]\n",
    "    new_frame = frame.loc[(frame['isDN'].values == False) & (frame['hitTime'].values < 300)]\n",
    "    return new_frame.loc[i]"
   ]
  },
  {
   "cell_type": "code",
   "execution_count": 7,
   "metadata": {},
   "outputs": [],
   "source": [
    "def first (frame):\n",
    "    frame_sort = frame.sort_values(['hitTime'])\n",
    "    frame_first = frame_sort.drop_duplicates(subset='pmtID', keep='first')\n",
    "    frame_last = frame_first.sort_values('hitTime', ascending=False)\n",
    "    return frame_last"
   ]
  },
  {
   "cell_type": "code",
   "execution_count": 8,
   "metadata": {},
   "outputs": [],
   "source": [
    "def normal_ft(ev):\n",
    "    \n",
    "    mi = ev['hitTime'].min()\n",
    "    \n",
    "    a = ev['nHits'].values\n",
    "    b = ev['pmtID'].values\n",
    "    c = ev['hitTime'] - mi\n",
    "    data = {'nHits': a, 'pmtID': b, 'hitTime': c}\n",
    "        \n",
    "    norm = pd.DataFrame(data)\n",
    "    return norm"
   ]
  },
  {
   "cell_type": "code",
   "execution_count": 9,
   "metadata": {},
   "outputs": [],
   "source": [
    "def mapev (ev):\n",
    "    \n",
    "    x = PMT_cor['pmt_x']\n",
    "    y = PMT_cor['pmt_y']\n",
    "    z = PMT_cor['pmt_z']\n",
    "    \n",
    "    i = ev['pmtID'].values\n",
    "    xs = x[ev['pmtID']]\n",
    "    ys = y[ev['pmtID']]\n",
    "    zs = z[ev['pmtID']] \n",
    "    t = ev['hitTime'].values\n",
    "    data ={'pmtID': i, 'pmt_x': xs, 'pmt_y': ys, 'pmt_z':zs, 'hitTime': t}\n",
    "    \n",
    "    ev_map = pd.DataFrame(data)\n",
    "    return ev_map"
   ]
  },
  {
   "cell_type": "code",
   "execution_count": 10,
   "metadata": {},
   "outputs": [],
   "source": [
    "def mollweide (ev_map, j):\n",
    "    # Set the coordinates for the input\n",
    "    nside = 32\n",
    "    npix = hp.nside2npix(nside)\n",
    "\n",
    "    # Coordinates and the density field f\n",
    "    hitTime = ev_map['hitTime']\n",
    "    x = ev_map['pmt_x']\n",
    "    y = ev_map['pmt_y']\n",
    "    z = ev_map['pmt_z']\n",
    "    \n",
    "    # Go from HEALPix coordinates to indices\n",
    "    indices = hp.vec2pix(nside, x, y, z)\n",
    "\n",
    "    # Initate the map and fill it with the values\n",
    "    hpxmap = np.full(npix, 0, dtype=np.float)\n",
    "    hpxmap[[indices]]  = 300-hitTime\n",
    "    cl = hp.anafast(hpxmap)\n",
    "\n",
    "    # Inspect the map\n",
    "    #project = hp.mollview(hpxmap, title=None, cbar=False, return_projected_map=True, hold=True) #,cmap='binary')\n",
    "    #plt.savefig('/mnt/Storage/gvicentini/electron/ev'+str(j)+'.png')  \n",
    "    #plt.clf()\n",
    "    return cl #project"
   ]
  },
  {
   "cell_type": "code",
   "execution_count": 43,
   "metadata": {},
   "outputs": [],
   "source": [
    "def name(value):\n",
    "    for n,v in globals().items():\n",
    "        if v == value:\n",
    "            return n\n",
    "    return None"
   ]
  },
  {
   "cell_type": "code",
   "execution_count": 42,
   "metadata": {},
   "outputs": [],
   "source": [
    "def power_spectrum(file, info, n):\n",
    "    \n",
    "    if name(file) == 'posPMT'+str(n):\n",
    "        dst_dir = '/mnt/Storage/gvicentini/positron_spec/'\n",
    "        data = 'pos_spec'\n",
    "    elif name(file) == 'elPMT'+str(n):\n",
    "        dst_dir = '/mnt/Storage/gvicentini/electron_spec/'\n",
    "        data = 'el_spec'\n",
    "    else:\n",
    "        print('file non riconosciuto')\n",
    "    \n",
    "    for i in info['evtID']:\n",
    "        ev = file.pandas.df(entrystart=i, entrystop=i+1)\n",
    "        try:\n",
    "            ev_noDN = no_DN(ev)\n",
    "        except:\n",
    "            print(i, ': solo dark noise')\n",
    "            continue\n",
    "        ev_first = first(ev_noDN)\n",
    "        ev_norm = normal_ft(ev_first)\n",
    "        ev_map = mapev(ev_norm)\n",
    "        cl = mollweide(ev_map, i)\n",
    "        l = np.arange(len(cl))\n",
    "        power = l * (l+1) * cl\n",
    "            \n",
    "        np.save(dst_dir+str(n)+data+str(i)+'.npy', power)"
   ]
  },
  {
   "cell_type": "code",
   "execution_count": 48,
   "metadata": {},
   "outputs": [],
   "source": [
    "def time(file, info, n):\n",
    "    \n",
    "    if name(file) == 'posPMT'+str(n):\n",
    "        dst_dir = '/mnt/Storage/gvicentini/positron_time/'\n",
    "        data = 'pos_time'\n",
    "    elif name(file) == 'elPMT'+str(n):\n",
    "        dst_dir = '/mnt/Storage/gvicentini/electron_time/'\n",
    "        data = 'el_time'\n",
    "    else:\n",
    "        print('file non riconosciuto')\n",
    "    \n",
    "    hist = bh.Histogram(bh.axis.Regular(20, 0, 300))\n",
    "    for i in info['evtID']:\n",
    "        ev = file.pandas.df(entrystart=i, entrystop=i+1)\n",
    "        try:\n",
    "            ev_noDN = no_DN(ev)\n",
    "        except:\n",
    "            print(i, ': solo dark noise')\n",
    "            continue\n",
    "        ev_first = first(ev_noDN)\n",
    "        ev_norm = normal_ft(ev_first)\n",
    "        ev_time= ev_norm['hitTime'].values\n",
    "        hist.fill(ev_time)\n",
    "        array = hist.to_numpy()\n",
    "        time = array[0]\n",
    "        \n",
    "        np.save(dst_dir+str(n)+data+str(i)+'.npy', time)"
   ]
  },
  {
   "cell_type": "code",
   "execution_count": 42,
   "metadata": {},
   "outputs": [
    {
     "name": "stderr",
     "output_type": "stream",
     "text": [
      "/home/ubuntu/anaconda3/lib/python3.7/site-packages/ipykernel_launcher.py:17: FutureWarning: Using a non-tuple sequence for multidimensional indexing is deprecated; use `arr[tuple(seq)]` instead of `arr[seq]`. In the future this will be interpreted as an array index, `arr[np.array(seq)]`, which will result either in an error or a different result.\n"
     ]
    }
   ],
   "source": [
    "power_spectrum(posPMT0, posINFO0, 0)"
   ]
  },
  {
   "cell_type": "code",
   "execution_count": 14,
   "metadata": {},
   "outputs": [
    {
     "name": "stderr",
     "output_type": "stream",
     "text": [
      "/home/ubuntu/anaconda3/lib/python3.7/site-packages/ipykernel_launcher.py:17: FutureWarning: Using a non-tuple sequence for multidimensional indexing is deprecated; use `arr[tuple(seq)]` instead of `arr[seq]`. In the future this will be interpreted as an array index, `arr[np.array(seq)]`, which will result either in an error or a different result.\n"
     ]
    },
    {
     "name": "stdout",
     "output_type": "stream",
     "text": [
      "15713 : solo dark noise\n",
      "17732 : solo dark noise\n",
      "19836 : solo dark noise\n",
      "21526 : solo dark noise\n",
      "21913 : solo dark noise\n",
      "21979 : solo dark noise\n",
      "36938 : solo dark noise\n",
      "48103 : solo dark noise\n",
      "51121 : solo dark noise\n",
      "52293 : solo dark noise\n",
      "60132 : solo dark noise\n",
      "68127 : solo dark noise\n",
      "81428 : solo dark noise\n",
      "94065 : solo dark noise\n",
      "96584 : solo dark noise\n"
     ]
    }
   ],
   "source": [
    "power_spectrum(elPMT0, elINFO0, 0)"
   ]
  },
  {
   "cell_type": "code",
   "execution_count": 49,
   "metadata": {},
   "outputs": [],
   "source": [
    "time(posPMT0, posINFO0, 0)"
   ]
  },
  {
   "cell_type": "code",
   "execution_count": 50,
   "metadata": {},
   "outputs": [
    {
     "name": "stdout",
     "output_type": "stream",
     "text": [
      "15713 : solo dark noise\n",
      "17732 : solo dark noise\n",
      "19836 : solo dark noise\n",
      "21526 : solo dark noise\n",
      "21913 : solo dark noise\n",
      "21979 : solo dark noise\n",
      "36938 : solo dark noise\n",
      "48103 : solo dark noise\n",
      "51121 : solo dark noise\n",
      "52293 : solo dark noise\n",
      "60132 : solo dark noise\n",
      "68127 : solo dark noise\n",
      "81428 : solo dark noise\n",
      "94065 : solo dark noise\n",
      "96584 : solo dark noise\n"
     ]
    }
   ],
   "source": [
    "time(elPMT0, elINFO0, 0)"
   ]
  },
  {
   "cell_type": "code",
   "execution_count": null,
   "metadata": {},
   "outputs": [],
   "source": []
  }
 ],
 "metadata": {
  "kernelspec": {
   "display_name": "Python 3",
   "language": "python",
   "name": "python3"
  },
  "language_info": {
   "codemirror_mode": {
    "name": "ipython",
    "version": 3
   },
   "file_extension": ".py",
   "mimetype": "text/x-python",
   "name": "python",
   "nbconvert_exporter": "python",
   "pygments_lexer": "ipython3",
   "version": "3.7.6"
  }
 },
 "nbformat": 4,
 "nbformat_minor": 2
}
