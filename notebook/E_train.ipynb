{
 "cells": [
  {
   "cell_type": "code",
   "execution_count": 2,
   "metadata": {},
   "outputs": [],
   "source": [
    "import os\n",
    "import cupy as cp\n",
    "import matplotlib.pyplot as plt\n",
    "import numpy as np"
   ]
  },
  {
   "cell_type": "code",
   "execution_count": 3,
   "metadata": {},
   "outputs": [],
   "source": [
    "def summarize_diagnostics(history):\n",
    "    # plot loss\n",
    "    plt.subplot(211)\n",
    "    plt.title('Cross Entropy Loss')\n",
    "    plt.plot(history.history['loss'], color='blue', label='train')\n",
    "    plt.plot(history.history['val_loss'], color='orange', label='test')\n",
    "    # plot accuracy\n",
    "    plt.subplot(212)\n",
    "    plt.title('Classification Accuracy')\n",
    "    plt.plot(history.history['accuracy'], color='blue', label='train')\n",
    "    plt.plot(history.history['val_accuracy'], color='orange', label='test')"
   ]
  },
  {
   "cell_type": "markdown",
   "metadata": {},
   "source": [
    "# E0"
   ]
  },
  {
   "cell_type": "code",
   "execution_count": 76,
   "metadata": {},
   "outputs": [
    {
     "name": "stdout",
     "output_type": "stream",
     "text": [
      "90265\n"
     ]
    }
   ],
   "source": [
    "folder = 'prova_E/prova_E/E0/'\n",
    "i = 0\n",
    "for file in os.listdir(folder):\n",
    "    if file.startswith('el'):\n",
    "        i+=1\n",
    "print(i)"
   ]
  },
  {
   "cell_type": "code",
   "execution_count": 79,
   "metadata": {},
   "outputs": [],
   "source": [
    "E0 = np.empty((139137, 20, 1), dtype=cp.float64)\n",
    "labels_E0 = np.zeros(139137)\n",
    "folder = 'prova_E/prova_E/E0/'\n",
    "i = 0\n",
    "for file in os.listdir(folder):\n",
    "    if file.startswith('el'):\n",
    "        labels_E0[i] = 1\n",
    "    array = np.load(folder + file)\n",
    "    array = cp.reshape(array, (20,1))\n",
    "    E0[i] = array\n",
    "    i += 1"
   ]
  },
  {
   "cell_type": "code",
   "execution_count": 80,
   "metadata": {},
   "outputs": [],
   "source": [
    "E0 = E0/E0.max()"
   ]
  },
  {
   "cell_type": "code",
   "execution_count": 81,
   "metadata": {},
   "outputs": [],
   "source": [
    "from sklearn.model_selection import train_test_split\n",
    "E0X_train, E0X_test, E0Y_train, E0Y_test = train_test_split(E0 , labels_E0 ,test_size=0.2)"
   ]
  },
  {
   "cell_type": "code",
   "execution_count": 31,
   "metadata": {},
   "outputs": [],
   "source": [
    "from keras.models import Sequential\n",
    "from keras.layers import Dense, Conv1D, Flatten, Dropout, MaxPooling1D, BatchNormalization\n",
    "\n",
    "model0 = Sequential()\n",
    "model0.add(Conv1D(32, 3, activation='relu', kernel_initializer='he_uniform', padding='same', input_shape=(20, 1)))\n",
    "model0.add(MaxPooling1D(2))\n",
    "model0.add(BatchNormalization())\n",
    "model0.add(Dropout(0.2))\n",
    "model0.add(Conv1D(64, 3, activation='relu', kernel_initializer='he_uniform', padding='same'))\n",
    "model0.add(MaxPooling1D(2))\n",
    "model0.add(BatchNormalization())\n",
    "model0.add(Dropout(0.2))\n",
    "model0.add(Conv1D(128, 3, activation='relu', kernel_initializer='he_uniform', padding='same'))\n",
    "model0.add(MaxPooling1D(2))\n",
    "model0.add(BatchNormalization())\n",
    "model0.add(Dropout(0.2))\n",
    "model0.add(Flatten())\n",
    "model0.add(Dense(128, activation='relu', kernel_initializer='he_uniform'))\n",
    "model0.add(BatchNormalization())\n",
    "model0.add(Dropout(0.5))\n",
    "model0.add(Dense(1, activation='sigmoid'))"
   ]
  },
  {
   "cell_type": "code",
   "execution_count": 32,
   "metadata": {},
   "outputs": [],
   "source": [
    "from keras.optimizers import Adam\n",
    "opt = Adam(lr=0.0001)\n",
    "model0.compile(loss='binary_crossentropy', optimizer=opt, metrics=['accuracy'])"
   ]
  },
  {
   "cell_type": "code",
   "execution_count": 33,
   "metadata": {},
   "outputs": [
    {
     "name": "stdout",
     "output_type": "stream",
     "text": [
      "Train on 111309 samples, validate on 27828 samples\n",
      "Epoch 1/20\n",
      "111309/111309 [==============================] - 19s 169us/step - loss: 0.7444 - accuracy: 0.6070 - val_loss: 0.5591 - val_accuracy: 0.6518\n",
      "Epoch 2/20\n",
      "111309/111309 [==============================] - 18s 160us/step - loss: 0.6091 - accuracy: 0.6526 - val_loss: 0.5400 - val_accuracy: 0.6749\n",
      "Epoch 3/20\n",
      "111309/111309 [==============================] - 18s 162us/step - loss: 0.5674 - accuracy: 0.6711 - val_loss: 0.5184 - val_accuracy: 0.7014\n",
      "Epoch 4/20\n",
      "111309/111309 [==============================] - 18s 165us/step - loss: 0.5432 - accuracy: 0.6896 - val_loss: 0.5105 - val_accuracy: 0.7123\n",
      "Epoch 5/20\n",
      "111309/111309 [==============================] - 16s 147us/step - loss: 0.5301 - accuracy: 0.7012 - val_loss: 0.5089 - val_accuracy: 0.7117\n",
      "Epoch 6/20\n",
      "111309/111309 [==============================] - 16s 145us/step - loss: 0.5200 - accuracy: 0.7098 - val_loss: 0.5026 - val_accuracy: 0.7228\n",
      "Epoch 7/20\n",
      "111309/111309 [==============================] - 17s 152us/step - loss: 0.5135 - accuracy: 0.7143 - val_loss: 0.5035 - val_accuracy: 0.7176\n",
      "Epoch 8/20\n",
      "111309/111309 [==============================] - 16s 147us/step - loss: 0.5090 - accuracy: 0.7200 - val_loss: 0.4994 - val_accuracy: 0.7235\n",
      "Epoch 9/20\n",
      "111309/111309 [==============================] - 16s 145us/step - loss: 0.5037 - accuracy: 0.7227 - val_loss: 0.4977 - val_accuracy: 0.7230\n",
      "Epoch 10/20\n",
      "111309/111309 [==============================] - 16s 142us/step - loss: 0.5005 - accuracy: 0.7256 - val_loss: 0.4960 - val_accuracy: 0.7262\n",
      "Epoch 11/20\n",
      "111309/111309 [==============================] - 16s 148us/step - loss: 0.4973 - accuracy: 0.7288 - val_loss: 0.4964 - val_accuracy: 0.7231\n",
      "Epoch 12/20\n",
      "111309/111309 [==============================] - 16s 144us/step - loss: 0.4958 - accuracy: 0.7284 - val_loss: 0.4919 - val_accuracy: 0.7305\n",
      "Epoch 13/20\n",
      "111309/111309 [==============================] - 18s 160us/step - loss: 0.4936 - accuracy: 0.7310 - val_loss: 0.4985 - val_accuracy: 0.7260\n",
      "Epoch 14/20\n",
      "111309/111309 [==============================] - 17s 157us/step - loss: 0.4924 - accuracy: 0.7339 - val_loss: 0.4953 - val_accuracy: 0.7252\n",
      "Epoch 15/20\n",
      "111309/111309 [==============================] - 18s 157us/step - loss: 0.4901 - accuracy: 0.7354 - val_loss: 0.4915 - val_accuracy: 0.7278\n",
      "Epoch 16/20\n",
      "111309/111309 [==============================] - 18s 162us/step - loss: 0.4874 - accuracy: 0.7378 - val_loss: 0.4805 - val_accuracy: 0.7401\n",
      "Epoch 17/20\n",
      "111309/111309 [==============================] - 18s 166us/step - loss: 0.4869 - accuracy: 0.7377 - val_loss: 0.4860 - val_accuracy: 0.7380\n",
      "Epoch 18/20\n",
      "111309/111309 [==============================] - 18s 161us/step - loss: 0.4857 - accuracy: 0.7398 - val_loss: 0.4883 - val_accuracy: 0.7326\n",
      "Epoch 19/20\n",
      "111309/111309 [==============================] - 18s 162us/step - loss: 0.4844 - accuracy: 0.7397 - val_loss: 0.4909 - val_accuracy: 0.7309\n",
      "Epoch 20/20\n",
      "111309/111309 [==============================] - 18s 161us/step - loss: 0.4833 - accuracy: 0.7412 - val_loss: 0.4909 - val_accuracy: 0.7325\n"
     ]
    }
   ],
   "source": [
    "history0 = model0.fit(E0X_train, E0Y_train, batch_size=64, validation_data=(E0X_test, E0Y_test), epochs=20)"
   ]
  },
  {
   "cell_type": "code",
   "execution_count": 34,
   "metadata": {},
   "outputs": [
    {
     "data": {
      "image/png": "[encoded data removed]",
      "text/plain": [
       "<Figure size 432x288 with 2 Axes>"
      ]
     },
     "metadata": {
      "needs_background": "light"
     },
     "output_type": "display_data"
    }
   ],
   "source": [
    "summarize_diagnostics(history0)"
   ]
  },
  {
   "cell_type": "code",
   "execution_count": 74,
   "metadata": {},
   "outputs": [],
   "source": [
    "model2 = Sequential()\n",
    "#model1.add(Input(shape=(21,1)))\n",
    "model2.add(Flatten(input_shape=(20,1)))\n",
    "model2.add(BatchNormalization())\n",
    "model2.add(Dense(10, activation='relu', kernel_initializer='he_uniform'))\n",
    "model2.add(Dense(1, activation='sigmoid'))"
   ]
  },
  {
   "cell_type": "code",
   "execution_count": 77,
   "metadata": {},
   "outputs": [],
   "source": [
    "from keras.optimizers import Adam\n",
    "opt = Adam(lr=0.0001)\n",
    "model2.compile(loss='binary_crossentropy', optimizer=opt, metrics=['accuracy'])"
   ]
  },
  {
   "cell_type": "code",
   "execution_count": 82,
   "metadata": {},
   "outputs": [
    {
     "name": "stdout",
     "output_type": "stream",
     "text": [
      "Train on 111309 samples, validate on 27828 samples\n",
      "Epoch 1/20\n",
      "111309/111309 [==============================] - 4s 33us/step - loss: 0.5854 - accuracy: 0.6651 - val_loss: 0.5509 - val_accuracy: 0.6809\n",
      "Epoch 2/20\n",
      "111309/111309 [==============================] - 3s 29us/step - loss: 0.5410 - accuracy: 0.6955 - val_loss: 0.5282 - val_accuracy: 0.7042\n",
      "Epoch 3/20\n",
      "111309/111309 [==============================] - 3s 24us/step - loss: 0.5251 - accuracy: 0.7133 - val_loss: 0.5139 - val_accuracy: 0.7196\n",
      "Epoch 4/20\n",
      "111309/111309 [==============================] - 4s 36us/step - loss: 0.5135 - accuracy: 0.7248 - val_loss: 0.5037 - val_accuracy: 0.7291\n",
      "Epoch 5/20\n",
      "111309/111309 [==============================] - 3s 26us/step - loss: 0.5061 - accuracy: 0.7312 - val_loss: 0.4965 - val_accuracy: 0.7352\n",
      "Epoch 6/20\n",
      "111309/111309 [==============================] - 4s 35us/step - loss: 0.5008 - accuracy: 0.7356 - val_loss: 0.4921 - val_accuracy: 0.7389\n",
      "Epoch 7/20\n",
      "111309/111309 [==============================] - 4s 37us/step - loss: 0.4971 - accuracy: 0.7393 - val_loss: 0.4889 - val_accuracy: 0.7412\n",
      "Epoch 8/20\n",
      "111309/111309 [==============================] - 4s 37us/step - loss: 0.4945 - accuracy: 0.7419 - val_loss: 0.4864 - val_accuracy: 0.7450\n",
      "Epoch 9/20\n",
      "111309/111309 [==============================] - 4s 38us/step - loss: 0.4922 - accuracy: 0.7442 - val_loss: 0.4847 - val_accuracy: 0.7459\n",
      "Epoch 10/20\n",
      "111309/111309 [==============================] - 3s 30us/step - loss: 0.4912 - accuracy: 0.7434 - val_loss: 0.4832 - val_accuracy: 0.7469\n",
      "Epoch 11/20\n",
      "111309/111309 [==============================] - 5s 43us/step - loss: 0.4896 - accuracy: 0.7453 - val_loss: 0.4815 - val_accuracy: 0.7486\n",
      "Epoch 12/20\n",
      "111309/111309 [==============================] - 5s 47us/step - loss: 0.4882 - accuracy: 0.7445 - val_loss: 0.4806 - val_accuracy: 0.7487\n",
      "Epoch 13/20\n",
      "111309/111309 [==============================] - 5s 45us/step - loss: 0.4873 - accuracy: 0.7461 - val_loss: 0.4795 - val_accuracy: 0.7486\n",
      "Epoch 14/20\n",
      "111309/111309 [==============================] - 5s 44us/step - loss: 0.4863 - accuracy: 0.7461 - val_loss: 0.4785 - val_accuracy: 0.7496\n",
      "Epoch 15/20\n",
      "111309/111309 [==============================] - 4s 39us/step - loss: 0.4858 - accuracy: 0.7454 - val_loss: 0.4779 - val_accuracy: 0.7496\n",
      "Epoch 16/20\n",
      "111309/111309 [==============================] - 4s 40us/step - loss: 0.4860 - accuracy: 0.7468 - val_loss: 0.4771 - val_accuracy: 0.7501\n",
      "Epoch 17/20\n",
      "111309/111309 [==============================] - 5s 41us/step - loss: 0.4843 - accuracy: 0.7474 - val_loss: 0.4764 - val_accuracy: 0.7493\n",
      "Epoch 18/20\n",
      "111309/111309 [==============================] - 5s 43us/step - loss: 0.4838 - accuracy: 0.7482 - val_loss: 0.4758 - val_accuracy: 0.7504\n",
      "Epoch 19/20\n",
      "111309/111309 [==============================] - 5s 46us/step - loss: 0.4832 - accuracy: 0.7483 - val_loss: 0.4754 - val_accuracy: 0.7504\n",
      "Epoch 20/20\n",
      "111309/111309 [==============================] - 5s 48us/step - loss: 0.4830 - accuracy: 0.7477 - val_loss: 0.4747 - val_accuracy: 0.7507\n"
     ]
    }
   ],
   "source": [
    "history2 = model2.fit(E0X_train, E0Y_train, batch_size=64, validation_data=(E0X_test, E0Y_test), epochs=20)"
   ]
  },
  {
   "cell_type": "code",
   "execution_count": 83,
   "metadata": {},
   "outputs": [
    {
     "data": {
      "image/png": "[encoded data removed]",
      "text/plain": [
       "<Figure size 432x288 with 2 Axes>"
      ]
     },
     "metadata": {
      "needs_background": "light"
     },
     "output_type": "display_data"
    }
   ],
   "source": [
    "summarize_diagnostics(history2)"
   ]
  },
  {
   "cell_type": "markdown",
   "metadata": {},
   "source": [
    "# E1"
   ]
  },
  {
   "cell_type": "code",
   "execution_count": 86,
   "metadata": {},
   "outputs": [
    {
     "name": "stdout",
     "output_type": "stream",
     "text": [
      "89735\n"
     ]
    }
   ],
   "source": [
    "folder = 'prova_E/prova_E/E1/'\n",
    "i = 0\n",
    "for file in os.listdir(folder):\n",
    "    if file.startswith('el'):\n",
    "        i += 1\n",
    "print(i)"
   ]
  },
  {
   "cell_type": "code",
   "execution_count": 90,
   "metadata": {},
   "outputs": [],
   "source": [
    "E1 = np.empty((189571, 20, 1), dtype=cp.float64)\n",
    "labels_E1 = np.zeros(189571)\n",
    "folder = 'prova_E/prova_E/E1/'\n",
    "i = 0\n",
    "for file in os.listdir(folder):\n",
    "    if file.startswith('el'):\n",
    "        labels_E1[i] = 1\n",
    "    array = np.load(folder + file)\n",
    "    array = cp.reshape(array, (20,1))\n",
    "    E1[i] = array\n",
    "    i += 1"
   ]
  },
  {
   "cell_type": "code",
   "execution_count": 91,
   "metadata": {},
   "outputs": [],
   "source": [
    "E1 = E1/E1.max()"
   ]
  },
  {
   "cell_type": "code",
   "execution_count": 92,
   "metadata": {},
   "outputs": [],
   "source": [
    "E1X_train, E1X_test, E1Y_train, E1Y_test = train_test_split(E1 , labels_E1 ,test_size=0.2)"
   ]
  },
  {
   "cell_type": "code",
   "execution_count": 93,
   "metadata": {},
   "outputs": [],
   "source": [
    "model1 = Sequential()\n",
    "model1.add(Conv1D(32, 20, activation='relu', kernel_initializer='he_uniform', padding='same', input_shape=(20, 1)))\n",
    "model1.add(MaxPooling1D(2))\n",
    "model1.add(BatchNormalization())\n",
    "model1.add(Dropout(0.2))\n",
    "model1.add(Conv1D(64, 20, activation='relu', kernel_initializer='he_uniform', padding='same'))\n",
    "model1.add(MaxPooling1D(2))\n",
    "model1.add(BatchNormalization())\n",
    "model1.add(Dropout(0.2))\n",
    "model1.add(Conv1D(128, 20, activation='relu', kernel_initializer='he_uniform', padding='same'))\n",
    "model1.add(MaxPooling1D(2))\n",
    "model1.add(BatchNormalization())\n",
    "model1.add(Dropout(0.2))\n",
    "model1.add(Flatten())\n",
    "model1.add(Dense(128, activation='relu', kernel_initializer='he_uniform'))\n",
    "model1.add(Dropout(0.5))\n",
    "model1.add(Dense(1, activation='sigmoid'))"
   ]
  },
  {
   "cell_type": "code",
   "execution_count": 94,
   "metadata": {},
   "outputs": [],
   "source": [
    "model1.compile(loss='binary_crossentropy', optimizer=opt, metrics=['accuracy'])"
   ]
  },
  {
   "cell_type": "code",
   "execution_count": 95,
   "metadata": {},
   "outputs": [
    {
     "name": "stdout",
     "output_type": "stream",
     "text": [
      "Train on 151656 samples, validate on 37915 samples\n",
      "Epoch 1/20\n",
      "151656/151656 [==============================] - 30s 200us/step - loss: 0.7087 - accuracy: 0.5613 - val_loss: 0.6587 - val_accuracy: 0.6062\n",
      "Epoch 2/20\n",
      "151656/151656 [==============================] - 30s 198us/step - loss: 0.6560 - accuracy: 0.6048 - val_loss: 0.6304 - val_accuracy: 0.6515\n",
      "Epoch 3/20\n",
      "151656/151656 [==============================] - 29s 191us/step - loss: 0.6403 - accuracy: 0.6291 - val_loss: 0.6202 - val_accuracy: 0.6568\n",
      "Epoch 4/20\n",
      "151656/151656 [==============================] - 29s 189us/step - loss: 0.6334 - accuracy: 0.6389 - val_loss: 0.6131 - val_accuracy: 0.6623\n",
      "Epoch 5/20\n",
      "151656/151656 [==============================] - 29s 189us/step - loss: 0.6283 - accuracy: 0.6450 - val_loss: 0.6077 - val_accuracy: 0.6668\n",
      "Epoch 6/20\n",
      "151656/151656 [==============================] - 29s 189us/step - loss: 0.6246 - accuracy: 0.6510 - val_loss: 0.6084 - val_accuracy: 0.6656\n",
      "Epoch 7/20\n",
      "151656/151656 [==============================] - 29s 192us/step - loss: 0.6214 - accuracy: 0.6521 - val_loss: 0.6047 - val_accuracy: 0.6675\n",
      "Epoch 8/20\n",
      "151656/151656 [==============================] - 29s 191us/step - loss: 0.6192 - accuracy: 0.6550 - val_loss: 0.6015 - val_accuracy: 0.6723\n",
      "Epoch 9/20\n",
      "151656/151656 [==============================] - 28s 188us/step - loss: 0.6170 - accuracy: 0.6575 - val_loss: 0.6005 - val_accuracy: 0.6710\n",
      "Epoch 10/20\n",
      "151656/151656 [==============================] - 28s 183us/step - loss: 0.6153 - accuracy: 0.6592 - val_loss: 0.6018 - val_accuracy: 0.6714\n",
      "Epoch 11/20\n",
      "151656/151656 [==============================] - 32s 213us/step - loss: 0.6138 - accuracy: 0.6599 - val_loss: 0.6022 - val_accuracy: 0.6704\n",
      "Epoch 12/20\n",
      "151656/151656 [==============================] - 45s 299us/step - loss: 0.6126 - accuracy: 0.6597 - val_loss: 0.5981 - val_accuracy: 0.6747\n",
      "Epoch 13/20\n",
      "151656/151656 [==============================] - 44s 293us/step - loss: 0.6122 - accuracy: 0.6608 - val_loss: 0.5948 - val_accuracy: 0.6751\n",
      "Epoch 14/20\n",
      "151656/151656 [==============================] - 44s 291us/step - loss: 0.6119 - accuracy: 0.6623 - val_loss: 0.5977 - val_accuracy: 0.6753\n",
      "Epoch 15/20\n",
      "151656/151656 [==============================] - 45s 294us/step - loss: 0.6106 - accuracy: 0.6629 - val_loss: 0.5955 - val_accuracy: 0.6746\n",
      "Epoch 16/20\n",
      "151656/151656 [==============================] - 46s 302us/step - loss: 0.6093 - accuracy: 0.6644 - val_loss: 0.5957 - val_accuracy: 0.6768\n",
      "Epoch 17/20\n",
      "151656/151656 [==============================] - 47s 308us/step - loss: 0.6092 - accuracy: 0.6642 - val_loss: 0.6000 - val_accuracy: 0.6716\n",
      "Epoch 18/20\n",
      "151656/151656 [==============================] - 46s 302us/step - loss: 0.6085 - accuracy: 0.6653 - val_loss: 0.5956 - val_accuracy: 0.6762\n",
      "Epoch 19/20\n",
      "151656/151656 [==============================] - 46s 305us/step - loss: 0.6074 - accuracy: 0.6657 - val_loss: 0.5952 - val_accuracy: 0.6753\n",
      "Epoch 20/20\n",
      "151656/151656 [==============================] - 46s 304us/step - loss: 0.6072 - accuracy: 0.6662 - val_loss: 0.5930 - val_accuracy: 0.6781\n"
     ]
    }
   ],
   "source": [
    "history1 = model1.fit(E1X_train, E1Y_train, batch_size=64, validation_data=(E1X_test, E1Y_test), epochs=20)"
   ]
  },
  {
   "cell_type": "code",
   "execution_count": 96,
   "metadata": {},
   "outputs": [
    {
     "data": {
      "image/png": "[encoded data removed]",
      "text/plain": [
       "<Figure size 432x288 with 2 Axes>"
      ]
     },
     "metadata": {
      "needs_background": "light"
     },
     "output_type": "display_data"
    }
   ],
   "source": [
    "summarize_diagnostics(history1)"
   ]
  },
  {
   "cell_type": "code",
   "execution_count": 97,
   "metadata": {},
   "outputs": [],
   "source": [
    "model2 = Sequential()\n",
    "#model1.add(Input(shape=(21,1)))\n",
    "model2.add(Flatten(input_shape=(20,1)))\n",
    "model2.add(BatchNormalization())\n",
    "model2.add(Dense(10, activation='relu', kernel_initializer='he_uniform'))\n",
    "model2.add(Dense(1, activation='sigmoid'))"
   ]
  },
  {
   "cell_type": "code",
   "execution_count": 98,
   "metadata": {},
   "outputs": [],
   "source": [
    "from keras.optimizers import Adam\n",
    "opt = Adam(lr=0.0001)\n",
    "model2.compile(loss='binary_crossentropy', optimizer=opt, metrics=['accuracy'])"
   ]
  },
  {
   "cell_type": "code",
   "execution_count": 99,
   "metadata": {},
   "outputs": [
    {
     "name": "stdout",
     "output_type": "stream",
     "text": [
      "Train on 151656 samples, validate on 37915 samples\n",
      "Epoch 1/20\n",
      "151656/151656 [==============================] - 6s 41us/step - loss: 0.6753 - accuracy: 0.5796 - val_loss: 0.6540 - val_accuracy: 0.6072\n",
      "Epoch 2/20\n",
      "151656/151656 [==============================] - 6s 41us/step - loss: 0.6492 - accuracy: 0.6127 - val_loss: 0.6414 - val_accuracy: 0.6246\n",
      "Epoch 3/20\n",
      "151656/151656 [==============================] - 6s 41us/step - loss: 0.6407 - accuracy: 0.6238 - val_loss: 0.6349 - val_accuracy: 0.6343\n",
      "Epoch 4/20\n",
      "151656/151656 [==============================] - 6s 41us/step - loss: 0.6355 - accuracy: 0.6313 - val_loss: 0.6304 - val_accuracy: 0.6409\n",
      "Epoch 5/20\n",
      "151656/151656 [==============================] - 6s 42us/step - loss: 0.6319 - accuracy: 0.6374 - val_loss: 0.6268 - val_accuracy: 0.6455\n",
      "Epoch 6/20\n",
      "151656/151656 [==============================] - 6s 40us/step - loss: 0.6299 - accuracy: 0.6398 - val_loss: 0.6252 - val_accuracy: 0.6495\n",
      "Epoch 7/20\n",
      "151656/151656 [==============================] - 6s 37us/step - loss: 0.6277 - accuracy: 0.6430 - val_loss: 0.6231 - val_accuracy: 0.6517\n",
      "Epoch 8/20\n",
      "151656/151656 [==============================] - 6s 40us/step - loss: 0.6264 - accuracy: 0.6450 - val_loss: 0.6218 - val_accuracy: 0.6526\n",
      "Epoch 9/20\n",
      "151656/151656 [==============================] - 5s 34us/step - loss: 0.6247 - accuracy: 0.6474 - val_loss: 0.6201 - val_accuracy: 0.6536\n",
      "Epoch 10/20\n",
      "151656/151656 [==============================] - 7s 43us/step - loss: 0.6239 - accuracy: 0.6476 - val_loss: 0.6187 - val_accuracy: 0.6539\n",
      "Epoch 11/20\n",
      "151656/151656 [==============================] - 6s 41us/step - loss: 0.6232 - accuracy: 0.6467 - val_loss: 0.6178 - val_accuracy: 0.6555\n",
      "Epoch 12/20\n",
      "151656/151656 [==============================] - 6s 42us/step - loss: 0.6223 - accuracy: 0.6505 - val_loss: 0.6169 - val_accuracy: 0.6568\n",
      "Epoch 13/20\n",
      "151656/151656 [==============================] - 7s 44us/step - loss: 0.6221 - accuracy: 0.6493 - val_loss: 0.6162 - val_accuracy: 0.6569\n",
      "Epoch 14/20\n",
      "151656/151656 [==============================] - 6s 42us/step - loss: 0.6214 - accuracy: 0.6506 - val_loss: 0.6158 - val_accuracy: 0.6577\n",
      "Epoch 15/20\n",
      "151656/151656 [==============================] - 6s 42us/step - loss: 0.6204 - accuracy: 0.6506 - val_loss: 0.6156 - val_accuracy: 0.6579\n",
      "Epoch 16/20\n",
      "151656/151656 [==============================] - 6s 41us/step - loss: 0.6203 - accuracy: 0.6517 - val_loss: 0.6149 - val_accuracy: 0.6587\n",
      "Epoch 17/20\n",
      "151656/151656 [==============================] - 6s 43us/step - loss: 0.6205 - accuracy: 0.6525 - val_loss: 0.6146 - val_accuracy: 0.6593\n",
      "Epoch 18/20\n",
      "151656/151656 [==============================] - 6s 42us/step - loss: 0.6199 - accuracy: 0.6521 - val_loss: 0.6142 - val_accuracy: 0.6592\n",
      "Epoch 19/20\n",
      "151656/151656 [==============================] - 6s 42us/step - loss: 0.6197 - accuracy: 0.6524 - val_loss: 0.6140 - val_accuracy: 0.6591\n",
      "Epoch 20/20\n",
      "151656/151656 [==============================] - 6s 40us/step - loss: 0.6192 - accuracy: 0.6523 - val_loss: 0.6137 - val_accuracy: 0.6594\n"
     ]
    }
   ],
   "source": [
    "history2 = model2.fit(E1X_train, E1Y_train, batch_size=64, validation_data=(E1X_test, E1Y_test), epochs=20)"
   ]
  },
  {
   "cell_type": "code",
   "execution_count": 100,
   "metadata": {},
   "outputs": [
    {
     "data": {
      "image/png": "[encoded data removed]",
      "text/plain": [
       "<Figure size 432x288 with 2 Axes>"
      ]
     },
     "metadata": {
      "needs_background": "light"
     },
     "output_type": "display_data"
    }
   ],
   "source": [
    "summarize_diagnostics(history2)"
   ]
  },
  {
   "cell_type": "markdown",
   "metadata": {},
   "source": [
    "# E2"
   ]
  },
  {
   "cell_type": "code",
   "execution_count": 32,
   "metadata": {},
   "outputs": [
    {
     "name": "stdout",
     "output_type": "stream",
     "text": [
      "190128\n"
     ]
    }
   ],
   "source": [
    "folder = 'prova_E/prova_E/E2/'\n",
    "i = 0\n",
    "for file in os.listdir(folder):\n",
    "    i += 1\n",
    "print(i)"
   ]
  },
  {
   "cell_type": "code",
   "execution_count": 33,
   "metadata": {},
   "outputs": [],
   "source": [
    "E2 = np.empty((190128, 20, 1), dtype=cp.float64)\n",
    "labels_E2 = np.zeros(190128)\n",
    "folder = 'prova_E/prova_E/E2/'\n",
    "i = 0\n",
    "for file in os.listdir(folder):\n",
    "    if file.startswith('el'):\n",
    "        labels_E2[i] = 1\n",
    "    array = np.load(folder + file)\n",
    "    array = cp.reshape(array, (20,1))\n",
    "    E2[i] = array\n",
    "    i += 1"
   ]
  },
  {
   "cell_type": "code",
   "execution_count": 34,
   "metadata": {},
   "outputs": [],
   "source": [
    "E2 = E2/E2.max()"
   ]
  },
  {
   "cell_type": "code",
   "execution_count": 35,
   "metadata": {},
   "outputs": [],
   "source": [
    "E2X_train, E2X_test, E2Y_train, E2Y_test = train_test_split(E2 , labels_E2 ,test_size=0.2)"
   ]
  },
  {
   "cell_type": "code",
   "execution_count": 36,
   "metadata": {},
   "outputs": [],
   "source": [
    "model2 = Sequential()\n",
    "model2.add(Conv1D(32, 3, activation='relu', kernel_initializer='he_uniform', padding='same', input_shape=(20, 1)))\n",
    "model2.add(MaxPooling1D(2))\n",
    "model2.add(BatchNormalization())\n",
    "model2.add(Dropout(0.2))\n",
    "model2.add(Conv1D(64, 3, activation='relu', kernel_initializer='he_uniform', padding='same'))\n",
    "model2.add(MaxPooling1D(2))\n",
    "model2.add(BatchNormalization())\n",
    "model2.add(Dropout(0.2))\n",
    "model2.add(Conv1D(128, 3, activation='relu', kernel_initializer='he_uniform', padding='same'))\n",
    "model2.add(MaxPooling1D(2))\n",
    "model2.add(BatchNormalization())\n",
    "model2.add(Dropout(0.2))\n",
    "model2.add(Flatten())\n",
    "model2.add(Dense(128, activation='relu', kernel_initializer='he_uniform'))\n",
    "model2.add(Dropout(0.5))\n",
    "model2.add(Dense(1, activation='sigmoid'))"
   ]
  },
  {
   "cell_type": "code",
   "execution_count": 37,
   "metadata": {},
   "outputs": [],
   "source": [
    "model2.compile(loss='binary_crossentropy', optimizer=opt, metrics=['accuracy'])"
   ]
  },
  {
   "cell_type": "code",
   "execution_count": 38,
   "metadata": {},
   "outputs": [
    {
     "name": "stdout",
     "output_type": "stream",
     "text": [
      "Train on 152102 samples, validate on 38026 samples\n",
      "Epoch 1/20\n",
      "152102/152102 [==============================] - 18s 117us/step - loss: 0.6924 - accuracy: 0.5250 - val_loss: 0.6907 - val_accuracy: 0.5285\n",
      "Epoch 2/20\n",
      "152102/152102 [==============================] - 18s 116us/step - loss: 0.6886 - accuracy: 0.5388 - val_loss: 0.6864 - val_accuracy: 0.5286\n",
      "Epoch 3/20\n",
      "152102/152102 [==============================] - 18s 116us/step - loss: 0.6845 - accuracy: 0.5524 - val_loss: 0.6900 - val_accuracy: 0.5320\n",
      "Epoch 4/20\n",
      "152102/152102 [==============================] - 17s 115us/step - loss: 0.6816 - accuracy: 0.5578 - val_loss: 0.6870 - val_accuracy: 0.5388\n",
      "Epoch 5/20\n",
      "152102/152102 [==============================] - 17s 115us/step - loss: 0.6799 - accuracy: 0.5611 - val_loss: 0.6816 - val_accuracy: 0.5481\n",
      "Epoch 6/20\n",
      "152102/152102 [==============================] - 17s 114us/step - loss: 0.6776 - accuracy: 0.5664 - val_loss: 0.6840 - val_accuracy: 0.5486\n",
      "Epoch 7/20\n",
      "152102/152102 [==============================] - 17s 112us/step - loss: 0.6751 - accuracy: 0.5730 - val_loss: 0.6771 - val_accuracy: 0.5661\n",
      "Epoch 8/20\n",
      "152102/152102 [==============================] - 16s 104us/step - loss: 0.6723 - accuracy: 0.5789 - val_loss: 0.6681 - val_accuracy: 0.5847\n",
      "Epoch 9/20\n",
      "152102/152102 [==============================] - 17s 113us/step - loss: 0.6697 - accuracy: 0.5843 - val_loss: 0.6604 - val_accuracy: 0.6040\n",
      "Epoch 10/20\n",
      "152102/152102 [==============================] - 17s 113us/step - loss: 0.6662 - accuracy: 0.5916 - val_loss: 0.6591 - val_accuracy: 0.6060\n",
      "Epoch 11/20\n",
      "152102/152102 [==============================] - 17s 109us/step - loss: 0.6645 - accuracy: 0.5954 - val_loss: 0.6581 - val_accuracy: 0.6118\n",
      "Epoch 12/20\n",
      "152102/152102 [==============================] - 18s 115us/step - loss: 0.6623 - accuracy: 0.5997 - val_loss: 0.6641 - val_accuracy: 0.6081\n",
      "Epoch 13/20\n",
      "152102/152102 [==============================] - 18s 116us/step - loss: 0.6599 - accuracy: 0.6030 - val_loss: 0.6610 - val_accuracy: 0.6125\n",
      "Epoch 14/20\n",
      "152102/152102 [==============================] - 17s 114us/step - loss: 0.6584 - accuracy: 0.6043 - val_loss: 0.6497 - val_accuracy: 0.6230\n",
      "Epoch 15/20\n",
      "152102/152102 [==============================] - 16s 108us/step - loss: 0.6561 - accuracy: 0.6084 - val_loss: 0.6514 - val_accuracy: 0.6233\n",
      "Epoch 16/20\n",
      "152102/152102 [==============================] - 17s 113us/step - loss: 0.6544 - accuracy: 0.6107 - val_loss: 0.6552 - val_accuracy: 0.6204\n",
      "Epoch 17/20\n",
      "152102/152102 [==============================] - 17s 113us/step - loss: 0.6538 - accuracy: 0.6124 - val_loss: 0.6475 - val_accuracy: 0.6280\n",
      "Epoch 18/20\n",
      "152102/152102 [==============================] - 17s 114us/step - loss: 0.6533 - accuracy: 0.6121 - val_loss: 0.6531 - val_accuracy: 0.6268\n",
      "Epoch 19/20\n",
      "152102/152102 [==============================] - 18s 116us/step - loss: 0.6523 - accuracy: 0.6144 - val_loss: 0.6444 - val_accuracy: 0.6304\n",
      "Epoch 20/20\n",
      "152102/152102 [==============================] - 16s 103us/step - loss: 0.6514 - accuracy: 0.6156 - val_loss: 0.6458 - val_accuracy: 0.6299\n"
     ]
    }
   ],
   "source": [
    "history2 = model2.fit(E2X_train, E2Y_train, batch_size=64, validation_data=(E2X_test, E2Y_test), epochs=20)"
   ]
  },
  {
   "cell_type": "code",
   "execution_count": 39,
   "metadata": {},
   "outputs": [
    {
     "data": {
      "image/png": "[encoded data removed]",
      "text/plain": [
       "<Figure size 432x288 with 2 Axes>"
      ]
     },
     "metadata": {
      "needs_background": "light"
     },
     "output_type": "display_data"
    }
   ],
   "source": [
    "summarize_diagnostics(history2)"
   ]
  },
  {
   "cell_type": "markdown",
   "metadata": {},
   "source": [
    "# E3"
   ]
  },
  {
   "cell_type": "code",
   "execution_count": 40,
   "metadata": {},
   "outputs": [
    {
     "name": "stdout",
     "output_type": "stream",
     "text": [
      "190432\n"
     ]
    }
   ],
   "source": [
    "folder = 'prova_E/prova_E/E3/'\n",
    "i = 0\n",
    "for file in os.listdir(folder):\n",
    "    i += 1\n",
    "print(i)"
   ]
  },
  {
   "cell_type": "code",
   "execution_count": 41,
   "metadata": {},
   "outputs": [],
   "source": [
    "E3 = np.empty((190432, 20, 1), dtype=cp.float64)\n",
    "labels_E3 = np.zeros(190432)\n",
    "folder = 'prova_E/prova_E/E3/'\n",
    "i = 0\n",
    "for file in os.listdir(folder):\n",
    "    if file.startswith('el'):\n",
    "        labels_E3[i] = 1\n",
    "    array = np.load(folder + file)\n",
    "    array = cp.reshape(array, (20,1))\n",
    "    E3[i] = array\n",
    "    i += 1"
   ]
  },
  {
   "cell_type": "code",
   "execution_count": 42,
   "metadata": {},
   "outputs": [],
   "source": [
    "E3 = E3/E3.max()"
   ]
  },
  {
   "cell_type": "code",
   "execution_count": 43,
   "metadata": {},
   "outputs": [],
   "source": [
    "E3X_train, E3X_test, E3Y_train, E3Y_test = train_test_split(E3 , labels_E3 ,test_size=0.2)"
   ]
  },
  {
   "cell_type": "code",
   "execution_count": 44,
   "metadata": {},
   "outputs": [],
   "source": [
    "model3 = Sequential()\n",
    "model3.add(Conv1D(32, 3, activation='relu', kernel_initializer='he_uniform', padding='same', input_shape=(20, 1)))\n",
    "model3.add(MaxPooling1D(2))\n",
    "model3.add(BatchNormalization())\n",
    "model3.add(Dropout(0.2))\n",
    "model3.add(Conv1D(64, 3, activation='relu', kernel_initializer='he_uniform', padding='same'))\n",
    "model3.add(MaxPooling1D(2))\n",
    "model3.add(BatchNormalization())\n",
    "model3.add(Dropout(0.2))\n",
    "model3.add(Conv1D(128, 3, activation='relu', kernel_initializer='he_uniform', padding='same'))\n",
    "model3.add(MaxPooling1D(2))\n",
    "model3.add(BatchNormalization())\n",
    "model3.add(Dropout(0.2))\n",
    "model3.add(Flatten())\n",
    "model3.add(Dense(128, activation='relu', kernel_initializer='he_uniform'))\n",
    "model3.add(Dropout(0.5))\n",
    "model3.add(Dense(1, activation='sigmoid'))"
   ]
  },
  {
   "cell_type": "code",
   "execution_count": 45,
   "metadata": {},
   "outputs": [],
   "source": [
    "model3.compile(loss='binary_crossentropy', optimizer=opt, metrics=['accuracy'])"
   ]
  },
  {
   "cell_type": "code",
   "execution_count": 46,
   "metadata": {},
   "outputs": [
    {
     "name": "stdout",
     "output_type": "stream",
     "text": [
      "Train on 152345 samples, validate on 38087 samples\n",
      "Epoch 1/20\n",
      "152345/152345 [==============================] - 18s 116us/step - loss: 0.6929 - accuracy: 0.5219 - val_loss: 0.6915 - val_accuracy: 0.5297\n",
      "Epoch 2/20\n",
      "152345/152345 [==============================] - 17s 113us/step - loss: 0.6915 - accuracy: 0.5277 - val_loss: 0.6903 - val_accuracy: 0.5296\n",
      "Epoch 3/20\n",
      "152345/152345 [==============================] - 17s 113us/step - loss: 0.6895 - accuracy: 0.5346 - val_loss: 0.6887 - val_accuracy: 0.5296\n",
      "Epoch 4/20\n",
      "152345/152345 [==============================] - 17s 113us/step - loss: 0.6868 - accuracy: 0.5443 - val_loss: 0.6939 - val_accuracy: 0.5302\n",
      "Epoch 5/20\n",
      "152345/152345 [==============================] - 17s 114us/step - loss: 0.6847 - accuracy: 0.5504 - val_loss: 0.6852 - val_accuracy: 0.5365\n",
      "Epoch 6/20\n",
      "152345/152345 [==============================] - 17s 114us/step - loss: 0.6826 - accuracy: 0.5566 - val_loss: 0.6891 - val_accuracy: 0.5350\n",
      "Epoch 7/20\n",
      "152345/152345 [==============================] - 17s 114us/step - loss: 0.6809 - accuracy: 0.5603 - val_loss: 0.6784 - val_accuracy: 0.5565\n",
      "Epoch 8/20\n",
      "152345/152345 [==============================] - 17s 114us/step - loss: 0.6798 - accuracy: 0.5638 - val_loss: 0.6876 - val_accuracy: 0.5381\n",
      "Epoch 9/20\n",
      "152345/152345 [==============================] - 17s 114us/step - loss: 0.6778 - accuracy: 0.5673 - val_loss: 0.6819 - val_accuracy: 0.5561\n",
      "Epoch 10/20\n",
      "152345/152345 [==============================] - 17s 113us/step - loss: 0.6765 - accuracy: 0.5705 - val_loss: 0.6862 - val_accuracy: 0.5552\n",
      "Epoch 11/20\n",
      "152345/152345 [==============================] - 17s 111us/step - loss: 0.6746 - accuracy: 0.5757 - val_loss: 0.6786 - val_accuracy: 0.5657\n",
      "Epoch 12/20\n",
      "152345/152345 [==============================] - 16s 105us/step - loss: 0.6734 - accuracy: 0.5772 - val_loss: 0.6809 - val_accuracy: 0.5668\n",
      "Epoch 13/20\n",
      "152345/152345 [==============================] - 16s 105us/step - loss: 0.6723 - accuracy: 0.5810 - val_loss: 0.6769 - val_accuracy: 0.5768\n",
      "Epoch 14/20\n",
      "152345/152345 [==============================] - 16s 103us/step - loss: 0.6717 - accuracy: 0.5812 - val_loss: 0.6725 - val_accuracy: 0.5844\n",
      "Epoch 15/20\n",
      "152345/152345 [==============================] - 16s 106us/step - loss: 0.6702 - accuracy: 0.5843 - val_loss: 0.6934 - val_accuracy: 0.5616\n",
      "Epoch 16/20\n",
      "152345/152345 [==============================] - 17s 112us/step - loss: 0.6695 - accuracy: 0.5864 - val_loss: 0.6715 - val_accuracy: 0.5823\n",
      "Epoch 17/20\n",
      "152345/152345 [==============================] - 18s 116us/step - loss: 0.6686 - accuracy: 0.5874 - val_loss: 0.6826 - val_accuracy: 0.5698\n",
      "Epoch 18/20\n",
      "152345/152345 [==============================] - 16s 107us/step - loss: 0.6677 - accuracy: 0.5881 - val_loss: 0.6632 - val_accuracy: 0.5966\n",
      "Epoch 19/20\n",
      "152345/152345 [==============================] - 17s 110us/step - loss: 0.6670 - accuracy: 0.5907 - val_loss: 0.6777 - val_accuracy: 0.5799\n",
      "Epoch 20/20\n",
      "152345/152345 [==============================] - 16s 103us/step - loss: 0.6665 - accuracy: 0.5904 - val_loss: 0.6820 - val_accuracy: 0.5777\n"
     ]
    }
   ],
   "source": [
    "history3 = model3.fit(E3X_train, E3Y_train, batch_size=64, validation_data=(E3X_test, E3Y_test), epochs=20)"
   ]
  },
  {
   "cell_type": "code",
   "execution_count": 54,
   "metadata": {},
   "outputs": [
    {
     "data": {
      "image/png": "[encoded data removed]",
      "text/plain": [
       "<Figure size 432x288 with 2 Axes>"
      ]
     },
     "metadata": {
      "needs_background": "light"
     },
     "output_type": "display_data"
    }
   ],
   "source": [
    "summarize_diagnostics(history3)"
   ]
  },
  {
   "cell_type": "markdown",
   "metadata": {},
   "source": [
    "# E4"
   ]
  },
  {
   "cell_type": "code",
   "execution_count": 47,
   "metadata": {},
   "outputs": [
    {
     "name": "stdout",
     "output_type": "stream",
     "text": [
      "188824\n"
     ]
    }
   ],
   "source": [
    "folder = 'prova_E/prova_E/E4/'\n",
    "i = 0\n",
    "for file in os.listdir(folder):\n",
    "    i += 1\n",
    "print(i)"
   ]
  },
  {
   "cell_type": "code",
   "execution_count": 48,
   "metadata": {},
   "outputs": [],
   "source": [
    "E4 = np.empty((188824, 20, 1), dtype=cp.float64)\n",
    "labels_E4 = np.zeros(188824)\n",
    "folder = 'prova_E/prova_E/E4/'\n",
    "i = 0\n",
    "for file in os.listdir(folder):\n",
    "    if file.startswith('el'):\n",
    "        labels_E4[i] = 1\n",
    "    array = np.load(folder + file)\n",
    "    array = cp.reshape(array, (20,1))\n",
    "    E4[i] = array\n",
    "    i += 1"
   ]
  },
  {
   "cell_type": "code",
   "execution_count": 49,
   "metadata": {},
   "outputs": [],
   "source": [
    "E4 = E4/E4.max()"
   ]
  },
  {
   "cell_type": "code",
   "execution_count": 50,
   "metadata": {},
   "outputs": [],
   "source": [
    "E4X_train, E4X_test, E4Y_train, E4Y_test = train_test_split(E4 , labels_E4 ,test_size=0.2)"
   ]
  },
  {
   "cell_type": "code",
   "execution_count": 51,
   "metadata": {},
   "outputs": [],
   "source": [
    "model4 = Sequential()\n",
    "model4.add(Conv1D(32, 3, activation='relu', kernel_initializer='he_uniform', padding='same', input_shape=(20, 1)))\n",
    "model4.add(MaxPooling1D(2))\n",
    "model4.add(BatchNormalization())\n",
    "model4.add(Dropout(0.2))\n",
    "model4.add(Conv1D(64, 3, activation='relu', kernel_initializer='he_uniform', padding='same'))\n",
    "model4.add(MaxPooling1D(2))\n",
    "model4.add(BatchNormalization())\n",
    "model4.add(Dropout(0.2))\n",
    "model4.add(Conv1D(128, 3, activation='relu', kernel_initializer='he_uniform', padding='same'))\n",
    "model4.add(MaxPooling1D(2))\n",
    "model4.add(BatchNormalization())\n",
    "model4.add(Dropout(0.2))\n",
    "model4.add(Flatten())\n",
    "model4.add(Dense(128, activation='relu', kernel_initializer='he_uniform'))\n",
    "model4.add(Dropout(0.5))\n",
    "model4.add(Dense(1, activation='sigmoid'))"
   ]
  },
  {
   "cell_type": "code",
   "execution_count": 52,
   "metadata": {},
   "outputs": [],
   "source": [
    "model4.compile(loss='binary_crossentropy', optimizer=opt, metrics=['accuracy'])"
   ]
  },
  {
   "cell_type": "code",
   "execution_count": 53,
   "metadata": {},
   "outputs": [
    {
     "name": "stdout",
     "output_type": "stream",
     "text": [
      "Train on 151059 samples, validate on 37765 samples\n",
      "Epoch 1/20\n",
      "151059/151059 [==============================] - 18s 117us/step - loss: 0.6939 - accuracy: 0.5147 - val_loss: 0.6923 - val_accuracy: 0.5221\n",
      "Epoch 2/20\n",
      "151059/151059 [==============================] - 17s 114us/step - loss: 0.6923 - accuracy: 0.5223 - val_loss: 0.6920 - val_accuracy: 0.5221\n",
      "Epoch 3/20\n",
      "151059/151059 [==============================] - 17s 110us/step - loss: 0.6920 - accuracy: 0.5232 - val_loss: 0.6921 - val_accuracy: 0.5221\n",
      "Epoch 4/20\n",
      "151059/151059 [==============================] - 16s 106us/step - loss: 0.6914 - accuracy: 0.5264 - val_loss: 0.6914 - val_accuracy: 0.5221\n",
      "Epoch 5/20\n",
      "151059/151059 [==============================] - 17s 115us/step - loss: 0.6907 - accuracy: 0.5284 - val_loss: 0.6902 - val_accuracy: 0.5222\n",
      "Epoch 6/20\n",
      "151059/151059 [==============================] - 17s 115us/step - loss: 0.6898 - accuracy: 0.5326 - val_loss: 0.6911 - val_accuracy: 0.5223\n",
      "Epoch 7/20\n",
      "151059/151059 [==============================] - 18s 116us/step - loss: 0.6885 - accuracy: 0.5374 - val_loss: 0.6898 - val_accuracy: 0.5235\n",
      "Epoch 8/20\n",
      "151059/151059 [==============================] - 18s 119us/step - loss: 0.6870 - accuracy: 0.5429 - val_loss: 0.6937 - val_accuracy: 0.5236\n",
      "Epoch 9/20\n",
      "151059/151059 [==============================] - 17s 112us/step - loss: 0.6856 - accuracy: 0.5478 - val_loss: 0.6915 - val_accuracy: 0.5239\n",
      "Epoch 10/20\n",
      "151059/151059 [==============================] - 17s 112us/step - loss: 0.6848 - accuracy: 0.5490 - val_loss: 0.6925 - val_accuracy: 0.5242\n",
      "Epoch 11/20\n",
      "151059/151059 [==============================] - 17s 113us/step - loss: 0.6838 - accuracy: 0.5526 - val_loss: 0.6937 - val_accuracy: 0.5260\n",
      "Epoch 12/20\n",
      "151059/151059 [==============================] - 17s 113us/step - loss: 0.6833 - accuracy: 0.5544 - val_loss: 0.6913 - val_accuracy: 0.5277\n",
      "Epoch 13/20\n",
      "151059/151059 [==============================] - 17s 114us/step - loss: 0.6822 - accuracy: 0.5563 - val_loss: 0.6923 - val_accuracy: 0.5291\n",
      "Epoch 14/20\n",
      "151059/151059 [==============================] - 17s 113us/step - loss: 0.6816 - accuracy: 0.5596 - val_loss: 0.6894 - val_accuracy: 0.5328\n",
      "Epoch 15/20\n",
      "151059/151059 [==============================] - 17s 113us/step - loss: 0.6802 - accuracy: 0.5608 - val_loss: 0.6931 - val_accuracy: 0.5338\n",
      "Epoch 16/20\n",
      "151059/151059 [==============================] - 17s 113us/step - loss: 0.6798 - accuracy: 0.5636 - val_loss: 0.6932 - val_accuracy: 0.5331\n",
      "Epoch 17/20\n",
      "151059/151059 [==============================] - 17s 113us/step - loss: 0.6792 - accuracy: 0.5651 - val_loss: 0.6888 - val_accuracy: 0.5408\n",
      "Epoch 18/20\n",
      "151059/151059 [==============================] - 17s 115us/step - loss: 0.6777 - accuracy: 0.5692 - val_loss: 0.6895 - val_accuracy: 0.5394\n",
      "Epoch 19/20\n",
      "151059/151059 [==============================] - 17s 114us/step - loss: 0.6776 - accuracy: 0.5700 - val_loss: 0.6951 - val_accuracy: 0.5375\n",
      "Epoch 20/20\n",
      "151059/151059 [==============================] - 16s 106us/step - loss: 0.6767 - accuracy: 0.5707 - val_loss: 0.6830 - val_accuracy: 0.5530\n"
     ]
    }
   ],
   "source": [
    "history4 = model4.fit(E4X_train, E4Y_train, batch_size=64, validation_data=(E4X_test, E4Y_test), epochs=20)"
   ]
  },
  {
   "cell_type": "code",
   "execution_count": 55,
   "metadata": {},
   "outputs": [
    {
     "data": {
      "image/png": "[encoded data removed]",
      "text/plain": [
       "<Figure size 432x288 with 2 Axes>"
      ]
     },
     "metadata": {
      "needs_background": "light"
     },
     "output_type": "display_data"
    }
   ],
   "source": [
    "summarize_diagnostics(history4)"
   ]
  },
  {
   "cell_type": "markdown",
   "metadata": {},
   "source": [
    "# E5"
   ]
  },
  {
   "cell_type": "code",
   "execution_count": 56,
   "metadata": {},
   "outputs": [
    {
     "name": "stdout",
     "output_type": "stream",
     "text": [
      "169695\n"
     ]
    }
   ],
   "source": [
    "folder = 'prova_E/prova_E/E5/'\n",
    "i = 0\n",
    "for file in os.listdir(folder):\n",
    "    i += 1\n",
    "print(i)"
   ]
  },
  {
   "cell_type": "code",
   "execution_count": 57,
   "metadata": {},
   "outputs": [],
   "source": [
    "E5 = np.empty((169695, 20, 1), dtype=cp.float64)\n",
    "labels_E5 = np.zeros(169695)\n",
    "folder = 'prova_E/prova_E/E5/'\n",
    "i = 0\n",
    "for file in os.listdir(folder):\n",
    "    if file.startswith('el'):\n",
    "        labels_E5[i] = 1\n",
    "    array = np.load(folder + file)\n",
    "    array = cp.reshape(array, (20,1))\n",
    "    E5[i] = array\n",
    "    i += 1"
   ]
  },
  {
   "cell_type": "code",
   "execution_count": 58,
   "metadata": {},
   "outputs": [],
   "source": [
    "E5 = E5/E5.max()"
   ]
  },
  {
   "cell_type": "code",
   "execution_count": 59,
   "metadata": {},
   "outputs": [],
   "source": [
    "E5X_train, E5X_test, E5Y_train, E5Y_test = train_test_split(E5 , labels_E5 ,test_size=0.2)"
   ]
  },
  {
   "cell_type": "code",
   "execution_count": 60,
   "metadata": {},
   "outputs": [],
   "source": [
    "model5 = Sequential()\n",
    "model5.add(Conv1D(32, 3, activation='relu', kernel_initializer='he_uniform', padding='same', input_shape=(20, 1)))\n",
    "model5.add(MaxPooling1D(2))\n",
    "model5.add(BatchNormalization())\n",
    "model5.add(Dropout(0.2))\n",
    "model5.add(Conv1D(64, 3, activation='relu', kernel_initializer='he_uniform', padding='same'))\n",
    "model5.add(MaxPooling1D(2))\n",
    "model5.add(BatchNormalization())\n",
    "model5.add(Dropout(0.2))\n",
    "model5.add(Conv1D(128, 3, activation='relu', kernel_initializer='he_uniform', padding='same'))\n",
    "model5.add(MaxPooling1D(2))\n",
    "model5.add(BatchNormalization())\n",
    "model5.add(Dropout(0.2))\n",
    "model5.add(Flatten())\n",
    "model5.add(Dense(128, activation='relu', kernel_initializer='he_uniform'))\n",
    "model5.add(Dropout(0.5))\n",
    "model5.add(Dense(1, activation='sigmoid'))"
   ]
  },
  {
   "cell_type": "code",
   "execution_count": 61,
   "metadata": {},
   "outputs": [],
   "source": [
    "model5.compile(loss='binary_crossentropy', optimizer=opt, metrics=['accuracy'])"
   ]
  },
  {
   "cell_type": "code",
   "execution_count": 62,
   "metadata": {},
   "outputs": [
    {
     "name": "stdout",
     "output_type": "stream",
     "text": [
      "Train on 135756 samples, validate on 33939 samples\n",
      "Epoch 1/20\n",
      "135756/135756 [==============================] - 16s 117us/step - loss: 0.6942 - accuracy: 0.5180 - val_loss: 0.6919 - val_accuracy: 0.5259\n",
      "Epoch 2/20\n",
      "135756/135756 [==============================] - 15s 110us/step - loss: 0.6923 - accuracy: 0.5240 - val_loss: 0.6918 - val_accuracy: 0.5260\n",
      "Epoch 3/20\n",
      "135756/135756 [==============================] - 15s 113us/step - loss: 0.6918 - accuracy: 0.5265 - val_loss: 0.6916 - val_accuracy: 0.5260\n",
      "Epoch 4/20\n",
      "135756/135756 [==============================] - 15s 107us/step - loss: 0.6917 - accuracy: 0.5251 - val_loss: 0.6915 - val_accuracy: 0.5260\n",
      "Epoch 5/20\n",
      "135756/135756 [==============================] - 15s 114us/step - loss: 0.6914 - accuracy: 0.5263 - val_loss: 0.6912 - val_accuracy: 0.5260\n",
      "Epoch 6/20\n",
      "135756/135756 [==============================] - 15s 111us/step - loss: 0.6909 - accuracy: 0.5272 - val_loss: 0.6911 - val_accuracy: 0.5260\n",
      "Epoch 7/20\n",
      "135756/135756 [==============================] - 14s 105us/step - loss: 0.6901 - accuracy: 0.5314 - val_loss: 0.6898 - val_accuracy: 0.5259\n",
      "Epoch 8/20\n",
      "135756/135756 [==============================] - 15s 111us/step - loss: 0.6894 - accuracy: 0.5328 - val_loss: 0.6915 - val_accuracy: 0.5260\n",
      "Epoch 9/20\n",
      "135756/135756 [==============================] - 15s 110us/step - loss: 0.6885 - accuracy: 0.5356 - val_loss: 0.6907 - val_accuracy: 0.5266\n",
      "Epoch 10/20\n",
      "135756/135756 [==============================] - 15s 109us/step - loss: 0.6882 - accuracy: 0.5384 - val_loss: 0.6934 - val_accuracy: 0.5261\n",
      "Epoch 11/20\n",
      "135756/135756 [==============================] - 15s 112us/step - loss: 0.6874 - accuracy: 0.5422 - val_loss: 0.7014 - val_accuracy: 0.5260\n",
      "Epoch 12/20\n",
      "135756/135756 [==============================] - 15s 109us/step - loss: 0.6869 - accuracy: 0.5432 - val_loss: 0.7013 - val_accuracy: 0.5262\n",
      "Epoch 13/20\n",
      "135756/135756 [==============================] - 15s 113us/step - loss: 0.6859 - accuracy: 0.5455 - val_loss: 0.7002 - val_accuracy: 0.5265\n",
      "Epoch 14/20\n",
      "135756/135756 [==============================] - 16s 114us/step - loss: 0.6860 - accuracy: 0.5450 - val_loss: 0.7040 - val_accuracy: 0.5270\n",
      "Epoch 15/20\n",
      "135756/135756 [==============================] - 15s 113us/step - loss: 0.6856 - accuracy: 0.5461 - val_loss: 0.7065 - val_accuracy: 0.5265\n",
      "Epoch 16/20\n",
      "135756/135756 [==============================] - 15s 110us/step - loss: 0.6845 - accuracy: 0.5510 - val_loss: 0.7057 - val_accuracy: 0.5267\n",
      "Epoch 17/20\n",
      "135756/135756 [==============================] - 15s 110us/step - loss: 0.6844 - accuracy: 0.5513 - val_loss: 0.6991 - val_accuracy: 0.5285\n",
      "Epoch 18/20\n",
      "135756/135756 [==============================] - 15s 108us/step - loss: 0.6839 - accuracy: 0.5544 - val_loss: 0.7200 - val_accuracy: 0.5266\n",
      "Epoch 19/20\n",
      "135756/135756 [==============================] - 14s 106us/step - loss: 0.6839 - accuracy: 0.5530 - val_loss: 0.7164 - val_accuracy: 0.5265\n",
      "Epoch 20/20\n",
      "135756/135756 [==============================] - 15s 109us/step - loss: 0.6836 - accuracy: 0.5538 - val_loss: 0.6939 - val_accuracy: 0.5306\n"
     ]
    }
   ],
   "source": [
    "history5 = model5.fit(E5X_train, E5Y_train, batch_size=64, validation_data=(E5X_test, E5Y_test), epochs=20)"
   ]
  },
  {
   "cell_type": "code",
   "execution_count": 63,
   "metadata": {},
   "outputs": [
    {
     "data": {
      "image/png": "[encoded data removed]",
      "text/plain": [
       "<Figure size 432x288 with 2 Axes>"
      ]
     },
     "metadata": {
      "needs_background": "light"
     },
     "output_type": "display_data"
    }
   ],
   "source": [
    "summarize_diagnostics(history5)"
   ]
  },
  {
   "cell_type": "markdown",
   "metadata": {},
   "source": [
    "# E6"
   ]
  },
  {
   "cell_type": "code",
   "execution_count": 64,
   "metadata": {},
   "outputs": [
    {
     "name": "stdout",
     "output_type": "stream",
     "text": [
      "149425\n"
     ]
    }
   ],
   "source": [
    "folder = 'prova_E/prova_E/E6/'\n",
    "i = 0\n",
    "for file in os.listdir(folder):\n",
    "    i += 1\n",
    "print(i)"
   ]
  },
  {
   "cell_type": "code",
   "execution_count": 65,
   "metadata": {},
   "outputs": [],
   "source": [
    "E6 = np.empty((149425, 20, 1), dtype=cp.float64)\n",
    "labels_E6 = np.zeros(149425)\n",
    "folder = 'prova_E/prova_E/E6/'\n",
    "i = 0\n",
    "for file in os.listdir(folder):\n",
    "    if file.startswith('el'):\n",
    "        labels_E6[i] = 1\n",
    "    array = np.load(folder + file)\n",
    "    array = cp.reshape(array, (20,1))\n",
    "    E6[i] = array\n",
    "    i += 1"
   ]
  },
  {
   "cell_type": "code",
   "execution_count": 66,
   "metadata": {},
   "outputs": [],
   "source": [
    "E6 = E6/E6.max()"
   ]
  },
  {
   "cell_type": "code",
   "execution_count": 67,
   "metadata": {},
   "outputs": [],
   "source": [
    "E6X_train, E6X_test, E6Y_train, E6Y_test = train_test_split(E6 , labels_E6 ,test_size=0.2)"
   ]
  },
  {
   "cell_type": "code",
   "execution_count": 68,
   "metadata": {},
   "outputs": [],
   "source": [
    "model6 = Sequential()\n",
    "model6.add(Conv1D(32, 3, activation='relu', kernel_initializer='he_uniform', padding='same', input_shape=(20, 1)))\n",
    "model6.add(MaxPooling1D(2))\n",
    "model6.add(BatchNormalization())\n",
    "model6.add(Dropout(0.2))\n",
    "model6.add(Conv1D(64, 3, activation='relu', kernel_initializer='he_uniform', padding='same'))\n",
    "model6.add(MaxPooling1D(2))\n",
    "model6.add(BatchNormalization())\n",
    "model6.add(Dropout(0.2))\n",
    "model6.add(Conv1D(128, 3, activation='relu', kernel_initializer='he_uniform', padding='same'))\n",
    "model6.add(MaxPooling1D(2))\n",
    "model6.add(BatchNormalization())\n",
    "model6.add(Dropout(0.2))\n",
    "model6.add(Flatten())\n",
    "model6.add(Dense(128, activation='relu', kernel_initializer='he_uniform'))\n",
    "model6.add(Dropout(0.5))\n",
    "model6.add(Dense(1, activation='sigmoid'))"
   ]
  },
  {
   "cell_type": "code",
   "execution_count": 69,
   "metadata": {},
   "outputs": [],
   "source": [
    "model6.compile(loss='binary_crossentropy', optimizer=opt, metrics=['accuracy'])"
   ]
  },
  {
   "cell_type": "code",
   "execution_count": 70,
   "metadata": {},
   "outputs": [
    {
     "name": "stdout",
     "output_type": "stream",
     "text": [
      "Train on 119540 samples, validate on 29885 samples\n",
      "Epoch 1/20\n",
      "119540/119540 [==============================] - 14s 118us/step - loss: 0.6768 - accuracy: 0.5984 - val_loss: 0.6764 - val_accuracy: 0.6001\n",
      "Epoch 2/20\n",
      "119540/119540 [==============================] - 14s 114us/step - loss: 0.6752 - accuracy: 0.5996 - val_loss: 0.6757 - val_accuracy: 0.6001\n",
      "Epoch 3/20\n",
      "119540/119540 [==============================] - 14s 117us/step - loss: 0.6748 - accuracy: 0.5996 - val_loss: 0.6753 - val_accuracy: 0.6001\n",
      "Epoch 4/20\n",
      "119540/119540 [==============================] - 13s 106us/step - loss: 0.6744 - accuracy: 0.5996 - val_loss: 0.6739 - val_accuracy: 0.6001\n",
      "Epoch 5/20\n",
      "119540/119540 [==============================] - 13s 109us/step - loss: 0.6740 - accuracy: 0.5996 - val_loss: 0.6730 - val_accuracy: 0.6001\n",
      "Epoch 6/20\n",
      "119540/119540 [==============================] - 14s 117us/step - loss: 0.6737 - accuracy: 0.5996 - val_loss: 0.6727 - val_accuracy: 0.6001\n",
      "Epoch 7/20\n",
      "119540/119540 [==============================] - 14s 113us/step - loss: 0.6735 - accuracy: 0.5996 - val_loss: 0.6724 - val_accuracy: 0.6001\n",
      "Epoch 8/20\n",
      "119540/119540 [==============================] - 13s 111us/step - loss: 0.6729 - accuracy: 0.5996 - val_loss: 0.6721 - val_accuracy: 0.6001\n",
      "Epoch 9/20\n",
      "119540/119540 [==============================] - 12s 102us/step - loss: 0.6728 - accuracy: 0.5996 - val_loss: 0.6724 - val_accuracy: 0.6001\n",
      "Epoch 10/20\n",
      "119540/119540 [==============================] - 13s 105us/step - loss: 0.6722 - accuracy: 0.5996 - val_loss: 0.6748 - val_accuracy: 0.6001\n",
      "Epoch 11/20\n",
      "119540/119540 [==============================] - 13s 105us/step - loss: 0.6719 - accuracy: 0.5996 - val_loss: 0.6721 - val_accuracy: 0.6001\n",
      "Epoch 12/20\n",
      "119540/119540 [==============================] - 14s 116us/step - loss: 0.6715 - accuracy: 0.5996 - val_loss: 0.6746 - val_accuracy: 0.6001\n",
      "Epoch 13/20\n",
      "119540/119540 [==============================] - 13s 110us/step - loss: 0.6713 - accuracy: 0.5996 - val_loss: 0.6743 - val_accuracy: 0.6001\n",
      "Epoch 14/20\n",
      "119540/119540 [==============================] - 14s 115us/step - loss: 0.6711 - accuracy: 0.5996 - val_loss: 0.6798 - val_accuracy: 0.6001\n",
      "Epoch 15/20\n",
      "119540/119540 [==============================] - 14s 115us/step - loss: 0.6708 - accuracy: 0.5997 - val_loss: 0.6771 - val_accuracy: 0.6001\n",
      "Epoch 16/20\n",
      "119540/119540 [==============================] - 13s 110us/step - loss: 0.6701 - accuracy: 0.5995 - val_loss: 0.6784 - val_accuracy: 0.6001\n",
      "Epoch 17/20\n",
      "119540/119540 [==============================] - 12s 103us/step - loss: 0.6701 - accuracy: 0.5996 - val_loss: 0.6800 - val_accuracy: 0.6001\n",
      "Epoch 18/20\n",
      "119540/119540 [==============================] - 13s 112us/step - loss: 0.6695 - accuracy: 0.5997 - val_loss: 0.6789 - val_accuracy: 0.6001\n",
      "Epoch 19/20\n",
      "119540/119540 [==============================] - 13s 113us/step - loss: 0.6699 - accuracy: 0.5995 - val_loss: 0.6776 - val_accuracy: 0.6001\n",
      "Epoch 20/20\n",
      "119540/119540 [==============================] - 13s 111us/step - loss: 0.6691 - accuracy: 0.5996 - val_loss: 0.6834 - val_accuracy: 0.6001\n"
     ]
    }
   ],
   "source": [
    "history6 = model6.fit(E6X_train, E6Y_train, batch_size=64, validation_data=(E6X_test, E6Y_test), epochs=20)"
   ]
  },
  {
   "cell_type": "code",
   "execution_count": 71,
   "metadata": {},
   "outputs": [
    {
     "data": {
      "image/png": "[encoded data removed]",
      "text/plain": [
       "<Figure size 432x288 with 2 Axes>"
      ]
     },
     "metadata": {
      "needs_background": "light"
     },
     "output_type": "display_data"
    }
   ],
   "source": [
    "summarize_diagnostics(history6)"
   ]
  },
  {
   "cell_type": "markdown",
   "metadata": {},
   "source": [
    "# E7"
   ]
  },
  {
   "cell_type": "code",
   "execution_count": 72,
   "metadata": {},
   "outputs": [
    {
     "name": "stdout",
     "output_type": "stream",
     "text": [
      "141085\n"
     ]
    }
   ],
   "source": [
    "folder = 'prova_E/prova_E/E7/'\n",
    "i = 0\n",
    "for file in os.listdir(folder):\n",
    "    i += 1\n",
    "print(i)"
   ]
  },
  {
   "cell_type": "code",
   "execution_count": 73,
   "metadata": {},
   "outputs": [],
   "source": [
    "E7 = np.empty((141085, 20, 1), dtype=cp.float64)\n",
    "labels_E7 = np.zeros(141085)\n",
    "folder = 'prova_E/prova_E/E7/'\n",
    "i = 0\n",
    "for file in os.listdir(folder):\n",
    "    if file.startswith('el'):\n",
    "        labels_E7[i] = 1\n",
    "    array = np.load(folder + file)\n",
    "    array = cp.reshape(array, (20,1))\n",
    "    E7[i] = array\n",
    "    i += 1"
   ]
  },
  {
   "cell_type": "code",
   "execution_count": 74,
   "metadata": {},
   "outputs": [],
   "source": [
    "E7 = E7/E7.max()"
   ]
  },
  {
   "cell_type": "code",
   "execution_count": 75,
   "metadata": {},
   "outputs": [],
   "source": [
    "E7X_train, E7X_test, E7Y_train, E7Y_test = train_test_split(E7 , labels_E7 ,test_size=0.2)"
   ]
  },
  {
   "cell_type": "code",
   "execution_count": 76,
   "metadata": {},
   "outputs": [],
   "source": [
    "model7 = Sequential()\n",
    "model7.add(Conv1D(32, 3, activation='relu', kernel_initializer='he_uniform', padding='same', input_shape=(20, 1)))\n",
    "model7.add(MaxPooling1D(2))\n",
    "model7.add(BatchNormalization())\n",
    "model7.add(Dropout(0.2))\n",
    "model7.add(Conv1D(64, 3, activation='relu', kernel_initializer='he_uniform', padding='same'))\n",
    "model7.add(MaxPooling1D(2))\n",
    "model7.add(BatchNormalization())\n",
    "model7.add(Dropout(0.2))\n",
    "model7.add(Conv1D(128, 3, activation='relu', kernel_initializer='he_uniform', padding='same'))\n",
    "model7.add(MaxPooling1D(2))\n",
    "model7.add(Dropout(0.2))\n",
    "model7.add(BatchNormalization())\n",
    "model7.add(Flatten())\n",
    "model7.add(Dense(128, activation='relu', kernel_initializer='he_uniform'))\n",
    "model7.add(Dropout(0.5))\n",
    "model7.add(Dense(1, activation='sigmoid'))"
   ]
  },
  {
   "cell_type": "code",
   "execution_count": 77,
   "metadata": {},
   "outputs": [],
   "source": [
    "model7.compile(loss='binary_crossentropy', optimizer=opt, metrics=['accuracy'])"
   ]
  },
  {
   "cell_type": "code",
   "execution_count": 78,
   "metadata": {},
   "outputs": [
    {
     "name": "stdout",
     "output_type": "stream",
     "text": [
      "Train on 112868 samples, validate on 28217 samples\n",
      "Epoch 1/20\n",
      "112868/112868 [==============================] - 14s 122us/step - loss: 0.6598 - accuracy: 0.6359 - val_loss: 0.6605 - val_accuracy: 0.6426\n",
      "Epoch 2/20\n",
      "112868/112868 [==============================] - 13s 116us/step - loss: 0.6583 - accuracy: 0.6366 - val_loss: 0.6580 - val_accuracy: 0.6426\n",
      "Epoch 3/20\n",
      "112868/112868 [==============================] - 13s 117us/step - loss: 0.6575 - accuracy: 0.6366 - val_loss: 0.6555 - val_accuracy: 0.6426\n",
      "Epoch 4/20\n",
      "112868/112868 [==============================] - 13s 116us/step - loss: 0.6570 - accuracy: 0.6366 - val_loss: 0.6545 - val_accuracy: 0.6426\n",
      "Epoch 5/20\n",
      "112868/112868 [==============================] - 13s 111us/step - loss: 0.6567 - accuracy: 0.6366 - val_loss: 0.6523 - val_accuracy: 0.6426\n",
      "Epoch 6/20\n",
      "112868/112868 [==============================] - 13s 118us/step - loss: 0.6562 - accuracy: 0.6366 - val_loss: 0.6522 - val_accuracy: 0.6426\n",
      "Epoch 7/20\n",
      "112868/112868 [==============================] - 13s 114us/step - loss: 0.6559 - accuracy: 0.6366 - val_loss: 0.6520 - val_accuracy: 0.6426\n",
      "Epoch 8/20\n",
      "112868/112868 [==============================] - 13s 116us/step - loss: 0.6556 - accuracy: 0.6366 - val_loss: 0.6509 - val_accuracy: 0.6426\n",
      "Epoch 9/20\n",
      "112868/112868 [==============================] - 13s 114us/step - loss: 0.6556 - accuracy: 0.6366 - val_loss: 0.6506 - val_accuracy: 0.6426\n",
      "Epoch 10/20\n",
      "112868/112868 [==============================] - 13s 117us/step - loss: 0.6552 - accuracy: 0.6366 - val_loss: 0.6510 - val_accuracy: 0.6426\n",
      "Epoch 11/20\n",
      "112868/112868 [==============================] - 13s 118us/step - loss: 0.6549 - accuracy: 0.6366 - val_loss: 0.6535 - val_accuracy: 0.6426\n",
      "Epoch 12/20\n",
      "112868/112868 [==============================] - 13s 116us/step - loss: 0.6543 - accuracy: 0.6366 - val_loss: 0.6523 - val_accuracy: 0.6426\n",
      "Epoch 13/20\n",
      "112868/112868 [==============================] - 14s 120us/step - loss: 0.6537 - accuracy: 0.6366 - val_loss: 0.6527 - val_accuracy: 0.6426\n",
      "Epoch 14/20\n",
      "112868/112868 [==============================] - 13s 115us/step - loss: 0.6541 - accuracy: 0.6366 - val_loss: 0.6498 - val_accuracy: 0.6426\n",
      "Epoch 15/20\n",
      "112868/112868 [==============================] - 13s 117us/step - loss: 0.6535 - accuracy: 0.6366 - val_loss: 0.6539 - val_accuracy: 0.6426\n",
      "Epoch 16/20\n",
      "112868/112868 [==============================] - 13s 113us/step - loss: 0.6536 - accuracy: 0.6366 - val_loss: 0.6523 - val_accuracy: 0.6426\n",
      "Epoch 17/20\n",
      "112868/112868 [==============================] - 13s 115us/step - loss: 0.6533 - accuracy: 0.6366 - val_loss: 0.6549 - val_accuracy: 0.6426\n",
      "Epoch 18/20\n",
      "112868/112868 [==============================] - 13s 117us/step - loss: 0.6529 - accuracy: 0.6366 - val_loss: 0.6591 - val_accuracy: 0.6426\n",
      "Epoch 19/20\n",
      "112868/112868 [==============================] - 13s 112us/step - loss: 0.6525 - accuracy: 0.6366 - val_loss: 0.6558 - val_accuracy: 0.6426\n",
      "Epoch 20/20\n",
      "112868/112868 [==============================] - 13s 115us/step - loss: 0.6519 - accuracy: 0.6366 - val_loss: 0.6592 - val_accuracy: 0.6426\n"
     ]
    }
   ],
   "source": [
    "history7 = model7.fit(E7X_train, E7Y_train, batch_size=64, validation_data=(E7X_test, E7Y_test), epochs=20)"
   ]
  },
  {
   "cell_type": "code",
   "execution_count": 79,
   "metadata": {},
   "outputs": [
    {
     "data": {
      "image/png": "[encoded data removed]",
      "text/plain": [
       "<Figure size 432x288 with 2 Axes>"
      ]
     },
     "metadata": {
      "needs_background": "light"
     },
     "output_type": "display_data"
    }
   ],
   "source": [
    "summarize_diagnostics(history7)"
   ]
  },
  {
   "cell_type": "markdown",
   "metadata": {},
   "source": [
    "# E8"
   ]
  },
  {
   "cell_type": "code",
   "execution_count": 69,
   "metadata": {},
   "outputs": [
    {
     "name": "stdout",
     "output_type": "stream",
     "text": [
      "50254\n"
     ]
    }
   ],
   "source": [
    "folder = 'prova_E/prova_E/E8/'\n",
    "i = 0\n",
    "for file in os.listdir(folder):\n",
    "    if file.startswith('el'):\n",
    "        i += 1\n",
    "print(i)"
   ]
  },
  {
   "cell_type": "code",
   "execution_count": 5,
   "metadata": {},
   "outputs": [],
   "source": [
    "E8 = np.empty((140086, 20, 1), dtype=cp.float64)\n",
    "labels_E8 = np.zeros(140086)\n",
    "folder = 'prova_E/prova_E/E8/'\n",
    "i = 0\n",
    "for file in os.listdir(folder):\n",
    "    if file.startswith('el'):\n",
    "        labels_E8[i] = 1\n",
    "    array = np.load(folder + file)\n",
    "    array = cp.reshape(array, (20,1))\n",
    "    E8[i] = array\n",
    "    i += 1"
   ]
  },
  {
   "cell_type": "code",
   "execution_count": 16,
   "metadata": {},
   "outputs": [
    {
     "data": {
      "text/plain": [
       "0.0"
      ]
     },
     "execution_count": 16,
     "metadata": {},
     "output_type": "execute_result"
    }
   ],
   "source": [
    "labels_E8[0]"
   ]
  },
  {
   "cell_type": "code",
   "execution_count": 22,
   "metadata": {},
   "outputs": [
    {
     "data": {
      "text/plain": [
       "<BarContainer object of 20 artists>"
      ]
     },
     "execution_count": 22,
     "metadata": {},
     "output_type": "execute_result"
    },
    {
     "data": {
      "image/png": "[encoded data removed]",
      "text/plain": [
       "<Figure size 432x288 with 1 Axes>"
      ]
     },
     "metadata": {
      "needs_background": "light"
     },
     "output_type": "display_data"
    }
   ],
   "source": [
    "plt.bar(range(20), E8[0].flatten(), width=1, ec='black', align='edge')"
   ]
  },
  {
   "cell_type": "code",
   "execution_count": 23,
   "metadata": {},
   "outputs": [
    {
     "data": {
      "text/plain": [
       "<BarContainer object of 20 artists>"
      ]
     },
     "execution_count": 23,
     "metadata": {},
     "output_type": "execute_result"
    },
    {
     "data": {
      "image/png": "[encoded data removed]",
      "text/plain": [
       "<Figure size 432x288 with 1 Axes>"
      ]
     },
     "metadata": {
      "needs_background": "light"
     },
     "output_type": "display_data"
    }
   ],
   "source": [
    "plt.bar(range(20), E8[1].flatten(), width=1, ec='black', align='edge')"
   ]
  },
  {
   "cell_type": "code",
   "execution_count": 24,
   "metadata": {},
   "outputs": [
    {
     "data": {
      "text/plain": [
       "<BarContainer object of 20 artists>"
      ]
     },
     "execution_count": 24,
     "metadata": {},
     "output_type": "execute_result"
    },
    {
     "data": {
      "image/png": "[encoded data removed]",
      "text/plain": [
       "<Figure size 432x288 with 1 Axes>"
      ]
     },
     "metadata": {
      "needs_background": "light"
     },
     "output_type": "display_data"
    }
   ],
   "source": [
    "plt.bar(range(20), E8[2].flatten(), width=1, ec='black', align='edge')"
   ]
  },
  {
   "cell_type": "code",
   "execution_count": 25,
   "metadata": {},
   "outputs": [],
   "source": [
    "a = np.max(E8, axis=0).flatten()"
   ]
  },
  {
   "cell_type": "code",
   "execution_count": 26,
   "metadata": {},
   "outputs": [
    {
     "data": {
      "text/plain": [
       "[<matplotlib.lines.Line2D at 0x7fc4e0134950>]"
      ]
     },
     "execution_count": 26,
     "metadata": {},
     "output_type": "execute_result"
    },
    {
     "data": {
      "image/png": "[encoded data removed]",
      "text/plain": [
       "<Figure size 432x288 with 1 Axes>"
      ]
     },
     "metadata": {
      "needs_background": "light"
     },
     "output_type": "display_data"
    }
   ],
   "source": [
    "plt.plot(a)"
   ]
  },
  {
   "cell_type": "code",
   "execution_count": 6,
   "metadata": {},
   "outputs": [],
   "source": [
    "E8 = E8/E8.max()"
   ]
  },
  {
   "cell_type": "code",
   "execution_count": 7,
   "metadata": {},
   "outputs": [],
   "source": [
    "from sklearn.model_selection import train_test_split\n",
    "E8X_train, E8X_test, E8Y_train, E8Y_test = train_test_split(E8 , labels_E8 ,test_size=0.2)"
   ]
  },
  {
   "cell_type": "code",
   "execution_count": 8,
   "metadata": {},
   "outputs": [
    {
     "name": "stderr",
     "output_type": "stream",
     "text": [
      "Using TensorFlow backend.\n"
     ]
    }
   ],
   "source": [
    "from keras.models import Sequential\n",
    "from keras.layers import Dense, Conv1D, Flatten, Dropout, MaxPooling1D, BatchNormalization\n",
    "\n",
    "model8 = Sequential()\n",
    "model8.add(Conv1D(32, 3, activation='relu', kernel_initializer='he_uniform', padding='same', input_shape=(20, 1)))\n",
    "model8.add(MaxPooling1D(2))\n",
    "model8.add(BatchNormalization())\n",
    "model8.add(Dropout(0.2))\n",
    "model8.add(Conv1D(64, 3, activation='relu', kernel_initializer='he_uniform', padding='same'))\n",
    "model8.add(MaxPooling1D(2))\n",
    "model8.add(BatchNormalization())\n",
    "model8.add(Dropout(0.2))\n",
    "model8.add(Conv1D(128, 3, activation='relu', kernel_initializer='he_uniform', padding='same'))\n",
    "model8.add(MaxPooling1D(2))\n",
    "model8.add(BatchNormalization())\n",
    "model8.add(Dropout(0.2))\n",
    "model8.add(Flatten())\n",
    "model8.add(Dense(128, activation='relu', kernel_initializer='he_uniform'))\n",
    "model8.add(Dropout(0.5))\n",
    "model8.add(Dense(1, activation='sigmoid'))"
   ]
  },
  {
   "cell_type": "code",
   "execution_count": 9,
   "metadata": {},
   "outputs": [],
   "source": [
    "from keras.optimizers import Adam\n",
    "opt = Adam(lr=0.0001)\n",
    "model8.compile(loss='binary_crossentropy', optimizer=opt, metrics=['accuracy'])"
   ]
  },
  {
   "cell_type": "code",
   "execution_count": 10,
   "metadata": {},
   "outputs": [
    {
     "name": "stdout",
     "output_type": "stream",
     "text": [
      "Train on 112068 samples, validate on 28018 samples\n",
      "Epoch 1/20\n",
      "112068/112068 [==============================] - 19s 173us/step - loss: 0.7217 - accuracy: 0.6024 - val_loss: 0.6562 - val_accuracy: 0.6436\n",
      "Epoch 2/20\n",
      "112068/112068 [==============================] - 17s 149us/step - loss: 0.6603 - accuracy: 0.6365 - val_loss: 0.6518 - val_accuracy: 0.6436\n",
      "Epoch 3/20\n",
      "112068/112068 [==============================] - 17s 155us/step - loss: 0.6559 - accuracy: 0.6395 - val_loss: 0.6500 - val_accuracy: 0.6436\n",
      "Epoch 4/20\n",
      "112068/112068 [==============================] - 17s 156us/step - loss: 0.6544 - accuracy: 0.6401 - val_loss: 0.6500 - val_accuracy: 0.6436\n",
      "Epoch 5/20\n",
      "112068/112068 [==============================] - 18s 157us/step - loss: 0.6536 - accuracy: 0.6405 - val_loss: 0.6488 - val_accuracy: 0.6436\n",
      "Epoch 6/20\n",
      "112068/112068 [==============================] - 17s 152us/step - loss: 0.6530 - accuracy: 0.6406 - val_loss: 0.6479 - val_accuracy: 0.6436\n",
      "Epoch 7/20\n",
      "112068/112068 [==============================] - 17s 148us/step - loss: 0.6525 - accuracy: 0.6406 - val_loss: 0.6479 - val_accuracy: 0.6436\n",
      "Epoch 8/20\n",
      "112068/112068 [==============================] - 16s 143us/step - loss: 0.6517 - accuracy: 0.6405 - val_loss: 0.6473 - val_accuracy: 0.6436\n",
      "Epoch 9/20\n",
      "112068/112068 [==============================] - 17s 148us/step - loss: 0.6508 - accuracy: 0.6407 - val_loss: 0.6462 - val_accuracy: 0.6436\n",
      "Epoch 10/20\n",
      "112068/112068 [==============================] - 17s 150us/step - loss: 0.6511 - accuracy: 0.6406 - val_loss: 0.6460 - val_accuracy: 0.6436\n",
      "Epoch 11/20\n",
      "112068/112068 [==============================] - 17s 154us/step - loss: 0.6505 - accuracy: 0.6405 - val_loss: 0.6453 - val_accuracy: 0.6436\n",
      "Epoch 12/20\n",
      "112068/112068 [==============================] - 17s 148us/step - loss: 0.6501 - accuracy: 0.6405 - val_loss: 0.6446 - val_accuracy: 0.6436\n",
      "Epoch 13/20\n",
      "112068/112068 [==============================] - 17s 152us/step - loss: 0.6499 - accuracy: 0.6407 - val_loss: 0.6440 - val_accuracy: 0.6436\n",
      "Epoch 14/20\n",
      "112068/112068 [==============================] - 17s 153us/step - loss: 0.6493 - accuracy: 0.6406 - val_loss: 0.6441 - val_accuracy: 0.6436\n",
      "Epoch 15/20\n",
      "112068/112068 [==============================] - 16s 142us/step - loss: 0.6486 - accuracy: 0.6407 - val_loss: 0.6433 - val_accuracy: 0.6436\n",
      "Epoch 16/20\n",
      "112068/112068 [==============================] - 17s 154us/step - loss: 0.6485 - accuracy: 0.6408 - val_loss: 0.6432 - val_accuracy: 0.6436\n",
      "Epoch 17/20\n",
      "112068/112068 [==============================] - 17s 154us/step - loss: 0.6480 - accuracy: 0.6408 - val_loss: 0.6436 - val_accuracy: 0.6436\n",
      "Epoch 18/20\n",
      "112068/112068 [==============================] - 17s 156us/step - loss: 0.6471 - accuracy: 0.6407 - val_loss: 0.6421 - val_accuracy: 0.6436\n",
      "Epoch 19/20\n",
      "112068/112068 [==============================] - 17s 156us/step - loss: 0.6478 - accuracy: 0.6406 - val_loss: 0.6420 - val_accuracy: 0.6436\n",
      "Epoch 20/20\n",
      "112068/112068 [==============================] - 18s 157us/step - loss: 0.6476 - accuracy: 0.6409 - val_loss: 0.6422 - val_accuracy: 0.6436\n"
     ]
    }
   ],
   "source": [
    "history8 = model8.fit(E8X_train, E8Y_train, batch_size=64, validation_data=(E8X_test, E8Y_test), epochs=20)"
   ]
  },
  {
   "cell_type": "code",
   "execution_count": 15,
   "metadata": {},
   "outputs": [
    {
     "data": {
      "image/png": "[encoded data removed]",
      "text/plain": [
       "<Figure size 432x288 with 2 Axes>"
      ]
     },
     "metadata": {
      "needs_background": "light"
     },
     "output_type": "display_data"
    }
   ],
   "source": [
    "summarize_diagnostics(history8)"
   ]
  },
  {
   "cell_type": "markdown",
   "metadata": {},
   "source": [
    "# E8 NO DROPOUT"
   ]
  },
  {
   "cell_type": "code",
   "execution_count": 10,
   "metadata": {},
   "outputs": [],
   "source": [
    "from keras.models import Sequential\n",
    "from keras.layers import Dense, Conv1D, Flatten, Dropout, MaxPooling1D, BatchNormalization\n",
    "\n",
    "model8 = Sequential()\n",
    "model8.add(Conv1D(32, 3, activation='relu', kernel_initializer='he_uniform', padding='same', input_shape=(20, 1)))\n",
    "model8.add(MaxPooling1D(2))\n",
    "model8.add(BatchNormalization())\n",
    "model8.add(Conv1D(64, 3, activation='relu', kernel_initializer='he_uniform', padding='same'))\n",
    "model8.add(MaxPooling1D(2))\n",
    "model8.add(BatchNormalization())\n",
    "model8.add(Conv1D(128, 3, activation='relu', kernel_initializer='he_uniform', padding='same'))\n",
    "model8.add(MaxPooling1D(2))\n",
    "model8.add(BatchNormalization())\n",
    "model8.add(Flatten())\n",
    "model8.add(Dense(128, activation='relu', kernel_initializer='he_uniform'))\n",
    "model8.add(Dropout(0.5))\n",
    "model8.add(Dense(1, activation='sigmoid'))"
   ]
  },
  {
   "cell_type": "code",
   "execution_count": 11,
   "metadata": {},
   "outputs": [],
   "source": [
    "from keras.optimizers import Adam\n",
    "opt = Adam(lr=0.0001)\n",
    "model8.compile(loss='binary_crossentropy', optimizer=opt, metrics=['accuracy'])"
   ]
  },
  {
   "cell_type": "code",
   "execution_count": 12,
   "metadata": {},
   "outputs": [
    {
     "name": "stdout",
     "output_type": "stream",
     "text": [
      "Train on 112068 samples, validate on 28018 samples\n",
      "Epoch 1/20\n",
      "112068/112068 [==============================] - 18s 165us/step - loss: 0.6735 - accuracy: 0.6247 - val_loss: 0.6409 - val_accuracy: 0.6438\n",
      "Epoch 2/20\n",
      "112068/112068 [==============================] - 20s 174us/step - loss: 0.6471 - accuracy: 0.6400 - val_loss: 0.6399 - val_accuracy: 0.6440\n",
      "Epoch 3/20\n",
      "112068/112068 [==============================] - 17s 156us/step - loss: 0.6440 - accuracy: 0.6410 - val_loss: 0.6387 - val_accuracy: 0.6454\n",
      "Epoch 4/20\n",
      "112068/112068 [==============================] - 19s 171us/step - loss: 0.6425 - accuracy: 0.6419 - val_loss: 0.6361 - val_accuracy: 0.6449\n",
      "Epoch 5/20\n",
      "112068/112068 [==============================] - 18s 164us/step - loss: 0.6417 - accuracy: 0.6428 - val_loss: 0.6366 - val_accuracy: 0.6464\n",
      "Epoch 6/20\n",
      "112068/112068 [==============================] - 15s 134us/step - loss: 0.6402 - accuracy: 0.6420 - val_loss: 0.6371 - val_accuracy: 0.6446\n",
      "Epoch 7/20\n",
      "112068/112068 [==============================] - 17s 152us/step - loss: 0.6396 - accuracy: 0.6443 - val_loss: 0.6347 - val_accuracy: 0.6473\n",
      "Epoch 8/20\n",
      "112068/112068 [==============================] - 17s 156us/step - loss: 0.6388 - accuracy: 0.6440 - val_loss: 0.6425 - val_accuracy: 0.6457\n",
      "Epoch 9/20\n",
      "112068/112068 [==============================] - 18s 160us/step - loss: 0.6382 - accuracy: 0.6452 - val_loss: 0.6358 - val_accuracy: 0.6510\n",
      "Epoch 10/20\n",
      "112068/112068 [==============================] - 19s 171us/step - loss: 0.6377 - accuracy: 0.6455 - val_loss: 0.6397 - val_accuracy: 0.6444\n",
      "Epoch 11/20\n",
      "112068/112068 [==============================] - 19s 174us/step - loss: 0.6370 - accuracy: 0.6452 - val_loss: 0.6337 - val_accuracy: 0.6507\n",
      "Epoch 12/20\n",
      "112068/112068 [==============================] - 18s 164us/step - loss: 0.6367 - accuracy: 0.6460 - val_loss: 0.6338 - val_accuracy: 0.6475\n",
      "Epoch 13/20\n",
      "112068/112068 [==============================] - 20s 181us/step - loss: 0.6363 - accuracy: 0.6465 - val_loss: 0.6338 - val_accuracy: 0.6506\n",
      "Epoch 14/20\n",
      "112068/112068 [==============================] - 19s 174us/step - loss: 0.6363 - accuracy: 0.6460 - val_loss: 0.6344 - val_accuracy: 0.6501\n",
      "Epoch 15/20\n",
      "112068/112068 [==============================] - 18s 159us/step - loss: 0.6360 - accuracy: 0.6470 - val_loss: 0.6342 - val_accuracy: 0.6484\n",
      "Epoch 16/20\n",
      "112068/112068 [==============================] - 18s 163us/step - loss: 0.6353 - accuracy: 0.6467 - val_loss: 0.6343 - val_accuracy: 0.6480\n",
      "Epoch 17/20\n",
      "112068/112068 [==============================] - 19s 166us/step - loss: 0.6351 - accuracy: 0.6468 - val_loss: 0.6332 - val_accuracy: 0.6505\n",
      "Epoch 18/20\n",
      "112068/112068 [==============================] - 18s 157us/step - loss: 0.6352 - accuracy: 0.6484 - val_loss: 0.6331 - val_accuracy: 0.6507\n",
      "Epoch 19/20\n",
      "112068/112068 [==============================] - 15s 138us/step - loss: 0.6347 - accuracy: 0.6477 - val_loss: 0.6335 - val_accuracy: 0.6498\n",
      "Epoch 20/20\n",
      "112068/112068 [==============================] - 14s 123us/step - loss: 0.6344 - accuracy: 0.6477 - val_loss: 0.6327 - val_accuracy: 0.6504\n"
     ]
    }
   ],
   "source": [
    "history8 = model8.fit(E8X_train, E8Y_train, batch_size=64, validation_data=(E8X_test, E8Y_test), epochs=20)"
   ]
  },
  {
   "cell_type": "code",
   "execution_count": 13,
   "metadata": {},
   "outputs": [
    {
     "data": {
      "image/png": "[encoded data removed]",
      "text/plain": [
       "<Figure size 432x288 with 2 Axes>"
      ]
     },
     "metadata": {
      "needs_background": "light"
     },
     "output_type": "display_data"
    }
   ],
   "source": [
    "summarize_diagnostics(history8)"
   ]
  },
  {
   "cell_type": "markdown",
   "metadata": {},
   "source": [
    "# kernel size = 10"
   ]
  },
  {
   "cell_type": "code",
   "execution_count": 59,
   "metadata": {},
   "outputs": [],
   "source": [
    "from keras.models import Sequential\n",
    "from keras.layers import Dense, Conv1D, Flatten, Dropout, MaxPooling1D, BatchNormalization\n",
    "\n",
    "model10 = Sequential()\n",
    "model10.add(Conv1D(32, 10, activation='relu', kernel_initializer='he_uniform', padding='same', input_shape=(20, 1)))\n",
    "model10.add(MaxPooling1D(2))\n",
    "model10.add(BatchNormalization())\n",
    "model10.add(Conv1D(64, 10, activation='relu', kernel_initializer='he_uniform', padding='same'))\n",
    "model10.add(MaxPooling1D(2))\n",
    "model10.add(BatchNormalization())\n",
    "model10.add(Conv1D(128, 10, activation='relu', kernel_initializer='he_uniform', padding='same'))\n",
    "model10.add(MaxPooling1D(2))\n",
    "model10.add(BatchNormalization())\n",
    "model10.add(Flatten())\n",
    "model10.add(Dense(128, activation='relu', kernel_initializer='he_uniform'))\n",
    "model10.add(Dropout(0.5))\n",
    "model10.add(Dense(1, activation='sigmoid'))"
   ]
  },
  {
   "cell_type": "code",
   "execution_count": 61,
   "metadata": {},
   "outputs": [],
   "source": [
    "from keras.optimizers import Adam\n",
    "opt = Adam(lr=0.0001)\n",
    "model10.compile(loss='binary_crossentropy', optimizer=opt, metrics=['accuracy'])"
   ]
  },
  {
   "cell_type": "code",
   "execution_count": 62,
   "metadata": {},
   "outputs": [
    {
     "name": "stdout",
     "output_type": "stream",
     "text": [
      "Train on 112068 samples, validate on 28018 samples\n",
      "Epoch 1/20\n",
      "112068/112068 [==============================] - 20s 175us/step - loss: 0.6626 - accuracy: 0.6308 - val_loss: 0.6423 - val_accuracy: 0.6439\n",
      "Epoch 2/20\n",
      "112068/112068 [==============================] - 19s 170us/step - loss: 0.6483 - accuracy: 0.6400 - val_loss: 0.6406 - val_accuracy: 0.6448\n",
      "Epoch 3/20\n",
      "112068/112068 [==============================] - 19s 173us/step - loss: 0.6446 - accuracy: 0.6417 - val_loss: 0.6393 - val_accuracy: 0.6445\n",
      "Epoch 4/20\n",
      "112068/112068 [==============================] - 20s 180us/step - loss: 0.6418 - accuracy: 0.6427 - val_loss: 0.6386 - val_accuracy: 0.6467\n",
      "Epoch 5/20\n",
      "112068/112068 [==============================] - 20s 179us/step - loss: 0.6409 - accuracy: 0.6439 - val_loss: 0.6372 - val_accuracy: 0.6470\n",
      "Epoch 6/20\n",
      "112068/112068 [==============================] - 20s 178us/step - loss: 0.6400 - accuracy: 0.6435 - val_loss: 0.6409 - val_accuracy: 0.6466\n",
      "Epoch 7/20\n",
      "112068/112068 [==============================] - 20s 179us/step - loss: 0.6388 - accuracy: 0.6454 - val_loss: 0.6352 - val_accuracy: 0.6493\n",
      "Epoch 8/20\n",
      "112068/112068 [==============================] - 19s 170us/step - loss: 0.6381 - accuracy: 0.6450 - val_loss: 0.6358 - val_accuracy: 0.6513\n",
      "Epoch 9/20\n",
      "112068/112068 [==============================] - 18s 161us/step - loss: 0.6376 - accuracy: 0.6458 - val_loss: 0.6362 - val_accuracy: 0.6500\n",
      "Epoch 10/20\n",
      "112068/112068 [==============================] - 21s 183us/step - loss: 0.6372 - accuracy: 0.6449 - val_loss: 0.6347 - val_accuracy: 0.6495\n",
      "Epoch 11/20\n",
      "112068/112068 [==============================] - 20s 175us/step - loss: 0.6365 - accuracy: 0.6459 - val_loss: 0.6337 - val_accuracy: 0.6517\n",
      "Epoch 12/20\n",
      "112068/112068 [==============================] - 19s 172us/step - loss: 0.6366 - accuracy: 0.6473 - val_loss: 0.6346 - val_accuracy: 0.6461\n",
      "Epoch 13/20\n",
      "112068/112068 [==============================] - 19s 171us/step - loss: 0.6356 - accuracy: 0.6472 - val_loss: 0.6349 - val_accuracy: 0.6485\n",
      "Epoch 14/20\n",
      "112068/112068 [==============================] - 18s 158us/step - loss: 0.6354 - accuracy: 0.6483 - val_loss: 0.6409 - val_accuracy: 0.6489\n",
      "Epoch 15/20\n",
      "112068/112068 [==============================] - 17s 155us/step - loss: 0.6351 - accuracy: 0.6480 - val_loss: 0.6329 - val_accuracy: 0.6508\n",
      "Epoch 16/20\n",
      "112068/112068 [==============================] - 21s 185us/step - loss: 0.6350 - accuracy: 0.6477 - val_loss: 0.6375 - val_accuracy: 0.6486\n",
      "Epoch 17/20\n",
      "112068/112068 [==============================] - 19s 173us/step - loss: 0.6345 - accuracy: 0.6481 - val_loss: 0.6334 - val_accuracy: 0.6502\n",
      "Epoch 18/20\n",
      "112068/112068 [==============================] - 19s 167us/step - loss: 0.6343 - accuracy: 0.6487 - val_loss: 0.6336 - val_accuracy: 0.6491\n",
      "Epoch 19/20\n",
      "112068/112068 [==============================] - 20s 178us/step - loss: 0.6344 - accuracy: 0.6485 - val_loss: 0.6363 - val_accuracy: 0.6437\n",
      "Epoch 20/20\n",
      "112068/112068 [==============================] - 21s 183us/step - loss: 0.6342 - accuracy: 0.6483 - val_loss: 0.6326 - val_accuracy: 0.6511\n"
     ]
    }
   ],
   "source": [
    "history10 = model10.fit(E8X_train, E8Y_train, batch_size=64, validation_data=(E8X_test, E8Y_test), epochs=20)"
   ]
  },
  {
   "cell_type": "code",
   "execution_count": 63,
   "metadata": {},
   "outputs": [
    {
     "data": {
      "image/png": "[encoded data removed]",
      "text/plain": [
       "<Figure size 432x288 with 2 Axes>"
      ]
     },
     "metadata": {
      "needs_background": "light"
     },
     "output_type": "display_data"
    }
   ],
   "source": [
    "summarize_diagnostics(history10)"
   ]
  },
  {
   "cell_type": "markdown",
   "metadata": {},
   "source": [
    "# kernel size = 15"
   ]
  },
  {
   "cell_type": "code",
   "execution_count": 64,
   "metadata": {},
   "outputs": [],
   "source": [
    "from keras.models import Sequential\n",
    "from keras.layers import Dense, Conv1D, Flatten, Dropout, MaxPooling1D, BatchNormalization\n",
    "\n",
    "model15 = Sequential()\n",
    "model15.add(Conv1D(32, 15, activation='relu', kernel_initializer='he_uniform', padding='same', input_shape=(20, 1)))\n",
    "model15.add(MaxPooling1D(2))\n",
    "model15.add(BatchNormalization())\n",
    "model15.add(Conv1D(64, 15, activation='relu', kernel_initializer='he_uniform', padding='same'))\n",
    "model15.add(MaxPooling1D(2))\n",
    "model15.add(BatchNormalization())\n",
    "model15.add(Conv1D(128, 15, activation='relu', kernel_initializer='he_uniform', padding='same'))\n",
    "model15.add(MaxPooling1D(2))\n",
    "model15.add(BatchNormalization())\n",
    "model15.add(Flatten())\n",
    "model15.add(Dense(128, activation='relu', kernel_initializer='he_uniform'))\n",
    "model15.add(Dropout(0.5))\n",
    "model15.add(Dense(1, activation='sigmoid'))"
   ]
  },
  {
   "cell_type": "code",
   "execution_count": 65,
   "metadata": {},
   "outputs": [],
   "source": [
    "from keras.optimizers import Adam\n",
    "opt = Adam(lr=0.0001)\n",
    "model15.compile(loss='binary_crossentropy', optimizer=opt, metrics=['accuracy'])"
   ]
  },
  {
   "cell_type": "code",
   "execution_count": 66,
   "metadata": {},
   "outputs": [
    {
     "name": "stdout",
     "output_type": "stream",
     "text": [
      "Train on 112068 samples, validate on 28018 samples\n",
      "Epoch 1/20\n",
      "112068/112068 [==============================] - 22s 195us/step - loss: 0.6586 - accuracy: 0.6324 - val_loss: 0.6417 - val_accuracy: 0.6436\n",
      "Epoch 2/20\n",
      "112068/112068 [==============================] - 22s 200us/step - loss: 0.6449 - accuracy: 0.6405 - val_loss: 0.6374 - val_accuracy: 0.6450\n",
      "Epoch 3/20\n",
      "112068/112068 [==============================] - 23s 203us/step - loss: 0.6425 - accuracy: 0.6423 - val_loss: 0.6437 - val_accuracy: 0.6381\n",
      "Epoch 4/20\n",
      "112068/112068 [==============================] - 21s 186us/step - loss: 0.6414 - accuracy: 0.6437 - val_loss: 0.6409 - val_accuracy: 0.6439\n",
      "Epoch 5/20\n",
      "112068/112068 [==============================] - 21s 188us/step - loss: 0.6402 - accuracy: 0.6450 - val_loss: 0.6356 - val_accuracy: 0.6486\n",
      "Epoch 6/20\n",
      "112068/112068 [==============================] - 21s 189us/step - loss: 0.6392 - accuracy: 0.6460 - val_loss: 0.6355 - val_accuracy: 0.6464\n",
      "Epoch 7/20\n",
      "112068/112068 [==============================] - 22s 192us/step - loss: 0.6383 - accuracy: 0.6457 - val_loss: 0.6354 - val_accuracy: 0.6492\n",
      "Epoch 8/20\n",
      "112068/112068 [==============================] - 20s 175us/step - loss: 0.6377 - accuracy: 0.6456 - val_loss: 0.6368 - val_accuracy: 0.6469\n",
      "Epoch 9/20\n",
      "112068/112068 [==============================] - 19s 174us/step - loss: 0.6374 - accuracy: 0.6463 - val_loss: 0.6350 - val_accuracy: 0.6492\n",
      "Epoch 10/20\n",
      "112068/112068 [==============================] - 21s 185us/step - loss: 0.6361 - accuracy: 0.6471 - val_loss: 0.6339 - val_accuracy: 0.6497\n",
      "Epoch 11/20\n",
      "112068/112068 [==============================] - 20s 175us/step - loss: 0.6361 - accuracy: 0.6473 - val_loss: 0.6343 - val_accuracy: 0.6517\n",
      "Epoch 12/20\n",
      "112068/112068 [==============================] - 20s 183us/step - loss: 0.6358 - accuracy: 0.6483 - val_loss: 0.6385 - val_accuracy: 0.6418\n",
      "Epoch 13/20\n",
      "112068/112068 [==============================] - 18s 162us/step - loss: 0.6356 - accuracy: 0.6469 - val_loss: 0.6343 - val_accuracy: 0.6509\n",
      "Epoch 14/20\n",
      "112068/112068 [==============================] - 20s 180us/step - loss: 0.6352 - accuracy: 0.6472 - val_loss: 0.6351 - val_accuracy: 0.6479\n",
      "Epoch 15/20\n",
      "112068/112068 [==============================] - 19s 166us/step - loss: 0.6347 - accuracy: 0.6482 - val_loss: 0.6339 - val_accuracy: 0.6502\n",
      "Epoch 16/20\n",
      "112068/112068 [==============================] - 20s 180us/step - loss: 0.6343 - accuracy: 0.6491 - val_loss: 0.6364 - val_accuracy: 0.6482\n",
      "Epoch 17/20\n",
      "112068/112068 [==============================] - 21s 186us/step - loss: 0.6344 - accuracy: 0.6483 - val_loss: 0.6335 - val_accuracy: 0.6500\n",
      "Epoch 18/20\n",
      "112068/112068 [==============================] - 19s 171us/step - loss: 0.6341 - accuracy: 0.6491 - val_loss: 0.6341 - val_accuracy: 0.6502\n",
      "Epoch 19/20\n",
      "112068/112068 [==============================] - 18s 157us/step - loss: 0.6338 - accuracy: 0.6489 - val_loss: 0.6381 - val_accuracy: 0.6509\n",
      "Epoch 20/20\n",
      "112068/112068 [==============================] - 18s 157us/step - loss: 0.6337 - accuracy: 0.6487 - val_loss: 0.6350 - val_accuracy: 0.6467\n"
     ]
    }
   ],
   "source": [
    "history15 = model15.fit(E8X_train, E8Y_train, batch_size=64, validation_data=(E8X_test, E8Y_test), epochs=20)"
   ]
  },
  {
   "cell_type": "code",
   "execution_count": 67,
   "metadata": {},
   "outputs": [
    {
     "data": {
      "image/png": "[encoded data removed]",
      "text/plain": [
       "<Figure size 432x288 with 2 Axes>"
      ]
     },
     "metadata": {
      "needs_background": "light"
     },
     "output_type": "display_data"
    }
   ],
   "source": [
    "summarize_diagnostics(history15)"
   ]
  },
  {
   "cell_type": "markdown",
   "metadata": {},
   "source": [
    "# kernel size = 20"
   ]
  },
  {
   "cell_type": "code",
   "execution_count": 70,
   "metadata": {},
   "outputs": [],
   "source": [
    "from keras.models import Sequential\n",
    "from keras.layers import Dense, Conv1D, Flatten, Dropout, MaxPooling1D, BatchNormalization\n",
    "\n",
    "model20 = Sequential()\n",
    "model20.add(Conv1D(32, 20, activation='relu', kernel_initializer='he_uniform', padding='same', input_shape=(20, 1)))\n",
    "model20.add(MaxPooling1D(2))\n",
    "model20.add(BatchNormalization())\n",
    "model20.add(Conv1D(64, 20, activation='relu', kernel_initializer='he_uniform', padding='same'))\n",
    "model20.add(MaxPooling1D(2))\n",
    "model20.add(BatchNormalization())\n",
    "model20.add(Conv1D(128, 20, activation='relu', kernel_initializer='he_uniform', padding='same'))\n",
    "model20.add(MaxPooling1D(2))\n",
    "model20.add(BatchNormalization())\n",
    "model20.add(Flatten())\n",
    "model20.add(Dense(128, activation='relu', kernel_initializer='he_uniform'))\n",
    "model20.add(Dropout(0.5))\n",
    "model20.add(Dense(1, activation='sigmoid'))"
   ]
  },
  {
   "cell_type": "code",
   "execution_count": 71,
   "metadata": {},
   "outputs": [],
   "source": [
    "from keras.optimizers import Adam\n",
    "opt = Adam(lr=0.0001)\n",
    "model20.compile(loss='binary_crossentropy', optimizer=opt, metrics=['accuracy'])"
   ]
  },
  {
   "cell_type": "code",
   "execution_count": 72,
   "metadata": {},
   "outputs": [
    {
     "name": "stdout",
     "output_type": "stream",
     "text": [
      "Train on 112068 samples, validate on 28018 samples\n",
      "Epoch 1/20\n",
      "112068/112068 [==============================] - 20s 182us/step - loss: 0.6597 - accuracy: 0.6330 - val_loss: 0.6411 - val_accuracy: 0.6458\n",
      "Epoch 2/20\n",
      "112068/112068 [==============================] - 19s 173us/step - loss: 0.6448 - accuracy: 0.6419 - val_loss: 0.6378 - val_accuracy: 0.6457\n",
      "Epoch 3/20\n",
      "112068/112068 [==============================] - 20s 175us/step - loss: 0.6419 - accuracy: 0.6428 - val_loss: 0.6374 - val_accuracy: 0.6478\n",
      "Epoch 4/20\n",
      "112068/112068 [==============================] - 19s 170us/step - loss: 0.6414 - accuracy: 0.6435 - val_loss: 0.6460 - val_accuracy: 0.6455\n",
      "Epoch 5/20\n",
      "112068/112068 [==============================] - 19s 170us/step - loss: 0.6394 - accuracy: 0.6445 - val_loss: 0.6441 - val_accuracy: 0.6371\n",
      "Epoch 6/20\n",
      "112068/112068 [==============================] - 19s 166us/step - loss: 0.6396 - accuracy: 0.6448 - val_loss: 0.6364 - val_accuracy: 0.6502\n",
      "Epoch 7/20\n",
      "112068/112068 [==============================] - 19s 168us/step - loss: 0.6384 - accuracy: 0.6457 - val_loss: 0.6378 - val_accuracy: 0.6469\n",
      "Epoch 8/20\n",
      "112068/112068 [==============================] - 19s 166us/step - loss: 0.6382 - accuracy: 0.6453 - val_loss: 0.6363 - val_accuracy: 0.6457\n",
      "Epoch 9/20\n",
      "112068/112068 [==============================] - 18s 162us/step - loss: 0.6376 - accuracy: 0.6458 - val_loss: 0.6378 - val_accuracy: 0.6480\n",
      "Epoch 10/20\n",
      "112068/112068 [==============================] - 18s 165us/step - loss: 0.6371 - accuracy: 0.6467 - val_loss: 0.6352 - val_accuracy: 0.6494\n",
      "Epoch 11/20\n",
      "112068/112068 [==============================] - 19s 165us/step - loss: 0.6362 - accuracy: 0.6473 - val_loss: 0.6358 - val_accuracy: 0.6487\n",
      "Epoch 12/20\n",
      "112068/112068 [==============================] - 19s 165us/step - loss: 0.6362 - accuracy: 0.6474 - val_loss: 0.6411 - val_accuracy: 0.6479\n",
      "Epoch 13/20\n",
      "112068/112068 [==============================] - 19s 166us/step - loss: 0.6362 - accuracy: 0.6465 - val_loss: 0.6368 - val_accuracy: 0.6502\n",
      "Epoch 14/20\n",
      "112068/112068 [==============================] - 21s 184us/step - loss: 0.6356 - accuracy: 0.6467 - val_loss: 0.6393 - val_accuracy: 0.6419\n",
      "Epoch 15/20\n",
      "112068/112068 [==============================] - 18s 164us/step - loss: 0.6353 - accuracy: 0.6482 - val_loss: 0.6356 - val_accuracy: 0.6491\n",
      "Epoch 16/20\n",
      "112068/112068 [==============================] - 18s 162us/step - loss: 0.6349 - accuracy: 0.6479 - val_loss: 0.6369 - val_accuracy: 0.6479\n",
      "Epoch 17/20\n",
      "112068/112068 [==============================] - 22s 193us/step - loss: 0.6355 - accuracy: 0.6479 - val_loss: 0.6335 - val_accuracy: 0.6520\n",
      "Epoch 18/20\n",
      "112068/112068 [==============================] - 20s 177us/step - loss: 0.6350 - accuracy: 0.6485 - val_loss: 0.6348 - val_accuracy: 0.6507\n",
      "Epoch 19/20\n",
      "112068/112068 [==============================] - 20s 182us/step - loss: 0.6344 - accuracy: 0.6481 - val_loss: 0.6372 - val_accuracy: 0.6470\n",
      "Epoch 20/20\n",
      "112068/112068 [==============================] - 20s 176us/step - loss: 0.6348 - accuracy: 0.6486 - val_loss: 0.6374 - val_accuracy: 0.6485\n"
     ]
    }
   ],
   "source": [
    "history20 = model20.fit(E8X_train, E8Y_train, batch_size=64, validation_data=(E8X_test, E8Y_test), epochs=20)"
   ]
  },
  {
   "cell_type": "code",
   "execution_count": 73,
   "metadata": {},
   "outputs": [
    {
     "data": {
      "image/png": "[encoded data removed]",
      "text/plain": [
       "<Figure size 432x288 with 2 Axes>"
      ]
     },
     "metadata": {
      "needs_background": "light"
     },
     "output_type": "display_data"
    }
   ],
   "source": [
    "summarize_diagnostics(history20)"
   ]
  },
  {
   "cell_type": "markdown",
   "metadata": {},
   "source": [
    "# E9"
   ]
  },
  {
   "cell_type": "code",
   "execution_count": 48,
   "metadata": {},
   "outputs": [
    {
     "name": "stdout",
     "output_type": "stream",
     "text": [
      "90077\n"
     ]
    }
   ],
   "source": [
    "folder = 'prova_E/prova_E/E9/'\n",
    "i = 0\n",
    "for file in os.listdir(folder):\n",
    "    if file.startswith('pos'):\n",
    "        i += 1\n",
    "print(i)"
   ]
  },
  {
   "cell_type": "code",
   "execution_count": 88,
   "metadata": {},
   "outputs": [
    {
     "name": "stdout",
     "output_type": "stream",
     "text": [
      "115427\n"
     ]
    }
   ],
   "source": [
    "folder = 'prova_E/prova_E/E9/'\n",
    "i = 0\n",
    "for file in os.listdir(folder):\n",
    "    i += 1\n",
    "print(i)"
   ]
  },
  {
   "cell_type": "code",
   "execution_count": 13,
   "metadata": {},
   "outputs": [],
   "source": [
    "E9 = np.empty((115427, 20, 1), dtype=cp.float64)\n",
    "labels_E9 = np.zeros(115427)\n",
    "folder = 'prova_E/prova_E/E9/'\n",
    "i = 0\n",
    "for file in os.listdir(folder):\n",
    "    if file.startswith('el'):\n",
    "        labels_E9[i] = 1\n",
    "    array = np.load(folder + file)\n",
    "    array = cp.reshape(array, (20,1))\n",
    "    E9[i] = array\n",
    "    i += 1"
   ]
  },
  {
   "cell_type": "code",
   "execution_count": 10,
   "metadata": {},
   "outputs": [],
   "source": [
    "E9 = E9/E9.max()"
   ]
  },
  {
   "cell_type": "code",
   "execution_count": 15,
   "metadata": {},
   "outputs": [
    {
     "data": {
      "text/plain": [
       "5381.0"
      ]
     },
     "execution_count": 15,
     "metadata": {},
     "output_type": "execute_result"
    }
   ],
   "source": [
    "E9.max()"
   ]
  },
  {
   "cell_type": "code",
   "execution_count": 23,
   "metadata": {},
   "outputs": [],
   "source": [
    "a = np.max(E9, axis=0).flatten()"
   ]
  },
  {
   "cell_type": "code",
   "execution_count": 24,
   "metadata": {},
   "outputs": [
    {
     "data": {
      "text/plain": [
       "[<matplotlib.lines.Line2D at 0x7f70b05d0bd0>]"
      ]
     },
     "execution_count": 24,
     "metadata": {},
     "output_type": "execute_result"
    },
    {
     "data": {
      "image/png": "[encoded data removed]",
      "text/plain": [
       "<Figure size 432x288 with 1 Axes>"
      ]
     },
     "metadata": {
      "needs_background": "light"
     },
     "output_type": "display_data"
    }
   ],
   "source": [
    "plt.plot(a)"
   ]
  },
  {
   "cell_type": "code",
   "execution_count": 42,
   "metadata": {},
   "outputs": [],
   "source": [
    "E9X_train, E9X_test, E9Y_train, E9Y_test = train_test_split(E9 , labels_E9 ,test_size=0.2)"
   ]
  },
  {
   "cell_type": "code",
   "execution_count": 43,
   "metadata": {},
   "outputs": [],
   "source": [
    "model9 = Sequential()\n",
    "model9.add(Conv1D(32, 3, activation='relu', kernel_initializer='he_uniform', padding='same', input_shape=(20, 1)))\n",
    "model9.add(MaxPooling1D(2))\n",
    "model9.add(BatchNormalization())\n",
    "model9.add(Dropout(0.2))\n",
    "model9.add(Conv1D(64, 3, activation='relu', kernel_initializer='he_uniform', padding='same'))\n",
    "model9.add(MaxPooling1D(2))\n",
    "model9.add(BatchNormalization())\n",
    "model9.add(Dropout(0.2))\n",
    "model9.add(Conv1D(128, 3, activation='relu', kernel_initializer='he_uniform', padding='same'))\n",
    "model9.add(MaxPooling1D(2))\n",
    "model9.add(BatchNormalization())\n",
    "model9.add(Dropout(0.2))\n",
    "model9.add(Flatten())\n",
    "model9.add(Dense(128, activation='relu', kernel_initializer='he_uniform'))\n",
    "model9.add(Dropout(0.5))\n",
    "model9.add(Dense(1, activation='sigmoid'))"
   ]
  },
  {
   "cell_type": "code",
   "execution_count": 44,
   "metadata": {},
   "outputs": [],
   "source": [
    "model9.compile(loss='binary_crossentropy', optimizer=opt, metrics=['accuracy'])"
   ]
  },
  {
   "cell_type": "code",
   "execution_count": 45,
   "metadata": {},
   "outputs": [
    {
     "name": "stdout",
     "output_type": "stream",
     "text": [
      "Train on 92341 samples, validate on 23086 samples\n",
      "Epoch 1/20\n",
      "92341/92341 [==============================] - 17s 179us/step - loss: 0.5671 - accuracy: 0.7692 - val_loss: 0.5336 - val_accuracy: 0.7805\n",
      "Epoch 2/20\n",
      "92341/92341 [==============================] - 15s 166us/step - loss: 0.5379 - accuracy: 0.7789 - val_loss: 0.5329 - val_accuracy: 0.7805\n",
      "Epoch 3/20\n",
      "92341/92341 [==============================] - 14s 151us/step - loss: 0.5335 - accuracy: 0.7798 - val_loss: 0.5291 - val_accuracy: 0.7805\n",
      "Epoch 4/20\n",
      "92341/92341 [==============================] - 14s 152us/step - loss: 0.5316 - accuracy: 0.7802 - val_loss: 0.5289 - val_accuracy: 0.7805\n",
      "Epoch 5/20\n",
      "92341/92341 [==============================] - 14s 156us/step - loss: 0.5312 - accuracy: 0.7803 - val_loss: 0.5266 - val_accuracy: 0.7805\n",
      "Epoch 6/20\n",
      "92341/92341 [==============================] - 14s 153us/step - loss: 0.5299 - accuracy: 0.7803 - val_loss: 0.5259 - val_accuracy: 0.7805\n",
      "Epoch 7/20\n",
      "92341/92341 [==============================] - 15s 163us/step - loss: 0.5285 - accuracy: 0.7803 - val_loss: 0.5270 - val_accuracy: 0.7805\n",
      "Epoch 8/20\n",
      "92341/92341 [==============================] - 15s 161us/step - loss: 0.5278 - accuracy: 0.7803 - val_loss: 0.5238 - val_accuracy: 0.7805\n",
      "Epoch 9/20\n",
      "92341/92341 [==============================] - 14s 157us/step - loss: 0.5275 - accuracy: 0.7803 - val_loss: 0.5269 - val_accuracy: 0.7805\n",
      "Epoch 10/20\n",
      "92341/92341 [==============================] - 14s 155us/step - loss: 0.5271 - accuracy: 0.7803 - val_loss: 0.5234 - val_accuracy: 0.7805\n",
      "Epoch 11/20\n",
      "92341/92341 [==============================] - 15s 160us/step - loss: 0.5258 - accuracy: 0.7803 - val_loss: 0.5219 - val_accuracy: 0.7805\n",
      "Epoch 12/20\n",
      "92341/92341 [==============================] - 15s 161us/step - loss: 0.5254 - accuracy: 0.7804 - val_loss: 0.5229 - val_accuracy: 0.7805\n",
      "Epoch 13/20\n",
      "92341/92341 [==============================] - 15s 160us/step - loss: 0.5248 - accuracy: 0.7803 - val_loss: 0.5241 - val_accuracy: 0.7805\n",
      "Epoch 14/20\n",
      "92341/92341 [==============================] - 15s 158us/step - loss: 0.5244 - accuracy: 0.7803 - val_loss: 0.5231 - val_accuracy: 0.7805\n",
      "Epoch 15/20\n",
      "92341/92341 [==============================] - 15s 158us/step - loss: 0.5246 - accuracy: 0.7803 - val_loss: 0.5226 - val_accuracy: 0.7805\n",
      "Epoch 16/20\n",
      "92341/92341 [==============================] - 15s 162us/step - loss: 0.5241 - accuracy: 0.7803 - val_loss: 0.5189 - val_accuracy: 0.7805\n",
      "Epoch 17/20\n",
      "92341/92341 [==============================] - 15s 162us/step - loss: 0.5234 - accuracy: 0.7803 - val_loss: 0.5197 - val_accuracy: 0.7805\n",
      "Epoch 18/20\n",
      "92341/92341 [==============================] - 14s 157us/step - loss: 0.5231 - accuracy: 0.7803 - val_loss: 0.5217 - val_accuracy: 0.7805\n",
      "Epoch 19/20\n",
      "92341/92341 [==============================] - 14s 156us/step - loss: 0.5233 - accuracy: 0.7803 - val_loss: 0.5193 - val_accuracy: 0.7805\n",
      "Epoch 20/20\n",
      "92341/92341 [==============================] - 15s 159us/step - loss: 0.5229 - accuracy: 0.7803 - val_loss: 0.5192 - val_accuracy: 0.7805\n"
     ]
    }
   ],
   "source": [
    "history9 = model9.fit(E9X_train, E9Y_train, batch_size=64, validation_data=(E9X_test, E9Y_test), epochs=20)"
   ]
  },
  {
   "cell_type": "code",
   "execution_count": 46,
   "metadata": {},
   "outputs": [
    {
     "data": {
      "image/png": "[encoded data removed]",
      "text/plain": [
       "<Figure size 432x288 with 2 Axes>"
      ]
     },
     "metadata": {
      "needs_background": "light"
     },
     "output_type": "display_data"
    }
   ],
   "source": [
    "summarize_diagnostics(history9)"
   ]
  },
  {
   "cell_type": "markdown",
   "metadata": {},
   "source": [
    "# E_tot"
   ]
  },
  {
   "cell_type": "code",
   "execution_count": 105,
   "metadata": {},
   "outputs": [
    {
     "name": "stdout",
     "output_type": "stream",
     "text": [
      "115427\n"
     ]
    }
   ],
   "source": [
    "folder = 'prova_E/prova_E/E9/'\n",
    "i = 0\n",
    "for file in os.listdir(folder):\n",
    "    i += 1\n",
    "print(i)"
   ]
  },
  {
   "cell_type": "code",
   "execution_count": 106,
   "metadata": {},
   "outputs": [
    {
     "data": {
      "text/plain": [
       "1633810"
      ]
     },
     "execution_count": 106,
     "metadata": {},
     "output_type": "execute_result"
    }
   ],
   "source": [
    "139137+189571+190128+190432+188824+189695+149425+141085+140086+115427"
   ]
  },
  {
   "cell_type": "code",
   "execution_count": 3,
   "metadata": {},
   "outputs": [],
   "source": [
    "Etot = np.empty((1633810, 20, 1), dtype=cp.float64)\n",
    "labels_Etot = np.zeros(1633810)\n",
    "i = 0\n",
    "\n",
    "folder = 'prova_E/prova_E/E0/'\n",
    "for file in os.listdir(folder):\n",
    "    if file.startswith('el'):\n",
    "        labels_Etot[i] = 1\n",
    "    array = np.load(folder + file)\n",
    "    array = cp.reshape(array, (20,1))\n",
    "    Etot[i] = array\n",
    "    i += 1\n",
    "    \n",
    "folder = 'prova_E/prova_E/E1/'\n",
    "for file in os.listdir(folder):\n",
    "    if file.startswith('el'):\n",
    "        labels_Etot[i] = 1\n",
    "    array = np.load(folder + file)\n",
    "    array = cp.reshape(array, (20,1))\n",
    "    Etot[i] = array\n",
    "    i += 1\n",
    "    \n",
    "folder = 'prova_E/prova_E/E2/'\n",
    "for file in os.listdir(folder):\n",
    "    if file.startswith('el'):\n",
    "        labels_Etot[i] = 1\n",
    "    array = np.load(folder + file)\n",
    "    array = cp.reshape(array, (20,1))\n",
    "    Etot[i] = array\n",
    "    i += 1\n",
    "    \n",
    "folder = 'prova_E/prova_E/E3/'\n",
    "for file in os.listdir(folder):\n",
    "    if file.startswith('el'):\n",
    "        labels_Etot[i] = 1\n",
    "    array = np.load(folder + file)\n",
    "    array = cp.reshape(array, (20,1))\n",
    "    Etot[i] = array\n",
    "    i += 1\n",
    "    \n",
    "folder = 'prova_E/prova_E/E4/'\n",
    "for file in os.listdir(folder):\n",
    "    if file.startswith('el'):\n",
    "        labels_Etot[i] = 1\n",
    "    array = np.load(folder + file)\n",
    "    array = cp.reshape(array, (20,1))\n",
    "    Etot[i] = array\n",
    "    i += 1\n",
    "    \n",
    "folder = 'prova_E/prova_E/E5/'\n",
    "for file in os.listdir(folder):\n",
    "    if file.startswith('el'):\n",
    "        labels_Etot[i] = 1\n",
    "    array = np.load(folder + file)\n",
    "    array = cp.reshape(array, (20,1))\n",
    "    Etot[i] = array\n",
    "    i += 1\n",
    "    \n",
    "folder = 'prova_E/prova_E/E6/'\n",
    "for file in os.listdir(folder):\n",
    "    if file.startswith('el'):\n",
    "        labels_Etot[i] = 1\n",
    "    array = np.load(folder + file)\n",
    "    array = cp.reshape(array, (20,1))\n",
    "    Etot[i] = array\n",
    "    i += 1\n",
    "    \n",
    "folder = 'prova_E/prova_E/E7/'\n",
    "for file in os.listdir(folder):\n",
    "    if file.startswith('el'):\n",
    "        labels_Etot[i] = 1\n",
    "    array = np.load(folder + file)\n",
    "    array = cp.reshape(array, (20,1))\n",
    "    Etot[i] = array\n",
    "    i += 1\n",
    "    \n",
    "folder = 'prova_E/prova_E/E8/'\n",
    "for file in os.listdir(folder):\n",
    "    if file.startswith('el'):\n",
    "        labels_Etot[i] = 1\n",
    "    array = np.load(folder + file)\n",
    "    array = cp.reshape(array, (20,1))\n",
    "    Etot[i] = array\n",
    "    i += 1\n",
    "    \n",
    "folder = 'prova_E/prova_E/E9/'\n",
    "for file in os.listdir(folder):\n",
    "    if file.startswith('el'):\n",
    "        labels_Etot[i] = 1\n",
    "    array = np.load(folder + file)\n",
    "    array = cp.reshape(array, (20,1))\n",
    "    Etot[i] = array\n",
    "    i += 1"
   ]
  },
  {
   "cell_type": "code",
   "execution_count": 4,
   "metadata": {},
   "outputs": [],
   "source": [
    "Etot = Etot/Etot.max()"
   ]
  },
  {
   "cell_type": "code",
   "execution_count": 5,
   "metadata": {},
   "outputs": [],
   "source": [
    "from sklearn.model_selection import train_test_split\n",
    "EtotX_train, EtotX_test, EtotY_train, EtotY_test = train_test_split(Etot , labels_Etot ,test_size=0.2)"
   ]
  },
  {
   "cell_type": "code",
   "execution_count": 6,
   "metadata": {},
   "outputs": [
    {
     "name": "stderr",
     "output_type": "stream",
     "text": [
      "Using TensorFlow backend.\n"
     ]
    }
   ],
   "source": [
    "from keras.models import Sequential\n",
    "from keras.layers import Dense, Conv1D, Flatten, Dropout, MaxPooling1D\n",
    "\n",
    "model = Sequential()\n",
    "model.add(Conv1D(32, 3, activation='relu', kernel_initializer='he_uniform', padding='same', input_shape=(20, 1)))\n",
    "model.add(MaxPooling1D(2))\n",
    "model.add(Dropout(0.2))\n",
    "model.add(Conv1D(64, 3, activation='relu', kernel_initializer='he_uniform', padding='same'))\n",
    "model.add(MaxPooling1D(2))\n",
    "model.add(Dropout(0.2))\n",
    "model.add(Conv1D(128, 3, activation='relu', kernel_initializer='he_uniform', padding='same'))\n",
    "model.add(MaxPooling1D(2))\n",
    "model.add(Dropout(0.2))\n",
    "model.add(Flatten())\n",
    "model.add(Dense(128, activation='relu', kernel_initializer='he_uniform'))\n",
    "model.add(Dropout(0.5))\n",
    "model.add(Dense(1, activation='sigmoid'))"
   ]
  },
  {
   "cell_type": "code",
   "execution_count": 7,
   "metadata": {},
   "outputs": [],
   "source": [
    "from keras.optimizers import Adam\n",
    "opt = Adam(lr=0.0001)\n",
    "model.compile(loss='binary_crossentropy', optimizer=opt, metrics=['accuracy'])"
   ]
  },
  {
   "cell_type": "code",
   "execution_count": 8,
   "metadata": {},
   "outputs": [
    {
     "name": "stdout",
     "output_type": "stream",
     "text": [
      "Train on 1307048 samples, validate on 326762 samples\n",
      "Epoch 1/20\n",
      "1307048/1307048 [==============================] - 159s 122us/step - loss: 0.6658 - accuracy: 0.5788 - val_loss: 0.6615 - val_accuracy: 0.5834\n",
      "Epoch 2/20\n",
      "1307048/1307048 [==============================] - 147s 113us/step - loss: 0.6567 - accuracy: 0.5840 - val_loss: 0.6595 - val_accuracy: 0.5847\n",
      "Epoch 3/20\n",
      "1307048/1307048 [==============================] - 151s 116us/step - loss: 0.6534 - accuracy: 0.5923 - val_loss: 0.6538 - val_accuracy: 0.6159\n",
      "Epoch 4/20\n",
      "1307048/1307048 [==============================] - 155s 119us/step - loss: 0.6491 - accuracy: 0.6031 - val_loss: 0.6455 - val_accuracy: 0.6136\n",
      "Epoch 5/20\n",
      "1307048/1307048 [==============================] - 152s 117us/step - loss: 0.6464 - accuracy: 0.6082 - val_loss: 0.6437 - val_accuracy: 0.6143\n",
      "Epoch 6/20\n",
      "1307048/1307048 [==============================] - 156s 119us/step - loss: 0.6448 - accuracy: 0.6115 - val_loss: 0.6424 - val_accuracy: 0.6188\n",
      "Epoch 7/20\n",
      "1307048/1307048 [==============================] - 150s 115us/step - loss: 0.6431 - accuracy: 0.6132 - val_loss: 0.6396 - val_accuracy: 0.6233\n",
      "Epoch 8/20\n",
      "1307048/1307048 [==============================] - 149s 114us/step - loss: 0.6422 - accuracy: 0.6146 - val_loss: 0.6396 - val_accuracy: 0.6230\n",
      "Epoch 9/20\n",
      "1307048/1307048 [==============================] - 152s 116us/step - loss: 0.6414 - accuracy: 0.6158 - val_loss: 0.6418 - val_accuracy: 0.6200\n",
      "Epoch 10/20\n",
      "1307048/1307048 [==============================] - 151s 116us/step - loss: 0.6407 - accuracy: 0.6169 - val_loss: 0.6397 - val_accuracy: 0.6206\n",
      "Epoch 11/20\n",
      "1307048/1307048 [==============================] - 151s 115us/step - loss: 0.6401 - accuracy: 0.6176 - val_loss: 0.6379 - val_accuracy: 0.6228\n",
      "Epoch 12/20\n",
      "1307048/1307048 [==============================] - 149s 114us/step - loss: 0.6396 - accuracy: 0.6181 - val_loss: 0.6369 - val_accuracy: 0.6253\n",
      "Epoch 13/20\n",
      "1307048/1307048 [==============================] - 152s 116us/step - loss: 0.6390 - accuracy: 0.6196 - val_loss: 0.6375 - val_accuracy: 0.6222\n",
      "Epoch 14/20\n",
      "1307048/1307048 [==============================] - 150s 115us/step - loss: 0.6387 - accuracy: 0.6197 - val_loss: 0.6383 - val_accuracy: 0.6198\n",
      "Epoch 15/20\n",
      "1307048/1307048 [==============================] - 152s 116us/step - loss: 0.6383 - accuracy: 0.6205 - val_loss: 0.6367 - val_accuracy: 0.6235\n",
      "Epoch 16/20\n",
      "1307048/1307048 [==============================] - 152s 117us/step - loss: 0.6377 - accuracy: 0.6213 - val_loss: 0.6383 - val_accuracy: 0.6205\n",
      "Epoch 17/20\n",
      "1307048/1307048 [==============================] - 146s 112us/step - loss: 0.6376 - accuracy: 0.6211 - val_loss: 0.6340 - val_accuracy: 0.6307\n",
      "Epoch 18/20\n",
      "1307048/1307048 [==============================] - 146s 112us/step - loss: 0.6372 - accuracy: 0.6221 - val_loss: 0.6340 - val_accuracy: 0.6290\n",
      "Epoch 19/20\n",
      " 763712/1307048 [================>.............] - ETA: 56s - loss: 0.6373 - accuracy: 0.6211"
     ]
    },
    {
     "ename": "KeyboardInterrupt",
     "evalue": "",
     "output_type": "error",
     "traceback": [
      "\u001b[0;31m---------------------------------------------------------------------------\u001b[0m",
      "\u001b[0;31mKeyboardInterrupt\u001b[0m                         Traceback (most recent call last)",
      "\u001b[0;32m<ipython-input-8-e9d5a10da55b>\u001b[0m in \u001b[0;36m<module>\u001b[0;34m\u001b[0m\n\u001b[0;32m----> 1\u001b[0;31m \u001b[0mhistory\u001b[0m \u001b[0;34m=\u001b[0m \u001b[0mmodel\u001b[0m\u001b[0;34m.\u001b[0m\u001b[0mfit\u001b[0m\u001b[0;34m(\u001b[0m\u001b[0mEtotX_train\u001b[0m\u001b[0;34m,\u001b[0m \u001b[0mEtotY_train\u001b[0m\u001b[0;34m,\u001b[0m \u001b[0mbatch_size\u001b[0m\u001b[0;34m=\u001b[0m\u001b[0;36m64\u001b[0m\u001b[0;34m,\u001b[0m \u001b[0mvalidation_data\u001b[0m\u001b[0;34m=\u001b[0m\u001b[0;34m(\u001b[0m\u001b[0mEtotX_test\u001b[0m\u001b[0;34m,\u001b[0m \u001b[0mEtotY_test\u001b[0m\u001b[0;34m)\u001b[0m\u001b[0;34m,\u001b[0m \u001b[0mepochs\u001b[0m\u001b[0;34m=\u001b[0m\u001b[0;36m20\u001b[0m\u001b[0;34m)\u001b[0m\u001b[0;34m\u001b[0m\u001b[0;34m\u001b[0m\u001b[0m\n\u001b[0m",
      "\u001b[0;32m~/anaconda3/lib/python3.7/site-packages/keras/engine/training.py\u001b[0m in \u001b[0;36mfit\u001b[0;34m(self, x, y, batch_size, epochs, verbose, callbacks, validation_split, validation_data, shuffle, class_weight, sample_weight, initial_epoch, steps_per_epoch, validation_steps, validation_freq, max_queue_size, workers, use_multiprocessing, **kwargs)\u001b[0m\n\u001b[1;32m   1237\u001b[0m                                         \u001b[0msteps_per_epoch\u001b[0m\u001b[0;34m=\u001b[0m\u001b[0msteps_per_epoch\u001b[0m\u001b[0;34m,\u001b[0m\u001b[0;34m\u001b[0m\u001b[0;34m\u001b[0m\u001b[0m\n\u001b[1;32m   1238\u001b[0m                                         \u001b[0mvalidation_steps\u001b[0m\u001b[0;34m=\u001b[0m\u001b[0mvalidation_steps\u001b[0m\u001b[0;34m,\u001b[0m\u001b[0;34m\u001b[0m\u001b[0;34m\u001b[0m\u001b[0m\n\u001b[0;32m-> 1239\u001b[0;31m                                         validation_freq=validation_freq)\n\u001b[0m\u001b[1;32m   1240\u001b[0m \u001b[0;34m\u001b[0m\u001b[0m\n\u001b[1;32m   1241\u001b[0m     def evaluate(self,\n",
      "\u001b[0;32m~/anaconda3/lib/python3.7/site-packages/keras/engine/training_arrays.py\u001b[0m in \u001b[0;36mfit_loop\u001b[0;34m(model, fit_function, fit_inputs, out_labels, batch_size, epochs, verbose, callbacks, val_function, val_inputs, shuffle, initial_epoch, steps_per_epoch, validation_steps, validation_freq)\u001b[0m\n\u001b[1;32m    194\u001b[0m                     \u001b[0mins_batch\u001b[0m\u001b[0;34m[\u001b[0m\u001b[0mi\u001b[0m\u001b[0;34m]\u001b[0m \u001b[0;34m=\u001b[0m \u001b[0mins_batch\u001b[0m\u001b[0;34m[\u001b[0m\u001b[0mi\u001b[0m\u001b[0;34m]\u001b[0m\u001b[0;34m.\u001b[0m\u001b[0mtoarray\u001b[0m\u001b[0;34m(\u001b[0m\u001b[0;34m)\u001b[0m\u001b[0;34m\u001b[0m\u001b[0;34m\u001b[0m\u001b[0m\n\u001b[1;32m    195\u001b[0m \u001b[0;34m\u001b[0m\u001b[0m\n\u001b[0;32m--> 196\u001b[0;31m                 \u001b[0mouts\u001b[0m \u001b[0;34m=\u001b[0m \u001b[0mfit_function\u001b[0m\u001b[0;34m(\u001b[0m\u001b[0mins_batch\u001b[0m\u001b[0;34m)\u001b[0m\u001b[0;34m\u001b[0m\u001b[0;34m\u001b[0m\u001b[0m\n\u001b[0m\u001b[1;32m    197\u001b[0m                 \u001b[0mouts\u001b[0m \u001b[0;34m=\u001b[0m \u001b[0mto_list\u001b[0m\u001b[0;34m(\u001b[0m\u001b[0mouts\u001b[0m\u001b[0;34m)\u001b[0m\u001b[0;34m\u001b[0m\u001b[0;34m\u001b[0m\u001b[0m\n\u001b[1;32m    198\u001b[0m                 \u001b[0;32mfor\u001b[0m \u001b[0ml\u001b[0m\u001b[0;34m,\u001b[0m \u001b[0mo\u001b[0m \u001b[0;32min\u001b[0m \u001b[0mzip\u001b[0m\u001b[0;34m(\u001b[0m\u001b[0mout_labels\u001b[0m\u001b[0;34m,\u001b[0m \u001b[0mouts\u001b[0m\u001b[0;34m)\u001b[0m\u001b[0;34m:\u001b[0m\u001b[0;34m\u001b[0m\u001b[0;34m\u001b[0m\u001b[0m\n",
      "\u001b[0;32m~/anaconda3/lib/python3.7/site-packages/tensorflow_core/python/keras/backend.py\u001b[0m in \u001b[0;36m__call__\u001b[0;34m(self, inputs)\u001b[0m\n\u001b[1;32m   3725\u001b[0m         \u001b[0mvalue\u001b[0m \u001b[0;34m=\u001b[0m \u001b[0mmath_ops\u001b[0m\u001b[0;34m.\u001b[0m\u001b[0mcast\u001b[0m\u001b[0;34m(\u001b[0m\u001b[0mvalue\u001b[0m\u001b[0;34m,\u001b[0m \u001b[0mtensor\u001b[0m\u001b[0;34m.\u001b[0m\u001b[0mdtype\u001b[0m\u001b[0;34m)\u001b[0m\u001b[0;34m\u001b[0m\u001b[0;34m\u001b[0m\u001b[0m\n\u001b[1;32m   3726\u001b[0m       \u001b[0mconverted_inputs\u001b[0m\u001b[0;34m.\u001b[0m\u001b[0mappend\u001b[0m\u001b[0;34m(\u001b[0m\u001b[0mvalue\u001b[0m\u001b[0;34m)\u001b[0m\u001b[0;34m\u001b[0m\u001b[0;34m\u001b[0m\u001b[0m\n\u001b[0;32m-> 3727\u001b[0;31m     \u001b[0moutputs\u001b[0m \u001b[0;34m=\u001b[0m \u001b[0mself\u001b[0m\u001b[0;34m.\u001b[0m\u001b[0m_graph_fn\u001b[0m\u001b[0;34m(\u001b[0m\u001b[0;34m*\u001b[0m\u001b[0mconverted_inputs\u001b[0m\u001b[0;34m)\u001b[0m\u001b[0;34m\u001b[0m\u001b[0;34m\u001b[0m\u001b[0m\n\u001b[0m\u001b[1;32m   3728\u001b[0m \u001b[0;34m\u001b[0m\u001b[0m\n\u001b[1;32m   3729\u001b[0m     \u001b[0;31m# EagerTensor.numpy() will often make a copy to ensure memory safety.\u001b[0m\u001b[0;34m\u001b[0m\u001b[0;34m\u001b[0m\u001b[0;34m\u001b[0m\u001b[0m\n",
      "\u001b[0;32m~/anaconda3/lib/python3.7/site-packages/tensorflow_core/python/eager/function.py\u001b[0m in \u001b[0;36m__call__\u001b[0;34m(self, *args, **kwargs)\u001b[0m\n\u001b[1;32m   1549\u001b[0m       \u001b[0mTypeError\u001b[0m\u001b[0;34m:\u001b[0m \u001b[0mFor\u001b[0m \u001b[0minvalid\u001b[0m \u001b[0mpositional\u001b[0m\u001b[0;34m/\u001b[0m\u001b[0mkeyword\u001b[0m \u001b[0margument\u001b[0m \u001b[0mcombinations\u001b[0m\u001b[0;34m.\u001b[0m\u001b[0;34m\u001b[0m\u001b[0;34m\u001b[0m\u001b[0m\n\u001b[1;32m   1550\u001b[0m     \"\"\"\n\u001b[0;32m-> 1551\u001b[0;31m     \u001b[0;32mreturn\u001b[0m \u001b[0mself\u001b[0m\u001b[0;34m.\u001b[0m\u001b[0m_call_impl\u001b[0m\u001b[0;34m(\u001b[0m\u001b[0margs\u001b[0m\u001b[0;34m,\u001b[0m \u001b[0mkwargs\u001b[0m\u001b[0;34m)\u001b[0m\u001b[0;34m\u001b[0m\u001b[0;34m\u001b[0m\u001b[0m\n\u001b[0m\u001b[1;32m   1552\u001b[0m \u001b[0;34m\u001b[0m\u001b[0m\n\u001b[1;32m   1553\u001b[0m   \u001b[0;32mdef\u001b[0m \u001b[0m_call_impl\u001b[0m\u001b[0;34m(\u001b[0m\u001b[0mself\u001b[0m\u001b[0;34m,\u001b[0m \u001b[0margs\u001b[0m\u001b[0;34m,\u001b[0m \u001b[0mkwargs\u001b[0m\u001b[0;34m,\u001b[0m \u001b[0mcancellation_manager\u001b[0m\u001b[0;34m=\u001b[0m\u001b[0;32mNone\u001b[0m\u001b[0;34m)\u001b[0m\u001b[0;34m:\u001b[0m\u001b[0;34m\u001b[0m\u001b[0;34m\u001b[0m\u001b[0m\n",
      "\u001b[0;32m~/anaconda3/lib/python3.7/site-packages/tensorflow_core/python/eager/function.py\u001b[0m in \u001b[0;36m_call_impl\u001b[0;34m(self, args, kwargs, cancellation_manager)\u001b[0m\n\u001b[1;32m   1589\u001b[0m       raise TypeError(\"Keyword arguments {} unknown. Expected {}.\".format(\n\u001b[1;32m   1590\u001b[0m           list(kwargs.keys()), list(self._arg_keywords)))\n\u001b[0;32m-> 1591\u001b[0;31m     \u001b[0;32mreturn\u001b[0m \u001b[0mself\u001b[0m\u001b[0;34m.\u001b[0m\u001b[0m_call_flat\u001b[0m\u001b[0;34m(\u001b[0m\u001b[0margs\u001b[0m\u001b[0;34m,\u001b[0m \u001b[0mself\u001b[0m\u001b[0;34m.\u001b[0m\u001b[0mcaptured_inputs\u001b[0m\u001b[0;34m,\u001b[0m \u001b[0mcancellation_manager\u001b[0m\u001b[0;34m)\u001b[0m\u001b[0;34m\u001b[0m\u001b[0;34m\u001b[0m\u001b[0m\n\u001b[0m\u001b[1;32m   1592\u001b[0m \u001b[0;34m\u001b[0m\u001b[0m\n\u001b[1;32m   1593\u001b[0m   \u001b[0;32mdef\u001b[0m \u001b[0m_filtered_call\u001b[0m\u001b[0;34m(\u001b[0m\u001b[0mself\u001b[0m\u001b[0;34m,\u001b[0m \u001b[0margs\u001b[0m\u001b[0;34m,\u001b[0m \u001b[0mkwargs\u001b[0m\u001b[0;34m)\u001b[0m\u001b[0;34m:\u001b[0m\u001b[0;34m\u001b[0m\u001b[0;34m\u001b[0m\u001b[0m\n",
      "\u001b[0;32m~/anaconda3/lib/python3.7/site-packages/tensorflow_core/python/eager/function.py\u001b[0m in \u001b[0;36m_call_flat\u001b[0;34m(self, args, captured_inputs, cancellation_manager)\u001b[0m\n\u001b[1;32m   1690\u001b[0m       \u001b[0;31m# No tape is watching; skip to running the function.\u001b[0m\u001b[0;34m\u001b[0m\u001b[0;34m\u001b[0m\u001b[0;34m\u001b[0m\u001b[0m\n\u001b[1;32m   1691\u001b[0m       return self._build_call_outputs(self._inference_function.call(\n\u001b[0;32m-> 1692\u001b[0;31m           ctx, args, cancellation_manager=cancellation_manager))\n\u001b[0m\u001b[1;32m   1693\u001b[0m     forward_backward = self._select_forward_and_backward_functions(\n\u001b[1;32m   1694\u001b[0m         \u001b[0margs\u001b[0m\u001b[0;34m,\u001b[0m\u001b[0;34m\u001b[0m\u001b[0;34m\u001b[0m\u001b[0m\n",
      "\u001b[0;32m~/anaconda3/lib/python3.7/site-packages/tensorflow_core/python/eager/function.py\u001b[0m in \u001b[0;36mcall\u001b[0;34m(self, ctx, args, cancellation_manager)\u001b[0m\n\u001b[1;32m    543\u001b[0m               \u001b[0minputs\u001b[0m\u001b[0;34m=\u001b[0m\u001b[0margs\u001b[0m\u001b[0;34m,\u001b[0m\u001b[0;34m\u001b[0m\u001b[0;34m\u001b[0m\u001b[0m\n\u001b[1;32m    544\u001b[0m               \u001b[0mattrs\u001b[0m\u001b[0;34m=\u001b[0m\u001b[0;34m(\u001b[0m\u001b[0;34m\"executor_type\"\u001b[0m\u001b[0;34m,\u001b[0m \u001b[0mexecutor_type\u001b[0m\u001b[0;34m,\u001b[0m \u001b[0;34m\"config_proto\"\u001b[0m\u001b[0;34m,\u001b[0m \u001b[0mconfig\u001b[0m\u001b[0;34m)\u001b[0m\u001b[0;34m,\u001b[0m\u001b[0;34m\u001b[0m\u001b[0;34m\u001b[0m\u001b[0m\n\u001b[0;32m--> 545\u001b[0;31m               ctx=ctx)\n\u001b[0m\u001b[1;32m    546\u001b[0m         \u001b[0;32melse\u001b[0m\u001b[0;34m:\u001b[0m\u001b[0;34m\u001b[0m\u001b[0;34m\u001b[0m\u001b[0m\n\u001b[1;32m    547\u001b[0m           outputs = execute.execute_with_cancellation(\n",
      "\u001b[0;32m~/anaconda3/lib/python3.7/site-packages/tensorflow_core/python/eager/execute.py\u001b[0m in \u001b[0;36mquick_execute\u001b[0;34m(op_name, num_outputs, inputs, attrs, ctx, name)\u001b[0m\n\u001b[1;32m     59\u001b[0m     tensors = pywrap_tensorflow.TFE_Py_Execute(ctx._handle, device_name,\n\u001b[1;32m     60\u001b[0m                                                \u001b[0mop_name\u001b[0m\u001b[0;34m,\u001b[0m \u001b[0minputs\u001b[0m\u001b[0;34m,\u001b[0m \u001b[0mattrs\u001b[0m\u001b[0;34m,\u001b[0m\u001b[0;34m\u001b[0m\u001b[0;34m\u001b[0m\u001b[0m\n\u001b[0;32m---> 61\u001b[0;31m                                                num_outputs)\n\u001b[0m\u001b[1;32m     62\u001b[0m   \u001b[0;32mexcept\u001b[0m \u001b[0mcore\u001b[0m\u001b[0;34m.\u001b[0m\u001b[0m_NotOkStatusException\u001b[0m \u001b[0;32mas\u001b[0m \u001b[0me\u001b[0m\u001b[0;34m:\u001b[0m\u001b[0;34m\u001b[0m\u001b[0;34m\u001b[0m\u001b[0m\n\u001b[1;32m     63\u001b[0m     \u001b[0;32mif\u001b[0m \u001b[0mname\u001b[0m \u001b[0;32mis\u001b[0m \u001b[0;32mnot\u001b[0m \u001b[0;32mNone\u001b[0m\u001b[0;34m:\u001b[0m\u001b[0;34m\u001b[0m\u001b[0;34m\u001b[0m\u001b[0m\n",
      "\u001b[0;31mKeyboardInterrupt\u001b[0m: "
     ]
    }
   ],
   "source": [
    "history = model.fit(EtotX_train, EtotY_train, batch_size=64, validation_data=(EtotX_test, EtotY_test), epochs=20)"
   ]
  },
  {
   "cell_type": "code",
   "execution_count": 113,
   "metadata": {},
   "outputs": [
    {
     "data": {
      "image/png": "[encoded data removed]",
      "text/plain": [
       "<Figure size 432x288 with 2 Axes>"
      ]
     },
     "metadata": {
      "needs_background": "light"
     },
     "output_type": "display_data"
    }
   ],
   "source": [
    "summarize_diagnostics(history)"
   ]
  },
  {
   "cell_type": "code",
   "execution_count": 101,
   "metadata": {},
   "outputs": [],
   "source": [
    "E0 = np.empty((97744, 100, 1), dtype=cp.float64)\n",
    "labels_E0 = np.zeros(97744)\n",
    "folder = 'EnergySplit/E0/'\n",
    "i = 0\n",
    "j = 0\n",
    "for file in os.listdir(folder):\n",
    "    if file.startswith('el') and j < 48872:\n",
    "        labels_E0[i] = 1\n",
    "        array = np.load(folder + file)\n",
    "        array = cp.reshape(array, (100,1))\n",
    "        E0[i] = array\n",
    "        i += 1\n",
    "        j += 1\n",
    "    elif file.startswith('pos'):\n",
    "        array = np.load(folder + file)\n",
    "        array = cp.reshape(array, (100,1))\n",
    "        E0[i] = array\n",
    "        i += 1"
   ]
  },
  {
   "cell_type": "code",
   "execution_count": 103,
   "metadata": {},
   "outputs": [
    {
     "name": "stdout",
     "output_type": "stream",
     "text": [
      "48872\n"
     ]
    }
   ],
   "source": [
    "j = 0\n",
    "for i in range(97744):\n",
    "    if labels_E0[i] == 0:\n",
    "        j +=1\n",
    "print(j)"
   ]
  },
  {
   "cell_type": "code",
   "execution_count": null,
   "metadata": {},
   "outputs": [],
   "source": []
  }
 ],
 "metadata": {
  "kernelspec": {
   "display_name": "Python 3",
   "language": "python",
   "name": "python3"
  },
  "language_info": {
   "codemirror_mode": {
    "name": "ipython",
    "version": 3
   },
   "file_extension": ".py",
   "mimetype": "text/x-python",
   "name": "python",
   "nbconvert_exporter": "python",
   "pygments_lexer": "ipython3",
   "version": "3.7.6"
  }
 },
 "nbformat": 4,
 "nbformat_minor": 2
}
