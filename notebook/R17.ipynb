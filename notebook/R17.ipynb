{
 "cells": [
  {
   "cell_type": "code",
   "execution_count": 1,
   "metadata": {},
   "outputs": [],
   "source": [
    "import os\n",
    "import numpy as np\n",
    "import matplotlib.pyplot as plt"
   ]
  },
  {
   "cell_type": "code",
   "execution_count": 39,
   "metadata": {},
   "outputs": [
    {
     "name": "stdout",
     "output_type": "stream",
     "text": [
      "343\n"
     ]
    }
   ],
   "source": [
    "i = 0\n",
    "folder = '/mnt/Storage/gvicentini/prova_R/R0/'\n",
    "for file in os.listdir(folder):\n",
    "    i += 1\n",
    "print (i)"
   ]
  },
  {
   "cell_type": "code",
   "execution_count": 44,
   "metadata": {},
   "outputs": [
    {
     "ename": "IndexError",
     "evalue": "index 343 is out of bounds for axis 0 with size 343",
     "output_type": "error",
     "traceback": [
      "\u001b[0;31m---------------------------------------------------------------------------\u001b[0m",
      "\u001b[0;31mIndexError\u001b[0m                                Traceback (most recent call last)",
      "\u001b[0;32m<ipython-input-44-7bee25b17472>\u001b[0m in \u001b[0;36m<module>\u001b[0;34m\u001b[0m\n\u001b[1;32m      5\u001b[0m     \u001b[0marray\u001b[0m \u001b[0;34m=\u001b[0m \u001b[0mnp\u001b[0m\u001b[0;34m.\u001b[0m\u001b[0mload\u001b[0m\u001b[0;34m(\u001b[0m\u001b[0mfolder\u001b[0m \u001b[0;34m+\u001b[0m \u001b[0mfile\u001b[0m\u001b[0;34m)\u001b[0m\u001b[0;34m\u001b[0m\u001b[0;34m\u001b[0m\u001b[0m\n\u001b[1;32m      6\u001b[0m     \u001b[0marray\u001b[0m \u001b[0;34m=\u001b[0m \u001b[0mnp\u001b[0m\u001b[0;34m.\u001b[0m\u001b[0mreshape\u001b[0m\u001b[0;34m(\u001b[0m\u001b[0marray\u001b[0m\u001b[0;34m,\u001b[0m \u001b[0;34m(\u001b[0m\u001b[0;36m20\u001b[0m\u001b[0;34m,\u001b[0m\u001b[0;36m1\u001b[0m\u001b[0;34m)\u001b[0m\u001b[0;34m)\u001b[0m\u001b[0;34m\u001b[0m\u001b[0;34m\u001b[0m\u001b[0m\n\u001b[0;32m----> 7\u001b[0;31m     \u001b[0mtot\u001b[0m\u001b[0;34m[\u001b[0m\u001b[0mi\u001b[0m\u001b[0;34m]\u001b[0m \u001b[0;34m=\u001b[0m \u001b[0marray\u001b[0m\u001b[0;34m\u001b[0m\u001b[0;34m\u001b[0m\u001b[0m\n\u001b[0m\u001b[1;32m      8\u001b[0m     \u001b[0mi\u001b[0m \u001b[0;34m+=\u001b[0m \u001b[0;36m1\u001b[0m\u001b[0;34m\u001b[0m\u001b[0;34m\u001b[0m\u001b[0m\n",
      "\u001b[0;31mIndexError\u001b[0m: index 343 is out of bounds for axis 0 with size 343"
     ]
    }
   ],
   "source": [
    "i = 0\n",
    "tot = np.empty((343, 20, 1), dtype=np.float64)\n",
    "folder = '/mnt/Storage/gvicentini/electron_time/'\n",
    "for file in os.listdir(folder):\n",
    "    array = np.load(folder + file)\n",
    "    array = np.reshape(array, (20,1))\n",
    "    tot[i] = array\n",
    "    i += 1"
   ]
  },
  {
   "cell_type": "code",
   "execution_count": 11,
   "metadata": {},
   "outputs": [
    {
     "data": {
      "text/plain": [
       "'/mnt/Storage/gvicentini/positron_time/0pos_time20054.npy'"
      ]
     },
     "execution_count": 11,
     "metadata": {},
     "output_type": "execute_result"
    }
   ],
   "source": [
    "folder + file"
   ]
  },
  {
   "cell_type": "code",
   "execution_count": 13,
   "metadata": {},
   "outputs": [],
   "source": [
    "array = np.load(folder + file)"
   ]
  },
  {
   "cell_type": "code",
   "execution_count": 36,
   "metadata": {},
   "outputs": [
    {
     "data": {
      "text/plain": [
       "True"
      ]
     },
     "execution_count": 36,
     "metadata": {},
     "output_type": "execute_result"
    }
   ],
   "source": [
    "file.startswith('0el')"
   ]
  },
  {
   "cell_type": "code",
   "execution_count": 11,
   "metadata": {},
   "outputs": [],
   "source": [
    "def summarize_diagnostics(history):\n",
    "    # plot loss\n",
    "    plt.subplot(211)\n",
    "    plt.title('Cross Entropy Loss')\n",
    "    plt.plot(history.history['loss'], color='blue', label='train')\n",
    "    plt.plot(history.history['val_loss'], color='orange', label='test')\n",
    "    # plot accuracy\n",
    "    plt.subplot(212)\n",
    "    plt.title('Classification Accuracy')\n",
    "    plt.plot(history.history['accuracy'], color='blue', label='train')\n",
    "    plt.plot(history.history['val_accuracy'], color='orange', label='test')"
   ]
  },
  {
   "cell_type": "markdown",
   "metadata": {},
   "source": [
    "# R < 1m"
   ]
  },
  {
   "cell_type": "code",
   "execution_count": 45,
   "metadata": {},
   "outputs": [
    {
     "name": "stdout",
     "output_type": "stream",
     "text": [
      "343\n"
     ]
    }
   ],
   "source": [
    "folder = '/mnt/Storage/gvicentini/prova_R/R0/'\n",
    "i = 0\n",
    "for file in os.listdir(folder):\n",
    "    i += 1\n",
    "print(i)"
   ]
  },
  {
   "cell_type": "code",
   "execution_count": 46,
   "metadata": {},
   "outputs": [],
   "source": [
    "R0 = np.empty((343, 20, 1), dtype=np.float64)\n",
    "labels_R0 = np.zeros(343)\n",
    "folder = '/mnt/Storage/gvicentini/prova_R/R0/'\n",
    "i = 0\n",
    "for file in os.listdir(folder):\n",
    "    if file.startswith('el'):\n",
    "        labels_R0[i] = 1\n",
    "    array = np.load(folder + file)\n",
    "    array = np.reshape(array, (20,1))\n",
    "    R0[i] = array\n",
    "    i += 1"
   ]
  },
  {
   "cell_type": "code",
   "execution_count": 54,
   "metadata": {},
   "outputs": [],
   "source": [
    "R0 = R0/R0.max()"
   ]
  },
  {
   "cell_type": "code",
   "execution_count": 56,
   "metadata": {},
   "outputs": [
    {
     "data": {
      "text/plain": [
       "(343, 20, 1)"
      ]
     },
     "execution_count": 56,
     "metadata": {},
     "output_type": "execute_result"
    }
   ],
   "source": [
    "R0.shape"
   ]
  },
  {
   "cell_type": "code",
   "execution_count": 57,
   "metadata": {},
   "outputs": [],
   "source": [
    "from sklearn.model_selection import train_test_split\n",
    "R0X_train, R0X_test, R0Y_train, R0Y_test = train_test_split(R0 , labels_R0 ,test_size=0.2)"
   ]
  },
  {
   "cell_type": "code",
   "execution_count": 58,
   "metadata": {},
   "outputs": [
    {
     "name": "stderr",
     "output_type": "stream",
     "text": [
      "Using TensorFlow backend.\n"
     ]
    }
   ],
   "source": [
    "from keras.models import Sequential\n",
    "from keras.layers import Dense, Conv1D, Flatten, Dropout, MaxPooling1D\n",
    "\n",
    "model0 = Sequential()\n",
    "model0.add(Conv1D(32, 3, activation='relu', kernel_initializer='he_uniform', padding='same', input_shape=(20, 1)))\n",
    "model0.add(MaxPooling1D(2))\n",
    "model0.add(Dropout(0.2))\n",
    "model0.add(Conv1D(64, 3, activation='relu', kernel_initializer='he_uniform', padding='same'))\n",
    "model0.add(MaxPooling1D(2))\n",
    "model0.add(Dropout(0.2))\n",
    "model0.add(Conv1D(128, 3, activation='relu', kernel_initializer='he_uniform', padding='same'))\n",
    "model0.add(MaxPooling1D(2))\n",
    "model0.add(Dropout(0.2))\n",
    "model0.add(Flatten())\n",
    "model0.add(Dense(128, activation='relu', kernel_initializer='he_uniform'))\n",
    "model0.add(Dropout(0.5))\n",
    "model0.add(Dense(1, activation='sigmoid'))"
   ]
  },
  {
   "cell_type": "code",
   "execution_count": 60,
   "metadata": {},
   "outputs": [],
   "source": [
    "from keras.optimizers import Adam\n",
    "opt = Adam(lr=0.0001)\n",
    "model0.compile(loss='binary_crossentropy', optimizer=opt, metrics=['accuracy'])"
   ]
  },
  {
   "cell_type": "code",
   "execution_count": 61,
   "metadata": {},
   "outputs": [
    {
     "name": "stdout",
     "output_type": "stream",
     "text": [
      "Train on 274 samples, validate on 69 samples\n",
      "Epoch 1/20\n",
      "274/274 [==============================] - 1s 4ms/step - loss: 0.7198 - accuracy: 0.4964 - val_loss: 0.7088 - val_accuracy: 0.4783\n",
      "Epoch 2/20\n",
      "274/274 [==============================] - 0s 166us/step - loss: 0.7129 - accuracy: 0.4854 - val_loss: 0.7050 - val_accuracy: 0.4783\n",
      "Epoch 3/20\n",
      "274/274 [==============================] - 0s 128us/step - loss: 0.7076 - accuracy: 0.4781 - val_loss: 0.7023 - val_accuracy: 0.4783\n",
      "Epoch 4/20\n",
      "274/274 [==============================] - 0s 181us/step - loss: 0.6938 - accuracy: 0.5146 - val_loss: 0.6996 - val_accuracy: 0.4783\n",
      "Epoch 5/20\n",
      "274/274 [==============================] - 0s 121us/step - loss: 0.7229 - accuracy: 0.4416 - val_loss: 0.6984 - val_accuracy: 0.4783\n",
      "Epoch 6/20\n",
      "274/274 [==============================] - 0s 117us/step - loss: 0.6856 - accuracy: 0.5657 - val_loss: 0.6974 - val_accuracy: 0.4783\n",
      "Epoch 7/20\n",
      "274/274 [==============================] - 0s 115us/step - loss: 0.7062 - accuracy: 0.5036 - val_loss: 0.6964 - val_accuracy: 0.4783\n",
      "Epoch 8/20\n",
      "274/274 [==============================] - 0s 138us/step - loss: 0.7078 - accuracy: 0.5036 - val_loss: 0.6958 - val_accuracy: 0.4928\n",
      "Epoch 9/20\n",
      "274/274 [==============================] - 0s 102us/step - loss: 0.6999 - accuracy: 0.4599 - val_loss: 0.6955 - val_accuracy: 0.4783\n",
      "Epoch 10/20\n",
      "274/274 [==============================] - 0s 100us/step - loss: 0.7041 - accuracy: 0.4708 - val_loss: 0.6953 - val_accuracy: 0.4638\n",
      "Epoch 11/20\n",
      "274/274 [==============================] - 0s 114us/step - loss: 0.6977 - accuracy: 0.5657 - val_loss: 0.6944 - val_accuracy: 0.4928\n",
      "Epoch 12/20\n",
      "274/274 [==============================] - 0s 109us/step - loss: 0.6908 - accuracy: 0.5182 - val_loss: 0.6939 - val_accuracy: 0.4783\n",
      "Epoch 13/20\n",
      "274/274 [==============================] - 0s 110us/step - loss: 0.7141 - accuracy: 0.4672 - val_loss: 0.6937 - val_accuracy: 0.4348\n",
      "Epoch 14/20\n",
      "274/274 [==============================] - 0s 107us/step - loss: 0.7089 - accuracy: 0.4672 - val_loss: 0.6934 - val_accuracy: 0.4783\n",
      "Epoch 15/20\n",
      "274/274 [==============================] - 0s 130us/step - loss: 0.7037 - accuracy: 0.5109 - val_loss: 0.6931 - val_accuracy: 0.5072\n",
      "Epoch 16/20\n",
      "274/274 [==============================] - 0s 127us/step - loss: 0.6998 - accuracy: 0.5036 - val_loss: 0.6933 - val_accuracy: 0.5072\n",
      "Epoch 17/20\n",
      "274/274 [==============================] - 0s 110us/step - loss: 0.6920 - accuracy: 0.5365 - val_loss: 0.6934 - val_accuracy: 0.4783\n",
      "Epoch 18/20\n",
      "274/274 [==============================] - 0s 129us/step - loss: 0.7048 - accuracy: 0.4854 - val_loss: 0.6932 - val_accuracy: 0.5072\n",
      "Epoch 19/20\n",
      "274/274 [==============================] - 0s 127us/step - loss: 0.7057 - accuracy: 0.5292 - val_loss: 0.6932 - val_accuracy: 0.5072\n",
      "Epoch 20/20\n",
      "274/274 [==============================] - 0s 153us/step - loss: 0.6959 - accuracy: 0.5547 - val_loss: 0.6931 - val_accuracy: 0.5072\n"
     ]
    }
   ],
   "source": [
    "history0 = model0.fit(R0X_train, R0Y_train, batch_size=64, validation_data=(R0X_test, R0Y_test), epochs=20)"
   ]
  },
  {
   "cell_type": "code",
   "execution_count": 68,
   "metadata": {},
   "outputs": [
    {
     "data": {
      "image/png": "[encoded data removed]",
      "text/plain": [
       "<Figure size 432x288 with 2 Axes>"
      ]
     },
     "metadata": {
      "needs_background": "light"
     },
     "output_type": "display_data"
    }
   ],
   "source": [
    "summarize_diagnostics(history0)"
   ]
  },
  {
   "cell_type": "markdown",
   "metadata": {},
   "source": [
    "# 1 < R < 2 m"
   ]
  },
  {
   "cell_type": "code",
   "execution_count": 2,
   "metadata": {},
   "outputs": [
    {
     "name": "stdout",
     "output_type": "stream",
     "text": [
      "2388\n"
     ]
    }
   ],
   "source": [
    "folder = '/mnt/Storage/gvicentini/prova_R/R1/'\n",
    "i = 0\n",
    "for file in os.listdir(folder):\n",
    "    i += 1\n",
    "print(i)"
   ]
  },
  {
   "cell_type": "code",
   "execution_count": 4,
   "metadata": {},
   "outputs": [],
   "source": [
    "R1 = np.empty((2388, 20, 1), dtype=np.float64)\n",
    "labels_R1 = np.zeros(2388)\n",
    "folder = '/mnt/Storage/gvicentini/prova_R/R1/'\n",
    "i = 0\n",
    "for file in os.listdir(folder):\n",
    "    if file.startswith('el'):\n",
    "        labels_R1[i] = 1\n",
    "    array = np.load(folder + file)\n",
    "    array = np.reshape(array, (20,1))\n",
    "    R1[i] = array\n",
    "    i += 1"
   ]
  },
  {
   "cell_type": "code",
   "execution_count": 8,
   "metadata": {},
   "outputs": [],
   "source": [
    "R1 = R1/R1.max()"
   ]
  },
  {
   "cell_type": "code",
   "execution_count": 10,
   "metadata": {},
   "outputs": [
    {
     "data": {
      "text/plain": [
       "(2388, 20, 1)"
      ]
     },
     "execution_count": 10,
     "metadata": {},
     "output_type": "execute_result"
    }
   ],
   "source": [
    "R1.shape"
   ]
  },
  {
   "cell_type": "code",
   "execution_count": 11,
   "metadata": {},
   "outputs": [],
   "source": [
    "from sklearn.model_selection import train_test_split\n",
    "R1X_train, R1X_test, R1Y_train, R1Y_test = train_test_split(R1 , labels_R1 ,test_size=0.2)"
   ]
  },
  {
   "cell_type": "code",
   "execution_count": 12,
   "metadata": {},
   "outputs": [
    {
     "name": "stderr",
     "output_type": "stream",
     "text": [
      "Using TensorFlow backend.\n"
     ]
    }
   ],
   "source": [
    "from keras.models import Sequential\n",
    "from keras.layers import Dense, Conv1D, Flatten, Dropout, MaxPooling1D\n",
    "\n",
    "model1 = Sequential()\n",
    "model1.add(Conv1D(32, 3, activation='relu', kernel_initializer='he_uniform', padding='same', input_shape=(20, 1)))\n",
    "model1.add(MaxPooling1D(2))\n",
    "model1.add(Dropout(0.2))\n",
    "model1.add(Conv1D(64, 3, activation='relu', kernel_initializer='he_uniform', padding='same'))\n",
    "model1.add(MaxPooling1D(2))\n",
    "model1.add(Dropout(0.2))\n",
    "model1.add(Conv1D(128, 3, activation='relu', kernel_initializer='he_uniform', padding='same'))\n",
    "model1.add(MaxPooling1D(2))\n",
    "model1.add(Dropout(0.2))\n",
    "model1.add(Flatten())\n",
    "model1.add(Dense(128, activation='relu', kernel_initializer='he_uniform'))\n",
    "model1.add(Dropout(0.5))\n",
    "model1.add(Dense(1, activation='sigmoid'))"
   ]
  },
  {
   "cell_type": "code",
   "execution_count": 13,
   "metadata": {},
   "outputs": [],
   "source": [
    "from keras.optimizers import Adam\n",
    "opt = Adam(lr=0.0001)\n",
    "model1.compile(loss='binary_crossentropy', optimizer=opt, metrics=['accuracy'])"
   ]
  },
  {
   "cell_type": "code",
   "execution_count": 14,
   "metadata": {},
   "outputs": [
    {
     "name": "stdout",
     "output_type": "stream",
     "text": [
      "Train on 1910 samples, validate on 478 samples\n",
      "Epoch 1/20\n",
      "1910/1910 [==============================] - 1s 462us/step - loss: 0.7177 - accuracy: 0.5094 - val_loss: 0.6970 - val_accuracy: 0.4519\n",
      "Epoch 2/20\n",
      "1910/1910 [==============================] - 0s 115us/step - loss: 0.7116 - accuracy: 0.5016 - val_loss: 0.6938 - val_accuracy: 0.5000\n",
      "Epoch 3/20\n",
      "1910/1910 [==============================] - 0s 122us/step - loss: 0.7107 - accuracy: 0.5016 - val_loss: 0.6955 - val_accuracy: 0.4414\n",
      "Epoch 4/20\n",
      "1910/1910 [==============================] - 0s 109us/step - loss: 0.7088 - accuracy: 0.5115 - val_loss: 0.6955 - val_accuracy: 0.4435\n",
      "Epoch 5/20\n",
      "1910/1910 [==============================] - 0s 105us/step - loss: 0.7111 - accuracy: 0.4979 - val_loss: 0.6946 - val_accuracy: 0.4582\n",
      "Epoch 6/20\n",
      "1910/1910 [==============================] - 0s 94us/step - loss: 0.7059 - accuracy: 0.5120 - val_loss: 0.6936 - val_accuracy: 0.4874\n",
      "Epoch 7/20\n",
      "1910/1910 [==============================] - 0s 99us/step - loss: 0.7126 - accuracy: 0.4916 - val_loss: 0.6935 - val_accuracy: 0.4916\n",
      "Epoch 8/20\n",
      "1910/1910 [==============================] - 0s 100us/step - loss: 0.7043 - accuracy: 0.4948 - val_loss: 0.6936 - val_accuracy: 0.4833\n",
      "Epoch 9/20\n",
      "1910/1910 [==============================] - 0s 99us/step - loss: 0.7074 - accuracy: 0.4979 - val_loss: 0.6917 - val_accuracy: 0.5481\n",
      "Epoch 10/20\n",
      "1910/1910 [==============================] - 0s 125us/step - loss: 0.7032 - accuracy: 0.5089 - val_loss: 0.6918 - val_accuracy: 0.5481\n",
      "Epoch 11/20\n",
      "1910/1910 [==============================] - 0s 130us/step - loss: 0.7076 - accuracy: 0.4942 - val_loss: 0.6933 - val_accuracy: 0.4603\n",
      "Epoch 12/20\n",
      "1910/1910 [==============================] - 0s 103us/step - loss: 0.6989 - accuracy: 0.5246 - val_loss: 0.6922 - val_accuracy: 0.5502\n",
      "Epoch 13/20\n",
      "1910/1910 [==============================] - 0s 110us/step - loss: 0.7039 - accuracy: 0.5005 - val_loss: 0.6906 - val_accuracy: 0.5481\n",
      "Epoch 14/20\n",
      "1910/1910 [==============================] - 0s 89us/step - loss: 0.7017 - accuracy: 0.5084 - val_loss: 0.6915 - val_accuracy: 0.5502\n",
      "Epoch 15/20\n",
      "1910/1910 [==============================] - 0s 88us/step - loss: 0.6965 - accuracy: 0.5110 - val_loss: 0.6913 - val_accuracy: 0.5502\n",
      "Epoch 16/20\n",
      "1910/1910 [==============================] - 0s 92us/step - loss: 0.6980 - accuracy: 0.5178 - val_loss: 0.6907 - val_accuracy: 0.5481\n",
      "Epoch 17/20\n",
      "1910/1910 [==============================] - 0s 100us/step - loss: 0.7002 - accuracy: 0.5178 - val_loss: 0.6907 - val_accuracy: 0.5502\n",
      "Epoch 18/20\n",
      "1910/1910 [==============================] - 0s 110us/step - loss: 0.6950 - accuracy: 0.5304 - val_loss: 0.6906 - val_accuracy: 0.5481\n",
      "Epoch 19/20\n",
      "1910/1910 [==============================] - 0s 95us/step - loss: 0.6994 - accuracy: 0.5126 - val_loss: 0.6898 - val_accuracy: 0.5481\n",
      "Epoch 20/20\n",
      "1910/1910 [==============================] - 0s 91us/step - loss: 0.6978 - accuracy: 0.5147 - val_loss: 0.6898 - val_accuracy: 0.5481\n"
     ]
    }
   ],
   "source": [
    "history1 = model1.fit(R1X_train, R1Y_train, batch_size=64, validation_data=(R1X_test, R1Y_test), epochs=20)"
   ]
  },
  {
   "cell_type": "code",
   "execution_count": 16,
   "metadata": {},
   "outputs": [
    {
     "data": {
      "image/png": "[encoded data removed]",
      "text/plain": [
       "<Figure size 432x288 with 2 Axes>"
      ]
     },
     "metadata": {
      "needs_background": "light"
     },
     "output_type": "display_data"
    }
   ],
   "source": [
    "summarize_diagnostics(history1)"
   ]
  },
  {
   "cell_type": "markdown",
   "metadata": {},
   "source": [
    "# 2 < R < 3 m "
   ]
  },
  {
   "cell_type": "code",
   "execution_count": 2,
   "metadata": {},
   "outputs": [
    {
     "name": "stdout",
     "output_type": "stream",
     "text": [
      "6364\n"
     ]
    }
   ],
   "source": [
    "folder = '/mnt/Storage/gvicentini/prova_R/R2/'\n",
    "i = 0\n",
    "for file in os.listdir(folder):\n",
    "    i += 1\n",
    "print(i)"
   ]
  },
  {
   "cell_type": "code",
   "execution_count": 3,
   "metadata": {},
   "outputs": [],
   "source": [
    "R2 = np.empty((6364, 20, 1), dtype=np.float64)\n",
    "labels_R2 = np.zeros(6364)\n",
    "folder = '/mnt/Storage/gvicentini/prova_R/R2/'\n",
    "i = 0\n",
    "for file in os.listdir(folder):\n",
    "    if file.startswith('el'):\n",
    "        labels_R2[i] = 1\n",
    "    array = np.load(folder + file)\n",
    "    array = np.reshape(array, (20,1))\n",
    "    R2[i] = array\n",
    "    i += 1"
   ]
  },
  {
   "cell_type": "code",
   "execution_count": 4,
   "metadata": {},
   "outputs": [],
   "source": [
    "R2 = R2/R2.max()"
   ]
  },
  {
   "cell_type": "code",
   "execution_count": 5,
   "metadata": {},
   "outputs": [],
   "source": [
    "from sklearn.model_selection import train_test_split\n",
    "R2X_train, R2X_test, R2Y_train, R2Y_test = train_test_split(R2 , labels_R2 ,test_size=0.2)"
   ]
  },
  {
   "cell_type": "code",
   "execution_count": 6,
   "metadata": {},
   "outputs": [
    {
     "name": "stderr",
     "output_type": "stream",
     "text": [
      "Using TensorFlow backend.\n"
     ]
    }
   ],
   "source": [
    "from keras.models import Sequential\n",
    "from keras.layers import Dense, Conv1D, Flatten, Dropout, MaxPooling1D\n",
    "\n",
    "model2 = Sequential()\n",
    "model2.add(Conv1D(32, 3, activation='relu', kernel_initializer='he_uniform', padding='same', input_shape=(20, 1)))\n",
    "model2.add(MaxPooling1D(2))\n",
    "model2.add(Dropout(0.2))\n",
    "model2.add(Conv1D(64, 3, activation='relu', kernel_initializer='he_uniform', padding='same'))\n",
    "model2.add(MaxPooling1D(2))\n",
    "model2.add(Dropout(0.2))\n",
    "model2.add(Conv1D(128, 3, activation='relu', kernel_initializer='he_uniform', padding='same'))\n",
    "model2.add(MaxPooling1D(2))\n",
    "model2.add(Dropout(0.2))\n",
    "model2.add(Flatten())\n",
    "model2.add(Dense(128, activation='relu', kernel_initializer='he_uniform'))\n",
    "model2.add(Dropout(0.5))\n",
    "model2.add(Dense(1, activation='sigmoid'))"
   ]
  },
  {
   "cell_type": "code",
   "execution_count": 7,
   "metadata": {},
   "outputs": [],
   "source": [
    "from keras.optimizers import Adam\n",
    "opt = Adam(lr=0.0001)\n",
    "model2.compile(loss='binary_crossentropy', optimizer=opt, metrics=['accuracy'])"
   ]
  },
  {
   "cell_type": "code",
   "execution_count": 9,
   "metadata": {},
   "outputs": [
    {
     "name": "stdout",
     "output_type": "stream",
     "text": [
      "Train on 5091 samples, validate on 1273 samples\n",
      "Epoch 1/20\n",
      "5091/5091 [==============================] - 2s 301us/step - loss: 0.7385 - accuracy: 0.5241 - val_loss: 0.6889 - val_accuracy: 0.5530\n",
      "Epoch 2/20\n",
      "5091/5091 [==============================] - 1s 104us/step - loss: 0.7272 - accuracy: 0.5034 - val_loss: 0.6884 - val_accuracy: 0.5405\n",
      "Epoch 3/20\n",
      "5091/5091 [==============================] - 1s 119us/step - loss: 0.7154 - accuracy: 0.5066 - val_loss: 0.6930 - val_accuracy: 0.5082\n",
      "Epoch 4/20\n",
      "5091/5091 [==============================] - 1s 117us/step - loss: 0.7092 - accuracy: 0.5148 - val_loss: 0.6918 - val_accuracy: 0.5208\n",
      "Epoch 5/20\n",
      "5091/5091 [==============================] - 1s 102us/step - loss: 0.7041 - accuracy: 0.5115 - val_loss: 0.6926 - val_accuracy: 0.5137\n",
      "Epoch 6/20\n",
      "5091/5091 [==============================] - 1s 101us/step - loss: 0.7020 - accuracy: 0.5190 - val_loss: 0.6926 - val_accuracy: 0.5137\n",
      "Epoch 7/20\n",
      "5091/5091 [==============================] - 1s 128us/step - loss: 0.7019 - accuracy: 0.5154 - val_loss: 0.6928 - val_accuracy: 0.5145\n",
      "Epoch 8/20\n",
      "5091/5091 [==============================] - 0s 96us/step - loss: 0.6987 - accuracy: 0.5197 - val_loss: 0.6924 - val_accuracy: 0.5279\n",
      "Epoch 9/20\n",
      "5091/5091 [==============================] - 1s 105us/step - loss: 0.6999 - accuracy: 0.5058 - val_loss: 0.6926 - val_accuracy: 0.5192\n",
      "Epoch 10/20\n",
      "5091/5091 [==============================] - 1s 111us/step - loss: 0.6965 - accuracy: 0.5211 - val_loss: 0.6924 - val_accuracy: 0.5090\n",
      "Epoch 11/20\n",
      "5091/5091 [==============================] - 1s 126us/step - loss: 0.6974 - accuracy: 0.5119 - val_loss: 0.6919 - val_accuracy: 0.5452\n",
      "Epoch 12/20\n",
      "5091/5091 [==============================] - 1s 119us/step - loss: 0.6989 - accuracy: 0.5170 - val_loss: 0.6919 - val_accuracy: 0.5389\n",
      "Epoch 13/20\n",
      "5091/5091 [==============================] - 0s 93us/step - loss: 0.6955 - accuracy: 0.5156 - val_loss: 0.6921 - val_accuracy: 0.5365\n",
      "Epoch 14/20\n",
      "5091/5091 [==============================] - 0s 93us/step - loss: 0.6946 - accuracy: 0.5280 - val_loss: 0.6920 - val_accuracy: 0.5279\n",
      "Epoch 15/20\n",
      "5091/5091 [==============================] - 1s 100us/step - loss: 0.6979 - accuracy: 0.5068 - val_loss: 0.6913 - val_accuracy: 0.5420\n",
      "Epoch 16/20\n",
      "5091/5091 [==============================] - 1s 114us/step - loss: 0.6974 - accuracy: 0.5082 - val_loss: 0.6909 - val_accuracy: 0.5420\n",
      "Epoch 17/20\n",
      "5091/5091 [==============================] - 1s 121us/step - loss: 0.6930 - accuracy: 0.5237 - val_loss: 0.6907 - val_accuracy: 0.5420\n",
      "Epoch 18/20\n",
      "5091/5091 [==============================] - 1s 134us/step - loss: 0.6951 - accuracy: 0.5150 - val_loss: 0.6911 - val_accuracy: 0.5420\n",
      "Epoch 19/20\n",
      "5091/5091 [==============================] - 1s 125us/step - loss: 0.6935 - accuracy: 0.5174 - val_loss: 0.6911 - val_accuracy: 0.5412\n",
      "Epoch 20/20\n",
      "5091/5091 [==============================] - 1s 114us/step - loss: 0.6930 - accuracy: 0.5266 - val_loss: 0.6913 - val_accuracy: 0.5412\n"
     ]
    }
   ],
   "source": [
    "history2 = model2.fit(R2X_train, R2Y_train, batch_size=64, validation_data=(R2X_test, R2Y_test), epochs=20)"
   ]
  },
  {
   "cell_type": "code",
   "execution_count": 12,
   "metadata": {},
   "outputs": [
    {
     "data": {
      "image/png": "[encoded data removed]",
      "text/plain": [
       "<Figure size 432x288 with 2 Axes>"
      ]
     },
     "metadata": {
      "needs_background": "light"
     },
     "output_type": "display_data"
    }
   ],
   "source": [
    "summarize_diagnostics(history2)"
   ]
  },
  {
   "cell_type": "markdown",
   "metadata": {},
   "source": [
    "# 3 < R < 4 m"
   ]
  },
  {
   "cell_type": "code",
   "execution_count": 25,
   "metadata": {},
   "outputs": [
    {
     "name": "stdout",
     "output_type": "stream",
     "text": [
      "12256\n"
     ]
    }
   ],
   "source": [
    "folder = '/mnt/Storage/gvicentini/prova_R/R3/'\n",
    "i = 0\n",
    "for file in os.listdir(folder):\n",
    "    i += 1\n",
    "print(i)"
   ]
  },
  {
   "cell_type": "code",
   "execution_count": 26,
   "metadata": {},
   "outputs": [],
   "source": [
    "R3 = np.empty((12256, 20, 1), dtype=np.float64)\n",
    "labels_R3 = np.zeros(12256)\n",
    "folder = '/mnt/Storage/gvicentini/prova_R/R3/'\n",
    "i = 0\n",
    "for file in os.listdir(folder):\n",
    "    if file.startswith('el'):\n",
    "        labels_R3[i] = 1\n",
    "    array = np.load(folder + file)\n",
    "    array = np.reshape(array, (20,1))\n",
    "    R3[i] = array\n",
    "    i += 1"
   ]
  },
  {
   "cell_type": "code",
   "execution_count": 29,
   "metadata": {},
   "outputs": [],
   "source": [
    "R3 = R3/R3.max()"
   ]
  },
  {
   "cell_type": "code",
   "execution_count": 30,
   "metadata": {},
   "outputs": [],
   "source": [
    "R3X_train, R3X_test, R3Y_train, R3Y_test = train_test_split(R3 , labels_R3 ,test_size=0.2)"
   ]
  },
  {
   "cell_type": "code",
   "execution_count": 31,
   "metadata": {},
   "outputs": [],
   "source": [
    "model3 = Sequential()\n",
    "model3.add(Conv1D(32, 3, activation='relu', kernel_initializer='he_uniform', padding='same', input_shape=(20, 1)))\n",
    "model3.add(MaxPooling1D(2))\n",
    "model3.add(Dropout(0.2))\n",
    "model3.add(Conv1D(64, 3, activation='relu', kernel_initializer='he_uniform', padding='same'))\n",
    "model3.add(MaxPooling1D(2))\n",
    "model3.add(Dropout(0.2))\n",
    "model3.add(Conv1D(128, 3, activation='relu', kernel_initializer='he_uniform', padding='same'))\n",
    "model3.add(MaxPooling1D(2))\n",
    "model3.add(Dropout(0.2))\n",
    "model3.add(Flatten())\n",
    "model3.add(Dense(128, activation='relu', kernel_initializer='he_uniform'))\n",
    "model3.add(Dropout(0.5))\n",
    "model3.add(Dense(1, activation='sigmoid'))"
   ]
  },
  {
   "cell_type": "code",
   "execution_count": 32,
   "metadata": {},
   "outputs": [],
   "source": [
    "model3.compile(loss='binary_crossentropy', optimizer=opt, metrics=['accuracy'])"
   ]
  },
  {
   "cell_type": "code",
   "execution_count": 33,
   "metadata": {},
   "outputs": [
    {
     "name": "stdout",
     "output_type": "stream",
     "text": [
      "Train on 9804 samples, validate on 2452 samples\n",
      "Epoch 1/20\n",
      "9804/9804 [==============================] - 1s 110us/step - loss: 0.7011 - accuracy: 0.4897 - val_loss: 0.6941 - val_accuracy: 0.4943\n",
      "Epoch 2/20\n",
      "9804/9804 [==============================] - 1s 122us/step - loss: 0.6964 - accuracy: 0.5057 - val_loss: 0.6944 - val_accuracy: 0.5049\n",
      "Epoch 3/20\n",
      "9804/9804 [==============================] - 1s 111us/step - loss: 0.6960 - accuracy: 0.5007 - val_loss: 0.6932 - val_accuracy: 0.5131\n",
      "Epoch 4/20\n",
      "9804/9804 [==============================] - 1s 92us/step - loss: 0.6939 - accuracy: 0.5098 - val_loss: 0.6928 - val_accuracy: 0.5106\n",
      "Epoch 5/20\n",
      "9804/9804 [==============================] - 1s 97us/step - loss: 0.6942 - accuracy: 0.5114 - val_loss: 0.6922 - val_accuracy: 0.5086\n",
      "Epoch 6/20\n",
      "9804/9804 [==============================] - 1s 98us/step - loss: 0.6931 - accuracy: 0.5061 - val_loss: 0.6918 - val_accuracy: 0.5069\n",
      "Epoch 7/20\n",
      "9804/9804 [==============================] - 1s 112us/step - loss: 0.6915 - accuracy: 0.5129 - val_loss: 0.6916 - val_accuracy: 0.5086\n",
      "Epoch 8/20\n",
      "9804/9804 [==============================] - 1s 115us/step - loss: 0.6923 - accuracy: 0.5078 - val_loss: 0.6911 - val_accuracy: 0.5122\n",
      "Epoch 9/20\n",
      "9804/9804 [==============================] - 1s 111us/step - loss: 0.6918 - accuracy: 0.5169 - val_loss: 0.6911 - val_accuracy: 0.5110\n",
      "Epoch 10/20\n",
      "9804/9804 [==============================] - 1s 100us/step - loss: 0.6922 - accuracy: 0.5104 - val_loss: 0.6910 - val_accuracy: 0.5077\n",
      "Epoch 11/20\n",
      "9804/9804 [==============================] - 1s 92us/step - loss: 0.6913 - accuracy: 0.5158 - val_loss: 0.6906 - val_accuracy: 0.5090\n",
      "Epoch 12/20\n",
      "9804/9804 [==============================] - 1s 115us/step - loss: 0.6924 - accuracy: 0.4970 - val_loss: 0.6904 - val_accuracy: 0.5114\n",
      "Epoch 13/20\n",
      "9804/9804 [==============================] - 1s 94us/step - loss: 0.6920 - accuracy: 0.5039 - val_loss: 0.6901 - val_accuracy: 0.5106\n",
      "Epoch 14/20\n",
      "9804/9804 [==============================] - 1s 89us/step - loss: 0.6904 - accuracy: 0.5145 - val_loss: 0.6901 - val_accuracy: 0.5090\n",
      "Epoch 15/20\n",
      "9804/9804 [==============================] - 1s 112us/step - loss: 0.6903 - accuracy: 0.5113 - val_loss: 0.6899 - val_accuracy: 0.5086\n",
      "Epoch 16/20\n",
      "9804/9804 [==============================] - 1s 116us/step - loss: 0.6897 - accuracy: 0.5148 - val_loss: 0.6898 - val_accuracy: 0.5098\n",
      "Epoch 17/20\n",
      "9804/9804 [==============================] - 1s 99us/step - loss: 0.6896 - accuracy: 0.5160 - val_loss: 0.6898 - val_accuracy: 0.5106\n",
      "Epoch 18/20\n",
      "9804/9804 [==============================] - 1s 119us/step - loss: 0.6904 - accuracy: 0.5080 - val_loss: 0.6896 - val_accuracy: 0.5082\n",
      "Epoch 19/20\n",
      "9804/9804 [==============================] - 1s 105us/step - loss: 0.6894 - accuracy: 0.5118 - val_loss: 0.6894 - val_accuracy: 0.5110\n",
      "Epoch 20/20\n",
      "9804/9804 [==============================] - 1s 113us/step - loss: 0.6895 - accuracy: 0.5032 - val_loss: 0.6893 - val_accuracy: 0.5077\n"
     ]
    }
   ],
   "source": [
    "history3 = model1.fit(R3X_train, R3Y_train, batch_size=64, validation_data=(R3X_test, R3Y_test), epochs=20)"
   ]
  },
  {
   "cell_type": "code",
   "execution_count": 34,
   "metadata": {},
   "outputs": [
    {
     "data": {
      "image/png": "[encoded data removed]",
      "text/plain": [
       "<Figure size 432x288 with 2 Axes>"
      ]
     },
     "metadata": {
      "needs_background": "light"
     },
     "output_type": "display_data"
    }
   ],
   "source": [
    "summarize_diagnostics(history3)"
   ]
  },
  {
   "cell_type": "markdown",
   "metadata": {},
   "source": [
    "# 4 < R < 5 m"
   ]
  },
  {
   "cell_type": "code",
   "execution_count": 35,
   "metadata": {},
   "outputs": [
    {
     "name": "stdout",
     "output_type": "stream",
     "text": [
      "20210\n"
     ]
    }
   ],
   "source": [
    "folder = '/mnt/Storage/gvicentini/prova_R/R4/'\n",
    "i = 0\n",
    "for file in os.listdir(folder):\n",
    "    i += 1\n",
    "print(i)"
   ]
  },
  {
   "cell_type": "code",
   "execution_count": 36,
   "metadata": {},
   "outputs": [],
   "source": [
    "R4 = np.empty((20210, 20, 1), dtype=np.float64)\n",
    "labels_R4 = np.zeros(20210)\n",
    "folder = '/mnt/Storage/gvicentini/prova_R/R4/'\n",
    "i = 0\n",
    "for file in os.listdir(folder):\n",
    "    if file.startswith('el'):\n",
    "        labels_R4[i] = 1\n",
    "    array = np.load(folder + file)\n",
    "    array = np.reshape(array, (20,1))\n",
    "    R4[i] = array\n",
    "    i += 1"
   ]
  },
  {
   "cell_type": "code",
   "execution_count": 37,
   "metadata": {},
   "outputs": [],
   "source": [
    "R4 = R4/R4.max()"
   ]
  },
  {
   "cell_type": "code",
   "execution_count": 38,
   "metadata": {},
   "outputs": [],
   "source": [
    "R4X_train, R4X_test, R4Y_train, R4Y_test = train_test_split(R4 , labels_R4 ,test_size=0.2)"
   ]
  },
  {
   "cell_type": "code",
   "execution_count": 39,
   "metadata": {},
   "outputs": [],
   "source": [
    "model4 = Sequential()\n",
    "model4.add(Conv1D(32, 3, activation='relu', kernel_initializer='he_uniform', padding='same', input_shape=(20, 1)))\n",
    "model4.add(MaxPooling1D(2))\n",
    "model4.add(Dropout(0.2))\n",
    "model4.add(Conv1D(64, 3, activation='relu', kernel_initializer='he_uniform', padding='same'))\n",
    "model4.add(MaxPooling1D(2))\n",
    "model4.add(Dropout(0.2))\n",
    "model4.add(Conv1D(128, 3, activation='relu', kernel_initializer='he_uniform', padding='same'))\n",
    "model4.add(MaxPooling1D(2))\n",
    "model4.add(Dropout(0.2))\n",
    "model4.add(Flatten())\n",
    "model4.add(Dense(128, activation='relu', kernel_initializer='he_uniform'))\n",
    "model4.add(Dropout(0.5))\n",
    "model4.add(Dense(1, activation='sigmoid'))"
   ]
  },
  {
   "cell_type": "code",
   "execution_count": 40,
   "metadata": {},
   "outputs": [],
   "source": [
    "model4.compile(loss='binary_crossentropy', optimizer=opt, metrics=['accuracy'])"
   ]
  },
  {
   "cell_type": "code",
   "execution_count": 41,
   "metadata": {},
   "outputs": [
    {
     "name": "stdout",
     "output_type": "stream",
     "text": [
      "Train on 16168 samples, validate on 4042 samples\n",
      "Epoch 1/20\n",
      "16168/16168 [==============================] - 1s 93us/step - loss: 0.6879 - accuracy: 0.5181 - val_loss: 0.6878 - val_accuracy: 0.5015\n",
      "Epoch 2/20\n",
      "16168/16168 [==============================] - 1s 89us/step - loss: 0.6871 - accuracy: 0.5218 - val_loss: 0.6876 - val_accuracy: 0.5010\n",
      "Epoch 3/20\n",
      "16168/16168 [==============================] - 2s 98us/step - loss: 0.6871 - accuracy: 0.5158 - val_loss: 0.6868 - val_accuracy: 0.5022\n",
      "Epoch 4/20\n",
      "16168/16168 [==============================] - 2s 114us/step - loss: 0.6865 - accuracy: 0.5217 - val_loss: 0.6860 - val_accuracy: 0.5015\n",
      "Epoch 5/20\n",
      "16168/16168 [==============================] - 2s 108us/step - loss: 0.6865 - accuracy: 0.5143 - val_loss: 0.6855 - val_accuracy: 0.5173\n",
      "Epoch 6/20\n",
      "16168/16168 [==============================] - 2s 108us/step - loss: 0.6866 - accuracy: 0.5228 - val_loss: 0.6850 - val_accuracy: 0.5173\n",
      "Epoch 7/20\n",
      "16168/16168 [==============================] - 2s 115us/step - loss: 0.6861 - accuracy: 0.5196 - val_loss: 0.6844 - val_accuracy: 0.5225\n",
      "Epoch 8/20\n",
      "16168/16168 [==============================] - 2s 109us/step - loss: 0.6853 - accuracy: 0.5203 - val_loss: 0.6839 - val_accuracy: 0.5230\n",
      "Epoch 9/20\n",
      "16168/16168 [==============================] - 2s 111us/step - loss: 0.6849 - accuracy: 0.5250 - val_loss: 0.6851 - val_accuracy: 0.5153\n",
      "Epoch 10/20\n",
      "16168/16168 [==============================] - 2s 100us/step - loss: 0.6854 - accuracy: 0.5182 - val_loss: 0.6834 - val_accuracy: 0.5200\n",
      "Epoch 11/20\n",
      "16168/16168 [==============================] - 2s 110us/step - loss: 0.6848 - accuracy: 0.5200 - val_loss: 0.6826 - val_accuracy: 0.5294\n",
      "Epoch 12/20\n",
      "16168/16168 [==============================] - 2s 113us/step - loss: 0.6842 - accuracy: 0.5141 - val_loss: 0.6829 - val_accuracy: 0.5247\n",
      "Epoch 13/20\n",
      "16168/16168 [==============================] - 2s 95us/step - loss: 0.6840 - accuracy: 0.5209 - val_loss: 0.6817 - val_accuracy: 0.5255\n",
      "Epoch 14/20\n",
      "16168/16168 [==============================] - 2s 111us/step - loss: 0.6839 - accuracy: 0.5191 - val_loss: 0.6813 - val_accuracy: 0.5299\n",
      "Epoch 15/20\n",
      "16168/16168 [==============================] - 2s 106us/step - loss: 0.6841 - accuracy: 0.5207 - val_loss: 0.6811 - val_accuracy: 0.5218\n",
      "Epoch 16/20\n",
      "16168/16168 [==============================] - 2s 121us/step - loss: 0.6829 - accuracy: 0.5163 - val_loss: 0.6808 - val_accuracy: 0.5238\n",
      "Epoch 17/20\n",
      "16168/16168 [==============================] - 2s 107us/step - loss: 0.6830 - accuracy: 0.5205 - val_loss: 0.6803 - val_accuracy: 0.5124\n",
      "Epoch 18/20\n",
      "16168/16168 [==============================] - 2s 106us/step - loss: 0.6837 - accuracy: 0.5192 - val_loss: 0.6801 - val_accuracy: 0.5156\n",
      "Epoch 19/20\n",
      "16168/16168 [==============================] - 2s 107us/step - loss: 0.6833 - accuracy: 0.5179 - val_loss: 0.6801 - val_accuracy: 0.5277\n",
      "Epoch 20/20\n",
      "16168/16168 [==============================] - 2s 105us/step - loss: 0.6826 - accuracy: 0.5230 - val_loss: 0.6797 - val_accuracy: 0.5334\n"
     ]
    }
   ],
   "source": [
    "history4 = model1.fit(R4X_train, R4Y_train, batch_size=64, validation_data=(R4X_test, R4Y_test), epochs=20)"
   ]
  },
  {
   "cell_type": "code",
   "execution_count": 42,
   "metadata": {},
   "outputs": [
    {
     "data": {
      "image/png": "[encoded data removed]",
      "text/plain": [
       "<Figure size 432x288 with 2 Axes>"
      ]
     },
     "metadata": {
      "needs_background": "light"
     },
     "output_type": "display_data"
    }
   ],
   "source": [
    "summarize_diagnostics(history4)"
   ]
  },
  {
   "cell_type": "markdown",
   "metadata": {},
   "source": [
    "# 5 < R < 6 m"
   ]
  },
  {
   "cell_type": "code",
   "execution_count": 13,
   "metadata": {},
   "outputs": [
    {
     "name": "stdout",
     "output_type": "stream",
     "text": [
      "30444\n"
     ]
    }
   ],
   "source": [
    "folder = '/mnt/Storage/gvicentini/prova_R/R5/'\n",
    "i = 0\n",
    "for file in os.listdir(folder):\n",
    "    i += 1\n",
    "print(i)"
   ]
  },
  {
   "cell_type": "code",
   "execution_count": 14,
   "metadata": {},
   "outputs": [],
   "source": [
    "R5 = np.empty((30444, 20, 1), dtype=np.float64)\n",
    "labels_R5 = np.zeros(30444)\n",
    "folder = '/mnt/Storage/gvicentini/prova_R/R5/'\n",
    "i = 0\n",
    "for file in os.listdir(folder):\n",
    "    if file.startswith('el'):\n",
    "        labels_R5[i] = 1\n",
    "    array = np.load(folder + file)\n",
    "    array = np.reshape(array, (20,1))\n",
    "    R5[i] = array\n",
    "    i += 1"
   ]
  },
  {
   "cell_type": "code",
   "execution_count": 15,
   "metadata": {},
   "outputs": [],
   "source": [
    "R5 = R5/R5.max()"
   ]
  },
  {
   "cell_type": "code",
   "execution_count": 16,
   "metadata": {},
   "outputs": [],
   "source": [
    "R5X_train, R5X_test, R5Y_train, R5Y_test = train_test_split(R5 , labels_R5 ,test_size=0.2)"
   ]
  },
  {
   "cell_type": "code",
   "execution_count": 17,
   "metadata": {},
   "outputs": [],
   "source": [
    "model5 = Sequential()\n",
    "model5.add(Conv1D(32, 3, activation='relu', kernel_initializer='he_uniform', padding='same', input_shape=(20, 1)))\n",
    "model5.add(MaxPooling1D(2))\n",
    "model5.add(Dropout(0.2))\n",
    "model5.add(Conv1D(64, 3, activation='relu', kernel_initializer='he_uniform', padding='same'))\n",
    "model5.add(MaxPooling1D(2))\n",
    "model5.add(Dropout(0.2))\n",
    "model5.add(Conv1D(128, 3, activation='relu', kernel_initializer='he_uniform', padding='same'))\n",
    "model5.add(MaxPooling1D(2))\n",
    "model5.add(Dropout(0.2))\n",
    "model5.add(Flatten())\n",
    "model5.add(Dense(128, activation='relu', kernel_initializer='he_uniform'))\n",
    "model5.add(Dropout(0.5))\n",
    "model5.add(Dense(1, activation='sigmoid'))"
   ]
  },
  {
   "cell_type": "code",
   "execution_count": 18,
   "metadata": {},
   "outputs": [],
   "source": [
    "model5.compile(loss='binary_crossentropy', optimizer=opt, metrics=['accuracy'])"
   ]
  },
  {
   "cell_type": "code",
   "execution_count": 20,
   "metadata": {},
   "outputs": [
    {
     "name": "stdout",
     "output_type": "stream",
     "text": [
      "Train on 24355 samples, validate on 6089 samples\n",
      "Epoch 1/20\n",
      "24355/24355 [==============================] - 3s 130us/step - loss: 0.7019 - accuracy: 0.5125 - val_loss: 0.6919 - val_accuracy: 0.5234\n",
      "Epoch 2/20\n",
      "24355/24355 [==============================] - 3s 104us/step - loss: 0.6947 - accuracy: 0.5158 - val_loss: 0.6917 - val_accuracy: 0.5300\n",
      "Epoch 3/20\n",
      "24355/24355 [==============================] - 3s 107us/step - loss: 0.6931 - accuracy: 0.5157 - val_loss: 0.6911 - val_accuracy: 0.5232\n",
      "Epoch 4/20\n",
      "24355/24355 [==============================] - 3s 110us/step - loss: 0.6928 - accuracy: 0.5132 - val_loss: 0.6907 - val_accuracy: 0.5236\n",
      "Epoch 5/20\n",
      "24355/24355 [==============================] - 3s 107us/step - loss: 0.6920 - accuracy: 0.5101 - val_loss: 0.6903 - val_accuracy: 0.5234\n",
      "Epoch 6/20\n",
      "24355/24355 [==============================] - 3s 106us/step - loss: 0.6913 - accuracy: 0.5129 - val_loss: 0.6899 - val_accuracy: 0.5234\n",
      "Epoch 7/20\n",
      "24355/24355 [==============================] - 3s 104us/step - loss: 0.6907 - accuracy: 0.5100 - val_loss: 0.6894 - val_accuracy: 0.5234\n",
      "Epoch 8/20\n",
      "24355/24355 [==============================] - 3s 109us/step - loss: 0.6897 - accuracy: 0.5136 - val_loss: 0.6890 - val_accuracy: 0.5234\n",
      "Epoch 9/20\n",
      "24355/24355 [==============================] - 3s 111us/step - loss: 0.6890 - accuracy: 0.5167 - val_loss: 0.6884 - val_accuracy: 0.5305\n",
      "Epoch 10/20\n",
      "24355/24355 [==============================] - 3s 106us/step - loss: 0.6883 - accuracy: 0.5186 - val_loss: 0.6880 - val_accuracy: 0.5250\n",
      "Epoch 11/20\n",
      "24355/24355 [==============================] - 3s 108us/step - loss: 0.6886 - accuracy: 0.5117 - val_loss: 0.6873 - val_accuracy: 0.5406\n",
      "Epoch 12/20\n",
      "24355/24355 [==============================] - 3s 106us/step - loss: 0.6878 - accuracy: 0.5189 - val_loss: 0.6867 - val_accuracy: 0.5272\n",
      "Epoch 13/20\n",
      "24355/24355 [==============================] - 3s 116us/step - loss: 0.6873 - accuracy: 0.5159 - val_loss: 0.6861 - val_accuracy: 0.5262\n",
      "Epoch 14/20\n",
      "24355/24355 [==============================] - 3s 112us/step - loss: 0.6864 - accuracy: 0.5183 - val_loss: 0.6855 - val_accuracy: 0.5241\n",
      "Epoch 15/20\n",
      "24355/24355 [==============================] - 3s 118us/step - loss: 0.6864 - accuracy: 0.5135 - val_loss: 0.6848 - val_accuracy: 0.5234\n",
      "Epoch 16/20\n",
      "24355/24355 [==============================] - 3s 116us/step - loss: 0.6850 - accuracy: 0.5181 - val_loss: 0.6842 - val_accuracy: 0.5285\n",
      "Epoch 17/20\n",
      "24355/24355 [==============================] - 3s 116us/step - loss: 0.6852 - accuracy: 0.5172 - val_loss: 0.6839 - val_accuracy: 0.5464\n",
      "Epoch 18/20\n",
      "24355/24355 [==============================] - 3s 108us/step - loss: 0.6843 - accuracy: 0.5193 - val_loss: 0.6832 - val_accuracy: 0.5375\n",
      "Epoch 19/20\n",
      "24355/24355 [==============================] - 3s 104us/step - loss: 0.6843 - accuracy: 0.5172 - val_loss: 0.6826 - val_accuracy: 0.5244\n",
      "Epoch 20/20\n",
      "24355/24355 [==============================] - 3s 118us/step - loss: 0.6837 - accuracy: 0.5187 - val_loss: 0.6818 - val_accuracy: 0.5259\n"
     ]
    }
   ],
   "source": [
    "history5 = model5.fit(R5X_train, R5Y_train, batch_size=64, validation_data=(R5X_test, R5Y_test), epochs=20)"
   ]
  },
  {
   "cell_type": "code",
   "execution_count": 21,
   "metadata": {},
   "outputs": [
    {
     "data": {
      "image/png": "[encoded data removed]",
      "text/plain": [
       "<Figure size 432x288 with 2 Axes>"
      ]
     },
     "metadata": {
      "needs_background": "light"
     },
     "output_type": "display_data"
    }
   ],
   "source": [
    "summarize_diagnostics(history5)"
   ]
  },
  {
   "cell_type": "markdown",
   "metadata": {},
   "source": [
    "# 6 < R < 7 m"
   ]
  },
  {
   "cell_type": "code",
   "execution_count": 22,
   "metadata": {},
   "outputs": [
    {
     "name": "stdout",
     "output_type": "stream",
     "text": [
      "42613\n"
     ]
    }
   ],
   "source": [
    "folder = '/mnt/Storage/gvicentini/prova_R/R6/'\n",
    "i = 0\n",
    "for file in os.listdir(folder):\n",
    "    i += 1\n",
    "print(i)"
   ]
  },
  {
   "cell_type": "code",
   "execution_count": 23,
   "metadata": {},
   "outputs": [],
   "source": [
    "R6 = np.empty((42613, 20, 1), dtype=np.float64)\n",
    "labels_R6 = np.zeros(42613)\n",
    "folder = '/mnt/Storage/gvicentini/prova_R/R6/'\n",
    "i = 0\n",
    "for file in os.listdir(folder):\n",
    "    if file.startswith('el'):\n",
    "        labels_R6[i] = 1\n",
    "    array = np.load(folder + file)\n",
    "    array = np.reshape(array, (20,1))\n",
    "    R6[i] = array\n",
    "    i += 1"
   ]
  },
  {
   "cell_type": "code",
   "execution_count": 24,
   "metadata": {},
   "outputs": [],
   "source": [
    "R6 = R6/R6.max()"
   ]
  },
  {
   "cell_type": "code",
   "execution_count": 25,
   "metadata": {},
   "outputs": [],
   "source": [
    "R6X_train, R6X_test, R6Y_train, R6Y_test = train_test_split(R6 , labels_R6 ,test_size=0.2)"
   ]
  },
  {
   "cell_type": "code",
   "execution_count": 26,
   "metadata": {},
   "outputs": [],
   "source": [
    "model6 = Sequential()\n",
    "model6.add(Conv1D(32, 3, activation='relu', kernel_initializer='he_uniform', padding='same', input_shape=(20, 1)))\n",
    "model6.add(MaxPooling1D(2))\n",
    "model6.add(Dropout(0.2))\n",
    "model6.add(Conv1D(64, 3, activation='relu', kernel_initializer='he_uniform', padding='same'))\n",
    "model6.add(MaxPooling1D(2))\n",
    "model6.add(Dropout(0.2))\n",
    "model6.add(Conv1D(128, 3, activation='relu', kernel_initializer='he_uniform', padding='same'))\n",
    "model6.add(MaxPooling1D(2))\n",
    "model6.add(Dropout(0.2))\n",
    "model6.add(Flatten())\n",
    "model6.add(Dense(128, activation='relu', kernel_initializer='he_uniform'))\n",
    "model6.add(Dropout(0.5))\n",
    "model6.add(Dense(1, activation='sigmoid'))"
   ]
  },
  {
   "cell_type": "code",
   "execution_count": 27,
   "metadata": {},
   "outputs": [],
   "source": [
    "model6.compile(loss='binary_crossentropy', optimizer=opt, metrics=['accuracy'])"
   ]
  },
  {
   "cell_type": "code",
   "execution_count": 28,
   "metadata": {},
   "outputs": [
    {
     "name": "stdout",
     "output_type": "stream",
     "text": [
      "Train on 34090 samples, validate on 8523 samples\n",
      "Epoch 1/20\n",
      "34090/34090 [==============================] - 4s 127us/step - loss: 0.7051 - accuracy: 0.5072 - val_loss: 0.6925 - val_accuracy: 0.5193\n",
      "Epoch 2/20\n",
      "34090/34090 [==============================] - 4s 104us/step - loss: 0.6954 - accuracy: 0.5051 - val_loss: 0.6925 - val_accuracy: 0.5177\n",
      "Epoch 3/20\n",
      "34090/34090 [==============================] - 4s 110us/step - loss: 0.6944 - accuracy: 0.5092 - val_loss: 0.6924 - val_accuracy: 0.5150\n",
      "Epoch 4/20\n",
      "34090/34090 [==============================] - 3s 102us/step - loss: 0.6927 - accuracy: 0.5177 - val_loss: 0.6912 - val_accuracy: 0.5181\n",
      "Epoch 5/20\n",
      "34090/34090 [==============================] - 4s 110us/step - loss: 0.6920 - accuracy: 0.5084 - val_loss: 0.6903 - val_accuracy: 0.5181\n",
      "Epoch 6/20\n",
      "34090/34090 [==============================] - 4s 108us/step - loss: 0.6902 - accuracy: 0.5147 - val_loss: 0.6894 - val_accuracy: 0.5181\n",
      "Epoch 7/20\n",
      "34090/34090 [==============================] - 4s 107us/step - loss: 0.6895 - accuracy: 0.5121 - val_loss: 0.6884 - val_accuracy: 0.5181\n",
      "Epoch 8/20\n",
      "34090/34090 [==============================] - 3s 101us/step - loss: 0.6881 - accuracy: 0.5110 - val_loss: 0.6877 - val_accuracy: 0.5181\n",
      "Epoch 9/20\n",
      "34090/34090 [==============================] - 3s 93us/step - loss: 0.6876 - accuracy: 0.5075 - val_loss: 0.6868 - val_accuracy: 0.5181\n",
      "Epoch 10/20\n",
      "34090/34090 [==============================] - 4s 106us/step - loss: 0.6861 - accuracy: 0.5124 - val_loss: 0.6860 - val_accuracy: 0.5184\n",
      "Epoch 11/20\n",
      "34090/34090 [==============================] - 3s 93us/step - loss: 0.6854 - accuracy: 0.5113 - val_loss: 0.6848 - val_accuracy: 0.5181\n",
      "Epoch 12/20\n",
      "34090/34090 [==============================] - 4s 110us/step - loss: 0.6847 - accuracy: 0.5101 - val_loss: 0.6842 - val_accuracy: 0.5181\n",
      "Epoch 13/20\n",
      "34090/34090 [==============================] - 4s 110us/step - loss: 0.6837 - accuracy: 0.5102 - val_loss: 0.6832 - val_accuracy: 0.5181\n",
      "Epoch 14/20\n",
      "34090/34090 [==============================] - 4s 106us/step - loss: 0.6828 - accuracy: 0.5124 - val_loss: 0.6825 - val_accuracy: 0.5181\n",
      "Epoch 15/20\n",
      "34090/34090 [==============================] - 4s 111us/step - loss: 0.6824 - accuracy: 0.5104 - val_loss: 0.6820 - val_accuracy: 0.5181\n",
      "Epoch 16/20\n",
      "34090/34090 [==============================] - 4s 112us/step - loss: 0.6819 - accuracy: 0.5127 - val_loss: 0.6815 - val_accuracy: 0.5181\n",
      "Epoch 17/20\n",
      "34090/34090 [==============================] - 4s 112us/step - loss: 0.6814 - accuracy: 0.5097 - val_loss: 0.6814 - val_accuracy: 0.5181\n",
      "Epoch 18/20\n",
      "34090/34090 [==============================] - 4s 108us/step - loss: 0.6805 - accuracy: 0.5139 - val_loss: 0.6809 - val_accuracy: 0.5181\n",
      "Epoch 19/20\n",
      "34090/34090 [==============================] - 4s 116us/step - loss: 0.6808 - accuracy: 0.5122 - val_loss: 0.6807 - val_accuracy: 0.5290\n",
      "Epoch 20/20\n",
      "34090/34090 [==============================] - 4s 105us/step - loss: 0.6802 - accuracy: 0.5106 - val_loss: 0.6809 - val_accuracy: 0.5263\n"
     ]
    }
   ],
   "source": [
    "history6 = model6.fit(R6X_train, R6Y_train, batch_size=64, validation_data=(R6X_test, R6Y_test), epochs=20)"
   ]
  },
  {
   "cell_type": "code",
   "execution_count": 29,
   "metadata": {},
   "outputs": [
    {
     "data": {
      "image/png": "[encoded data removed]",
      "text/plain": [
       "<Figure size 432x288 with 2 Axes>"
      ]
     },
     "metadata": {
      "needs_background": "light"
     },
     "output_type": "display_data"
    }
   ],
   "source": [
    "summarize_diagnostics(history6)"
   ]
  },
  {
   "cell_type": "markdown",
   "metadata": {},
   "source": [
    "# 7 < R < 8 m"
   ]
  },
  {
   "cell_type": "code",
   "execution_count": 30,
   "metadata": {},
   "outputs": [
    {
     "name": "stdout",
     "output_type": "stream",
     "text": [
      "56603\n"
     ]
    }
   ],
   "source": [
    "folder = '/mnt/Storage/gvicentini/prova_R/R7/'\n",
    "i = 0\n",
    "for file in os.listdir(folder):\n",
    "    i += 1\n",
    "print(i)"
   ]
  },
  {
   "cell_type": "code",
   "execution_count": 31,
   "metadata": {},
   "outputs": [],
   "source": [
    "R7 = np.empty((56603, 20, 1), dtype=np.float64)\n",
    "labels_R7 = np.zeros(56603)\n",
    "folder = '/mnt/Storage/gvicentini/prova_R/R7/'\n",
    "i = 0\n",
    "for file in os.listdir(folder):\n",
    "    if file.startswith('el'):\n",
    "        labels_R7[i] = 1\n",
    "    array = np.load(folder + file)\n",
    "    array = np.reshape(array, (20,1))\n",
    "    R7[i] = array\n",
    "    i += 1"
   ]
  },
  {
   "cell_type": "code",
   "execution_count": 32,
   "metadata": {},
   "outputs": [],
   "source": [
    "R7 = R7/R7.max()"
   ]
  },
  {
   "cell_type": "code",
   "execution_count": 33,
   "metadata": {},
   "outputs": [],
   "source": [
    "R7X_train, R7X_test, R7Y_train, R7Y_test = train_test_split(R7 , labels_R7 ,test_size=0.2)"
   ]
  },
  {
   "cell_type": "code",
   "execution_count": 34,
   "metadata": {},
   "outputs": [],
   "source": [
    "model7 = Sequential()\n",
    "model7.add(Conv1D(32, 3, activation='relu', kernel_initializer='he_uniform', padding='same', input_shape=(20, 1)))\n",
    "model7.add(MaxPooling1D(2))\n",
    "model7.add(Dropout(0.2))\n",
    "model7.add(Conv1D(64, 3, activation='relu', kernel_initializer='he_uniform', padding='same'))\n",
    "model7.add(MaxPooling1D(2))\n",
    "model7.add(Dropout(0.2))\n",
    "model7.add(Conv1D(128, 3, activation='relu', kernel_initializer='he_uniform', padding='same'))\n",
    "model7.add(MaxPooling1D(2))\n",
    "model7.add(Dropout(0.2))\n",
    "model7.add(Flatten())\n",
    "model7.add(Dense(128, activation='relu', kernel_initializer='he_uniform'))\n",
    "model7.add(Dropout(0.5))\n",
    "model7.add(Dense(1, activation='sigmoid'))"
   ]
  },
  {
   "cell_type": "code",
   "execution_count": 35,
   "metadata": {},
   "outputs": [],
   "source": [
    "model7.compile(loss='binary_crossentropy', optimizer=opt, metrics=['accuracy'])"
   ]
  },
  {
   "cell_type": "code",
   "execution_count": 36,
   "metadata": {},
   "outputs": [
    {
     "name": "stdout",
     "output_type": "stream",
     "text": [
      "Train on 45282 samples, validate on 11321 samples\n",
      "Epoch 1/20\n",
      "45282/45282 [==============================] - 7s 162us/step - loss: 0.7035 - accuracy: 0.5110 - val_loss: 0.6925 - val_accuracy: 0.5248\n",
      "Epoch 2/20\n",
      "45282/45282 [==============================] - 5s 107us/step - loss: 0.6949 - accuracy: 0.5094 - val_loss: 0.6925 - val_accuracy: 0.5041\n",
      "Epoch 3/20\n",
      "45282/45282 [==============================] - 5s 110us/step - loss: 0.6934 - accuracy: 0.5112 - val_loss: 0.6909 - val_accuracy: 0.5091\n",
      "Epoch 4/20\n",
      "45282/45282 [==============================] - 5s 114us/step - loss: 0.6918 - accuracy: 0.5076 - val_loss: 0.6894 - val_accuracy: 0.5112\n",
      "Epoch 5/20\n",
      "45282/45282 [==============================] - 5s 110us/step - loss: 0.6898 - accuracy: 0.5083 - val_loss: 0.6879 - val_accuracy: 0.5054\n",
      "Epoch 6/20\n",
      "45282/45282 [==============================] - 5s 104us/step - loss: 0.6888 - accuracy: 0.5073 - val_loss: 0.6866 - val_accuracy: 0.5093\n",
      "Epoch 7/20\n",
      "45282/45282 [==============================] - 5s 118us/step - loss: 0.6871 - accuracy: 0.5077 - val_loss: 0.6851 - val_accuracy: 0.5136\n",
      "Epoch 8/20\n",
      "45282/45282 [==============================] - 5s 112us/step - loss: 0.6857 - accuracy: 0.5083 - val_loss: 0.6837 - val_accuracy: 0.5136\n",
      "Epoch 9/20\n",
      "45282/45282 [==============================] - 5s 108us/step - loss: 0.6842 - accuracy: 0.5116 - val_loss: 0.6823 - val_accuracy: 0.5136\n",
      "Epoch 10/20\n",
      "45282/45282 [==============================] - 5s 106us/step - loss: 0.6835 - accuracy: 0.5160 - val_loss: 0.6814 - val_accuracy: 0.5137\n",
      "Epoch 11/20\n",
      "45282/45282 [==============================] - 5s 105us/step - loss: 0.6830 - accuracy: 0.5137 - val_loss: 0.6806 - val_accuracy: 0.5304\n",
      "Epoch 12/20\n",
      "45282/45282 [==============================] - 5s 111us/step - loss: 0.6823 - accuracy: 0.5119 - val_loss: 0.6801 - val_accuracy: 0.5158\n",
      "Epoch 13/20\n",
      "45282/45282 [==============================] - 5s 112us/step - loss: 0.6819 - accuracy: 0.5142 - val_loss: 0.6797 - val_accuracy: 0.5199\n",
      "Epoch 14/20\n",
      "45282/45282 [==============================] - 5s 107us/step - loss: 0.6816 - accuracy: 0.5198 - val_loss: 0.6793 - val_accuracy: 0.5166\n",
      "Epoch 15/20\n",
      "45282/45282 [==============================] - 5s 106us/step - loss: 0.6816 - accuracy: 0.5120 - val_loss: 0.6792 - val_accuracy: 0.5353\n",
      "Epoch 16/20\n",
      "45282/45282 [==============================] - 5s 106us/step - loss: 0.6811 - accuracy: 0.5172 - val_loss: 0.6791 - val_accuracy: 0.5256\n",
      "Epoch 17/20\n",
      "45282/45282 [==============================] - 5s 106us/step - loss: 0.6808 - accuracy: 0.5128 - val_loss: 0.6804 - val_accuracy: 0.5116\n",
      "Epoch 18/20\n",
      "45282/45282 [==============================] - 5s 115us/step - loss: 0.6805 - accuracy: 0.5178 - val_loss: 0.6795 - val_accuracy: 0.5452\n",
      "Epoch 19/20\n",
      "45282/45282 [==============================] - 4s 96us/step - loss: 0.6808 - accuracy: 0.5134 - val_loss: 0.6787 - val_accuracy: 0.5303\n",
      "Epoch 20/20\n",
      "45282/45282 [==============================] - 4s 99us/step - loss: 0.6799 - accuracy: 0.5173 - val_loss: 0.6793 - val_accuracy: 0.5318\n"
     ]
    }
   ],
   "source": [
    "history7 = model7.fit(R7X_train, R7Y_train, batch_size=64, validation_data=(R7X_test, R7Y_test), epochs=20)"
   ]
  },
  {
   "cell_type": "code",
   "execution_count": 37,
   "metadata": {},
   "outputs": [
    {
     "data": {
      "image/png": "[encoded data removed]",
      "text/plain": [
       "<Figure size 432x288 with 2 Axes>"
      ]
     },
     "metadata": {
      "needs_background": "light"
     },
     "output_type": "display_data"
    }
   ],
   "source": [
    "summarize_diagnostics(history7)"
   ]
  },
  {
   "cell_type": "markdown",
   "metadata": {},
   "source": [
    "# 8 < R < 9 m"
   ]
  },
  {
   "cell_type": "code",
   "execution_count": 38,
   "metadata": {},
   "outputs": [
    {
     "name": "stdout",
     "output_type": "stream",
     "text": [
      "72353\n"
     ]
    }
   ],
   "source": [
    "folder = '/mnt/Storage/gvicentini/prova_R/R8/'\n",
    "i = 0\n",
    "for file in os.listdir(folder):\n",
    "    i += 1\n",
    "print(i)"
   ]
  },
  {
   "cell_type": "code",
   "execution_count": 40,
   "metadata": {},
   "outputs": [],
   "source": [
    "R8 = np.empty((72353, 20, 1), dtype=np.float64)\n",
    "labels_R8 = np.zeros(72353)\n",
    "folder = '/mnt/Storage/gvicentini/prova_R/R8/'\n",
    "i = 0\n",
    "for file in os.listdir(folder):\n",
    "    if file.startswith('el'):\n",
    "        labels_R8[i] = 1\n",
    "    array = np.load(folder + file)\n",
    "    array = np.reshape(array, (20,1))\n",
    "    R8[i] = array\n",
    "    i += 1"
   ]
  },
  {
   "cell_type": "code",
   "execution_count": 41,
   "metadata": {},
   "outputs": [],
   "source": [
    "R8 = R8/R8.max()"
   ]
  },
  {
   "cell_type": "code",
   "execution_count": 42,
   "metadata": {},
   "outputs": [],
   "source": [
    "R8X_train, R8X_test, R8Y_train, R8Y_test = train_test_split(R8 , labels_R8 ,test_size=0.2)"
   ]
  },
  {
   "cell_type": "code",
   "execution_count": 43,
   "metadata": {},
   "outputs": [],
   "source": [
    "model8 = Sequential()\n",
    "model8.add(Conv1D(32, 3, activation='relu', kernel_initializer='he_uniform', padding='same', input_shape=(20, 1)))\n",
    "model8.add(MaxPooling1D(2))\n",
    "model8.add(Dropout(0.2))\n",
    "model8.add(Conv1D(64, 3, activation='relu', kernel_initializer='he_uniform', padding='same'))\n",
    "model8.add(MaxPooling1D(2))\n",
    "model8.add(Dropout(0.2))\n",
    "model8.add(Conv1D(128, 3, activation='relu', kernel_initializer='he_uniform', padding='same'))\n",
    "model8.add(MaxPooling1D(2))\n",
    "model8.add(Dropout(0.2))\n",
    "model8.add(Flatten())\n",
    "model8.add(Dense(128, activation='relu', kernel_initializer='he_uniform'))\n",
    "model8.add(Dropout(0.5))\n",
    "model8.add(Dense(1, activation='sigmoid'))"
   ]
  },
  {
   "cell_type": "code",
   "execution_count": 44,
   "metadata": {},
   "outputs": [],
   "source": [
    "model8.compile(loss='binary_crossentropy', optimizer=opt, metrics=['accuracy'])"
   ]
  },
  {
   "cell_type": "code",
   "execution_count": 45,
   "metadata": {},
   "outputs": [
    {
     "name": "stdout",
     "output_type": "stream",
     "text": [
      "Train on 57882 samples, validate on 14471 samples\n",
      "Epoch 1/20\n",
      "57882/57882 [==============================] - 9s 153us/step - loss: 0.7011 - accuracy: 0.5094 - val_loss: 0.6925 - val_accuracy: 0.5183\n",
      "Epoch 2/20\n",
      "57882/57882 [==============================] - 7s 116us/step - loss: 0.6935 - accuracy: 0.5178 - val_loss: 0.6912 - val_accuracy: 0.5183\n",
      "Epoch 3/20\n",
      "57882/57882 [==============================] - 6s 105us/step - loss: 0.6908 - accuracy: 0.5143 - val_loss: 0.6882 - val_accuracy: 0.5183\n",
      "Epoch 4/20\n",
      "57882/57882 [==============================] - 6s 110us/step - loss: 0.6876 - accuracy: 0.5164 - val_loss: 0.6859 - val_accuracy: 0.5183\n",
      "Epoch 5/20\n",
      "57882/57882 [==============================] - 6s 111us/step - loss: 0.6862 - accuracy: 0.5146 - val_loss: 0.6845 - val_accuracy: 0.5183\n",
      "Epoch 6/20\n",
      "57882/57882 [==============================] - 6s 104us/step - loss: 0.6849 - accuracy: 0.5155 - val_loss: 0.6827 - val_accuracy: 0.5183\n",
      "Epoch 7/20\n",
      "57882/57882 [==============================] - 6s 107us/step - loss: 0.6836 - accuracy: 0.5162 - val_loss: 0.6824 - val_accuracy: 0.5183\n",
      "Epoch 8/20\n",
      "57882/57882 [==============================] - 7s 118us/step - loss: 0.6824 - accuracy: 0.5185 - val_loss: 0.6806 - val_accuracy: 0.5183\n",
      "Epoch 9/20\n",
      "57882/57882 [==============================] - 6s 112us/step - loss: 0.6815 - accuracy: 0.5173 - val_loss: 0.6797 - val_accuracy: 0.5183\n",
      "Epoch 10/20\n",
      "57882/57882 [==============================] - 6s 111us/step - loss: 0.6812 - accuracy: 0.5170 - val_loss: 0.6795 - val_accuracy: 0.5183\n",
      "Epoch 11/20\n",
      "57882/57882 [==============================] - 6s 112us/step - loss: 0.6810 - accuracy: 0.5140 - val_loss: 0.6790 - val_accuracy: 0.5183\n",
      "Epoch 12/20\n",
      "57882/57882 [==============================] - 6s 105us/step - loss: 0.6802 - accuracy: 0.5185 - val_loss: 0.6786 - val_accuracy: 0.5183\n",
      "Epoch 13/20\n",
      "57882/57882 [==============================] - 6s 108us/step - loss: 0.6802 - accuracy: 0.5170 - val_loss: 0.6784 - val_accuracy: 0.5183\n",
      "Epoch 14/20\n",
      "57882/57882 [==============================] - 6s 108us/step - loss: 0.6800 - accuracy: 0.5192 - val_loss: 0.6782 - val_accuracy: 0.5183\n",
      "Epoch 15/20\n",
      "57882/57882 [==============================] - 7s 115us/step - loss: 0.6797 - accuracy: 0.5190 - val_loss: 0.6788 - val_accuracy: 0.5183\n",
      "Epoch 16/20\n",
      "57882/57882 [==============================] - 7s 113us/step - loss: 0.6800 - accuracy: 0.5170 - val_loss: 0.6779 - val_accuracy: 0.5183\n",
      "Epoch 17/20\n",
      "57882/57882 [==============================] - 6s 108us/step - loss: 0.6798 - accuracy: 0.5178 - val_loss: 0.6777 - val_accuracy: 0.5183\n",
      "Epoch 18/20\n",
      "57882/57882 [==============================] - 6s 105us/step - loss: 0.6794 - accuracy: 0.5189 - val_loss: 0.6784 - val_accuracy: 0.5183\n",
      "Epoch 19/20\n",
      "57882/57882 [==============================] - 6s 112us/step - loss: 0.6796 - accuracy: 0.5172 - val_loss: 0.6789 - val_accuracy: 0.5183\n",
      "Epoch 20/20\n",
      "57882/57882 [==============================] - 6s 112us/step - loss: 0.6792 - accuracy: 0.5186 - val_loss: 0.6777 - val_accuracy: 0.5183\n"
     ]
    }
   ],
   "source": [
    "history8 = model8.fit(R8X_train, R8Y_train, batch_size=64, validation_data=(R8X_test, R8Y_test), epochs=20)"
   ]
  },
  {
   "cell_type": "code",
   "execution_count": 46,
   "metadata": {},
   "outputs": [
    {
     "data": {
      "image/png": "[encoded data removed]",
      "text/plain": [
       "<Figure size 432x288 with 2 Axes>"
      ]
     },
     "metadata": {
      "needs_background": "light"
     },
     "output_type": "display_data"
    }
   ],
   "source": [
    "summarize_diagnostics(history8)"
   ]
  },
  {
   "cell_type": "markdown",
   "metadata": {},
   "source": [
    "# 9 < R < 10 m"
   ]
  },
  {
   "cell_type": "code",
   "execution_count": 47,
   "metadata": {},
   "outputs": [
    {
     "name": "stdout",
     "output_type": "stream",
     "text": [
      "90690\n"
     ]
    }
   ],
   "source": [
    "folder = '/mnt/Storage/gvicentini/prova_R/R9/'\n",
    "i = 0\n",
    "for file in os.listdir(folder):\n",
    "    i += 1\n",
    "print(i)"
   ]
  },
  {
   "cell_type": "code",
   "execution_count": 48,
   "metadata": {},
   "outputs": [],
   "source": [
    "R9 = np.empty((90690, 20, 1), dtype=np.float64)\n",
    "labels_R9 = np.zeros(90690)\n",
    "folder = '/mnt/Storage/gvicentini/prova_R/R9/'\n",
    "i = 0\n",
    "for file in os.listdir(folder):\n",
    "    if file.startswith('el'):\n",
    "        labels_R9[i] = 1\n",
    "    array = np.load(folder + file)\n",
    "    array = np.reshape(array, (20,1))\n",
    "    R9[i] = array\n",
    "    i += 1"
   ]
  },
  {
   "cell_type": "code",
   "execution_count": 49,
   "metadata": {},
   "outputs": [],
   "source": [
    "R9 = R9/R9.max()"
   ]
  },
  {
   "cell_type": "code",
   "execution_count": 50,
   "metadata": {},
   "outputs": [],
   "source": [
    "R9X_train, R9X_test, R9Y_train, R9Y_test = train_test_split(R9 , labels_R9 ,test_size=0.2)"
   ]
  },
  {
   "cell_type": "code",
   "execution_count": 51,
   "metadata": {},
   "outputs": [],
   "source": [
    "model9 = Sequential()\n",
    "model9.add(Conv1D(32, 3, activation='relu', kernel_initializer='he_uniform', padding='same', input_shape=(20, 1)))\n",
    "model9.add(MaxPooling1D(2))\n",
    "model9.add(Dropout(0.2))\n",
    "model9.add(Conv1D(64, 3, activation='relu', kernel_initializer='he_uniform', padding='same'))\n",
    "model9.add(MaxPooling1D(2))\n",
    "model9.add(Dropout(0.2))\n",
    "model9.add(Conv1D(128, 3, activation='relu', kernel_initializer='he_uniform', padding='same'))\n",
    "model9.add(MaxPooling1D(2))\n",
    "model9.add(Dropout(0.2))\n",
    "model9.add(Flatten())\n",
    "model9.add(Dense(128, activation='relu', kernel_initializer='he_uniform'))\n",
    "model9.add(Dropout(0.5))\n",
    "model9.add(Dense(1, activation='sigmoid'))"
   ]
  },
  {
   "cell_type": "code",
   "execution_count": 52,
   "metadata": {},
   "outputs": [],
   "source": [
    "model9.compile(loss='binary_crossentropy', optimizer=opt, metrics=['accuracy'])"
   ]
  },
  {
   "cell_type": "code",
   "execution_count": 53,
   "metadata": {},
   "outputs": [
    {
     "name": "stdout",
     "output_type": "stream",
     "text": [
      "Train on 72552 samples, validate on 18138 samples\n",
      "Epoch 1/20\n",
      "72552/72552 [==============================] - 10s 140us/step - loss: 0.6991 - accuracy: 0.5125 - val_loss: 0.6927 - val_accuracy: 0.5154\n",
      "Epoch 2/20\n",
      "72552/72552 [==============================] - 8s 114us/step - loss: 0.6926 - accuracy: 0.5154 - val_loss: 0.6884 - val_accuracy: 0.5153\n",
      "Epoch 3/20\n",
      "72552/72552 [==============================] - 8s 109us/step - loss: 0.6878 - accuracy: 0.5081 - val_loss: 0.6847 - val_accuracy: 0.5154\n",
      "Epoch 4/20\n",
      "72552/72552 [==============================] - 8s 111us/step - loss: 0.6846 - accuracy: 0.5140 - val_loss: 0.6823 - val_accuracy: 0.5154\n",
      "Epoch 5/20\n",
      "72552/72552 [==============================] - 8s 110us/step - loss: 0.6827 - accuracy: 0.5121 - val_loss: 0.6811 - val_accuracy: 0.5154\n",
      "Epoch 6/20\n",
      "72552/72552 [==============================] - 8s 113us/step - loss: 0.6818 - accuracy: 0.5152 - val_loss: 0.6805 - val_accuracy: 0.5154\n",
      "Epoch 7/20\n",
      "72552/72552 [==============================] - 8s 104us/step - loss: 0.6811 - accuracy: 0.5167 - val_loss: 0.6797 - val_accuracy: 0.5110\n",
      "Epoch 8/20\n",
      "72552/72552 [==============================] - 7s 95us/step - loss: 0.6804 - accuracy: 0.5115 - val_loss: 0.6794 - val_accuracy: 0.5084\n",
      "Epoch 9/20\n",
      "72552/72552 [==============================] - 8s 108us/step - loss: 0.6801 - accuracy: 0.5143 - val_loss: 0.6791 - val_accuracy: 0.5230\n",
      "Epoch 10/20\n",
      "72552/72552 [==============================] - 8s 109us/step - loss: 0.6800 - accuracy: 0.5151 - val_loss: 0.6790 - val_accuracy: 0.5201\n",
      "Epoch 11/20\n",
      "72552/72552 [==============================] - 8s 114us/step - loss: 0.6798 - accuracy: 0.5166 - val_loss: 0.6791 - val_accuracy: 0.5083\n",
      "Epoch 12/20\n",
      "72552/72552 [==============================] - 8s 110us/step - loss: 0.6796 - accuracy: 0.5153 - val_loss: 0.6794 - val_accuracy: 0.5250\n",
      "Epoch 13/20\n",
      "72552/72552 [==============================] - 8s 117us/step - loss: 0.6792 - accuracy: 0.5176 - val_loss: 0.6788 - val_accuracy: 0.5221\n",
      "Epoch 14/20\n",
      "72552/72552 [==============================] - 9s 119us/step - loss: 0.6793 - accuracy: 0.5138 - val_loss: 0.6786 - val_accuracy: 0.5211\n",
      "Epoch 15/20\n",
      "72552/72552 [==============================] - 8s 115us/step - loss: 0.6791 - accuracy: 0.5154 - val_loss: 0.6789 - val_accuracy: 0.5239\n",
      "Epoch 16/20\n",
      "72552/72552 [==============================] - 8s 104us/step - loss: 0.6794 - accuracy: 0.5154 - val_loss: 0.6789 - val_accuracy: 0.5220\n",
      "Epoch 17/20\n",
      "72552/72552 [==============================] - 7s 103us/step - loss: 0.6790 - accuracy: 0.5153 - val_loss: 0.6788 - val_accuracy: 0.5082\n",
      "Epoch 18/20\n",
      "72552/72552 [==============================] - 8s 115us/step - loss: 0.6787 - accuracy: 0.5157 - val_loss: 0.6790 - val_accuracy: 0.5082\n",
      "Epoch 19/20\n",
      "72552/72552 [==============================] - 7s 101us/step - loss: 0.6788 - accuracy: 0.5186 - val_loss: 0.6785 - val_accuracy: 0.5271\n",
      "Epoch 20/20\n",
      "72552/72552 [==============================] - 7s 101us/step - loss: 0.6788 - accuracy: 0.5155 - val_loss: 0.6787 - val_accuracy: 0.5201\n"
     ]
    }
   ],
   "source": [
    "history9 = model9.fit(R9X_train, R9Y_train, batch_size=64, validation_data=(R9X_test, R9Y_test), epochs=20)"
   ]
  },
  {
   "cell_type": "code",
   "execution_count": 54,
   "metadata": {},
   "outputs": [
    {
     "data": {
      "image/png": "[encoded data removed]",
      "text/plain": [
       "<Figure size 432x288 with 2 Axes>"
      ]
     },
     "metadata": {
      "needs_background": "light"
     },
     "output_type": "display_data"
    }
   ],
   "source": [
    "summarize_diagnostics(history9)"
   ]
  },
  {
   "cell_type": "markdown",
   "metadata": {},
   "source": [
    "# 10 < R < 11 m"
   ]
  },
  {
   "cell_type": "code",
   "execution_count": 55,
   "metadata": {},
   "outputs": [
    {
     "name": "stdout",
     "output_type": "stream",
     "text": [
      "110591\n"
     ]
    }
   ],
   "source": [
    "folder = '/mnt/Storage/gvicentini/prova_R/R10/'\n",
    "i = 0\n",
    "for file in os.listdir(folder):\n",
    "    i += 1\n",
    "print(i)"
   ]
  },
  {
   "cell_type": "code",
   "execution_count": 56,
   "metadata": {},
   "outputs": [],
   "source": [
    "R10 = np.empty((110591, 20, 1), dtype=np.float64)\n",
    "labels_R10 = np.zeros(110591)\n",
    "folder = '/mnt/Storage/gvicentini/prova_R/R10/'\n",
    "i = 0\n",
    "for file in os.listdir(folder):\n",
    "    if file.startswith('el'):\n",
    "        labels_R10[i] = 1\n",
    "    array = np.load(folder + file)\n",
    "    array = np.reshape(array, (20,1))\n",
    "    R10[i] = array\n",
    "    i += 1"
   ]
  },
  {
   "cell_type": "code",
   "execution_count": 57,
   "metadata": {},
   "outputs": [],
   "source": [
    "R10 = R10/R10.max()"
   ]
  },
  {
   "cell_type": "code",
   "execution_count": 58,
   "metadata": {},
   "outputs": [],
   "source": [
    "R10X_train, R10X_test, R10Y_train, R10Y_test = train_test_split(R10 , labels_R10 ,test_size=0.2)"
   ]
  },
  {
   "cell_type": "code",
   "execution_count": 59,
   "metadata": {},
   "outputs": [],
   "source": [
    "model10 = Sequential()\n",
    "model10.add(Conv1D(32, 3, activation='relu', kernel_initializer='he_uniform', padding='same', input_shape=(20, 1)))\n",
    "model10.add(MaxPooling1D(2))\n",
    "model10.add(Dropout(0.2))\n",
    "model10.add(Conv1D(64, 3, activation='relu', kernel_initializer='he_uniform', padding='same'))\n",
    "model10.add(MaxPooling1D(2))\n",
    "model10.add(Dropout(0.2))\n",
    "model10.add(Conv1D(128, 3, activation='relu', kernel_initializer='he_uniform', padding='same'))\n",
    "model10.add(MaxPooling1D(2))\n",
    "model10.add(Dropout(0.2))\n",
    "model10.add(Flatten())\n",
    "model10.add(Dense(128, activation='relu', kernel_initializer='he_uniform'))\n",
    "model10.add(Dropout(0.5))\n",
    "model10.add(Dense(1, activation='sigmoid'))"
   ]
  },
  {
   "cell_type": "code",
   "execution_count": 60,
   "metadata": {},
   "outputs": [],
   "source": [
    "model10.compile(loss='binary_crossentropy', optimizer=opt, metrics=['accuracy'])"
   ]
  },
  {
   "cell_type": "code",
   "execution_count": 61,
   "metadata": {},
   "outputs": [
    {
     "name": "stdout",
     "output_type": "stream",
     "text": [
      "Train on 88472 samples, validate on 22119 samples\n",
      "Epoch 1/20\n",
      "88472/88472 [==============================] - 13s 144us/step - loss: 0.7007 - accuracy: 0.5066 - val_loss: 0.6926 - val_accuracy: 0.5103\n",
      "Epoch 2/20\n",
      "88472/88472 [==============================] - 9s 106us/step - loss: 0.6921 - accuracy: 0.5082 - val_loss: 0.6889 - val_accuracy: 0.5168\n",
      "Epoch 3/20\n",
      "88472/88472 [==============================] - 10s 112us/step - loss: 0.6880 - accuracy: 0.5063 - val_loss: 0.6855 - val_accuracy: 0.5050\n",
      "Epoch 4/20\n",
      "88472/88472 [==============================] - 10s 110us/step - loss: 0.6850 - accuracy: 0.5122 - val_loss: 0.6829 - val_accuracy: 0.5079\n",
      "Epoch 5/20\n",
      "88472/88472 [==============================] - 10s 111us/step - loss: 0.6831 - accuracy: 0.5132 - val_loss: 0.6805 - val_accuracy: 0.5059\n",
      "Epoch 6/20\n",
      "88472/88472 [==============================] - 10s 110us/step - loss: 0.6819 - accuracy: 0.5150 - val_loss: 0.6797 - val_accuracy: 0.5067\n",
      "Epoch 7/20\n",
      "88472/88472 [==============================] - 9s 104us/step - loss: 0.6813 - accuracy: 0.5106 - val_loss: 0.6793 - val_accuracy: 0.5220\n",
      "Epoch 8/20\n",
      "88472/88472 [==============================] - 9s 105us/step - loss: 0.6807 - accuracy: 0.5134 - val_loss: 0.6787 - val_accuracy: 0.5186\n",
      "Epoch 9/20\n",
      "88472/88472 [==============================] - 9s 102us/step - loss: 0.6806 - accuracy: 0.5142 - val_loss: 0.6785 - val_accuracy: 0.5224\n",
      "Epoch 10/20\n",
      "88472/88472 [==============================] - 8s 93us/step - loss: 0.6801 - accuracy: 0.5141 - val_loss: 0.6781 - val_accuracy: 0.5223\n",
      "Epoch 11/20\n",
      "88472/88472 [==============================] - 8s 96us/step - loss: 0.6800 - accuracy: 0.5145 - val_loss: 0.6786 - val_accuracy: 0.5213\n",
      "Epoch 12/20\n",
      "88472/88472 [==============================] - 9s 107us/step - loss: 0.6801 - accuracy: 0.5139 - val_loss: 0.6780 - val_accuracy: 0.5228\n",
      "Epoch 13/20\n",
      "88472/88472 [==============================] - 10s 118us/step - loss: 0.6799 - accuracy: 0.5160 - val_loss: 0.6781 - val_accuracy: 0.5072\n",
      "Epoch 14/20\n",
      "88472/88472 [==============================] - 10s 111us/step - loss: 0.6797 - accuracy: 0.5142 - val_loss: 0.6778 - val_accuracy: 0.5218\n",
      "Epoch 15/20\n",
      "88472/88472 [==============================] - 10s 108us/step - loss: 0.6796 - accuracy: 0.5127 - val_loss: 0.6785 - val_accuracy: 0.5127\n",
      "Epoch 16/20\n",
      "88472/88472 [==============================] - 10s 109us/step - loss: 0.6795 - accuracy: 0.5127 - val_loss: 0.6785 - val_accuracy: 0.5063\n",
      "Epoch 17/20\n",
      "88472/88472 [==============================] - 10s 112us/step - loss: 0.6795 - accuracy: 0.5154 - val_loss: 0.6786 - val_accuracy: 0.5163\n",
      "Epoch 18/20\n",
      "88472/88472 [==============================] - 10s 112us/step - loss: 0.6795 - accuracy: 0.5148 - val_loss: 0.6780 - val_accuracy: 0.5240\n",
      "Epoch 19/20\n",
      "88472/88472 [==============================] - 10s 116us/step - loss: 0.6791 - accuracy: 0.5177 - val_loss: 0.6778 - val_accuracy: 0.5237\n",
      "Epoch 20/20\n",
      "88472/88472 [==============================] - 9s 104us/step - loss: 0.6795 - accuracy: 0.5142 - val_loss: 0.6788 - val_accuracy: 0.5068\n"
     ]
    }
   ],
   "source": [
    "history10 = model10.fit(R10X_train, R10Y_train, batch_size=64, validation_data=(R10X_test, R10Y_test), epochs=20)"
   ]
  },
  {
   "cell_type": "code",
   "execution_count": 62,
   "metadata": {},
   "outputs": [
    {
     "data": {
      "image/png": "[encoded data removed]",
      "text/plain": [
       "<Figure size 432x288 with 2 Axes>"
      ]
     },
     "metadata": {
      "needs_background": "light"
     },
     "output_type": "display_data"
    }
   ],
   "source": [
    "summarize_diagnostics(history10)"
   ]
  },
  {
   "cell_type": "markdown",
   "metadata": {},
   "source": [
    "# 11 < R < 12 m"
   ]
  },
  {
   "cell_type": "code",
   "execution_count": 71,
   "metadata": {},
   "outputs": [
    {
     "name": "stdout",
     "output_type": "stream",
     "text": [
      "132078\n"
     ]
    }
   ],
   "source": [
    "folder = '/mnt/Storage/gvicentini/prova_R/R11/'\n",
    "i = 0\n",
    "for file in os.listdir(folder):\n",
    "    i += 1\n",
    "print(i)"
   ]
  },
  {
   "cell_type": "code",
   "execution_count": 72,
   "metadata": {},
   "outputs": [],
   "source": [
    "R11 = np.empty((132078, 20, 1), dtype=np.float64)\n",
    "labels_R11 = np.zeros(132078)\n",
    "folder = '/mnt/Storage/gvicentini/prova_R/R11/'\n",
    "i = 0\n",
    "for file in os.listdir(folder):\n",
    "    if file.startswith('el'):\n",
    "        labels_R11[i] = 1\n",
    "    array = np.load(folder + file)\n",
    "    array = np.reshape(array, (20,1))\n",
    "    R11[i] = array\n",
    "    i += 1"
   ]
  },
  {
   "cell_type": "code",
   "execution_count": 73,
   "metadata": {},
   "outputs": [],
   "source": [
    "R11 = R11/R11.max()"
   ]
  },
  {
   "cell_type": "code",
   "execution_count": 74,
   "metadata": {},
   "outputs": [],
   "source": [
    "R11X_train, R11X_test, R11Y_train, R11Y_test = train_test_split(R11 , labels_R11 ,test_size=0.2)"
   ]
  },
  {
   "cell_type": "code",
   "execution_count": 75,
   "metadata": {},
   "outputs": [],
   "source": [
    "model11 = Sequential()\n",
    "model11.add(Conv1D(32, 3, activation='relu', kernel_initializer='he_uniform', padding='same', input_shape=(20, 1)))\n",
    "model11.add(MaxPooling1D(2))\n",
    "model11.add(Dropout(0.2))\n",
    "model11.add(Conv1D(64, 3, activation='relu', kernel_initializer='he_uniform', padding='same'))\n",
    "model11.add(MaxPooling1D(2))\n",
    "model11.add(Dropout(0.2))\n",
    "model11.add(Conv1D(128, 3, activation='relu', kernel_initializer='he_uniform', padding='same'))\n",
    "model11.add(MaxPooling1D(2))\n",
    "model11.add(Dropout(0.2))\n",
    "model11.add(Flatten())\n",
    "model11.add(Dense(128, activation='relu', kernel_initializer='he_uniform'))\n",
    "model11.add(Dropout(0.5))\n",
    "model11.add(Dense(1, activation='sigmoid'))"
   ]
  },
  {
   "cell_type": "code",
   "execution_count": 76,
   "metadata": {},
   "outputs": [],
   "source": [
    "model11.compile(loss='binary_crossentropy', optimizer=opt, metrics=['accuracy'])"
   ]
  },
  {
   "cell_type": "code",
   "execution_count": 77,
   "metadata": {},
   "outputs": [
    {
     "name": "stdout",
     "output_type": "stream",
     "text": [
      "Train on 105662 samples, validate on 26416 samples\n",
      "Epoch 1/20\n",
      "105662/105662 [==============================] - 14s 131us/step - loss: 0.6982 - accuracy: 0.5100 - val_loss: 0.6929 - val_accuracy: 0.5111\n",
      "Epoch 2/20\n",
      "105662/105662 [==============================] - 12s 116us/step - loss: 0.6932 - accuracy: 0.5122 - val_loss: 0.6921 - val_accuracy: 0.5111\n",
      "Epoch 3/20\n",
      "105662/105662 [==============================] - 11s 107us/step - loss: 0.6899 - accuracy: 0.5119 - val_loss: 0.6865 - val_accuracy: 0.5111\n",
      "Epoch 4/20\n",
      "105662/105662 [==============================] - 12s 111us/step - loss: 0.6848 - accuracy: 0.5126 - val_loss: 0.6825 - val_accuracy: 0.5111\n",
      "Epoch 5/20\n",
      "105662/105662 [==============================] - 12s 109us/step - loss: 0.6824 - accuracy: 0.5129 - val_loss: 0.6808 - val_accuracy: 0.5111\n",
      "Epoch 6/20\n",
      "105662/105662 [==============================] - 12s 114us/step - loss: 0.6814 - accuracy: 0.5112 - val_loss: 0.6804 - val_accuracy: 0.5111\n",
      "Epoch 7/20\n",
      "105662/105662 [==============================] - 11s 107us/step - loss: 0.6810 - accuracy: 0.5157 - val_loss: 0.6797 - val_accuracy: 0.5111\n",
      "Epoch 8/20\n",
      "105662/105662 [==============================] - 12s 109us/step - loss: 0.6806 - accuracy: 0.5133 - val_loss: 0.6798 - val_accuracy: 0.5111\n",
      "Epoch 9/20\n",
      "105662/105662 [==============================] - 12s 110us/step - loss: 0.6800 - accuracy: 0.5123 - val_loss: 0.6805 - val_accuracy: 0.5123\n",
      "Epoch 10/20\n",
      "105662/105662 [==============================] - 11s 106us/step - loss: 0.6802 - accuracy: 0.5147 - val_loss: 0.6802 - val_accuracy: 0.5158\n",
      "Epoch 11/20\n",
      "105662/105662 [==============================] - 12s 113us/step - loss: 0.6801 - accuracy: 0.5153 - val_loss: 0.6797 - val_accuracy: 0.5167\n",
      "Epoch 12/20\n",
      "105662/105662 [==============================] - 12s 111us/step - loss: 0.6798 - accuracy: 0.5165 - val_loss: 0.6802 - val_accuracy: 0.5143\n",
      "Epoch 13/20\n",
      "105662/105662 [==============================] - 12s 113us/step - loss: 0.6795 - accuracy: 0.5177 - val_loss: 0.6799 - val_accuracy: 0.5120\n",
      "Epoch 14/20\n",
      "105662/105662 [==============================] - 11s 100us/step - loss: 0.6795 - accuracy: 0.5183 - val_loss: 0.6791 - val_accuracy: 0.5127\n",
      "Epoch 15/20\n",
      "105662/105662 [==============================] - 11s 100us/step - loss: 0.6792 - accuracy: 0.5168 - val_loss: 0.6793 - val_accuracy: 0.5228\n",
      "Epoch 16/20\n",
      "105662/105662 [==============================] - 11s 101us/step - loss: 0.6794 - accuracy: 0.5225 - val_loss: 0.6795 - val_accuracy: 0.5473\n",
      "Epoch 17/20\n",
      "105662/105662 [==============================] - 11s 104us/step - loss: 0.6788 - accuracy: 0.5248 - val_loss: 0.6798 - val_accuracy: 0.5739\n",
      "Epoch 18/20\n",
      "105662/105662 [==============================] - 11s 101us/step - loss: 0.6786 - accuracy: 0.5244 - val_loss: 0.6801 - val_accuracy: 0.5323\n",
      "Epoch 19/20\n",
      "105662/105662 [==============================] - 12s 111us/step - loss: 0.6783 - accuracy: 0.5264 - val_loss: 0.6778 - val_accuracy: 0.5381\n",
      "Epoch 20/20\n",
      "105662/105662 [==============================] - 11s 108us/step - loss: 0.6780 - accuracy: 0.5309 - val_loss: 0.6789 - val_accuracy: 0.5497\n"
     ]
    }
   ],
   "source": [
    "history11 = model11.fit(R11X_train, R11Y_train, batch_size=64, validation_data=(R11X_test, R11Y_test), epochs=20)"
   ]
  },
  {
   "cell_type": "code",
   "execution_count": 78,
   "metadata": {},
   "outputs": [
    {
     "data": {
      "image/png": "[encoded data removed]",
      "text/plain": [
       "<Figure size 432x288 with 2 Axes>"
      ]
     },
     "metadata": {
      "needs_background": "light"
     },
     "output_type": "display_data"
    }
   ],
   "source": [
    "summarize_diagnostics(history11)"
   ]
  },
  {
   "cell_type": "markdown",
   "metadata": {},
   "source": [
    "# 12 < R < 13 m"
   ]
  },
  {
   "cell_type": "code",
   "execution_count": 81,
   "metadata": {},
   "outputs": [
    {
     "name": "stdout",
     "output_type": "stream",
     "text": [
      "156114\n"
     ]
    }
   ],
   "source": [
    "folder = '/mnt/Storage/gvicentini/prova_R/R12/'\n",
    "i = 0\n",
    "for file in os.listdir(folder):\n",
    "    i += 1\n",
    "print(i)"
   ]
  },
  {
   "cell_type": "code",
   "execution_count": 80,
   "metadata": {},
   "outputs": [],
   "source": [
    "R12 = np.empty((156114, 20, 1), dtype=np.float64)\n",
    "labels_R12 = np.zeros(156114)\n",
    "folder = '/mnt/Storage/gvicentini/prova_R/R12/'\n",
    "i = 0\n",
    "for file in os.listdir(folder):\n",
    "    if file.startswith('el'):\n",
    "        labels_R12[i] = 1\n",
    "    array = np.load(folder + file)\n",
    "    array = np.reshape(array, (20,1))\n",
    "    R12[i] = array\n",
    "    i += 1"
   ]
  },
  {
   "cell_type": "code",
   "execution_count": 88,
   "metadata": {},
   "outputs": [],
   "source": [
    "R12 = R12/R12.max()"
   ]
  },
  {
   "cell_type": "code",
   "execution_count": 89,
   "metadata": {},
   "outputs": [],
   "source": [
    "R12X_train, R12X_test, R12Y_train, R12Y_test = train_test_split(R12 , labels_R12 ,test_size=0.2)"
   ]
  },
  {
   "cell_type": "code",
   "execution_count": 90,
   "metadata": {},
   "outputs": [],
   "source": [
    "model12 = Sequential()\n",
    "model12.add(Conv1D(32, 3, activation='relu', kernel_initializer='he_uniform', padding='same', input_shape=(20, 1)))\n",
    "model12.add(MaxPooling1D(2))\n",
    "model12.add(Dropout(0.2))\n",
    "model12.add(Conv1D(64, 3, activation='relu', kernel_initializer='he_uniform', padding='same'))\n",
    "model12.add(MaxPooling1D(2))\n",
    "model12.add(Dropout(0.2))\n",
    "model12.add(Conv1D(128, 3, activation='relu', kernel_initializer='he_uniform', padding='same'))\n",
    "model12.add(MaxPooling1D(2))\n",
    "model12.add(Dropout(0.2))\n",
    "model12.add(Flatten())\n",
    "model12.add(Dense(128, activation='relu', kernel_initializer='he_uniform'))\n",
    "model12.add(Dropout(0.5))\n",
    "model12.add(Dense(1, activation='sigmoid'))"
   ]
  },
  {
   "cell_type": "code",
   "execution_count": 91,
   "metadata": {},
   "outputs": [],
   "source": [
    "model12.compile(loss='binary_crossentropy', optimizer=opt, metrics=['accuracy'])"
   ]
  },
  {
   "cell_type": "code",
   "execution_count": 92,
   "metadata": {},
   "outputs": [
    {
     "name": "stdout",
     "output_type": "stream",
     "text": [
      "Train on 124891 samples, validate on 31223 samples\n",
      "Epoch 1/20\n",
      "124891/124891 [==============================] - 15s 119us/step - loss: 0.6973 - accuracy: 0.5116 - val_loss: 0.6924 - val_accuracy: 0.5131\n",
      "Epoch 2/20\n",
      "124891/124891 [==============================] - 14s 108us/step - loss: 0.6919 - accuracy: 0.5113 - val_loss: 0.6892 - val_accuracy: 0.5131\n",
      "Epoch 3/20\n",
      "124891/124891 [==============================] - 14s 110us/step - loss: 0.6862 - accuracy: 0.5127 - val_loss: 0.6837 - val_accuracy: 0.5131\n",
      "Epoch 4/20\n",
      "124891/124891 [==============================] - 14s 114us/step - loss: 0.6828 - accuracy: 0.5132 - val_loss: 0.6813 - val_accuracy: 0.5131\n",
      "Epoch 5/20\n",
      "124891/124891 [==============================] - 13s 106us/step - loss: 0.6810 - accuracy: 0.5171 - val_loss: 0.6799 - val_accuracy: 0.5162\n",
      "Epoch 6/20\n",
      "124891/124891 [==============================] - 14s 110us/step - loss: 0.6804 - accuracy: 0.5154 - val_loss: 0.6799 - val_accuracy: 0.5171\n",
      "Epoch 7/20\n",
      "124891/124891 [==============================] - 14s 112us/step - loss: 0.6800 - accuracy: 0.5163 - val_loss: 0.6793 - val_accuracy: 0.5376\n",
      "Epoch 8/20\n",
      "124891/124891 [==============================] - 14s 112us/step - loss: 0.6796 - accuracy: 0.5168 - val_loss: 0.6788 - val_accuracy: 0.5243\n",
      "Epoch 9/20\n",
      "124891/124891 [==============================] - 13s 106us/step - loss: 0.6794 - accuracy: 0.5177 - val_loss: 0.6783 - val_accuracy: 0.5342\n",
      "Epoch 10/20\n",
      "124891/124891 [==============================] - 14s 113us/step - loss: 0.6787 - accuracy: 0.5235 - val_loss: 0.6775 - val_accuracy: 0.5688\n",
      "Epoch 11/20\n",
      "124891/124891 [==============================] - 14s 112us/step - loss: 0.6779 - accuracy: 0.5282 - val_loss: 0.6759 - val_accuracy: 0.5716\n",
      "Epoch 12/20\n",
      "124891/124891 [==============================] - 14s 109us/step - loss: 0.6767 - accuracy: 0.5352 - val_loss: 0.6712 - val_accuracy: 0.5726\n",
      "Epoch 13/20\n",
      "124891/124891 [==============================] - 13s 102us/step - loss: 0.6752 - accuracy: 0.5413 - val_loss: 0.6688 - val_accuracy: 0.5771\n",
      "Epoch 14/20\n",
      "124891/124891 [==============================] - 14s 114us/step - loss: 0.6732 - accuracy: 0.5474 - val_loss: 0.6656 - val_accuracy: 0.5738\n",
      "Epoch 15/20\n",
      "124891/124891 [==============================] - 13s 104us/step - loss: 0.6717 - accuracy: 0.5533 - val_loss: 0.6629 - val_accuracy: 0.5851\n",
      "Epoch 16/20\n",
      "124891/124891 [==============================] - 13s 106us/step - loss: 0.6702 - accuracy: 0.5564 - val_loss: 0.6600 - val_accuracy: 0.5879\n",
      "Epoch 17/20\n",
      "124891/124891 [==============================] - 13s 106us/step - loss: 0.6691 - accuracy: 0.5605 - val_loss: 0.6587 - val_accuracy: 0.5849\n",
      "Epoch 18/20\n",
      "124891/124891 [==============================] - 14s 109us/step - loss: 0.6682 - accuracy: 0.5639 - val_loss: 0.6589 - val_accuracy: 0.5872\n",
      "Epoch 19/20\n",
      "124891/124891 [==============================] - 14s 110us/step - loss: 0.6671 - accuracy: 0.5670 - val_loss: 0.6579 - val_accuracy: 0.5905\n",
      "Epoch 20/20\n",
      "124891/124891 [==============================] - 14s 108us/step - loss: 0.6663 - accuracy: 0.5690 - val_loss: 0.6584 - val_accuracy: 0.5838\n"
     ]
    }
   ],
   "source": [
    "history12 = model12.fit(R12X_train, R12Y_train, batch_size=64, validation_data=(R12X_test, R12Y_test), epochs=20)"
   ]
  },
  {
   "cell_type": "code",
   "execution_count": 93,
   "metadata": {},
   "outputs": [
    {
     "data": {
      "image/png": "[encoded data removed]",
      "text/plain": [
       "<Figure size 432x288 with 2 Axes>"
      ]
     },
     "metadata": {
      "needs_background": "light"
     },
     "output_type": "display_data"
    }
   ],
   "source": [
    "summarize_diagnostics(history12)"
   ]
  },
  {
   "cell_type": "markdown",
   "metadata": {},
   "source": [
    "# 13 < R < 14 m"
   ]
  },
  {
   "cell_type": "code",
   "execution_count": 94,
   "metadata": {},
   "outputs": [
    {
     "name": "stdout",
     "output_type": "stream",
     "text": [
      "183020\n"
     ]
    }
   ],
   "source": [
    "folder = '/mnt/Storage/gvicentini/prova_R/R13/'\n",
    "i = 0\n",
    "for file in os.listdir(folder):\n",
    "    i += 1\n",
    "print(i)"
   ]
  },
  {
   "cell_type": "code",
   "execution_count": 97,
   "metadata": {},
   "outputs": [],
   "source": [
    "R13 = np.empty((183020, 20, 1), dtype=np.float64)\n",
    "labels_R13 = np.zeros(183020)\n",
    "folder = '/mnt/Storage/gvicentini/prova_R/R13/'\n",
    "i = 0\n",
    "for file in os.listdir(folder):\n",
    "    if file.startswith('el'):\n",
    "        labels_R13[i] = 1\n",
    "    array = np.load(folder + file)\n",
    "    array = np.reshape(array, (20,1))\n",
    "    R13[i] = array\n",
    "    i += 1"
   ]
  },
  {
   "cell_type": "code",
   "execution_count": 98,
   "metadata": {},
   "outputs": [],
   "source": [
    "R13 = R13/R13.max()"
   ]
  },
  {
   "cell_type": "code",
   "execution_count": 99,
   "metadata": {},
   "outputs": [],
   "source": [
    "R13X_train, R13X_test, R13Y_train, R13Y_test = train_test_split(R13 , labels_R13 ,test_size=0.2)"
   ]
  },
  {
   "cell_type": "code",
   "execution_count": 100,
   "metadata": {},
   "outputs": [],
   "source": [
    "model13 = Sequential()\n",
    "model13.add(Conv1D(32, 3, activation='relu', kernel_initializer='he_uniform', padding='same', input_shape=(20, 1)))\n",
    "model13.add(MaxPooling1D(2))\n",
    "model13.add(Dropout(0.2))\n",
    "model13.add(Conv1D(64, 3, activation='relu', kernel_initializer='he_uniform', padding='same'))\n",
    "model13.add(MaxPooling1D(2))\n",
    "model13.add(Dropout(0.2))\n",
    "model13.add(Conv1D(128, 3, activation='relu', kernel_initializer='he_uniform', padding='same'))\n",
    "model13.add(MaxPooling1D(2))\n",
    "model13.add(Dropout(0.2))\n",
    "model13.add(Flatten())\n",
    "model13.add(Dense(128, activation='relu', kernel_initializer='he_uniform'))\n",
    "model13.add(Dropout(0.5))\n",
    "model13.add(Dense(1, activation='sigmoid'))"
   ]
  },
  {
   "cell_type": "code",
   "execution_count": 101,
   "metadata": {},
   "outputs": [],
   "source": [
    "model13.compile(loss='binary_crossentropy', optimizer=opt, metrics=['accuracy'])"
   ]
  },
  {
   "cell_type": "code",
   "execution_count": 102,
   "metadata": {},
   "outputs": [
    {
     "name": "stdout",
     "output_type": "stream",
     "text": [
      "Train on 146416 samples, validate on 36604 samples\n",
      "Epoch 1/20\n",
      "146416/146416 [==============================] - 19s 127us/step - loss: 0.6949 - accuracy: 0.5087 - val_loss: 0.6894 - val_accuracy: 0.5120\n",
      "Epoch 2/20\n",
      "146416/146416 [==============================] - 16s 112us/step - loss: 0.6871 - accuracy: 0.5098 - val_loss: 0.6831 - val_accuracy: 0.5120\n",
      "Epoch 3/20\n",
      "146416/146416 [==============================] - 16s 112us/step - loss: 0.6832 - accuracy: 0.5139 - val_loss: 0.6806 - val_accuracy: 0.5120\n",
      "Epoch 4/20\n",
      "146416/146416 [==============================] - 15s 105us/step - loss: 0.6814 - accuracy: 0.5131 - val_loss: 0.6796 - val_accuracy: 0.5120\n",
      "Epoch 5/20\n",
      "146416/146416 [==============================] - 15s 105us/step - loss: 0.6808 - accuracy: 0.5138 - val_loss: 0.6792 - val_accuracy: 0.5181\n",
      "Epoch 6/20\n",
      "146416/146416 [==============================] - 16s 111us/step - loss: 0.6804 - accuracy: 0.5132 - val_loss: 0.6791 - val_accuracy: 0.5120\n",
      "Epoch 7/20\n",
      "146416/146416 [==============================] - 17s 113us/step - loss: 0.6799 - accuracy: 0.5140 - val_loss: 0.6790 - val_accuracy: 0.5158\n",
      "Epoch 8/20\n",
      "146416/146416 [==============================] - 16s 108us/step - loss: 0.6800 - accuracy: 0.5136 - val_loss: 0.6800 - val_accuracy: 0.5160\n",
      "Epoch 9/20\n",
      "146416/146416 [==============================] - 17s 115us/step - loss: 0.6799 - accuracy: 0.5143 - val_loss: 0.6787 - val_accuracy: 0.5191\n",
      "Epoch 10/20\n",
      "146416/146416 [==============================] - 16s 112us/step - loss: 0.6796 - accuracy: 0.5133 - val_loss: 0.6792 - val_accuracy: 0.5200\n",
      "Epoch 11/20\n",
      "146416/146416 [==============================] - 15s 103us/step - loss: 0.6795 - accuracy: 0.5145 - val_loss: 0.6785 - val_accuracy: 0.5215\n",
      "Epoch 12/20\n",
      "146416/146416 [==============================] - 16s 108us/step - loss: 0.6793 - accuracy: 0.5150 - val_loss: 0.6812 - val_accuracy: 0.5248\n",
      "Epoch 13/20\n",
      "146416/146416 [==============================] - 16s 107us/step - loss: 0.6794 - accuracy: 0.5156 - val_loss: 0.6794 - val_accuracy: 0.5199\n",
      "Epoch 14/20\n",
      "146416/146416 [==============================] - 16s 108us/step - loss: 0.6794 - accuracy: 0.5151 - val_loss: 0.6788 - val_accuracy: 0.5272\n",
      "Epoch 15/20\n",
      "146416/146416 [==============================] - 16s 109us/step - loss: 0.6793 - accuracy: 0.5145 - val_loss: 0.6784 - val_accuracy: 0.5220\n",
      "Epoch 16/20\n",
      "146416/146416 [==============================] - 14s 97us/step - loss: 0.6792 - accuracy: 0.5145 - val_loss: 0.6789 - val_accuracy: 0.5124\n",
      "Epoch 17/20\n",
      "146416/146416 [==============================] - 16s 110us/step - loss: 0.6791 - accuracy: 0.5155 - val_loss: 0.6785 - val_accuracy: 0.5246\n",
      "Epoch 18/20\n",
      "146416/146416 [==============================] - 16s 111us/step - loss: 0.6790 - accuracy: 0.5168 - val_loss: 0.6791 - val_accuracy: 0.5345\n",
      "Epoch 19/20\n",
      "146416/146416 [==============================] - 16s 108us/step - loss: 0.6789 - accuracy: 0.5207 - val_loss: 0.6795 - val_accuracy: 0.5335\n",
      "Epoch 20/20\n",
      "146416/146416 [==============================] - 16s 111us/step - loss: 0.6790 - accuracy: 0.5188 - val_loss: 0.6785 - val_accuracy: 0.5218\n"
     ]
    }
   ],
   "source": [
    "history13 = model13.fit(R13X_train, R13Y_train, batch_size=64, validation_data=(R13X_test, R13Y_test), epochs=20)"
   ]
  },
  {
   "cell_type": "code",
   "execution_count": 103,
   "metadata": {},
   "outputs": [
    {
     "data": {
      "image/png": "[encoded data removed]",
      "text/plain": [
       "<Figure size 432x288 with 2 Axes>"
      ]
     },
     "metadata": {
      "needs_background": "light"
     },
     "output_type": "display_data"
    }
   ],
   "source": [
    "summarize_diagnostics(history13)"
   ]
  },
  {
   "cell_type": "markdown",
   "metadata": {},
   "source": [
    "# 14 < R < 15 m"
   ]
  },
  {
   "cell_type": "code",
   "execution_count": 104,
   "metadata": {},
   "outputs": [
    {
     "name": "stdout",
     "output_type": "stream",
     "text": [
      "210663\n"
     ]
    }
   ],
   "source": [
    "folder = '/mnt/Storage/gvicentini/prova_R/R14/'\n",
    "i = 0\n",
    "for file in os.listdir(folder):\n",
    "    i += 1\n",
    "print(i)"
   ]
  },
  {
   "cell_type": "code",
   "execution_count": 105,
   "metadata": {},
   "outputs": [],
   "source": [
    "R14 = np.empty((210663, 20, 1), dtype=np.float64)\n",
    "labels_R14 = np.zeros(210663)\n",
    "folder = '/mnt/Storage/gvicentini/prova_R/R14/'\n",
    "i = 0\n",
    "for file in os.listdir(folder):\n",
    "    if file.startswith('el'):\n",
    "        labels_R14[i] = 1\n",
    "    array = np.load(folder + file)\n",
    "    array = np.reshape(array, (20,1))\n",
    "    R14[i] = array\n",
    "    i += 1"
   ]
  },
  {
   "cell_type": "code",
   "execution_count": 106,
   "metadata": {},
   "outputs": [],
   "source": [
    "R14 = R14/R14.max()"
   ]
  },
  {
   "cell_type": "code",
   "execution_count": 107,
   "metadata": {},
   "outputs": [],
   "source": [
    "R14X_train, R14X_test, R14Y_train, R14Y_test = train_test_split(R14 , labels_R14 ,test_size=0.2)"
   ]
  },
  {
   "cell_type": "code",
   "execution_count": 108,
   "metadata": {},
   "outputs": [],
   "source": [
    "model14 = Sequential()\n",
    "model14.add(Conv1D(32, 3, activation='relu', kernel_initializer='he_uniform', padding='same', input_shape=(20, 1)))\n",
    "model14.add(MaxPooling1D(2))\n",
    "model14.add(Dropout(0.2))\n",
    "model14.add(Conv1D(64, 3, activation='relu', kernel_initializer='he_uniform', padding='same'))\n",
    "model14.add(MaxPooling1D(2))\n",
    "model14.add(Dropout(0.2))\n",
    "model14.add(Conv1D(128, 3, activation='relu', kernel_initializer='he_uniform', padding='same'))\n",
    "model14.add(MaxPooling1D(2))\n",
    "model14.add(Dropout(0.2))\n",
    "model14.add(Flatten())\n",
    "model14.add(Dense(128, activation='relu', kernel_initializer='he_uniform'))\n",
    "model14.add(Dropout(0.5))\n",
    "model14.add(Dense(1, activation='sigmoid'))"
   ]
  },
  {
   "cell_type": "code",
   "execution_count": 109,
   "metadata": {},
   "outputs": [],
   "source": [
    "model14.compile(loss='binary_crossentropy', optimizer=opt, metrics=['accuracy'])"
   ]
  },
  {
   "cell_type": "code",
   "execution_count": 110,
   "metadata": {},
   "outputs": [
    {
     "name": "stdout",
     "output_type": "stream",
     "text": [
      "Train on 168530 samples, validate on 42133 samples\n",
      "Epoch 1/20\n",
      "168530/168530 [==============================] - 20s 121us/step - loss: 0.6962 - accuracy: 0.5102 - val_loss: 0.6922 - val_accuracy: 0.5163\n",
      "Epoch 2/20\n",
      "168530/168530 [==============================] - 18s 105us/step - loss: 0.6890 - accuracy: 0.5119 - val_loss: 0.6825 - val_accuracy: 0.5163\n",
      "Epoch 3/20\n",
      "168530/168530 [==============================] - 18s 105us/step - loss: 0.6830 - accuracy: 0.5129 - val_loss: 0.6792 - val_accuracy: 0.5163\n",
      "Epoch 4/20\n",
      "168530/168530 [==============================] - 18s 108us/step - loss: 0.6811 - accuracy: 0.5142 - val_loss: 0.6788 - val_accuracy: 0.5163\n",
      "Epoch 5/20\n",
      "168530/168530 [==============================] - 17s 103us/step - loss: 0.6803 - accuracy: 0.5132 - val_loss: 0.6780 - val_accuracy: 0.5163\n",
      "Epoch 6/20\n",
      "168530/168530 [==============================] - 19s 111us/step - loss: 0.6800 - accuracy: 0.5128 - val_loss: 0.6776 - val_accuracy: 0.5163\n",
      "Epoch 7/20\n",
      "168530/168530 [==============================] - 19s 111us/step - loss: 0.6796 - accuracy: 0.5158 - val_loss: 0.6775 - val_accuracy: 0.5179\n",
      "Epoch 8/20\n",
      "168530/168530 [==============================] - 19s 112us/step - loss: 0.6793 - accuracy: 0.5151 - val_loss: 0.6779 - val_accuracy: 0.5154\n",
      "Epoch 9/20\n",
      "168530/168530 [==============================] - 18s 105us/step - loss: 0.6791 - accuracy: 0.5178 - val_loss: 0.6773 - val_accuracy: 0.5493\n",
      "Epoch 10/20\n",
      "168530/168530 [==============================] - 19s 113us/step - loss: 0.6795 - accuracy: 0.5200 - val_loss: 0.6776 - val_accuracy: 0.5194\n",
      "Epoch 11/20\n",
      "168530/168530 [==============================] - 18s 108us/step - loss: 0.6789 - accuracy: 0.5201 - val_loss: 0.6779 - val_accuracy: 0.5267\n",
      "Epoch 12/20\n",
      "168530/168530 [==============================] - 19s 112us/step - loss: 0.6788 - accuracy: 0.5206 - val_loss: 0.6770 - val_accuracy: 0.5325\n",
      "Epoch 13/20\n",
      "168530/168530 [==============================] - 18s 109us/step - loss: 0.6784 - accuracy: 0.5226 - val_loss: 0.6767 - val_accuracy: 0.5333\n",
      "Epoch 14/20\n",
      "168530/168530 [==============================] - 18s 105us/step - loss: 0.6785 - accuracy: 0.5252 - val_loss: 0.6761 - val_accuracy: 0.5446\n",
      "Epoch 15/20\n",
      "168530/168530 [==============================] - 19s 112us/step - loss: 0.6779 - accuracy: 0.5269 - val_loss: 0.6751 - val_accuracy: 0.5366\n",
      "Epoch 16/20\n",
      "168530/168530 [==============================] - 18s 107us/step - loss: 0.6773 - accuracy: 0.5304 - val_loss: 0.6740 - val_accuracy: 0.5395\n",
      "Epoch 17/20\n",
      "168530/168530 [==============================] - 19s 114us/step - loss: 0.6765 - accuracy: 0.5360 - val_loss: 0.6729 - val_accuracy: 0.5480\n",
      "Epoch 18/20\n",
      "168530/168530 [==============================] - 18s 107us/step - loss: 0.6759 - accuracy: 0.5378 - val_loss: 0.6724 - val_accuracy: 0.5489\n",
      "Epoch 19/20\n",
      "168530/168530 [==============================] - 18s 110us/step - loss: 0.6750 - accuracy: 0.5409 - val_loss: 0.6695 - val_accuracy: 0.5527\n",
      "Epoch 20/20\n",
      "168530/168530 [==============================] - 18s 108us/step - loss: 0.6740 - accuracy: 0.5442 - val_loss: 0.6694 - val_accuracy: 0.5566\n"
     ]
    }
   ],
   "source": [
    "history14 = model14.fit(R14X_train, R14Y_train, batch_size=64, validation_data=(R14X_test, R14Y_test), epochs=20)"
   ]
  },
  {
   "cell_type": "code",
   "execution_count": 111,
   "metadata": {},
   "outputs": [
    {
     "data": {
      "image/png": "[encoded data removed]",
      "text/plain": [
       "<Figure size 432x288 with 2 Axes>"
      ]
     },
     "metadata": {
      "needs_background": "light"
     },
     "output_type": "display_data"
    }
   ],
   "source": [
    "summarize_diagnostics(history14)"
   ]
  },
  {
   "cell_type": "markdown",
   "metadata": {},
   "source": [
    "# 15 < R < 16 m"
   ]
  },
  {
   "cell_type": "code",
   "execution_count": 112,
   "metadata": {},
   "outputs": [
    {
     "name": "stdout",
     "output_type": "stream",
     "text": [
      "240544\n"
     ]
    }
   ],
   "source": [
    "folder = '/mnt/Storage/gvicentini/prova_R/R15/'\n",
    "i = 0\n",
    "for file in os.listdir(folder):\n",
    "    i += 1\n",
    "print(i)"
   ]
  },
  {
   "cell_type": "code",
   "execution_count": 113,
   "metadata": {},
   "outputs": [],
   "source": [
    "R15 = np.empty((240544, 20, 1), dtype=np.float64)\n",
    "labels_R15 = np.zeros(240544)\n",
    "folder = '/mnt/Storage/gvicentini/prova_R/R15/'\n",
    "i = 0\n",
    "for file in os.listdir(folder):\n",
    "    if file.startswith('el'):\n",
    "        labels_R15[i] = 1\n",
    "    array = np.load(folder + file)\n",
    "    array = np.reshape(array, (20,1))\n",
    "    R15[i] = array\n",
    "    i += 1"
   ]
  },
  {
   "cell_type": "code",
   "execution_count": 114,
   "metadata": {},
   "outputs": [],
   "source": [
    "R15 = R15/R15.max()"
   ]
  },
  {
   "cell_type": "code",
   "execution_count": 115,
   "metadata": {},
   "outputs": [],
   "source": [
    "R15X_train, R15X_test, R15Y_train, R15Y_test = train_test_split(R15 , labels_R15 ,test_size=0.2)"
   ]
  },
  {
   "cell_type": "code",
   "execution_count": 116,
   "metadata": {},
   "outputs": [],
   "source": [
    "model15 = Sequential()\n",
    "model15.add(Conv1D(32, 3, activation='relu', kernel_initializer='he_uniform', padding='same', input_shape=(20, 1)))\n",
    "model15.add(MaxPooling1D(2))\n",
    "model15.add(Dropout(0.2))\n",
    "model15.add(Conv1D(64, 3, activation='relu', kernel_initializer='he_uniform', padding='same'))\n",
    "model15.add(MaxPooling1D(2))\n",
    "model15.add(Dropout(0.2))\n",
    "model15.add(Conv1D(128, 3, activation='relu', kernel_initializer='he_uniform', padding='same'))\n",
    "model15.add(MaxPooling1D(2))\n",
    "model15.add(Dropout(0.2))\n",
    "model15.add(Flatten())\n",
    "model15.add(Dense(128, activation='relu', kernel_initializer='he_uniform'))\n",
    "model15.add(Dropout(0.5))\n",
    "model15.add(Dense(1, activation='sigmoid'))"
   ]
  },
  {
   "cell_type": "code",
   "execution_count": 117,
   "metadata": {},
   "outputs": [],
   "source": [
    "model15.compile(loss='binary_crossentropy', optimizer=opt, metrics=['accuracy'])"
   ]
  },
  {
   "cell_type": "code",
   "execution_count": 118,
   "metadata": {},
   "outputs": [
    {
     "name": "stdout",
     "output_type": "stream",
     "text": [
      "Train on 192435 samples, validate on 48109 samples\n",
      "Epoch 1/20\n",
      "192435/192435 [==============================] - 23s 120us/step - loss: 0.6953 - accuracy: 0.5108 - val_loss: 0.6901 - val_accuracy: 0.5158\n",
      "Epoch 2/20\n",
      "192435/192435 [==============================] - 20s 106us/step - loss: 0.6869 - accuracy: 0.5134 - val_loss: 0.6814 - val_accuracy: 0.5158\n",
      "Epoch 3/20\n",
      "192435/192435 [==============================] - 21s 108us/step - loss: 0.6818 - accuracy: 0.5147 - val_loss: 0.6791 - val_accuracy: 0.5190\n",
      "Epoch 4/20\n",
      "192435/192435 [==============================] - 21s 109us/step - loss: 0.6805 - accuracy: 0.5157 - val_loss: 0.6786 - val_accuracy: 0.5233\n",
      "Epoch 5/20\n",
      "192435/192435 [==============================] - 22s 112us/step - loss: 0.6801 - accuracy: 0.5181 - val_loss: 0.6789 - val_accuracy: 0.5272\n",
      "Epoch 6/20\n",
      "192435/192435 [==============================] - 21s 108us/step - loss: 0.6797 - accuracy: 0.5186 - val_loss: 0.6785 - val_accuracy: 0.5287\n",
      "Epoch 7/20\n",
      "192435/192435 [==============================] - 22s 113us/step - loss: 0.6790 - accuracy: 0.5229 - val_loss: 0.6769 - val_accuracy: 0.5415\n",
      "Epoch 8/20\n",
      "192435/192435 [==============================] - 20s 104us/step - loss: 0.6783 - accuracy: 0.5254 - val_loss: 0.6745 - val_accuracy: 0.5573\n",
      "Epoch 9/20\n",
      "192435/192435 [==============================] - 22s 114us/step - loss: 0.6775 - accuracy: 0.5279 - val_loss: 0.6735 - val_accuracy: 0.5389\n",
      "Epoch 10/20\n",
      "192435/192435 [==============================] - 21s 110us/step - loss: 0.6762 - accuracy: 0.5338 - val_loss: 0.6713 - val_accuracy: 0.5496\n",
      "Epoch 11/20\n",
      "192435/192435 [==============================] - 20s 105us/step - loss: 0.6754 - accuracy: 0.5371 - val_loss: 0.6688 - val_accuracy: 0.5432\n",
      "Epoch 12/20\n",
      "192435/192435 [==============================] - 22s 115us/step - loss: 0.6741 - accuracy: 0.5401 - val_loss: 0.6671 - val_accuracy: 0.5453\n",
      "Epoch 13/20\n",
      "192435/192435 [==============================] - 21s 111us/step - loss: 0.6737 - accuracy: 0.5424 - val_loss: 0.6670 - val_accuracy: 0.5446\n",
      "Epoch 14/20\n",
      "192435/192435 [==============================] - 22s 112us/step - loss: 0.6727 - accuracy: 0.5447 - val_loss: 0.6670 - val_accuracy: 0.5446\n",
      "Epoch 15/20\n",
      "192435/192435 [==============================] - 20s 106us/step - loss: 0.6718 - accuracy: 0.5479 - val_loss: 0.6674 - val_accuracy: 0.5461\n",
      "Epoch 16/20\n",
      "192435/192435 [==============================] - 22s 116us/step - loss: 0.6713 - accuracy: 0.5493 - val_loss: 0.6681 - val_accuracy: 0.5456\n",
      "Epoch 17/20\n",
      "192435/192435 [==============================] - 22s 113us/step - loss: 0.6705 - accuracy: 0.5513 - val_loss: 0.6657 - val_accuracy: 0.5559\n",
      "Epoch 18/20\n",
      "192435/192435 [==============================] - 21s 110us/step - loss: 0.6699 - accuracy: 0.5529 - val_loss: 0.6648 - val_accuracy: 0.5557\n",
      "Epoch 19/20\n",
      "192435/192435 [==============================] - 21s 108us/step - loss: 0.6696 - accuracy: 0.5534 - val_loss: 0.6633 - val_accuracy: 0.5599\n",
      "Epoch 20/20\n",
      "192435/192435 [==============================] - 21s 111us/step - loss: 0.6696 - accuracy: 0.5529 - val_loss: 0.6652 - val_accuracy: 0.5575\n"
     ]
    }
   ],
   "source": [
    "history15 = model15.fit(R15X_train, R15Y_train, batch_size=64, validation_data=(R15X_test, R15Y_test), epochs=20)"
   ]
  },
  {
   "cell_type": "code",
   "execution_count": 119,
   "metadata": {},
   "outputs": [
    {
     "data": {
      "image/png": "[encoded data removed]",
      "text/plain": [
       "<Figure size 432x288 with 2 Axes>"
      ]
     },
     "metadata": {
      "needs_background": "light"
     },
     "output_type": "display_data"
    }
   ],
   "source": [
    "summarize_diagnostics(history15)"
   ]
  },
  {
   "cell_type": "markdown",
   "metadata": {},
   "source": [
    "# 16 < R < 17 m"
   ]
  },
  {
   "cell_type": "code",
   "execution_count": 120,
   "metadata": {},
   "outputs": [
    {
     "name": "stdout",
     "output_type": "stream",
     "text": [
      "271749\n"
     ]
    }
   ],
   "source": [
    "folder = '/mnt/Storage/gvicentini/prova_R/R16/'\n",
    "i = 0\n",
    "for file in os.listdir(folder):\n",
    "    i += 1\n",
    "print(i)"
   ]
  },
  {
   "cell_type": "code",
   "execution_count": 121,
   "metadata": {},
   "outputs": [],
   "source": [
    "R16 = np.empty((271749, 20, 1), dtype=np.float64)\n",
    "labels_R16 = np.zeros(271749)\n",
    "folder = '/mnt/Storage/gvicentini/prova_R/R16/'\n",
    "i = 0\n",
    "for file in os.listdir(folder):\n",
    "    if file.startswith('el'):\n",
    "        labels_R16[i] = 1\n",
    "    array = np.load(folder + file)\n",
    "    array = np.reshape(array, (20,1))\n",
    "    R16[i] = array\n",
    "    i += 1"
   ]
  },
  {
   "cell_type": "code",
   "execution_count": 122,
   "metadata": {},
   "outputs": [],
   "source": [
    "R16 = R16/R16.max()"
   ]
  },
  {
   "cell_type": "code",
   "execution_count": 123,
   "metadata": {},
   "outputs": [],
   "source": [
    "R16X_train, R16X_test, R16Y_train, R16Y_test = train_test_split(R16 , labels_R16 ,test_size=0.2)"
   ]
  },
  {
   "cell_type": "code",
   "execution_count": 124,
   "metadata": {},
   "outputs": [],
   "source": [
    "model16 = Sequential()\n",
    "model16.add(Conv1D(32, 3, activation='relu', kernel_initializer='he_uniform', padding='same', input_shape=(20, 1)))\n",
    "model16.add(MaxPooling1D(2))\n",
    "model16.add(Dropout(0.2))\n",
    "model16.add(Conv1D(64, 3, activation='relu', kernel_initializer='he_uniform', padding='same'))\n",
    "model16.add(MaxPooling1D(2))\n",
    "model16.add(Dropout(0.2))\n",
    "model16.add(Conv1D(128, 3, activation='relu', kernel_initializer='he_uniform', padding='same'))\n",
    "model16.add(MaxPooling1D(2))\n",
    "model16.add(Dropout(0.2))\n",
    "model16.add(Flatten())\n",
    "model16.add(Dense(128, activation='relu', kernel_initializer='he_uniform'))\n",
    "model16.add(Dropout(0.5))\n",
    "model16.add(Dense(1, activation='sigmoid'))"
   ]
  },
  {
   "cell_type": "code",
   "execution_count": 125,
   "metadata": {},
   "outputs": [],
   "source": [
    "model16.compile(loss='binary_crossentropy', optimizer=opt, metrics=['accuracy'])"
   ]
  },
  {
   "cell_type": "code",
   "execution_count": 126,
   "metadata": {},
   "outputs": [
    {
     "name": "stdout",
     "output_type": "stream",
     "text": [
      "Train on 217399 samples, validate on 54350 samples\n",
      "Epoch 1/20\n",
      "217399/217399 [==============================] - 27s 123us/step - loss: 0.6954 - accuracy: 0.5089 - val_loss: 0.6906 - val_accuracy: 0.5141\n",
      "Epoch 2/20\n",
      "217399/217399 [==============================] - 24s 109us/step - loss: 0.6875 - accuracy: 0.5099 - val_loss: 0.6820 - val_accuracy: 0.5141\n",
      "Epoch 3/20\n",
      "217399/217399 [==============================] - 24s 109us/step - loss: 0.6822 - accuracy: 0.5121 - val_loss: 0.6794 - val_accuracy: 0.5186\n",
      "Epoch 4/20\n",
      "217399/217399 [==============================] - 24s 109us/step - loss: 0.6808 - accuracy: 0.5143 - val_loss: 0.6787 - val_accuracy: 0.5192\n",
      "Epoch 5/20\n",
      "217399/217399 [==============================] - 23s 106us/step - loss: 0.6803 - accuracy: 0.5165 - val_loss: 0.6783 - val_accuracy: 0.5187\n",
      "Epoch 6/20\n",
      "217399/217399 [==============================] - 23s 106us/step - loss: 0.6798 - accuracy: 0.5190 - val_loss: 0.6777 - val_accuracy: 0.5336\n",
      "Epoch 7/20\n",
      "217399/217399 [==============================] - 23s 107us/step - loss: 0.6793 - accuracy: 0.5236 - val_loss: 0.6766 - val_accuracy: 0.5401\n",
      "Epoch 8/20\n",
      "217399/217399 [==============================] - 26s 118us/step - loss: 0.6784 - accuracy: 0.5290 - val_loss: 0.6737 - val_accuracy: 0.5494\n",
      "Epoch 9/20\n",
      "217399/217399 [==============================] - 23s 108us/step - loss: 0.6772 - accuracy: 0.5337 - val_loss: 0.6717 - val_accuracy: 0.5511\n",
      "Epoch 10/20\n",
      "217399/217399 [==============================] - 24s 111us/step - loss: 0.6761 - accuracy: 0.5394 - val_loss: 0.6693 - val_accuracy: 0.5730\n",
      "Epoch 11/20\n",
      "217399/217399 [==============================] - 24s 110us/step - loss: 0.6744 - accuracy: 0.5453 - val_loss: 0.6656 - val_accuracy: 0.5680\n",
      "Epoch 12/20\n",
      "217399/217399 [==============================] - 24s 112us/step - loss: 0.6732 - accuracy: 0.5500 - val_loss: 0.6639 - val_accuracy: 0.5603\n",
      "Epoch 13/20\n",
      "217399/217399 [==============================] - 24s 110us/step - loss: 0.6719 - accuracy: 0.5533 - val_loss: 0.6588 - val_accuracy: 0.5869\n",
      "Epoch 14/20\n",
      "217399/217399 [==============================] - 24s 113us/step - loss: 0.6705 - accuracy: 0.5577 - val_loss: 0.6576 - val_accuracy: 0.5916\n",
      "Epoch 15/20\n",
      "217399/217399 [==============================] - 24s 109us/step - loss: 0.6684 - accuracy: 0.5622 - val_loss: 0.6543 - val_accuracy: 0.5934\n",
      "Epoch 16/20\n",
      "217399/217399 [==============================] - 24s 108us/step - loss: 0.6672 - accuracy: 0.5653 - val_loss: 0.6544 - val_accuracy: 0.5999\n",
      "Epoch 17/20\n",
      "217399/217399 [==============================] - 24s 110us/step - loss: 0.6658 - accuracy: 0.5671 - val_loss: 0.6519 - val_accuracy: 0.6029\n",
      "Epoch 18/20\n",
      "217399/217399 [==============================] - 24s 110us/step - loss: 0.6643 - accuracy: 0.5723 - val_loss: 0.6488 - val_accuracy: 0.6047\n",
      "Epoch 19/20\n",
      "217399/217399 [==============================] - 24s 109us/step - loss: 0.6634 - accuracy: 0.5751 - val_loss: 0.6472 - val_accuracy: 0.6053\n",
      "Epoch 20/20\n",
      "217399/217399 [==============================] - 22s 103us/step - loss: 0.6621 - accuracy: 0.5762 - val_loss: 0.6481 - val_accuracy: 0.5991\n"
     ]
    }
   ],
   "source": [
    "history16 = model16.fit(R16X_train, R16Y_train, batch_size=64, validation_data=(R16X_test, R16Y_test), epochs=20)"
   ]
  },
  {
   "cell_type": "code",
   "execution_count": 127,
   "metadata": {},
   "outputs": [
    {
     "data": {
      "image/png": "[encoded data removed]",
      "text/plain": [
       "<Figure size 432x288 with 2 Axes>"
      ]
     },
     "metadata": {
      "needs_background": "light"
     },
     "output_type": "display_data"
    }
   ],
   "source": [
    "summarize_diagnostics(history16)"
   ]
  },
  {
   "cell_type": "markdown",
   "metadata": {},
   "source": [
    "# R < 17 m"
   ]
  },
  {
   "cell_type": "code",
   "execution_count": 128,
   "metadata": {},
   "outputs": [
    {
     "name": "stdout",
     "output_type": "stream",
     "text": [
      "210998\n"
     ]
    }
   ],
   "source": [
    "folder = '/mnt/Storage/gvicentini/prova_R/R17/'\n",
    "i = 0\n",
    "for file in os.listdir(folder):\n",
    "    i += 1\n",
    "print(i)"
   ]
  },
  {
   "cell_type": "code",
   "execution_count": 129,
   "metadata": {},
   "outputs": [],
   "source": [
    "R17 = np.empty((210998, 20, 1), dtype=np.float64)\n",
    "labels_R17 = np.zeros(210998)\n",
    "folder = '/mnt/Storage/gvicentini/prova_R/R17/'\n",
    "i = 0\n",
    "for file in os.listdir(folder):\n",
    "    if file.startswith('el'):\n",
    "        labels_R17[i] = 1\n",
    "    array = np.load(folder + file)\n",
    "    array = np.reshape(array, (20,1))\n",
    "    R17[i] = array\n",
    "    i += 1"
   ]
  },
  {
   "cell_type": "code",
   "execution_count": 131,
   "metadata": {},
   "outputs": [],
   "source": [
    "R17 = R17/R17.max()"
   ]
  },
  {
   "cell_type": "code",
   "execution_count": 132,
   "metadata": {},
   "outputs": [],
   "source": [
    "R17X_train, R17X_test, R17Y_train, R17Y_test = train_test_split(R17 , labels_R17 ,test_size=0.2)"
   ]
  },
  {
   "cell_type": "code",
   "execution_count": 133,
   "metadata": {},
   "outputs": [],
   "source": [
    "model17 = Sequential()\n",
    "model17.add(Conv1D(32, 3, activation='relu', kernel_initializer='he_uniform', padding='same', input_shape=(20, 1)))\n",
    "model17.add(MaxPooling1D(2))\n",
    "model17.add(Dropout(0.2))\n",
    "model17.add(Conv1D(64, 3, activation='relu', kernel_initializer='he_uniform', padding='same'))\n",
    "model17.add(MaxPooling1D(2))\n",
    "model17.add(Dropout(0.2))\n",
    "model17.add(Conv1D(128, 3, activation='relu', kernel_initializer='he_uniform', padding='same'))\n",
    "model17.add(MaxPooling1D(2))\n",
    "model17.add(Dropout(0.2))\n",
    "model17.add(Flatten())\n",
    "model17.add(Dense(128, activation='relu', kernel_initializer='he_uniform'))\n",
    "model17.add(Dropout(0.5))\n",
    "model17.add(Dense(1, activation='sigmoid'))"
   ]
  },
  {
   "cell_type": "code",
   "execution_count": 134,
   "metadata": {},
   "outputs": [],
   "source": [
    "model17.compile(loss='binary_crossentropy', optimizer=opt, metrics=['accuracy'])"
   ]
  },
  {
   "cell_type": "code",
   "execution_count": 135,
   "metadata": {},
   "outputs": [
    {
     "name": "stdout",
     "output_type": "stream",
     "text": [
      "Train on 168798 samples, validate on 42200 samples\n",
      "Epoch 1/20\n",
      "168798/168798 [==============================] - 19s 114us/step - loss: 0.6947 - accuracy: 0.5130 - val_loss: 0.6878 - val_accuracy: 0.5153\n",
      "Epoch 2/20\n",
      "168798/168798 [==============================] - 18s 105us/step - loss: 0.6878 - accuracy: 0.5156 - val_loss: 0.6862 - val_accuracy: 0.5152\n",
      "Epoch 3/20\n",
      "168798/168798 [==============================] - 19s 110us/step - loss: 0.6864 - accuracy: 0.5259 - val_loss: 0.6850 - val_accuracy: 0.5195\n",
      "Epoch 4/20\n",
      "168798/168798 [==============================] - 18s 109us/step - loss: 0.6853 - accuracy: 0.5304 - val_loss: 0.6834 - val_accuracy: 0.5277\n",
      "Epoch 5/20\n",
      "168798/168798 [==============================] - 18s 104us/step - loss: 0.6841 - accuracy: 0.5393 - val_loss: 0.6808 - val_accuracy: 0.5390\n",
      "Epoch 6/20\n",
      "168798/168798 [==============================] - 16s 96us/step - loss: 0.6824 - accuracy: 0.5415 - val_loss: 0.6781 - val_accuracy: 0.5474\n",
      "Epoch 7/20\n",
      "168798/168798 [==============================] - 17s 100us/step - loss: 0.6810 - accuracy: 0.5451 - val_loss: 0.6751 - val_accuracy: 0.5595\n",
      "Epoch 8/20\n",
      "168798/168798 [==============================] - 18s 110us/step - loss: 0.6788 - accuracy: 0.5520 - val_loss: 0.6728 - val_accuracy: 0.5590\n",
      "Epoch 9/20\n",
      "168798/168798 [==============================] - 19s 111us/step - loss: 0.6774 - accuracy: 0.5548 - val_loss: 0.6702 - val_accuracy: 0.5573\n",
      "Epoch 10/20\n",
      "168798/168798 [==============================] - 19s 112us/step - loss: 0.6760 - accuracy: 0.5581 - val_loss: 0.6688 - val_accuracy: 0.5665\n",
      "Epoch 11/20\n",
      "168798/168798 [==============================] - 18s 109us/step - loss: 0.6748 - accuracy: 0.5608 - val_loss: 0.6654 - val_accuracy: 0.5859\n",
      "Epoch 12/20\n",
      "168798/168798 [==============================] - 17s 103us/step - loss: 0.6738 - accuracy: 0.5647 - val_loss: 0.6678 - val_accuracy: 0.5651\n",
      "Epoch 13/20\n",
      "168798/168798 [==============================] - 19s 111us/step - loss: 0.6728 - accuracy: 0.5657 - val_loss: 0.6639 - val_accuracy: 0.5863\n",
      "Epoch 14/20\n",
      "168798/168798 [==============================] - 19s 110us/step - loss: 0.6717 - accuracy: 0.5671 - val_loss: 0.6636 - val_accuracy: 0.5847\n",
      "Epoch 15/20\n",
      "168798/168798 [==============================] - 19s 111us/step - loss: 0.6707 - accuracy: 0.5704 - val_loss: 0.6624 - val_accuracy: 0.5887\n",
      "Epoch 16/20\n",
      "168798/168798 [==============================] - 19s 113us/step - loss: 0.6697 - accuracy: 0.5718 - val_loss: 0.6613 - val_accuracy: 0.5920\n",
      "Epoch 17/20\n",
      "168798/168798 [==============================] - 19s 114us/step - loss: 0.6684 - accuracy: 0.5756 - val_loss: 0.6620 - val_accuracy: 0.5882\n",
      "Epoch 18/20\n",
      "168798/168798 [==============================] - 18s 107us/step - loss: 0.6680 - accuracy: 0.5760 - val_loss: 0.6589 - val_accuracy: 0.5959\n",
      "Epoch 19/20\n",
      "168798/168798 [==============================] - 19s 112us/step - loss: 0.6677 - accuracy: 0.5762 - val_loss: 0.6659 - val_accuracy: 0.5849\n",
      "Epoch 20/20\n",
      "168798/168798 [==============================] - 18s 108us/step - loss: 0.6674 - accuracy: 0.5781 - val_loss: 0.6663 - val_accuracy: 0.5818\n"
     ]
    }
   ],
   "source": [
    "history17 = model17.fit(R17X_train, R17Y_train, batch_size=64, validation_data=(R17X_test, R17Y_test), epochs=20)"
   ]
  },
  {
   "cell_type": "code",
   "execution_count": 136,
   "metadata": {},
   "outputs": [
    {
     "data": {
      "image/png": "[encoded data removed]",
      "text/plain": [
       "<Figure size 432x288 with 2 Axes>"
      ]
     },
     "metadata": {
      "needs_background": "light"
     },
     "output_type": "display_data"
    }
   ],
   "source": [
    "summarize_diagnostics(history17)"
   ]
  },
  {
   "cell_type": "code",
   "execution_count": null,
   "metadata": {},
   "outputs": [],
   "source": []
  }
 ],
 "metadata": {
  "kernelspec": {
   "display_name": "Python 3",
   "language": "python",
   "name": "python3"
  },
  "language_info": {
   "codemirror_mode": {
    "name": "ipython",
    "version": 3
   },
   "file_extension": ".py",
   "mimetype": "text/x-python",
   "name": "python",
   "nbconvert_exporter": "python",
   "pygments_lexer": "ipython3",
   "version": "3.7.4"
  }
 },
 "nbformat": 4,
 "nbformat_minor": 2
}
