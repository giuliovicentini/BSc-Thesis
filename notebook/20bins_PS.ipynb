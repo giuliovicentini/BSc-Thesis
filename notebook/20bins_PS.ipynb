{
 "cells": [
  {
   "cell_type": "code",
   "execution_count": 39,
   "metadata": {},
   "outputs": [],
   "source": [
    "%matplotlib inline\n",
    "import pandas as pd\n",
    "import uproot\n",
    "import matplotlib.pyplot as plt\n",
    "import numpy as np\n",
    "import healpy as hp\n",
    "import boost_histogram as bh\n",
    "import os\n",
    "import random\n",
    "import time\n",
    "import cupy as cp"
   ]
  },
  {
   "cell_type": "code",
   "execution_count": 15,
   "metadata": {},
   "outputs": [],
   "source": [
    "def no_DN (frame):\n",
    "    \n",
    "    i = frame.index[0][0]\n",
    "    new_frame = frame.loc[(frame['isDN'].values == False) & (frame['hitTime'].values < 300)]\n",
    "    return new_frame.loc[i]"
   ]
  },
  {
   "cell_type": "code",
   "execution_count": 16,
   "metadata": {},
   "outputs": [],
   "source": [
    "def first (frame):\n",
    "    frame_sort = frame.sort_values(['hitTime'])\n",
    "    frame_first = frame_sort.drop_duplicates(subset='pmtID', keep='first')\n",
    "    frame_last = frame_first.sort_values('hitTime', ascending=False)\n",
    "    return frame_last"
   ]
  },
  {
   "cell_type": "code",
   "execution_count": 17,
   "metadata": {},
   "outputs": [],
   "source": [
    "def normal_ft(ev):\n",
    "    \n",
    "    mi = ev['hitTime'].min()\n",
    "    \n",
    "    a = ev['nHits'].values\n",
    "    b = ev['pmtID'].values\n",
    "    c = ev['hitTime'] - mi\n",
    "    data = {'nHits': a, 'pmtID': b, 'hitTime': c}\n",
    "        \n",
    "    norm = pd.DataFrame(data)\n",
    "    return norm"
   ]
  },
  {
   "cell_type": "code",
   "execution_count": 18,
   "metadata": {},
   "outputs": [],
   "source": [
    "def mapev (ev, PMT_cor):\n",
    "    \n",
    "    x = PMT_cor['pmt_x']\n",
    "    y = PMT_cor['pmt_y']\n",
    "    z = PMT_cor['pmt_z']\n",
    "    \n",
    "    i = ev['pmtID'].values\n",
    "    xs = x[ev['pmtID']]\n",
    "    ys = y[ev['pmtID']]\n",
    "    zs = z[ev['pmtID']] \n",
    "    t = ev['hitTime'].values\n",
    "    data ={'pmtID': i, 'pmt_x': xs, 'pmt_y': ys, 'pmt_z':zs, 'hitTime': t}\n",
    "    \n",
    "    ev_map = pd.DataFrame(data)\n",
    "    return ev_map"
   ]
  },
  {
   "cell_type": "code",
   "execution_count": 19,
   "metadata": {},
   "outputs": [],
   "source": [
    "def mollweide (ev_map, j):\n",
    "    # Set the coordinates for the input\n",
    "    nside = 32\n",
    "    npix = hp.nside2npix(nside)\n",
    "\n",
    "    # Coordinates and the density field f\n",
    "    hitTime = ev_map['hitTime']\n",
    "    x = ev_map['pmt_x']\n",
    "    y = ev_map['pmt_y']\n",
    "    z = ev_map['pmt_z']\n",
    "    \n",
    "    # Go from HEALPix coordinates to indices\n",
    "    indices = hp.vec2pix(nside, x, y, z)\n",
    "\n",
    "    # Initate the map and fill it with the values\n",
    "    hpxmap = np.full(npix, 0, dtype=np.float)\n",
    "    hpxmap[[indices]]  = 300-hitTime\n",
    "    cl = hp.anafast(hpxmap)\n",
    "\n",
    "    # Inspect the map\n",
    "    #project = hp.mollview(hpxmap, title=None, cbar=False, return_projected_map=True, hold=True) #,cmap='binary')\n",
    "    #plt.savefig('/mnt/Storage/gvicentini/electron/ev'+str(j)+'.png')  \n",
    "    #plt.clf()\n",
    "    return cl #project"
   ]
  },
  {
   "cell_type": "code",
   "execution_count": 34,
   "metadata": {},
   "outputs": [],
   "source": [
    "def save_hist (data, info, n, pre, b, position):\n",
    "    \n",
    "    dst_dir = '/home/centos/prova_E/E8_20PS/'\n",
    "    \n",
    "    hist = bh.Histogram(bh.axis.Regular(20, 0, 300))\n",
    "    for i in info['evtID']:\n",
    "        name = pre+str(i)+'_'+str(b)+'.npy'\n",
    "        ev = data.pandas.df(entrystart=i, entrystop=i+1)\n",
    "        try:\n",
    "            ev_noDN = no_DN(ev)\n",
    "        except:\n",
    "            print(i, ': solo dark noise')\n",
    "            continue\n",
    "        ev_first = first(ev_noDN)\n",
    "        ev_norm = normal_ft(ev_first)\n",
    "        ev_time= ev_norm['hitTime'].values\n",
    "        hist.fill(ev_time)\n",
    "        array = hist.to_numpy()\n",
    "        time = array[0]\n",
    "        \n",
    "        ev_map = mapev(ev_norm, position)\n",
    "        cl = mollweide(ev_map, i)\n",
    "        l = np.arange(len(cl))\n",
    "        power = l * (l+1) * cl\n",
    "        \n",
    "        result = np.append(time, power)\n",
    "        \n",
    "        cp.save(dst_dir + name, result)\n",
    "        hist.reset()"
   ]
  },
  {
   "cell_type": "code",
   "execution_count": 35,
   "metadata": {},
   "outputs": [],
   "source": [
    "def call_all (file, a):\n",
    "    \n",
    "    data_file = uproot.open(file)\n",
    "    INFO = data_file['true_info'].pandas.df()\n",
    "    DATA = data_file[\"lpmt_hits\"]\n",
    "    POSITION = data_file['lpmt_pos'].pandas.df()\n",
    "    \n",
    "    if file.startswith('/home/centos/FlatComplete'):\n",
    "        name = 'pos'\n",
    "        \n",
    "        INFO_E8 = INFO.loc[(INFO['E'] > 8) & (INFO['E'] < 9) ]\n",
    "        \n",
    "    elif file.startswith('/home/centos/ElectronDataset'):\n",
    "        name = 'el'\n",
    "        \n",
    "        INFO_E8 = INFO.loc[(INFO['E'] > 9) & (INFO['E'] < 10) ]\n",
    "        \n",
    "    else:\n",
    "        print('file non riconosciuto')\n",
    "        \n",
    "    save_hist(DATA, INFO_E8, 8, name, a, POSITION)"
   ]
  },
  {
   "cell_type": "code",
   "execution_count": 36,
   "metadata": {},
   "outputs": [],
   "source": [
    "P0 = \"/home/centos/FlatComplete/eplus_hits_dn_0.root\"\n",
    "P1 = \"/home/centos/FlatComplete/eplus_hits_dn_1.root\"\n",
    "P2 = \"/home/centos/FlatComplete/eplus_hits_dn_2.root\"\n",
    "P3 = \"/home/centos/FlatComplete/eplus_hits_dn_3.root\"\n",
    "P4 = \"/home/centos/FlatComplete/eplus_hits_dn_4.root\"\n",
    "P5 = \"/home/centos/FlatComplete/eplus_hits_dn_5.root\"\n",
    "P6 = \"/home/centos/FlatComplete/eplus_hits_dn_6.root\"\n",
    "P7 = \"/home/centos/FlatComplete/eplus_hits_dn_7.root\"\n",
    "P8 = \"/home/centos/FlatComplete/eplus_hits_dn_8.root\"\n",
    "P9 = \"/home/centos/FlatComplete/eplus_hits_dn_9.root\""
   ]
  },
  {
   "cell_type": "code",
   "execution_count": 37,
   "metadata": {},
   "outputs": [],
   "source": [
    "E0 = \"/home/centos/ElectronDataset/Hits/eminus_hits_dn_0.root\"\n",
    "E1 = \"/home/centos/ElectronDataset/Hits/eminus_hits_dn_1.root\"\n",
    "E2 = \"/home/centos/ElectronDataset/Hits/eminus_hits_dn_2.root\"\n",
    "E3 = \"/home/centos/ElectronDataset/Hits/eminus_hits_dn_3.root\"\n",
    "E4 = \"/home/centos/ElectronDataset/Hits/eminus_hits_dn_4.root\"\n",
    "E5 = \"/home/centos/ElectronDataset/Hits/eminus_hits_dn_5.root\"\n",
    "E6 = \"/home/centos/ElectronDataset/Hits/eminus_hits_dn_6.root\"\n",
    "E7 = \"/home/centos/ElectronDataset/Hits/eminus_hits_dn_7.root\"\n",
    "E8 = \"/home/centos/ElectronDataset/Hits/eminus_hits_dn_8.root\"\n",
    "E9 = \"/home/centos/ElectronDataset/Hits/eminus_hits_dn_9.root\""
   ]
  },
  {
   "cell_type": "code",
   "execution_count": 40,
   "metadata": {},
   "outputs": [
    {
     "data": {
      "text/plain": [
       "'09:57'"
      ]
     },
     "execution_count": 40,
     "metadata": {},
     "output_type": "execute_result"
    }
   ],
   "source": [
    "time.strftime(\"%H\") +\":\"+ time.strftime(\"%M\")"
   ]
  },
  {
   "cell_type": "code",
   "execution_count": 41,
   "metadata": {},
   "outputs": [
    {
     "name": "stderr",
     "output_type": "stream",
     "text": [
      "/home/centos/anaconda3/lib/python3.7/site-packages/ipykernel_launcher.py:17: FutureWarning: Using a non-tuple sequence for multidimensional indexing is deprecated; use `arr[tuple(seq)]` instead of `arr[seq]`. In the future this will be interpreted as an array index, `arr[np.array(seq)]`, which will result either in an error or a different result.\n"
     ]
    },
    {
     "data": {
      "text/plain": [
       "'10:31'"
      ]
     },
     "execution_count": 41,
     "metadata": {},
     "output_type": "execute_result"
    }
   ],
   "source": [
    "call_all(P0, 0)\n",
    "call_all(E0, 0)\n",
    "time.strftime(\"%H\") +\":\"+ time.strftime(\"%M\")"
   ]
  },
  {
   "cell_type": "code",
   "execution_count": 42,
   "metadata": {},
   "outputs": [
    {
     "name": "stderr",
     "output_type": "stream",
     "text": [
      "/home/centos/anaconda3/lib/python3.7/site-packages/ipykernel_launcher.py:17: FutureWarning: Using a non-tuple sequence for multidimensional indexing is deprecated; use `arr[tuple(seq)]` instead of `arr[seq]`. In the future this will be interpreted as an array index, `arr[np.array(seq)]`, which will result either in an error or a different result.\n"
     ]
    },
    {
     "data": {
      "text/plain": [
       "'11:05'"
      ]
     },
     "execution_count": 42,
     "metadata": {},
     "output_type": "execute_result"
    }
   ],
   "source": [
    "call_all(P1, 1)\n",
    "call_all(E1, 1)\n",
    "time.strftime(\"%H\") +\":\"+ time.strftime(\"%M\")"
   ]
  },
  {
   "cell_type": "code",
   "execution_count": 43,
   "metadata": {},
   "outputs": [
    {
     "name": "stderr",
     "output_type": "stream",
     "text": [
      "/home/centos/anaconda3/lib/python3.7/site-packages/ipykernel_launcher.py:17: FutureWarning: Using a non-tuple sequence for multidimensional indexing is deprecated; use `arr[tuple(seq)]` instead of `arr[seq]`. In the future this will be interpreted as an array index, `arr[np.array(seq)]`, which will result either in an error or a different result.\n"
     ]
    },
    {
     "data": {
      "text/plain": [
       "'11:38'"
      ]
     },
     "execution_count": 43,
     "metadata": {},
     "output_type": "execute_result"
    }
   ],
   "source": [
    "call_all(P2, 2)\n",
    "call_all(E2, 2)\n",
    "time.strftime(\"%H\") +\":\"+ time.strftime(\"%M\")"
   ]
  },
  {
   "cell_type": "code",
   "execution_count": 44,
   "metadata": {},
   "outputs": [
    {
     "name": "stderr",
     "output_type": "stream",
     "text": [
      "/home/centos/anaconda3/lib/python3.7/site-packages/ipykernel_launcher.py:17: FutureWarning: Using a non-tuple sequence for multidimensional indexing is deprecated; use `arr[tuple(seq)]` instead of `arr[seq]`. In the future this will be interpreted as an array index, `arr[np.array(seq)]`, which will result either in an error or a different result.\n"
     ]
    },
    {
     "data": {
      "text/plain": [
       "'12:12'"
      ]
     },
     "execution_count": 44,
     "metadata": {},
     "output_type": "execute_result"
    }
   ],
   "source": [
    "call_all(P3, 3)\n",
    "call_all(E3, 3)\n",
    "time.strftime(\"%H\") +\":\"+ time.strftime(\"%M\")"
   ]
  },
  {
   "cell_type": "code",
   "execution_count": 45,
   "metadata": {},
   "outputs": [
    {
     "name": "stderr",
     "output_type": "stream",
     "text": [
      "/home/centos/anaconda3/lib/python3.7/site-packages/ipykernel_launcher.py:17: FutureWarning: Using a non-tuple sequence for multidimensional indexing is deprecated; use `arr[tuple(seq)]` instead of `arr[seq]`. In the future this will be interpreted as an array index, `arr[np.array(seq)]`, which will result either in an error or a different result.\n"
     ]
    },
    {
     "data": {
      "text/plain": [
       "'12:46'"
      ]
     },
     "execution_count": 45,
     "metadata": {},
     "output_type": "execute_result"
    }
   ],
   "source": [
    "call_all(P4, 4)\n",
    "call_all(E4, 4)\n",
    "time.strftime(\"%H\") +\":\"+ time.strftime(\"%M\")"
   ]
  },
  {
   "cell_type": "code",
   "execution_count": 46,
   "metadata": {},
   "outputs": [
    {
     "name": "stderr",
     "output_type": "stream",
     "text": [
      "/home/centos/anaconda3/lib/python3.7/site-packages/ipykernel_launcher.py:17: FutureWarning: Using a non-tuple sequence for multidimensional indexing is deprecated; use `arr[tuple(seq)]` instead of `arr[seq]`. In the future this will be interpreted as an array index, `arr[np.array(seq)]`, which will result either in an error or a different result.\n"
     ]
    },
    {
     "data": {
      "text/plain": [
       "'13:20'"
      ]
     },
     "execution_count": 46,
     "metadata": {},
     "output_type": "execute_result"
    }
   ],
   "source": [
    "call_all(P5, 5)\n",
    "call_all(E5, 5)\n",
    "time.strftime(\"%H\") +\":\"+ time.strftime(\"%M\")"
   ]
  },
  {
   "cell_type": "code",
   "execution_count": 47,
   "metadata": {},
   "outputs": [
    {
     "name": "stderr",
     "output_type": "stream",
     "text": [
      "/home/centos/anaconda3/lib/python3.7/site-packages/ipykernel_launcher.py:17: FutureWarning: Using a non-tuple sequence for multidimensional indexing is deprecated; use `arr[tuple(seq)]` instead of `arr[seq]`. In the future this will be interpreted as an array index, `arr[np.array(seq)]`, which will result either in an error or a different result.\n"
     ]
    },
    {
     "data": {
      "text/plain": [
       "'13:54'"
      ]
     },
     "execution_count": 47,
     "metadata": {},
     "output_type": "execute_result"
    }
   ],
   "source": [
    "call_all(P6, 6)\n",
    "call_all(E6, 6)\n",
    "time.strftime(\"%H\") +\":\"+ time.strftime(\"%M\")"
   ]
  },
  {
   "cell_type": "code",
   "execution_count": 48,
   "metadata": {},
   "outputs": [
    {
     "name": "stderr",
     "output_type": "stream",
     "text": [
      "/home/centos/anaconda3/lib/python3.7/site-packages/ipykernel_launcher.py:17: FutureWarning: Using a non-tuple sequence for multidimensional indexing is deprecated; use `arr[tuple(seq)]` instead of `arr[seq]`. In the future this will be interpreted as an array index, `arr[np.array(seq)]`, which will result either in an error or a different result.\n"
     ]
    },
    {
     "data": {
      "text/plain": [
       "'14:29'"
      ]
     },
     "execution_count": 48,
     "metadata": {},
     "output_type": "execute_result"
    }
   ],
   "source": [
    "call_all(P7, 7)\n",
    "call_all(E7, 7)\n",
    "time.strftime(\"%H\") +\":\"+ time.strftime(\"%M\")"
   ]
  },
  {
   "cell_type": "code",
   "execution_count": 49,
   "metadata": {},
   "outputs": [
    {
     "name": "stderr",
     "output_type": "stream",
     "text": [
      "/home/centos/anaconda3/lib/python3.7/site-packages/ipykernel_launcher.py:17: FutureWarning: Using a non-tuple sequence for multidimensional indexing is deprecated; use `arr[tuple(seq)]` instead of `arr[seq]`. In the future this will be interpreted as an array index, `arr[np.array(seq)]`, which will result either in an error or a different result.\n"
     ]
    },
    {
     "data": {
      "text/plain": [
       "'15:02'"
      ]
     },
     "execution_count": 49,
     "metadata": {},
     "output_type": "execute_result"
    }
   ],
   "source": [
    "call_all(P8, 8)\n",
    "call_all(E8, 8)\n",
    "time.strftime(\"%H\") +\":\"+ time.strftime(\"%M\")"
   ]
  },
  {
   "cell_type": "code",
   "execution_count": 50,
   "metadata": {},
   "outputs": [
    {
     "name": "stderr",
     "output_type": "stream",
     "text": [
      "/home/centos/anaconda3/lib/python3.7/site-packages/ipykernel_launcher.py:17: FutureWarning: Using a non-tuple sequence for multidimensional indexing is deprecated; use `arr[tuple(seq)]` instead of `arr[seq]`. In the future this will be interpreted as an array index, `arr[np.array(seq)]`, which will result either in an error or a different result.\n"
     ]
    },
    {
     "data": {
      "text/plain": [
       "'15:36'"
      ]
     },
     "execution_count": 50,
     "metadata": {},
     "output_type": "execute_result"
    }
   ],
   "source": [
    "call_all(P9, 9)\n",
    "call_all(E9, 9)\n",
    "time.strftime(\"%H\") +\":\"+ time.strftime(\"%M\")"
   ]
  },
  {
   "cell_type": "code",
   "execution_count": null,
   "metadata": {},
   "outputs": [],
   "source": []
  }
 ],
 "metadata": {
  "kernelspec": {
   "display_name": "Python 3",
   "language": "python",
   "name": "python3"
  },
  "language_info": {
   "codemirror_mode": {
    "name": "ipython",
    "version": 3
   },
   "file_extension": ".py",
   "mimetype": "text/x-python",
   "name": "python",
   "nbconvert_exporter": "python",
   "pygments_lexer": "ipython3",
   "version": "3.7.6"
  }
 },
 "nbformat": 4,
 "nbformat_minor": 4
}
