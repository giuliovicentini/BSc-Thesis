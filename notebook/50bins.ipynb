{
 "cells": [
  {
   "cell_type": "code",
   "execution_count": 1,
   "metadata": {},
   "outputs": [],
   "source": [
    "import pandas as pd\n",
    "import uproot\n",
    "import cupy as cp\n",
    "import boost_histogram as bh\n",
    "import time"
   ]
  },
  {
   "cell_type": "code",
   "execution_count": 2,
   "metadata": {},
   "outputs": [],
   "source": [
    "def no_DN (frame):\n",
    "    \n",
    "    i = frame.index[0][0]\n",
    "    new_frame = frame.loc[(frame['isDN'].values == False) & (frame['hitTime'].values < 300)]\n",
    "    return new_frame.loc[i]"
   ]
  },
  {
   "cell_type": "code",
   "execution_count": 3,
   "metadata": {},
   "outputs": [],
   "source": [
    "def first (frame):\n",
    "    frame_sort = frame.sort_values(['hitTime'])\n",
    "    frame_first = frame_sort.drop_duplicates(subset='pmtID', keep='first')\n",
    "    frame_last = frame_first.sort_values('hitTime', ascending=False)\n",
    "    return frame_last"
   ]
  },
  {
   "cell_type": "code",
   "execution_count": 4,
   "metadata": {},
   "outputs": [],
   "source": [
    "def normal_ft(ev):\n",
    "    \n",
    "    mi = ev['hitTime'].min()\n",
    "    \n",
    "    a = ev['nHits'].values\n",
    "    b = ev['pmtID'].values\n",
    "    c = ev['hitTime'] - mi\n",
    "    data = {'nHits': a, 'pmtID': b, 'hitTime': c}\n",
    "        \n",
    "    norm = pd.DataFrame(data)\n",
    "    return norm"
   ]
  },
  {
   "cell_type": "code",
   "execution_count": 5,
   "metadata": {},
   "outputs": [],
   "source": [
    "def save_hist (data, info, n, pre, b):\n",
    "    \n",
    "    dst_dir = '/home/centos/prova_E/E8_50/'\n",
    "    \n",
    "    hist = bh.Histogram(bh.axis.Regular(50, 0, 300))\n",
    "    for i in info['evtID']:\n",
    "        name = pre+str(i)+'_'+str(b)+'.npy'\n",
    "        ev = data.pandas.df(entrystart=i, entrystop=i+1)\n",
    "        try:\n",
    "            ev_noDN = no_DN(ev)\n",
    "        except:\n",
    "            print(i, ': solo dark noise')\n",
    "            continue\n",
    "        ev_first = first(ev_noDN)\n",
    "        ev_norm = normal_ft(ev_first)\n",
    "        ev_time= ev_norm['hitTime'].values\n",
    "        hist.fill(ev_time)\n",
    "        array = hist.to_numpy()\n",
    "        time = array[0]\n",
    "        \n",
    "        cp.save(dst_dir + name, time)\n",
    "        hist.reset()"
   ]
  },
  {
   "cell_type": "code",
   "execution_count": 6,
   "metadata": {},
   "outputs": [],
   "source": [
    "def call_all (file, a):\n",
    "    \n",
    "    data_file = uproot.open(file)\n",
    "    INFO = data_file['true_info'].pandas.df()\n",
    "    DATA = data_file[\"lpmt_hits\"]\n",
    "    \n",
    "    if file.startswith('/home/centos/FlatComplete'):\n",
    "        name = 'pos'\n",
    "        \n",
    "        INFO_E8 = INFO.loc[(INFO['E'] > 8) & (INFO['E'] < 9) ]\n",
    "        \n",
    "    elif file.startswith('/home/centos/ElectronDataset'):\n",
    "        name = 'el'\n",
    "        \n",
    "        INFO_E8 = INFO.loc[(INFO['E'] > 9) & (INFO['E'] < 10) ]\n",
    "        \n",
    "    else:\n",
    "        print('file non riconosciuto')\n",
    "        \n",
    "    save_hist(DATA, INFO_E8, 8, name, a)"
   ]
  },
  {
   "cell_type": "code",
   "execution_count": 7,
   "metadata": {},
   "outputs": [],
   "source": [
    "P0 = \"/home/centos/FlatComplete/eplus_hits_dn_0.root\"\n",
    "P1 = \"/home/centos/FlatComplete/eplus_hits_dn_1.root\"\n",
    "P2 = \"/home/centos/FlatComplete/eplus_hits_dn_2.root\"\n",
    "P3 = \"/home/centos/FlatComplete/eplus_hits_dn_3.root\"\n",
    "P4 = \"/home/centos/FlatComplete/eplus_hits_dn_4.root\"\n",
    "P5 = \"/home/centos/FlatComplete/eplus_hits_dn_5.root\"\n",
    "P6 = \"/home/centos/FlatComplete/eplus_hits_dn_6.root\"\n",
    "P7 = \"/home/centos/FlatComplete/eplus_hits_dn_7.root\"\n",
    "P8 = \"/home/centos/FlatComplete/eplus_hits_dn_8.root\"\n",
    "P9 = \"/home/centos/FlatComplete/eplus_hits_dn_9.root\""
   ]
  },
  {
   "cell_type": "code",
   "execution_count": 8,
   "metadata": {},
   "outputs": [],
   "source": [
    "E0 = \"/home/centos/ElectronDataset/Hits/eminus_hits_dn_0.root\"\n",
    "E1 = \"/home/centos/ElectronDataset/Hits/eminus_hits_dn_1.root\"\n",
    "E2 = \"/home/centos/ElectronDataset/Hits/eminus_hits_dn_2.root\"\n",
    "E3 = \"/home/centos/ElectronDataset/Hits/eminus_hits_dn_3.root\"\n",
    "E4 = \"/home/centos/ElectronDataset/Hits/eminus_hits_dn_4.root\"\n",
    "E5 = \"/home/centos/ElectronDataset/Hits/eminus_hits_dn_5.root\"\n",
    "E6 = \"/home/centos/ElectronDataset/Hits/eminus_hits_dn_6.root\"\n",
    "E7 = \"/home/centos/ElectronDataset/Hits/eminus_hits_dn_7.root\"\n",
    "E8 = \"/home/centos/ElectronDataset/Hits/eminus_hits_dn_8.root\"\n",
    "E9 = \"/home/centos/ElectronDataset/Hits/eminus_hits_dn_9.root\""
   ]
  },
  {
   "cell_type": "code",
   "execution_count": 9,
   "metadata": {},
   "outputs": [
    {
     "data": {
      "text/plain": [
       "'14:35'"
      ]
     },
     "execution_count": 9,
     "metadata": {},
     "output_type": "execute_result"
    }
   ],
   "source": [
    "call_all(P0, 0)\n",
    "call_all(E0, 0)\n",
    "time.strftime(\"%H\") +\":\"+ time.strftime(\"%M\")"
   ]
  },
  {
   "cell_type": "code",
   "execution_count": 10,
   "metadata": {},
   "outputs": [
    {
     "data": {
      "text/plain": [
       "'15:03'"
      ]
     },
     "execution_count": 10,
     "metadata": {},
     "output_type": "execute_result"
    }
   ],
   "source": [
    "call_all(P1, 1)\n",
    "call_all(E1, 1)\n",
    "time.strftime(\"%H\") +\":\"+ time.strftime(\"%M\")"
   ]
  },
  {
   "cell_type": "code",
   "execution_count": 11,
   "metadata": {},
   "outputs": [
    {
     "data": {
      "text/plain": [
       "'15:31'"
      ]
     },
     "execution_count": 11,
     "metadata": {},
     "output_type": "execute_result"
    }
   ],
   "source": [
    "call_all(P2, 2)\n",
    "call_all(E2, 2)\n",
    "time.strftime(\"%H\") +\":\"+ time.strftime(\"%M\")"
   ]
  },
  {
   "cell_type": "code",
   "execution_count": 12,
   "metadata": {},
   "outputs": [
    {
     "data": {
      "text/plain": [
       "'15:59'"
      ]
     },
     "execution_count": 12,
     "metadata": {},
     "output_type": "execute_result"
    }
   ],
   "source": [
    "call_all(P3, 3)\n",
    "call_all(E3, 3)\n",
    "time.strftime(\"%H\") +\":\"+ time.strftime(\"%M\")"
   ]
  },
  {
   "cell_type": "code",
   "execution_count": 13,
   "metadata": {},
   "outputs": [
    {
     "data": {
      "text/plain": [
       "'16:26'"
      ]
     },
     "execution_count": 13,
     "metadata": {},
     "output_type": "execute_result"
    }
   ],
   "source": [
    "call_all(P4, 4)\n",
    "call_all(E4, 4)\n",
    "time.strftime(\"%H\") +\":\"+ time.strftime(\"%M\")"
   ]
  },
  {
   "cell_type": "code",
   "execution_count": 14,
   "metadata": {},
   "outputs": [
    {
     "data": {
      "text/plain": [
       "'16:54'"
      ]
     },
     "execution_count": 14,
     "metadata": {},
     "output_type": "execute_result"
    }
   ],
   "source": [
    "call_all(P5, 5)\n",
    "call_all(E5, 5)\n",
    "time.strftime(\"%H\") +\":\"+ time.strftime(\"%M\")"
   ]
  },
  {
   "cell_type": "code",
   "execution_count": 15,
   "metadata": {},
   "outputs": [
    {
     "data": {
      "text/plain": [
       "'17:21'"
      ]
     },
     "execution_count": 15,
     "metadata": {},
     "output_type": "execute_result"
    }
   ],
   "source": [
    "call_all(P6, 6)\n",
    "call_all(E6, 6)\n",
    "time.strftime(\"%H\") +\":\"+ time.strftime(\"%M\")"
   ]
  },
  {
   "cell_type": "code",
   "execution_count": 16,
   "metadata": {},
   "outputs": [
    {
     "data": {
      "text/plain": [
       "'17:50'"
      ]
     },
     "execution_count": 16,
     "metadata": {},
     "output_type": "execute_result"
    }
   ],
   "source": [
    "call_all(P7, 7)\n",
    "call_all(E7, 7)\n",
    "time.strftime(\"%H\") +\":\"+ time.strftime(\"%M\")"
   ]
  },
  {
   "cell_type": "code",
   "execution_count": 17,
   "metadata": {},
   "outputs": [
    {
     "data": {
      "text/plain": [
       "'18:18'"
      ]
     },
     "execution_count": 17,
     "metadata": {},
     "output_type": "execute_result"
    }
   ],
   "source": [
    "call_all(P8, 8)\n",
    "call_all(E8, 8)\n",
    "time.strftime(\"%H\") +\":\"+ time.strftime(\"%M\")"
   ]
  },
  {
   "cell_type": "code",
   "execution_count": 18,
   "metadata": {},
   "outputs": [
    {
     "data": {
      "text/plain": [
       "'18:46'"
      ]
     },
     "execution_count": 18,
     "metadata": {},
     "output_type": "execute_result"
    }
   ],
   "source": [
    "call_all(P9, 9)\n",
    "call_all(E9, 9)\n",
    "time.strftime(\"%H\") +\":\"+ time.strftime(\"%M\")"
   ]
  },
  {
   "cell_type": "markdown",
   "metadata": {},
   "source": [
    "# -----------------------------------------"
   ]
  },
  {
   "cell_type": "code",
   "execution_count": 19,
   "metadata": {},
   "outputs": [],
   "source": [
    "import os\n",
    "import cupy as cp\n",
    "import matplotlib.pyplot as plt\n",
    "import numpy as np"
   ]
  },
  {
   "cell_type": "code",
   "execution_count": 20,
   "metadata": {},
   "outputs": [],
   "source": [
    "def summarize_diagnostics(history):\n",
    "    # plot loss\n",
    "    plt.subplot(211)\n",
    "    plt.title('Cross Entropy Loss')\n",
    "    plt.plot(history.history['loss'], color='blue', label='train')\n",
    "    plt.plot(history.history['val_loss'], color='orange', label='test')\n",
    "    # plot accuracy\n",
    "    plt.subplot(212)\n",
    "    plt.title('Classification Accuracy')\n",
    "    plt.plot(history.history['accuracy'], color='blue', label='train')\n",
    "    plt.plot(history.history['val_accuracy'], color='orange', label='test')"
   ]
  },
  {
   "cell_type": "code",
   "execution_count": 21,
   "metadata": {},
   "outputs": [
    {
     "name": "stdout",
     "output_type": "stream",
     "text": [
      "200057\n"
     ]
    }
   ],
   "source": [
    "folder = 'prova_E/E8_50/'\n",
    "i = 0\n",
    "for file in os.listdir(folder):\n",
    "    i += 1\n",
    "print(i)"
   ]
  },
  {
   "cell_type": "code",
   "execution_count": 22,
   "metadata": {},
   "outputs": [],
   "source": [
    "E8 = np.empty((200057, 50, 1), dtype=cp.float64)\n",
    "labels_E8 = np.zeros(200057)\n",
    "folder = 'prova_E/E8_50/'\n",
    "i = 0\n",
    "for file in os.listdir(folder):\n",
    "    if file.startswith('el'):\n",
    "        labels_E8[i] = 1\n",
    "    array = np.load(folder + file)\n",
    "    array = cp.reshape(array, (50,1))\n",
    "    E8[i] = array\n",
    "    i += 1"
   ]
  },
  {
   "cell_type": "code",
   "execution_count": 26,
   "metadata": {},
   "outputs": [
    {
     "data": {
      "text/plain": [
       "<BarContainer object of 50 artists>"
      ]
     },
     "execution_count": 26,
     "metadata": {},
     "output_type": "execute_result"
    },
    {
     "data": {
      "image/png": "[encoded data removed]",
      "text/plain": [
       "<Figure size 432x288 with 1 Axes>"
      ]
     },
     "metadata": {
      "needs_background": "light"
     },
     "output_type": "display_data"
    }
   ],
   "source": [
    "x = np.linspace(0, 300, 51)\n",
    "plt.bar(x[:-1], E8[0].flatten(), width=np.diff(x), ec='black', align='edge')"
   ]
  },
  {
   "cell_type": "code",
   "execution_count": 27,
   "metadata": {},
   "outputs": [],
   "source": [
    "E8 = E8/E8.max()"
   ]
  },
  {
   "cell_type": "code",
   "execution_count": 28,
   "metadata": {},
   "outputs": [],
   "source": [
    "from sklearn.model_selection import train_test_split\n",
    "E8X_train, E8X_test, E8Y_train, E8Y_test = train_test_split(E8 , labels_E8 ,test_size=0.2)"
   ]
  },
  {
   "cell_type": "code",
   "execution_count": 32,
   "metadata": {},
   "outputs": [],
   "source": [
    "from keras.models import Sequential\n",
    "from keras.layers import Dense, Conv1D, Flatten, Dropout, MaxPooling1D, BatchNormalization\n",
    "\n",
    "model = Sequential()\n",
    "model.add(Conv1D(32, 3, activation='relu', kernel_initializer='he_uniform', padding='same', input_shape=(50, 1)))\n",
    "model.add(MaxPooling1D(2))\n",
    "model.add(BatchNormalization())\n",
    "model.add(Dropout(0.2))\n",
    "model.add(Conv1D(64, 3, activation='relu', kernel_initializer='he_uniform', padding='same'))\n",
    "model.add(MaxPooling1D(2))\n",
    "model.add(BatchNormalization())\n",
    "model.add(Dropout(0.2))\n",
    "model.add(Conv1D(128, 3, activation='relu', kernel_initializer='he_uniform', padding='same'))\n",
    "model.add(MaxPooling1D(2))\n",
    "model.add(BatchNormalization())\n",
    "model.add(Dropout(0.2))\n",
    "model.add(Flatten())\n",
    "model.add(Dense(128, activation='relu', kernel_initializer='he_uniform'))\n",
    "model.add(Dropout(0.5))\n",
    "model.add(Dense(1, activation='sigmoid'))"
   ]
  },
  {
   "cell_type": "code",
   "execution_count": 33,
   "metadata": {},
   "outputs": [],
   "source": [
    "from keras.optimizers import Adam\n",
    "opt = Adam(lr=0.0001)\n",
    "model.compile(loss='binary_crossentropy', optimizer=opt, metrics=['accuracy'])"
   ]
  },
  {
   "cell_type": "code",
   "execution_count": 34,
   "metadata": {},
   "outputs": [
    {
     "name": "stdout",
     "output_type": "stream",
     "text": [
      "Train on 160045 samples, validate on 40012 samples\n",
      "Epoch 1/20\n",
      "160045/160045 [==============================] - 40s 251us/step - loss: 0.7182 - accuracy: 0.5036 - val_loss: 0.6924 - val_accuracy: 0.5226\n",
      "Epoch 2/20\n",
      "160045/160045 [==============================] - 38s 239us/step - loss: 0.6929 - accuracy: 0.5136 - val_loss: 0.6914 - val_accuracy: 0.5190\n",
      "Epoch 3/20\n",
      "160045/160045 [==============================] - 38s 238us/step - loss: 0.6918 - accuracy: 0.5223 - val_loss: 0.6901 - val_accuracy: 0.5383\n",
      "Epoch 4/20\n",
      "160045/160045 [==============================] - 39s 241us/step - loss: 0.6909 - accuracy: 0.5256 - val_loss: 0.6885 - val_accuracy: 0.5359\n",
      "Epoch 5/20\n",
      "160045/160045 [==============================] - 38s 237us/step - loss: 0.6898 - accuracy: 0.5317 - val_loss: 0.6874 - val_accuracy: 0.5542\n",
      "Epoch 6/20\n",
      "160045/160045 [==============================] - 37s 234us/step - loss: 0.6899 - accuracy: 0.5326 - val_loss: 0.6865 - val_accuracy: 0.5556\n",
      "Epoch 7/20\n",
      "160045/160045 [==============================] - 38s 239us/step - loss: 0.6891 - accuracy: 0.5352 - val_loss: 0.6875 - val_accuracy: 0.5260\n",
      "Epoch 8/20\n",
      "160045/160045 [==============================] - 37s 234us/step - loss: 0.6885 - accuracy: 0.5379 - val_loss: 0.6850 - val_accuracy: 0.5564\n",
      "Epoch 9/20\n",
      "160045/160045 [==============================] - 39s 244us/step - loss: 0.6880 - accuracy: 0.5410 - val_loss: 0.6844 - val_accuracy: 0.5556\n",
      "Epoch 10/20\n",
      "160045/160045 [==============================] - 39s 242us/step - loss: 0.6872 - accuracy: 0.5431 - val_loss: 0.6840 - val_accuracy: 0.5570\n",
      "Epoch 11/20\n",
      "160045/160045 [==============================] - 38s 236us/step - loss: 0.6867 - accuracy: 0.5468 - val_loss: 0.6815 - val_accuracy: 0.5642\n",
      "Epoch 12/20\n",
      "160045/160045 [==============================] - 38s 237us/step - loss: 0.6864 - accuracy: 0.5472 - val_loss: 0.6823 - val_accuracy: 0.5592\n",
      "Epoch 13/20\n",
      "160045/160045 [==============================] - 37s 230us/step - loss: 0.6857 - accuracy: 0.5490 - val_loss: 0.6823 - val_accuracy: 0.5588\n",
      "Epoch 14/20\n",
      "160045/160045 [==============================] - 39s 247us/step - loss: 0.6849 - accuracy: 0.5516 - val_loss: 0.6867 - val_accuracy: 0.5345\n",
      "Epoch 15/20\n",
      "160045/160045 [==============================] - 39s 243us/step - loss: 0.6842 - accuracy: 0.5548 - val_loss: 0.6792 - val_accuracy: 0.5690\n",
      "Epoch 16/20\n",
      "160045/160045 [==============================] - 39s 245us/step - loss: 0.6841 - accuracy: 0.5556 - val_loss: 0.6801 - val_accuracy: 0.5686\n",
      "Epoch 17/20\n",
      "160045/160045 [==============================] - 39s 247us/step - loss: 0.6839 - accuracy: 0.5557 - val_loss: 0.6795 - val_accuracy: 0.5716\n",
      "Epoch 18/20\n",
      "160045/160045 [==============================] - 40s 252us/step - loss: 0.6836 - accuracy: 0.5567 - val_loss: 0.6817 - val_accuracy: 0.5587\n",
      "Epoch 19/20\n",
      "160045/160045 [==============================] - 40s 249us/step - loss: 0.6832 - accuracy: 0.5581 - val_loss: 0.6816 - val_accuracy: 0.5610\n",
      "Epoch 20/20\n",
      "160045/160045 [==============================] - 38s 240us/step - loss: 0.6826 - accuracy: 0.5594 - val_loss: 0.6790 - val_accuracy: 0.5699\n"
     ]
    }
   ],
   "source": [
    "history = model.fit(E8X_train, E8Y_train, batch_size=64, validation_data=(E8X_test, E8Y_test), epochs=20)"
   ]
  },
  {
   "cell_type": "code",
   "execution_count": 35,
   "metadata": {},
   "outputs": [
    {
     "data": {
      "image/png": "[encoded data removed]",
      "text/plain": [
       "<Figure size 432x288 with 2 Axes>"
      ]
     },
     "metadata": {
      "needs_background": "light"
     },
     "output_type": "display_data"
    }
   ],
   "source": [
    "summarize_diagnostics(history)"
   ]
  },
  {
   "cell_type": "markdown",
   "metadata": {},
   "source": [
    "# kernel size = 9"
   ]
  },
  {
   "cell_type": "code",
   "execution_count": 40,
   "metadata": {},
   "outputs": [],
   "source": [
    "from keras.models import Sequential\n",
    "from keras.layers import Dense, Conv1D, Flatten, Dropout, MaxPooling1D, BatchNormalization\n",
    "\n",
    "model2 = Sequential()\n",
    "model2.add(Conv1D(32, 9, activation='relu', kernel_initializer='he_uniform', padding='same', input_shape=(50, 1)))\n",
    "model2.add(MaxPooling1D(2))\n",
    "model2.add(BatchNormalization())\n",
    "model2.add(Dropout(0.2))\n",
    "model2.add(Conv1D(64, 9, activation='relu', kernel_initializer='he_uniform', padding='same'))\n",
    "model2.add(MaxPooling1D(2))\n",
    "model2.add(BatchNormalization())\n",
    "model2.add(Dropout(0.2))\n",
    "model2.add(Conv1D(128, 9, activation='relu', kernel_initializer='he_uniform', padding='same'))\n",
    "model2.add(MaxPooling1D(2))\n",
    "model2.add(BatchNormalization())\n",
    "model2.add(Dropout(0.2))\n",
    "model2.add(Flatten())\n",
    "model2.add(Dense(128, activation='relu', kernel_initializer='he_uniform'))\n",
    "model2.add(Dropout(0.2))\n",
    "model2.add(Dense(1, activation='sigmoid'))"
   ]
  },
  {
   "cell_type": "code",
   "execution_count": 41,
   "metadata": {},
   "outputs": [],
   "source": [
    "from keras.optimizers import Adam\n",
    "opt = Adam(lr=0.0001)\n",
    "model2.compile(loss='binary_crossentropy', optimizer=opt, metrics=['accuracy'])"
   ]
  },
  {
   "cell_type": "code",
   "execution_count": 42,
   "metadata": {},
   "outputs": [
    {
     "name": "stdout",
     "output_type": "stream",
     "text": [
      "Train on 160045 samples, validate on 40012 samples\n",
      "Epoch 1/20\n",
      "160045/160045 [==============================] - 45s 282us/step - loss: 0.7053 - accuracy: 0.5126 - val_loss: 0.6917 - val_accuracy: 0.5174\n",
      "Epoch 2/20\n",
      "160045/160045 [==============================] - 45s 282us/step - loss: 0.6909 - accuracy: 0.5267 - val_loss: 0.6870 - val_accuracy: 0.5424\n",
      "Epoch 3/20\n",
      "160045/160045 [==============================] - 43s 267us/step - loss: 0.6896 - accuracy: 0.5321 - val_loss: 0.6878 - val_accuracy: 0.5386\n",
      "Epoch 4/20\n",
      "160045/160045 [==============================] - 43s 270us/step - loss: 0.6881 - accuracy: 0.5393 - val_loss: 0.6844 - val_accuracy: 0.5533\n",
      "Epoch 5/20\n",
      "160045/160045 [==============================] - 44s 276us/step - loss: 0.6867 - accuracy: 0.5451 - val_loss: 0.6874 - val_accuracy: 0.5331\n",
      "Epoch 6/20\n",
      "160045/160045 [==============================] - 46s 289us/step - loss: 0.6854 - accuracy: 0.5489 - val_loss: 0.6903 - val_accuracy: 0.5267\n",
      "Epoch 7/20\n",
      "160045/160045 [==============================] - 41s 258us/step - loss: 0.6842 - accuracy: 0.5531 - val_loss: 0.6885 - val_accuracy: 0.5422\n",
      "Epoch 8/20\n",
      "160045/160045 [==============================] - 42s 265us/step - loss: 0.6833 - accuracy: 0.5555 - val_loss: 0.6927 - val_accuracy: 0.5303\n",
      "Epoch 9/20\n",
      "160045/160045 [==============================] - 43s 268us/step - loss: 0.6827 - accuracy: 0.5579 - val_loss: 0.6878 - val_accuracy: 0.5419\n",
      "Epoch 10/20\n",
      "160045/160045 [==============================] - 43s 269us/step - loss: 0.6818 - accuracy: 0.5612 - val_loss: 0.6981 - val_accuracy: 0.5218\n",
      "Epoch 11/20\n",
      "160045/160045 [==============================] - 40s 247us/step - loss: 0.6814 - accuracy: 0.5617 - val_loss: 0.6851 - val_accuracy: 0.5493\n",
      "Epoch 12/20\n",
      "160045/160045 [==============================] - 43s 266us/step - loss: 0.6805 - accuracy: 0.5633 - val_loss: 0.6820 - val_accuracy: 0.5580\n",
      "Epoch 13/20\n",
      "160045/160045 [==============================] - 45s 279us/step - loss: 0.6803 - accuracy: 0.5637 - val_loss: 0.6934 - val_accuracy: 0.5305\n",
      "Epoch 14/20\n",
      "160045/160045 [==============================] - 43s 268us/step - loss: 0.6797 - accuracy: 0.5646 - val_loss: 0.6857 - val_accuracy: 0.5524\n",
      "Epoch 15/20\n",
      "160045/160045 [==============================] - 43s 266us/step - loss: 0.6798 - accuracy: 0.5659 - val_loss: 0.6883 - val_accuracy: 0.5467\n",
      "Epoch 16/20\n",
      "160045/160045 [==============================] - 42s 264us/step - loss: 0.6792 - accuracy: 0.5653 - val_loss: 0.6948 - val_accuracy: 0.5355\n",
      "Epoch 17/20\n",
      "160045/160045 [==============================] - 41s 257us/step - loss: 0.6794 - accuracy: 0.5646 - val_loss: 0.6856 - val_accuracy: 0.5524\n",
      "Epoch 18/20\n",
      "160045/160045 [==============================] - 42s 262us/step - loss: 0.6795 - accuracy: 0.5654 - val_loss: 0.6955 - val_accuracy: 0.5379\n",
      "Epoch 19/20\n",
      "160045/160045 [==============================] - 41s 256us/step - loss: 0.6793 - accuracy: 0.5659 - val_loss: 0.6781 - val_accuracy: 0.5658\n",
      "Epoch 20/20\n",
      "160045/160045 [==============================] - 42s 261us/step - loss: 0.6786 - accuracy: 0.5662 - val_loss: 0.6949 - val_accuracy: 0.5374\n"
     ]
    }
   ],
   "source": [
    "history2 = model2.fit(E8X_train, E8Y_train, batch_size=64, validation_data=(E8X_test, E8Y_test), epochs=20)"
   ]
  },
  {
   "cell_type": "code",
   "execution_count": 43,
   "metadata": {},
   "outputs": [
    {
     "data": {
      "image/png": "[encoded data removed]",
      "text/plain": [
       "<Figure size 432x288 with 2 Axes>"
      ]
     },
     "metadata": {
      "needs_background": "light"
     },
     "output_type": "display_data"
    }
   ],
   "source": [
    "summarize_diagnostics(history2)"
   ]
  },
  {
   "cell_type": "markdown",
   "metadata": {},
   "source": [
    "# kernel size = 15"
   ]
  },
  {
   "cell_type": "code",
   "execution_count": 45,
   "metadata": {},
   "outputs": [],
   "source": [
    "from keras.models import Sequential\n",
    "from keras.layers import Dense, Conv1D, Flatten, Dropout, MaxPooling1D, BatchNormalization\n",
    "\n",
    "model3 = Sequential()\n",
    "model3.add(Conv1D(32, 15, activation='relu', kernel_initializer='he_uniform', padding='same', input_shape=(50, 1)))\n",
    "model3.add(MaxPooling1D(2))\n",
    "model3.add(BatchNormalization())\n",
    "model3.add(Dropout(0.2))\n",
    "model3.add(Conv1D(64, 15, activation='relu', kernel_initializer='he_uniform', padding='same'))\n",
    "model3.add(MaxPooling1D(2))\n",
    "model3.add(BatchNormalization())\n",
    "model3.add(Dropout(0.2))\n",
    "model3.add(Conv1D(128, 15, activation='relu', kernel_initializer='he_uniform', padding='same'))\n",
    "model3.add(MaxPooling1D(2))\n",
    "model3.add(BatchNormalization())\n",
    "model3.add(Dropout(0.2))\n",
    "model3.add(Flatten())\n",
    "model3.add(Dense(128, activation='relu', kernel_initializer='he_uniform'))\n",
    "model3.add(Dropout(0.2))\n",
    "model3.add(Dense(1, activation='sigmoid'))"
   ]
  },
  {
   "cell_type": "code",
   "execution_count": 47,
   "metadata": {},
   "outputs": [],
   "source": [
    "from keras.optimizers import Adam\n",
    "opt = Adam(lr=0.0001)\n",
    "model3.compile(loss='binary_crossentropy', optimizer=opt, metrics=['accuracy'])"
   ]
  },
  {
   "cell_type": "code",
   "execution_count": 48,
   "metadata": {},
   "outputs": [
    {
     "name": "stdout",
     "output_type": "stream",
     "text": [
      "Train on 160045 samples, validate on 40012 samples\n",
      "Epoch 1/20\n",
      "160045/160045 [==============================] - 48s 299us/step - loss: 0.7053 - accuracy: 0.5167 - val_loss: 0.6880 - val_accuracy: 0.5407\n",
      "Epoch 2/20\n",
      "160045/160045 [==============================] - 46s 288us/step - loss: 0.6894 - accuracy: 0.5334 - val_loss: 0.7035 - val_accuracy: 0.5024\n",
      "Epoch 3/20\n",
      "160045/160045 [==============================] - 45s 283us/step - loss: 0.6875 - accuracy: 0.5420 - val_loss: 0.6865 - val_accuracy: 0.5349\n",
      "Epoch 4/20\n",
      "160045/160045 [==============================] - 46s 286us/step - loss: 0.6857 - accuracy: 0.5487 - val_loss: 0.6867 - val_accuracy: 0.5402\n",
      "Epoch 5/20\n",
      "160045/160045 [==============================] - 46s 288us/step - loss: 0.6837 - accuracy: 0.5549 - val_loss: 0.6849 - val_accuracy: 0.5481\n",
      "Epoch 6/20\n",
      "160045/160045 [==============================] - 46s 290us/step - loss: 0.6825 - accuracy: 0.5582 - val_loss: 0.6912 - val_accuracy: 0.5293\n",
      "Epoch 7/20\n",
      "160045/160045 [==============================] - 47s 293us/step - loss: 0.6812 - accuracy: 0.5615 - val_loss: 0.6848 - val_accuracy: 0.5431\n",
      "Epoch 8/20\n",
      "160045/160045 [==============================] - 46s 285us/step - loss: 0.6806 - accuracy: 0.5634 - val_loss: 0.6874 - val_accuracy: 0.5527\n",
      "Epoch 9/20\n",
      "160045/160045 [==============================] - 46s 291us/step - loss: 0.6799 - accuracy: 0.5659 - val_loss: 0.6922 - val_accuracy: 0.5329\n",
      "Epoch 10/20\n",
      "160045/160045 [==============================] - 46s 287us/step - loss: 0.6792 - accuracy: 0.5660 - val_loss: 0.6851 - val_accuracy: 0.5529\n",
      "Epoch 11/20\n",
      "160045/160045 [==============================] - 46s 288us/step - loss: 0.6787 - accuracy: 0.5680 - val_loss: 0.6826 - val_accuracy: 0.5571\n",
      "Epoch 12/20\n",
      "160045/160045 [==============================] - 47s 291us/step - loss: 0.6782 - accuracy: 0.5678 - val_loss: 0.6863 - val_accuracy: 0.5527\n",
      "Epoch 13/20\n",
      "160045/160045 [==============================] - 47s 297us/step - loss: 0.6785 - accuracy: 0.5680 - val_loss: 0.6894 - val_accuracy: 0.5440\n",
      "Epoch 14/20\n",
      "160045/160045 [==============================] - 47s 296us/step - loss: 0.6774 - accuracy: 0.5675 - val_loss: 0.6802 - val_accuracy: 0.5647\n",
      "Epoch 15/20\n",
      "160045/160045 [==============================] - 48s 298us/step - loss: 0.6774 - accuracy: 0.5704 - val_loss: 0.6883 - val_accuracy: 0.5433\n",
      "Epoch 16/20\n",
      "160045/160045 [==============================] - 47s 291us/step - loss: 0.6768 - accuracy: 0.5718 - val_loss: 0.6848 - val_accuracy: 0.5516\n",
      "Epoch 17/20\n",
      "160045/160045 [==============================] - 46s 290us/step - loss: 0.6770 - accuracy: 0.5719 - val_loss: 0.6811 - val_accuracy: 0.5566\n",
      "Epoch 18/20\n",
      "160045/160045 [==============================] - 47s 292us/step - loss: 0.6765 - accuracy: 0.5718 - val_loss: 0.6876 - val_accuracy: 0.5462\n",
      "Epoch 19/20\n",
      "160045/160045 [==============================] - 46s 287us/step - loss: 0.6765 - accuracy: 0.5725 - val_loss: 0.6864 - val_accuracy: 0.5515\n",
      "Epoch 20/20\n",
      "160045/160045 [==============================] - 46s 286us/step - loss: 0.6763 - accuracy: 0.5722 - val_loss: 0.6874 - val_accuracy: 0.5527\n"
     ]
    }
   ],
   "source": [
    "history3 = model3.fit(E8X_train, E8Y_train, batch_size=64, validation_data=(E8X_test, E8Y_test), epochs=20)"
   ]
  },
  {
   "cell_type": "code",
   "execution_count": 49,
   "metadata": {},
   "outputs": [
    {
     "data": {
      "image/png": "[encoded data removed]",
      "text/plain": [
       "<Figure size 432x288 with 2 Axes>"
      ]
     },
     "metadata": {
      "needs_background": "light"
     },
     "output_type": "display_data"
    }
   ],
   "source": [
    "summarize_diagnostics(history3)"
   ]
  },
  {
   "cell_type": "markdown",
   "metadata": {},
   "source": [
    "# kernel size = 25"
   ]
  },
  {
   "cell_type": "code",
   "execution_count": 50,
   "metadata": {},
   "outputs": [],
   "source": [
    "from keras.models import Sequential\n",
    "from keras.layers import Dense, Conv1D, Flatten, Dropout, MaxPooling1D, BatchNormalization\n",
    "\n",
    "model4 = Sequential()\n",
    "model4.add(Conv1D(32, 25, activation='relu', kernel_initializer='he_uniform', padding='same', input_shape=(50, 1)))\n",
    "model4.add(MaxPooling1D(2))\n",
    "model4.add(BatchNormalization())\n",
    "model4.add(Dropout(0.2))\n",
    "model4.add(Conv1D(64, 25, activation='relu', kernel_initializer='he_uniform', padding='same'))\n",
    "model4.add(MaxPooling1D(2))\n",
    "model4.add(BatchNormalization())\n",
    "model4.add(Dropout(0.2))\n",
    "model4.add(Conv1D(128, 25, activation='relu', kernel_initializer='he_uniform', padding='same'))\n",
    "model4.add(MaxPooling1D(2))\n",
    "model4.add(BatchNormalization())\n",
    "model4.add(Dropout(0.2))\n",
    "model4.add(Flatten())\n",
    "model4.add(Dense(128, activation='relu', kernel_initializer='he_uniform'))\n",
    "model4.add(Dropout(0.2))\n",
    "model4.add(Dense(1, activation='sigmoid'))"
   ]
  },
  {
   "cell_type": "code",
   "execution_count": 51,
   "metadata": {},
   "outputs": [],
   "source": [
    "from keras.optimizers import Adam\n",
    "opt = Adam(lr=0.0001)\n",
    "model4.compile(loss='binary_crossentropy', optimizer=opt, metrics=['accuracy'])"
   ]
  },
  {
   "cell_type": "code",
   "execution_count": 52,
   "metadata": {},
   "outputs": [
    {
     "name": "stdout",
     "output_type": "stream",
     "text": [
      "Train on 160045 samples, validate on 40012 samples\n",
      "Epoch 1/20\n",
      "160045/160045 [==============================] - 53s 331us/step - loss: 0.7002 - accuracy: 0.5192 - val_loss: 0.6906 - val_accuracy: 0.5166\n",
      "Epoch 2/20\n",
      "160045/160045 [==============================] - 52s 323us/step - loss: 0.6893 - accuracy: 0.5332 - val_loss: 0.6883 - val_accuracy: 0.5260\n",
      "Epoch 3/20\n",
      "160045/160045 [==============================] - 52s 322us/step - loss: 0.6869 - accuracy: 0.5434 - val_loss: 0.6902 - val_accuracy: 0.5288\n",
      "Epoch 4/20\n",
      "160045/160045 [==============================] - 52s 327us/step - loss: 0.6848 - accuracy: 0.5510 - val_loss: 0.6840 - val_accuracy: 0.5439\n",
      "Epoch 5/20\n",
      "160045/160045 [==============================] - 56s 349us/step - loss: 0.6834 - accuracy: 0.5559 - val_loss: 0.6846 - val_accuracy: 0.5429\n",
      "Epoch 6/20\n",
      "160045/160045 [==============================] - 51s 318us/step - loss: 0.6817 - accuracy: 0.5598 - val_loss: 0.6886 - val_accuracy: 0.5491\n",
      "Epoch 7/20\n",
      "160045/160045 [==============================] - 51s 319us/step - loss: 0.6817 - accuracy: 0.5592 - val_loss: 0.6799 - val_accuracy: 0.5623\n",
      "Epoch 8/20\n",
      "160045/160045 [==============================] - 51s 320us/step - loss: 0.6805 - accuracy: 0.5620 - val_loss: 0.6776 - val_accuracy: 0.5681\n",
      "Epoch 9/20\n",
      "160045/160045 [==============================] - 52s 325us/step - loss: 0.6799 - accuracy: 0.5634 - val_loss: 0.6790 - val_accuracy: 0.5597\n",
      "Epoch 10/20\n",
      "160045/160045 [==============================] - 53s 329us/step - loss: 0.6790 - accuracy: 0.5662 - val_loss: 0.6803 - val_accuracy: 0.5596\n",
      "Epoch 11/20\n",
      "160045/160045 [==============================] - 54s 336us/step - loss: 0.6788 - accuracy: 0.5669 - val_loss: 0.6844 - val_accuracy: 0.5530\n",
      "Epoch 12/20\n",
      "160045/160045 [==============================] - 52s 328us/step - loss: 0.6784 - accuracy: 0.5678 - val_loss: 0.6783 - val_accuracy: 0.5619\n",
      "Epoch 13/20\n",
      "160045/160045 [==============================] - 56s 349us/step - loss: 0.6778 - accuracy: 0.5693 - val_loss: 0.6832 - val_accuracy: 0.5589\n",
      "Epoch 14/20\n",
      "160045/160045 [==============================] - 52s 322us/step - loss: 0.6772 - accuracy: 0.5703 - val_loss: 0.6805 - val_accuracy: 0.5651\n",
      "Epoch 15/20\n",
      "160045/160045 [==============================] - 52s 322us/step - loss: 0.6765 - accuracy: 0.5711 - val_loss: 0.6791 - val_accuracy: 0.5603\n",
      "Epoch 16/20\n",
      "160045/160045 [==============================] - 54s 337us/step - loss: 0.6765 - accuracy: 0.5713 - val_loss: 0.6775 - val_accuracy: 0.5630\n",
      "Epoch 17/20\n",
      "160045/160045 [==============================] - 54s 337us/step - loss: 0.6762 - accuracy: 0.5719 - val_loss: 0.6763 - val_accuracy: 0.5653\n",
      "Epoch 18/20\n",
      "160045/160045 [==============================] - 52s 323us/step - loss: 0.6757 - accuracy: 0.5725 - val_loss: 0.6776 - val_accuracy: 0.5660\n",
      "Epoch 19/20\n",
      "160045/160045 [==============================] - 52s 323us/step - loss: 0.6754 - accuracy: 0.5736 - val_loss: 0.6761 - val_accuracy: 0.5696\n",
      "Epoch 20/20\n",
      "160045/160045 [==============================] - 53s 332us/step - loss: 0.6754 - accuracy: 0.5744 - val_loss: 0.6770 - val_accuracy: 0.5669\n"
     ]
    }
   ],
   "source": [
    "history4 = model4.fit(E8X_train, E8Y_train, batch_size=64, validation_data=(E8X_test, E8Y_test), epochs=20)"
   ]
  },
  {
   "cell_type": "code",
   "execution_count": 53,
   "metadata": {},
   "outputs": [
    {
     "data": {
      "image/png": "[encoded data removed]",
      "text/plain": [
       "<Figure size 432x288 with 2 Axes>"
      ]
     },
     "metadata": {
      "needs_background": "light"
     },
     "output_type": "display_data"
    }
   ],
   "source": [
    "summarize_diagnostics(history4)"
   ]
  },
  {
   "cell_type": "markdown",
   "metadata": {},
   "source": [
    "# kernel size = 30"
   ]
  },
  {
   "cell_type": "code",
   "execution_count": 58,
   "metadata": {},
   "outputs": [],
   "source": [
    "from keras.models import Sequential\n",
    "from keras.layers import Dense, Conv1D, Flatten, Dropout, MaxPooling1D, BatchNormalization\n",
    "\n",
    "model6 = Sequential()\n",
    "model6.add(Conv1D(32, 30, activation='relu', kernel_initializer='he_uniform', padding='same', input_shape=(50, 1)))\n",
    "model6.add(MaxPooling1D(2))\n",
    "model6.add(BatchNormalization())\n",
    "model6.add(Dropout(0.2))\n",
    "model6.add(Conv1D(64, 30, activation='relu', kernel_initializer='he_uniform', padding='same'))\n",
    "model6.add(MaxPooling1D(2))\n",
    "model6.add(BatchNormalization())\n",
    "model6.add(Dropout(0.2))\n",
    "model6.add(Conv1D(128, 30, activation='relu', kernel_initializer='he_uniform', padding='same'))\n",
    "model6.add(MaxPooling1D(2))\n",
    "model6.add(BatchNormalization())\n",
    "model6.add(Dropout(0.2))\n",
    "model6.add(Flatten())\n",
    "model6.add(Dense(128, activation='relu', kernel_initializer='he_uniform'))\n",
    "model6.add(Dropout(0.2))\n",
    "model6.add(Dense(1, activation='sigmoid'))"
   ]
  },
  {
   "cell_type": "code",
   "execution_count": 59,
   "metadata": {},
   "outputs": [],
   "source": [
    "from keras.optimizers import Adam\n",
    "opt = Adam(lr=0.0001)\n",
    "model6.compile(loss='binary_crossentropy', optimizer=opt, metrics=['accuracy'])"
   ]
  },
  {
   "cell_type": "code",
   "execution_count": 60,
   "metadata": {},
   "outputs": [
    {
     "name": "stdout",
     "output_type": "stream",
     "text": [
      "Train on 160045 samples, validate on 40012 samples\n",
      "Epoch 1/20\n",
      "160045/160045 [==============================] - 56s 348us/step - loss: 0.7012 - accuracy: 0.5176 - val_loss: 0.6926 - val_accuracy: 0.5147\n",
      "Epoch 2/20\n",
      "160045/160045 [==============================] - 54s 339us/step - loss: 0.6886 - accuracy: 0.5384 - val_loss: 0.6881 - val_accuracy: 0.5332\n",
      "Epoch 3/20\n",
      "160045/160045 [==============================] - 58s 361us/step - loss: 0.6863 - accuracy: 0.5457 - val_loss: 0.6912 - val_accuracy: 0.5390\n",
      "Epoch 4/20\n",
      "160045/160045 [==============================] - 55s 346us/step - loss: 0.6840 - accuracy: 0.5538 - val_loss: 0.6820 - val_accuracy: 0.5548\n",
      "Epoch 5/20\n",
      "160045/160045 [==============================] - 53s 328us/step - loss: 0.6829 - accuracy: 0.5568 - val_loss: 0.7023 - val_accuracy: 0.5245\n",
      "Epoch 6/20\n",
      "160045/160045 [==============================] - 54s 339us/step - loss: 0.6822 - accuracy: 0.5599 - val_loss: 0.6859 - val_accuracy: 0.5458\n",
      "Epoch 7/20\n",
      "160045/160045 [==============================] - 56s 348us/step - loss: 0.6809 - accuracy: 0.5613 - val_loss: 0.6887 - val_accuracy: 0.5531\n",
      "Epoch 8/20\n",
      "160045/160045 [==============================] - 57s 359us/step - loss: 0.6799 - accuracy: 0.5626 - val_loss: 0.6953 - val_accuracy: 0.5424\n",
      "Epoch 9/20\n",
      "160045/160045 [==============================] - 55s 342us/step - loss: 0.6793 - accuracy: 0.5649 - val_loss: 0.7035 - val_accuracy: 0.5419\n",
      "Epoch 10/20\n",
      "160045/160045 [==============================] - 57s 356us/step - loss: 0.6786 - accuracy: 0.5659 - val_loss: 0.6826 - val_accuracy: 0.5580\n",
      "Epoch 11/20\n",
      "160045/160045 [==============================] - 57s 357us/step - loss: 0.6781 - accuracy: 0.5682 - val_loss: 0.6825 - val_accuracy: 0.5535\n",
      "Epoch 12/20\n",
      "160045/160045 [==============================] - 57s 356us/step - loss: 0.6771 - accuracy: 0.5698 - val_loss: 0.6854 - val_accuracy: 0.5541\n",
      "Epoch 13/20\n",
      "160045/160045 [==============================] - 55s 345us/step - loss: 0.6765 - accuracy: 0.5713 - val_loss: 0.6762 - val_accuracy: 0.5697\n",
      "Epoch 14/20\n",
      "160045/160045 [==============================] - 56s 348us/step - loss: 0.6766 - accuracy: 0.5712 - val_loss: 0.6785 - val_accuracy: 0.5626\n",
      "Epoch 15/20\n",
      "160045/160045 [==============================] - 57s 359us/step - loss: 0.6764 - accuracy: 0.5720 - val_loss: 0.6744 - val_accuracy: 0.5742\n",
      "Epoch 16/20\n",
      "160045/160045 [==============================] - 59s 368us/step - loss: 0.6752 - accuracy: 0.5755 - val_loss: 0.6786 - val_accuracy: 0.5635\n",
      "Epoch 17/20\n",
      "160045/160045 [==============================] - 60s 375us/step - loss: 0.6756 - accuracy: 0.5730 - val_loss: 0.6755 - val_accuracy: 0.5678\n",
      "Epoch 18/20\n",
      "160045/160045 [==============================] - 59s 370us/step - loss: 0.6750 - accuracy: 0.5762 - val_loss: 0.6820 - val_accuracy: 0.5582\n",
      "Epoch 19/20\n",
      "160045/160045 [==============================] - 58s 360us/step - loss: 0.6750 - accuracy: 0.5737 - val_loss: 0.6789 - val_accuracy: 0.5688\n",
      "Epoch 20/20\n",
      "160045/160045 [==============================] - 55s 346us/step - loss: 0.6747 - accuracy: 0.5749 - val_loss: 0.6736 - val_accuracy: 0.5763\n"
     ]
    }
   ],
   "source": [
    "history6 = model6.fit(E8X_train, E8Y_train, batch_size=64, validation_data=(E8X_test, E8Y_test), epochs=20)"
   ]
  },
  {
   "cell_type": "code",
   "execution_count": 61,
   "metadata": {},
   "outputs": [
    {
     "data": {
      "image/png": "[encoded data removed]",
      "text/plain": [
       "<Figure size 432x288 with 2 Axes>"
      ]
     },
     "metadata": {
      "needs_background": "light"
     },
     "output_type": "display_data"
    }
   ],
   "source": [
    "summarize_diagnostics(history6)"
   ]
  },
  {
   "cell_type": "markdown",
   "metadata": {},
   "source": [
    "# kernel size = 50"
   ]
  },
  {
   "cell_type": "code",
   "execution_count": 76,
   "metadata": {},
   "outputs": [],
   "source": [
    "from keras.models import Sequential\n",
    "from keras.layers import Dense, Conv1D, Flatten, Dropout, MaxPooling1D, BatchNormalization\n",
    "\n",
    "model5 = Sequential()\n",
    "model5.add(Conv1D(32, 50, activation='relu', kernel_initializer='he_uniform', padding='same', input_shape=(50, 1)))\n",
    "model5.add(MaxPooling1D(2))\n",
    "model5.add(BatchNormalization())\n",
    "model5.add(Conv1D(64, 50, activation='relu', kernel_initializer='he_uniform', padding='same'))\n",
    "model5.add(MaxPooling1D(2))\n",
    "model5.add(BatchNormalization())\n",
    "model5.add(Conv1D(128, 50, activation='relu', kernel_initializer='he_uniform', padding='same'))\n",
    "model5.add(MaxPooling1D(2))\n",
    "model5.add(BatchNormalization())\n",
    "model5.add(Flatten())\n",
    "model5.add(Dense(128, activation='relu', kernel_initializer='he_uniform'))\n",
    "model5.add(Dropout(0.2))\n",
    "model5.add(Dense(1, activation='sigmoid'))"
   ]
  },
  {
   "cell_type": "code",
   "execution_count": 77,
   "metadata": {},
   "outputs": [],
   "source": [
    "from keras.optimizers import Adam\n",
    "opt = Adam(lr=0.00001)\n",
    "model5.compile(loss='binary_crossentropy', optimizer=opt, metrics=['accuracy'])"
   ]
  },
  {
   "cell_type": "code",
   "execution_count": 78,
   "metadata": {},
   "outputs": [
    {
     "name": "stdout",
     "output_type": "stream",
     "text": [
      "Train on 160045 samples, validate on 40012 samples\n",
      "Epoch 1/20\n",
      "160045/160045 [==============================] - 97s 604us/step - loss: 0.6929 - accuracy: 0.5464 - val_loss: 0.6794 - val_accuracy: 0.5652\n",
      "Epoch 2/20\n",
      "160045/160045 [==============================] - 94s 587us/step - loss: 0.6785 - accuracy: 0.5678 - val_loss: 0.6746 - val_accuracy: 0.5722\n",
      "Epoch 3/20\n",
      "160045/160045 [==============================] - 94s 589us/step - loss: 0.6759 - accuracy: 0.5719 - val_loss: 0.6736 - val_accuracy: 0.5763\n",
      "Epoch 4/20\n",
      "160045/160045 [==============================] - 94s 589us/step - loss: 0.6740 - accuracy: 0.5764 - val_loss: 0.6743 - val_accuracy: 0.5739\n",
      "Epoch 5/20\n",
      "160045/160045 [==============================] - 93s 581us/step - loss: 0.6726 - accuracy: 0.5785 - val_loss: 0.6726 - val_accuracy: 0.5773\n",
      "Epoch 6/20\n",
      "160045/160045 [==============================] - 91s 568us/step - loss: 0.6719 - accuracy: 0.5793 - val_loss: 0.6732 - val_accuracy: 0.5737\n",
      "Epoch 7/20\n",
      "160045/160045 [==============================] - 93s 579us/step - loss: 0.6709 - accuracy: 0.5819 - val_loss: 0.6706 - val_accuracy: 0.5798\n",
      "Epoch 8/20\n",
      "160045/160045 [==============================] - 92s 575us/step - loss: 0.6703 - accuracy: 0.5816 - val_loss: 0.6715 - val_accuracy: 0.5782\n",
      "Epoch 9/20\n",
      "160045/160045 [==============================] - 94s 585us/step - loss: 0.6699 - accuracy: 0.5822 - val_loss: 0.6715 - val_accuracy: 0.5788\n",
      "Epoch 10/20\n",
      "160045/160045 [==============================] - 92s 577us/step - loss: 0.6694 - accuracy: 0.5836 - val_loss: 0.6708 - val_accuracy: 0.5812\n",
      "Epoch 11/20\n",
      "160045/160045 [==============================] - 93s 584us/step - loss: 0.6689 - accuracy: 0.5845 - val_loss: 0.6721 - val_accuracy: 0.5751\n",
      "Epoch 12/20\n",
      "160045/160045 [==============================] - 93s 580us/step - loss: 0.6688 - accuracy: 0.5843 - val_loss: 0.6733 - val_accuracy: 0.5782\n",
      "Epoch 13/20\n",
      "160045/160045 [==============================] - 94s 588us/step - loss: 0.6679 - accuracy: 0.5857 - val_loss: 0.6705 - val_accuracy: 0.5816\n",
      "Epoch 14/20\n",
      "160045/160045 [==============================] - 93s 579us/step - loss: 0.6676 - accuracy: 0.5861 - val_loss: 0.6727 - val_accuracy: 0.5766\n",
      "Epoch 15/20\n",
      "160045/160045 [==============================] - 94s 586us/step - loss: 0.6674 - accuracy: 0.5865 - val_loss: 0.6707 - val_accuracy: 0.5782\n",
      "Epoch 16/20\n",
      "160045/160045 [==============================] - 92s 578us/step - loss: 0.6671 - accuracy: 0.5870 - val_loss: 0.6719 - val_accuracy: 0.5768\n",
      "Epoch 17/20\n",
      "160045/160045 [==============================] - 94s 587us/step - loss: 0.6666 - accuracy: 0.5879 - val_loss: 0.6690 - val_accuracy: 0.5833\n",
      "Epoch 18/20\n",
      "160045/160045 [==============================] - 93s 583us/step - loss: 0.6666 - accuracy: 0.5885 - val_loss: 0.6685 - val_accuracy: 0.5840\n",
      "Epoch 19/20\n",
      "160045/160045 [==============================] - 95s 594us/step - loss: 0.6657 - accuracy: 0.5884 - val_loss: 0.6703 - val_accuracy: 0.5807\n",
      "Epoch 20/20\n",
      "160045/160045 [==============================] - 93s 583us/step - loss: 0.6654 - accuracy: 0.5884 - val_loss: 0.6702 - val_accuracy: 0.5801\n"
     ]
    }
   ],
   "source": [
    "history5 = model5.fit(E8X_train, E8Y_train, batch_size=64, validation_data=(E8X_test, E8Y_test), epochs=20)"
   ]
  },
  {
   "cell_type": "code",
   "execution_count": null,
   "metadata": {},
   "outputs": [],
   "source": [
    "# 57.41"
   ]
  },
  {
   "cell_type": "code",
   "execution_count": 79,
   "metadata": {},
   "outputs": [
    {
     "data": {
      "image/png": "[encoded data removed]",
      "text/plain": [
       "<Figure size 432x288 with 2 Axes>"
      ]
     },
     "metadata": {
      "needs_background": "light"
     },
     "output_type": "display_data"
    }
   ],
   "source": [
    "summarize_diagnostics(history5)"
   ]
  },
  {
   "cell_type": "code",
   "execution_count": 62,
   "metadata": {},
   "outputs": [
    {
     "name": "stdout",
     "output_type": "stream",
     "text": [
      "Model: \"sequential_8\"\n",
      "_________________________________________________________________\n",
      "Layer (type)                 Output Shape              Param #   \n",
      "=================================================================\n",
      "conv1d_22 (Conv1D)           (None, 50, 32)            1632      \n",
      "_________________________________________________________________\n",
      "max_pooling1d_22 (MaxPooling (None, 25, 32)            0         \n",
      "_________________________________________________________________\n",
      "batch_normalization_22 (Batc (None, 25, 32)            128       \n",
      "_________________________________________________________________\n",
      "dropout_29 (Dropout)         (None, 25, 32)            0         \n",
      "_________________________________________________________________\n",
      "conv1d_23 (Conv1D)           (None, 25, 64)            102464    \n",
      "_________________________________________________________________\n",
      "max_pooling1d_23 (MaxPooling (None, 12, 64)            0         \n",
      "_________________________________________________________________\n",
      "batch_normalization_23 (Batc (None, 12, 64)            256       \n",
      "_________________________________________________________________\n",
      "dropout_30 (Dropout)         (None, 12, 64)            0         \n",
      "_________________________________________________________________\n",
      "conv1d_24 (Conv1D)           (None, 12, 128)           409728    \n",
      "_________________________________________________________________\n",
      "max_pooling1d_24 (MaxPooling (None, 6, 128)            0         \n",
      "_________________________________________________________________\n",
      "batch_normalization_24 (Batc (None, 6, 128)            512       \n",
      "_________________________________________________________________\n",
      "dropout_31 (Dropout)         (None, 6, 128)            0         \n",
      "_________________________________________________________________\n",
      "flatten_8 (Flatten)          (None, 768)               0         \n",
      "_________________________________________________________________\n",
      "dense_15 (Dense)             (None, 128)               98432     \n",
      "_________________________________________________________________\n",
      "dropout_32 (Dropout)         (None, 128)               0         \n",
      "_________________________________________________________________\n",
      "dense_16 (Dense)             (None, 1)                 129       \n",
      "=================================================================\n",
      "Total params: 613,281\n",
      "Trainable params: 612,833\n",
      "Non-trainable params: 448\n",
      "_________________________________________________________________\n"
     ]
    }
   ],
   "source": [
    "model5.summary()"
   ]
  },
  {
   "cell_type": "code",
   "execution_count": 68,
   "metadata": {},
   "outputs": [],
   "source": [
    "model7 = Sequential()\n",
    "#model1.add(Input(shape=(21,1)))\n",
    "model7.add(Flatten(input_shape=(50,1)))\n",
    "model7.add(BatchNormalization())\n",
    "model7.add(Dense(25, activation='relu', kernel_initializer='he_uniform'))\n",
    "model7.add(Dense(10, activation='relu', kernel_initializer='he_uniform'))\n",
    "model7.add(Dense(1, activation='sigmoid'))"
   ]
  },
  {
   "cell_type": "code",
   "execution_count": 69,
   "metadata": {},
   "outputs": [],
   "source": [
    "from keras.optimizers import Adam\n",
    "opt = Adam(lr=0.0001)\n",
    "model7.compile(loss='binary_crossentropy', optimizer=opt, metrics=['accuracy'])"
   ]
  },
  {
   "cell_type": "code",
   "execution_count": 70,
   "metadata": {
    "scrolled": true
   },
   "outputs": [
    {
     "name": "stdout",
     "output_type": "stream",
     "text": [
      "Train on 160045 samples, validate on 40012 samples\n",
      "Epoch 1/20\n",
      "160045/160045 [==============================] - 8s 47us/step - loss: 0.6896 - accuracy: 0.5389 - val_loss: 0.6872 - val_accuracy: 0.5465\n",
      "Epoch 2/20\n",
      "160045/160045 [==============================] - 6s 35us/step - loss: 0.6848 - accuracy: 0.5531 - val_loss: 0.6834 - val_accuracy: 0.5554\n",
      "Epoch 3/20\n",
      "160045/160045 [==============================] - 5s 31us/step - loss: 0.6812 - accuracy: 0.5611 - val_loss: 0.6809 - val_accuracy: 0.5630\n",
      "Epoch 4/20\n",
      "160045/160045 [==============================] - 8s 51us/step - loss: 0.6793 - accuracy: 0.5667 - val_loss: 0.6792 - val_accuracy: 0.5674\n",
      "Epoch 5/20\n",
      "160045/160045 [==============================] - 7s 44us/step - loss: 0.6779 - accuracy: 0.5682 - val_loss: 0.6782 - val_accuracy: 0.5674\n",
      "Epoch 6/20\n",
      "160045/160045 [==============================] - 5s 33us/step - loss: 0.6770 - accuracy: 0.5698 - val_loss: 0.6776 - val_accuracy: 0.5685\n",
      "Epoch 7/20\n",
      "160045/160045 [==============================] - 7s 42us/step - loss: 0.6766 - accuracy: 0.5699 - val_loss: 0.6777 - val_accuracy: 0.5691\n",
      "Epoch 8/20\n",
      "160045/160045 [==============================] - 8s 48us/step - loss: 0.6757 - accuracy: 0.5727 - val_loss: 0.6765 - val_accuracy: 0.5708\n",
      "Epoch 9/20\n",
      "160045/160045 [==============================] - 8s 48us/step - loss: 0.6756 - accuracy: 0.5715 - val_loss: 0.6763 - val_accuracy: 0.5711\n",
      "Epoch 10/20\n",
      "160045/160045 [==============================] - 7s 42us/step - loss: 0.6751 - accuracy: 0.5731 - val_loss: 0.6759 - val_accuracy: 0.5720\n",
      "Epoch 11/20\n",
      "160045/160045 [==============================] - 8s 51us/step - loss: 0.6749 - accuracy: 0.5736 - val_loss: 0.6767 - val_accuracy: 0.5707\n",
      "Epoch 12/20\n",
      "160045/160045 [==============================] - 8s 50us/step - loss: 0.6746 - accuracy: 0.5744 - val_loss: 0.6755 - val_accuracy: 0.5718\n",
      "Epoch 13/20\n",
      "160045/160045 [==============================] - 6s 39us/step - loss: 0.6744 - accuracy: 0.5749 - val_loss: 0.6753 - val_accuracy: 0.5731\n",
      "Epoch 14/20\n",
      "160045/160045 [==============================] - 6s 37us/step - loss: 0.6741 - accuracy: 0.5752 - val_loss: 0.6754 - val_accuracy: 0.5720\n",
      "Epoch 15/20\n",
      "160045/160045 [==============================] - 5s 34us/step - loss: 0.6742 - accuracy: 0.5752 - val_loss: 0.6754 - val_accuracy: 0.5722\n",
      "Epoch 16/20\n",
      "160045/160045 [==============================] - 5s 30us/step - loss: 0.6738 - accuracy: 0.5766 - val_loss: 0.6747 - val_accuracy: 0.5739\n",
      "Epoch 17/20\n",
      "160045/160045 [==============================] - 5s 31us/step - loss: 0.6736 - accuracy: 0.5750 - val_loss: 0.6745 - val_accuracy: 0.5740\n",
      "Epoch 18/20\n",
      "160045/160045 [==============================] - 5s 31us/step - loss: 0.6737 - accuracy: 0.5761 - val_loss: 0.6747 - val_accuracy: 0.5738\n",
      "Epoch 19/20\n",
      "160045/160045 [==============================] - 5s 34us/step - loss: 0.6734 - accuracy: 0.5781 - val_loss: 0.6746 - val_accuracy: 0.5740\n",
      "Epoch 20/20\n",
      "160045/160045 [==============================] - 5s 32us/step - loss: 0.6731 - accuracy: 0.5773 - val_loss: 0.6743 - val_accuracy: 0.5741\n"
     ]
    }
   ],
   "source": [
    "history7 = model7.fit(E8X_train, E8Y_train, batch_size=64, validation_data=(E8X_test, E8Y_test), epochs=20)"
   ]
  },
  {
   "cell_type": "code",
   "execution_count": 71,
   "metadata": {},
   "outputs": [
    {
     "data": {
      "image/png": "[encoded data removed]",
      "text/plain": [
       "<Figure size 432x288 with 2 Axes>"
      ]
     },
     "metadata": {
      "needs_background": "light"
     },
     "output_type": "display_data"
    }
   ],
   "source": [
    "summarize_diagnostics(history7)"
   ]
  },
  {
   "cell_type": "code",
   "execution_count": 86,
   "metadata": {},
   "outputs": [
    {
     "data": {
      "text/plain": [
       "(160045, 50, 1)"
      ]
     },
     "execution_count": 86,
     "metadata": {},
     "output_type": "execute_result"
    }
   ],
   "source": [
    "E8X_train.shape"
   ]
  },
  {
   "cell_type": "code",
   "execution_count": 95,
   "metadata": {},
   "outputs": [],
   "source": [
    "model8 = Sequential()\n",
    "#model1.add(Input(shape=(21,1)))\n",
    "model8.add(Conv1D(2, 50, activation='relu', kernel_initializer='he_uniform', padding='same', input_shape=(50, 1)))\n",
    "model8.add(MaxPooling1D(2))\n",
    "model8.add(BatchNormalization())\n",
    "model8.add(Flatten())\n",
    "model8.add(Dense(25, activation='relu', kernel_initializer='he_uniform'))\n",
    "model8.add(Dense(10, activation='relu', kernel_initializer='he_uniform'))\n",
    "model8.add(Dense(1, activation='sigmoid'))"
   ]
  },
  {
   "cell_type": "code",
   "execution_count": 96,
   "metadata": {},
   "outputs": [],
   "source": [
    "from keras.optimizers import Adam\n",
    "opt = Adam(lr=0.0001)\n",
    "model8.compile(loss='binary_crossentropy', optimizer=opt, metrics=['accuracy'])"
   ]
  },
  {
   "cell_type": "code",
   "execution_count": 97,
   "metadata": {},
   "outputs": [
    {
     "name": "stdout",
     "output_type": "stream",
     "text": [
      "Train on 160045 samples, validate on 40012 samples\n",
      "Epoch 1/20\n",
      "160045/160045 [==============================] - 19s 118us/step - loss: 0.7030 - accuracy: 0.5141 - val_loss: 0.6910 - val_accuracy: 0.5292\n",
      "Epoch 2/20\n",
      "160045/160045 [==============================] - 19s 117us/step - loss: 0.6896 - accuracy: 0.5336 - val_loss: 0.6890 - val_accuracy: 0.5381\n",
      "Epoch 3/20\n",
      "160045/160045 [==============================] - 18s 113us/step - loss: 0.6866 - accuracy: 0.5466 - val_loss: 0.6853 - val_accuracy: 0.5531\n",
      "Epoch 4/20\n",
      "160045/160045 [==============================] - 19s 119us/step - loss: 0.6841 - accuracy: 0.5526 - val_loss: 0.6824 - val_accuracy: 0.5588\n",
      "Epoch 5/20\n",
      "160045/160045 [==============================] - 19s 119us/step - loss: 0.6824 - accuracy: 0.5574 - val_loss: 0.6808 - val_accuracy: 0.5627\n",
      "Epoch 6/20\n",
      "160045/160045 [==============================] - 19s 121us/step - loss: 0.6810 - accuracy: 0.5600 - val_loss: 0.6796 - val_accuracy: 0.5630\n",
      "Epoch 7/20\n",
      "160045/160045 [==============================] - 19s 121us/step - loss: 0.6803 - accuracy: 0.5620 - val_loss: 0.6790 - val_accuracy: 0.5620\n",
      "Epoch 8/20\n",
      "160045/160045 [==============================] - 19s 120us/step - loss: 0.6790 - accuracy: 0.5655 - val_loss: 0.6786 - val_accuracy: 0.5665\n",
      "Epoch 9/20\n",
      "160045/160045 [==============================] - 19s 119us/step - loss: 0.6782 - accuracy: 0.5670 - val_loss: 0.6771 - val_accuracy: 0.5664\n",
      "Epoch 10/20\n",
      "160045/160045 [==============================] - 19s 121us/step - loss: 0.6777 - accuracy: 0.5689 - val_loss: 0.6783 - val_accuracy: 0.5621\n",
      "Epoch 11/20\n",
      "160045/160045 [==============================] - 18s 113us/step - loss: 0.6770 - accuracy: 0.5690 - val_loss: 0.6771 - val_accuracy: 0.5664\n",
      "Epoch 12/20\n",
      "160045/160045 [==============================] - 19s 119us/step - loss: 0.6764 - accuracy: 0.5702 - val_loss: 0.6761 - val_accuracy: 0.5685\n",
      "Epoch 13/20\n",
      "160045/160045 [==============================] - 19s 121us/step - loss: 0.6761 - accuracy: 0.5717 - val_loss: 0.6790 - val_accuracy: 0.5685\n",
      "Epoch 14/20\n",
      "160045/160045 [==============================] - 19s 120us/step - loss: 0.6758 - accuracy: 0.5736 - val_loss: 0.6763 - val_accuracy: 0.5692\n",
      "Epoch 15/20\n",
      "160045/160045 [==============================] - 19s 118us/step - loss: 0.6754 - accuracy: 0.5719 - val_loss: 0.6777 - val_accuracy: 0.5653\n",
      "Epoch 16/20\n",
      "160045/160045 [==============================] - 19s 120us/step - loss: 0.6750 - accuracy: 0.5723 - val_loss: 0.6753 - val_accuracy: 0.5709\n",
      "Epoch 17/20\n",
      "160045/160045 [==============================] - 19s 122us/step - loss: 0.6749 - accuracy: 0.5741 - val_loss: 0.6801 - val_accuracy: 0.5623\n",
      "Epoch 18/20\n",
      "160045/160045 [==============================] - 18s 115us/step - loss: 0.6746 - accuracy: 0.5742 - val_loss: 0.6746 - val_accuracy: 0.5715\n",
      "Epoch 19/20\n",
      "160045/160045 [==============================] - 18s 112us/step - loss: 0.6743 - accuracy: 0.5743 - val_loss: 0.6847 - val_accuracy: 0.5552\n",
      "Epoch 20/20\n",
      "160045/160045 [==============================] - 19s 117us/step - loss: 0.6741 - accuracy: 0.5752 - val_loss: 0.6799 - val_accuracy: 0.5633\n"
     ]
    }
   ],
   "source": [
    "history8 = model8.fit(E8X_train, E8Y_train, batch_size=64, validation_data=(E8X_test, E8Y_test), epochs=20)"
   ]
  },
  {
   "cell_type": "code",
   "execution_count": 98,
   "metadata": {},
   "outputs": [
    {
     "data": {
      "image/png": "[encoded data removed]",
      "text/plain": [
       "<Figure size 432x288 with 2 Axes>"
      ]
     },
     "metadata": {
      "needs_background": "light"
     },
     "output_type": "display_data"
    }
   ],
   "source": [
    "summarize_diagnostics(history7)"
   ]
  },
  {
   "cell_type": "code",
   "execution_count": null,
   "metadata": {},
   "outputs": [],
   "source": []
  }
 ],
 "metadata": {
  "kernelspec": {
   "display_name": "Python 3",
   "language": "python",
   "name": "python3"
  },
  "language_info": {
   "codemirror_mode": {
    "name": "ipython",
    "version": 3
   },
   "file_extension": ".py",
   "mimetype": "text/x-python",
   "name": "python",
   "nbconvert_exporter": "python",
   "pygments_lexer": "ipython3",
   "version": "3.7.6"
  }
 },
 "nbformat": 4,
 "nbformat_minor": 4
}
