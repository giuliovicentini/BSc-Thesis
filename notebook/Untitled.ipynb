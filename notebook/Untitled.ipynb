{
 "cells": [
  {
   "cell_type": "code",
   "execution_count": 1,
   "metadata": {},
   "outputs": [],
   "source": [
    "import os\n",
    "import cupy as cp\n",
    "import matplotlib.pyplot as plt\n",
    "import numpy as np"
   ]
  },
  {
   "cell_type": "code",
   "execution_count": 2,
   "metadata": {},
   "outputs": [],
   "source": [
    "def summarize_diagnostics(history):\n",
    "    # plot loss\n",
    "    plt.subplot(211)\n",
    "    plt.title('Cross Entropy Loss')\n",
    "    plt.plot(history.history['loss'], color='blue', label='train')\n",
    "    plt.plot(history.history['val_loss'], color='orange', label='test')\n",
    "    # plot accuracy\n",
    "    plt.subplot(212)\n",
    "    plt.title('Classification Accuracy')\n",
    "    plt.plot(history.history['accuracy'], color='blue', label='train')\n",
    "    plt.plot(history.history['val_accuracy'], color='orange', label='test')"
   ]
  },
  {
   "cell_type": "markdown",
   "metadata": {},
   "source": [
    "# E0"
   ]
  },
  {
   "cell_type": "code",
   "execution_count": 50,
   "metadata": {},
   "outputs": [
    {
     "name": "stdout",
     "output_type": "stream",
     "text": [
      "48872\n"
     ]
    }
   ],
   "source": [
    "folder = 'EnergySplit/E0/'\n",
    "i = 0\n",
    "for file in os.listdir(folder):\n",
    "    if file.startswith('pos'):\n",
    "        i+=1\n",
    "print(i)"
   ]
  },
  {
   "cell_type": "code",
   "execution_count": 51,
   "metadata": {},
   "outputs": [],
   "source": [
    "E0 = np.empty((97744, 100, 1), dtype=cp.float64)\n",
    "labels_E0 = np.zeros(97744)\n",
    "folder = 'EnergySplit/E0/'\n",
    "i = 0\n",
    "j = 0\n",
    "for file in os.listdir(folder):\n",
    "    if file.startswith('el') and j < 48872:\n",
    "        labels_E0[i] = 1\n",
    "        array = np.load(folder + file)\n",
    "        array = cp.reshape(array, (100,1))\n",
    "        E0[i] = array\n",
    "        i += 1\n",
    "        j += 1\n",
    "    elif file.startswith('pos'):\n",
    "        array = np.load(folder + file)\n",
    "        array = cp.reshape(array, (100,1))\n",
    "        E0[i] = array\n",
    "        i += 1"
   ]
  },
  {
   "cell_type": "code",
   "execution_count": 52,
   "metadata": {
    "scrolled": true
   },
   "outputs": [
    {
     "data": {
      "text/plain": [
       "array([[15.],\n",
       "       [45.],\n",
       "       [47.],\n",
       "       [48.],\n",
       "       [58.],\n",
       "       [50.],\n",
       "       [45.],\n",
       "       [42.],\n",
       "       [44.],\n",
       "       [43.],\n",
       "       [41.],\n",
       "       [36.],\n",
       "       [41.],\n",
       "       [32.],\n",
       "       [33.],\n",
       "       [28.],\n",
       "       [39.],\n",
       "       [27.],\n",
       "       [22.],\n",
       "       [28.],\n",
       "       [34.],\n",
       "       [23.],\n",
       "       [22.],\n",
       "       [16.],\n",
       "       [34.],\n",
       "       [22.],\n",
       "       [19.],\n",
       "       [23.],\n",
       "       [25.],\n",
       "       [25.],\n",
       "       [23.],\n",
       "       [24.],\n",
       "       [15.],\n",
       "       [26.],\n",
       "       [24.],\n",
       "       [13.],\n",
       "       [15.],\n",
       "       [17.],\n",
       "       [12.],\n",
       "       [11.],\n",
       "       [20.],\n",
       "       [24.],\n",
       "       [17.],\n",
       "       [16.],\n",
       "       [15.],\n",
       "       [21.],\n",
       "       [23.],\n",
       "       [21.],\n",
       "       [18.],\n",
       "       [20.],\n",
       "       [14.],\n",
       "       [10.],\n",
       "       [12.],\n",
       "       [ 5.],\n",
       "       [ 8.],\n",
       "       [ 6.],\n",
       "       [ 9.],\n",
       "       [ 9.],\n",
       "       [10.],\n",
       "       [10.],\n",
       "       [ 5.],\n",
       "       [13.],\n",
       "       [ 3.],\n",
       "       [ 5.],\n",
       "       [ 2.],\n",
       "       [ 1.],\n",
       "       [ 3.],\n",
       "       [ 7.],\n",
       "       [ 2.],\n",
       "       [ 3.],\n",
       "       [ 6.],\n",
       "       [ 3.],\n",
       "       [ 5.],\n",
       "       [ 1.],\n",
       "       [ 4.],\n",
       "       [ 1.],\n",
       "       [ 3.],\n",
       "       [ 1.],\n",
       "       [ 4.],\n",
       "       [ 4.],\n",
       "       [ 0.],\n",
       "       [ 2.],\n",
       "       [ 3.],\n",
       "       [ 1.],\n",
       "       [ 1.],\n",
       "       [ 2.],\n",
       "       [ 0.],\n",
       "       [ 3.],\n",
       "       [ 0.],\n",
       "       [ 0.],\n",
       "       [ 1.],\n",
       "       [ 1.],\n",
       "       [ 1.],\n",
       "       [ 0.],\n",
       "       [ 0.],\n",
       "       [ 0.],\n",
       "       [ 0.],\n",
       "       [ 0.],\n",
       "       [ 0.],\n",
       "       [ 0.]])"
      ]
     },
     "execution_count": 52,
     "metadata": {},
     "output_type": "execute_result"
    }
   ],
   "source": [
    "E0[97743]"
   ]
  },
  {
   "cell_type": "code",
   "execution_count": 53,
   "metadata": {},
   "outputs": [],
   "source": [
    "E0 = E0/E0.max()"
   ]
  },
  {
   "cell_type": "code",
   "execution_count": 54,
   "metadata": {},
   "outputs": [],
   "source": [
    "from sklearn.model_selection import train_test_split\n",
    "E0X_train, E0X_test, E0Y_train, E0Y_test = train_test_split(E0 , labels_E0 ,test_size=0.2)"
   ]
  },
  {
   "cell_type": "code",
   "execution_count": 193,
   "metadata": {},
   "outputs": [],
   "source": [
    "from keras.models import Sequential\n",
    "from keras.layers import Dense, Conv1D, Flatten, Dropout, MaxPooling1D, BatchNormalization\n",
    "\n",
    "model = Sequential()\n",
    "model.add(Flatten(input_shape=(100,1)))\n",
    "model.add(BatchNormalization())\n",
    "model.add(Dense(10, activation='relu', kernel_initializer='he_uniform'))\n",
    "model.add(Dense(1, activation='sigmoid'))"
   ]
  },
  {
   "cell_type": "code",
   "execution_count": 194,
   "metadata": {},
   "outputs": [],
   "source": [
    "from keras.optimizers import Adam\n",
    "opt = Adam(lr=0.0001)\n",
    "model.compile(loss='binary_crossentropy', optimizer=opt, metrics=['accuracy'])"
   ]
  },
  {
   "cell_type": "code",
   "execution_count": 195,
   "metadata": {
    "scrolled": true
   },
   "outputs": [
    {
     "name": "stdout",
     "output_type": "stream",
     "text": [
      "Train on 78195 samples, validate on 19549 samples\n",
      "Epoch 1/30\n",
      "78195/78195 [==============================] - 4s 45us/step - loss: 0.6336 - accuracy: 0.6054 - val_loss: 0.5881 - val_accuracy: 0.6698\n",
      "Epoch 2/30\n",
      "78195/78195 [==============================] - 3s 34us/step - loss: 0.5667 - accuracy: 0.6987 - val_loss: 0.5412 - val_accuracy: 0.7194\n",
      "Epoch 3/30\n",
      "78195/78195 [==============================] - 3s 38us/step - loss: 0.5273 - accuracy: 0.7317 - val_loss: 0.5129 - val_accuracy: 0.7429\n",
      "Epoch 4/30\n",
      "78195/78195 [==============================] - 3s 36us/step - loss: 0.5067 - accuracy: 0.7432 - val_loss: 0.4996 - val_accuracy: 0.7508\n",
      "Epoch 5/30\n",
      "78195/78195 [==============================] - 3s 36us/step - loss: 0.4967 - accuracy: 0.7513 - val_loss: 0.4927 - val_accuracy: 0.7537\n",
      "Epoch 6/30\n",
      "78195/78195 [==============================] - 3s 33us/step - loss: 0.4900 - accuracy: 0.7543 - val_loss: 0.4877 - val_accuracy: 0.7577\n",
      "Epoch 7/30\n",
      "78195/78195 [==============================] - 3s 37us/step - loss: 0.4858 - accuracy: 0.7578 - val_loss: 0.4842 - val_accuracy: 0.7578\n",
      "Epoch 8/30\n",
      "78195/78195 [==============================] - 3s 33us/step - loss: 0.4826 - accuracy: 0.7587 - val_loss: 0.4815 - val_accuracy: 0.7593\n",
      "Epoch 9/30\n",
      "78195/78195 [==============================] - 3s 38us/step - loss: 0.4798 - accuracy: 0.7607 - val_loss: 0.4792 - val_accuracy: 0.7602\n",
      "Epoch 10/30\n",
      "78195/78195 [==============================] - 3s 41us/step - loss: 0.4784 - accuracy: 0.7614 - val_loss: 0.4774 - val_accuracy: 0.7597\n",
      "Epoch 11/30\n",
      "78195/78195 [==============================] - 3s 38us/step - loss: 0.4759 - accuracy: 0.7638 - val_loss: 0.4757 - val_accuracy: 0.7612\n",
      "Epoch 12/30\n",
      "78195/78195 [==============================] - 4s 51us/step - loss: 0.4747 - accuracy: 0.7630 - val_loss: 0.4746 - val_accuracy: 0.7609\n",
      "Epoch 13/30\n",
      "78195/78195 [==============================] - 4s 45us/step - loss: 0.4735 - accuracy: 0.7634 - val_loss: 0.4733 - val_accuracy: 0.7606\n",
      "Epoch 14/30\n",
      "78195/78195 [==============================] - 3s 43us/step - loss: 0.4731 - accuracy: 0.7644 - val_loss: 0.4724 - val_accuracy: 0.7622\n",
      "Epoch 15/30\n",
      "78195/78195 [==============================] - 3s 35us/step - loss: 0.4715 - accuracy: 0.7645 - val_loss: 0.4715 - val_accuracy: 0.7636\n",
      "Epoch 16/30\n",
      "78195/78195 [==============================] - 3s 35us/step - loss: 0.4706 - accuracy: 0.7653 - val_loss: 0.4705 - val_accuracy: 0.7637\n",
      "Epoch 17/30\n",
      "78195/78195 [==============================] - 3s 39us/step - loss: 0.4700 - accuracy: 0.7653 - val_loss: 0.4697 - val_accuracy: 0.7637\n",
      "Epoch 18/30\n",
      "78195/78195 [==============================] - 3s 42us/step - loss: 0.4692 - accuracy: 0.7665 - val_loss: 0.4691 - val_accuracy: 0.7633\n",
      "Epoch 19/30\n",
      "78195/78195 [==============================] - 3s 41us/step - loss: 0.4678 - accuracy: 0.7667 - val_loss: 0.4685 - val_accuracy: 0.7644\n",
      "Epoch 20/30\n",
      "78195/78195 [==============================] - 3s 40us/step - loss: 0.4683 - accuracy: 0.7660 - val_loss: 0.4679 - val_accuracy: 0.7637\n",
      "Epoch 21/30\n",
      "78195/78195 [==============================] - 3s 35us/step - loss: 0.4672 - accuracy: 0.7665 - val_loss: 0.4674 - val_accuracy: 0.7648\n",
      "Epoch 22/30\n",
      "78195/78195 [==============================] - 3s 37us/step - loss: 0.4662 - accuracy: 0.7670 - val_loss: 0.4668 - val_accuracy: 0.7657\n",
      "Epoch 23/30\n",
      "78195/78195 [==============================] - 3s 37us/step - loss: 0.4663 - accuracy: 0.7677 - val_loss: 0.4662 - val_accuracy: 0.7644\n",
      "Epoch 24/30\n",
      "78195/78195 [==============================] - 3s 38us/step - loss: 0.4655 - accuracy: 0.7684 - val_loss: 0.4659 - val_accuracy: 0.7659\n",
      "Epoch 25/30\n",
      "78195/78195 [==============================] - 3s 43us/step - loss: 0.4650 - accuracy: 0.7674 - val_loss: 0.4653 - val_accuracy: 0.7657\n",
      "Epoch 26/30\n",
      "78195/78195 [==============================] - 3s 34us/step - loss: 0.4643 - accuracy: 0.7677 - val_loss: 0.4648 - val_accuracy: 0.7663\n",
      "Epoch 27/30\n",
      "78195/78195 [==============================] - 3s 35us/step - loss: 0.4640 - accuracy: 0.7678 - val_loss: 0.4645 - val_accuracy: 0.7667\n",
      "Epoch 28/30\n",
      "78195/78195 [==============================] - 3s 37us/step - loss: 0.4633 - accuracy: 0.7679 - val_loss: 0.4640 - val_accuracy: 0.7666\n",
      "Epoch 29/30\n",
      "78195/78195 [==============================] - 3s 39us/step - loss: 0.4634 - accuracy: 0.7686 - val_loss: 0.4636 - val_accuracy: 0.7659\n",
      "Epoch 30/30\n",
      "78195/78195 [==============================] - 3s 43us/step - loss: 0.4628 - accuracy: 0.7692 - val_loss: 0.4632 - val_accuracy: 0.7669\n"
     ]
    }
   ],
   "source": [
    "history = model.fit(E0X_train, E0Y_train, batch_size=64, validation_data=(E0X_test, E0Y_test), epochs=30)"
   ]
  },
  {
   "cell_type": "code",
   "execution_count": 61,
   "metadata": {},
   "outputs": [
    {
     "data": {
      "image/png": "[encoded data removed]",
      "text/plain": [
       "<Figure size 432x288 with 2 Axes>"
      ]
     },
     "metadata": {
      "needs_background": "light"
     },
     "output_type": "display_data"
    }
   ],
   "source": [
    "summarize_diagnostics(history)"
   ]
  },
  {
   "cell_type": "code",
   "execution_count": 71,
   "metadata": {},
   "outputs": [
    {
     "data": {
      "text/plain": [
       "[<matplotlib.lines.Line2D at 0x7fca40434690>]"
      ]
     },
     "execution_count": 71,
     "metadata": {},
     "output_type": "execute_result"
    },
    {
     "data": {
      "image/png": "[encoded data removed]",
      "text/plain": [
       "<Figure size 432x288 with 1 Axes>"
      ]
     },
     "metadata": {
      "needs_background": "light"
     },
     "output_type": "display_data"
    }
   ],
   "source": [
    "plt.title('Classification Accuracy')\n",
    "plt.plot(history.history['accuracy'], color='blue', label='train')\n",
    "plt.plot(history.history['val_accuracy'], color='orange', label='test')"
   ]
  },
  {
   "cell_type": "code",
   "execution_count": 182,
   "metadata": {},
   "outputs": [],
   "source": [
    "history.history['accuracy'].insert(0, 0.5)\n",
    "history.history['val_accuracy'].insert(0, 0.5)"
   ]
  },
  {
   "cell_type": "code",
   "execution_count": 192,
   "metadata": {},
   "outputs": [
    {
     "data": {
      "text/plain": [
       "[<matplotlib.lines.Line2D at 0x7fca4058cd90>]"
      ]
     },
     "execution_count": 192,
     "metadata": {},
     "output_type": "execute_result"
    },
    {
     "data": {
      "image/png": "[encoded data removed]",
      "text/plain": [
       "<Figure size 432x288 with 1 Axes>"
      ]
     },
     "metadata": {
      "needs_background": "light"
     },
     "output_type": "display_data"
    }
   ],
   "source": [
    "plt.title('Classification Accuracy')\n",
    "plt.plot(history.history['accuracy'], color='blue', label='train')\n",
    "plt.plot(history.history['val_accuracy'], color='orange', label='test')\n",
    "plt.grid()\n",
    "plt.legend()"
   ]
  },
  {
   "cell_type": "code",
   "execution_count": 78,
   "metadata": {},
   "outputs": [],
   "source": [
    "model_1 = Sequential()\n",
    "model_1.add(Flatten(input_shape=(100,1)))\n",
    "model_1.add(BatchNormalization())\n",
    "model_1.add(Dense(50, activation='relu', kernel_initializer='he_uniform'))\n",
    "model_1.add(Dense(25, activation='relu', kernel_initializer='he_uniform'))\n",
    "model_1.add(Dense(10, activation='relu', kernel_initializer='he_uniform'))\n",
    "model_1.add(Dense(1, activation='sigmoid'))"
   ]
  },
  {
   "cell_type": "code",
   "execution_count": 79,
   "metadata": {},
   "outputs": [],
   "source": [
    "from keras.optimizers import Adam\n",
    "opt = Adam(lr=0.0001)\n",
    "model_1.compile(loss='binary_crossentropy', optimizer=opt, metrics=['accuracy'])"
   ]
  },
  {
   "cell_type": "code",
   "execution_count": 80,
   "metadata": {
    "scrolled": true
   },
   "outputs": [
    {
     "name": "stdout",
     "output_type": "stream",
     "text": [
      "Train on 78195 samples, validate on 19549 samples\n",
      "Epoch 1/30\n",
      "78195/78195 [==============================] - 4s 48us/step - loss: 0.5745 - accuracy: 0.6828 - val_loss: 0.5080 - val_accuracy: 0.7363\n",
      "Epoch 2/30\n",
      "78195/78195 [==============================] - 3s 43us/step - loss: 0.4903 - accuracy: 0.7492 - val_loss: 0.4746 - val_accuracy: 0.7566\n",
      "Epoch 3/30\n",
      "78195/78195 [==============================] - 3s 42us/step - loss: 0.4714 - accuracy: 0.7604 - val_loss: 0.4652 - val_accuracy: 0.7611\n",
      "Epoch 4/30\n",
      "78195/78195 [==============================] - 3s 41us/step - loss: 0.4638 - accuracy: 0.7648 - val_loss: 0.4603 - val_accuracy: 0.7629\n",
      "Epoch 5/30\n",
      "78195/78195 [==============================] - 3s 42us/step - loss: 0.4587 - accuracy: 0.7671 - val_loss: 0.4572 - val_accuracy: 0.7637\n",
      "Epoch 6/30\n",
      "78195/78195 [==============================] - 3s 43us/step - loss: 0.4560 - accuracy: 0.7680 - val_loss: 0.4541 - val_accuracy: 0.7658\n",
      "Epoch 7/30\n",
      "78195/78195 [==============================] - 3s 41us/step - loss: 0.4526 - accuracy: 0.7705 - val_loss: 0.4517 - val_accuracy: 0.7678\n",
      "Epoch 8/30\n",
      "78195/78195 [==============================] - 3s 40us/step - loss: 0.4509 - accuracy: 0.7712 - val_loss: 0.4501 - val_accuracy: 0.7681\n",
      "Epoch 9/30\n",
      "78195/78195 [==============================] - 3s 41us/step - loss: 0.4489 - accuracy: 0.7718 - val_loss: 0.4483 - val_accuracy: 0.7687\n",
      "Epoch 10/30\n",
      "78195/78195 [==============================] - 3s 42us/step - loss: 0.4464 - accuracy: 0.7730 - val_loss: 0.4477 - val_accuracy: 0.7701\n",
      "Epoch 11/30\n",
      "78195/78195 [==============================] - 3s 34us/step - loss: 0.4444 - accuracy: 0.7741 - val_loss: 0.4457 - val_accuracy: 0.7698\n",
      "Epoch 12/30\n",
      "78195/78195 [==============================] - 3s 43us/step - loss: 0.4444 - accuracy: 0.7750 - val_loss: 0.4452 - val_accuracy: 0.7687\n",
      "Epoch 13/30\n",
      "78195/78195 [==============================] - 3s 43us/step - loss: 0.4426 - accuracy: 0.7751 - val_loss: 0.4446 - val_accuracy: 0.7700\n",
      "Epoch 14/30\n",
      "78195/78195 [==============================] - 3s 39us/step - loss: 0.4420 - accuracy: 0.7747 - val_loss: 0.4428 - val_accuracy: 0.7706\n",
      "Epoch 15/30\n",
      "78195/78195 [==============================] - 3s 42us/step - loss: 0.4422 - accuracy: 0.7755 - val_loss: 0.4421 - val_accuracy: 0.7720\n",
      "Epoch 16/30\n",
      "78195/78195 [==============================] - 3s 43us/step - loss: 0.4406 - accuracy: 0.7761 - val_loss: 0.4419 - val_accuracy: 0.7713\n",
      "Epoch 17/30\n",
      "78195/78195 [==============================] - 3s 36us/step - loss: 0.4400 - accuracy: 0.7754 - val_loss: 0.4412 - val_accuracy: 0.7712\n",
      "Epoch 18/30\n",
      "78195/78195 [==============================] - 3s 42us/step - loss: 0.4384 - accuracy: 0.7774 - val_loss: 0.4408 - val_accuracy: 0.7719\n",
      "Epoch 19/30\n",
      "78195/78195 [==============================] - 3s 43us/step - loss: 0.4371 - accuracy: 0.7784 - val_loss: 0.4407 - val_accuracy: 0.7717\n",
      "Epoch 20/30\n",
      "78195/78195 [==============================] - 3s 35us/step - loss: 0.4379 - accuracy: 0.7758 - val_loss: 0.4398 - val_accuracy: 0.7720\n",
      "Epoch 21/30\n",
      "78195/78195 [==============================] - 3s 37us/step - loss: 0.4376 - accuracy: 0.7775 - val_loss: 0.4409 - val_accuracy: 0.7715\n",
      "Epoch 22/30\n",
      "78195/78195 [==============================] - 2s 32us/step - loss: 0.4365 - accuracy: 0.7774 - val_loss: 0.4384 - val_accuracy: 0.7724\n",
      "Epoch 23/30\n",
      "78195/78195 [==============================] - 3s 33us/step - loss: 0.4359 - accuracy: 0.7771 - val_loss: 0.4387 - val_accuracy: 0.7725\n",
      "Epoch 24/30\n",
      "78195/78195 [==============================] - 3s 33us/step - loss: 0.4345 - accuracy: 0.7788 - val_loss: 0.4380 - val_accuracy: 0.7721\n",
      "Epoch 25/30\n",
      "78195/78195 [==============================] - 3s 33us/step - loss: 0.4346 - accuracy: 0.7780 - val_loss: 0.4386 - val_accuracy: 0.7730\n",
      "Epoch 26/30\n",
      "78195/78195 [==============================] - 3s 34us/step - loss: 0.4343 - accuracy: 0.7789 - val_loss: 0.4374 - val_accuracy: 0.7734\n",
      "Epoch 27/30\n",
      "78195/78195 [==============================] - 3s 39us/step - loss: 0.4334 - accuracy: 0.7796 - val_loss: 0.4377 - val_accuracy: 0.7745\n",
      "Epoch 28/30\n",
      "78195/78195 [==============================] - 3s 39us/step - loss: 0.4344 - accuracy: 0.7782 - val_loss: 0.4366 - val_accuracy: 0.7734\n",
      "Epoch 29/30\n",
      "78195/78195 [==============================] - 3s 41us/step - loss: 0.4329 - accuracy: 0.7796 - val_loss: 0.4374 - val_accuracy: 0.7727\n",
      "Epoch 30/30\n",
      "78195/78195 [==============================] - 3s 43us/step - loss: 0.4319 - accuracy: 0.7795 - val_loss: 0.4367 - val_accuracy: 0.7733\n"
     ]
    }
   ],
   "source": [
    "history_1 = model_1.fit(E0X_train, E0Y_train, batch_size=64, validation_data=(E0X_test, E0Y_test), epochs=30)"
   ]
  },
  {
   "cell_type": "code",
   "execution_count": 76,
   "metadata": {},
   "outputs": [
    {
     "data": {
      "image/png": "[encoded data removed]",
      "text/plain": [
       "<Figure size 432x288 with 2 Axes>"
      ]
     },
     "metadata": {
      "needs_background": "light"
     },
     "output_type": "display_data"
    }
   ],
   "source": [
    "summarize_diagnostics(history_1)"
   ]
  },
  {
   "cell_type": "code",
   "execution_count": 81,
   "metadata": {},
   "outputs": [
    {
     "data": {
      "image/png": "[encoded data removed]",
      "text/plain": [
       "<Figure size 432x288 with 2 Axes>"
      ]
     },
     "metadata": {
      "needs_background": "light"
     },
     "output_type": "display_data"
    }
   ],
   "source": [
    "summarize_diagnostics(history_1)"
   ]
  },
  {
   "cell_type": "code",
   "execution_count": 196,
   "metadata": {},
   "outputs": [],
   "source": [
    "history_1.history['accuracy'].insert(0, 0.5)\n",
    "history_1.history['val_accuracy'].insert(0, 0.5)"
   ]
  },
  {
   "cell_type": "code",
   "execution_count": 208,
   "metadata": {},
   "outputs": [],
   "source": [
    "x = np.linspace(-2, 32)\n",
    "y = 0*x +0.5"
   ]
  },
  {
   "cell_type": "code",
   "execution_count": 222,
   "metadata": {},
   "outputs": [
    {
     "data": {
      "image/png": "[encoded data removed]",
      "text/plain": [
       "<Figure size 432x288 with 1 Axes>"
      ]
     },
     "metadata": {
      "needs_background": "light"
     },
     "output_type": "display_data"
    }
   ],
   "source": [
    "#plt.title('Classification Accuracy')\n",
    "fig = plt.figure()\n",
    "ax = fig.subplots()\n",
    "ax.set_ylabel('accuracy')\n",
    "ax.set_xlabel('trained epochs')\n",
    "plt.plot(history_1.history['accuracy'], color='blue', label='training set')\n",
    "plt.plot(history_1.history['val_accuracy'], color='orange', label='validation set')\n",
    "plt.plot(x, y, '--', color='black', label='random classification' )\n",
    "plt.grid()\n",
    "plt.legend()\n",
    "axes = plt.gca()\n",
    "axes.set_xlim([-2,32])\n",
    "axes.set_ylim([0.4,1])\n",
    "#plt.savefig('/home/centos/accuracy.pdf')"
   ]
  },
  {
   "cell_type": "code",
   "execution_count": 223,
   "metadata": {},
   "outputs": [
    {
     "data": {
      "image/png": "[encoded data removed]",
      "text/plain": [
       "<Figure size 432x288 with 1 Axes>"
      ]
     },
     "metadata": {
      "needs_background": "light"
     },
     "output_type": "display_data"
    }
   ],
   "source": [
    "#plt.title('Classification Accuracy')\n",
    "fig = plt.figure()\n",
    "ax = fig.subplots()\n",
    "ax.set_ylabel('cross entropy')\n",
    "ax.set_xlabel('trained epochs')\n",
    "plt.plot(history_1.history['loss'], color='blue', label='training set')\n",
    "plt.plot(history_1.history['val_loss'], color='orange', label='validation set')\n",
    "#plt.plot(x, y, '--', color='black', label='random classification' )\n",
    "plt.grid()\n",
    "plt.legend()\n",
    "#axes = plt.gca()\n",
    "#axes.set_xlim([-2,32])\n",
    "#axes.set_ylim([0.4,1])\n",
    "#plt.savefig('/home/centos/loss.pdf')"
   ]
  },
  {
   "cell_type": "code",
   "execution_count": null,
   "metadata": {},
   "outputs": [],
   "source": [
    "from keras.models import Sequential\n",
    "from keras.layers import Dense, Conv1D, Flatten, Dropout, MaxPooling1D, BatchNormalization\n",
    "from keras import regularizers\n",
    "\n",
    "model0 = Sequential()\n",
    "model0.add(Conv1D(32, 100, activation='relu', kernel_initializer='he_uniform', padding='same', input_shape=(100, 1)))\n",
    "model0.add(MaxPooling1D(2))\n",
    "model0.add(BatchNormalization())\n",
    "model0.add(Conv1D(64, 100, activation='relu', kernel_initializer='he_uniform', padding='same'))\n",
    "model0.add(MaxPooling1D(2))\n",
    "model0.add(BatchNormalization())\n",
    "model0.add(Conv1D(128, 100, activation='relu', kernel_initializer='he_uniform', padding='same'))\n",
    "model0.add(MaxPooling1D(2))\n",
    "model0.add(BatchNormalization())\n",
    "model0.add(Flatten())\n",
    "model0.add(Dense(128, activation='relu', kernel_initializer='he_uniform', kernel_regularizer=regularizers.l2(0.01)))\n",
    "model0.add(Dropout(0.3))\n",
    "model0.add(Dense(1, activation='sigmoid'))"
   ]
  },
  {
   "cell_type": "code",
   "execution_count": 66,
   "metadata": {},
   "outputs": [],
   "source": [
    "from keras.optimizers import Adam\n",
    "opt = Adam(lr=0.00001)\n",
    "model0.compile(loss='binary_crossentropy', optimizer=opt, metrics=['accuracy'])"
   ]
  },
  {
   "cell_type": "code",
   "execution_count": 67,
   "metadata": {
    "scrolled": true
   },
   "outputs": [
    {
     "name": "stdout",
     "output_type": "stream",
     "text": [
      "Train on 78195 samples, validate on 19549 samples\n",
      "Epoch 1/20\n",
      "78195/78195 [==============================] - 67s 853us/step - loss: 2.8409 - accuracy: 0.7256 - val_loss: 2.5445 - val_accuracy: 0.7659\n",
      "Epoch 2/20\n",
      "78195/78195 [==============================] - 65s 835us/step - loss: 2.3371 - accuracy: 0.7594 - val_loss: 2.1252 - val_accuracy: 0.7663\n",
      "Epoch 3/20\n",
      "78195/78195 [==============================] - 65s 826us/step - loss: 1.9588 - accuracy: 0.7682 - val_loss: 1.8027 - val_accuracy: 0.7701\n",
      "Epoch 4/20\n",
      "78195/78195 [==============================] - 64s 823us/step - loss: 1.6718 - accuracy: 0.7723 - val_loss: 1.5499 - val_accuracy: 0.7740\n",
      "Epoch 5/20\n",
      "78195/78195 [==============================] - 65s 827us/step - loss: 1.4548 - accuracy: 0.7743 - val_loss: 1.3631 - val_accuracy: 0.7745\n",
      "Epoch 6/20\n",
      "78195/78195 [==============================] - 65s 834us/step - loss: 1.2852 - accuracy: 0.7774 - val_loss: 1.2191 - val_accuracy: 0.7747\n",
      "Epoch 7/20\n",
      "78195/78195 [==============================] - 65s 832us/step - loss: 1.1544 - accuracy: 0.7790 - val_loss: 1.1021 - val_accuracy: 0.7770\n",
      "Epoch 8/20\n",
      "78195/78195 [==============================] - 65s 831us/step - loss: 1.0509 - accuracy: 0.7804 - val_loss: 1.0108 - val_accuracy: 0.7760\n",
      "Epoch 9/20\n",
      "78195/78195 [==============================] - 65s 830us/step - loss: 0.9647 - accuracy: 0.7837 - val_loss: 0.9373 - val_accuracy: 0.7735\n",
      "Epoch 10/20\n",
      "78195/78195 [==============================] - 66s 849us/step - loss: 0.8943 - accuracy: 0.7852 - val_loss: 0.8714 - val_accuracy: 0.7771\n",
      "Epoch 11/20\n",
      "78195/78195 [==============================] - 65s 832us/step - loss: 0.8322 - accuracy: 0.7877 - val_loss: 0.8207 - val_accuracy: 0.7729\n",
      "Epoch 12/20\n",
      "78195/78195 [==============================] - 65s 834us/step - loss: 0.7830 - accuracy: 0.7872 - val_loss: 0.7781 - val_accuracy: 0.7749\n",
      "Epoch 13/20\n",
      "78195/78195 [==============================] - 65s 827us/step - loss: 0.7409 - accuracy: 0.7888 - val_loss: 0.7362 - val_accuracy: 0.7774\n",
      "Epoch 14/20\n",
      "78195/78195 [==============================] - 65s 825us/step - loss: 0.7026 - accuracy: 0.7903 - val_loss: 0.7041 - val_accuracy: 0.7784\n",
      "Epoch 15/20\n",
      "78195/78195 [==============================] - 64s 822us/step - loss: 0.6704 - accuracy: 0.7909 - val_loss: 0.6775 - val_accuracy: 0.7744\n",
      "Epoch 16/20\n",
      "78195/78195 [==============================] - 65s 830us/step - loss: 0.6411 - accuracy: 0.7935 - val_loss: 0.6557 - val_accuracy: 0.7737\n",
      "Epoch 17/20\n",
      "78195/78195 [==============================] - 65s 831us/step - loss: 0.6158 - accuracy: 0.7948 - val_loss: 0.6313 - val_accuracy: 0.7764\n",
      "Epoch 18/20\n",
      "78195/78195 [==============================] - 65s 833us/step - loss: 0.5935 - accuracy: 0.7963 - val_loss: 0.6110 - val_accuracy: 0.7770\n",
      "Epoch 19/20\n",
      "78195/78195 [==============================] - 65s 836us/step - loss: 0.5745 - accuracy: 0.7982 - val_loss: 0.6050 - val_accuracy: 0.7666\n",
      "Epoch 20/20\n",
      "78195/78195 [==============================] - 65s 827us/step - loss: 0.5559 - accuracy: 0.7988 - val_loss: 0.5819 - val_accuracy: 0.7746\n"
     ]
    }
   ],
   "source": [
    "history0 = model0.fit(E0X_train, E0Y_train, batch_size=64, validation_data=(E0X_test, E0Y_test), epochs=20)"
   ]
  },
  {
   "cell_type": "code",
   "execution_count": 68,
   "metadata": {},
   "outputs": [
    {
     "data": {
      "image/png": "[encoded data removed]",
      "text/plain": [
       "<Figure size 432x288 with 2 Axes>"
      ]
     },
     "metadata": {
      "needs_background": "light"
     },
     "output_type": "display_data"
    }
   ],
   "source": [
    "summarize_diagnostics(history0)"
   ]
  },
  {
   "cell_type": "code",
   "execution_count": 70,
   "metadata": {},
   "outputs": [
    {
     "data": {
      "text/plain": [
       "[<matplotlib.lines.Line2D at 0x7fca40446a10>]"
      ]
     },
     "execution_count": 70,
     "metadata": {},
     "output_type": "execute_result"
    },
    {
     "data": {
      "image/png": "[encoded data removed]",
      "text/plain": [
       "<Figure size 432x288 with 1 Axes>"
      ]
     },
     "metadata": {
      "needs_background": "light"
     },
     "output_type": "display_data"
    }
   ],
   "source": [
    "plt.title('Classification Accuracy')\n",
    "plt.plot(history0.history['accuracy'], color='blue', label='train')\n",
    "plt.plot(history0.history['val_accuracy'], color='orange', label='test')"
   ]
  },
  {
   "cell_type": "markdown",
   "metadata": {},
   "source": [
    "# E1"
   ]
  },
  {
   "cell_type": "code",
   "execution_count": 84,
   "metadata": {},
   "outputs": [
    {
     "name": "stdout",
     "output_type": "stream",
     "text": [
      "199600\n"
     ]
    }
   ],
   "source": [
    "folder = 'EnergySplit/E1/'\n",
    "i = 0\n",
    "for file in os.listdir(folder):\n",
    "        i += 1\n",
    "print(i)"
   ]
  },
  {
   "cell_type": "code",
   "execution_count": 85,
   "metadata": {},
   "outputs": [],
   "source": [
    "E1 = np.empty((199600, 100, 1), dtype=cp.float64)\n",
    "labels_E1 = np.zeros(199600)\n",
    "folder = 'EnergySplit/E1/'\n",
    "i = 0\n",
    "for file in os.listdir(folder):\n",
    "    if file.startswith('el'):\n",
    "        labels_E1[i] = 1\n",
    "    array = np.load(folder + file)\n",
    "    array = cp.reshape(array, (100,1))\n",
    "    E1[i] = array\n",
    "    i += 1"
   ]
  },
  {
   "cell_type": "code",
   "execution_count": 86,
   "metadata": {},
   "outputs": [],
   "source": [
    "E1 = E1/E1.max()"
   ]
  },
  {
   "cell_type": "code",
   "execution_count": 87,
   "metadata": {},
   "outputs": [],
   "source": [
    "E1X_train, E1X_test, E1Y_train, E1Y_test = train_test_split(E1 , labels_E1 ,test_size=0.2)"
   ]
  },
  {
   "cell_type": "code",
   "execution_count": 88,
   "metadata": {},
   "outputs": [],
   "source": [
    "model1_1 = Sequential()\n",
    "model1_1.add(Flatten(input_shape=(100,1)))\n",
    "model1_1.add(BatchNormalization())\n",
    "model1_1.add(Dense(50, activation='relu', kernel_initializer='he_uniform'))\n",
    "model1_1.add(Dense(25, activation='relu', kernel_initializer='he_uniform'))\n",
    "model1_1.add(Dense(10, activation='relu', kernel_initializer='he_uniform'))\n",
    "model1_1.add(Dense(1, activation='sigmoid'))"
   ]
  },
  {
   "cell_type": "code",
   "execution_count": 89,
   "metadata": {},
   "outputs": [],
   "source": [
    "from keras.optimizers import Adam\n",
    "opt = Adam(lr=0.0001)\n",
    "model1_1.compile(loss='binary_crossentropy', optimizer=opt, metrics=['accuracy'])"
   ]
  },
  {
   "cell_type": "code",
   "execution_count": 90,
   "metadata": {
    "scrolled": true
   },
   "outputs": [
    {
     "name": "stdout",
     "output_type": "stream",
     "text": [
      "Train on 159680 samples, validate on 39920 samples\n",
      "Epoch 1/20\n",
      "159680/159680 [==============================] - 7s 44us/step - loss: 0.6424 - accuracy: 0.6196 - val_loss: 0.6023 - val_accuracy: 0.6724\n",
      "Epoch 2/20\n",
      "159680/159680 [==============================] - 6s 41us/step - loss: 0.5929 - accuracy: 0.6820 - val_loss: 0.5880 - val_accuracy: 0.6855\n",
      "Epoch 3/20\n",
      "159680/159680 [==============================] - 6s 37us/step - loss: 0.5847 - accuracy: 0.6885 - val_loss: 0.5821 - val_accuracy: 0.6890\n",
      "Epoch 4/20\n",
      "159680/159680 [==============================] - 7s 41us/step - loss: 0.5805 - accuracy: 0.6920 - val_loss: 0.5782 - val_accuracy: 0.6921\n",
      "Epoch 5/20\n",
      "159680/159680 [==============================] - 7s 44us/step - loss: 0.5771 - accuracy: 0.6951 - val_loss: 0.5762 - val_accuracy: 0.6942\n",
      "Epoch 6/20\n",
      "159680/159680 [==============================] - 7s 42us/step - loss: 0.5756 - accuracy: 0.6959 - val_loss: 0.5763 - val_accuracy: 0.6940\n",
      "Epoch 7/20\n",
      "159680/159680 [==============================] - 7s 42us/step - loss: 0.5736 - accuracy: 0.6970 - val_loss: 0.5734 - val_accuracy: 0.6964\n",
      "Epoch 8/20\n",
      "159680/159680 [==============================] - 8s 51us/step - loss: 0.5731 - accuracy: 0.6982 - val_loss: 0.5727 - val_accuracy: 0.6966\n",
      "Epoch 9/20\n",
      "159680/159680 [==============================] - 9s 56us/step - loss: 0.5716 - accuracy: 0.6985 - val_loss: 0.5718 - val_accuracy: 0.6978\n",
      "Epoch 10/20\n",
      "159680/159680 [==============================] - 9s 57us/step - loss: 0.5706 - accuracy: 0.6985 - val_loss: 0.5715 - val_accuracy: 0.6972\n",
      "Epoch 11/20\n",
      "159680/159680 [==============================] - 6s 40us/step - loss: 0.5698 - accuracy: 0.7000 - val_loss: 0.5691 - val_accuracy: 0.6989\n",
      "Epoch 12/20\n",
      "159680/159680 [==============================] - 7s 43us/step - loss: 0.5695 - accuracy: 0.6999 - val_loss: 0.5700 - val_accuracy: 0.6985\n",
      "Epoch 13/20\n",
      "159680/159680 [==============================] - 7s 44us/step - loss: 0.5680 - accuracy: 0.7012 - val_loss: 0.5680 - val_accuracy: 0.6996\n",
      "Epoch 14/20\n",
      "159680/159680 [==============================] - 8s 52us/step - loss: 0.5669 - accuracy: 0.7014 - val_loss: 0.5680 - val_accuracy: 0.7001\n",
      "Epoch 15/20\n",
      "159680/159680 [==============================] - 7s 42us/step - loss: 0.5675 - accuracy: 0.7012 - val_loss: 0.5678 - val_accuracy: 0.7006\n",
      "Epoch 16/20\n",
      "159680/159680 [==============================] - 7s 41us/step - loss: 0.5665 - accuracy: 0.7021 - val_loss: 0.5673 - val_accuracy: 0.7011\n",
      "Epoch 17/20\n",
      "159680/159680 [==============================] - 7s 46us/step - loss: 0.5658 - accuracy: 0.7027 - val_loss: 0.5659 - val_accuracy: 0.7025\n",
      "Epoch 18/20\n",
      "159680/159680 [==============================] - 8s 50us/step - loss: 0.5652 - accuracy: 0.7032 - val_loss: 0.5663 - val_accuracy: 0.7004\n",
      "Epoch 19/20\n",
      "159680/159680 [==============================] - 8s 48us/step - loss: 0.5649 - accuracy: 0.7039 - val_loss: 0.5656 - val_accuracy: 0.7024\n",
      "Epoch 20/20\n",
      "159680/159680 [==============================] - 6s 40us/step - loss: 0.5648 - accuracy: 0.7027 - val_loss: 0.5660 - val_accuracy: 0.7019\n"
     ]
    }
   ],
   "source": [
    "history1_1 = model1_1.fit(E1X_train, E1Y_train, batch_size=64, validation_data=(E1X_test, E1Y_test), epochs=20)"
   ]
  },
  {
   "cell_type": "code",
   "execution_count": null,
   "metadata": {},
   "outputs": [],
   "source": [
    "# 71"
   ]
  },
  {
   "cell_type": "code",
   "execution_count": 91,
   "metadata": {},
   "outputs": [
    {
     "data": {
      "image/png": "[encoded data removed]",
      "text/plain": [
       "<Figure size 432x288 with 2 Axes>"
      ]
     },
     "metadata": {
      "needs_background": "light"
     },
     "output_type": "display_data"
    }
   ],
   "source": [
    "summarize_diagnostics(history1_1)"
   ]
  },
  {
   "cell_type": "code",
   "execution_count": 92,
   "metadata": {},
   "outputs": [
    {
     "data": {
      "text/plain": [
       "[<matplotlib.lines.Line2D at 0x7fca4048e390>]"
      ]
     },
     "execution_count": 92,
     "metadata": {},
     "output_type": "execute_result"
    },
    {
     "data": {
      "image/png": "[encoded data removed]",
      "text/plain": [
       "<Figure size 432x288 with 1 Axes>"
      ]
     },
     "metadata": {
      "needs_background": "light"
     },
     "output_type": "display_data"
    }
   ],
   "source": [
    "plt.title('Classification Accuracy')\n",
    "plt.plot(history1_1.history['accuracy'], color='blue', label='train')\n",
    "plt.plot(history1_1.history['val_accuracy'], color='orange', label='test')"
   ]
  },
  {
   "cell_type": "code",
   "execution_count": 93,
   "metadata": {},
   "outputs": [],
   "source": [
    "from keras.models import Sequential\n",
    "from keras.layers import Dense, Conv1D, Flatten, Dropout, MaxPooling1D, BatchNormalization\n",
    "from keras import regularizers\n",
    "\n",
    "model1 = Sequential()\n",
    "model1.add(Conv1D(32, 100, activation='relu', kernel_initializer='he_uniform', padding='same', input_shape=(100, 1)))\n",
    "model1.add(MaxPooling1D(2))\n",
    "model1.add(BatchNormalization())\n",
    "model1.add(Conv1D(64, 100, activation='relu', kernel_initializer='he_uniform', padding='same'))\n",
    "model1.add(MaxPooling1D(2))\n",
    "model1.add(BatchNormalization())\n",
    "model1.add(Conv1D(128, 100, activation='relu', kernel_initializer='he_uniform', padding='same'))\n",
    "model1.add(MaxPooling1D(2))\n",
    "model1.add(BatchNormalization())\n",
    "model1.add(Flatten())\n",
    "model1.add(Dense(128, activation='relu', kernel_initializer='he_uniform', kernel_regularizer=regularizers.l2(0.01)))\n",
    "model1.add(Dropout(0.3))\n",
    "model1.add(Dense(1, activation='sigmoid'))"
   ]
  },
  {
   "cell_type": "code",
   "execution_count": 94,
   "metadata": {},
   "outputs": [],
   "source": [
    "from keras.optimizers import Adam\n",
    "opt = Adam(lr=0.00001)\n",
    "model1.compile(loss='binary_crossentropy', optimizer=opt, metrics=['accuracy'])"
   ]
  },
  {
   "cell_type": "code",
   "execution_count": 95,
   "metadata": {},
   "outputs": [
    {
     "name": "stdout",
     "output_type": "stream",
     "text": [
      "Train on 159680 samples, validate on 39920 samples\n",
      "Epoch 1/20\n",
      "159680/159680 [==============================] - 135s 846us/step - loss: 2.7047 - accuracy: 0.6528 - val_loss: 2.2328 - val_accuracy: 0.6900\n",
      "Epoch 2/20\n",
      "159680/159680 [==============================] - 133s 832us/step - loss: 1.9158 - accuracy: 0.6875 - val_loss: 1.6426 - val_accuracy: 0.6938\n",
      "Epoch 3/20\n",
      "159680/159680 [==============================] - 134s 841us/step - loss: 1.4673 - accuracy: 0.6958 - val_loss: 1.3189 - val_accuracy: 0.6997\n",
      "Epoch 4/20\n",
      "159680/159680 [==============================] - 132s 828us/step - loss: 1.2188 - accuracy: 0.7005 - val_loss: 1.1328 - val_accuracy: 0.6986\n",
      "Epoch 5/20\n",
      "159680/159680 [==============================] - 134s 839us/step - loss: 1.0621 - accuracy: 0.7034 - val_loss: 1.0106 - val_accuracy: 0.6959\n",
      "Epoch 6/20\n",
      "159680/159680 [==============================] - 132s 826us/step - loss: 0.9530 - accuracy: 0.7057 - val_loss: 0.9133 - val_accuracy: 0.7043\n",
      "Epoch 7/20\n",
      "159680/159680 [==============================] - 132s 826us/step - loss: 0.8711 - accuracy: 0.7085 - val_loss: 0.8429 - val_accuracy: 0.7023\n",
      "Epoch 8/20\n",
      "159680/159680 [==============================] - 133s 834us/step - loss: 0.8096 - accuracy: 0.7097 - val_loss: 0.7890 - val_accuracy: 0.7042\n",
      "Epoch 9/20\n",
      "159680/159680 [==============================] - 131s 819us/step - loss: 0.7615 - accuracy: 0.7112 - val_loss: 0.7505 - val_accuracy: 0.7013\n",
      "Epoch 10/20\n",
      "159680/159680 [==============================] - 132s 829us/step - loss: 0.7244 - accuracy: 0.7120 - val_loss: 0.7211 - val_accuracy: 0.7021\n",
      "Epoch 11/20\n",
      "159680/159680 [==============================] - 133s 831us/step - loss: 0.6943 - accuracy: 0.7134 - val_loss: 0.6970 - val_accuracy: 0.7040\n",
      "Epoch 12/20\n",
      "159680/159680 [==============================] - 133s 834us/step - loss: 0.6695 - accuracy: 0.7144 - val_loss: 0.6766 - val_accuracy: 0.7019\n",
      "Epoch 13/20\n",
      " 77952/159680 [=============>................] - ETA: 1:03 - loss: 0.6526 - accuracy: 0.7170"
     ]
    },
    {
     "ename": "KeyboardInterrupt",
     "evalue": "",
     "output_type": "error",
     "traceback": [
      "\u001b[0;31m---------------------------------------------------------------------------\u001b[0m",
      "\u001b[0;31mKeyboardInterrupt\u001b[0m                         Traceback (most recent call last)",
      "\u001b[0;32m<ipython-input-95-5a5a55bde0db>\u001b[0m in \u001b[0;36m<module>\u001b[0;34m\u001b[0m\n\u001b[0;32m----> 1\u001b[0;31m \u001b[0mhistory1\u001b[0m \u001b[0;34m=\u001b[0m \u001b[0mmodel1\u001b[0m\u001b[0;34m.\u001b[0m\u001b[0mfit\u001b[0m\u001b[0;34m(\u001b[0m\u001b[0mE1X_train\u001b[0m\u001b[0;34m,\u001b[0m \u001b[0mE1Y_train\u001b[0m\u001b[0;34m,\u001b[0m \u001b[0mbatch_size\u001b[0m\u001b[0;34m=\u001b[0m\u001b[0;36m64\u001b[0m\u001b[0;34m,\u001b[0m \u001b[0mvalidation_data\u001b[0m\u001b[0;34m=\u001b[0m\u001b[0;34m(\u001b[0m\u001b[0mE1X_test\u001b[0m\u001b[0;34m,\u001b[0m \u001b[0mE1Y_test\u001b[0m\u001b[0;34m)\u001b[0m\u001b[0;34m,\u001b[0m \u001b[0mepochs\u001b[0m\u001b[0;34m=\u001b[0m\u001b[0;36m20\u001b[0m\u001b[0;34m)\u001b[0m\u001b[0;34m\u001b[0m\u001b[0;34m\u001b[0m\u001b[0m\n\u001b[0m",
      "\u001b[0;32m~/anaconda3/lib/python3.7/site-packages/keras/engine/training.py\u001b[0m in \u001b[0;36mfit\u001b[0;34m(self, x, y, batch_size, epochs, verbose, callbacks, validation_split, validation_data, shuffle, class_weight, sample_weight, initial_epoch, steps_per_epoch, validation_steps, validation_freq, max_queue_size, workers, use_multiprocessing, **kwargs)\u001b[0m\n\u001b[1;32m   1237\u001b[0m                                         \u001b[0msteps_per_epoch\u001b[0m\u001b[0;34m=\u001b[0m\u001b[0msteps_per_epoch\u001b[0m\u001b[0;34m,\u001b[0m\u001b[0;34m\u001b[0m\u001b[0;34m\u001b[0m\u001b[0m\n\u001b[1;32m   1238\u001b[0m                                         \u001b[0mvalidation_steps\u001b[0m\u001b[0;34m=\u001b[0m\u001b[0mvalidation_steps\u001b[0m\u001b[0;34m,\u001b[0m\u001b[0;34m\u001b[0m\u001b[0;34m\u001b[0m\u001b[0m\n\u001b[0;32m-> 1239\u001b[0;31m                                         validation_freq=validation_freq)\n\u001b[0m\u001b[1;32m   1240\u001b[0m \u001b[0;34m\u001b[0m\u001b[0m\n\u001b[1;32m   1241\u001b[0m     def evaluate(self,\n",
      "\u001b[0;32m~/anaconda3/lib/python3.7/site-packages/keras/engine/training_arrays.py\u001b[0m in \u001b[0;36mfit_loop\u001b[0;34m(model, fit_function, fit_inputs, out_labels, batch_size, epochs, verbose, callbacks, val_function, val_inputs, shuffle, initial_epoch, steps_per_epoch, validation_steps, validation_freq)\u001b[0m\n\u001b[1;32m    194\u001b[0m                     \u001b[0mins_batch\u001b[0m\u001b[0;34m[\u001b[0m\u001b[0mi\u001b[0m\u001b[0;34m]\u001b[0m \u001b[0;34m=\u001b[0m \u001b[0mins_batch\u001b[0m\u001b[0;34m[\u001b[0m\u001b[0mi\u001b[0m\u001b[0;34m]\u001b[0m\u001b[0;34m.\u001b[0m\u001b[0mtoarray\u001b[0m\u001b[0;34m(\u001b[0m\u001b[0;34m)\u001b[0m\u001b[0;34m\u001b[0m\u001b[0;34m\u001b[0m\u001b[0m\n\u001b[1;32m    195\u001b[0m \u001b[0;34m\u001b[0m\u001b[0m\n\u001b[0;32m--> 196\u001b[0;31m                 \u001b[0mouts\u001b[0m \u001b[0;34m=\u001b[0m \u001b[0mfit_function\u001b[0m\u001b[0;34m(\u001b[0m\u001b[0mins_batch\u001b[0m\u001b[0;34m)\u001b[0m\u001b[0;34m\u001b[0m\u001b[0;34m\u001b[0m\u001b[0m\n\u001b[0m\u001b[1;32m    197\u001b[0m                 \u001b[0mouts\u001b[0m \u001b[0;34m=\u001b[0m \u001b[0mto_list\u001b[0m\u001b[0;34m(\u001b[0m\u001b[0mouts\u001b[0m\u001b[0;34m)\u001b[0m\u001b[0;34m\u001b[0m\u001b[0;34m\u001b[0m\u001b[0m\n\u001b[1;32m    198\u001b[0m                 \u001b[0;32mfor\u001b[0m \u001b[0ml\u001b[0m\u001b[0;34m,\u001b[0m \u001b[0mo\u001b[0m \u001b[0;32min\u001b[0m \u001b[0mzip\u001b[0m\u001b[0;34m(\u001b[0m\u001b[0mout_labels\u001b[0m\u001b[0;34m,\u001b[0m \u001b[0mouts\u001b[0m\u001b[0;34m)\u001b[0m\u001b[0;34m:\u001b[0m\u001b[0;34m\u001b[0m\u001b[0;34m\u001b[0m\u001b[0m\n",
      "\u001b[0;32m~/anaconda3/lib/python3.7/site-packages/tensorflow_core/python/keras/backend.py\u001b[0m in \u001b[0;36m__call__\u001b[0;34m(self, inputs)\u001b[0m\n\u001b[1;32m   3725\u001b[0m         \u001b[0mvalue\u001b[0m \u001b[0;34m=\u001b[0m \u001b[0mmath_ops\u001b[0m\u001b[0;34m.\u001b[0m\u001b[0mcast\u001b[0m\u001b[0;34m(\u001b[0m\u001b[0mvalue\u001b[0m\u001b[0;34m,\u001b[0m \u001b[0mtensor\u001b[0m\u001b[0;34m.\u001b[0m\u001b[0mdtype\u001b[0m\u001b[0;34m)\u001b[0m\u001b[0;34m\u001b[0m\u001b[0;34m\u001b[0m\u001b[0m\n\u001b[1;32m   3726\u001b[0m       \u001b[0mconverted_inputs\u001b[0m\u001b[0;34m.\u001b[0m\u001b[0mappend\u001b[0m\u001b[0;34m(\u001b[0m\u001b[0mvalue\u001b[0m\u001b[0;34m)\u001b[0m\u001b[0;34m\u001b[0m\u001b[0;34m\u001b[0m\u001b[0m\n\u001b[0;32m-> 3727\u001b[0;31m     \u001b[0moutputs\u001b[0m \u001b[0;34m=\u001b[0m \u001b[0mself\u001b[0m\u001b[0;34m.\u001b[0m\u001b[0m_graph_fn\u001b[0m\u001b[0;34m(\u001b[0m\u001b[0;34m*\u001b[0m\u001b[0mconverted_inputs\u001b[0m\u001b[0;34m)\u001b[0m\u001b[0;34m\u001b[0m\u001b[0;34m\u001b[0m\u001b[0m\n\u001b[0m\u001b[1;32m   3728\u001b[0m \u001b[0;34m\u001b[0m\u001b[0m\n\u001b[1;32m   3729\u001b[0m     \u001b[0;31m# EagerTensor.numpy() will often make a copy to ensure memory safety.\u001b[0m\u001b[0;34m\u001b[0m\u001b[0;34m\u001b[0m\u001b[0;34m\u001b[0m\u001b[0m\n",
      "\u001b[0;32m~/anaconda3/lib/python3.7/site-packages/tensorflow_core/python/eager/function.py\u001b[0m in \u001b[0;36m__call__\u001b[0;34m(self, *args, **kwargs)\u001b[0m\n\u001b[1;32m   1549\u001b[0m       \u001b[0mTypeError\u001b[0m\u001b[0;34m:\u001b[0m \u001b[0mFor\u001b[0m \u001b[0minvalid\u001b[0m \u001b[0mpositional\u001b[0m\u001b[0;34m/\u001b[0m\u001b[0mkeyword\u001b[0m \u001b[0margument\u001b[0m \u001b[0mcombinations\u001b[0m\u001b[0;34m.\u001b[0m\u001b[0;34m\u001b[0m\u001b[0;34m\u001b[0m\u001b[0m\n\u001b[1;32m   1550\u001b[0m     \"\"\"\n\u001b[0;32m-> 1551\u001b[0;31m     \u001b[0;32mreturn\u001b[0m \u001b[0mself\u001b[0m\u001b[0;34m.\u001b[0m\u001b[0m_call_impl\u001b[0m\u001b[0;34m(\u001b[0m\u001b[0margs\u001b[0m\u001b[0;34m,\u001b[0m \u001b[0mkwargs\u001b[0m\u001b[0;34m)\u001b[0m\u001b[0;34m\u001b[0m\u001b[0;34m\u001b[0m\u001b[0m\n\u001b[0m\u001b[1;32m   1552\u001b[0m \u001b[0;34m\u001b[0m\u001b[0m\n\u001b[1;32m   1553\u001b[0m   \u001b[0;32mdef\u001b[0m \u001b[0m_call_impl\u001b[0m\u001b[0;34m(\u001b[0m\u001b[0mself\u001b[0m\u001b[0;34m,\u001b[0m \u001b[0margs\u001b[0m\u001b[0;34m,\u001b[0m \u001b[0mkwargs\u001b[0m\u001b[0;34m,\u001b[0m \u001b[0mcancellation_manager\u001b[0m\u001b[0;34m=\u001b[0m\u001b[0;32mNone\u001b[0m\u001b[0;34m)\u001b[0m\u001b[0;34m:\u001b[0m\u001b[0;34m\u001b[0m\u001b[0;34m\u001b[0m\u001b[0m\n",
      "\u001b[0;32m~/anaconda3/lib/python3.7/site-packages/tensorflow_core/python/eager/function.py\u001b[0m in \u001b[0;36m_call_impl\u001b[0;34m(self, args, kwargs, cancellation_manager)\u001b[0m\n\u001b[1;32m   1589\u001b[0m       raise TypeError(\"Keyword arguments {} unknown. Expected {}.\".format(\n\u001b[1;32m   1590\u001b[0m           list(kwargs.keys()), list(self._arg_keywords)))\n\u001b[0;32m-> 1591\u001b[0;31m     \u001b[0;32mreturn\u001b[0m \u001b[0mself\u001b[0m\u001b[0;34m.\u001b[0m\u001b[0m_call_flat\u001b[0m\u001b[0;34m(\u001b[0m\u001b[0margs\u001b[0m\u001b[0;34m,\u001b[0m \u001b[0mself\u001b[0m\u001b[0;34m.\u001b[0m\u001b[0mcaptured_inputs\u001b[0m\u001b[0;34m,\u001b[0m \u001b[0mcancellation_manager\u001b[0m\u001b[0;34m)\u001b[0m\u001b[0;34m\u001b[0m\u001b[0;34m\u001b[0m\u001b[0m\n\u001b[0m\u001b[1;32m   1592\u001b[0m \u001b[0;34m\u001b[0m\u001b[0m\n\u001b[1;32m   1593\u001b[0m   \u001b[0;32mdef\u001b[0m \u001b[0m_filtered_call\u001b[0m\u001b[0;34m(\u001b[0m\u001b[0mself\u001b[0m\u001b[0;34m,\u001b[0m \u001b[0margs\u001b[0m\u001b[0;34m,\u001b[0m \u001b[0mkwargs\u001b[0m\u001b[0;34m)\u001b[0m\u001b[0;34m:\u001b[0m\u001b[0;34m\u001b[0m\u001b[0;34m\u001b[0m\u001b[0m\n",
      "\u001b[0;32m~/anaconda3/lib/python3.7/site-packages/tensorflow_core/python/eager/function.py\u001b[0m in \u001b[0;36m_call_flat\u001b[0;34m(self, args, captured_inputs, cancellation_manager)\u001b[0m\n\u001b[1;32m   1690\u001b[0m       \u001b[0;31m# No tape is watching; skip to running the function.\u001b[0m\u001b[0;34m\u001b[0m\u001b[0;34m\u001b[0m\u001b[0;34m\u001b[0m\u001b[0m\n\u001b[1;32m   1691\u001b[0m       return self._build_call_outputs(self._inference_function.call(\n\u001b[0;32m-> 1692\u001b[0;31m           ctx, args, cancellation_manager=cancellation_manager))\n\u001b[0m\u001b[1;32m   1693\u001b[0m     forward_backward = self._select_forward_and_backward_functions(\n\u001b[1;32m   1694\u001b[0m         \u001b[0margs\u001b[0m\u001b[0;34m,\u001b[0m\u001b[0;34m\u001b[0m\u001b[0;34m\u001b[0m\u001b[0m\n",
      "\u001b[0;32m~/anaconda3/lib/python3.7/site-packages/tensorflow_core/python/eager/function.py\u001b[0m in \u001b[0;36mcall\u001b[0;34m(self, ctx, args, cancellation_manager)\u001b[0m\n\u001b[1;32m    543\u001b[0m               \u001b[0minputs\u001b[0m\u001b[0;34m=\u001b[0m\u001b[0margs\u001b[0m\u001b[0;34m,\u001b[0m\u001b[0;34m\u001b[0m\u001b[0;34m\u001b[0m\u001b[0m\n\u001b[1;32m    544\u001b[0m               \u001b[0mattrs\u001b[0m\u001b[0;34m=\u001b[0m\u001b[0;34m(\u001b[0m\u001b[0;34m\"executor_type\"\u001b[0m\u001b[0;34m,\u001b[0m \u001b[0mexecutor_type\u001b[0m\u001b[0;34m,\u001b[0m \u001b[0;34m\"config_proto\"\u001b[0m\u001b[0;34m,\u001b[0m \u001b[0mconfig\u001b[0m\u001b[0;34m)\u001b[0m\u001b[0;34m,\u001b[0m\u001b[0;34m\u001b[0m\u001b[0;34m\u001b[0m\u001b[0m\n\u001b[0;32m--> 545\u001b[0;31m               ctx=ctx)\n\u001b[0m\u001b[1;32m    546\u001b[0m         \u001b[0;32melse\u001b[0m\u001b[0;34m:\u001b[0m\u001b[0;34m\u001b[0m\u001b[0;34m\u001b[0m\u001b[0m\n\u001b[1;32m    547\u001b[0m           outputs = execute.execute_with_cancellation(\n",
      "\u001b[0;32m~/anaconda3/lib/python3.7/site-packages/tensorflow_core/python/eager/execute.py\u001b[0m in \u001b[0;36mquick_execute\u001b[0;34m(op_name, num_outputs, inputs, attrs, ctx, name)\u001b[0m\n\u001b[1;32m     59\u001b[0m     tensors = pywrap_tensorflow.TFE_Py_Execute(ctx._handle, device_name,\n\u001b[1;32m     60\u001b[0m                                                \u001b[0mop_name\u001b[0m\u001b[0;34m,\u001b[0m \u001b[0minputs\u001b[0m\u001b[0;34m,\u001b[0m \u001b[0mattrs\u001b[0m\u001b[0;34m,\u001b[0m\u001b[0;34m\u001b[0m\u001b[0;34m\u001b[0m\u001b[0m\n\u001b[0;32m---> 61\u001b[0;31m                                                num_outputs)\n\u001b[0m\u001b[1;32m     62\u001b[0m   \u001b[0;32mexcept\u001b[0m \u001b[0mcore\u001b[0m\u001b[0;34m.\u001b[0m\u001b[0m_NotOkStatusException\u001b[0m \u001b[0;32mas\u001b[0m \u001b[0me\u001b[0m\u001b[0;34m:\u001b[0m\u001b[0;34m\u001b[0m\u001b[0;34m\u001b[0m\u001b[0m\n\u001b[1;32m     63\u001b[0m     \u001b[0;32mif\u001b[0m \u001b[0mname\u001b[0m \u001b[0;32mis\u001b[0m \u001b[0;32mnot\u001b[0m \u001b[0;32mNone\u001b[0m\u001b[0;34m:\u001b[0m\u001b[0;34m\u001b[0m\u001b[0;34m\u001b[0m\u001b[0m\n",
      "\u001b[0;31mKeyboardInterrupt\u001b[0m: "
     ]
    }
   ],
   "source": [
    "history1 = model1.fit(E1X_train, E1Y_train, batch_size=64, validation_data=(E1X_test, E1Y_test), epochs=20)"
   ]
  },
  {
   "cell_type": "markdown",
   "metadata": {},
   "source": [
    "# E2"
   ]
  },
  {
   "cell_type": "code",
   "execution_count": 96,
   "metadata": {},
   "outputs": [
    {
     "name": "stdout",
     "output_type": "stream",
     "text": [
      "200223\n"
     ]
    }
   ],
   "source": [
    "folder = 'EnergySplit/E2/'\n",
    "i = 0\n",
    "for file in os.listdir(folder):\n",
    "        i += 1\n",
    "print(i)"
   ]
  },
  {
   "cell_type": "code",
   "execution_count": 117,
   "metadata": {},
   "outputs": [],
   "source": [
    "E2 = np.empty((200223, 100, 1), dtype=cp.float64)\n",
    "labels_E2 = np.zeros(200223)\n",
    "folder = 'EnergySplit/E2/'\n",
    "i = 0\n",
    "for file in os.listdir(folder):\n",
    "    if file.startswith('el'):\n",
    "        labels_E2[i] = 1\n",
    "    array = np.load(folder + file)\n",
    "    array = cp.reshape(array, (100,1))\n",
    "    E2[i] = array\n",
    "    i += 1"
   ]
  },
  {
   "cell_type": "code",
   "execution_count": 118,
   "metadata": {},
   "outputs": [],
   "source": [
    "E2 = E2/E2.max()"
   ]
  },
  {
   "cell_type": "code",
   "execution_count": 119,
   "metadata": {},
   "outputs": [],
   "source": [
    "E2X_train, E2X_test, E2Y_train, E2Y_test = train_test_split(E2 , labels_E2 ,test_size=0.2)"
   ]
  },
  {
   "cell_type": "code",
   "execution_count": 120,
   "metadata": {},
   "outputs": [],
   "source": [
    "model2_1 = Sequential()\n",
    "model2_1.add(Flatten(input_shape=(100,1)))\n",
    "model2_1.add(BatchNormalization())\n",
    "model2_1.add(Dense(50, activation='relu', kernel_initializer='he_uniform'))\n",
    "model2_1.add(Dense(25, activation='relu', kernel_initializer='he_uniform'))\n",
    "model2_1.add(Dense(10, activation='relu', kernel_initializer='he_uniform'))\n",
    "model2_1.add(Dense(1, activation='sigmoid'))"
   ]
  },
  {
   "cell_type": "code",
   "execution_count": 121,
   "metadata": {},
   "outputs": [],
   "source": [
    "from keras.optimizers import Adam\n",
    "opt = Adam(lr=0.0001)\n",
    "model2_1.compile(loss='binary_crossentropy', optimizer=opt, metrics=['accuracy'])"
   ]
  },
  {
   "cell_type": "code",
   "execution_count": 122,
   "metadata": {
    "scrolled": true
   },
   "outputs": [
    {
     "name": "stdout",
     "output_type": "stream",
     "text": [
      "Train on 160178 samples, validate on 40045 samples\n",
      "Epoch 1/20\n",
      "160178/160178 [==============================] - 6s 40us/step - loss: 0.6660 - accuracy: 0.5863 - val_loss: 0.6430 - val_accuracy: 0.6254\n",
      "Epoch 2/20\n",
      "160178/160178 [==============================] - 6s 36us/step - loss: 0.6329 - accuracy: 0.6391 - val_loss: 0.6261 - val_accuracy: 0.6483\n",
      "Epoch 3/20\n",
      "160178/160178 [==============================] - 7s 45us/step - loss: 0.6238 - accuracy: 0.6505 - val_loss: 0.6206 - val_accuracy: 0.6560\n",
      "Epoch 4/20\n",
      "160178/160178 [==============================] - 6s 39us/step - loss: 0.6194 - accuracy: 0.6549 - val_loss: 0.6169 - val_accuracy: 0.6604\n",
      "Epoch 5/20\n",
      "160178/160178 [==============================] - 7s 42us/step - loss: 0.6163 - accuracy: 0.6578 - val_loss: 0.6155 - val_accuracy: 0.6607\n",
      "Epoch 6/20\n",
      "160178/160178 [==============================] - 7s 42us/step - loss: 0.6153 - accuracy: 0.6579 - val_loss: 0.6131 - val_accuracy: 0.6634\n",
      "Epoch 7/20\n",
      "160178/160178 [==============================] - 6s 40us/step - loss: 0.6135 - accuracy: 0.6606 - val_loss: 0.6120 - val_accuracy: 0.6634\n",
      "Epoch 8/20\n",
      "160178/160178 [==============================] - 6s 36us/step - loss: 0.6127 - accuracy: 0.6599 - val_loss: 0.6107 - val_accuracy: 0.6645\n",
      "Epoch 9/20\n",
      "160178/160178 [==============================] - 7s 44us/step - loss: 0.6116 - accuracy: 0.6605 - val_loss: 0.6113 - val_accuracy: 0.6640\n",
      "Epoch 10/20\n",
      "160178/160178 [==============================] - 6s 39us/step - loss: 0.6108 - accuracy: 0.6616 - val_loss: 0.6088 - val_accuracy: 0.6658\n",
      "Epoch 11/20\n",
      "160178/160178 [==============================] - 6s 36us/step - loss: 0.6105 - accuracy: 0.6620 - val_loss: 0.6097 - val_accuracy: 0.6658\n",
      "Epoch 12/20\n",
      "160178/160178 [==============================] - 6s 36us/step - loss: 0.6092 - accuracy: 0.6629 - val_loss: 0.6105 - val_accuracy: 0.6655\n",
      "Epoch 13/20\n",
      "160178/160178 [==============================] - 7s 43us/step - loss: 0.6084 - accuracy: 0.6648 - val_loss: 0.6069 - val_accuracy: 0.6682\n",
      "Epoch 14/20\n",
      "160178/160178 [==============================] - 7s 44us/step - loss: 0.6075 - accuracy: 0.6644 - val_loss: 0.6071 - val_accuracy: 0.6668\n",
      "Epoch 15/20\n",
      "160178/160178 [==============================] - 6s 39us/step - loss: 0.6070 - accuracy: 0.6646 - val_loss: 0.6070 - val_accuracy: 0.6682\n",
      "Epoch 16/20\n",
      "160178/160178 [==============================] - 6s 38us/step - loss: 0.6065 - accuracy: 0.6664 - val_loss: 0.6060 - val_accuracy: 0.6675\n",
      "Epoch 17/20\n",
      "160178/160178 [==============================] - 8s 48us/step - loss: 0.6060 - accuracy: 0.6664 - val_loss: 0.6051 - val_accuracy: 0.6695\n",
      "Epoch 18/20\n",
      "160178/160178 [==============================] - 8s 50us/step - loss: 0.6058 - accuracy: 0.6665 - val_loss: 0.6052 - val_accuracy: 0.6681\n",
      "Epoch 19/20\n",
      "160178/160178 [==============================] - 7s 44us/step - loss: 0.6052 - accuracy: 0.6669 - val_loss: 0.6050 - val_accuracy: 0.6700\n",
      "Epoch 20/20\n",
      "160178/160178 [==============================] - 7s 45us/step - loss: 0.6054 - accuracy: 0.6670 - val_loss: 0.6042 - val_accuracy: 0.6712\n"
     ]
    }
   ],
   "source": [
    "history2_1 = model2_1.fit(E2X_train, E2Y_train, batch_size=64, validation_data=(E2X_test, E2Y_test), epochs=20)"
   ]
  },
  {
   "cell_type": "code",
   "execution_count": 123,
   "metadata": {},
   "outputs": [
    {
     "data": {
      "image/png": "[encoded data removed]",
      "text/plain": [
       "<Figure size 432x288 with 2 Axes>"
      ]
     },
     "metadata": {
      "needs_background": "light"
     },
     "output_type": "display_data"
    }
   ],
   "source": [
    "summarize_diagnostics(history2_1)"
   ]
  },
  {
   "cell_type": "markdown",
   "metadata": {},
   "source": [
    "# E3"
   ]
  },
  {
   "cell_type": "code",
   "execution_count": 124,
   "metadata": {},
   "outputs": [
    {
     "name": "stdout",
     "output_type": "stream",
     "text": [
      "200417\n"
     ]
    }
   ],
   "source": [
    "folder = 'EnergySplit/E3/'\n",
    "i = 0\n",
    "for file in os.listdir(folder):\n",
    "        i += 1\n",
    "print(i)"
   ]
  },
  {
   "cell_type": "code",
   "execution_count": 125,
   "metadata": {},
   "outputs": [],
   "source": [
    "E3 = np.empty((200417, 100, 1), dtype=cp.float64)\n",
    "labels_E3 = np.zeros(200417)\n",
    "folder = 'EnergySplit/E3/'\n",
    "i = 0\n",
    "for file in os.listdir(folder):\n",
    "    if file.startswith('el'):\n",
    "        labels_E3[i] = 1\n",
    "    array = np.load(folder + file)\n",
    "    array = cp.reshape(array, (100,1))\n",
    "    E3[i] = array\n",
    "    i += 1"
   ]
  },
  {
   "cell_type": "code",
   "execution_count": 126,
   "metadata": {},
   "outputs": [],
   "source": [
    "E3 = E3/E3.max()"
   ]
  },
  {
   "cell_type": "code",
   "execution_count": 127,
   "metadata": {},
   "outputs": [],
   "source": [
    "E3X_train, E3X_test, E3Y_train, E3Y_test = train_test_split(E3 , labels_E3 ,test_size=0.2)"
   ]
  },
  {
   "cell_type": "code",
   "execution_count": 128,
   "metadata": {},
   "outputs": [],
   "source": [
    "model3_1 = Sequential()\n",
    "model3_1.add(Flatten(input_shape=(100,1)))\n",
    "model3_1.add(BatchNormalization())\n",
    "model3_1.add(Dense(50, activation='relu', kernel_initializer='he_uniform'))\n",
    "model3_1.add(Dense(25, activation='relu', kernel_initializer='he_uniform'))\n",
    "model3_1.add(Dense(10, activation='relu', kernel_initializer='he_uniform'))\n",
    "model3_1.add(Dense(1, activation='sigmoid'))"
   ]
  },
  {
   "cell_type": "code",
   "execution_count": 129,
   "metadata": {},
   "outputs": [],
   "source": [
    "from keras.optimizers import Adam\n",
    "opt = Adam(lr=0.0001)\n",
    "model3_1.compile(loss='binary_crossentropy', optimizer=opt, metrics=['accuracy'])"
   ]
  },
  {
   "cell_type": "code",
   "execution_count": 130,
   "metadata": {
    "scrolled": true
   },
   "outputs": [
    {
     "name": "stdout",
     "output_type": "stream",
     "text": [
      "Train on 160333 samples, validate on 40084 samples\n",
      "Epoch 1/20\n",
      "160333/160333 [==============================] - 7s 41us/step - loss: 0.6734 - accuracy: 0.5744 - val_loss: 0.6569 - val_accuracy: 0.6077\n",
      "Epoch 2/20\n",
      "160333/160333 [==============================] - 6s 37us/step - loss: 0.6532 - accuracy: 0.6119 - val_loss: 0.6481 - val_accuracy: 0.6210\n",
      "Epoch 3/20\n",
      "160333/160333 [==============================] - 6s 40us/step - loss: 0.6474 - accuracy: 0.6199 - val_loss: 0.6439 - val_accuracy: 0.6261\n",
      "Epoch 4/20\n",
      "160333/160333 [==============================] - 6s 36us/step - loss: 0.6440 - accuracy: 0.6243 - val_loss: 0.6424 - val_accuracy: 0.6305\n",
      "Epoch 5/20\n",
      "160333/160333 [==============================] - 6s 39us/step - loss: 0.6420 - accuracy: 0.6283 - val_loss: 0.6401 - val_accuracy: 0.6330\n",
      "Epoch 6/20\n",
      "160333/160333 [==============================] - 6s 38us/step - loss: 0.6402 - accuracy: 0.6307 - val_loss: 0.6399 - val_accuracy: 0.6336\n",
      "Epoch 7/20\n",
      "160333/160333 [==============================] - 6s 37us/step - loss: 0.6395 - accuracy: 0.6308 - val_loss: 0.6380 - val_accuracy: 0.6351\n",
      "Epoch 8/20\n",
      "160333/160333 [==============================] - 6s 39us/step - loss: 0.6385 - accuracy: 0.6316 - val_loss: 0.6379 - val_accuracy: 0.6345\n",
      "Epoch 9/20\n",
      "160333/160333 [==============================] - 7s 42us/step - loss: 0.6381 - accuracy: 0.6324 - val_loss: 0.6368 - val_accuracy: 0.6348\n",
      "Epoch 10/20\n",
      "160333/160333 [==============================] - 7s 44us/step - loss: 0.6370 - accuracy: 0.6340 - val_loss: 0.6366 - val_accuracy: 0.6369\n",
      "Epoch 11/20\n",
      "160333/160333 [==============================] - 6s 37us/step - loss: 0.6366 - accuracy: 0.6339 - val_loss: 0.6365 - val_accuracy: 0.6361\n",
      "Epoch 12/20\n",
      "160333/160333 [==============================] - 6s 37us/step - loss: 0.6364 - accuracy: 0.6344 - val_loss: 0.6355 - val_accuracy: 0.6355\n",
      "Epoch 13/20\n",
      "160333/160333 [==============================] - 6s 39us/step - loss: 0.6359 - accuracy: 0.6343 - val_loss: 0.6364 - val_accuracy: 0.6362\n",
      "Epoch 14/20\n",
      "160333/160333 [==============================] - 7s 44us/step - loss: 0.6348 - accuracy: 0.6365 - val_loss: 0.6355 - val_accuracy: 0.6370\n",
      "Epoch 15/20\n",
      "160333/160333 [==============================] - 7s 43us/step - loss: 0.6344 - accuracy: 0.6363 - val_loss: 0.6347 - val_accuracy: 0.6383\n",
      "Epoch 16/20\n",
      "160333/160333 [==============================] - 8s 47us/step - loss: 0.6343 - accuracy: 0.6357 - val_loss: 0.6342 - val_accuracy: 0.6379\n",
      "Epoch 17/20\n",
      "160333/160333 [==============================] - 6s 35us/step - loss: 0.6344 - accuracy: 0.6364 - val_loss: 0.6337 - val_accuracy: 0.6387\n",
      "Epoch 18/20\n",
      "160333/160333 [==============================] - 5s 34us/step - loss: 0.6339 - accuracy: 0.6370 - val_loss: 0.6360 - val_accuracy: 0.6341\n",
      "Epoch 19/20\n",
      "160333/160333 [==============================] - 6s 40us/step - loss: 0.6333 - accuracy: 0.6376 - val_loss: 0.6335 - val_accuracy: 0.6386\n",
      "Epoch 20/20\n",
      "160333/160333 [==============================] - 6s 40us/step - loss: 0.6328 - accuracy: 0.6380 - val_loss: 0.6333 - val_accuracy: 0.6386\n"
     ]
    }
   ],
   "source": [
    "history3_1 = model3_1.fit(E3X_train, E3Y_train, batch_size=64, validation_data=(E3X_test, E3Y_test), epochs=20)"
   ]
  },
  {
   "cell_type": "code",
   "execution_count": 131,
   "metadata": {},
   "outputs": [
    {
     "data": {
      "image/png": "[encoded data removed]",
      "text/plain": [
       "<Figure size 432x288 with 2 Axes>"
      ]
     },
     "metadata": {
      "needs_background": "light"
     },
     "output_type": "display_data"
    }
   ],
   "source": [
    "summarize_diagnostics(history3_1)"
   ]
  },
  {
   "cell_type": "markdown",
   "metadata": {},
   "source": [
    "# E4"
   ]
  },
  {
   "cell_type": "code",
   "execution_count": 132,
   "metadata": {},
   "outputs": [
    {
     "name": "stdout",
     "output_type": "stream",
     "text": [
      "200633\n"
     ]
    }
   ],
   "source": [
    "folder = 'EnergySplit/E4/'\n",
    "i = 0\n",
    "for file in os.listdir(folder):\n",
    "        i += 1\n",
    "print(i)"
   ]
  },
  {
   "cell_type": "code",
   "execution_count": 133,
   "metadata": {},
   "outputs": [],
   "source": [
    "E4 = np.empty((200633, 100, 1), dtype=cp.float64)\n",
    "labels_E4 = np.zeros(200633)\n",
    "folder = 'EnergySplit/E4/'\n",
    "i = 0\n",
    "for file in os.listdir(folder):\n",
    "    if file.startswith('el'):\n",
    "        labels_E4[i] = 1\n",
    "    array = np.load(folder + file)\n",
    "    array = cp.reshape(array, (100,1))\n",
    "    E4[i] = array\n",
    "    i += 1"
   ]
  },
  {
   "cell_type": "code",
   "execution_count": 134,
   "metadata": {},
   "outputs": [],
   "source": [
    "E4 = E4/E4.max()"
   ]
  },
  {
   "cell_type": "code",
   "execution_count": 135,
   "metadata": {},
   "outputs": [],
   "source": [
    "E4X_train, E4X_test, E4Y_train, E4Y_test = train_test_split(E4 , labels_E4 ,test_size=0.2)"
   ]
  },
  {
   "cell_type": "code",
   "execution_count": 136,
   "metadata": {},
   "outputs": [],
   "source": [
    "model4_1 = Sequential()\n",
    "model4_1.add(Flatten(input_shape=(100,1)))\n",
    "model4_1.add(BatchNormalization())\n",
    "model4_1.add(Dense(50, activation='relu', kernel_initializer='he_uniform'))\n",
    "model4_1.add(Dense(25, activation='relu', kernel_initializer='he_uniform'))\n",
    "model4_1.add(Dense(10, activation='relu', kernel_initializer='he_uniform'))\n",
    "model4_1.add(Dense(1, activation='sigmoid'))"
   ]
  },
  {
   "cell_type": "code",
   "execution_count": 139,
   "metadata": {},
   "outputs": [],
   "source": [
    "from keras.optimizers import Adam\n",
    "opt = Adam(lr=0.0001)\n",
    "model4_1.compile(loss='binary_crossentropy', optimizer=opt, metrics=['accuracy'])"
   ]
  },
  {
   "cell_type": "code",
   "execution_count": 140,
   "metadata": {
    "scrolled": true
   },
   "outputs": [
    {
     "name": "stdout",
     "output_type": "stream",
     "text": [
      "Train on 160506 samples, validate on 40127 samples\n",
      "Epoch 1/20\n",
      "160506/160506 [==============================] - 7s 42us/step - loss: 0.6798 - accuracy: 0.5629 - val_loss: 0.6689 - val_accuracy: 0.5847\n",
      "Epoch 2/20\n",
      "160506/160506 [==============================] - 7s 42us/step - loss: 0.6642 - accuracy: 0.5933 - val_loss: 0.6614 - val_accuracy: 0.5968\n",
      "Epoch 3/20\n",
      "160506/160506 [==============================] - 7s 42us/step - loss: 0.6596 - accuracy: 0.6009 - val_loss: 0.6577 - val_accuracy: 0.6022\n",
      "Epoch 4/20\n",
      "160506/160506 [==============================] - 6s 39us/step - loss: 0.6571 - accuracy: 0.6052 - val_loss: 0.6555 - val_accuracy: 0.6050\n",
      "Epoch 5/20\n",
      "160506/160506 [==============================] - 6s 40us/step - loss: 0.6557 - accuracy: 0.6067 - val_loss: 0.6540 - val_accuracy: 0.6063\n",
      "Epoch 6/20\n",
      "160506/160506 [==============================] - 6s 38us/step - loss: 0.6543 - accuracy: 0.6085 - val_loss: 0.6530 - val_accuracy: 0.6083\n",
      "Epoch 7/20\n",
      "160506/160506 [==============================] - 6s 39us/step - loss: 0.6536 - accuracy: 0.6092 - val_loss: 0.6523 - val_accuracy: 0.6088\n",
      "Epoch 8/20\n",
      "160506/160506 [==============================] - 7s 42us/step - loss: 0.6527 - accuracy: 0.6110 - val_loss: 0.6508 - val_accuracy: 0.6112\n",
      "Epoch 9/20\n",
      "160506/160506 [==============================] - 6s 40us/step - loss: 0.6519 - accuracy: 0.6121 - val_loss: 0.6508 - val_accuracy: 0.6118\n",
      "Epoch 10/20\n",
      "160506/160506 [==============================] - 6s 38us/step - loss: 0.6517 - accuracy: 0.6131 - val_loss: 0.6502 - val_accuracy: 0.6118\n",
      "Epoch 11/20\n",
      "160506/160506 [==============================] - 6s 37us/step - loss: 0.6507 - accuracy: 0.6142 - val_loss: 0.6501 - val_accuracy: 0.6120\n",
      "Epoch 12/20\n",
      "160506/160506 [==============================] - 7s 46us/step - loss: 0.6505 - accuracy: 0.6140 - val_loss: 0.6493 - val_accuracy: 0.6145\n",
      "Epoch 13/20\n",
      "160506/160506 [==============================] - 8s 48us/step - loss: 0.6501 - accuracy: 0.6153 - val_loss: 0.6491 - val_accuracy: 0.6139\n",
      "Epoch 14/20\n",
      "160506/160506 [==============================] - 7s 43us/step - loss: 0.6499 - accuracy: 0.6157 - val_loss: 0.6485 - val_accuracy: 0.6153\n",
      "Epoch 15/20\n",
      "160506/160506 [==============================] - 6s 36us/step - loss: 0.6495 - accuracy: 0.6164 - val_loss: 0.6490 - val_accuracy: 0.6146\n",
      "Epoch 16/20\n",
      "160506/160506 [==============================] - 6s 38us/step - loss: 0.6489 - accuracy: 0.6163 - val_loss: 0.6481 - val_accuracy: 0.6151\n",
      "Epoch 17/20\n",
      "160506/160506 [==============================] - 7s 41us/step - loss: 0.6490 - accuracy: 0.6161 - val_loss: 0.6490 - val_accuracy: 0.6138\n",
      "Epoch 18/20\n",
      "160506/160506 [==============================] - 6s 40us/step - loss: 0.6486 - accuracy: 0.6164 - val_loss: 0.6489 - val_accuracy: 0.6141\n",
      "Epoch 19/20\n",
      "160506/160506 [==============================] - 6s 38us/step - loss: 0.6483 - accuracy: 0.6158 - val_loss: 0.6478 - val_accuracy: 0.6154\n",
      "Epoch 20/20\n",
      "160506/160506 [==============================] - 7s 44us/step - loss: 0.6480 - accuracy: 0.6179 - val_loss: 0.6474 - val_accuracy: 0.6151\n"
     ]
    }
   ],
   "source": [
    "history4_1 = model4_1.fit(E4X_train, E4Y_train, batch_size=64, validation_data=(E4X_test, E4Y_test), epochs=20)"
   ]
  },
  {
   "cell_type": "code",
   "execution_count": 141,
   "metadata": {},
   "outputs": [
    {
     "data": {
      "image/png": "[encoded data removed]",
      "text/plain": [
       "<Figure size 432x288 with 2 Axes>"
      ]
     },
     "metadata": {
      "needs_background": "light"
     },
     "output_type": "display_data"
    }
   ],
   "source": [
    "summarize_diagnostics(history4_1)"
   ]
  },
  {
   "cell_type": "markdown",
   "metadata": {},
   "source": [
    "# E5"
   ]
  },
  {
   "cell_type": "code",
   "execution_count": 142,
   "metadata": {},
   "outputs": [
    {
     "name": "stdout",
     "output_type": "stream",
     "text": [
      "199364\n"
     ]
    }
   ],
   "source": [
    "folder = 'EnergySplit/E5/'\n",
    "i = 0\n",
    "for file in os.listdir(folder):\n",
    "        i += 1\n",
    "print(i)"
   ]
  },
  {
   "cell_type": "code",
   "execution_count": 143,
   "metadata": {},
   "outputs": [],
   "source": [
    "E5 = np.empty((199364, 100, 1), dtype=cp.float64)\n",
    "labels_E5 = np.zeros(199364)\n",
    "folder = 'EnergySplit/E5/'\n",
    "i = 0\n",
    "for file in os.listdir(folder):\n",
    "    if file.startswith('el'):\n",
    "        labels_E5[i] = 1\n",
    "    array = np.load(folder + file)\n",
    "    array = cp.reshape(array, (100,1))\n",
    "    E5[i] = array\n",
    "    i += 1"
   ]
  },
  {
   "cell_type": "code",
   "execution_count": 144,
   "metadata": {},
   "outputs": [],
   "source": [
    "E5 = E5/E5.max()"
   ]
  },
  {
   "cell_type": "code",
   "execution_count": 145,
   "metadata": {},
   "outputs": [],
   "source": [
    "E5X_train, E5X_test, E5Y_train, E5Y_test = train_test_split(E5 , labels_E5 ,test_size=0.2)"
   ]
  },
  {
   "cell_type": "code",
   "execution_count": 146,
   "metadata": {},
   "outputs": [],
   "source": [
    "model5_1 = Sequential()\n",
    "model5_1.add(Flatten(input_shape=(100,1)))\n",
    "model5_1.add(BatchNormalization())\n",
    "model5_1.add(Dense(50, activation='relu', kernel_initializer='he_uniform'))\n",
    "model5_1.add(Dense(25, activation='relu', kernel_initializer='he_uniform'))\n",
    "model5_1.add(Dense(10, activation='relu', kernel_initializer='he_uniform'))\n",
    "model5_1.add(Dense(1, activation='sigmoid'))"
   ]
  },
  {
   "cell_type": "code",
   "execution_count": 147,
   "metadata": {},
   "outputs": [],
   "source": [
    "from keras.optimizers import Adam\n",
    "opt = Adam(lr=0.0001)\n",
    "model5_1.compile(loss='binary_crossentropy', optimizer=opt, metrics=['accuracy'])"
   ]
  },
  {
   "cell_type": "code",
   "execution_count": 148,
   "metadata": {},
   "outputs": [
    {
     "name": "stdout",
     "output_type": "stream",
     "text": [
      "Train on 159491 samples, validate on 39873 samples\n",
      "Epoch 1/20\n",
      "159491/159491 [==============================] - 6s 37us/step - loss: 0.6885 - accuracy: 0.5468 - val_loss: 0.6769 - val_accuracy: 0.5738\n",
      "Epoch 2/20\n",
      "159491/159491 [==============================] - 6s 40us/step - loss: 0.6737 - accuracy: 0.5803 - val_loss: 0.6674 - val_accuracy: 0.5895\n",
      "Epoch 3/20\n",
      "159491/159491 [==============================] - 7s 47us/step - loss: 0.6684 - accuracy: 0.5885 - val_loss: 0.6641 - val_accuracy: 0.5964\n",
      "Epoch 4/20\n",
      "159491/159491 [==============================] - 7s 43us/step - loss: 0.6664 - accuracy: 0.5920 - val_loss: 0.6627 - val_accuracy: 0.5975\n",
      "Epoch 5/20\n",
      "159491/159491 [==============================] - 7s 44us/step - loss: 0.6646 - accuracy: 0.5937 - val_loss: 0.6618 - val_accuracy: 0.5998\n",
      "Epoch 6/20\n",
      "159491/159491 [==============================] - 8s 47us/step - loss: 0.6632 - accuracy: 0.5961 - val_loss: 0.6611 - val_accuracy: 0.6002\n",
      "Epoch 7/20\n",
      "159491/159491 [==============================] - 7s 43us/step - loss: 0.6624 - accuracy: 0.5980 - val_loss: 0.6596 - val_accuracy: 0.6012\n",
      "Epoch 8/20\n",
      "159491/159491 [==============================] - 7s 44us/step - loss: 0.6616 - accuracy: 0.5998 - val_loss: 0.6592 - val_accuracy: 0.6013\n",
      "Epoch 9/20\n",
      "159491/159491 [==============================] - 7s 45us/step - loss: 0.6607 - accuracy: 0.5997 - val_loss: 0.6589 - val_accuracy: 0.6012\n",
      "Epoch 10/20\n",
      "159491/159491 [==============================] - 7s 41us/step - loss: 0.6607 - accuracy: 0.5995 - val_loss: 0.6582 - val_accuracy: 0.6041\n",
      "Epoch 11/20\n",
      "159491/159491 [==============================] - 6s 40us/step - loss: 0.6599 - accuracy: 0.6003 - val_loss: 0.6582 - val_accuracy: 0.6044\n",
      "Epoch 12/20\n",
      "159491/159491 [==============================] - 6s 40us/step - loss: 0.6599 - accuracy: 0.6020 - val_loss: 0.6596 - val_accuracy: 0.6029\n",
      "Epoch 13/20\n",
      "159491/159491 [==============================] - 8s 52us/step - loss: 0.6592 - accuracy: 0.6029 - val_loss: 0.6577 - val_accuracy: 0.6036\n",
      "Epoch 14/20\n",
      "159491/159491 [==============================] - 7s 45us/step - loss: 0.6590 - accuracy: 0.6022 - val_loss: 0.6575 - val_accuracy: 0.6039\n",
      "Epoch 15/20\n",
      "159491/159491 [==============================] - 7s 41us/step - loss: 0.6589 - accuracy: 0.6023 - val_loss: 0.6570 - val_accuracy: 0.6055\n",
      "Epoch 16/20\n",
      "159491/159491 [==============================] - 7s 47us/step - loss: 0.6586 - accuracy: 0.6030 - val_loss: 0.6575 - val_accuracy: 0.6030\n",
      "Epoch 17/20\n",
      "159491/159491 [==============================] - 7s 44us/step - loss: 0.6585 - accuracy: 0.6035 - val_loss: 0.6575 - val_accuracy: 0.6045\n",
      "Epoch 18/20\n",
      "159491/159491 [==============================] - 7s 46us/step - loss: 0.6582 - accuracy: 0.6037 - val_loss: 0.6566 - val_accuracy: 0.6048\n",
      "Epoch 19/20\n",
      "159491/159491 [==============================] - 6s 39us/step - loss: 0.6577 - accuracy: 0.6034 - val_loss: 0.6566 - val_accuracy: 0.6054\n",
      "Epoch 20/20\n",
      "159491/159491 [==============================] - 6s 38us/step - loss: 0.6575 - accuracy: 0.6048 - val_loss: 0.6571 - val_accuracy: 0.6047\n"
     ]
    }
   ],
   "source": [
    "history5_1 = model5_1.fit(E5X_train, E5Y_train, batch_size=64, validation_data=(E5X_test, E5Y_test), epochs=20)"
   ]
  },
  {
   "cell_type": "code",
   "execution_count": 149,
   "metadata": {},
   "outputs": [
    {
     "data": {
      "image/png": "[encoded data removed]",
      "text/plain": [
       "<Figure size 432x288 with 2 Axes>"
      ]
     },
     "metadata": {
      "needs_background": "light"
     },
     "output_type": "display_data"
    }
   ],
   "source": [
    "summarize_diagnostics(history5_1)"
   ]
  },
  {
   "cell_type": "markdown",
   "metadata": {},
   "source": [
    "# E6"
   ]
  },
  {
   "cell_type": "code",
   "execution_count": 150,
   "metadata": {},
   "outputs": [
    {
     "name": "stdout",
     "output_type": "stream",
     "text": [
      "199556\n"
     ]
    }
   ],
   "source": [
    "folder = 'EnergySplit/E6/'\n",
    "i = 0\n",
    "for file in os.listdir(folder):\n",
    "        i += 1\n",
    "print(i)"
   ]
  },
  {
   "cell_type": "code",
   "execution_count": 151,
   "metadata": {},
   "outputs": [],
   "source": [
    "E6 = np.empty((199556, 100, 1), dtype=cp.float64)\n",
    "labels_E6 = np.zeros(199556)\n",
    "folder = 'EnergySplit/E6/'\n",
    "i = 0\n",
    "for file in os.listdir(folder):\n",
    "    if file.startswith('el'):\n",
    "        labels_E6[i] = 1\n",
    "    array = np.load(folder + file)\n",
    "    array = cp.reshape(array, (100,1))\n",
    "    E6[i] = array\n",
    "    i += 1"
   ]
  },
  {
   "cell_type": "code",
   "execution_count": 152,
   "metadata": {},
   "outputs": [],
   "source": [
    "E6 = E6/E6.max()"
   ]
  },
  {
   "cell_type": "code",
   "execution_count": 153,
   "metadata": {},
   "outputs": [],
   "source": [
    "E6X_train, E6X_test, E6Y_train, E6Y_test = train_test_split(E6 , labels_E6 ,test_size=0.2)"
   ]
  },
  {
   "cell_type": "code",
   "execution_count": 154,
   "metadata": {},
   "outputs": [],
   "source": [
    "model6_1 = Sequential()\n",
    "model6_1.add(Flatten(input_shape=(100,1)))\n",
    "model6_1.add(BatchNormalization())\n",
    "model6_1.add(Dense(50, activation='relu', kernel_initializer='he_uniform'))\n",
    "model6_1.add(Dense(25, activation='relu', kernel_initializer='he_uniform'))\n",
    "model6_1.add(Dense(10, activation='relu', kernel_initializer='he_uniform'))\n",
    "model6_1.add(Dense(1, activation='sigmoid'))"
   ]
  },
  {
   "cell_type": "code",
   "execution_count": 155,
   "metadata": {},
   "outputs": [],
   "source": [
    "from keras.optimizers import Adam\n",
    "opt = Adam(lr=0.0001)\n",
    "model6_1.compile(loss='binary_crossentropy', optimizer=opt, metrics=['accuracy'])"
   ]
  },
  {
   "cell_type": "code",
   "execution_count": 156,
   "metadata": {},
   "outputs": [
    {
     "name": "stdout",
     "output_type": "stream",
     "text": [
      "Train on 159644 samples, validate on 39912 samples\n",
      "Epoch 1/20\n",
      "159644/159644 [==============================] - 7s 41us/step - loss: 0.6863 - accuracy: 0.5472 - val_loss: 0.6782 - val_accuracy: 0.5721\n",
      "Epoch 2/20\n",
      "159644/159644 [==============================] - 6s 41us/step - loss: 0.6762 - accuracy: 0.5729 - val_loss: 0.6710 - val_accuracy: 0.5811\n",
      "Epoch 3/20\n",
      "159644/159644 [==============================] - 7s 42us/step - loss: 0.6717 - accuracy: 0.5796 - val_loss: 0.6688 - val_accuracy: 0.5852\n",
      "Epoch 4/20\n",
      "159644/159644 [==============================] - 7s 41us/step - loss: 0.6698 - accuracy: 0.5821 - val_loss: 0.6673 - val_accuracy: 0.5888\n",
      "Epoch 5/20\n",
      "159644/159644 [==============================] - 7s 43us/step - loss: 0.6682 - accuracy: 0.5849 - val_loss: 0.6663 - val_accuracy: 0.5897\n",
      "Epoch 6/20\n",
      "159644/159644 [==============================] - 6s 40us/step - loss: 0.6676 - accuracy: 0.5861 - val_loss: 0.6659 - val_accuracy: 0.5910\n",
      "Epoch 7/20\n",
      "159644/159644 [==============================] - 7s 45us/step - loss: 0.6665 - accuracy: 0.5871 - val_loss: 0.6645 - val_accuracy: 0.5934\n",
      "Epoch 8/20\n",
      "159644/159644 [==============================] - 6s 40us/step - loss: 0.6659 - accuracy: 0.5881 - val_loss: 0.6641 - val_accuracy: 0.5937\n",
      "Epoch 9/20\n",
      "159644/159644 [==============================] - 7s 47us/step - loss: 0.6653 - accuracy: 0.5895 - val_loss: 0.6642 - val_accuracy: 0.5947\n",
      "Epoch 10/20\n",
      "159644/159644 [==============================] - 8s 47us/step - loss: 0.6644 - accuracy: 0.5907 - val_loss: 0.6632 - val_accuracy: 0.5937\n",
      "Epoch 11/20\n",
      "159644/159644 [==============================] - 6s 40us/step - loss: 0.6641 - accuracy: 0.5921 - val_loss: 0.6628 - val_accuracy: 0.5969\n",
      "Epoch 12/20\n",
      "159644/159644 [==============================] - 7s 41us/step - loss: 0.6638 - accuracy: 0.5918 - val_loss: 0.6641 - val_accuracy: 0.5934\n",
      "Epoch 13/20\n",
      "159644/159644 [==============================] - 7s 43us/step - loss: 0.6635 - accuracy: 0.5930 - val_loss: 0.6621 - val_accuracy: 0.5981\n",
      "Epoch 14/20\n",
      "159644/159644 [==============================] - 6s 39us/step - loss: 0.6633 - accuracy: 0.5930 - val_loss: 0.6618 - val_accuracy: 0.5966\n",
      "Epoch 15/20\n",
      "159644/159644 [==============================] - 5s 34us/step - loss: 0.6629 - accuracy: 0.5924 - val_loss: 0.6619 - val_accuracy: 0.5960\n",
      "Epoch 16/20\n",
      "159644/159644 [==============================] - 6s 40us/step - loss: 0.6631 - accuracy: 0.5934 - val_loss: 0.6635 - val_accuracy: 0.5937\n",
      "Epoch 17/20\n",
      "159644/159644 [==============================] - 6s 39us/step - loss: 0.6627 - accuracy: 0.5940 - val_loss: 0.6612 - val_accuracy: 0.5975\n",
      "Epoch 18/20\n",
      "159644/159644 [==============================] - 6s 36us/step - loss: 0.6624 - accuracy: 0.5945 - val_loss: 0.6612 - val_accuracy: 0.5969\n",
      "Epoch 19/20\n",
      "159644/159644 [==============================] - 6s 37us/step - loss: 0.6622 - accuracy: 0.5942 - val_loss: 0.6611 - val_accuracy: 0.5977\n",
      "Epoch 20/20\n",
      "159644/159644 [==============================] - 7s 41us/step - loss: 0.6620 - accuracy: 0.5942 - val_loss: 0.6608 - val_accuracy: 0.5984\n"
     ]
    }
   ],
   "source": [
    "history6_1 = model6_1.fit(E6X_train, E6Y_train, batch_size=64, validation_data=(E6X_test, E6Y_test), epochs=20)"
   ]
  },
  {
   "cell_type": "code",
   "execution_count": 157,
   "metadata": {},
   "outputs": [
    {
     "data": {
      "image/png": "[encoded data removed]",
      "text/plain": [
       "<Figure size 432x288 with 2 Axes>"
      ]
     },
     "metadata": {
      "needs_background": "light"
     },
     "output_type": "display_data"
    }
   ],
   "source": [
    "summarize_diagnostics(history6_1)"
   ]
  },
  {
   "cell_type": "markdown",
   "metadata": {},
   "source": [
    "# E7"
   ]
  },
  {
   "cell_type": "code",
   "execution_count": 158,
   "metadata": {},
   "outputs": [
    {
     "name": "stdout",
     "output_type": "stream",
     "text": [
      "200168\n"
     ]
    }
   ],
   "source": [
    "folder = 'EnergySplit/E7/'\n",
    "i = 0\n",
    "for file in os.listdir(folder):\n",
    "        i += 1\n",
    "print(i)"
   ]
  },
  {
   "cell_type": "code",
   "execution_count": 159,
   "metadata": {},
   "outputs": [],
   "source": [
    "E7 = np.empty((200168, 100, 1), dtype=cp.float64)\n",
    "labels_E7 = np.zeros(200168)\n",
    "folder = 'EnergySplit/E7/'\n",
    "i = 0\n",
    "for file in os.listdir(folder):\n",
    "    if file.startswith('el'):\n",
    "        labels_E7[i] = 1\n",
    "    array = np.load(folder + file)\n",
    "    array = cp.reshape(array, (100,1))\n",
    "    E7[i] = array\n",
    "    i += 1"
   ]
  },
  {
   "cell_type": "code",
   "execution_count": 160,
   "metadata": {},
   "outputs": [],
   "source": [
    "E7 = E7/E7.max()"
   ]
  },
  {
   "cell_type": "code",
   "execution_count": 161,
   "metadata": {},
   "outputs": [],
   "source": [
    "E7X_train, E7X_test, E7Y_train, E7Y_test = train_test_split(E7 , labels_E7 ,test_size=0.2)"
   ]
  },
  {
   "cell_type": "code",
   "execution_count": 162,
   "metadata": {},
   "outputs": [],
   "source": [
    "model7_1 = Sequential()\n",
    "model7_1.add(Flatten(input_shape=(100,1)))\n",
    "model7_1.add(BatchNormalization())\n",
    "model7_1.add(Dense(50, activation='relu', kernel_initializer='he_uniform'))\n",
    "model7_1.add(Dense(25, activation='relu', kernel_initializer='he_uniform'))\n",
    "model7_1.add(Dense(10, activation='relu', kernel_initializer='he_uniform'))\n",
    "model7_1.add(Dense(1, activation='sigmoid'))"
   ]
  },
  {
   "cell_type": "code",
   "execution_count": 163,
   "metadata": {},
   "outputs": [],
   "source": [
    "from keras.optimizers import Adam\n",
    "opt = Adam(lr=0.0001)\n",
    "model7_1.compile(loss='binary_crossentropy', optimizer=opt, metrics=['accuracy'])"
   ]
  },
  {
   "cell_type": "code",
   "execution_count": 164,
   "metadata": {},
   "outputs": [
    {
     "name": "stdout",
     "output_type": "stream",
     "text": [
      "Train on 160134 samples, validate on 40034 samples\n",
      "Epoch 1/20\n",
      "160134/160134 [==============================] - 7s 47us/step - loss: 0.6898 - accuracy: 0.5355 - val_loss: 0.6844 - val_accuracy: 0.5539\n",
      "Epoch 2/20\n",
      "160134/160134 [==============================] - 7s 43us/step - loss: 0.6805 - accuracy: 0.5645 - val_loss: 0.6764 - val_accuracy: 0.5691\n",
      "Epoch 3/20\n",
      "160134/160134 [==============================] - 7s 43us/step - loss: 0.6756 - accuracy: 0.5727 - val_loss: 0.6740 - val_accuracy: 0.5751\n",
      "Epoch 4/20\n",
      "160134/160134 [==============================] - 7s 41us/step - loss: 0.6737 - accuracy: 0.5767 - val_loss: 0.6728 - val_accuracy: 0.5784\n",
      "Epoch 5/20\n",
      "160134/160134 [==============================] - 6s 37us/step - loss: 0.6720 - accuracy: 0.5788 - val_loss: 0.6719 - val_accuracy: 0.5790\n",
      "Epoch 6/20\n",
      "160134/160134 [==============================] - 7s 42us/step - loss: 0.6711 - accuracy: 0.5810 - val_loss: 0.6714 - val_accuracy: 0.5819\n",
      "Epoch 7/20\n",
      "160134/160134 [==============================] - 8s 51us/step - loss: 0.6704 - accuracy: 0.5812 - val_loss: 0.6702 - val_accuracy: 0.5810\n",
      "Epoch 8/20\n",
      "160134/160134 [==============================] - 6s 37us/step - loss: 0.6698 - accuracy: 0.5828 - val_loss: 0.6699 - val_accuracy: 0.5826\n",
      "Epoch 9/20\n",
      "160134/160134 [==============================] - 6s 38us/step - loss: 0.6696 - accuracy: 0.5839 - val_loss: 0.6701 - val_accuracy: 0.5843\n",
      "Epoch 10/20\n",
      "160134/160134 [==============================] - 8s 48us/step - loss: 0.6690 - accuracy: 0.5853 - val_loss: 0.6692 - val_accuracy: 0.5856\n",
      "Epoch 11/20\n",
      "160134/160134 [==============================] - 7s 43us/step - loss: 0.6686 - accuracy: 0.5855 - val_loss: 0.6687 - val_accuracy: 0.5855\n",
      "Epoch 12/20\n",
      "160134/160134 [==============================] - 7s 47us/step - loss: 0.6681 - accuracy: 0.5859 - val_loss: 0.6684 - val_accuracy: 0.5852\n",
      "Epoch 13/20\n",
      "160134/160134 [==============================] - 7s 43us/step - loss: 0.6678 - accuracy: 0.5867 - val_loss: 0.6679 - val_accuracy: 0.5857\n",
      "Epoch 14/20\n",
      "160134/160134 [==============================] - 7s 45us/step - loss: 0.6675 - accuracy: 0.5861 - val_loss: 0.6681 - val_accuracy: 0.5868\n",
      "Epoch 15/20\n",
      "160134/160134 [==============================] - 6s 38us/step - loss: 0.6676 - accuracy: 0.5869 - val_loss: 0.6684 - val_accuracy: 0.5839\n",
      "Epoch 16/20\n",
      "160134/160134 [==============================] - 7s 45us/step - loss: 0.6670 - accuracy: 0.5870 - val_loss: 0.6681 - val_accuracy: 0.5865\n",
      "Epoch 17/20\n",
      "160134/160134 [==============================] - 7s 43us/step - loss: 0.6668 - accuracy: 0.5880 - val_loss: 0.6673 - val_accuracy: 0.5851\n",
      "Epoch 18/20\n",
      "160134/160134 [==============================] - 7s 45us/step - loss: 0.6670 - accuracy: 0.5884 - val_loss: 0.6683 - val_accuracy: 0.5849\n",
      "Epoch 19/20\n",
      "160134/160134 [==============================] - 7s 41us/step - loss: 0.6666 - accuracy: 0.5887 - val_loss: 0.6677 - val_accuracy: 0.5863\n",
      "Epoch 20/20\n",
      "160134/160134 [==============================] - 6s 37us/step - loss: 0.6666 - accuracy: 0.5883 - val_loss: 0.6674 - val_accuracy: 0.5868\n"
     ]
    }
   ],
   "source": [
    "history7_1 = model7_1.fit(E7X_train, E7Y_train, batch_size=64, validation_data=(E7X_test, E7Y_test), epochs=20)"
   ]
  },
  {
   "cell_type": "code",
   "execution_count": 165,
   "metadata": {},
   "outputs": [
    {
     "data": {
      "image/png": "[encoded data removed]",
      "text/plain": [
       "<Figure size 432x288 with 2 Axes>"
      ]
     },
     "metadata": {
      "needs_background": "light"
     },
     "output_type": "display_data"
    }
   ],
   "source": [
    "summarize_diagnostics(history7_1)"
   ]
  },
  {
   "cell_type": "markdown",
   "metadata": {},
   "source": [
    "# E8"
   ]
  },
  {
   "cell_type": "code",
   "execution_count": 166,
   "metadata": {},
   "outputs": [
    {
     "name": "stdout",
     "output_type": "stream",
     "text": [
      "200057\n"
     ]
    }
   ],
   "source": [
    "folder = 'EnergySplit/E8/'\n",
    "i = 0\n",
    "for file in os.listdir(folder):\n",
    "        i += 1\n",
    "print(i)"
   ]
  },
  {
   "cell_type": "code",
   "execution_count": 167,
   "metadata": {},
   "outputs": [],
   "source": [
    "E8 = np.empty((200057, 100, 1), dtype=cp.float64)\n",
    "labels_E8 = np.zeros(200057)\n",
    "folder = 'EnergySplit/E8/'\n",
    "i = 0\n",
    "for file in os.listdir(folder):\n",
    "    if file.startswith('el'):\n",
    "        labels_E8[i] = 1\n",
    "    array = np.load(folder + file)\n",
    "    array = cp.reshape(array, (100,1))\n",
    "    E8[i] = array\n",
    "    i += 1"
   ]
  },
  {
   "cell_type": "code",
   "execution_count": 168,
   "metadata": {},
   "outputs": [],
   "source": [
    "E8 = E8/E8.max()"
   ]
  },
  {
   "cell_type": "code",
   "execution_count": 169,
   "metadata": {},
   "outputs": [],
   "source": [
    "E8X_train, E8X_test, E8Y_train, E8Y_test = train_test_split(E8 , labels_E8 ,test_size=0.2)"
   ]
  },
  {
   "cell_type": "code",
   "execution_count": 174,
   "metadata": {},
   "outputs": [],
   "source": [
    "model8_1 = Sequential()\n",
    "model8_1.add(Flatten(input_shape=(100,1)))\n",
    "model8_1.add(BatchNormalization())\n",
    "model8_1.add(Dense(50, activation='relu', kernel_initializer='he_uniform'))\n",
    "model8_1.add(Dense(25, activation='relu', kernel_initializer='he_uniform'))\n",
    "model8_1.add(Dense(10, activation='relu', kernel_initializer='he_uniform'))\n",
    "model8_1.add(Dense(1, activation='sigmoid'))"
   ]
  },
  {
   "cell_type": "code",
   "execution_count": 175,
   "metadata": {},
   "outputs": [],
   "source": [
    "from keras.optimizers import Adam\n",
    "opt = Adam(lr=0.0001)\n",
    "model8_1.compile(loss='binary_crossentropy', optimizer=opt, metrics=['accuracy'])"
   ]
  },
  {
   "cell_type": "code",
   "execution_count": 176,
   "metadata": {},
   "outputs": [
    {
     "name": "stdout",
     "output_type": "stream",
     "text": [
      "Train on 160045 samples, validate on 40012 samples\n",
      "Epoch 1/30\n",
      "160045/160045 [==============================] - 8s 48us/step - loss: 0.6907 - accuracy: 0.5249 - val_loss: 0.6850 - val_accuracy: 0.5572\n",
      "Epoch 2/30\n",
      "160045/160045 [==============================] - 7s 46us/step - loss: 0.6817 - accuracy: 0.5599 - val_loss: 0.6772 - val_accuracy: 0.5730\n",
      "Epoch 3/30\n",
      "160045/160045 [==============================] - 7s 42us/step - loss: 0.6780 - accuracy: 0.5688 - val_loss: 0.6752 - val_accuracy: 0.5750\n",
      "Epoch 4/30\n",
      "160045/160045 [==============================] - 6s 40us/step - loss: 0.6762 - accuracy: 0.5714 - val_loss: 0.6738 - val_accuracy: 0.5766\n",
      "Epoch 5/30\n",
      "160045/160045 [==============================] - 7s 41us/step - loss: 0.6752 - accuracy: 0.5728 - val_loss: 0.6730 - val_accuracy: 0.5781\n",
      "Epoch 6/30\n",
      "160045/160045 [==============================] - 7s 43us/step - loss: 0.6742 - accuracy: 0.5751 - val_loss: 0.6729 - val_accuracy: 0.5782\n",
      "Epoch 7/30\n",
      "160045/160045 [==============================] - 7s 45us/step - loss: 0.6736 - accuracy: 0.5760 - val_loss: 0.6721 - val_accuracy: 0.5794\n",
      "Epoch 8/30\n",
      "160045/160045 [==============================] - 7s 43us/step - loss: 0.6730 - accuracy: 0.5780 - val_loss: 0.6727 - val_accuracy: 0.5780\n",
      "Epoch 9/30\n",
      "160045/160045 [==============================] - 6s 39us/step - loss: 0.6727 - accuracy: 0.5779 - val_loss: 0.6718 - val_accuracy: 0.5786\n",
      "Epoch 10/30\n",
      "160045/160045 [==============================] - 7s 42us/step - loss: 0.6722 - accuracy: 0.5791 - val_loss: 0.6714 - val_accuracy: 0.5801\n",
      "Epoch 11/30\n",
      "160045/160045 [==============================] - 7s 43us/step - loss: 0.6721 - accuracy: 0.5782 - val_loss: 0.6711 - val_accuracy: 0.5795\n",
      "Epoch 12/30\n",
      "160045/160045 [==============================] - 7s 42us/step - loss: 0.6718 - accuracy: 0.5801 - val_loss: 0.6712 - val_accuracy: 0.5795\n",
      "Epoch 13/30\n",
      "160045/160045 [==============================] - 7s 42us/step - loss: 0.6714 - accuracy: 0.5797 - val_loss: 0.6711 - val_accuracy: 0.5802\n",
      "Epoch 14/30\n",
      "160045/160045 [==============================] - 7s 42us/step - loss: 0.6713 - accuracy: 0.5801 - val_loss: 0.6719 - val_accuracy: 0.5811\n",
      "Epoch 15/30\n",
      "160045/160045 [==============================] - 7s 41us/step - loss: 0.6714 - accuracy: 0.5799 - val_loss: 0.6710 - val_accuracy: 0.5810\n",
      "Epoch 16/30\n",
      "160045/160045 [==============================] - 7s 45us/step - loss: 0.6708 - accuracy: 0.5815 - val_loss: 0.6703 - val_accuracy: 0.5822\n",
      "Epoch 17/30\n",
      "160045/160045 [==============================] - 6s 40us/step - loss: 0.6705 - accuracy: 0.5818 - val_loss: 0.6705 - val_accuracy: 0.5813\n",
      "Epoch 18/30\n",
      "160045/160045 [==============================] - 7s 45us/step - loss: 0.6704 - accuracy: 0.5823 - val_loss: 0.6707 - val_accuracy: 0.5805\n",
      "Epoch 19/30\n",
      "160045/160045 [==============================] - 7s 43us/step - loss: 0.6702 - accuracy: 0.5836 - val_loss: 0.6701 - val_accuracy: 0.5816\n",
      "Epoch 20/30\n",
      "160045/160045 [==============================] - 7s 41us/step - loss: 0.6700 - accuracy: 0.5826 - val_loss: 0.6706 - val_accuracy: 0.5825\n",
      "Epoch 21/30\n",
      "160045/160045 [==============================] - 7s 43us/step - loss: 0.6700 - accuracy: 0.5823 - val_loss: 0.6700 - val_accuracy: 0.5811\n",
      "Epoch 22/30\n",
      "160045/160045 [==============================] - 6s 36us/step - loss: 0.6697 - accuracy: 0.5830 - val_loss: 0.6699 - val_accuracy: 0.5819\n",
      "Epoch 23/30\n",
      "160045/160045 [==============================] - 6s 40us/step - loss: 0.6699 - accuracy: 0.5827 - val_loss: 0.6702 - val_accuracy: 0.5817\n",
      "Epoch 24/30\n",
      "160045/160045 [==============================] - 7s 43us/step - loss: 0.6695 - accuracy: 0.5842 - val_loss: 0.6697 - val_accuracy: 0.5833\n",
      "Epoch 25/30\n",
      "160045/160045 [==============================] - 7s 44us/step - loss: 0.6696 - accuracy: 0.5840 - val_loss: 0.6708 - val_accuracy: 0.5814\n",
      "Epoch 26/30\n",
      "160045/160045 [==============================] - 7s 43us/step - loss: 0.6697 - accuracy: 0.5829 - val_loss: 0.6708 - val_accuracy: 0.5827\n",
      "Epoch 27/30\n",
      "160045/160045 [==============================] - 7s 46us/step - loss: 0.6692 - accuracy: 0.5834 - val_loss: 0.6696 - val_accuracy: 0.5825\n",
      "Epoch 28/30\n",
      "160045/160045 [==============================] - 5s 34us/step - loss: 0.6693 - accuracy: 0.5840 - val_loss: 0.6701 - val_accuracy: 0.5834\n",
      "Epoch 29/30\n",
      "160045/160045 [==============================] - 6s 34us/step - loss: 0.6689 - accuracy: 0.5854 - val_loss: 0.6704 - val_accuracy: 0.5810\n",
      "Epoch 30/30\n",
      "160045/160045 [==============================] - 7s 44us/step - loss: 0.6691 - accuracy: 0.5845 - val_loss: 0.6696 - val_accuracy: 0.5826\n"
     ]
    }
   ],
   "source": [
    "history8_1 = model8_1.fit(E8X_train, E8Y_train, batch_size=64, validation_data=(E8X_test, E8Y_test), epochs=30)"
   ]
  },
  {
   "cell_type": "code",
   "execution_count": 177,
   "metadata": {},
   "outputs": [
    {
     "data": {
      "image/png": "[encoded data removed]",
      "text/plain": [
       "<Figure size 432x288 with 2 Axes>"
      ]
     },
     "metadata": {
      "needs_background": "light"
     },
     "output_type": "display_data"
    }
   ],
   "source": [
    "summarize_diagnostics(history8_1)"
   ]
  },
  {
   "cell_type": "code",
   "execution_count": null,
   "metadata": {},
   "outputs": [],
   "source": [
    "fig = plt.figure()\n",
    "ax = fig.subplots()\n",
    "ax.set_ylabel('accuracy')\n",
    "ax.set_xlabel('trained epochs')\n",
    "plt.plot(history_1.history['accuracy'], color='blue', label='training set')\n",
    "plt.plot(history_1.history['val_accuracy'], color='orange', label='validation set')\n",
    "plt.plot(x, y, '--', color='black', label='random classification' )\n",
    "plt.grid()\n",
    "plt.legend()\n",
    "axes = plt.gca()\n",
    "axes.set_xlim([-2,32])\n",
    "axes.set_ylim([0.4,1])\n",
    "#plt.savefig('/home/centos/accuracy.pdf')"
   ]
  },
  {
   "cell_type": "code",
   "execution_count": 224,
   "metadata": {},
   "outputs": [],
   "source": [
    "tot = [77.70, 70.24, 67.12, 63.87, 61.54, 60.55, 59.84, 58.68, 58.34]\n",
    "en = [0.5, 1.5, 2.5, 3.5, 4.5, 5.5, 6.5, 7.5, 8.5]"
   ]
  },
  {
   "cell_type": "code",
   "execution_count": 240,
   "metadata": {},
   "outputs": [
    {
     "data": {
      "text/plain": [
       "array([0., 1., 2., 3., 4., 5., 6., 7., 8., 9.])"
      ]
     },
     "execution_count": 240,
     "metadata": {},
     "output_type": "execute_result"
    }
   ],
   "source": [
    "ener = np.linspace(0, 9, 10)\n",
    "ener"
   ]
  },
  {
   "cell_type": "code",
   "execution_count": 272,
   "metadata": {},
   "outputs": [],
   "source": [
    "x = np.linspace(-0.5, 9.5)\n",
    "y = 0*x +50"
   ]
  },
  {
   "cell_type": "code",
   "execution_count": 274,
   "metadata": {},
   "outputs": [
    {
     "data": {
      "image/png": "[encoded data removed]",
      "text/plain": [
       "<Figure size 432x288 with 1 Axes>"
      ]
     },
     "metadata": {
      "needs_background": "light"
     },
     "output_type": "display_data"
    }
   ],
   "source": [
    "fig = plt.figure()\n",
    "ax = fig.subplots()\n",
    "ax.set_ylabel('accuracy (%)')\n",
    "ax.set_xlabel('true energy (MeV) ')\n",
    "plt.bar(ener[:-1], tot, width=1, ec='black', align='edge', label='positrons + electrons', color='blue')\n",
    "plt.plot(x, y, '--', color='red', label='random classification' )\n",
    "plt.xticks(ener)\n",
    "#plt.grid()\n",
    "plt.legend()\n",
    "#plt.savefig('/home/centos/accuracy_tot.pdf')"
   ]
  },
  {
   "cell_type": "code",
   "execution_count": null,
   "metadata": {},
   "outputs": [],
   "source": []
  }
 ],
 "metadata": {
  "kernelspec": {
   "display_name": "Python 3",
   "language": "python",
   "name": "python3"
  },
  "language_info": {
   "codemirror_mode": {
    "name": "ipython",
    "version": 3
   },
   "file_extension": ".py",
   "mimetype": "text/x-python",
   "name": "python",
   "nbconvert_exporter": "python",
   "pygments_lexer": "ipython3",
   "version": "3.7.6"
  }
 },
 "nbformat": 4,
 "nbformat_minor": 4
}
