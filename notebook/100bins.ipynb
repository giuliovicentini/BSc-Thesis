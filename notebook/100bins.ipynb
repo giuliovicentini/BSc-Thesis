{
 "cells": [
  {
   "cell_type": "code",
   "execution_count": 1,
   "metadata": {},
   "outputs": [],
   "source": [
    "import pandas as pd\n",
    "import uproot\n",
    "import cupy as cp\n",
    "import boost_histogram as bh\n",
    "import time"
   ]
  },
  {
   "cell_type": "code",
   "execution_count": 2,
   "metadata": {},
   "outputs": [],
   "source": [
    "def no_DN (frame):\n",
    "    \n",
    "    i = frame.index[0][0]\n",
    "    new_frame = frame.loc[(frame['isDN'].values == False) & (frame['hitTime'].values < 300)]\n",
    "    return new_frame.loc[i]"
   ]
  },
  {
   "cell_type": "code",
   "execution_count": 3,
   "metadata": {},
   "outputs": [],
   "source": [
    "def first (frame):\n",
    "    frame_sort = frame.sort_values(['hitTime'])\n",
    "    frame_first = frame_sort.drop_duplicates(subset='pmtID', keep='first')\n",
    "    frame_last = frame_first.sort_values('hitTime', ascending=False)\n",
    "    return frame_last"
   ]
  },
  {
   "cell_type": "code",
   "execution_count": 4,
   "metadata": {},
   "outputs": [],
   "source": [
    "def normal_ft(ev):\n",
    "    \n",
    "    mi = ev['hitTime'].min()\n",
    "    \n",
    "    a = ev['nHits'].values\n",
    "    b = ev['pmtID'].values\n",
    "    c = ev['hitTime'] - mi\n",
    "    data = {'nHits': a, 'pmtID': b, 'hitTime': c}\n",
    "        \n",
    "    norm = pd.DataFrame(data)\n",
    "    return norm"
   ]
  },
  {
   "cell_type": "code",
   "execution_count": 10,
   "metadata": {},
   "outputs": [],
   "source": [
    "def save_hist (data, info, n, pre, b):\n",
    "    \n",
    "    dst_dir = '/home/centos/prova_E/E8_100/'\n",
    "    \n",
    "    hist = bh.Histogram(bh.axis.Regular(100, 0, 300))\n",
    "    for i in info['evtID']:\n",
    "        name = pre+str(i)+'_'+str(b)+'.npy'\n",
    "        ev = data.pandas.df(entrystart=i, entrystop=i+1)\n",
    "        try:\n",
    "            ev_noDN = no_DN(ev)\n",
    "        except:\n",
    "            print(i, ': solo dark noise')\n",
    "            continue\n",
    "        ev_first = first(ev_noDN)\n",
    "        ev_norm = normal_ft(ev_first)\n",
    "        ev_time= ev_norm['hitTime'].values\n",
    "        hist.fill(ev_time)\n",
    "        array = hist.to_numpy()\n",
    "        time = array[0]\n",
    "        \n",
    "        cp.save(dst_dir + name, time)\n",
    "        hist.reset()"
   ]
  },
  {
   "cell_type": "code",
   "execution_count": 6,
   "metadata": {},
   "outputs": [],
   "source": [
    "def call_all (file, a):\n",
    "    \n",
    "    data_file = uproot.open(file)\n",
    "    INFO = data_file['true_info'].pandas.df()\n",
    "    DATA = data_file[\"lpmt_hits\"]\n",
    "    \n",
    "    if file.startswith('/home/centos/FlatComplete'):\n",
    "        name = 'pos'\n",
    "        \n",
    "        INFO_E8 = INFO.loc[(INFO['E'] > 8) & (INFO['E'] < 9) ]\n",
    "        \n",
    "    elif file.startswith('/home/centos/ElectronDataset'):\n",
    "        name = 'el'\n",
    "        \n",
    "        INFO_E8 = INFO.loc[(INFO['E'] > 9) & (INFO['E'] < 10) ]\n",
    "        \n",
    "    else:\n",
    "        print('file non riconosciuto')\n",
    "        \n",
    "    save_hist(DATA, INFO_E8, 8, name, a)"
   ]
  },
  {
   "cell_type": "code",
   "execution_count": 7,
   "metadata": {},
   "outputs": [],
   "source": [
    "P0 = \"/home/centos/FlatComplete/eplus_hits_dn_0.root\"\n",
    "P1 = \"/home/centos/FlatComplete/eplus_hits_dn_1.root\"\n",
    "P2 = \"/home/centos/FlatComplete/eplus_hits_dn_2.root\"\n",
    "P3 = \"/home/centos/FlatComplete/eplus_hits_dn_3.root\"\n",
    "P4 = \"/home/centos/FlatComplete/eplus_hits_dn_4.root\"\n",
    "P5 = \"/home/centos/FlatComplete/eplus_hits_dn_5.root\"\n",
    "P6 = \"/home/centos/FlatComplete/eplus_hits_dn_6.root\"\n",
    "P7 = \"/home/centos/FlatComplete/eplus_hits_dn_7.root\"\n",
    "P8 = \"/home/centos/FlatComplete/eplus_hits_dn_8.root\"\n",
    "P9 = \"/home/centos/FlatComplete/eplus_hits_dn_9.root\""
   ]
  },
  {
   "cell_type": "code",
   "execution_count": 8,
   "metadata": {},
   "outputs": [],
   "source": [
    "E0 = \"/home/centos/ElectronDataset/Hits/eminus_hits_dn_0.root\"\n",
    "E1 = \"/home/centos/ElectronDataset/Hits/eminus_hits_dn_1.root\"\n",
    "E2 = \"/home/centos/ElectronDataset/Hits/eminus_hits_dn_2.root\"\n",
    "E3 = \"/home/centos/ElectronDataset/Hits/eminus_hits_dn_3.root\"\n",
    "E4 = \"/home/centos/ElectronDataset/Hits/eminus_hits_dn_4.root\"\n",
    "E5 = \"/home/centos/ElectronDataset/Hits/eminus_hits_dn_5.root\"\n",
    "E6 = \"/home/centos/ElectronDataset/Hits/eminus_hits_dn_6.root\"\n",
    "E7 = \"/home/centos/ElectronDataset/Hits/eminus_hits_dn_7.root\"\n",
    "E8 = \"/home/centos/ElectronDataset/Hits/eminus_hits_dn_8.root\"\n",
    "E9 = \"/home/centos/ElectronDataset/Hits/eminus_hits_dn_9.root\""
   ]
  },
  {
   "cell_type": "code",
   "execution_count": 11,
   "metadata": {},
   "outputs": [
    {
     "data": {
      "text/plain": [
       "'10:23'"
      ]
     },
     "execution_count": 11,
     "metadata": {},
     "output_type": "execute_result"
    }
   ],
   "source": [
    "time.strftime(\"%H\") +\":\"+ time.strftime(\"%M\")\n",
    "call_all(P0, 0)\n",
    "call_all(E0, 0)\n",
    "time.strftime(\"%H\") +\":\"+ time.strftime(\"%M\")"
   ]
  },
  {
   "cell_type": "code",
   "execution_count": 12,
   "metadata": {},
   "outputs": [],
   "source": [
    "call_all(P1, 1)\n",
    "call_all(E1, 1)"
   ]
  },
  {
   "cell_type": "code",
   "execution_count": 13,
   "metadata": {},
   "outputs": [],
   "source": [
    "call_all(P2, 2)\n",
    "call_all(E2, 2)"
   ]
  },
  {
   "cell_type": "code",
   "execution_count": 14,
   "metadata": {},
   "outputs": [
    {
     "data": {
      "text/plain": [
       "2"
      ]
     },
     "execution_count": 14,
     "metadata": {},
     "output_type": "execute_result"
    }
   ],
   "source": [
    "1+1"
   ]
  },
  {
   "cell_type": "code",
   "execution_count": 15,
   "metadata": {},
   "outputs": [],
   "source": [
    "call_all(P3, 3)\n",
    "call_all(E3, 3)"
   ]
  },
  {
   "cell_type": "code",
   "execution_count": 16,
   "metadata": {},
   "outputs": [
    {
     "data": {
      "text/plain": [
       "'12:01'"
      ]
     },
     "execution_count": 16,
     "metadata": {},
     "output_type": "execute_result"
    }
   ],
   "source": [
    "time.strftime(\"%H\") +\":\"+ time.strftime(\"%M\")"
   ]
  },
  {
   "cell_type": "code",
   "execution_count": 17,
   "metadata": {},
   "outputs": [],
   "source": [
    "call_all(P4, 4)\n",
    "call_all(E4, 4)"
   ]
  },
  {
   "cell_type": "code",
   "execution_count": 18,
   "metadata": {},
   "outputs": [
    {
     "data": {
      "text/plain": [
       "'12:27'"
      ]
     },
     "execution_count": 18,
     "metadata": {},
     "output_type": "execute_result"
    }
   ],
   "source": [
    "time.strftime(\"%H\") +\":\"+ time.strftime(\"%M\")"
   ]
  },
  {
   "cell_type": "code",
   "execution_count": 19,
   "metadata": {},
   "outputs": [],
   "source": [
    "call_all(P5, 5)\n",
    "call_all(E5, 5)"
   ]
  },
  {
   "cell_type": "code",
   "execution_count": 20,
   "metadata": {},
   "outputs": [
    {
     "data": {
      "text/plain": [
       "'12:54'"
      ]
     },
     "execution_count": 20,
     "metadata": {},
     "output_type": "execute_result"
    }
   ],
   "source": [
    "time.strftime(\"%H\") +\":\"+ time.strftime(\"%M\")"
   ]
  },
  {
   "cell_type": "code",
   "execution_count": 21,
   "metadata": {},
   "outputs": [],
   "source": [
    "call_all(P6, 6)\n",
    "call_all(E6, 6)"
   ]
  },
  {
   "cell_type": "code",
   "execution_count": 22,
   "metadata": {},
   "outputs": [
    {
     "data": {
      "text/plain": [
       "'13:21'"
      ]
     },
     "execution_count": 22,
     "metadata": {},
     "output_type": "execute_result"
    }
   ],
   "source": [
    "time.strftime(\"%H\") +\":\"+ time.strftime(\"%M\")"
   ]
  },
  {
   "cell_type": "code",
   "execution_count": 23,
   "metadata": {},
   "outputs": [],
   "source": [
    "call_all(P7, 7)\n",
    "call_all(E7, 7)"
   ]
  },
  {
   "cell_type": "code",
   "execution_count": 24,
   "metadata": {},
   "outputs": [
    {
     "data": {
      "text/plain": [
       "'13:48'"
      ]
     },
     "execution_count": 24,
     "metadata": {},
     "output_type": "execute_result"
    }
   ],
   "source": [
    "time.strftime(\"%H\") +\":\"+ time.strftime(\"%M\")"
   ]
  },
  {
   "cell_type": "code",
   "execution_count": 25,
   "metadata": {},
   "outputs": [],
   "source": [
    "call_all(P8, 8)\n",
    "call_all(E8, 8)"
   ]
  },
  {
   "cell_type": "code",
   "execution_count": 26,
   "metadata": {},
   "outputs": [
    {
     "data": {
      "text/plain": [
       "'14:15'"
      ]
     },
     "execution_count": 26,
     "metadata": {},
     "output_type": "execute_result"
    }
   ],
   "source": [
    "time.strftime(\"%H\") +\":\"+ time.strftime(\"%M\")"
   ]
  },
  {
   "cell_type": "code",
   "execution_count": 27,
   "metadata": {},
   "outputs": [],
   "source": [
    "call_all(P9, 9)\n",
    "call_all(E9, 9)"
   ]
  },
  {
   "cell_type": "code",
   "execution_count": 28,
   "metadata": {},
   "outputs": [
    {
     "data": {
      "text/plain": [
       "'14:42'"
      ]
     },
     "execution_count": 28,
     "metadata": {},
     "output_type": "execute_result"
    }
   ],
   "source": [
    "time.strftime(\"%H\") +\":\"+ time.strftime(\"%M\")"
   ]
  },
  {
   "cell_type": "markdown",
   "metadata": {},
   "source": [
    "# ------------------------------"
   ]
  },
  {
   "cell_type": "code",
   "execution_count": 51,
   "metadata": {},
   "outputs": [],
   "source": [
    "import os\n",
    "import cupy as cp\n",
    "import matplotlib.pyplot as plt\n",
    "import numpy as np"
   ]
  },
  {
   "cell_type": "code",
   "execution_count": 52,
   "metadata": {},
   "outputs": [],
   "source": [
    "def summarize_diagnostics(history):\n",
    "    # plot loss\n",
    "    plt.subplot(211)\n",
    "    plt.title('Cross Entropy Loss')\n",
    "    plt.plot(history.history['loss'], color='blue', label='train')\n",
    "    plt.plot(history.history['val_loss'], color='orange', label='test')\n",
    "    # plot accuracy\n",
    "    plt.subplot(212)\n",
    "    plt.title('Classification Accuracy')\n",
    "    plt.plot(history.history['accuracy'], color='blue', label='train')\n",
    "    plt.plot(history.history['val_accuracy'], color='orange', label='test')"
   ]
  },
  {
   "cell_type": "code",
   "execution_count": 3,
   "metadata": {},
   "outputs": [
    {
     "name": "stdout",
     "output_type": "stream",
     "text": [
      "200057\n"
     ]
    }
   ],
   "source": [
    "folder = 'prova_E/E8_100/'\n",
    "i = 0\n",
    "for file in os.listdir(folder):\n",
    "    i += 1\n",
    "print(i)"
   ]
  },
  {
   "cell_type": "code",
   "execution_count": 43,
   "metadata": {},
   "outputs": [],
   "source": [
    "E8 = np.empty((200057, 100, 1), dtype=cp.float64)\n",
    "labels_E8 = np.zeros(200057)\n",
    "folder = 'prova_E/E8_100/'\n",
    "i = 0\n",
    "for file in os.listdir(folder):\n",
    "    if file.startswith('el'):\n",
    "        labels_E8[i] = 1\n",
    "    array = np.load(folder + file)\n",
    "    array = cp.reshape(array, (100,1))\n",
    "    E8[i] = array\n",
    "    i += 1"
   ]
  },
  {
   "cell_type": "code",
   "execution_count": 5,
   "metadata": {},
   "outputs": [
    {
     "data": {
      "text/plain": [
       "0.0"
      ]
     },
     "execution_count": 5,
     "metadata": {},
     "output_type": "execute_result"
    }
   ],
   "source": [
    "labels_E8[0]"
   ]
  },
  {
   "cell_type": "code",
   "execution_count": 30,
   "metadata": {},
   "outputs": [
    {
     "data": {
      "text/plain": [
       "(100,)"
      ]
     },
     "execution_count": 30,
     "metadata": {},
     "output_type": "execute_result"
    }
   ],
   "source": [
    "E8[0].flatten().shape"
   ]
  },
  {
   "cell_type": "code",
   "execution_count": 76,
   "metadata": {},
   "outputs": [
    {
     "data": {
      "text/plain": [
       "array([  0.,   1.,   2.,   3.,   4.,   5.,   6.,   7.,   8.,   9.,  10.,\n",
       "        11.,  12.,  13.,  14.,  15.,  16.,  17.,  18.,  19.,  20.,  21.,\n",
       "        22.,  23.,  24.,  25.,  26.,  27.,  28.,  29.,  30.,  31.,  32.,\n",
       "        33.,  34.,  35.,  36.,  37.,  38.,  39.,  40.,  41.,  42.,  43.,\n",
       "        44.,  45.,  46.,  47.,  48.,  49.,  50.,  51.,  52.,  53.,  54.,\n",
       "        55.,  56.,  57.,  58.,  59.,  60.,  61.,  62.,  63.,  64.,  65.,\n",
       "        66.,  67.,  68.,  69.,  70.,  71.,  72.,  73.,  74.,  75.,  76.,\n",
       "        77.,  78.,  79.,  80.,  81.,  82.,  83.,  84.,  85.,  86.,  87.,\n",
       "        88.,  89.,  90.,  91.,  92.,  93.,  94.,  95.,  96.,  97.,  98.,\n",
       "        99., 100.])"
      ]
     },
     "execution_count": 76,
     "metadata": {},
     "output_type": "execute_result"
    }
   ],
   "source": [
    "x = np.linspace(0, 100, 101)\n",
    "x"
   ]
  },
  {
   "cell_type": "code",
   "execution_count": 85,
   "metadata": {},
   "outputs": [
    {
     "data": {
      "text/plain": [
       "<BarContainer object of 100 artists>"
      ]
     },
     "execution_count": 85,
     "metadata": {},
     "output_type": "execute_result"
    },
    {
     "data": {
      "image/png": "[encoded data removed]",
      "text/plain": [
       "<Figure size 432x288 with 1 Axes>"
      ]
     },
     "metadata": {
      "needs_background": "light"
     },
     "output_type": "display_data"
    }
   ],
   "source": [
    "plt.bar(x[:-1], E8[0].flatten(), width=np.diff(x), ec='black', align='edge')"
   ]
  },
  {
   "cell_type": "code",
   "execution_count": 7,
   "metadata": {},
   "outputs": [
    {
     "data": {
      "text/plain": [
       "<BarContainer object of 100 artists>"
      ]
     },
     "execution_count": 7,
     "metadata": {},
     "output_type": "execute_result"
    },
    {
     "data": {
      "image/png": "[encoded data removed]",
      "text/plain": [
       "<Figure size 432x288 with 1 Axes>"
      ]
     },
     "metadata": {
      "needs_background": "light"
     },
     "output_type": "display_data"
    }
   ],
   "source": [
    "plt.bar(range(100), E8[1].flatten(), width=1, ec='black', align='edge')"
   ]
  },
  {
   "cell_type": "code",
   "execution_count": 44,
   "metadata": {},
   "outputs": [],
   "source": [
    "E8 = E8/E8.max()"
   ]
  },
  {
   "cell_type": "code",
   "execution_count": 45,
   "metadata": {},
   "outputs": [],
   "source": [
    "from sklearn.model_selection import train_test_split\n",
    "E8X_train, E8X_test, E8Y_train, E8Y_test = train_test_split(E8 , labels_E8 ,test_size=0.2)"
   ]
  },
  {
   "cell_type": "code",
   "execution_count": 18,
   "metadata": {},
   "outputs": [],
   "source": [
    "from keras.models import Sequential\n",
    "from keras.layers import Dense, Conv1D, Flatten, Dropout, MaxPooling1D, BatchNormalization\n",
    "\n",
    "model = Sequential()\n",
    "model.add(Conv1D(32, 3, activation='relu', kernel_initializer='he_uniform', padding='same', input_shape=(100, 1)))\n",
    "model.add(MaxPooling1D(2))\n",
    "model.add(BatchNormalization())\n",
    "model.add(Dropout(0.2))\n",
    "model.add(Conv1D(64, 3, activation='relu', kernel_initializer='he_uniform', padding='same'))\n",
    "model.add(MaxPooling1D(2))\n",
    "model.add(BatchNormalization())\n",
    "model.add(Dropout(0.2))\n",
    "model.add(Conv1D(128, 3, activation='relu', kernel_initializer='he_uniform', padding='same'))\n",
    "model.add(MaxPooling1D(2))\n",
    "model.add(BatchNormalization())\n",
    "model.add(Dropout(0.2))\n",
    "model.add(Flatten())\n",
    "model.add(Dense(128, activation='relu', kernel_initializer='he_uniform'))\n",
    "model.add(Dropout(0.5))\n",
    "model.add(Dense(1, activation='sigmoid'))"
   ]
  },
  {
   "cell_type": "code",
   "execution_count": 19,
   "metadata": {},
   "outputs": [],
   "source": [
    "from keras.optimizers import Adam\n",
    "opt = Adam(lr=0.0001)\n",
    "model.compile(loss='binary_crossentropy', optimizer=opt, metrics=['accuracy'])"
   ]
  },
  {
   "cell_type": "code",
   "execution_count": 20,
   "metadata": {},
   "outputs": [
    {
     "name": "stdout",
     "output_type": "stream",
     "text": [
      "Train on 160045 samples, validate on 40012 samples\n",
      "Epoch 1/20\n",
      "160045/160045 [==============================] - 47s 295us/step - loss: 0.7084 - accuracy: 0.5070 - val_loss: 0.6920 - val_accuracy: 0.5146\n",
      "Epoch 2/20\n",
      "160045/160045 [==============================] - 46s 286us/step - loss: 0.6922 - accuracy: 0.5171 - val_loss: 0.6915 - val_accuracy: 0.5215\n",
      "Epoch 3/20\n",
      "160045/160045 [==============================] - 45s 283us/step - loss: 0.6907 - accuracy: 0.5264 - val_loss: 0.6907 - val_accuracy: 0.5328\n",
      "Epoch 4/20\n",
      "160045/160045 [==============================] - 45s 283us/step - loss: 0.6900 - accuracy: 0.5303 - val_loss: 0.6879 - val_accuracy: 0.5522\n",
      "Epoch 5/20\n",
      "160045/160045 [==============================] - 44s 273us/step - loss: 0.6892 - accuracy: 0.5341 - val_loss: 0.6858 - val_accuracy: 0.5640\n",
      "Epoch 6/20\n",
      "160045/160045 [==============================] - 43s 269us/step - loss: 0.6886 - accuracy: 0.5365 - val_loss: 0.6860 - val_accuracy: 0.5637\n",
      "Epoch 7/20\n",
      "160045/160045 [==============================] - 43s 269us/step - loss: 0.6880 - accuracy: 0.5389 - val_loss: 0.6851 - val_accuracy: 0.5558\n",
      "Epoch 8/20\n",
      "160045/160045 [==============================] - 43s 270us/step - loss: 0.6871 - accuracy: 0.5419 - val_loss: 0.6829 - val_accuracy: 0.5669\n",
      "Epoch 9/20\n",
      "160045/160045 [==============================] - 44s 278us/step - loss: 0.6866 - accuracy: 0.5479 - val_loss: 0.6815 - val_accuracy: 0.5685\n",
      "Epoch 10/20\n",
      "160045/160045 [==============================] - 43s 269us/step - loss: 0.6856 - accuracy: 0.5503 - val_loss: 0.6832 - val_accuracy: 0.5521\n",
      "Epoch 11/20\n",
      "160045/160045 [==============================] - 44s 278us/step - loss: 0.6846 - accuracy: 0.5535 - val_loss: 0.6791 - val_accuracy: 0.5733\n",
      "Epoch 12/20\n",
      "160045/160045 [==============================] - 45s 279us/step - loss: 0.6840 - accuracy: 0.5549 - val_loss: 0.6804 - val_accuracy: 0.5656\n",
      "Epoch 13/20\n",
      "160045/160045 [==============================] - 45s 280us/step - loss: 0.6839 - accuracy: 0.5568 - val_loss: 0.6785 - val_accuracy: 0.5722\n",
      "Epoch 14/20\n",
      "160045/160045 [==============================] - 45s 279us/step - loss: 0.6830 - accuracy: 0.5595 - val_loss: 0.6774 - val_accuracy: 0.5731\n",
      "Epoch 15/20\n",
      "160045/160045 [==============================] - 45s 279us/step - loss: 0.6832 - accuracy: 0.5580 - val_loss: 0.6786 - val_accuracy: 0.5716\n",
      "Epoch 16/20\n",
      "160045/160045 [==============================] - 45s 283us/step - loss: 0.6821 - accuracy: 0.5608 - val_loss: 0.6798 - val_accuracy: 0.5625\n",
      "Epoch 17/20\n",
      "160045/160045 [==============================] - 46s 286us/step - loss: 0.6825 - accuracy: 0.5590 - val_loss: 0.6777 - val_accuracy: 0.5737\n",
      "Epoch 18/20\n",
      "160045/160045 [==============================] - 46s 286us/step - loss: 0.6819 - accuracy: 0.5605 - val_loss: 0.6788 - val_accuracy: 0.5682\n",
      "Epoch 19/20\n",
      "160045/160045 [==============================] - 46s 284us/step - loss: 0.6820 - accuracy: 0.5609 - val_loss: 0.6779 - val_accuracy: 0.5687\n",
      "Epoch 20/20\n",
      "160045/160045 [==============================] - 45s 283us/step - loss: 0.6817 - accuracy: 0.5627 - val_loss: 0.6768 - val_accuracy: 0.5746\n"
     ]
    }
   ],
   "source": [
    "history = model.fit(E8X_train, E8Y_train, batch_size=64, validation_data=(E8X_test, E8Y_test), epochs=20)"
   ]
  },
  {
   "cell_type": "code",
   "execution_count": 21,
   "metadata": {},
   "outputs": [
    {
     "data": {
      "image/png": "[encoded data removed]",
      "text/plain": [
       "<Figure size 432x288 with 2 Axes>"
      ]
     },
     "metadata": {
      "needs_background": "light"
     },
     "output_type": "display_data"
    }
   ],
   "source": [
    "summarize_diagnostics(history)"
   ]
  },
  {
   "cell_type": "markdown",
   "metadata": {},
   "source": [
    "# no dropout"
   ]
  },
  {
   "cell_type": "code",
   "execution_count": 121,
   "metadata": {},
   "outputs": [],
   "source": [
    "from keras.models import Sequential\n",
    "from keras.layers import Dense, Conv1D, Flatten, Dropout, MaxPooling1D, BatchNormalization\n",
    "\n",
    "model1 = Sequential()\n",
    "model1.add(Conv1D(32, 100, activation='relu', kernel_initializer='he_uniform', padding='same', input_shape=(100, 1)))\n",
    "model1.add(MaxPooling1D(2))\n",
    "model1.add(BatchNormalization())\n",
    "model1.add(Conv1D(64, 100, activation='relu', kernel_initializer='he_uniform', padding='same'))\n",
    "model1.add(MaxPooling1D(2))\n",
    "model1.add(BatchNormalization())\n",
    "model1.add(Conv1D(128, 100, activation='relu', kernel_initializer='he_uniform', padding='same'))\n",
    "model1.add(MaxPooling1D(2))\n",
    "model1.add(BatchNormalization())\n",
    "model1.add(Flatten())\n",
    "model1.add(Dense(128, activation='relu', kernel_initializer='he_uniform'))\n",
    "model1.add(Dropout(0.2))\n",
    "model1.add(Dense(1, activation='sigmoid'))"
   ]
  },
  {
   "cell_type": "code",
   "execution_count": 122,
   "metadata": {},
   "outputs": [],
   "source": [
    "from keras.optimizers import Adam\n",
    "opt = Adam(lr=0.00001)\n",
    "model1.compile(loss='binary_crossentropy', optimizer=opt, metrics=['accuracy'])"
   ]
  },
  {
   "cell_type": "code",
   "execution_count": 123,
   "metadata": {
    "scrolled": false
   },
   "outputs": [
    {
     "name": "stdout",
     "output_type": "stream",
     "text": [
      "Train on 160045 samples, validate on 40012 samples\n",
      "Epoch 1/20\n",
      "160045/160045 [==============================] - 183s 1ms/step - loss: 0.6900 - accuracy: 0.5512 - val_loss: 0.6830 - val_accuracy: 0.5554\n",
      "Epoch 2/20\n",
      "160045/160045 [==============================] - 181s 1ms/step - loss: 0.6791 - accuracy: 0.5648 - val_loss: 0.6749 - val_accuracy: 0.5744\n",
      "Epoch 3/20\n",
      "160045/160045 [==============================] - 179s 1ms/step - loss: 0.6766 - accuracy: 0.5709 - val_loss: 0.6720 - val_accuracy: 0.5770\n",
      "Epoch 4/20\n",
      "160045/160045 [==============================] - 134s 836us/step - loss: 0.6746 - accuracy: 0.5741 - val_loss: 0.6703 - val_accuracy: 0.5805\n",
      "Epoch 5/20\n",
      "160045/160045 [==============================] - 175s 1ms/step - loss: 0.6731 - accuracy: 0.5768 - val_loss: 0.6724 - val_accuracy: 0.5820\n",
      "Epoch 6/20\n",
      "160045/160045 [==============================] - 185s 1ms/step - loss: 0.6715 - accuracy: 0.5805 - val_loss: 0.6734 - val_accuracy: 0.5752\n",
      "Epoch 7/20\n",
      "160045/160045 [==============================] - 178s 1ms/step - loss: 0.6706 - accuracy: 0.5811 - val_loss: 0.6716 - val_accuracy: 0.5811\n",
      "Epoch 8/20\n",
      "160045/160045 [==============================] - 179s 1ms/step - loss: 0.6697 - accuracy: 0.5829 - val_loss: 0.6707 - val_accuracy: 0.5823\n",
      "Epoch 9/20\n",
      "160045/160045 [==============================] - 180s 1ms/step - loss: 0.6687 - accuracy: 0.5851 - val_loss: 0.6676 - val_accuracy: 0.5867\n",
      "Epoch 10/20\n",
      "160045/160045 [==============================] - 181s 1ms/step - loss: 0.6678 - accuracy: 0.5851 - val_loss: 0.6685 - val_accuracy: 0.5873\n",
      "Epoch 11/20\n",
      "160045/160045 [==============================] - 182s 1ms/step - loss: 0.6672 - accuracy: 0.5870 - val_loss: 0.6693 - val_accuracy: 0.5855\n",
      "Epoch 12/20\n",
      "160045/160045 [==============================] - 183s 1ms/step - loss: 0.6665 - accuracy: 0.5879 - val_loss: 0.6695 - val_accuracy: 0.5878\n",
      "Epoch 13/20\n",
      "160045/160045 [==============================] - 183s 1ms/step - loss: 0.6658 - accuracy: 0.5894 - val_loss: 0.6688 - val_accuracy: 0.5856\n",
      "Epoch 14/20\n",
      "160045/160045 [==============================] - 184s 1ms/step - loss: 0.6648 - accuracy: 0.5913 - val_loss: 0.6718 - val_accuracy: 0.5818\n",
      "Epoch 15/20\n",
      "160045/160045 [==============================] - 156s 977us/step - loss: 0.6643 - accuracy: 0.5910 - val_loss: 0.6674 - val_accuracy: 0.5885\n",
      "Epoch 16/20\n",
      "160045/160045 [==============================] - 139s 868us/step - loss: 0.6636 - accuracy: 0.5929 - val_loss: 0.6681 - val_accuracy: 0.5868\n",
      "Epoch 17/20\n",
      "160045/160045 [==============================] - 150s 935us/step - loss: 0.6628 - accuracy: 0.5932 - val_loss: 0.6704 - val_accuracy: 0.5796\n",
      "Epoch 18/20\n",
      "160045/160045 [==============================] - 148s 925us/step - loss: 0.6620 - accuracy: 0.5953 - val_loss: 0.6677 - val_accuracy: 0.5881\n",
      "Epoch 19/20\n",
      "160045/160045 [==============================] - 135s 846us/step - loss: 0.6616 - accuracy: 0.5954 - val_loss: 0.6670 - val_accuracy: 0.5910\n",
      "Epoch 20/20\n",
      "160045/160045 [==============================] - 134s 837us/step - loss: 0.6608 - accuracy: 0.5963 - val_loss: 0.6662 - val_accuracy: 0.5903\n"
     ]
    }
   ],
   "source": [
    "history1 = model1.fit(E8X_train, E8Y_train, batch_size=64, validation_data=(E8X_test, E8Y_test), epochs=20)"
   ]
  },
  {
   "cell_type": "code",
   "execution_count": 124,
   "metadata": {},
   "outputs": [
    {
     "data": {
      "image/png": "[encoded data removed]",
      "text/plain": [
       "<Figure size 432x288 with 2 Axes>"
      ]
     },
     "metadata": {
      "needs_background": "light"
     },
     "output_type": "display_data"
    }
   ],
   "source": [
    "summarize_diagnostics(history1)"
   ]
  },
  {
   "cell_type": "code",
   "execution_count": 126,
   "metadata": {},
   "outputs": [
    {
     "data": {
      "text/plain": [
       "[<matplotlib.lines.Line2D at 0x7f6ad7cff210>]"
      ]
     },
     "execution_count": 126,
     "metadata": {},
     "output_type": "execute_result"
    },
    {
     "data": {
      "image/png": "[encoded data removed]",
      "text/plain": [
       "<Figure size 432x288 with 1 Axes>"
      ]
     },
     "metadata": {
      "needs_background": "light"
     },
     "output_type": "display_data"
    }
   ],
   "source": [
    "    plt.title('Cross Entropy Loss')\n",
    "    plt.plot(history1.history['loss'], color='blue', label='train')\n",
    "    plt.plot(history1.history['val_loss'], color='orange', label='test')"
   ]
  },
  {
   "cell_type": "code",
   "execution_count": 129,
   "metadata": {},
   "outputs": [
    {
     "data": {
      "text/plain": [
       "[<matplotlib.lines.Line2D at 0x7f6ad7bbc490>]"
      ]
     },
     "execution_count": 129,
     "metadata": {},
     "output_type": "execute_result"
    },
    {
     "data": {
      "image/png": "[encoded data removed]",
      "text/plain": [
       "<Figure size 432x288 with 1 Axes>"
      ]
     },
     "metadata": {
      "needs_background": "light"
     },
     "output_type": "display_data"
    }
   ],
   "source": [
    "    plt.title('Classification Accuracy')\n",
    "    plt.plot(history1.history['accuracy'], color='blue', label='train')\n",
    "    plt.plot(history1.history['val_accuracy'], color='orange', label='test')"
   ]
  },
  {
   "cell_type": "code",
   "execution_count": 142,
   "metadata": {},
   "outputs": [],
   "source": [
    "from keras.models import Sequential\n",
    "from keras.layers import Dense, Conv1D, Flatten, Dropout, MaxPooling1D, BatchNormalization\n",
    "from keras import regularizers\n",
    "\n",
    "model2 = Sequential()\n",
    "model2.add(Conv1D(32, 100, activation='relu', kernel_initializer='he_uniform', padding='same', input_shape=(100, 1)))\n",
    "model2.add(MaxPooling1D(2))\n",
    "model2.add(BatchNormalization())\n",
    "model2.add(Conv1D(64, 100, activation='relu', kernel_initializer='he_uniform', padding='same'))\n",
    "model2.add(MaxPooling1D(2))\n",
    "model2.add(BatchNormalization())\n",
    "model2.add(Conv1D(128, 100, activation='relu', kernel_initializer='he_uniform', padding='same'))\n",
    "model2.add(MaxPooling1D(2))\n",
    "model2.add(BatchNormalization())\n",
    "model2.add(Flatten())\n",
    "model2.add(Dense(128, activation='relu', kernel_initializer='he_uniform', kernel_regularizer=regularizers.l2(0.01)))\n",
    "model2.add(Dropout(0.3))\n",
    "model2.add(Dense(1, activation='sigmoid'))"
   ]
  },
  {
   "cell_type": "code",
   "execution_count": 143,
   "metadata": {},
   "outputs": [],
   "source": [
    "from keras.optimizers import Adam\n",
    "opt = Adam(lr=0.00001)\n",
    "model2.compile(loss='binary_crossentropy', optimizer=opt, metrics=['accuracy'])"
   ]
  },
  {
   "cell_type": "code",
   "execution_count": 144,
   "metadata": {},
   "outputs": [
    {
     "name": "stdout",
     "output_type": "stream",
     "text": [
      "Train on 160045 samples, validate on 40012 samples\n",
      "Epoch 1/100\n",
      "160045/160045 [==============================] - 130s 815us/step - loss: 2.8099 - accuracy: 0.5440 - val_loss: 2.3551 - val_accuracy: 0.5666\n",
      "Epoch 2/100\n",
      "160045/160045 [==============================] - 127s 794us/step - loss: 1.9868 - accuracy: 0.5603 - val_loss: 1.6610 - val_accuracy: 0.5690\n",
      "Epoch 3/100\n",
      "160045/160045 [==============================] - 128s 800us/step - loss: 1.4352 - accuracy: 0.5706 - val_loss: 1.2523 - val_accuracy: 0.5729\n",
      "Epoch 4/100\n",
      "160045/160045 [==============================] - 130s 812us/step - loss: 1.1384 - accuracy: 0.5717 - val_loss: 1.0450 - val_accuracy: 0.5804\n",
      "Epoch 5/100\n",
      "160045/160045 [==============================] - 128s 798us/step - loss: 0.9895 - accuracy: 0.5760 - val_loss: 0.9377 - val_accuracy: 0.5802\n",
      "Epoch 6/100\n",
      "160045/160045 [==============================] - 128s 802us/step - loss: 0.9037 - accuracy: 0.5778 - val_loss: 0.8716 - val_accuracy: 0.5797\n",
      "Epoch 7/100\n",
      "160045/160045 [==============================] - 129s 809us/step - loss: 0.8466 - accuracy: 0.5801 - val_loss: 0.8292 - val_accuracy: 0.5705\n",
      "Epoch 8/100\n",
      "160045/160045 [==============================] - 129s 807us/step - loss: 0.8067 - accuracy: 0.5817 - val_loss: 0.7917 - val_accuracy: 0.5845\n",
      "Epoch 9/100\n",
      "160045/160045 [==============================] - 128s 803us/step - loss: 0.7780 - accuracy: 0.5838 - val_loss: 0.7655 - val_accuracy: 0.5886\n",
      "Epoch 10/100\n",
      "160045/160045 [==============================] - 128s 801us/step - loss: 0.7564 - accuracy: 0.5848 - val_loss: 0.7485 - val_accuracy: 0.5868\n",
      "Epoch 11/100\n",
      "160045/160045 [==============================] - 133s 828us/step - loss: 0.7400 - accuracy: 0.5865 - val_loss: 0.7324 - val_accuracy: 0.5902\n",
      "Epoch 12/100\n",
      "160045/160045 [==============================] - 128s 799us/step - loss: 0.7268 - accuracy: 0.5878 - val_loss: 0.7226 - val_accuracy: 0.5905\n",
      "Epoch 13/100\n",
      "160045/160045 [==============================] - 131s 817us/step - loss: 0.7162 - accuracy: 0.5888 - val_loss: 0.7144 - val_accuracy: 0.5878\n",
      "Epoch 14/100\n",
      "160045/160045 [==============================] - 128s 802us/step - loss: 0.7075 - accuracy: 0.5911 - val_loss: 0.7053 - val_accuracy: 0.5916\n",
      "Epoch 15/100\n",
      "160045/160045 [==============================] - 130s 811us/step - loss: 0.7004 - accuracy: 0.5917 - val_loss: 0.7023 - val_accuracy: 0.5863\n",
      "Epoch 16/100\n",
      "160045/160045 [==============================] - 128s 799us/step - loss: 0.6947 - accuracy: 0.5929 - val_loss: 0.6969 - val_accuracy: 0.5874\n",
      "Epoch 17/100\n",
      "160045/160045 [==============================] - 129s 807us/step - loss: 0.6900 - accuracy: 0.5931 - val_loss: 0.6914 - val_accuracy: 0.5906\n",
      "Epoch 18/100\n",
      "160045/160045 [==============================] - 129s 808us/step - loss: 0.6858 - accuracy: 0.5953 - val_loss: 0.6917 - val_accuracy: 0.5841\n",
      "Epoch 19/100\n",
      "160045/160045 [==============================] - 132s 824us/step - loss: 0.6819 - accuracy: 0.5953 - val_loss: 0.6857 - val_accuracy: 0.5925\n",
      "Epoch 20/100\n",
      "160045/160045 [==============================] - 136s 848us/step - loss: 0.6790 - accuracy: 0.5970 - val_loss: 0.6840 - val_accuracy: 0.5890\n",
      "Epoch 21/100\n",
      "160045/160045 [==============================] - 133s 831us/step - loss: 0.6762 - accuracy: 0.5980 - val_loss: 0.6817 - val_accuracy: 0.5902\n",
      "Epoch 22/100\n",
      "160045/160045 [==============================] - 142s 888us/step - loss: 0.6738 - accuracy: 0.5992 - val_loss: 0.6829 - val_accuracy: 0.5862\n",
      "Epoch 23/100\n",
      "160045/160045 [==============================] - 135s 846us/step - loss: 0.6715 - accuracy: 0.6004 - val_loss: 0.6859 - val_accuracy: 0.5845\n",
      "Epoch 24/100\n",
      "160045/160045 [==============================] - 137s 853us/step - loss: 0.6695 - accuracy: 0.6011 - val_loss: 0.6765 - val_accuracy: 0.5924\n",
      "Epoch 25/100\n",
      "160045/160045 [==============================] - 129s 805us/step - loss: 0.6672 - accuracy: 0.6036 - val_loss: 0.6790 - val_accuracy: 0.5893\n",
      "Epoch 26/100\n",
      "160045/160045 [==============================] - 127s 792us/step - loss: 0.6654 - accuracy: 0.6057 - val_loss: 0.6762 - val_accuracy: 0.5898\n",
      "Epoch 27/100\n",
      "160045/160045 [==============================] - 173s 1ms/step - loss: 0.6636 - accuracy: 0.6062 - val_loss: 0.6766 - val_accuracy: 0.5890\n",
      "Epoch 28/100\n",
      "160045/160045 [==============================] - 202s 1ms/step - loss: 0.6617 - accuracy: 0.6079 - val_loss: 0.6756 - val_accuracy: 0.5913\n",
      "Epoch 29/100\n",
      "160045/160045 [==============================] - 201s 1ms/step - loss: 0.6598 - accuracy: 0.6098 - val_loss: 0.6757 - val_accuracy: 0.5884\n",
      "Epoch 30/100\n",
      "160045/160045 [==============================] - 200s 1ms/step - loss: 0.6584 - accuracy: 0.6111 - val_loss: 0.6758 - val_accuracy: 0.5894\n",
      "Epoch 31/100\n",
      "160045/160045 [==============================] - 198s 1ms/step - loss: 0.6562 - accuracy: 0.6137 - val_loss: 0.6809 - val_accuracy: 0.5830\n",
      "Epoch 32/100\n",
      "160045/160045 [==============================] - 195s 1ms/step - loss: 0.6545 - accuracy: 0.6155 - val_loss: 0.6755 - val_accuracy: 0.5912\n",
      "Epoch 33/100\n",
      "160045/160045 [==============================] - 211s 1ms/step - loss: 0.6529 - accuracy: 0.6179 - val_loss: 0.6761 - val_accuracy: 0.5826\n",
      "Epoch 34/100\n",
      "160045/160045 [==============================] - 213s 1ms/step - loss: 0.6508 - accuracy: 0.6203 - val_loss: 0.6787 - val_accuracy: 0.5847\n",
      "Epoch 35/100\n",
      "160045/160045 [==============================] - 215s 1ms/step - loss: 0.6488 - accuracy: 0.6212 - val_loss: 0.6884 - val_accuracy: 0.5707\n",
      "Epoch 36/100\n",
      "160045/160045 [==============================] - 203s 1ms/step - loss: 0.6468 - accuracy: 0.6252 - val_loss: 0.6801 - val_accuracy: 0.5854\n",
      "Epoch 37/100\n",
      "160045/160045 [==============================] - 203s 1ms/step - loss: 0.6445 - accuracy: 0.6300 - val_loss: 0.6820 - val_accuracy: 0.5834\n",
      "Epoch 38/100\n",
      "160045/160045 [==============================] - 206s 1ms/step - loss: 0.6418 - accuracy: 0.6321 - val_loss: 0.6815 - val_accuracy: 0.5816\n",
      "Epoch 39/100\n",
      "160045/160045 [==============================] - 205s 1ms/step - loss: 0.6392 - accuracy: 0.6351 - val_loss: 0.6837 - val_accuracy: 0.5834\n",
      "Epoch 40/100\n",
      "160045/160045 [==============================] - 205s 1ms/step - loss: 0.6369 - accuracy: 0.6386 - val_loss: 0.6904 - val_accuracy: 0.5776\n",
      "Epoch 41/100\n",
      "160045/160045 [==============================] - 207s 1ms/step - loss: 0.6341 - accuracy: 0.6420 - val_loss: 0.6861 - val_accuracy: 0.5785\n",
      "Epoch 42/100\n",
      "160045/160045 [==============================] - 205s 1ms/step - loss: 0.6311 - accuracy: 0.6455 - val_loss: 0.6896 - val_accuracy: 0.5738\n",
      "Epoch 43/100\n",
      "160045/160045 [==============================] - 206s 1ms/step - loss: 0.6282 - accuracy: 0.6483 - val_loss: 0.6946 - val_accuracy: 0.5734\n",
      "Epoch 44/100\n",
      "160045/160045 [==============================] - 205s 1ms/step - loss: 0.6248 - accuracy: 0.6528 - val_loss: 0.6930 - val_accuracy: 0.5769\n",
      "Epoch 45/100\n",
      "160045/160045 [==============================] - 204s 1ms/step - loss: 0.6211 - accuracy: 0.6567 - val_loss: 0.6939 - val_accuracy: 0.5754\n",
      "Epoch 46/100\n",
      "160045/160045 [==============================] - 204s 1ms/step - loss: 0.6173 - accuracy: 0.6621 - val_loss: 0.7006 - val_accuracy: 0.5749\n",
      "Epoch 47/100\n",
      "160045/160045 [==============================] - 205s 1ms/step - loss: 0.6139 - accuracy: 0.6643 - val_loss: 0.7055 - val_accuracy: 0.5693\n",
      "Epoch 48/100\n",
      "160045/160045 [==============================] - 207s 1ms/step - loss: 0.6104 - accuracy: 0.6691 - val_loss: 0.7057 - val_accuracy: 0.5731\n",
      "Epoch 49/100\n",
      "160045/160045 [==============================] - 204s 1ms/step - loss: 0.6060 - accuracy: 0.6731 - val_loss: 0.7098 - val_accuracy: 0.5709\n",
      "Epoch 50/100\n",
      "160045/160045 [==============================] - 204s 1ms/step - loss: 0.6016 - accuracy: 0.6780 - val_loss: 0.7129 - val_accuracy: 0.5670\n",
      "Epoch 51/100\n",
      "160045/160045 [==============================] - 207s 1ms/step - loss: 0.5974 - accuracy: 0.6828 - val_loss: 0.7185 - val_accuracy: 0.5656\n",
      "Epoch 52/100\n",
      "160045/160045 [==============================] - 206s 1ms/step - loss: 0.5928 - accuracy: 0.6867 - val_loss: 0.7260 - val_accuracy: 0.5688\n",
      "Epoch 53/100\n",
      "160045/160045 [==============================] - 206s 1ms/step - loss: 0.5876 - accuracy: 0.6923 - val_loss: 0.7281 - val_accuracy: 0.5629\n",
      "Epoch 54/100\n",
      "160045/160045 [==============================] - 205s 1ms/step - loss: 0.5834 - accuracy: 0.6947 - val_loss: 0.7360 - val_accuracy: 0.5601\n",
      "Epoch 55/100\n",
      "160045/160045 [==============================] - 205s 1ms/step - loss: 0.5777 - accuracy: 0.7005 - val_loss: 0.7398 - val_accuracy: 0.5630\n",
      "Epoch 56/100\n",
      "160045/160045 [==============================] - 205s 1ms/step - loss: 0.5732 - accuracy: 0.7053 - val_loss: 0.7443 - val_accuracy: 0.5596\n",
      "Epoch 57/100\n",
      "160045/160045 [==============================] - 205s 1ms/step - loss: 0.5676 - accuracy: 0.7099 - val_loss: 0.7538 - val_accuracy: 0.5680\n",
      "Epoch 58/100\n",
      "160045/160045 [==============================] - 205s 1ms/step - loss: 0.5622 - accuracy: 0.7141 - val_loss: 0.7502 - val_accuracy: 0.5615\n",
      "Epoch 59/100\n",
      "160045/160045 [==============================] - 208s 1ms/step - loss: 0.5568 - accuracy: 0.7183 - val_loss: 0.7647 - val_accuracy: 0.5582\n",
      "Epoch 60/100\n",
      "160045/160045 [==============================] - 205s 1ms/step - loss: 0.5504 - accuracy: 0.7241 - val_loss: 0.7639 - val_accuracy: 0.5535\n",
      "Epoch 61/100\n",
      "160045/160045 [==============================] - 205s 1ms/step - loss: 0.5451 - accuracy: 0.7292 - val_loss: 0.7749 - val_accuracy: 0.5573\n",
      "Epoch 62/100\n",
      "160045/160045 [==============================] - 205s 1ms/step - loss: 0.5381 - accuracy: 0.7344 - val_loss: 0.7759 - val_accuracy: 0.5580\n",
      "Epoch 63/100\n",
      "160045/160045 [==============================] - 203s 1ms/step - loss: 0.5329 - accuracy: 0.7377 - val_loss: 0.7940 - val_accuracy: 0.5550\n",
      "Epoch 64/100\n",
      "160045/160045 [==============================] - 206s 1ms/step - loss: 0.5256 - accuracy: 0.7439 - val_loss: 0.8013 - val_accuracy: 0.5508\n",
      "Epoch 65/100\n",
      "160045/160045 [==============================] - 205s 1ms/step - loss: 0.5201 - accuracy: 0.7485 - val_loss: 0.8221 - val_accuracy: 0.5513\n",
      "Epoch 66/100\n",
      "160045/160045 [==============================] - 206s 1ms/step - loss: 0.5127 - accuracy: 0.7542 - val_loss: 0.8380 - val_accuracy: 0.5554\n",
      "Epoch 67/100\n",
      "160045/160045 [==============================] - 205s 1ms/step - loss: 0.5069 - accuracy: 0.7591 - val_loss: 0.8176 - val_accuracy: 0.5503\n",
      "Epoch 68/100\n",
      "160045/160045 [==============================] - 205s 1ms/step - loss: 0.5000 - accuracy: 0.7630 - val_loss: 0.8520 - val_accuracy: 0.5500\n",
      "Epoch 69/100\n",
      "160045/160045 [==============================] - 205s 1ms/step - loss: 0.4942 - accuracy: 0.7680 - val_loss: 0.8282 - val_accuracy: 0.5474\n",
      "Epoch 70/100\n",
      "160045/160045 [==============================] - 205s 1ms/step - loss: 0.4861 - accuracy: 0.7726 - val_loss: 0.8625 - val_accuracy: 0.5506\n",
      "Epoch 71/100\n",
      "160045/160045 [==============================] - 204s 1ms/step - loss: 0.4784 - accuracy: 0.7784 - val_loss: 0.8717 - val_accuracy: 0.5503\n",
      "Epoch 72/100\n",
      "160045/160045 [==============================] - 206s 1ms/step - loss: 0.4713 - accuracy: 0.7836 - val_loss: 0.8946 - val_accuracy: 0.5434\n",
      "Epoch 73/100\n",
      "160045/160045 [==============================] - 207s 1ms/step - loss: 0.4661 - accuracy: 0.7874 - val_loss: 0.8774 - val_accuracy: 0.5486\n",
      "Epoch 74/100\n",
      "160045/160045 [==============================] - 205s 1ms/step - loss: 0.4581 - accuracy: 0.7923 - val_loss: 0.8985 - val_accuracy: 0.5436\n",
      "Epoch 75/100\n",
      "160045/160045 [==============================] - 206s 1ms/step - loss: 0.4505 - accuracy: 0.7971 - val_loss: 0.9056 - val_accuracy: 0.5423\n",
      "Epoch 76/100\n",
      "160045/160045 [==============================] - 207s 1ms/step - loss: 0.4439 - accuracy: 0.8004 - val_loss: 0.9149 - val_accuracy: 0.5453\n",
      "Epoch 77/100\n",
      "160045/160045 [==============================] - 208s 1ms/step - loss: 0.4350 - accuracy: 0.8071 - val_loss: 0.9383 - val_accuracy: 0.5484\n",
      "Epoch 78/100\n",
      "160045/160045 [==============================] - 210s 1ms/step - loss: 0.4280 - accuracy: 0.8111 - val_loss: 0.9413 - val_accuracy: 0.5462\n",
      "Epoch 79/100\n",
      "160045/160045 [==============================] - 212s 1ms/step - loss: 0.4204 - accuracy: 0.8161 - val_loss: 0.9542 - val_accuracy: 0.5465\n",
      "Epoch 80/100\n",
      "160045/160045 [==============================] - 212s 1ms/step - loss: 0.4146 - accuracy: 0.8190 - val_loss: 0.9789 - val_accuracy: 0.5425\n",
      "Epoch 81/100\n",
      "160045/160045 [==============================] - 211s 1ms/step - loss: 0.4053 - accuracy: 0.8262 - val_loss: 0.9789 - val_accuracy: 0.5425\n",
      "Epoch 82/100\n",
      "160045/160045 [==============================] - 216s 1ms/step - loss: 0.3981 - accuracy: 0.8289 - val_loss: 1.0058 - val_accuracy: 0.5411\n",
      "Epoch 83/100\n",
      "160045/160045 [==============================] - 215s 1ms/step - loss: 0.3908 - accuracy: 0.8334 - val_loss: 1.0355 - val_accuracy: 0.5382\n",
      "Epoch 84/100\n",
      "160045/160045 [==============================] - 213s 1ms/step - loss: 0.3826 - accuracy: 0.8392 - val_loss: 1.0312 - val_accuracy: 0.5414\n",
      "Epoch 85/100\n",
      "160045/160045 [==============================] - 215s 1ms/step - loss: 0.3767 - accuracy: 0.8423 - val_loss: 1.0457 - val_accuracy: 0.5431\n",
      "Epoch 86/100\n",
      "160045/160045 [==============================] - 213s 1ms/step - loss: 0.3676 - accuracy: 0.8469 - val_loss: 1.0868 - val_accuracy: 0.5410\n",
      "Epoch 87/100\n",
      "160045/160045 [==============================] - 212s 1ms/step - loss: 0.3602 - accuracy: 0.8517 - val_loss: 1.0747 - val_accuracy: 0.5419\n",
      "Epoch 88/100\n",
      "160045/160045 [==============================] - 213s 1ms/step - loss: 0.3542 - accuracy: 0.8548 - val_loss: 1.1052 - val_accuracy: 0.5420\n",
      "Epoch 89/100\n",
      "160045/160045 [==============================] - 214s 1ms/step - loss: 0.3451 - accuracy: 0.8599 - val_loss: 1.1265 - val_accuracy: 0.5428\n",
      "Epoch 90/100\n",
      "160045/160045 [==============================] - 214s 1ms/step - loss: 0.3388 - accuracy: 0.8628 - val_loss: 1.1649 - val_accuracy: 0.5456\n",
      "Epoch 91/100\n",
      "160045/160045 [==============================] - 214s 1ms/step - loss: 0.3325 - accuracy: 0.8666 - val_loss: 1.1353 - val_accuracy: 0.5426\n",
      "Epoch 92/100\n",
      "160045/160045 [==============================] - 213s 1ms/step - loss: 0.3244 - accuracy: 0.8712 - val_loss: 1.1914 - val_accuracy: 0.5423\n",
      "Epoch 93/100\n",
      "160045/160045 [==============================] - 213s 1ms/step - loss: 0.3172 - accuracy: 0.8755 - val_loss: 1.2204 - val_accuracy: 0.5446\n",
      "Epoch 94/100\n",
      "160045/160045 [==============================] - 213s 1ms/step - loss: 0.3098 - accuracy: 0.8783 - val_loss: 1.2066 - val_accuracy: 0.5390\n",
      "Epoch 95/100\n",
      "160045/160045 [==============================] - 213s 1ms/step - loss: 0.3027 - accuracy: 0.8821 - val_loss: 1.2156 - val_accuracy: 0.5363\n",
      "Epoch 96/100\n",
      "160045/160045 [==============================] - 213s 1ms/step - loss: 0.2939 - accuracy: 0.8876 - val_loss: 1.2409 - val_accuracy: 0.5412\n",
      "Epoch 97/100\n",
      "160045/160045 [==============================] - 214s 1ms/step - loss: 0.2891 - accuracy: 0.8892 - val_loss: 1.2964 - val_accuracy: 0.5398\n",
      "Epoch 98/100\n",
      "160045/160045 [==============================] - 214s 1ms/step - loss: 0.2830 - accuracy: 0.8926 - val_loss: 1.2941 - val_accuracy: 0.5385\n",
      "Epoch 99/100\n",
      "160045/160045 [==============================] - 213s 1ms/step - loss: 0.2759 - accuracy: 0.8963 - val_loss: 1.3021 - val_accuracy: 0.5408\n",
      "Epoch 100/100\n",
      "160045/160045 [==============================] - 213s 1ms/step - loss: 0.2697 - accuracy: 0.8996 - val_loss: 1.3532 - val_accuracy: 0.5346\n"
     ]
    }
   ],
   "source": [
    "history2 = model2.fit(E8X_train, E8Y_train, batch_size=64, validation_data=(E8X_test, E8Y_test), epochs=100)"
   ]
  },
  {
   "cell_type": "code",
   "execution_count": 145,
   "metadata": {},
   "outputs": [
    {
     "data": {
      "image/png": "[encoded data removed]",
      "text/plain": [
       "<Figure size 432x288 with 2 Axes>"
      ]
     },
     "metadata": {
      "needs_background": "light"
     },
     "output_type": "display_data"
    }
   ],
   "source": [
    "summarize_diagnostics(history2)"
   ]
  },
  {
   "cell_type": "code",
   "execution_count": null,
   "metadata": {},
   "outputs": [],
   "source": [
    "plt.title('Cross Entropy Loss')\n",
    "plt.plot(history2.history['loss'], color='blue', label='train')\n",
    "plt.plot(history2.history['val_loss'], color='orange', label='test')"
   ]
  },
  {
   "cell_type": "code",
   "execution_count": null,
   "metadata": {},
   "outputs": [],
   "source": [
    "plt.title('Classification Accuracy')\n",
    "plt.plot(history2.history['accuracy'], color='blue', label='train')\n",
    "plt.plot(history2.history['val_accuracy'], color='orange', label='test')"
   ]
  },
  {
   "cell_type": "code",
   "execution_count": null,
   "metadata": {},
   "outputs": [],
   "source": []
  },
  {
   "cell_type": "code",
   "execution_count": 61,
   "metadata": {},
   "outputs": [],
   "source": [
    "model3 = Sequential()\n",
    "#model1.add(Input(shape=(21,1)))\n",
    "model3.add(Flatten(input_shape=(100,1)))\n",
    "model3.add(BatchNormalization())\n",
    "model3.add(Dense(50, activation='relu', kernel_initializer='he_uniform'))\n",
    "model3.add(Dense(25, activation='relu', kernel_initializer='he_uniform'))\n",
    "model3.add(Dense(10, activation='relu', kernel_initializer='he_uniform'))\n",
    "model3.add(Dense(1, activation='sigmoid'))"
   ]
  },
  {
   "cell_type": "code",
   "execution_count": 62,
   "metadata": {},
   "outputs": [],
   "source": [
    "from keras.optimizers import Adam\n",
    "opt = Adam(lr=0.0001)\n",
    "model3.compile(loss='binary_crossentropy', optimizer=opt, metrics=['accuracy'])"
   ]
  },
  {
   "cell_type": "code",
   "execution_count": 63,
   "metadata": {},
   "outputs": [
    {
     "name": "stdout",
     "output_type": "stream",
     "text": [
      "Train on 160045 samples, validate on 40012 samples\n",
      "Epoch 1/20\n",
      "160045/160045 [==============================] - 7s 43us/step - loss: 0.6901 - accuracy: 0.5321 - val_loss: 0.6856 - val_accuracy: 0.5540\n",
      "Epoch 2/20\n",
      "160045/160045 [==============================] - 7s 44us/step - loss: 0.6822 - accuracy: 0.5598 - val_loss: 0.6781 - val_accuracy: 0.5728\n",
      "Epoch 3/20\n",
      "160045/160045 [==============================] - 7s 44us/step - loss: 0.6781 - accuracy: 0.5683 - val_loss: 0.6754 - val_accuracy: 0.5756\n",
      "Epoch 4/20\n",
      "160045/160045 [==============================] - 7s 44us/step - loss: 0.6766 - accuracy: 0.5702 - val_loss: 0.6742 - val_accuracy: 0.5763\n",
      "Epoch 5/20\n",
      "160045/160045 [==============================] - 9s 56us/step - loss: 0.6753 - accuracy: 0.5721 - val_loss: 0.6732 - val_accuracy: 0.5804\n",
      "Epoch 6/20\n",
      "160045/160045 [==============================] - 8s 50us/step - loss: 0.6743 - accuracy: 0.5752 - val_loss: 0.6725 - val_accuracy: 0.5813\n",
      "Epoch 7/20\n",
      "160045/160045 [==============================] - 7s 45us/step - loss: 0.6739 - accuracy: 0.5752 - val_loss: 0.6719 - val_accuracy: 0.5820\n",
      "Epoch 8/20\n",
      "160045/160045 [==============================] - 7s 41us/step - loss: 0.6734 - accuracy: 0.5754 - val_loss: 0.6722 - val_accuracy: 0.5825\n",
      "Epoch 9/20\n",
      "160045/160045 [==============================] - 6s 37us/step - loss: 0.6729 - accuracy: 0.5783 - val_loss: 0.6709 - val_accuracy: 0.5833\n",
      "Epoch 10/20\n",
      "160045/160045 [==============================] - 6s 39us/step - loss: 0.6726 - accuracy: 0.5773 - val_loss: 0.6710 - val_accuracy: 0.5824\n",
      "Epoch 11/20\n",
      "160045/160045 [==============================] - 7s 42us/step - loss: 0.6722 - accuracy: 0.5796 - val_loss: 0.6700 - val_accuracy: 0.5837\n",
      "Epoch 12/20\n",
      "160045/160045 [==============================] - 6s 38us/step - loss: 0.6718 - accuracy: 0.5786 - val_loss: 0.6701 - val_accuracy: 0.5847\n",
      "Epoch 13/20\n",
      "160045/160045 [==============================] - 6s 41us/step - loss: 0.6715 - accuracy: 0.5797 - val_loss: 0.6697 - val_accuracy: 0.5866\n",
      "Epoch 14/20\n",
      "160045/160045 [==============================] - 8s 50us/step - loss: 0.6717 - accuracy: 0.5799 - val_loss: 0.6695 - val_accuracy: 0.5865\n",
      "Epoch 15/20\n",
      "160045/160045 [==============================] - 7s 42us/step - loss: 0.6711 - accuracy: 0.5802 - val_loss: 0.6693 - val_accuracy: 0.5867\n",
      "Epoch 16/20\n",
      "160045/160045 [==============================] - 8s 50us/step - loss: 0.6710 - accuracy: 0.5809 - val_loss: 0.6697 - val_accuracy: 0.5866\n",
      "Epoch 17/20\n",
      "160045/160045 [==============================] - 9s 54us/step - loss: 0.6705 - accuracy: 0.5814 - val_loss: 0.6695 - val_accuracy: 0.5859\n",
      "Epoch 18/20\n",
      "160045/160045 [==============================] - 8s 51us/step - loss: 0.6704 - accuracy: 0.5818 - val_loss: 0.6694 - val_accuracy: 0.5868\n",
      "Epoch 19/20\n",
      "160045/160045 [==============================] - 8s 49us/step - loss: 0.6707 - accuracy: 0.5821 - val_loss: 0.6693 - val_accuracy: 0.5866\n",
      "Epoch 20/20\n",
      "160045/160045 [==============================] - 8s 49us/step - loss: 0.6703 - accuracy: 0.5817 - val_loss: 0.6690 - val_accuracy: 0.5878\n"
     ]
    }
   ],
   "source": [
    "history3 = model3.fit(E8X_train, E8Y_train, batch_size=64, validation_data=(E8X_test, E8Y_test), epochs=20)"
   ]
  },
  {
   "cell_type": "code",
   "execution_count": 64,
   "metadata": {},
   "outputs": [
    {
     "data": {
      "image/png": "[encoded data removed]",
      "text/plain": [
       "<Figure size 432x288 with 2 Axes>"
      ]
     },
     "metadata": {
      "needs_background": "light"
     },
     "output_type": "display_data"
    }
   ],
   "source": [
    "summarize_diagnostics(history3)"
   ]
  },
  {
   "cell_type": "code",
   "execution_count": 128,
   "metadata": {},
   "outputs": [
    {
     "data": {
      "text/plain": [
       "[<matplotlib.lines.Line2D at 0x7f6ad7bcf690>]"
      ]
     },
     "execution_count": 128,
     "metadata": {},
     "output_type": "execute_result"
    },
    {
     "data": {
      "image/png": "[encoded data removed]",
      "text/plain": [
       "<Figure size 432x288 with 1 Axes>"
      ]
     },
     "metadata": {
      "needs_background": "light"
     },
     "output_type": "display_data"
    }
   ],
   "source": [
    "    plt.title('Cross Entropy Loss')\n",
    "    plt.plot(history3.history['loss'], color='blue', label='train')\n",
    "    plt.plot(history3.history['val_loss'], color='orange', label='test')"
   ]
  },
  {
   "cell_type": "code",
   "execution_count": 130,
   "metadata": {},
   "outputs": [
    {
     "data": {
      "text/plain": [
       "[<matplotlib.lines.Line2D at 0x7f6ad7b73c10>]"
      ]
     },
     "execution_count": 130,
     "metadata": {},
     "output_type": "execute_result"
    },
    {
     "data": {
      "image/png": "[encoded data removed]",
      "text/plain": [
       "<Figure size 432x288 with 1 Axes>"
      ]
     },
     "metadata": {
      "needs_background": "light"
     },
     "output_type": "display_data"
    }
   ],
   "source": [
    "    plt.title('Classification Accuracy')\n",
    "    plt.plot(history3.history['accuracy'], color='blue', label='train')\n",
    "    plt.plot(history3.history['val_accuracy'], color='orange', label='test')"
   ]
  },
  {
   "cell_type": "code",
   "execution_count": 112,
   "metadata": {},
   "outputs": [],
   "source": [
    "model4 = Sequential()\n",
    "model4.add(Flatten(input_shape=(100,1)))\n",
    "model4.add(BatchNormalization())\n",
    "model4.add(Dense(50, activation='relu')) #, kernel_initializer='he_uniform'))\n",
    "model4.add(Dense(25, activation='relu')) #, kernel_initializer='he_uniform'))\n",
    "model4.add(Dense(10, activation='relu')) #, kernel_initializer='he_uniform'))\n",
    "model4.add(Dense(1, activation='sigmoid'))"
   ]
  },
  {
   "cell_type": "code",
   "execution_count": 113,
   "metadata": {},
   "outputs": [],
   "source": [
    "from keras.optimizers import Adam\n",
    "opt = Adam(lr=0.0001)\n",
    "model4.compile(loss='binary_crossentropy', optimizer=opt, metrics=['accuracy'])"
   ]
  },
  {
   "cell_type": "code",
   "execution_count": 114,
   "metadata": {},
   "outputs": [
    {
     "name": "stdout",
     "output_type": "stream",
     "text": [
      "Train on 160045 samples, validate on 40012 samples\n",
      "Epoch 1/100\n",
      "160045/160045 [==============================] - 7s 43us/step - loss: 0.6898 - accuracy: 0.5320 - val_loss: 0.6840 - val_accuracy: 0.5644\n",
      "Epoch 2/100\n",
      "160045/160045 [==============================] - 6s 37us/step - loss: 0.6811 - accuracy: 0.5632 - val_loss: 0.6761 - val_accuracy: 0.5752\n",
      "Epoch 3/100\n",
      "160045/160045 [==============================] - 6s 37us/step - loss: 0.6769 - accuracy: 0.5694 - val_loss: 0.6736 - val_accuracy: 0.5772\n",
      "Epoch 4/100\n",
      "160045/160045 [==============================] - 6s 37us/step - loss: 0.6753 - accuracy: 0.5744 - val_loss: 0.6723 - val_accuracy: 0.5805\n",
      "Epoch 5/100\n",
      "160045/160045 [==============================] - 6s 37us/step - loss: 0.6744 - accuracy: 0.5750 - val_loss: 0.6713 - val_accuracy: 0.5803\n",
      "Epoch 6/100\n",
      "160045/160045 [==============================] - 6s 36us/step - loss: 0.6741 - accuracy: 0.5749 - val_loss: 0.6714 - val_accuracy: 0.5827\n",
      "Epoch 7/100\n",
      "160045/160045 [==============================] - 5s 34us/step - loss: 0.6732 - accuracy: 0.5776 - val_loss: 0.6713 - val_accuracy: 0.5811\n",
      "Epoch 8/100\n",
      "160045/160045 [==============================] - 6s 35us/step - loss: 0.6729 - accuracy: 0.5770 - val_loss: 0.6704 - val_accuracy: 0.5840\n",
      "Epoch 9/100\n",
      "160045/160045 [==============================] - 6s 35us/step - loss: 0.6728 - accuracy: 0.5783 - val_loss: 0.6702 - val_accuracy: 0.5844\n",
      "Epoch 10/100\n",
      "160045/160045 [==============================] - 5s 33us/step - loss: 0.6725 - accuracy: 0.5783 - val_loss: 0.6699 - val_accuracy: 0.5848\n",
      "Epoch 11/100\n",
      "160045/160045 [==============================] - 6s 35us/step - loss: 0.6720 - accuracy: 0.5791 - val_loss: 0.6698 - val_accuracy: 0.5846\n",
      "Epoch 12/100\n",
      "160045/160045 [==============================] - 6s 38us/step - loss: 0.6716 - accuracy: 0.5799 - val_loss: 0.6692 - val_accuracy: 0.5861\n",
      "Epoch 13/100\n",
      "160045/160045 [==============================] - 5s 33us/step - loss: 0.6716 - accuracy: 0.5803 - val_loss: 0.6693 - val_accuracy: 0.5863\n",
      "Epoch 14/100\n",
      "160045/160045 [==============================] - 5s 32us/step - loss: 0.6715 - accuracy: 0.5807 - val_loss: 0.6695 - val_accuracy: 0.5852\n",
      "Epoch 15/100\n",
      "160045/160045 [==============================] - 5s 33us/step - loss: 0.6714 - accuracy: 0.5815 - val_loss: 0.6687 - val_accuracy: 0.5881\n",
      "Epoch 16/100\n",
      "160045/160045 [==============================] - 5s 33us/step - loss: 0.6709 - accuracy: 0.5812 - val_loss: 0.6690 - val_accuracy: 0.5866\n",
      "Epoch 17/100\n",
      "160045/160045 [==============================] - 5s 32us/step - loss: 0.6708 - accuracy: 0.5808 - val_loss: 0.6685 - val_accuracy: 0.5886\n",
      "Epoch 18/100\n",
      "160045/160045 [==============================] - 5s 33us/step - loss: 0.6707 - accuracy: 0.5814 - val_loss: 0.6684 - val_accuracy: 0.5866\n",
      "Epoch 19/100\n",
      "160045/160045 [==============================] - 6s 34us/step - loss: 0.6705 - accuracy: 0.5816 - val_loss: 0.6701 - val_accuracy: 0.5848\n",
      "Epoch 20/100\n",
      "160045/160045 [==============================] - 5s 34us/step - loss: 0.6703 - accuracy: 0.5824 - val_loss: 0.6682 - val_accuracy: 0.5876\n",
      "Epoch 21/100\n",
      "160045/160045 [==============================] - 5s 34us/step - loss: 0.6702 - accuracy: 0.5810 - val_loss: 0.6685 - val_accuracy: 0.5887\n",
      "Epoch 22/100\n",
      "160045/160045 [==============================] - 5s 32us/step - loss: 0.6702 - accuracy: 0.5823 - val_loss: 0.6688 - val_accuracy: 0.5853\n",
      "Epoch 23/100\n",
      "160045/160045 [==============================] - 5s 33us/step - loss: 0.6700 - accuracy: 0.5829 - val_loss: 0.6684 - val_accuracy: 0.5883\n",
      "Epoch 24/100\n",
      "160045/160045 [==============================] - 6s 35us/step - loss: 0.6699 - accuracy: 0.5831 - val_loss: 0.6679 - val_accuracy: 0.5887\n",
      "Epoch 25/100\n",
      "160045/160045 [==============================] - 5s 32us/step - loss: 0.6701 - accuracy: 0.5823 - val_loss: 0.6684 - val_accuracy: 0.5894\n",
      "Epoch 26/100\n",
      "160045/160045 [==============================] - 6s 38us/step - loss: 0.6698 - accuracy: 0.5830 - val_loss: 0.6692 - val_accuracy: 0.5863\n",
      "Epoch 27/100\n",
      "160045/160045 [==============================] - 5s 33us/step - loss: 0.6698 - accuracy: 0.5838 - val_loss: 0.6684 - val_accuracy: 0.5876\n",
      "Epoch 28/100\n",
      "160045/160045 [==============================] - 5s 34us/step - loss: 0.6693 - accuracy: 0.5839 - val_loss: 0.6676 - val_accuracy: 0.5894\n",
      "Epoch 29/100\n",
      "160045/160045 [==============================] - 5s 33us/step - loss: 0.6695 - accuracy: 0.5850 - val_loss: 0.6683 - val_accuracy: 0.5884\n",
      "Epoch 30/100\n",
      "160045/160045 [==============================] - 5s 33us/step - loss: 0.6693 - accuracy: 0.5839 - val_loss: 0.6678 - val_accuracy: 0.5889\n",
      "Epoch 31/100\n",
      "160045/160045 [==============================] - 6s 35us/step - loss: 0.6690 - accuracy: 0.5855 - val_loss: 0.6675 - val_accuracy: 0.5894\n",
      "Epoch 32/100\n",
      "160045/160045 [==============================] - 5s 33us/step - loss: 0.6689 - accuracy: 0.5843 - val_loss: 0.6678 - val_accuracy: 0.5883\n",
      "Epoch 33/100\n",
      "160045/160045 [==============================] - 5s 33us/step - loss: 0.6691 - accuracy: 0.5842 - val_loss: 0.6676 - val_accuracy: 0.5900\n",
      "Epoch 34/100\n",
      "160045/160045 [==============================] - 5s 34us/step - loss: 0.6691 - accuracy: 0.5843 - val_loss: 0.6675 - val_accuracy: 0.5886\n",
      "Epoch 35/100\n",
      "160045/160045 [==============================] - 5s 34us/step - loss: 0.6689 - accuracy: 0.5832 - val_loss: 0.6676 - val_accuracy: 0.5899\n",
      "Epoch 36/100\n",
      "160045/160045 [==============================] - 5s 33us/step - loss: 0.6685 - accuracy: 0.5852 - val_loss: 0.6686 - val_accuracy: 0.5878\n",
      "Epoch 37/100\n",
      "160045/160045 [==============================] - 5s 34us/step - loss: 0.6684 - accuracy: 0.5859 - val_loss: 0.6669 - val_accuracy: 0.5898\n",
      "Epoch 38/100\n",
      "160045/160045 [==============================] - 5s 33us/step - loss: 0.6682 - accuracy: 0.5855 - val_loss: 0.6684 - val_accuracy: 0.5888\n",
      "Epoch 39/100\n",
      "160045/160045 [==============================] - 5s 33us/step - loss: 0.6685 - accuracy: 0.5842 - val_loss: 0.6673 - val_accuracy: 0.5897\n",
      "Epoch 40/100\n",
      "160045/160045 [==============================] - 5s 33us/step - loss: 0.6683 - accuracy: 0.5859 - val_loss: 0.6689 - val_accuracy: 0.5875\n",
      "Epoch 41/100\n",
      "160045/160045 [==============================] - 5s 33us/step - loss: 0.6683 - accuracy: 0.5857 - val_loss: 0.6677 - val_accuracy: 0.5902\n",
      "Epoch 42/100\n",
      "160045/160045 [==============================] - 5s 34us/step - loss: 0.6680 - accuracy: 0.5860 - val_loss: 0.6690 - val_accuracy: 0.5868\n",
      "Epoch 43/100\n",
      "160045/160045 [==============================] - 5s 34us/step - loss: 0.6678 - accuracy: 0.5856 - val_loss: 0.6673 - val_accuracy: 0.5899\n",
      "Epoch 44/100\n",
      "160045/160045 [==============================] - 5s 32us/step - loss: 0.6680 - accuracy: 0.5864 - val_loss: 0.6671 - val_accuracy: 0.5894\n",
      "Epoch 45/100\n",
      "160045/160045 [==============================] - 5s 34us/step - loss: 0.6680 - accuracy: 0.5863 - val_loss: 0.6673 - val_accuracy: 0.5891\n",
      "Epoch 46/100\n",
      "160045/160045 [==============================] - 5s 32us/step - loss: 0.6678 - accuracy: 0.5875 - val_loss: 0.6676 - val_accuracy: 0.5888\n",
      "Epoch 47/100\n",
      "160045/160045 [==============================] - 5s 33us/step - loss: 0.6676 - accuracy: 0.5871 - val_loss: 0.6675 - val_accuracy: 0.5892\n",
      "Epoch 48/100\n",
      "160045/160045 [==============================] - 6s 35us/step - loss: 0.6678 - accuracy: 0.5865 - val_loss: 0.6671 - val_accuracy: 0.5887\n",
      "Epoch 49/100\n",
      "160045/160045 [==============================] - 6s 35us/step - loss: 0.6676 - accuracy: 0.5869 - val_loss: 0.6676 - val_accuracy: 0.5881\n",
      "Epoch 50/100\n",
      "160045/160045 [==============================] - 6s 35us/step - loss: 0.6677 - accuracy: 0.5872 - val_loss: 0.6693 - val_accuracy: 0.5851\n",
      "Epoch 51/100\n",
      "160045/160045 [==============================] - 5s 34us/step - loss: 0.6676 - accuracy: 0.5858 - val_loss: 0.6672 - val_accuracy: 0.5889\n",
      "Epoch 52/100\n",
      "160045/160045 [==============================] - 5s 33us/step - loss: 0.6675 - accuracy: 0.5874 - val_loss: 0.6669 - val_accuracy: 0.5899\n",
      "Epoch 53/100\n",
      "160045/160045 [==============================] - 5s 34us/step - loss: 0.6670 - accuracy: 0.5869 - val_loss: 0.6683 - val_accuracy: 0.5871\n",
      "Epoch 54/100\n",
      "160045/160045 [==============================] - 5s 32us/step - loss: 0.6671 - accuracy: 0.5887 - val_loss: 0.6677 - val_accuracy: 0.5899\n",
      "Epoch 55/100\n",
      "160045/160045 [==============================] - 5s 34us/step - loss: 0.6670 - accuracy: 0.5883 - val_loss: 0.6675 - val_accuracy: 0.5902\n",
      "Epoch 56/100\n",
      "160045/160045 [==============================] - 6s 35us/step - loss: 0.6669 - accuracy: 0.5874 - val_loss: 0.6675 - val_accuracy: 0.5902\n",
      "Epoch 57/100\n",
      "160045/160045 [==============================] - 6s 36us/step - loss: 0.6669 - accuracy: 0.5878 - val_loss: 0.6678 - val_accuracy: 0.5881\n",
      "Epoch 58/100\n",
      "160045/160045 [==============================] - 6s 34us/step - loss: 0.6668 - accuracy: 0.5869 - val_loss: 0.6679 - val_accuracy: 0.5870\n",
      "Epoch 59/100\n",
      "160045/160045 [==============================] - 6s 35us/step - loss: 0.6666 - accuracy: 0.5892 - val_loss: 0.6669 - val_accuracy: 0.5908\n",
      "Epoch 60/100\n",
      "160045/160045 [==============================] - 5s 34us/step - loss: 0.6663 - accuracy: 0.5886 - val_loss: 0.6685 - val_accuracy: 0.5867\n",
      "Epoch 61/100\n",
      "160045/160045 [==============================] - 5s 33us/step - loss: 0.6660 - accuracy: 0.5898 - val_loss: 0.6699 - val_accuracy: 0.5845\n",
      "Epoch 62/100\n",
      "160045/160045 [==============================] - 6s 35us/step - loss: 0.6664 - accuracy: 0.5885 - val_loss: 0.6673 - val_accuracy: 0.5910\n",
      "Epoch 63/100\n",
      "160045/160045 [==============================] - 6s 35us/step - loss: 0.6660 - accuracy: 0.5901 - val_loss: 0.6669 - val_accuracy: 0.5902\n",
      "Epoch 64/100\n",
      "160045/160045 [==============================] - 6s 37us/step - loss: 0.6658 - accuracy: 0.5897 - val_loss: 0.6670 - val_accuracy: 0.5914\n",
      "Epoch 65/100\n",
      "160045/160045 [==============================] - 5s 34us/step - loss: 0.6660 - accuracy: 0.5890 - val_loss: 0.6671 - val_accuracy: 0.5903\n",
      "Epoch 66/100\n",
      "160045/160045 [==============================] - 6s 35us/step - loss: 0.6657 - accuracy: 0.5899 - val_loss: 0.6687 - val_accuracy: 0.5868\n",
      "Epoch 67/100\n",
      "160045/160045 [==============================] - 5s 34us/step - loss: 0.6657 - accuracy: 0.5899 - val_loss: 0.6668 - val_accuracy: 0.5901\n",
      "Epoch 68/100\n",
      "160045/160045 [==============================] - 6s 35us/step - loss: 0.6656 - accuracy: 0.5906 - val_loss: 0.6674 - val_accuracy: 0.5900\n",
      "Epoch 69/100\n",
      "160045/160045 [==============================] - 5s 34us/step - loss: 0.6658 - accuracy: 0.5902 - val_loss: 0.6673 - val_accuracy: 0.5893\n",
      "Epoch 70/100\n",
      "160045/160045 [==============================] - 6s 37us/step - loss: 0.6654 - accuracy: 0.5908 - val_loss: 0.6685 - val_accuracy: 0.5858\n",
      "Epoch 71/100\n",
      "160045/160045 [==============================] - 6s 36us/step - loss: 0.6656 - accuracy: 0.5898 - val_loss: 0.6668 - val_accuracy: 0.5911\n",
      "Epoch 72/100\n",
      "160045/160045 [==============================] - 5s 34us/step - loss: 0.6655 - accuracy: 0.5887 - val_loss: 0.6682 - val_accuracy: 0.5885\n",
      "Epoch 73/100\n",
      "160045/160045 [==============================] - 6s 35us/step - loss: 0.6653 - accuracy: 0.5903 - val_loss: 0.6668 - val_accuracy: 0.5909\n",
      "Epoch 74/100\n",
      "160045/160045 [==============================] - 6s 40us/step - loss: 0.6654 - accuracy: 0.5899 - val_loss: 0.6673 - val_accuracy: 0.5906\n",
      "Epoch 75/100\n",
      "160045/160045 [==============================] - 7s 41us/step - loss: 0.6652 - accuracy: 0.5904 - val_loss: 0.6674 - val_accuracy: 0.5893\n",
      "Epoch 76/100\n",
      "160045/160045 [==============================] - 6s 35us/step - loss: 0.6653 - accuracy: 0.5893 - val_loss: 0.6671 - val_accuracy: 0.5904\n",
      "Epoch 77/100\n",
      "160045/160045 [==============================] - 6s 35us/step - loss: 0.6647 - accuracy: 0.5919 - val_loss: 0.6688 - val_accuracy: 0.5884\n",
      "Epoch 78/100\n",
      "160045/160045 [==============================] - 6s 35us/step - loss: 0.6648 - accuracy: 0.5928 - val_loss: 0.6682 - val_accuracy: 0.5894\n",
      "Epoch 79/100\n",
      "160045/160045 [==============================] - 5s 32us/step - loss: 0.6647 - accuracy: 0.5925 - val_loss: 0.6673 - val_accuracy: 0.5902\n",
      "Epoch 80/100\n",
      "160045/160045 [==============================] - 5s 33us/step - loss: 0.6650 - accuracy: 0.5912 - val_loss: 0.6682 - val_accuracy: 0.5883\n",
      "Epoch 81/100\n",
      "160045/160045 [==============================] - 5s 32us/step - loss: 0.6647 - accuracy: 0.5923 - val_loss: 0.6676 - val_accuracy: 0.5890\n",
      "Epoch 82/100\n",
      "160045/160045 [==============================] - 5s 33us/step - loss: 0.6647 - accuracy: 0.5913 - val_loss: 0.6676 - val_accuracy: 0.5893\n",
      "Epoch 83/100\n",
      "160045/160045 [==============================] - 5s 33us/step - loss: 0.6646 - accuracy: 0.5924 - val_loss: 0.6674 - val_accuracy: 0.5904\n",
      "Epoch 84/100\n",
      "160045/160045 [==============================] - 5s 33us/step - loss: 0.6646 - accuracy: 0.5922 - val_loss: 0.6674 - val_accuracy: 0.5911\n",
      "Epoch 85/100\n",
      "160045/160045 [==============================] - 5s 33us/step - loss: 0.6644 - accuracy: 0.5927 - val_loss: 0.6673 - val_accuracy: 0.5893\n",
      "Epoch 86/100\n",
      "160045/160045 [==============================] - 5s 34us/step - loss: 0.6640 - accuracy: 0.5914 - val_loss: 0.6676 - val_accuracy: 0.5896\n",
      "Epoch 87/100\n",
      "160045/160045 [==============================] - 5s 33us/step - loss: 0.6640 - accuracy: 0.5919 - val_loss: 0.6677 - val_accuracy: 0.5891\n",
      "Epoch 88/100\n",
      "160045/160045 [==============================] - 5s 33us/step - loss: 0.6643 - accuracy: 0.5913 - val_loss: 0.6689 - val_accuracy: 0.5872\n",
      "Epoch 89/100\n",
      "160045/160045 [==============================] - 5s 34us/step - loss: 0.6640 - accuracy: 0.5922 - val_loss: 0.6678 - val_accuracy: 0.5890\n",
      "Epoch 90/100\n",
      "160045/160045 [==============================] - 6s 36us/step - loss: 0.6640 - accuracy: 0.5934 - val_loss: 0.6688 - val_accuracy: 0.5899\n",
      "Epoch 91/100\n",
      "160045/160045 [==============================] - 6s 36us/step - loss: 0.6635 - accuracy: 0.5936 - val_loss: 0.6674 - val_accuracy: 0.5901\n",
      "Epoch 92/100\n",
      "160045/160045 [==============================] - 6s 36us/step - loss: 0.6638 - accuracy: 0.5933 - val_loss: 0.6670 - val_accuracy: 0.5906\n",
      "Epoch 93/100\n",
      "160045/160045 [==============================] - 6s 35us/step - loss: 0.6635 - accuracy: 0.5938 - val_loss: 0.6676 - val_accuracy: 0.5895\n",
      "Epoch 94/100\n",
      "160045/160045 [==============================] - 6s 35us/step - loss: 0.6635 - accuracy: 0.5931 - val_loss: 0.6685 - val_accuracy: 0.5892\n",
      "Epoch 95/100\n",
      "160045/160045 [==============================] - 5s 34us/step - loss: 0.6634 - accuracy: 0.5937 - val_loss: 0.6677 - val_accuracy: 0.5905\n",
      "Epoch 96/100\n",
      "160045/160045 [==============================] - 6s 36us/step - loss: 0.6633 - accuracy: 0.5938 - val_loss: 0.6682 - val_accuracy: 0.5891\n",
      "Epoch 97/100\n",
      "160045/160045 [==============================] - 5s 34us/step - loss: 0.6634 - accuracy: 0.5940 - val_loss: 0.6681 - val_accuracy: 0.5890\n",
      "Epoch 98/100\n",
      "160045/160045 [==============================] - 6s 35us/step - loss: 0.6635 - accuracy: 0.5941 - val_loss: 0.6678 - val_accuracy: 0.5918\n",
      "Epoch 99/100\n",
      "160045/160045 [==============================] - 6s 35us/step - loss: 0.6633 - accuracy: 0.5935 - val_loss: 0.6689 - val_accuracy: 0.5868\n",
      "Epoch 100/100\n",
      "160045/160045 [==============================] - 6s 35us/step - loss: 0.6629 - accuracy: 0.5940 - val_loss: 0.6690 - val_accuracy: 0.5876\n"
     ]
    }
   ],
   "source": [
    "history4 = model4.fit(E8X_train, E8Y_train, batch_size=64, validation_data=(E8X_test, E8Y_test), epochs=100)"
   ]
  },
  {
   "cell_type": "code",
   "execution_count": 120,
   "metadata": {},
   "outputs": [
    {
     "data": {
      "image/png": "[encoded data removed]",
      "text/plain": [
       "<Figure size 432x288 with 2 Axes>"
      ]
     },
     "metadata": {
      "needs_background": "light"
     },
     "output_type": "display_data"
    }
   ],
   "source": [
    "summarize_diagnostics(history4)"
   ]
  },
  {
   "cell_type": "code",
   "execution_count": 127,
   "metadata": {},
   "outputs": [
    {
     "data": {
      "text/plain": [
       "[<matplotlib.lines.Line2D at 0x7f6ad7c65e10>]"
      ]
     },
     "execution_count": 127,
     "metadata": {},
     "output_type": "execute_result"
    },
    {
     "data": {
      "image/png": "[encoded data removed]",
      "text/plain": [
       "<Figure size 432x288 with 1 Axes>"
      ]
     },
     "metadata": {
      "needs_background": "light"
     },
     "output_type": "display_data"
    }
   ],
   "source": [
    "    plt.title('Cross Entropy Loss')\n",
    "    plt.plot(history4.history['loss'], color='blue', label='train')\n",
    "    plt.plot(history4.history['val_loss'], color='orange', label='test')"
   ]
  },
  {
   "cell_type": "code",
   "execution_count": 131,
   "metadata": {},
   "outputs": [
    {
     "data": {
      "text/plain": [
       "[<matplotlib.lines.Line2D at 0x7f6ae4090b50>]"
      ]
     },
     "execution_count": 131,
     "metadata": {},
     "output_type": "execute_result"
    },
    {
     "data": {
      "image/png": "[encoded data removed]",
      "text/plain": [
       "<Figure size 432x288 with 1 Axes>"
      ]
     },
     "metadata": {
      "needs_background": "light"
     },
     "output_type": "display_data"
    }
   ],
   "source": [
    "    plt.title('Classification Accuracy')\n",
    "    plt.plot(history4.history['accuracy'], color='blue', label='train')\n",
    "    plt.plot(history4.history['val_accuracy'], color='orange', label='test')"
   ]
  },
  {
   "cell_type": "code",
   "execution_count": null,
   "metadata": {},
   "outputs": [],
   "source": []
  }
 ],
 "metadata": {
  "kernelspec": {
   "display_name": "Python 3",
   "language": "python",
   "name": "python3"
  },
  "language_info": {
   "codemirror_mode": {
    "name": "ipython",
    "version": 3
   },
   "file_extension": ".py",
   "mimetype": "text/x-python",
   "name": "python",
   "nbconvert_exporter": "python",
   "pygments_lexer": "ipython3",
   "version": "3.7.6"
  }
 },
 "nbformat": 4,
 "nbformat_minor": 4
}
