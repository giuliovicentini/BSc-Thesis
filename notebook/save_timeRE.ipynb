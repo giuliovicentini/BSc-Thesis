{
 "cells": [
  {
   "cell_type": "code",
   "execution_count": 98,
   "metadata": {},
   "outputs": [],
   "source": [
    "import pandas as pd\n",
    "import uproot\n",
    "import cupy as cp\n",
    "import boost_histogram as bh\n",
    "import numpy as np\n",
    "import time\n",
    "import random"
   ]
  },
  {
   "cell_type": "code",
   "execution_count": 72,
   "metadata": {},
   "outputs": [],
   "source": [
    "def no_DN (frame):\n",
    "    \n",
    "    i = frame.index[0][0]\n",
    "    new_frame = frame.loc[(frame['isDN'].values == False) & (frame['hitTime'].values < 300)]\n",
    "    return new_frame.loc[i]"
   ]
  },
  {
   "cell_type": "code",
   "execution_count": 73,
   "metadata": {},
   "outputs": [],
   "source": [
    "def first (frame):\n",
    "    frame_sort = frame.sort_values(['hitTime'])\n",
    "    frame_first = frame_sort.drop_duplicates(subset='pmtID', keep='first')\n",
    "    frame_last = frame_first.sort_values('hitTime', ascending=False)\n",
    "    return frame_last"
   ]
  },
  {
   "cell_type": "code",
   "execution_count": 74,
   "metadata": {},
   "outputs": [],
   "source": [
    "def normal_ft(ev):\n",
    "    \n",
    "    mi = ev['hitTime'].min()\n",
    "    \n",
    "    a = ev['nHits'].values\n",
    "    b = ev['pmtID'].values\n",
    "    c = ev['hitTime'] - mi\n",
    "    data = {'nHits': a, 'pmtID': b, 'hitTime': c}\n",
    "        \n",
    "    norm = pd.DataFrame(data)\n",
    "    return norm"
   ]
  },
  {
   "cell_type": "code",
   "execution_count": 75,
   "metadata": {},
   "outputs": [],
   "source": [
    "def save_hist (data, info, n, pre, b):\n",
    "    \n",
    "    dst_dir = '/home/centos/prova_E/E8_RE/'\n",
    "    \n",
    "    #hist = bh.Histogram(bh.axis.Regular(np.logspace(0, 300, 20), 0, 300))\n",
    "    \n",
    "    for i in info['evtID']:\n",
    "        name = pre+str(i)+'_'+str(b)+'.npy'\n",
    "        ev = data.pandas.df(entrystart=i, entrystop=i+1)\n",
    "        try:\n",
    "            ev_noDN = no_DN(ev)\n",
    "        except:\n",
    "            print(i, ': solo dark noise')\n",
    "            continue\n",
    "        ev_first = first(ev_noDN)\n",
    "        ev_norm = normal_ft(ev_first)\n",
    "        ev_time= ev_norm['hitTime'].values\n",
    "        #hist.fill(ev_time)\n",
    "        #array = hist.to_numpy()\n",
    "        array = np.histogram(ev_time,  bins=np.logspace(np.log10(0.1), np.log10(300), 20))\n",
    "        time = array[0]\n",
    "        \n",
    "        E_true = info['E'].loc[i]\n",
    "        E = random.gauss(E_true, 0.03*np.sqrt(E_true))\n",
    "        timeE = np.append(time, E)\n",
    "        \n",
    "        R_treu = info['R'].loc[i]\n",
    "        R = random.gauss(R_true, 10)\n",
    "        result = np.append(timeE, R)\n",
    "        \n",
    "        cp.save(dst_dir + name, result)\n",
    "        #hist.reset()\n",
    "        #return time"
   ]
  },
  {
   "cell_type": "code",
   "execution_count": 76,
   "metadata": {},
   "outputs": [],
   "source": [
    "def call_all (file, a):\n",
    "    \n",
    "    data_file = uproot.open(file)\n",
    "    INFO = data_file['true_info'].pandas.df()\n",
    "    DATA = data_file[\"lpmt_hits\"]\n",
    "    \n",
    "    if file.startswith('/home/centos/FlatComplete'):\n",
    "        name = 'pos'\n",
    "        \n",
    "        INFO_E8 = INFO.loc[(INFO['E'] > 8) & (INFO['E'] < 9) ]\n",
    "        \n",
    "    elif file.startswith('/home/centos/ElectronDataset'):\n",
    "        name = 'el'\n",
    "        \n",
    "        INFO_E8 = INFO.loc[(INFO['E'] > 9) & (INFO['E'] < 10) ]\n",
    "        \n",
    "    else:\n",
    "        print('file non riconosciuto')\n",
    "        \n",
    "    save_hist(DATA, INFO_E8, 8, name, a)"
   ]
  },
  {
   "cell_type": "code",
   "execution_count": 77,
   "metadata": {},
   "outputs": [],
   "source": [
    "P0 = \"/home/centos/FlatComplete/eplus_hits_dn_0.root\"\n",
    "P1 = \"/home/centos/FlatComplete/eplus_hits_dn_1.root\"\n",
    "P2 = \"/home/centos/FlatComplete/eplus_hits_dn_2.root\"\n",
    "P3 = \"/home/centos/FlatComplete/eplus_hits_dn_3.root\"\n",
    "P4 = \"/home/centos/FlatComplete/eplus_hits_dn_4.root\"\n",
    "P5 = \"/home/centos/FlatComplete/eplus_hits_dn_5.root\"\n",
    "P6 = \"/home/centos/FlatComplete/eplus_hits_dn_6.root\"\n",
    "P7 = \"/home/centos/FlatComplete/eplus_hits_dn_7.root\"\n",
    "P8 = \"/home/centos/FlatComplete/eplus_hits_dn_8.root\"\n",
    "P9 = \"/home/centos/FlatComplete/eplus_hits_dn_9.root\""
   ]
  },
  {
   "cell_type": "code",
   "execution_count": 78,
   "metadata": {},
   "outputs": [],
   "source": [
    "E0 = \"/home/centos/ElectronDataset/Hits/eminus_hits_dn_0.root\"\n",
    "E1 = \"/home/centos/ElectronDataset/Hits/eminus_hits_dn_1.root\"\n",
    "E2 = \"/home/centos/ElectronDataset/Hits/eminus_hits_dn_2.root\"\n",
    "E3 = \"/home/centos/ElectronDataset/Hits/eminus_hits_dn_3.root\"\n",
    "E4 = \"/home/centos/ElectronDataset/Hits/eminus_hits_dn_4.root\"\n",
    "E5 = \"/home/centos/ElectronDataset/Hits/eminus_hits_dn_5.root\"\n",
    "E6 = \"/home/centos/ElectronDataset/Hits/eminus_hits_dn_6.root\"\n",
    "E7 = \"/home/centos/ElectronDataset/Hits/eminus_hits_dn_7.root\"\n",
    "E8 = \"/home/centos/ElectronDataset/Hits/eminus_hits_dn_8.root\"\n",
    "E9 = \"/home/centos/ElectronDataset/Hits/eminus_hits_dn_9.root\""
   ]
  },
  {
   "cell_type": "code",
   "execution_count": 79,
   "metadata": {},
   "outputs": [
    {
     "data": {
      "text/plain": [
       "'16:45'"
      ]
     },
     "execution_count": 79,
     "metadata": {},
     "output_type": "execute_result"
    }
   ],
   "source": [
    "time.strftime(\"%H\") +\":\"+ time.strftime(\"%M\")"
   ]
  },
  {
   "cell_type": "code",
   "execution_count": 80,
   "metadata": {},
   "outputs": [
    {
     "data": {
      "text/plain": [
       "'17:14'"
      ]
     },
     "execution_count": 80,
     "metadata": {},
     "output_type": "execute_result"
    }
   ],
   "source": [
    "call_all(P0, 0)\n",
    "call_all(E0, 0)\n",
    "time.strftime(\"%H\") +\":\"+ time.strftime(\"%M\")"
   ]
  },
  {
   "cell_type": "code",
   "execution_count": 97,
   "metadata": {},
   "outputs": [
    {
     "ename": "AttributeError",
     "evalue": "'numpy.ndarray' object has no attribute 'strftime'",
     "output_type": "error",
     "traceback": [
      "\u001b[0;31m---------------------------------------------------------------------------\u001b[0m",
      "\u001b[0;31mAttributeError\u001b[0m                            Traceback (most recent call last)",
      "\u001b[0;32m<ipython-input-97-9638504945c3>\u001b[0m in \u001b[0;36m<module>\u001b[0;34m\u001b[0m\n\u001b[1;32m      1\u001b[0m \u001b[0mcall_all\u001b[0m\u001b[0;34m(\u001b[0m\u001b[0mP1\u001b[0m\u001b[0;34m,\u001b[0m \u001b[0;36m1\u001b[0m\u001b[0;34m)\u001b[0m\u001b[0;34m\u001b[0m\u001b[0;34m\u001b[0m\u001b[0m\n\u001b[1;32m      2\u001b[0m \u001b[0mcall_all\u001b[0m\u001b[0;34m(\u001b[0m\u001b[0mE1\u001b[0m\u001b[0;34m,\u001b[0m \u001b[0;36m1\u001b[0m\u001b[0;34m)\u001b[0m\u001b[0;34m\u001b[0m\u001b[0;34m\u001b[0m\u001b[0m\n\u001b[0;32m----> 3\u001b[0;31m \u001b[0mtime\u001b[0m\u001b[0;34m.\u001b[0m\u001b[0mstrftime\u001b[0m\u001b[0;34m(\u001b[0m\u001b[0;34m\"%H\"\u001b[0m\u001b[0;34m)\u001b[0m \u001b[0;34m+\u001b[0m\u001b[0;34m\":\"\u001b[0m\u001b[0;34m+\u001b[0m \u001b[0mtime\u001b[0m\u001b[0;34m.\u001b[0m\u001b[0mstrftime\u001b[0m\u001b[0;34m(\u001b[0m\u001b[0;34m\"%M\"\u001b[0m\u001b[0;34m)\u001b[0m\u001b[0;34m\u001b[0m\u001b[0;34m\u001b[0m\u001b[0m\n\u001b[0m",
      "\u001b[0;31mAttributeError\u001b[0m: 'numpy.ndarray' object has no attribute 'strftime'"
     ]
    }
   ],
   "source": [
    "call_all(P1, 1)\n",
    "call_all(E1, 1)\n",
    "time.strftime(\"%H\") +\":\"+ time.strftime(\"%M\")"
   ]
  },
  {
   "cell_type": "code",
   "execution_count": 99,
   "metadata": {},
   "outputs": [
    {
     "data": {
      "text/plain": [
       "'20:44'"
      ]
     },
     "execution_count": 99,
     "metadata": {},
     "output_type": "execute_result"
    }
   ],
   "source": [
    "call_all(P2, 2)\n",
    "call_all(E2, 2)\n",
    "time.strftime(\"%H\") +\":\"+ time.strftime(\"%M\")"
   ]
  },
  {
   "cell_type": "code",
   "execution_count": 100,
   "metadata": {},
   "outputs": [
    {
     "data": {
      "text/plain": [
       "'21:12'"
      ]
     },
     "execution_count": 100,
     "metadata": {},
     "output_type": "execute_result"
    }
   ],
   "source": [
    "call_all(P3, 3)\n",
    "call_all(E3, 3)\n",
    "time.strftime(\"%H\") +\":\"+ time.strftime(\"%M\")"
   ]
  },
  {
   "cell_type": "code",
   "execution_count": 101,
   "metadata": {},
   "outputs": [
    {
     "data": {
      "text/plain": [
       "'21:40'"
      ]
     },
     "execution_count": 101,
     "metadata": {},
     "output_type": "execute_result"
    }
   ],
   "source": [
    "call_all(P4, 4)\n",
    "call_all(E4, 4)\n",
    "time.strftime(\"%H\") +\":\"+ time.strftime(\"%M\")"
   ]
  },
  {
   "cell_type": "code",
   "execution_count": 102,
   "metadata": {},
   "outputs": [
    {
     "data": {
      "text/plain": [
       "'22:07'"
      ]
     },
     "execution_count": 102,
     "metadata": {},
     "output_type": "execute_result"
    }
   ],
   "source": [
    "call_all(P5, 5)\n",
    "call_all(E5, 5)\n",
    "time.strftime(\"%H\") +\":\"+ time.strftime(\"%M\")"
   ]
  },
  {
   "cell_type": "code",
   "execution_count": 103,
   "metadata": {},
   "outputs": [
    {
     "data": {
      "text/plain": [
       "'22:34'"
      ]
     },
     "execution_count": 103,
     "metadata": {},
     "output_type": "execute_result"
    }
   ],
   "source": [
    "call_all(P6, 6)\n",
    "call_all(E6, 6)\n",
    "time.strftime(\"%H\") +\":\"+ time.strftime(\"%M\")"
   ]
  },
  {
   "cell_type": "code",
   "execution_count": 104,
   "metadata": {},
   "outputs": [
    {
     "data": {
      "text/plain": [
       "'23:02'"
      ]
     },
     "execution_count": 104,
     "metadata": {},
     "output_type": "execute_result"
    }
   ],
   "source": [
    "call_all(P7, 7)\n",
    "call_all(E7, 7)\n",
    "time.strftime(\"%H\") +\":\"+ time.strftime(\"%M\")"
   ]
  },
  {
   "cell_type": "code",
   "execution_count": 105,
   "metadata": {},
   "outputs": [
    {
     "data": {
      "text/plain": [
       "'23:30'"
      ]
     },
     "execution_count": 105,
     "metadata": {},
     "output_type": "execute_result"
    }
   ],
   "source": [
    "call_all(P8, 8)\n",
    "call_all(E8, 8)\n",
    "time.strftime(\"%H\") +\":\"+ time.strftime(\"%M\")"
   ]
  },
  {
   "cell_type": "code",
   "execution_count": 106,
   "metadata": {},
   "outputs": [
    {
     "data": {
      "text/plain": [
       "'23:59'"
      ]
     },
     "execution_count": 106,
     "metadata": {},
     "output_type": "execute_result"
    }
   ],
   "source": [
    "call_all(P9, 9)\n",
    "call_all(E9, 9)\n",
    "time.strftime(\"%H\") +\":\"+ time.strftime(\"%M\")"
   ]
  },
  {
   "cell_type": "markdown",
   "metadata": {},
   "source": [
    "# --------------------------------------------"
   ]
  },
  {
   "cell_type": "code",
   "execution_count": 33,
   "metadata": {},
   "outputs": [],
   "source": [
    "data_file = uproot.open(P8)\n",
    "info = data_file['true_info'].pandas.df()\n",
    "data = data_file[\"lpmt_hits\"]"
   ]
  },
  {
   "cell_type": "code",
   "execution_count": 11,
   "metadata": {},
   "outputs": [
    {
     "data": {
      "text/html": [
       "<div>\n",
       "<style scoped>\n",
       "    .dataframe tbody tr th:only-of-type {\n",
       "        vertical-align: middle;\n",
       "    }\n",
       "\n",
       "    .dataframe tbody tr th {\n",
       "        vertical-align: top;\n",
       "    }\n",
       "\n",
       "    .dataframe thead th {\n",
       "        text-align: right;\n",
       "    }\n",
       "</style>\n",
       "<table border=\"1\" class=\"dataframe\">\n",
       "  <thead>\n",
       "    <tr style=\"text-align: right;\">\n",
       "      <th></th>\n",
       "      <th>evtID</th>\n",
       "      <th>E</th>\n",
       "      <th>x</th>\n",
       "      <th>y</th>\n",
       "      <th>z</th>\n",
       "      <th>R</th>\n",
       "    </tr>\n",
       "    <tr>\n",
       "      <th>entry</th>\n",
       "      <th></th>\n",
       "      <th></th>\n",
       "      <th></th>\n",
       "      <th></th>\n",
       "      <th></th>\n",
       "      <th></th>\n",
       "    </tr>\n",
       "  </thead>\n",
       "  <tbody>\n",
       "    <tr>\n",
       "      <th>0</th>\n",
       "      <td>0</td>\n",
       "      <td>1.611782</td>\n",
       "      <td>10070.713867</td>\n",
       "      <td>5642.622559</td>\n",
       "      <td>-1902.200195</td>\n",
       "      <td>11699.437500</td>\n",
       "    </tr>\n",
       "    <tr>\n",
       "      <th>1</th>\n",
       "      <td>1</td>\n",
       "      <td>1.061550</td>\n",
       "      <td>3195.711426</td>\n",
       "      <td>-438.007385</td>\n",
       "      <td>-3775.261719</td>\n",
       "      <td>4965.583984</td>\n",
       "    </tr>\n",
       "    <tr>\n",
       "      <th>2</th>\n",
       "      <td>2</td>\n",
       "      <td>9.552167</td>\n",
       "      <td>2571.991943</td>\n",
       "      <td>-24.381102</td>\n",
       "      <td>-17280.189453</td>\n",
       "      <td>17470.566406</td>\n",
       "    </tr>\n",
       "    <tr>\n",
       "      <th>3</th>\n",
       "      <td>3</td>\n",
       "      <td>8.676808</td>\n",
       "      <td>-8391.572266</td>\n",
       "      <td>-1259.657837</td>\n",
       "      <td>10496.677734</td>\n",
       "      <td>13497.609375</td>\n",
       "    </tr>\n",
       "    <tr>\n",
       "      <th>4</th>\n",
       "      <td>4</td>\n",
       "      <td>7.571971</td>\n",
       "      <td>14094.770508</td>\n",
       "      <td>-5504.564941</td>\n",
       "      <td>2110.553223</td>\n",
       "      <td>15277.998047</td>\n",
       "    </tr>\n",
       "    <tr>\n",
       "      <th>...</th>\n",
       "      <td>...</td>\n",
       "      <td>...</td>\n",
       "      <td>...</td>\n",
       "      <td>...</td>\n",
       "      <td>...</td>\n",
       "      <td>...</td>\n",
       "    </tr>\n",
       "    <tr>\n",
       "      <th>99995</th>\n",
       "      <td>99995</td>\n",
       "      <td>8.284369</td>\n",
       "      <td>2374.231934</td>\n",
       "      <td>-10126.605469</td>\n",
       "      <td>12136.030273</td>\n",
       "      <td>15983.376953</td>\n",
       "    </tr>\n",
       "    <tr>\n",
       "      <th>99996</th>\n",
       "      <td>99996</td>\n",
       "      <td>8.527157</td>\n",
       "      <td>8105.803711</td>\n",
       "      <td>7404.710449</td>\n",
       "      <td>3286.964355</td>\n",
       "      <td>11460.276367</td>\n",
       "    </tr>\n",
       "    <tr>\n",
       "      <th>99997</th>\n",
       "      <td>99997</td>\n",
       "      <td>1.110695</td>\n",
       "      <td>4506.581055</td>\n",
       "      <td>-1017.060120</td>\n",
       "      <td>4.655399</td>\n",
       "      <td>4619.924805</td>\n",
       "    </tr>\n",
       "    <tr>\n",
       "      <th>99998</th>\n",
       "      <td>99998</td>\n",
       "      <td>4.059003</td>\n",
       "      <td>-3667.033691</td>\n",
       "      <td>8596.628906</td>\n",
       "      <td>245.721252</td>\n",
       "      <td>9349.306641</td>\n",
       "    </tr>\n",
       "    <tr>\n",
       "      <th>99999</th>\n",
       "      <td>99999</td>\n",
       "      <td>1.877084</td>\n",
       "      <td>-12651.076172</td>\n",
       "      <td>8442.206055</td>\n",
       "      <td>2566.728760</td>\n",
       "      <td>15424.288086</td>\n",
       "    </tr>\n",
       "  </tbody>\n",
       "</table>\n",
       "<p>100000 rows × 6 columns</p>\n",
       "</div>"
      ],
      "text/plain": [
       "       evtID         E             x             y             z             R\n",
       "entry                                                                         \n",
       "0          0  1.611782  10070.713867   5642.622559  -1902.200195  11699.437500\n",
       "1          1  1.061550   3195.711426   -438.007385  -3775.261719   4965.583984\n",
       "2          2  9.552167   2571.991943    -24.381102 -17280.189453  17470.566406\n",
       "3          3  8.676808  -8391.572266  -1259.657837  10496.677734  13497.609375\n",
       "4          4  7.571971  14094.770508  -5504.564941   2110.553223  15277.998047\n",
       "...      ...       ...           ...           ...           ...           ...\n",
       "99995  99995  8.284369   2374.231934 -10126.605469  12136.030273  15983.376953\n",
       "99996  99996  8.527157   8105.803711   7404.710449   3286.964355  11460.276367\n",
       "99997  99997  1.110695   4506.581055  -1017.060120      4.655399   4619.924805\n",
       "99998  99998  4.059003  -3667.033691   8596.628906    245.721252   9349.306641\n",
       "99999  99999  1.877084 -12651.076172   8442.206055   2566.728760  15424.288086\n",
       "\n",
       "[100000 rows x 6 columns]"
      ]
     },
     "execution_count": 11,
     "metadata": {},
     "output_type": "execute_result"
    }
   ],
   "source": [
    "INFO"
   ]
  },
  {
   "cell_type": "code",
   "execution_count": 90,
   "metadata": {},
   "outputs": [],
   "source": [
    "i=0\n",
    "ev = data.pandas.df(entrystart=i, entrystop=i+1)\n",
    "try:\n",
    "    ev_noDN = no_DN(ev)\n",
    "except:\n",
    "    print(i, ': solo dark noise')\n",
    "            #continue\n",
    "ev_first = first(ev_noDN)\n",
    "ev_norm = normal_ft(ev_first)\n",
    "ev_time= ev_norm['hitTime'].values\n",
    "        #hist.fill(ev_time)\n",
    "        #array = hist.to_numpy()\n",
    "array = np.histogram(ev_time,  bins=np.logspace(np.log10(0.1), np.log10(300), 20))\n",
    "time = array[0]\n",
    "        \n",
    "E_true = info['E'].loc[i]\n",
    "E = random.gauss(E_true, 0.03*np.sqrt(E_true))\n",
    "timeE = np.append(time, E)\n",
    "        \n",
    "R_true = info['R'].loc[i]\n",
    "R = random.gauss(R_true, 10)\n",
    "R = R/1000\n",
    "result = np.append(timeE, R)"
   ]
  },
  {
   "cell_type": "code",
   "execution_count": 91,
   "metadata": {},
   "outputs": [
    {
     "data": {
      "text/plain": [
       "array([  0.        ,   1.        ,   1.        ,   0.        ,\n",
       "         0.        ,   3.        ,   1.        ,  11.        ,\n",
       "        19.        ,  60.        ,  86.        , 129.        ,\n",
       "       214.        , 296.        , 409.        , 435.        ,\n",
       "       477.        , 219.        ,  69.        ,   1.61341587,\n",
       "        11.68968321])"
      ]
     },
     "execution_count": 91,
     "metadata": {},
     "output_type": "execute_result"
    }
   ],
   "source": [
    "result"
   ]
  },
  {
   "cell_type": "code",
   "execution_count": 63,
   "metadata": {},
   "outputs": [],
   "source": [
    "timeE = np.delete(result, 20)"
   ]
  },
  {
   "cell_type": "code",
   "execution_count": 65,
   "metadata": {},
   "outputs": [],
   "source": [
    "time = np.delete(timeE, 19)"
   ]
  },
  {
   "cell_type": "code",
   "execution_count": 66,
   "metadata": {},
   "outputs": [
    {
     "data": {
      "text/plain": [
       "array([  0.,   1.,   1.,   0.,   0.,   3.,   1.,  11.,  19.,  60.,  86.,\n",
       "       129., 214., 296., 409., 435., 477., 219.,  69.])"
      ]
     },
     "execution_count": 66,
     "metadata": {},
     "output_type": "execute_result"
    }
   ],
   "source": [
    "time"
   ]
  },
  {
   "cell_type": "code",
   "execution_count": 81,
   "metadata": {},
   "outputs": [],
   "source": [
    "E = result[19:]"
   ]
  },
  {
   "cell_type": "code",
   "execution_count": 82,
   "metadata": {},
   "outputs": [
    {
     "data": {
      "text/plain": [
       "array([ 1.56552574, 11.70792964])"
      ]
     },
     "execution_count": 82,
     "metadata": {},
     "output_type": "execute_result"
    }
   ],
   "source": [
    "E"
   ]
  },
  {
   "cell_type": "code",
   "execution_count": 83,
   "metadata": {},
   "outputs": [],
   "source": [
    "R = result[:19]"
   ]
  },
  {
   "cell_type": "code",
   "execution_count": 84,
   "metadata": {},
   "outputs": [
    {
     "data": {
      "text/plain": [
       "array([  0.,   1.,   1.,   0.,   0.,   3.,   1.,  11.,  19.,  60.,  86.,\n",
       "       129., 214., 296., 409., 435., 477., 219.,  69.])"
      ]
     },
     "execution_count": 84,
     "metadata": {},
     "output_type": "execute_result"
    }
   ],
   "source": [
    "R"
   ]
  },
  {
   "cell_type": "code",
   "execution_count": 92,
   "metadata": {},
   "outputs": [],
   "source": [
    "result = np.reshape(result, (21, 1))"
   ]
  },
  {
   "cell_type": "code",
   "execution_count": 93,
   "metadata": {},
   "outputs": [
    {
     "data": {
      "text/plain": [
       "(21, 1)"
      ]
     },
     "execution_count": 93,
     "metadata": {},
     "output_type": "execute_result"
    }
   ],
   "source": [
    "result.shape"
   ]
  },
  {
   "cell_type": "code",
   "execution_count": 96,
   "metadata": {},
   "outputs": [
    {
     "data": {
      "text/plain": [
       "array([[  0.],\n",
       "       [  1.],\n",
       "       [  1.],\n",
       "       [  0.],\n",
       "       [  0.],\n",
       "       [  3.],\n",
       "       [  1.],\n",
       "       [ 11.],\n",
       "       [ 19.],\n",
       "       [ 60.],\n",
       "       [ 86.],\n",
       "       [129.],\n",
       "       [214.],\n",
       "       [296.],\n",
       "       [409.],\n",
       "       [435.],\n",
       "       [477.],\n",
       "       [219.],\n",
       "       [ 69.]])"
      ]
     },
     "execution_count": 96,
     "metadata": {},
     "output_type": "execute_result"
    }
   ],
   "source": [
    "result[:19]"
   ]
  },
  {
   "cell_type": "code",
   "execution_count": null,
   "metadata": {},
   "outputs": [],
   "source": []
  }
 ],
 "metadata": {
  "kernelspec": {
   "display_name": "Python 3",
   "language": "python",
   "name": "python3"
  },
  "language_info": {
   "codemirror_mode": {
    "name": "ipython",
    "version": 3
   },
   "file_extension": ".py",
   "mimetype": "text/x-python",
   "name": "python",
   "nbconvert_exporter": "python",
   "pygments_lexer": "ipython3",
   "version": "3.7.6"
  }
 },
 "nbformat": 4,
 "nbformat_minor": 4
}
