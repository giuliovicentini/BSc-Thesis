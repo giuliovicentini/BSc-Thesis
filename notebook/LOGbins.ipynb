{
 "cells": [
  {
   "cell_type": "code",
   "execution_count": 1,
   "metadata": {},
   "outputs": [],
   "source": [
    "import pandas as pd\n",
    "import uproot\n",
    "import cupy as cp\n",
    "import boost_histogram as bh\n",
    "import numpy as np\n",
    "import time"
   ]
  },
  {
   "cell_type": "code",
   "execution_count": 2,
   "metadata": {},
   "outputs": [],
   "source": [
    "def no_DN (frame):\n",
    "    \n",
    "    i = frame.index[0][0]\n",
    "    new_frame = frame.loc[(frame['isDN'].values == False) & (frame['hitTime'].values < 300)]\n",
    "    return new_frame.loc[i]"
   ]
  },
  {
   "cell_type": "code",
   "execution_count": 3,
   "metadata": {},
   "outputs": [],
   "source": [
    "def first (frame):\n",
    "    frame_sort = frame.sort_values(['hitTime'])\n",
    "    frame_first = frame_sort.drop_duplicates(subset='pmtID', keep='first')\n",
    "    frame_last = frame_first.sort_values('hitTime', ascending=False)\n",
    "    return frame_last"
   ]
  },
  {
   "cell_type": "code",
   "execution_count": 4,
   "metadata": {},
   "outputs": [],
   "source": [
    "def normal_ft(ev):\n",
    "    \n",
    "    mi = ev['hitTime'].min()\n",
    "    \n",
    "    a = ev['nHits'].values\n",
    "    b = ev['pmtID'].values\n",
    "    c = ev['hitTime'] - mi\n",
    "    data = {'nHits': a, 'pmtID': b, 'hitTime': c}\n",
    "        \n",
    "    norm = pd.DataFrame(data)\n",
    "    return norm"
   ]
  },
  {
   "cell_type": "code",
   "execution_count": 5,
   "metadata": {},
   "outputs": [],
   "source": [
    "def save_hist (data, info, n, pre, b):\n",
    "    \n",
    "    dst_dir = '/home/centos/prova_E/E8_log/'\n",
    "    \n",
    "    #hist = bh.Histogram(bh.axis.Regular(np.logspace(0, 300, 20), 0, 300))\n",
    "    \n",
    "    for i in info['evtID']:\n",
    "        name = pre+str(i)+'_'+str(b)+'.npy'\n",
    "        ev = data.pandas.df(entrystart=i, entrystop=i+1)\n",
    "        try:\n",
    "            ev_noDN = no_DN(ev)\n",
    "        except:\n",
    "            print(i, ': solo dark noise')\n",
    "            continue\n",
    "        ev_first = first(ev_noDN)\n",
    "        ev_norm = normal_ft(ev_first)\n",
    "        ev_time= ev_norm['hitTime'].values\n",
    "        #hist.fill(ev_time)\n",
    "        #array = hist.to_numpy()\n",
    "        array = np.histogram(ev_time,  bins=np.logspace(np.log10(0.1), np.log10(300), 20))\n",
    "        time = array[0]\n",
    "        \n",
    "        cp.save(dst_dir + name, time)\n",
    "        #hist.reset()"
   ]
  },
  {
   "cell_type": "code",
   "execution_count": 6,
   "metadata": {},
   "outputs": [],
   "source": [
    "def call_all (file, a):\n",
    "    \n",
    "    data_file = uproot.open(file)\n",
    "    INFO = data_file['true_info'].pandas.df()\n",
    "    DATA = data_file[\"lpmt_hits\"]\n",
    "    \n",
    "    if file.startswith('/home/centos/FlatComplete'):\n",
    "        name = 'pos'\n",
    "        \n",
    "        INFO_E8 = INFO.loc[(INFO['E'] > 8) & (INFO['E'] < 9) ]\n",
    "        \n",
    "    elif file.startswith('/home/centos/ElectronDataset'):\n",
    "        name = 'el'\n",
    "        \n",
    "        INFO_E8 = INFO.loc[(INFO['E'] > 9) & (INFO['E'] < 10) ]\n",
    "        \n",
    "    else:\n",
    "        print('file non riconosciuto')\n",
    "        \n",
    "    save_hist(DATA, INFO_E8, 8, name, a)"
   ]
  },
  {
   "cell_type": "code",
   "execution_count": 7,
   "metadata": {},
   "outputs": [],
   "source": [
    "P0 = \"/home/centos/FlatComplete/eplus_hits_dn_0.root\"\n",
    "P1 = \"/home/centos/FlatComplete/eplus_hits_dn_1.root\"\n",
    "P2 = \"/home/centos/FlatComplete/eplus_hits_dn_2.root\"\n",
    "P3 = \"/home/centos/FlatComplete/eplus_hits_dn_3.root\"\n",
    "P4 = \"/home/centos/FlatComplete/eplus_hits_dn_4.root\"\n",
    "P5 = \"/home/centos/FlatComplete/eplus_hits_dn_5.root\"\n",
    "P6 = \"/home/centos/FlatComplete/eplus_hits_dn_6.root\"\n",
    "P7 = \"/home/centos/FlatComplete/eplus_hits_dn_7.root\"\n",
    "P8 = \"/home/centos/FlatComplete/eplus_hits_dn_8.root\"\n",
    "P9 = \"/home/centos/FlatComplete/eplus_hits_dn_9.root\""
   ]
  },
  {
   "cell_type": "code",
   "execution_count": 8,
   "metadata": {},
   "outputs": [],
   "source": [
    "E0 = \"/home/centos/ElectronDataset/Hits/eminus_hits_dn_0.root\"\n",
    "E1 = \"/home/centos/ElectronDataset/Hits/eminus_hits_dn_1.root\"\n",
    "E2 = \"/home/centos/ElectronDataset/Hits/eminus_hits_dn_2.root\"\n",
    "E3 = \"/home/centos/ElectronDataset/Hits/eminus_hits_dn_3.root\"\n",
    "E4 = \"/home/centos/ElectronDataset/Hits/eminus_hits_dn_4.root\"\n",
    "E5 = \"/home/centos/ElectronDataset/Hits/eminus_hits_dn_5.root\"\n",
    "E6 = \"/home/centos/ElectronDataset/Hits/eminus_hits_dn_6.root\"\n",
    "E7 = \"/home/centos/ElectronDataset/Hits/eminus_hits_dn_7.root\"\n",
    "E8 = \"/home/centos/ElectronDataset/Hits/eminus_hits_dn_8.root\"\n",
    "E9 = \"/home/centos/ElectronDataset/Hits/eminus_hits_dn_9.root\""
   ]
  },
  {
   "cell_type": "code",
   "execution_count": 9,
   "metadata": {},
   "outputs": [
    {
     "data": {
      "text/plain": [
       "'09:54'"
      ]
     },
     "execution_count": 9,
     "metadata": {},
     "output_type": "execute_result"
    }
   ],
   "source": [
    "time.strftime(\"%H\") +\":\"+ time.strftime(\"%M\")"
   ]
  },
  {
   "cell_type": "code",
   "execution_count": 10,
   "metadata": {},
   "outputs": [
    {
     "data": {
      "text/plain": [
       "'10:21'"
      ]
     },
     "execution_count": 10,
     "metadata": {},
     "output_type": "execute_result"
    }
   ],
   "source": [
    "call_all(P0, 0)\n",
    "call_all(E0, 0)\n",
    "time.strftime(\"%H\") +\":\"+ time.strftime(\"%M\")"
   ]
  },
  {
   "cell_type": "code",
   "execution_count": 81,
   "metadata": {},
   "outputs": [
    {
     "data": {
      "text/plain": [
       "'12:04'"
      ]
     },
     "execution_count": 81,
     "metadata": {},
     "output_type": "execute_result"
    }
   ],
   "source": [
    "call_all(P1, 1)\n",
    "call_all(E1, 1)\n",
    "time.strftime(\"%H\") +\":\"+ time.strftime(\"%M\")"
   ]
  },
  {
   "cell_type": "code",
   "execution_count": 82,
   "metadata": {},
   "outputs": [
    {
     "data": {
      "text/plain": [
       "'12:32'"
      ]
     },
     "execution_count": 82,
     "metadata": {},
     "output_type": "execute_result"
    }
   ],
   "source": [
    "call_all(P2, 2)\n",
    "call_all(E2, 2)\n",
    "time.strftime(\"%H\") +\":\"+ time.strftime(\"%M\")"
   ]
  },
  {
   "cell_type": "code",
   "execution_count": 83,
   "metadata": {},
   "outputs": [
    {
     "data": {
      "text/plain": [
       "'13:01'"
      ]
     },
     "execution_count": 83,
     "metadata": {},
     "output_type": "execute_result"
    }
   ],
   "source": [
    "call_all(P3, 3)\n",
    "call_all(E3, 3)\n",
    "time.strftime(\"%H\") +\":\"+ time.strftime(\"%M\")"
   ]
  },
  {
   "cell_type": "code",
   "execution_count": 84,
   "metadata": {},
   "outputs": [
    {
     "data": {
      "text/plain": [
       "'13:30'"
      ]
     },
     "execution_count": 84,
     "metadata": {},
     "output_type": "execute_result"
    }
   ],
   "source": [
    "call_all(P4, 4)\n",
    "call_all(E4, 4)\n",
    "time.strftime(\"%H\") +\":\"+ time.strftime(\"%M\")"
   ]
  },
  {
   "cell_type": "code",
   "execution_count": 85,
   "metadata": {},
   "outputs": [
    {
     "data": {
      "text/plain": [
       "'13:58'"
      ]
     },
     "execution_count": 85,
     "metadata": {},
     "output_type": "execute_result"
    }
   ],
   "source": [
    "call_all(P5, 5)\n",
    "call_all(E6, 6)\n",
    "time.strftime(\"%H\") +\":\"+ time.strftime(\"%M\")"
   ]
  },
  {
   "cell_type": "code",
   "execution_count": 86,
   "metadata": {},
   "outputs": [
    {
     "data": {
      "text/plain": [
       "'14:27'"
      ]
     },
     "execution_count": 86,
     "metadata": {},
     "output_type": "execute_result"
    }
   ],
   "source": [
    "call_all(P7, 7)\n",
    "call_all(E7, 7)\n",
    "time.strftime(\"%H\") +\":\"+ time.strftime(\"%M\")"
   ]
  },
  {
   "cell_type": "code",
   "execution_count": 87,
   "metadata": {},
   "outputs": [
    {
     "data": {
      "text/plain": [
       "'14:56'"
      ]
     },
     "execution_count": 87,
     "metadata": {},
     "output_type": "execute_result"
    }
   ],
   "source": [
    "call_all(P8, 8)\n",
    "call_all(E8, 8)\n",
    "time.strftime(\"%H\") +\":\"+ time.strftime(\"%M\")"
   ]
  },
  {
   "cell_type": "code",
   "execution_count": 88,
   "metadata": {},
   "outputs": [
    {
     "data": {
      "text/plain": [
       "'15:24'"
      ]
     },
     "execution_count": 88,
     "metadata": {},
     "output_type": "execute_result"
    }
   ],
   "source": [
    "call_all(P9, 9)\n",
    "call_all(E9, 9)\n",
    "time.strftime(\"%H\") +\":\"+ time.strftime(\"%M\")"
   ]
  },
  {
   "cell_type": "markdown",
   "metadata": {},
   "source": [
    "# --------------------------------------------"
   ]
  },
  {
   "cell_type": "code",
   "execution_count": 91,
   "metadata": {},
   "outputs": [],
   "source": [
    "import os\n",
    "import cupy as cp\n",
    "import matplotlib.pyplot as plt\n",
    "import numpy as np"
   ]
  },
  {
   "cell_type": "code",
   "execution_count": 92,
   "metadata": {},
   "outputs": [],
   "source": [
    "def summarize_diagnostics(history):\n",
    "    # plot loss\n",
    "    plt.subplot(211)\n",
    "    plt.title('Cross Entropy Loss')\n",
    "    plt.plot(history.history['loss'], color='blue', label='train')\n",
    "    plt.plot(history.history['val_loss'], color='orange', label='test')\n",
    "    # plot accuracy\n",
    "    plt.subplot(212)\n",
    "    plt.title('Classification Accuracy')\n",
    "    plt.plot(history.history['accuracy'], color='blue', label='train')\n",
    "    plt.plot(history.history['val_accuracy'], color='orange', label='test')"
   ]
  },
  {
   "cell_type": "code",
   "execution_count": 93,
   "metadata": {},
   "outputs": [
    {
     "name": "stdout",
     "output_type": "stream",
     "text": [
      "180328\n"
     ]
    }
   ],
   "source": [
    "folder = 'prova_E/E8_log/'\n",
    "i = 0\n",
    "for file in os.listdir(folder):\n",
    "    i += 1\n",
    "print(i)"
   ]
  },
  {
   "cell_type": "code",
   "execution_count": 94,
   "metadata": {
    "scrolled": false
   },
   "outputs": [],
   "source": [
    "Elog = np.empty((180328, 19, 1), dtype=cp.float64)\n",
    "labels_Elog = np.zeros(180328)\n",
    "folder = 'prova_E/E8_log/'\n",
    "i = 0\n",
    "for file in os.listdir(folder):\n",
    "    if file.startswith('el'):\n",
    "        labels_Elog[i] = 1\n",
    "    array = np.load(folder + file)\n",
    "    array = cp.reshape(array, (19,1))\n",
    "    Elog[i] = array\n",
    "    i += 1"
   ]
  },
  {
   "cell_type": "code",
   "execution_count": 48,
   "metadata": {},
   "outputs": [],
   "source": [
    "x = np.logspace(np.log10(0.1), np.log10(300), 20)"
   ]
  },
  {
   "cell_type": "code",
   "execution_count": 74,
   "metadata": {},
   "outputs": [
    {
     "data": {
      "text/plain": [
       "array([1.00000000e-01, 1.52407515e-01, 2.32280506e-01, 3.54012947e-01,\n",
       "       5.39542335e-01, 8.22303065e-01, 1.25325167e+00, 1.91004972e+00,\n",
       "       2.91105932e+00, 4.43667316e+00, 6.76182331e+00, 1.03055269e+01,\n",
       "       1.57063974e+01, 2.39377300e+01, 3.64828994e+01, 5.56026803e+01,\n",
       "       8.47426634e+01, 1.29154187e+02, 1.96840687e+02, 3.00000000e+02])"
      ]
     },
     "execution_count": 74,
     "metadata": {},
     "output_type": "execute_result"
    }
   ],
   "source": [
    "x"
   ]
  },
  {
   "cell_type": "code",
   "execution_count": 67,
   "metadata": {},
   "outputs": [
    {
     "data": {
      "text/plain": [
       "(19,)"
      ]
     },
     "execution_count": 67,
     "metadata": {},
     "output_type": "execute_result"
    }
   ],
   "source": [
    "y = Elog[0].flatten()\n",
    "y.shape"
   ]
  },
  {
   "cell_type": "code",
   "execution_count": 80,
   "metadata": {},
   "outputs": [
    {
     "data": {
      "text/plain": [
       "<BarContainer object of 19 artists>"
      ]
     },
     "execution_count": 80,
     "metadata": {},
     "output_type": "execute_result"
    },
    {
     "data": {
      "image/png": "[encoded data removed]",
      "text/plain": [
       "<Figure size 432x288 with 1 Axes>"
      ]
     },
     "metadata": {
      "needs_background": "light"
     },
     "output_type": "display_data"
    }
   ],
   "source": [
    "plt.bar(x[:-1], Elog[0].flatten(), width=np.diff(x), ec='black', align='edge')"
   ]
  },
  {
   "cell_type": "code",
   "execution_count": null,
   "metadata": {},
   "outputs": [],
   "source": []
  },
  {
   "cell_type": "code",
   "execution_count": 61,
   "metadata": {},
   "outputs": [
    {
     "data": {
      "image/png": "[encoded data removed]",
      "text/plain": [
       "<Figure size 432x288 with 1 Axes>"
      ]
     },
     "metadata": {
      "needs_background": "light"
     },
     "output_type": "display_data"
    }
   ],
   "source": [
    "fig, ax = plt.subplots()\n",
    "ax.bar(x[:-1], y, width=np.diff(x),ec=\"k\", align=\"edge\")\n",
    "#ax.set_xscale(\"log\")\n",
    "plt.show()"
   ]
  },
  {
   "cell_type": "code",
   "execution_count": 97,
   "metadata": {},
   "outputs": [],
   "source": [
    "Elog_norm = Elog/Elog.max()"
   ]
  },
  {
   "cell_type": "code",
   "execution_count": 98,
   "metadata": {},
   "outputs": [],
   "source": [
    "from sklearn.model_selection import train_test_split\n",
    "E8X_train, E8X_test, E8Y_train, E8Y_test = train_test_split(Elog_norm , labels_Elog ,test_size=0.2)"
   ]
  },
  {
   "cell_type": "code",
   "execution_count": 101,
   "metadata": {},
   "outputs": [],
   "source": [
    "from keras.models import Sequential\n",
    "from keras.layers import Dense, Conv1D, Flatten, Dropout, MaxPooling1D, BatchNormalization\n",
    "\n",
    "model = Sequential()\n",
    "model.add(Conv1D(32, 3, activation='relu', kernel_initializer='he_uniform', padding='same', input_shape=(19, 1)))\n",
    "model.add(MaxPooling1D(2))\n",
    "model.add(BatchNormalization())\n",
    "model.add(Dropout(0.2))\n",
    "model.add(Conv1D(64, 3, activation='relu', kernel_initializer='he_uniform', padding='same'))\n",
    "model.add(MaxPooling1D(2))\n",
    "model.add(BatchNormalization())\n",
    "model.add(Dropout(0.2))\n",
    "model.add(Conv1D(128, 3, activation='relu', kernel_initializer='he_uniform', padding='same'))\n",
    "model.add(MaxPooling1D(2))\n",
    "model.add(BatchNormalization())\n",
    "model.add(Dropout(0.2))\n",
    "model.add(Flatten())\n",
    "model.add(Dense(128, activation='relu', kernel_initializer='he_uniform'))\n",
    "model.add(Dropout(0.5))\n",
    "model.add(Dense(1, activation='sigmoid'))"
   ]
  },
  {
   "cell_type": "code",
   "execution_count": 102,
   "metadata": {},
   "outputs": [
    {
     "name": "stdout",
     "output_type": "stream",
     "text": [
      "Model: \"sequential_2\"\n",
      "_________________________________________________________________\n",
      "Layer (type)                 Output Shape              Param #   \n",
      "=================================================================\n",
      "conv1d_4 (Conv1D)            (None, 19, 32)            128       \n",
      "_________________________________________________________________\n",
      "max_pooling1d_4 (MaxPooling1 (None, 9, 32)             0         \n",
      "_________________________________________________________________\n",
      "batch_normalization_4 (Batch (None, 9, 32)             128       \n",
      "_________________________________________________________________\n",
      "dropout_5 (Dropout)          (None, 9, 32)             0         \n",
      "_________________________________________________________________\n",
      "conv1d_5 (Conv1D)            (None, 9, 64)             6208      \n",
      "_________________________________________________________________\n",
      "max_pooling1d_5 (MaxPooling1 (None, 4, 64)             0         \n",
      "_________________________________________________________________\n",
      "batch_normalization_5 (Batch (None, 4, 64)             256       \n",
      "_________________________________________________________________\n",
      "dropout_6 (Dropout)          (None, 4, 64)             0         \n",
      "_________________________________________________________________\n",
      "conv1d_6 (Conv1D)            (None, 4, 128)            24704     \n",
      "_________________________________________________________________\n",
      "max_pooling1d_6 (MaxPooling1 (None, 2, 128)            0         \n",
      "_________________________________________________________________\n",
      "batch_normalization_6 (Batch (None, 2, 128)            512       \n",
      "_________________________________________________________________\n",
      "dropout_7 (Dropout)          (None, 2, 128)            0         \n",
      "_________________________________________________________________\n",
      "flatten_2 (Flatten)          (None, 256)               0         \n",
      "_________________________________________________________________\n",
      "dense_3 (Dense)              (None, 128)               32896     \n",
      "_________________________________________________________________\n",
      "dropout_8 (Dropout)          (None, 128)               0         \n",
      "_________________________________________________________________\n",
      "dense_4 (Dense)              (None, 1)                 129       \n",
      "=================================================================\n",
      "Total params: 64,961\n",
      "Trainable params: 64,513\n",
      "Non-trainable params: 448\n",
      "_________________________________________________________________\n"
     ]
    }
   ],
   "source": [
    "model.summary()"
   ]
  },
  {
   "cell_type": "code",
   "execution_count": 103,
   "metadata": {},
   "outputs": [],
   "source": [
    "from keras.optimizers import Adam\n",
    "opt = Adam(lr=0.0001)\n",
    "model.compile(loss='binary_crossentropy', optimizer=opt, metrics=['accuracy'])"
   ]
  },
  {
   "cell_type": "code",
   "execution_count": 104,
   "metadata": {},
   "outputs": [
    {
     "name": "stdout",
     "output_type": "stream",
     "text": [
      "Train on 144262 samples, validate on 36066 samples\n",
      "Epoch 1/20\n",
      "144262/144262 [==============================] - 24s 166us/step - loss: 0.7548 - accuracy: 0.4982 - val_loss: 0.6932 - val_accuracy: 0.4984\n",
      "Epoch 2/20\n",
      "144262/144262 [==============================] - 22s 154us/step - loss: 0.6953 - accuracy: 0.5047 - val_loss: 0.6931 - val_accuracy: 0.4992\n",
      "Epoch 3/20\n",
      "144262/144262 [==============================] - 23s 161us/step - loss: 0.6935 - accuracy: 0.5059 - val_loss: 0.6929 - val_accuracy: 0.5196\n",
      "Epoch 4/20\n",
      "144262/144262 [==============================] - 22s 150us/step - loss: 0.6930 - accuracy: 0.5091 - val_loss: 0.6926 - val_accuracy: 0.5120\n",
      "Epoch 5/20\n",
      "144262/144262 [==============================] - 21s 145us/step - loss: 0.6928 - accuracy: 0.5107 - val_loss: 0.6924 - val_accuracy: 0.5110\n",
      "Epoch 6/20\n",
      "144262/144262 [==============================] - 25s 173us/step - loss: 0.6927 - accuracy: 0.5128 - val_loss: 0.6922 - val_accuracy: 0.5209\n",
      "Epoch 7/20\n",
      "144262/144262 [==============================] - 21s 148us/step - loss: 0.6927 - accuracy: 0.5128 - val_loss: 0.6921 - val_accuracy: 0.5132\n",
      "Epoch 8/20\n",
      "144262/144262 [==============================] - 21s 142us/step - loss: 0.6926 - accuracy: 0.5118 - val_loss: 0.6921 - val_accuracy: 0.5243\n",
      "Epoch 9/20\n",
      "144262/144262 [==============================] - 23s 158us/step - loss: 0.6924 - accuracy: 0.5157 - val_loss: 0.6917 - val_accuracy: 0.5203\n",
      "Epoch 10/20\n",
      "144262/144262 [==============================] - 22s 156us/step - loss: 0.6922 - accuracy: 0.5152 - val_loss: 0.6913 - val_accuracy: 0.5233\n",
      "Epoch 11/20\n",
      "144262/144262 [==============================] - 22s 149us/step - loss: 0.6921 - accuracy: 0.5161 - val_loss: 0.6910 - val_accuracy: 0.5286\n",
      "Epoch 12/20\n",
      "144262/144262 [==============================] - 21s 146us/step - loss: 0.6920 - accuracy: 0.5190 - val_loss: 0.6911 - val_accuracy: 0.5324\n",
      "Epoch 13/20\n",
      "144262/144262 [==============================] - 20s 142us/step - loss: 0.6918 - accuracy: 0.5192 - val_loss: 0.6907 - val_accuracy: 0.5170\n",
      "Epoch 14/20\n",
      "144262/144262 [==============================] - 21s 143us/step - loss: 0.6917 - accuracy: 0.5202 - val_loss: 0.6908 - val_accuracy: 0.5195\n",
      "Epoch 15/20\n",
      "144262/144262 [==============================] - 21s 146us/step - loss: 0.6917 - accuracy: 0.5195 - val_loss: 0.6909 - val_accuracy: 0.5154\n",
      "Epoch 16/20\n",
      "144262/144262 [==============================] - 22s 149us/step - loss: 0.6916 - accuracy: 0.5215 - val_loss: 0.6907 - val_accuracy: 0.5167\n",
      "Epoch 17/20\n",
      "144262/144262 [==============================] - 21s 149us/step - loss: 0.6914 - accuracy: 0.5223 - val_loss: 0.6898 - val_accuracy: 0.5281\n",
      "Epoch 18/20\n",
      "144262/144262 [==============================] - 23s 158us/step - loss: 0.6915 - accuracy: 0.5235 - val_loss: 0.6906 - val_accuracy: 0.5185\n",
      "Epoch 19/20\n",
      "144262/144262 [==============================] - 20s 142us/step - loss: 0.6910 - accuracy: 0.5251 - val_loss: 0.6900 - val_accuracy: 0.5200\n",
      "Epoch 20/20\n",
      "144262/144262 [==============================] - 21s 143us/step - loss: 0.6911 - accuracy: 0.5262 - val_loss: 0.6896 - val_accuracy: 0.5217\n"
     ]
    }
   ],
   "source": [
    "history = model.fit(E8X_train, E8Y_train, batch_size=64, validation_data=(E8X_test, E8Y_test), epochs=20)"
   ]
  },
  {
   "cell_type": "code",
   "execution_count": 105,
   "metadata": {},
   "outputs": [
    {
     "data": {
      "image/png": "[encoded data removed]",
      "text/plain": [
       "<Figure size 432x288 with 2 Axes>"
      ]
     },
     "metadata": {
      "needs_background": "light"
     },
     "output_type": "display_data"
    }
   ],
   "source": [
    "summarize_diagnostics(history)"
   ]
  },
  {
   "cell_type": "markdown",
   "metadata": {},
   "source": [
    "# remove dropout"
   ]
  },
  {
   "cell_type": "code",
   "execution_count": 106,
   "metadata": {},
   "outputs": [],
   "source": [
    "from keras.models import Sequential\n",
    "from keras.layers import Dense, Conv1D, Flatten, Dropout, MaxPooling1D, BatchNormalization\n",
    "\n",
    "model1 = Sequential()\n",
    "model1.add(Conv1D(32, 3, activation='relu', kernel_initializer='he_uniform', padding='same', input_shape=(19, 1)))\n",
    "model1.add(MaxPooling1D(2))\n",
    "model1.add(BatchNormalization())\n",
    "model1.add(Conv1D(64, 3, activation='relu', kernel_initializer='he_uniform', padding='same'))\n",
    "model1.add(MaxPooling1D(2))\n",
    "model1.add(BatchNormalization())\n",
    "model1.add(Conv1D(128, 3, activation='relu', kernel_initializer='he_uniform', padding='same'))\n",
    "model1.add(MaxPooling1D(2))\n",
    "model1.add(BatchNormalization())\n",
    "model1.add(Flatten())\n",
    "model1.add(Dense(128, activation='relu', kernel_initializer='he_uniform'))\n",
    "model1.add(Dropout(0.5))\n",
    "model1.add(Dense(1, activation='sigmoid'))"
   ]
  },
  {
   "cell_type": "code",
   "execution_count": 107,
   "metadata": {},
   "outputs": [],
   "source": [
    "from keras.optimizers import Adam\n",
    "opt = Adam(lr=0.0001)\n",
    "model1.compile(loss='binary_crossentropy', optimizer=opt, metrics=['accuracy'])"
   ]
  },
  {
   "cell_type": "code",
   "execution_count": 108,
   "metadata": {},
   "outputs": [
    {
     "name": "stdout",
     "output_type": "stream",
     "text": [
      "Train on 144262 samples, validate on 36066 samples\n",
      "Epoch 1/20\n",
      "144262/144262 [==============================] - 23s 161us/step - loss: 0.7041 - accuracy: 0.5279 - val_loss: 0.6851 - val_accuracy: 0.5534\n",
      "Epoch 2/20\n",
      "144262/144262 [==============================] - 21s 145us/step - loss: 0.6854 - accuracy: 0.5511 - val_loss: 0.6798 - val_accuracy: 0.5698\n",
      "Epoch 3/20\n",
      "144262/144262 [==============================] - 21s 148us/step - loss: 0.6810 - accuracy: 0.5624 - val_loss: 0.6838 - val_accuracy: 0.5549\n",
      "Epoch 4/20\n",
      "144262/144262 [==============================] - 22s 151us/step - loss: 0.6785 - accuracy: 0.5695 - val_loss: 0.6757 - val_accuracy: 0.5734\n",
      "Epoch 5/20\n",
      "144262/144262 [==============================] - 23s 159us/step - loss: 0.6766 - accuracy: 0.5722 - val_loss: 0.6784 - val_accuracy: 0.5659\n",
      "Epoch 6/20\n",
      "144262/144262 [==============================] - 22s 150us/step - loss: 0.6752 - accuracy: 0.5740 - val_loss: 0.6743 - val_accuracy: 0.5763\n",
      "Epoch 7/20\n",
      "144262/144262 [==============================] - 22s 153us/step - loss: 0.6741 - accuracy: 0.5783 - val_loss: 0.6754 - val_accuracy: 0.5726\n",
      "Epoch 8/20\n",
      "144262/144262 [==============================] - 24s 167us/step - loss: 0.6739 - accuracy: 0.5769 - val_loss: 0.7168 - val_accuracy: 0.5252\n",
      "Epoch 9/20\n",
      "144262/144262 [==============================] - 22s 151us/step - loss: 0.6734 - accuracy: 0.5779 - val_loss: 0.6771 - val_accuracy: 0.5721\n",
      "Epoch 10/20\n",
      "144262/144262 [==============================] - 22s 154us/step - loss: 0.6732 - accuracy: 0.5785 - val_loss: 0.6714 - val_accuracy: 0.5817\n",
      "Epoch 11/20\n",
      "144262/144262 [==============================] - 23s 159us/step - loss: 0.6721 - accuracy: 0.5799 - val_loss: 0.6739 - val_accuracy: 0.5736\n",
      "Epoch 12/20\n",
      "144262/144262 [==============================] - 21s 143us/step - loss: 0.6720 - accuracy: 0.5813 - val_loss: 0.6957 - val_accuracy: 0.5391\n",
      "Epoch 13/20\n",
      "144262/144262 [==============================] - 20s 141us/step - loss: 0.6715 - accuracy: 0.5816 - val_loss: 0.6712 - val_accuracy: 0.5792\n",
      "Epoch 14/20\n",
      "144262/144262 [==============================] - 21s 143us/step - loss: 0.6714 - accuracy: 0.5818 - val_loss: 0.7119 - val_accuracy: 0.5368\n",
      "Epoch 15/20\n",
      "144262/144262 [==============================] - 22s 151us/step - loss: 0.6710 - accuracy: 0.5832 - val_loss: 0.6774 - val_accuracy: 0.5755\n",
      "Epoch 16/20\n",
      "144262/144262 [==============================] - 23s 162us/step - loss: 0.6708 - accuracy: 0.5821 - val_loss: 0.6815 - val_accuracy: 0.5579\n",
      "Epoch 17/20\n",
      "144262/144262 [==============================] - 22s 149us/step - loss: 0.6705 - accuracy: 0.5835 - val_loss: 0.6773 - val_accuracy: 0.5727\n",
      "Epoch 18/20\n",
      "144262/144262 [==============================] - 22s 149us/step - loss: 0.6701 - accuracy: 0.5841 - val_loss: 0.6724 - val_accuracy: 0.5792\n",
      "Epoch 19/20\n",
      "144262/144262 [==============================] - 23s 159us/step - loss: 0.6700 - accuracy: 0.5831 - val_loss: 0.6737 - val_accuracy: 0.5759\n",
      "Epoch 20/20\n",
      "144262/144262 [==============================] - 20s 141us/step - loss: 0.6698 - accuracy: 0.5855 - val_loss: 0.6997 - val_accuracy: 0.5502\n"
     ]
    }
   ],
   "source": [
    "history1 = model1.fit(E8X_train, E8Y_train, batch_size=64, validation_data=(E8X_test, E8Y_test), epochs=20)"
   ]
  },
  {
   "cell_type": "code",
   "execution_count": 109,
   "metadata": {},
   "outputs": [
    {
     "data": {
      "image/png": "[encoded data removed]",
      "text/plain": [
       "<Figure size 432x288 with 2 Axes>"
      ]
     },
     "metadata": {
      "needs_background": "light"
     },
     "output_type": "display_data"
    }
   ],
   "source": [
    "summarize_diagnostics(history1)"
   ]
  },
  {
   "cell_type": "markdown",
   "metadata": {},
   "source": [
    "# kernel size = 10"
   ]
  },
  {
   "cell_type": "code",
   "execution_count": 113,
   "metadata": {},
   "outputs": [],
   "source": [
    "from keras.models import Sequential\n",
    "from keras.layers import Dense, Conv1D, Flatten, Dropout, MaxPooling1D, BatchNormalization\n",
    "\n",
    "model2 = Sequential()\n",
    "model2.add(Conv1D(32, 10, activation='relu', kernel_initializer='he_uniform', padding='same', input_shape=(19, 1)))\n",
    "model2.add(MaxPooling1D(2))\n",
    "model2.add(BatchNormalization())\n",
    "model2.add(Dropout(0.2))\n",
    "model2.add(Conv1D(64, 10, activation='relu', kernel_initializer='he_uniform', padding='same'))\n",
    "model2.add(MaxPooling1D(2))\n",
    "model2.add(BatchNormalization())\n",
    "model2.add(Dropout(0.2))\n",
    "model2.add(Conv1D(128, 10, activation='relu', kernel_initializer='he_uniform', padding='same'))\n",
    "model2.add(MaxPooling1D(2))\n",
    "model2.add(BatchNormalization())\n",
    "model2.add(Dropout(0.2))\n",
    "model2.add(Flatten())\n",
    "model2.add(Dense(128, activation='relu', kernel_initializer='he_uniform'))\n",
    "model2.add(Dropout(0.2))\n",
    "model2.add(Dense(1, activation='sigmoid'))"
   ]
  },
  {
   "cell_type": "code",
   "execution_count": 114,
   "metadata": {},
   "outputs": [],
   "source": [
    "from keras.optimizers import Adam\n",
    "opt = Adam(lr=0.0001)\n",
    "model2.compile(loss='binary_crossentropy', optimizer=opt, metrics=['accuracy'])"
   ]
  },
  {
   "cell_type": "code",
   "execution_count": 115,
   "metadata": {},
   "outputs": [
    {
     "name": "stdout",
     "output_type": "stream",
     "text": [
      "Train on 144262 samples, validate on 36066 samples\n",
      "Epoch 1/20\n",
      "144262/144262 [==============================] - 28s 197us/step - loss: 0.7274 - accuracy: 0.5044 - val_loss: 0.6929 - val_accuracy: 0.5045\n",
      "Epoch 2/20\n",
      "144262/144262 [==============================] - 28s 195us/step - loss: 0.6944 - accuracy: 0.5109 - val_loss: 0.6924 - val_accuracy: 0.5055\n",
      "Epoch 3/20\n",
      "144262/144262 [==============================] - 28s 195us/step - loss: 0.6927 - accuracy: 0.5136 - val_loss: 0.6924 - val_accuracy: 0.5040\n",
      "Epoch 4/20\n",
      "144262/144262 [==============================] - 27s 191us/step - loss: 0.6914 - accuracy: 0.5224 - val_loss: 0.6931 - val_accuracy: 0.5056\n",
      "Epoch 5/20\n",
      "144262/144262 [==============================] - 25s 173us/step - loss: 0.6902 - accuracy: 0.5326 - val_loss: 0.6911 - val_accuracy: 0.5122\n",
      "Epoch 6/20\n",
      "144262/144262 [==============================] - 28s 193us/step - loss: 0.6884 - accuracy: 0.5394 - val_loss: 0.6903 - val_accuracy: 0.5144\n",
      "Epoch 7/20\n",
      "144262/144262 [==============================] - 27s 184us/step - loss: 0.6875 - accuracy: 0.5434 - val_loss: 0.6934 - val_accuracy: 0.5119\n",
      "Epoch 8/20\n",
      "144262/144262 [==============================] - 24s 167us/step - loss: 0.6864 - accuracy: 0.5466 - val_loss: 0.6918 - val_accuracy: 0.5167\n",
      "Epoch 9/20\n",
      "144262/144262 [==============================] - 28s 193us/step - loss: 0.6856 - accuracy: 0.5485 - val_loss: 0.6943 - val_accuracy: 0.5177\n",
      "Epoch 10/20\n",
      "144262/144262 [==============================] - 26s 181us/step - loss: 0.6844 - accuracy: 0.5521 - val_loss: 0.7066 - val_accuracy: 0.5106\n",
      "Epoch 11/20\n",
      "144262/144262 [==============================] - 26s 179us/step - loss: 0.6836 - accuracy: 0.5556 - val_loss: 0.7176 - val_accuracy: 0.5101\n",
      "Epoch 12/20\n",
      "144262/144262 [==============================] - 27s 186us/step - loss: 0.6830 - accuracy: 0.5556 - val_loss: 0.6970 - val_accuracy: 0.5262\n",
      "Epoch 13/20\n",
      "144262/144262 [==============================] - 25s 175us/step - loss: 0.6823 - accuracy: 0.5587 - val_loss: 0.7023 - val_accuracy: 0.5230\n",
      "Epoch 14/20\n",
      "144262/144262 [==============================] - 26s 178us/step - loss: 0.6820 - accuracy: 0.5607 - val_loss: 0.6987 - val_accuracy: 0.5296\n",
      "Epoch 15/20\n",
      "144262/144262 [==============================] - 27s 185us/step - loss: 0.6821 - accuracy: 0.5592 - val_loss: 0.7034 - val_accuracy: 0.5228\n",
      "Epoch 16/20\n",
      "144262/144262 [==============================] - 26s 183us/step - loss: 0.6812 - accuracy: 0.5609 - val_loss: 0.7254 - val_accuracy: 0.5125\n",
      "Epoch 17/20\n",
      "144262/144262 [==============================] - 25s 175us/step - loss: 0.6813 - accuracy: 0.5617 - val_loss: 0.7032 - val_accuracy: 0.5200\n",
      "Epoch 18/20\n",
      "144262/144262 [==============================] - 27s 189us/step - loss: 0.6807 - accuracy: 0.5610 - val_loss: 0.7034 - val_accuracy: 0.5219\n",
      "Epoch 19/20\n",
      "144262/144262 [==============================] - 27s 189us/step - loss: 0.6805 - accuracy: 0.5617 - val_loss: 0.6916 - val_accuracy: 0.5322\n",
      "Epoch 20/20\n",
      "144262/144262 [==============================] - 27s 187us/step - loss: 0.6803 - accuracy: 0.5632 - val_loss: 0.7007 - val_accuracy: 0.5284\n"
     ]
    }
   ],
   "source": [
    "history2 = model2.fit(E8X_train, E8Y_train, batch_size=64, validation_data=(E8X_test, E8Y_test), epochs=20)"
   ]
  },
  {
   "cell_type": "code",
   "execution_count": 116,
   "metadata": {},
   "outputs": [
    {
     "data": {
      "image/png": "[encoded data removed]",
      "text/plain": [
       "<Figure size 432x288 with 2 Axes>"
      ]
     },
     "metadata": {
      "needs_background": "light"
     },
     "output_type": "display_data"
    }
   ],
   "source": [
    "summarize_diagnostics(history2)"
   ]
  },
  {
   "cell_type": "markdown",
   "metadata": {},
   "source": [
    "# kernel size = 15"
   ]
  },
  {
   "cell_type": "code",
   "execution_count": 117,
   "metadata": {},
   "outputs": [],
   "source": [
    "from keras.models import Sequential\n",
    "from keras.layers import Dense, Conv1D, Flatten, Dropout, MaxPooling1D, BatchNormalization\n",
    "\n",
    "model3 = Sequential()\n",
    "model3.add(Conv1D(32, 15, activation='relu', kernel_initializer='he_uniform', padding='same', input_shape=(19, 1)))\n",
    "model3.add(MaxPooling1D(2))\n",
    "model3.add(BatchNormalization())\n",
    "model3.add(Dropout(0.2))\n",
    "model3.add(Conv1D(64, 15, activation='relu', kernel_initializer='he_uniform', padding='same'))\n",
    "model3.add(MaxPooling1D(2))\n",
    "model3.add(BatchNormalization())\n",
    "model3.add(Dropout(0.2))\n",
    "model3.add(Conv1D(128, 15, activation='relu', kernel_initializer='he_uniform', padding='same'))\n",
    "model3.add(MaxPooling1D(2))\n",
    "model3.add(BatchNormalization())\n",
    "model3.add(Dropout(0.2))\n",
    "model3.add(Flatten())\n",
    "model3.add(Dense(128, activation='relu', kernel_initializer='he_uniform'))\n",
    "model3.add(Dropout(0.2))\n",
    "model3.add(Dense(1, activation='sigmoid'))"
   ]
  },
  {
   "cell_type": "code",
   "execution_count": 118,
   "metadata": {},
   "outputs": [],
   "source": [
    "from keras.optimizers import Adam\n",
    "opt = Adam(lr=0.0001)\n",
    "model3.compile(loss='binary_crossentropy', optimizer=opt, metrics=['accuracy'])"
   ]
  },
  {
   "cell_type": "code",
   "execution_count": 119,
   "metadata": {},
   "outputs": [
    {
     "name": "stdout",
     "output_type": "stream",
     "text": [
      "Train on 144262 samples, validate on 36066 samples\n",
      "Epoch 1/20\n",
      "144262/144262 [==============================] - 30s 205us/step - loss: 0.7197 - accuracy: 0.5089 - val_loss: 0.6923 - val_accuracy: 0.5079\n",
      "Epoch 2/20\n",
      "144262/144262 [==============================] - 28s 196us/step - loss: 0.6934 - accuracy: 0.5147 - val_loss: 0.6913 - val_accuracy: 0.5241\n",
      "Epoch 3/20\n",
      "144262/144262 [==============================] - 28s 197us/step - loss: 0.6918 - accuracy: 0.5198 - val_loss: 0.6903 - val_accuracy: 0.5267\n",
      "Epoch 4/20\n",
      "144262/144262 [==============================] - 29s 199us/step - loss: 0.6910 - accuracy: 0.5262 - val_loss: 0.6896 - val_accuracy: 0.5283\n",
      "Epoch 5/20\n",
      "144262/144262 [==============================] - 29s 200us/step - loss: 0.6903 - accuracy: 0.5294 - val_loss: 0.6889 - val_accuracy: 0.5354\n",
      "Epoch 6/20\n",
      "144262/144262 [==============================] - 26s 181us/step - loss: 0.6893 - accuracy: 0.5352 - val_loss: 0.6892 - val_accuracy: 0.5269\n",
      "Epoch 7/20\n",
      "144262/144262 [==============================] - 25s 173us/step - loss: 0.6885 - accuracy: 0.5379 - val_loss: 0.6884 - val_accuracy: 0.5331\n",
      "Epoch 8/20\n",
      "144262/144262 [==============================] - 25s 177us/step - loss: 0.6878 - accuracy: 0.5430 - val_loss: 0.6860 - val_accuracy: 0.5411\n",
      "Epoch 9/20\n",
      "144262/144262 [==============================] - 27s 190us/step - loss: 0.6870 - accuracy: 0.5450 - val_loss: 0.6908 - val_accuracy: 0.5324\n",
      "Epoch 10/20\n",
      "144262/144262 [==============================] - 29s 199us/step - loss: 0.6867 - accuracy: 0.5444 - val_loss: 0.6863 - val_accuracy: 0.5420\n",
      "Epoch 11/20\n",
      "144262/144262 [==============================] - 28s 191us/step - loss: 0.6857 - accuracy: 0.5468 - val_loss: 0.6866 - val_accuracy: 0.5432\n",
      "Epoch 12/20\n",
      "144262/144262 [==============================] - 25s 172us/step - loss: 0.6852 - accuracy: 0.5502 - val_loss: 0.6881 - val_accuracy: 0.5429\n",
      "Epoch 13/20\n",
      "144262/144262 [==============================] - 26s 179us/step - loss: 0.6836 - accuracy: 0.5535 - val_loss: 0.6815 - val_accuracy: 0.5566\n",
      "Epoch 14/20\n",
      "144262/144262 [==============================] - 28s 195us/step - loss: 0.6828 - accuracy: 0.5567 - val_loss: 0.6836 - val_accuracy: 0.5519\n",
      "Epoch 15/20\n",
      "144262/144262 [==============================] - 28s 196us/step - loss: 0.6827 - accuracy: 0.5561 - val_loss: 0.6900 - val_accuracy: 0.5468\n",
      "Epoch 16/20\n",
      "144262/144262 [==============================] - 28s 196us/step - loss: 0.6819 - accuracy: 0.5591 - val_loss: 0.6930 - val_accuracy: 0.5432\n",
      "Epoch 17/20\n",
      "144262/144262 [==============================] - 29s 198us/step - loss: 0.6812 - accuracy: 0.5611 - val_loss: 0.6880 - val_accuracy: 0.5505\n",
      "Epoch 18/20\n",
      "144262/144262 [==============================] - 28s 196us/step - loss: 0.6809 - accuracy: 0.5623 - val_loss: 0.6819 - val_accuracy: 0.5570\n",
      "Epoch 19/20\n",
      "144262/144262 [==============================] - 29s 200us/step - loss: 0.6802 - accuracy: 0.5631 - val_loss: 0.6799 - val_accuracy: 0.5642\n",
      "Epoch 20/20\n",
      "144262/144262 [==============================] - 28s 196us/step - loss: 0.6799 - accuracy: 0.5636 - val_loss: 0.6812 - val_accuracy: 0.5621\n"
     ]
    }
   ],
   "source": [
    "history3 = model3.fit(E8X_train, E8Y_train, batch_size=64, validation_data=(E8X_test, E8Y_test), epochs=20)"
   ]
  },
  {
   "cell_type": "code",
   "execution_count": 120,
   "metadata": {},
   "outputs": [
    {
     "data": {
      "image/png": "[encoded data removed]",
      "text/plain": [
       "<Figure size 432x288 with 2 Axes>"
      ]
     },
     "metadata": {
      "needs_background": "light"
     },
     "output_type": "display_data"
    }
   ],
   "source": [
    "summarize_diagnostics(history3)"
   ]
  },
  {
   "cell_type": "markdown",
   "metadata": {},
   "source": [
    "# kernel size = 19"
   ]
  },
  {
   "cell_type": "code",
   "execution_count": 153,
   "metadata": {},
   "outputs": [],
   "source": [
    "from keras.models import Sequential\n",
    "from keras.layers import Dense, Conv1D, Flatten, Dropout, MaxPooling1D, BatchNormalization\n",
    "\n",
    "model4 = Sequential()\n",
    "model4.add(Conv1D(32, 19, activation='relu', kernel_initializer='he_uniform', padding='same', input_shape=(19, 1)))\n",
    "model4.add(MaxPooling1D(2))\n",
    "model4.add(BatchNormalization())\n",
    "model4.add(Conv1D(64, 9, activation='relu', kernel_initializer='he_uniform', padding='same'))\n",
    "model4.add(MaxPooling1D(2))\n",
    "model4.add(BatchNormalization())\n",
    "model4.add(Conv1D(128, 4, activation='relu', kernel_initializer='he_uniform', padding='same'))\n",
    "model4.add(MaxPooling1D(2))\n",
    "model4.add(BatchNormalization())\n",
    "model4.add(Flatten())\n",
    "model4.add(Dense(128, activation='relu', kernel_initializer='he_uniform'))\n",
    "model4.add(Dropout(0.2))\n",
    "model4.add(Dense(1, activation='sigmoid'))"
   ]
  },
  {
   "cell_type": "code",
   "execution_count": 154,
   "metadata": {},
   "outputs": [],
   "source": [
    "from keras.optimizers import Adam\n",
    "opt = Adam(lr=0.00001)\n",
    "model4.compile(loss='binary_crossentropy', optimizer=opt, metrics=['accuracy'])"
   ]
  },
  {
   "cell_type": "code",
   "execution_count": 155,
   "metadata": {
    "scrolled": false
   },
   "outputs": [
    {
     "name": "stdout",
     "output_type": "stream",
     "text": [
      "Train on 144262 samples, validate on 36066 samples\n",
      "Epoch 1/20\n",
      "144262/144262 [==============================] - 20s 139us/step - loss: 0.7226 - accuracy: 0.5242 - val_loss: 0.6837 - val_accuracy: 0.5543\n",
      "Epoch 2/20\n",
      "144262/144262 [==============================] - 20s 135us/step - loss: 0.6961 - accuracy: 0.5420 - val_loss: 0.6813 - val_accuracy: 0.5624\n",
      "Epoch 3/20\n",
      "144262/144262 [==============================] - 19s 130us/step - loss: 0.6890 - accuracy: 0.5479 - val_loss: 0.6809 - val_accuracy: 0.5632\n",
      "Epoch 4/20\n",
      "144262/144262 [==============================] - 19s 133us/step - loss: 0.6848 - accuracy: 0.5549 - val_loss: 0.6785 - val_accuracy: 0.5663\n",
      "Epoch 5/20\n",
      "144262/144262 [==============================] - 19s 131us/step - loss: 0.6822 - accuracy: 0.5586 - val_loss: 0.6772 - val_accuracy: 0.5700\n",
      "Epoch 6/20\n",
      "144262/144262 [==============================] - 19s 130us/step - loss: 0.6803 - accuracy: 0.5634 - val_loss: 0.6772 - val_accuracy: 0.5677\n",
      "Epoch 7/20\n",
      "144262/144262 [==============================] - 19s 131us/step - loss: 0.6794 - accuracy: 0.5638 - val_loss: 0.6763 - val_accuracy: 0.5710\n",
      "Epoch 8/20\n",
      "144262/144262 [==============================] - 19s 129us/step - loss: 0.6784 - accuracy: 0.5659 - val_loss: 0.6754 - val_accuracy: 0.5721\n",
      "Epoch 9/20\n",
      "144262/144262 [==============================] - 19s 131us/step - loss: 0.6775 - accuracy: 0.5677 - val_loss: 0.6752 - val_accuracy: 0.5723\n",
      "Epoch 10/20\n",
      "144262/144262 [==============================] - 19s 131us/step - loss: 0.6766 - accuracy: 0.5694 - val_loss: 0.6756 - val_accuracy: 0.5709\n",
      "Epoch 11/20\n",
      "144262/144262 [==============================] - 19s 132us/step - loss: 0.6765 - accuracy: 0.5694 - val_loss: 0.6747 - val_accuracy: 0.5725\n",
      "Epoch 12/20\n",
      "144262/144262 [==============================] - 19s 130us/step - loss: 0.6754 - accuracy: 0.5717 - val_loss: 0.6752 - val_accuracy: 0.5689\n",
      "Epoch 13/20\n",
      "144262/144262 [==============================] - 19s 131us/step - loss: 0.6753 - accuracy: 0.5731 - val_loss: 0.6738 - val_accuracy: 0.5754\n",
      "Epoch 14/20\n",
      "144262/144262 [==============================] - 19s 133us/step - loss: 0.6746 - accuracy: 0.5723 - val_loss: 0.6738 - val_accuracy: 0.5747\n",
      "Epoch 15/20\n",
      "144262/144262 [==============================] - 19s 130us/step - loss: 0.6745 - accuracy: 0.5725 - val_loss: 0.6733 - val_accuracy: 0.5733\n",
      "Epoch 16/20\n",
      "144262/144262 [==============================] - 19s 131us/step - loss: 0.6742 - accuracy: 0.5725 - val_loss: 0.6733 - val_accuracy: 0.5747\n",
      "Epoch 17/20\n",
      "144262/144262 [==============================] - 19s 133us/step - loss: 0.6736 - accuracy: 0.5745 - val_loss: 0.6730 - val_accuracy: 0.5746\n",
      "Epoch 18/20\n",
      "144262/144262 [==============================] - 19s 133us/step - loss: 0.6736 - accuracy: 0.5750 - val_loss: 0.6731 - val_accuracy: 0.5771\n",
      "Epoch 19/20\n",
      "144262/144262 [==============================] - 19s 130us/step - loss: 0.6730 - accuracy: 0.5763 - val_loss: 0.6726 - val_accuracy: 0.5781\n",
      "Epoch 20/20\n",
      "144262/144262 [==============================] - 19s 134us/step - loss: 0.6729 - accuracy: 0.5772 - val_loss: 0.6722 - val_accuracy: 0.5774\n"
     ]
    }
   ],
   "source": [
    "history4 = model4.fit(E8X_train, E8Y_train, batch_size=64, validation_data=(E8X_test, E8Y_test), epochs=20)"
   ]
  },
  {
   "cell_type": "code",
   "execution_count": null,
   "metadata": {},
   "outputs": [],
   "source": [
    "# 57.51"
   ]
  },
  {
   "cell_type": "code",
   "execution_count": 156,
   "metadata": {},
   "outputs": [
    {
     "data": {
      "image/png": "[encoded data removed]",
      "text/plain": [
       "<Figure size 432x288 with 2 Axes>"
      ]
     },
     "metadata": {
      "needs_background": "light"
     },
     "output_type": "display_data"
    }
   ],
   "source": [
    "summarize_diagnostics(history4)"
   ]
  },
  {
   "cell_type": "code",
   "execution_count": 125,
   "metadata": {},
   "outputs": [
    {
     "name": "stdout",
     "output_type": "stream",
     "text": [
      "Model: \"sequential_7\"\n",
      "_________________________________________________________________\n",
      "Layer (type)                 Output Shape              Param #   \n",
      "=================================================================\n",
      "conv1d_19 (Conv1D)           (None, 19, 32)            640       \n",
      "_________________________________________________________________\n",
      "max_pooling1d_19 (MaxPooling (None, 9, 32)             0         \n",
      "_________________________________________________________________\n",
      "batch_normalization_19 (Batc (None, 9, 32)             128       \n",
      "_________________________________________________________________\n",
      "dropout_22 (Dropout)         (None, 9, 32)             0         \n",
      "_________________________________________________________________\n",
      "conv1d_20 (Conv1D)           (None, 9, 64)             38976     \n",
      "_________________________________________________________________\n",
      "max_pooling1d_20 (MaxPooling (None, 4, 64)             0         \n",
      "_________________________________________________________________\n",
      "batch_normalization_20 (Batc (None, 4, 64)             256       \n",
      "_________________________________________________________________\n",
      "dropout_23 (Dropout)         (None, 4, 64)             0         \n",
      "_________________________________________________________________\n",
      "conv1d_21 (Conv1D)           (None, 4, 128)            155776    \n",
      "_________________________________________________________________\n",
      "max_pooling1d_21 (MaxPooling (None, 2, 128)            0         \n",
      "_________________________________________________________________\n",
      "batch_normalization_21 (Batc (None, 2, 128)            512       \n",
      "_________________________________________________________________\n",
      "dropout_24 (Dropout)         (None, 2, 128)            0         \n",
      "_________________________________________________________________\n",
      "flatten_7 (Flatten)          (None, 256)               0         \n",
      "_________________________________________________________________\n",
      "dense_13 (Dense)             (None, 128)               32896     \n",
      "_________________________________________________________________\n",
      "dropout_25 (Dropout)         (None, 128)               0         \n",
      "_________________________________________________________________\n",
      "dense_14 (Dense)             (None, 1)                 129       \n",
      "=================================================================\n",
      "Total params: 229,313\n",
      "Trainable params: 228,865\n",
      "Non-trainable params: 448\n",
      "_________________________________________________________________\n"
     ]
    }
   ],
   "source": [
    "model4.summary()"
   ]
  },
  {
   "cell_type": "code",
   "execution_count": 126,
   "metadata": {},
   "outputs": [],
   "source": [
    "model2 = Sequential()\n",
    "#model1.add(Input(shape=(21,1)))\n",
    "model2.add(Flatten(input_shape=(19,1)))\n",
    "model2.add(BatchNormalization())\n",
    "model2.add(Dense(10, activation='relu', kernel_initializer='he_uniform'))\n",
    "model2.add(Dense(1, activation='sigmoid'))"
   ]
  },
  {
   "cell_type": "code",
   "execution_count": 127,
   "metadata": {},
   "outputs": [],
   "source": [
    "from keras.optimizers import Adam\n",
    "opt = Adam(lr=0.0001)\n",
    "model2.compile(loss='binary_crossentropy', optimizer=opt, metrics=['accuracy'])"
   ]
  },
  {
   "cell_type": "code",
   "execution_count": 128,
   "metadata": {},
   "outputs": [
    {
     "name": "stdout",
     "output_type": "stream",
     "text": [
      "Train on 144262 samples, validate on 36066 samples\n",
      "Epoch 1/20\n",
      "144262/144262 [==============================] - 6s 39us/step - loss: 0.7193 - accuracy: 0.5085 - val_loss: 0.6932 - val_accuracy: 0.5206\n",
      "Epoch 2/20\n",
      "144262/144262 [==============================] - 6s 40us/step - loss: 0.6917 - accuracy: 0.5248 - val_loss: 0.6902 - val_accuracy: 0.5278\n",
      "Epoch 3/20\n",
      "144262/144262 [==============================] - 6s 40us/step - loss: 0.6893 - accuracy: 0.5328 - val_loss: 0.6885 - val_accuracy: 0.5355\n",
      "Epoch 4/20\n",
      "144262/144262 [==============================] - 6s 41us/step - loss: 0.6876 - accuracy: 0.5404 - val_loss: 0.6871 - val_accuracy: 0.5419\n",
      "Epoch 5/20\n",
      "144262/144262 [==============================] - 6s 43us/step - loss: 0.6862 - accuracy: 0.5491 - val_loss: 0.6856 - val_accuracy: 0.5464\n",
      "Epoch 6/20\n",
      "144262/144262 [==============================] - 6s 44us/step - loss: 0.6847 - accuracy: 0.5533 - val_loss: 0.6842 - val_accuracy: 0.5534\n",
      "Epoch 7/20\n",
      "144262/144262 [==============================] - 6s 41us/step - loss: 0.6831 - accuracy: 0.5600 - val_loss: 0.6826 - val_accuracy: 0.5580\n",
      "Epoch 8/20\n",
      "144262/144262 [==============================] - 6s 40us/step - loss: 0.6816 - accuracy: 0.5628 - val_loss: 0.6813 - val_accuracy: 0.5603\n",
      "Epoch 9/20\n",
      "144262/144262 [==============================] - 6s 42us/step - loss: 0.6802 - accuracy: 0.5666 - val_loss: 0.6799 - val_accuracy: 0.5635\n",
      "Epoch 10/20\n",
      "144262/144262 [==============================] - 6s 41us/step - loss: 0.6791 - accuracy: 0.5673 - val_loss: 0.6790 - val_accuracy: 0.5665\n",
      "Epoch 11/20\n",
      "144262/144262 [==============================] - 6s 41us/step - loss: 0.6781 - accuracy: 0.5688 - val_loss: 0.6778 - val_accuracy: 0.5680\n",
      "Epoch 12/20\n",
      "144262/144262 [==============================] - 6s 41us/step - loss: 0.6773 - accuracy: 0.5704 - val_loss: 0.6772 - val_accuracy: 0.5692\n",
      "Epoch 13/20\n",
      "144262/144262 [==============================] - 6s 40us/step - loss: 0.6766 - accuracy: 0.5715 - val_loss: 0.6768 - val_accuracy: 0.5707\n",
      "Epoch 14/20\n",
      "144262/144262 [==============================] - 6s 40us/step - loss: 0.6760 - accuracy: 0.5722 - val_loss: 0.6761 - val_accuracy: 0.5708\n",
      "Epoch 15/20\n",
      "144262/144262 [==============================] - 6s 39us/step - loss: 0.6757 - accuracy: 0.5721 - val_loss: 0.6759 - val_accuracy: 0.5739\n",
      "Epoch 16/20\n",
      "144262/144262 [==============================] - 6s 41us/step - loss: 0.6754 - accuracy: 0.5724 - val_loss: 0.6755 - val_accuracy: 0.5726\n",
      "Epoch 17/20\n",
      "144262/144262 [==============================] - 6s 41us/step - loss: 0.6752 - accuracy: 0.5727 - val_loss: 0.6754 - val_accuracy: 0.5734\n",
      "Epoch 18/20\n",
      "144262/144262 [==============================] - 5s 38us/step - loss: 0.6749 - accuracy: 0.5745 - val_loss: 0.6749 - val_accuracy: 0.5739\n",
      "Epoch 19/20\n",
      "144262/144262 [==============================] - 6s 41us/step - loss: 0.6746 - accuracy: 0.5740 - val_loss: 0.6748 - val_accuracy: 0.5746\n",
      "Epoch 20/20\n",
      "144262/144262 [==============================] - 6s 41us/step - loss: 0.6746 - accuracy: 0.5738 - val_loss: 0.6748 - val_accuracy: 0.5751\n"
     ]
    }
   ],
   "source": [
    "history2 = model2.fit(E8X_train, E8Y_train, batch_size=64, validation_data=(E8X_test, E8Y_test), epochs=20)"
   ]
  },
  {
   "cell_type": "code",
   "execution_count": 129,
   "metadata": {},
   "outputs": [
    {
     "data": {
      "image/png": "[encoded data removed]",
      "text/plain": [
       "<Figure size 432x288 with 2 Axes>"
      ]
     },
     "metadata": {
      "needs_background": "light"
     },
     "output_type": "display_data"
    }
   ],
   "source": [
    "summarize_diagnostics(history2)"
   ]
  },
  {
   "cell_type": "code",
   "execution_count": 141,
   "metadata": {},
   "outputs": [
    {
     "ename": "NameError",
     "evalue": "name 'z' is not defined",
     "output_type": "error",
     "traceback": [
      "\u001b[0;31m---------------------------------------------------------------------------\u001b[0m",
      "\u001b[0;31mNameError\u001b[0m                                 Traceback (most recent call last)",
      "\u001b[0;32m<ipython-input-141-b8c4f44d505f>\u001b[0m in \u001b[0;36m<module>\u001b[0;34m\u001b[0m\n\u001b[0;32m----> 1\u001b[0;31m \u001b[0mnp\u001b[0m\u001b[0;34m.\u001b[0m\u001b[0mdiff\u001b[0m\u001b[0;34m(\u001b[0m\u001b[0mz\u001b[0m\u001b[0;34m,\u001b[0m\u001b[0mz\u001b[0m\u001b[0;34m)\u001b[0m\u001b[0;34m\u001b[0m\u001b[0;34m\u001b[0m\u001b[0m\n\u001b[0m",
      "\u001b[0;31mNameError\u001b[0m: name 'z' is not defined"
     ]
    }
   ],
   "source": []
  },
  {
   "cell_type": "code",
   "execution_count": 145,
   "metadata": {},
   "outputs": [],
   "source": [
    "E8 = np.empty((200057, 100, 1), dtype=cp.float64)\n",
    "labels_E8 = np.zeros(200057)\n",
    "folder = 'prova_E/E8_100/'\n",
    "i = 0\n",
    "for file in os.listdir(folder):\n",
    "    if file.startswith('el'):\n",
    "        labels_E8[i] = 1\n",
    "    array = np.load(folder + file)\n",
    "    array = cp.reshape(array, (100,1))\n",
    "    E8[i] = array\n",
    "    i += 1"
   ]
  },
  {
   "cell_type": "code",
   "execution_count": 147,
   "metadata": {},
   "outputs": [],
   "source": [
    "E9 = np.empty((200057, 99, 1), dtype=cp.float64)\n",
    "labels_E9 = np.zeros(200057)\n",
    "folder = 'prova_E/E8_100log/'\n",
    "i = 0\n",
    "for file in os.listdir(folder):\n",
    "    if file.startswith('el'):\n",
    "        labels_E9[i] = 1\n",
    "    array = np.load(folder + file)\n",
    "    array = cp.reshape(array, (99,1))\n",
    "    E9[i] = array\n",
    "    i += 1"
   ]
  },
  {
   "cell_type": "code",
   "execution_count": 151,
   "metadata": {},
   "outputs": [
    {
     "data": {
      "text/plain": [
       "<BarContainer object of 100 artists>"
      ]
     },
     "execution_count": 151,
     "metadata": {},
     "output_type": "execute_result"
    },
    {
     "data": {
      "image/png": "[encoded data removed]",
      "text/plain": [
       "<Figure size 432x288 with 1 Axes>"
      ]
     },
     "metadata": {
      "needs_background": "light"
     },
     "output_type": "display_data"
    }
   ],
   "source": [
    "x = np.linspace(0, 300, 101)\n",
    "plt.bar(x[:-1], E8[2].flatten(), width=np.diff(x), ec='black', align='edge')"
   ]
  },
  {
   "cell_type": "code",
   "execution_count": 152,
   "metadata": {},
   "outputs": [
    {
     "data": {
      "text/plain": [
       "<BarContainer object of 99 artists>"
      ]
     },
     "execution_count": 152,
     "metadata": {},
     "output_type": "execute_result"
    },
    {
     "data": {
      "image/png": "[encoded data removed]",
      "text/plain": [
       "<Figure size 432x288 with 1 Axes>"
      ]
     },
     "metadata": {
      "needs_background": "light"
     },
     "output_type": "display_data"
    }
   ],
   "source": [
    "x = np.logspace(np.log10(0.1), np.log10(300), 100)\n",
    "plt.bar(x[:-1], E9[2].flatten(), width=np.diff(x), ec='black', align='edge')"
   ]
  },
  {
   "cell_type": "code",
   "execution_count": null,
   "metadata": {},
   "outputs": [],
   "source": []
  }
 ],
 "metadata": {
  "kernelspec": {
   "display_name": "Python 3",
   "language": "python",
   "name": "python3"
  },
  "language_info": {
   "codemirror_mode": {
    "name": "ipython",
    "version": 3
   },
   "file_extension": ".py",
   "mimetype": "text/x-python",
   "name": "python",
   "nbconvert_exporter": "python",
   "pygments_lexer": "ipython3",
   "version": "3.7.6"
  }
 },
 "nbformat": 4,
 "nbformat_minor": 4
}
