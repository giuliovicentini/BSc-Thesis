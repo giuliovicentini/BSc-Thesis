{
 "cells": [
  {
   "cell_type": "code",
   "execution_count": 1,
   "metadata": {},
   "outputs": [],
   "source": [
    "import pandas as pd\n",
    "import uproot\n",
    "import cupy as cp\n",
    "import boost_histogram as bh\n",
    "import numpy as np\n",
    "import time\n",
    "import matplotlib.pyplot as plt"
   ]
  },
  {
   "cell_type": "code",
   "execution_count": 2,
   "metadata": {},
   "outputs": [],
   "source": [
    "def no_DN (frame):\n",
    "    \n",
    "    i = frame.index[0][0]\n",
    "    new_frame = frame.loc[(frame['isDN'].values == False) & (frame['hitTime'].values < 300)]\n",
    "    return new_frame.loc[i]"
   ]
  },
  {
   "cell_type": "code",
   "execution_count": 3,
   "metadata": {},
   "outputs": [],
   "source": [
    "def first (frame):\n",
    "    frame_sort = frame.sort_values(['hitTime'])\n",
    "    frame_first = frame_sort.drop_duplicates(subset='pmtID', keep='first')\n",
    "    frame_last = frame_first.sort_values('hitTime', ascending=False)\n",
    "    return frame_last"
   ]
  },
  {
   "cell_type": "code",
   "execution_count": 4,
   "metadata": {},
   "outputs": [],
   "source": [
    "def normal_ft(ev):\n",
    "    \n",
    "    mi = ev['hitTime'].min()\n",
    "    \n",
    "    a = ev['nHits'].values\n",
    "    b = ev['pmtID'].values\n",
    "    c = ev['hitTime'] - mi\n",
    "    data = {'nHits': a, 'pmtID': b, 'hitTime': c}\n",
    "        \n",
    "    norm = pd.DataFrame(data)\n",
    "    return norm"
   ]
  },
  {
   "cell_type": "code",
   "execution_count": 5,
   "metadata": {},
   "outputs": [],
   "source": [
    "def save_hist (data, info, n, pre, b):\n",
    "    \n",
    "    dst_dir = '/home/centos/prova_E/E8_100log/'\n",
    "    \n",
    "    #hist = bh.Histogram(bh.axis.Regular(np.logspace(0, 300, 20), 0, 300))\n",
    "    \n",
    "    for i in info['evtID']:\n",
    "        name = pre+str(i)+'_'+str(b)+'.npy'\n",
    "        ev = data.pandas.df(entrystart=i, entrystop=i+1)\n",
    "        try:\n",
    "            ev_noDN = no_DN(ev)\n",
    "        except:\n",
    "            print(i, ': solo dark noise')\n",
    "            continue\n",
    "        ev_first = first(ev_noDN)\n",
    "        ev_norm = normal_ft(ev_first)\n",
    "        ev_time= ev_norm['hitTime'].values\n",
    "        #hist.fill(ev_time)\n",
    "        #array = hist.to_numpy()\n",
    "        array = np.histogram(ev_time,  bins=np.logspace(np.log10(0.1), np.log10(300), 100))\n",
    "        time = array[0]\n",
    "        \n",
    "        cp.save(dst_dir + name, time)\n",
    "        #hist.reset()"
   ]
  },
  {
   "cell_type": "code",
   "execution_count": 6,
   "metadata": {},
   "outputs": [],
   "source": [
    "def call_all (file, a):\n",
    "    \n",
    "    data_file = uproot.open(file)\n",
    "    INFO = data_file['true_info'].pandas.df()\n",
    "    DATA = data_file[\"lpmt_hits\"]\n",
    "    \n",
    "    if file.startswith('/home/centos/FlatComplete'):\n",
    "        name = 'pos'\n",
    "        \n",
    "        INFO_E8 = INFO.loc[(INFO['E'] > 8) & (INFO['E'] < 9) ]\n",
    "        \n",
    "    elif file.startswith('/home/centos/ElectronDataset'):\n",
    "        name = 'el'\n",
    "        \n",
    "        INFO_E8 = INFO.loc[(INFO['E'] > 9) & (INFO['E'] < 10) ]\n",
    "        \n",
    "    else:\n",
    "        print('file non riconosciuto')\n",
    "        \n",
    "    save_hist(DATA, INFO_E8, 8, name, a)"
   ]
  },
  {
   "cell_type": "code",
   "execution_count": 7,
   "metadata": {},
   "outputs": [],
   "source": [
    "P0 = \"/home/centos/FlatComplete/eplus_hits_dn_0.root\"\n",
    "P1 = \"/home/centos/FlatComplete/eplus_hits_dn_1.root\"\n",
    "P2 = \"/home/centos/FlatComplete/eplus_hits_dn_2.root\"\n",
    "P3 = \"/home/centos/FlatComplete/eplus_hits_dn_3.root\"\n",
    "P4 = \"/home/centos/FlatComplete/eplus_hits_dn_4.root\"\n",
    "P5 = \"/home/centos/FlatComplete/eplus_hits_dn_5.root\"\n",
    "P6 = \"/home/centos/FlatComplete/eplus_hits_dn_6.root\"\n",
    "P7 = \"/home/centos/FlatComplete/eplus_hits_dn_7.root\"\n",
    "P8 = \"/home/centos/FlatComplete/eplus_hits_dn_8.root\"\n",
    "P9 = \"/home/centos/FlatComplete/eplus_hits_dn_9.root\""
   ]
  },
  {
   "cell_type": "code",
   "execution_count": 8,
   "metadata": {},
   "outputs": [],
   "source": [
    "E0 = \"/home/centos/ElectronDataset/Hits/eminus_hits_dn_0.root\"\n",
    "E1 = \"/home/centos/ElectronDataset/Hits/eminus_hits_dn_1.root\"\n",
    "E2 = \"/home/centos/ElectronDataset/Hits/eminus_hits_dn_2.root\"\n",
    "E3 = \"/home/centos/ElectronDataset/Hits/eminus_hits_dn_3.root\"\n",
    "E4 = \"/home/centos/ElectronDataset/Hits/eminus_hits_dn_4.root\"\n",
    "E5 = \"/home/centos/ElectronDataset/Hits/eminus_hits_dn_5.root\"\n",
    "E6 = \"/home/centos/ElectronDataset/Hits/eminus_hits_dn_6.root\"\n",
    "E7 = \"/home/centos/ElectronDataset/Hits/eminus_hits_dn_7.root\"\n",
    "E8 = \"/home/centos/ElectronDataset/Hits/eminus_hits_dn_8.root\"\n",
    "E9 = \"/home/centos/ElectronDataset/Hits/eminus_hits_dn_9.root\""
   ]
  },
  {
   "cell_type": "code",
   "execution_count": 9,
   "metadata": {},
   "outputs": [
    {
     "data": {
      "text/plain": [
       "'17:50'"
      ]
     },
     "execution_count": 9,
     "metadata": {},
     "output_type": "execute_result"
    }
   ],
   "source": [
    "call_all(P0, 0)\n",
    "call_all(E0, 0)\n",
    "time.strftime(\"%H\") +\":\"+ time.strftime(\"%M\")"
   ]
  },
  {
   "cell_type": "code",
   "execution_count": 10,
   "metadata": {},
   "outputs": [
    {
     "data": {
      "text/plain": [
       "'18:30'"
      ]
     },
     "execution_count": 10,
     "metadata": {},
     "output_type": "execute_result"
    }
   ],
   "source": [
    "call_all(P1, 1)\n",
    "call_all(E1, 1)\n",
    "time.strftime(\"%H\") +\":\"+ time.strftime(\"%M\")"
   ]
  },
  {
   "cell_type": "code",
   "execution_count": 11,
   "metadata": {},
   "outputs": [
    {
     "data": {
      "text/plain": [
       "'19:04'"
      ]
     },
     "execution_count": 11,
     "metadata": {},
     "output_type": "execute_result"
    }
   ],
   "source": [
    "call_all(P2, 2)\n",
    "call_all(E2, 2)\n",
    "time.strftime(\"%H\") +\":\"+ time.strftime(\"%M\")"
   ]
  },
  {
   "cell_type": "code",
   "execution_count": 12,
   "metadata": {},
   "outputs": [
    {
     "data": {
      "text/plain": [
       "'19:35'"
      ]
     },
     "execution_count": 12,
     "metadata": {},
     "output_type": "execute_result"
    }
   ],
   "source": [
    "call_all(P3, 3)\n",
    "call_all(E3, 3)\n",
    "time.strftime(\"%H\") +\":\"+ time.strftime(\"%M\")"
   ]
  },
  {
   "cell_type": "code",
   "execution_count": 13,
   "metadata": {},
   "outputs": [
    {
     "data": {
      "text/plain": [
       "'20:07'"
      ]
     },
     "execution_count": 13,
     "metadata": {},
     "output_type": "execute_result"
    }
   ],
   "source": [
    "call_all(P4, 4)\n",
    "call_all(E4, 4)\n",
    "time.strftime(\"%H\") +\":\"+ time.strftime(\"%M\")"
   ]
  },
  {
   "cell_type": "code",
   "execution_count": 14,
   "metadata": {},
   "outputs": [
    {
     "data": {
      "text/plain": [
       "'20:40'"
      ]
     },
     "execution_count": 14,
     "metadata": {},
     "output_type": "execute_result"
    }
   ],
   "source": [
    "call_all(P5, 5)\n",
    "call_all(E5, 5)\n",
    "time.strftime(\"%H\") +\":\"+ time.strftime(\"%M\")"
   ]
  },
  {
   "cell_type": "code",
   "execution_count": 15,
   "metadata": {},
   "outputs": [
    {
     "data": {
      "text/plain": [
       "'21:13'"
      ]
     },
     "execution_count": 15,
     "metadata": {},
     "output_type": "execute_result"
    }
   ],
   "source": [
    "call_all(P6, 6)\n",
    "call_all(E6, 6)\n",
    "time.strftime(\"%H\") +\":\"+ time.strftime(\"%M\")"
   ]
  },
  {
   "cell_type": "code",
   "execution_count": 16,
   "metadata": {},
   "outputs": [
    {
     "data": {
      "text/plain": [
       "'21:47'"
      ]
     },
     "execution_count": 16,
     "metadata": {},
     "output_type": "execute_result"
    }
   ],
   "source": [
    "call_all(P7, 7)\n",
    "call_all(E7, 7)\n",
    "time.strftime(\"%H\") +\":\"+ time.strftime(\"%M\")"
   ]
  },
  {
   "cell_type": "code",
   "execution_count": 17,
   "metadata": {},
   "outputs": [
    {
     "data": {
      "text/plain": [
       "'22:18'"
      ]
     },
     "execution_count": 17,
     "metadata": {},
     "output_type": "execute_result"
    }
   ],
   "source": [
    "call_all(P8, 8)\n",
    "call_all(E8, 8)\n",
    "time.strftime(\"%H\") +\":\"+ time.strftime(\"%M\")"
   ]
  },
  {
   "cell_type": "code",
   "execution_count": 18,
   "metadata": {},
   "outputs": [
    {
     "data": {
      "text/plain": [
       "'22:51'"
      ]
     },
     "execution_count": 18,
     "metadata": {},
     "output_type": "execute_result"
    }
   ],
   "source": [
    "call_all(P9, 9)\n",
    "call_all(E9, 9)\n",
    "time.strftime(\"%H\") +\":\"+ time.strftime(\"%M\")"
   ]
  },
  {
   "cell_type": "markdown",
   "metadata": {},
   "source": [
    "# ------------------------------------------"
   ]
  },
  {
   "cell_type": "code",
   "execution_count": 19,
   "metadata": {},
   "outputs": [],
   "source": [
    "import os"
   ]
  },
  {
   "cell_type": "code",
   "execution_count": 20,
   "metadata": {},
   "outputs": [],
   "source": [
    "def summarize_diagnostics(history):\n",
    "    # plot loss\n",
    "    plt.subplot(211)\n",
    "    plt.title('Cross Entropy Loss')\n",
    "    plt.plot(history.history['loss'], color='blue', label='train')\n",
    "    plt.plot(history.history['val_loss'], color='orange', label='test')\n",
    "    # plot accuracy\n",
    "    plt.subplot(212)\n",
    "    plt.title('Classification Accuracy')\n",
    "    plt.plot(history.history['accuracy'], color='blue', label='train')\n",
    "    plt.plot(history.history['val_accuracy'], color='orange', label='test')"
   ]
  },
  {
   "cell_type": "code",
   "execution_count": 21,
   "metadata": {},
   "outputs": [
    {
     "name": "stdout",
     "output_type": "stream",
     "text": [
      "200057\n"
     ]
    }
   ],
   "source": [
    "folder = 'prova_E/E8_100log/'\n",
    "i = 0\n",
    "for file in os.listdir(folder):\n",
    "    i += 1\n",
    "print(i)"
   ]
  },
  {
   "cell_type": "code",
   "execution_count": 22,
   "metadata": {},
   "outputs": [],
   "source": [
    "E8 = np.empty((200057, 99, 1), dtype=cp.float64)\n",
    "labels_E8 = np.zeros(200057)\n",
    "folder = 'prova_E/E8_100log/'\n",
    "i = 0\n",
    "for file in os.listdir(folder):\n",
    "    if file.startswith('el'):\n",
    "        labels_E8[i] = 1\n",
    "    array = np.load(folder + file)\n",
    "    array = cp.reshape(array, (99,1))\n",
    "    E8[i] = array\n",
    "    i += 1"
   ]
  },
  {
   "cell_type": "code",
   "execution_count": 27,
   "metadata": {},
   "outputs": [
    {
     "data": {
      "text/plain": [
       "<BarContainer object of 99 artists>"
      ]
     },
     "execution_count": 27,
     "metadata": {},
     "output_type": "execute_result"
    },
    {
     "data": {
      "image/png": "[encoded data removed]",
      "text/plain": [
       "<Figure size 432x288 with 1 Axes>"
      ]
     },
     "metadata": {
      "needs_background": "light"
     },
     "output_type": "display_data"
    }
   ],
   "source": [
    "x = np.logspace(np.log10(0.1), np.log10(300), 100)\n",
    "plt.bar(x[:-1], E8[0].flatten(), width=np.diff(x), ec='black', align='edge')"
   ]
  },
  {
   "cell_type": "code",
   "execution_count": 28,
   "metadata": {},
   "outputs": [],
   "source": [
    "E8 = E8/E8.max()"
   ]
  },
  {
   "cell_type": "code",
   "execution_count": 29,
   "metadata": {},
   "outputs": [],
   "source": [
    "from sklearn.model_selection import train_test_split\n",
    "E8X_train, E8X_test, E8Y_train, E8Y_test = train_test_split(E8 , labels_E8 ,test_size=0.2)"
   ]
  },
  {
   "cell_type": "code",
   "execution_count": 30,
   "metadata": {},
   "outputs": [
    {
     "name": "stderr",
     "output_type": "stream",
     "text": [
      "Using TensorFlow backend.\n"
     ]
    }
   ],
   "source": [
    "from keras.models import Sequential\n",
    "from keras.layers import Dense, Conv1D, Flatten, Dropout, MaxPooling1D, BatchNormalization\n",
    "from keras import regularizers\n",
    "\n",
    "model3 = Sequential()\n",
    "#model1.add(Input(shape=(21,1)))\n",
    "model3.add(Flatten(input_shape=(99,1)))\n",
    "model3.add(BatchNormalization())\n",
    "model3.add(Dense(50, activation='relu', kernel_initializer='he_uniform'))\n",
    "model3.add(Dense(25, activation='relu', kernel_initializer='he_uniform'))\n",
    "model3.add(Dense(10, activation='relu', kernel_initializer='he_uniform'))\n",
    "model3.add(Dense(1, activation='sigmoid'))"
   ]
  },
  {
   "cell_type": "code",
   "execution_count": 31,
   "metadata": {},
   "outputs": [],
   "source": [
    "from keras.optimizers import Adam\n",
    "opt = Adam(lr=0.0001)\n",
    "model3.compile(loss='binary_crossentropy', optimizer=opt, metrics=['accuracy'])"
   ]
  },
  {
   "cell_type": "code",
   "execution_count": 32,
   "metadata": {},
   "outputs": [
    {
     "name": "stdout",
     "output_type": "stream",
     "text": [
      "Train on 160045 samples, validate on 40012 samples\n",
      "Epoch 1/20\n",
      "160045/160045 [==============================] - 9s 58us/step - loss: 0.6899 - accuracy: 0.5335 - val_loss: 0.6849 - val_accuracy: 0.5502\n",
      "Epoch 2/20\n",
      "160045/160045 [==============================] - 8s 52us/step - loss: 0.6823 - accuracy: 0.5598 - val_loss: 0.6794 - val_accuracy: 0.5657\n",
      "Epoch 3/20\n",
      "160045/160045 [==============================] - 8s 53us/step - loss: 0.6785 - accuracy: 0.5675 - val_loss: 0.6780 - val_accuracy: 0.5686\n",
      "Epoch 4/20\n",
      "160045/160045 [==============================] - 8s 52us/step - loss: 0.6756 - accuracy: 0.5741 - val_loss: 0.6745 - val_accuracy: 0.5733\n",
      "Epoch 5/20\n",
      "160045/160045 [==============================] - 8s 53us/step - loss: 0.6742 - accuracy: 0.5748 - val_loss: 0.6739 - val_accuracy: 0.5764\n",
      "Epoch 6/20\n",
      "160045/160045 [==============================] - 10s 62us/step - loss: 0.6730 - accuracy: 0.5776 - val_loss: 0.6739 - val_accuracy: 0.5758\n",
      "Epoch 7/20\n",
      "160045/160045 [==============================] - 8s 52us/step - loss: 0.6723 - accuracy: 0.5784 - val_loss: 0.6723 - val_accuracy: 0.5781\n",
      "Epoch 8/20\n",
      "160045/160045 [==============================] - 9s 54us/step - loss: 0.6710 - accuracy: 0.5813 - val_loss: 0.6716 - val_accuracy: 0.5800\n",
      "Epoch 9/20\n",
      "160045/160045 [==============================] - 9s 54us/step - loss: 0.6708 - accuracy: 0.5811 - val_loss: 0.6714 - val_accuracy: 0.5823\n",
      "Epoch 10/20\n",
      "160045/160045 [==============================] - 8s 53us/step - loss: 0.6703 - accuracy: 0.5824 - val_loss: 0.6716 - val_accuracy: 0.5805\n",
      "Epoch 11/20\n",
      "160045/160045 [==============================] - 8s 50us/step - loss: 0.6699 - accuracy: 0.5836 - val_loss: 0.6710 - val_accuracy: 0.5822\n",
      "Epoch 12/20\n",
      "160045/160045 [==============================] - 8s 50us/step - loss: 0.6697 - accuracy: 0.5835 - val_loss: 0.6727 - val_accuracy: 0.5790\n",
      "Epoch 13/20\n",
      "160045/160045 [==============================] - 8s 49us/step - loss: 0.6693 - accuracy: 0.5842 - val_loss: 0.6707 - val_accuracy: 0.5832\n",
      "Epoch 14/20\n",
      "160045/160045 [==============================] - 7s 44us/step - loss: 0.6691 - accuracy: 0.5860 - val_loss: 0.6707 - val_accuracy: 0.5835\n",
      "Epoch 15/20\n",
      "160045/160045 [==============================] - 7s 43us/step - loss: 0.6690 - accuracy: 0.5855 - val_loss: 0.6706 - val_accuracy: 0.5810\n",
      "Epoch 16/20\n",
      "160045/160045 [==============================] - 9s 54us/step - loss: 0.6685 - accuracy: 0.5843 - val_loss: 0.6703 - val_accuracy: 0.5819\n",
      "Epoch 17/20\n",
      "160045/160045 [==============================] - 8s 53us/step - loss: 0.6684 - accuracy: 0.5856 - val_loss: 0.6694 - val_accuracy: 0.5841\n",
      "Epoch 18/20\n",
      "160045/160045 [==============================] - 8s 49us/step - loss: 0.6682 - accuracy: 0.5863 - val_loss: 0.6694 - val_accuracy: 0.5845\n",
      "Epoch 19/20\n",
      "160045/160045 [==============================] - 8s 51us/step - loss: 0.6678 - accuracy: 0.5872 - val_loss: 0.6715 - val_accuracy: 0.5816\n",
      "Epoch 20/20\n",
      "160045/160045 [==============================] - 8s 51us/step - loss: 0.6678 - accuracy: 0.5877 - val_loss: 0.6694 - val_accuracy: 0.5855\n"
     ]
    }
   ],
   "source": [
    "history3 = model3.fit(E8X_train, E8Y_train, batch_size=64, validation_data=(E8X_test, E8Y_test), epochs=20)"
   ]
  },
  {
   "cell_type": "code",
   "execution_count": 33,
   "metadata": {},
   "outputs": [
    {
     "data": {
      "image/png": "[encoded data removed]",
      "text/plain": [
       "<Figure size 432x288 with 2 Axes>"
      ]
     },
     "metadata": {
      "needs_background": "light"
     },
     "output_type": "display_data"
    }
   ],
   "source": [
    "summarize_diagnostics(history3)"
   ]
  },
  {
   "cell_type": "code",
   "execution_count": 41,
   "metadata": {},
   "outputs": [],
   "source": [
    "model2 = Sequential()\n",
    "model2.add(Conv1D(32, 100, activation='relu', kernel_initializer='he_uniform', padding='same', input_shape=(99, 1)))\n",
    "model2.add(MaxPooling1D(2))\n",
    "model2.add(BatchNormalization())\n",
    "model2.add(Conv1D(64, 100, activation='relu', kernel_initializer='he_uniform', padding='same'))\n",
    "model2.add(MaxPooling1D(2))\n",
    "model2.add(BatchNormalization())\n",
    "model2.add(Conv1D(128, 100, activation='relu', kernel_initializer='he_uniform', padding='same'))\n",
    "model2.add(MaxPooling1D(2))\n",
    "model2.add(BatchNormalization())\n",
    "model2.add(Flatten())\n",
    "model2.add(Dense(128, activation='relu', kernel_initializer='he_uniform', kernel_regularizer=regularizers.l2(0.01)))\n",
    "model2.add(Dropout(0.5))\n",
    "model2.add(Dense(1, activation='sigmoid'))"
   ]
  },
  {
   "cell_type": "code",
   "execution_count": 42,
   "metadata": {},
   "outputs": [],
   "source": [
    "from keras.optimizers import Adam\n",
    "opt = Adam(lr=0.00001)\n",
    "model2.compile(loss='binary_crossentropy', optimizer=opt, metrics=['accuracy'])"
   ]
  },
  {
   "cell_type": "code",
   "execution_count": 43,
   "metadata": {},
   "outputs": [
    {
     "name": "stdout",
     "output_type": "stream",
     "text": [
      "Train on 160045 samples, validate on 40012 samples\n",
      "Epoch 1/100\n",
      "160045/160045 [==============================] - 200s 1ms/step - loss: 2.8046 - accuracy: 0.5320 - val_loss: 2.3263 - val_accuracy: 0.5465\n",
      "Epoch 2/100\n",
      "160045/160045 [==============================] - 206s 1ms/step - loss: 1.9134 - accuracy: 0.5450 - val_loss: 1.5523 - val_accuracy: 0.5563\n",
      "Epoch 3/100\n",
      "160045/160045 [==============================] - 210s 1ms/step - loss: 1.3094 - accuracy: 0.5494 - val_loss: 1.1170 - val_accuracy: 0.5562\n",
      "Epoch 4/100\n",
      "160045/160045 [==============================] - 206s 1ms/step - loss: 1.0093 - accuracy: 0.5563 - val_loss: 0.9262 - val_accuracy: 0.5604\n",
      "Epoch 5/100\n",
      "160045/160045 [==============================] - 194s 1ms/step - loss: 0.8808 - accuracy: 0.5586 - val_loss: 0.8409 - val_accuracy: 0.5655\n",
      "Epoch 6/100\n",
      "160045/160045 [==============================] - 201s 1ms/step - loss: 0.8190 - accuracy: 0.5637 - val_loss: 0.7951 - val_accuracy: 0.5660\n",
      "Epoch 7/100\n",
      "160045/160045 [==============================] - 200s 1ms/step - loss: 0.7811 - accuracy: 0.5663 - val_loss: 0.7647 - val_accuracy: 0.5697\n",
      "Epoch 8/100\n",
      "160045/160045 [==============================] - 199s 1ms/step - loss: 0.7557 - accuracy: 0.5702 - val_loss: 0.7556 - val_accuracy: 0.5604\n",
      "Epoch 9/100\n",
      "160045/160045 [==============================] - 201s 1ms/step - loss: 0.7373 - accuracy: 0.5739 - val_loss: 0.7292 - val_accuracy: 0.5746\n",
      "Epoch 10/100\n",
      "160045/160045 [==============================] - 201s 1ms/step - loss: 0.7237 - accuracy: 0.5760 - val_loss: 0.7167 - val_accuracy: 0.5735\n",
      "Epoch 11/100\n",
      "160045/160045 [==============================] - 201s 1ms/step - loss: 0.7127 - accuracy: 0.5771 - val_loss: 0.7104 - val_accuracy: 0.5725\n",
      "Epoch 12/100\n",
      "160045/160045 [==============================] - 200s 1ms/step - loss: 0.7047 - accuracy: 0.5790 - val_loss: 0.7073 - val_accuracy: 0.5687\n",
      "Epoch 13/100\n",
      "160045/160045 [==============================] - 198s 1ms/step - loss: 0.6983 - accuracy: 0.5801 - val_loss: 0.6986 - val_accuracy: 0.5774\n",
      "Epoch 14/100\n",
      "160045/160045 [==============================] - 199s 1ms/step - loss: 0.6936 - accuracy: 0.5802 - val_loss: 0.6913 - val_accuracy: 0.5790\n",
      "Epoch 15/100\n",
      "160045/160045 [==============================] - 199s 1ms/step - loss: 0.6891 - accuracy: 0.5820 - val_loss: 0.6873 - val_accuracy: 0.5804\n",
      "Epoch 16/100\n",
      "160045/160045 [==============================] - 199s 1ms/step - loss: 0.6859 - accuracy: 0.5833 - val_loss: 0.6861 - val_accuracy: 0.5806\n",
      "Epoch 17/100\n",
      "160045/160045 [==============================] - 200s 1ms/step - loss: 0.6827 - accuracy: 0.5841 - val_loss: 0.6880 - val_accuracy: 0.5752\n",
      "Epoch 18/100\n",
      "160045/160045 [==============================] - 199s 1ms/step - loss: 0.6805 - accuracy: 0.5852 - val_loss: 0.6808 - val_accuracy: 0.5806\n",
      "Epoch 19/100\n",
      "160045/160045 [==============================] - 199s 1ms/step - loss: 0.6785 - accuracy: 0.5872 - val_loss: 0.6815 - val_accuracy: 0.5759\n",
      "Epoch 20/100\n",
      "160045/160045 [==============================] - 201s 1ms/step - loss: 0.6771 - accuracy: 0.5862 - val_loss: 0.6774 - val_accuracy: 0.5841\n",
      "Epoch 21/100\n",
      "160045/160045 [==============================] - 200s 1ms/step - loss: 0.6753 - accuracy: 0.5883 - val_loss: 0.6771 - val_accuracy: 0.5817\n",
      "Epoch 22/100\n",
      "160045/160045 [==============================] - 200s 1ms/step - loss: 0.6738 - accuracy: 0.5892 - val_loss: 0.6774 - val_accuracy: 0.5831\n",
      "Epoch 23/100\n",
      "160045/160045 [==============================] - 198s 1ms/step - loss: 0.6727 - accuracy: 0.5891 - val_loss: 0.6749 - val_accuracy: 0.5824\n",
      "Epoch 24/100\n",
      "160045/160045 [==============================] - 199s 1ms/step - loss: 0.6715 - accuracy: 0.5905 - val_loss: 0.6748 - val_accuracy: 0.5822\n",
      "Epoch 25/100\n",
      "160045/160045 [==============================] - 199s 1ms/step - loss: 0.6706 - accuracy: 0.5899 - val_loss: 0.6728 - val_accuracy: 0.5854\n",
      "Epoch 26/100\n",
      "160045/160045 [==============================] - 199s 1ms/step - loss: 0.6702 - accuracy: 0.5912 - val_loss: 0.6789 - val_accuracy: 0.5720\n",
      "Epoch 27/100\n",
      "160045/160045 [==============================] - 200s 1ms/step - loss: 0.6692 - accuracy: 0.5929 - val_loss: 0.6722 - val_accuracy: 0.5834\n",
      "Epoch 28/100\n",
      "160045/160045 [==============================] - 201s 1ms/step - loss: 0.6686 - accuracy: 0.5929 - val_loss: 0.6755 - val_accuracy: 0.5786\n",
      "Epoch 29/100\n",
      "160045/160045 [==============================] - 200s 1ms/step - loss: 0.6681 - accuracy: 0.5924 - val_loss: 0.6718 - val_accuracy: 0.5857\n",
      "Epoch 30/100\n",
      "160045/160045 [==============================] - 199s 1ms/step - loss: 0.6676 - accuracy: 0.5926 - val_loss: 0.6775 - val_accuracy: 0.5791\n",
      "Epoch 31/100\n",
      "160045/160045 [==============================] - 200s 1ms/step - loss: 0.6667 - accuracy: 0.5934 - val_loss: 0.6725 - val_accuracy: 0.5817\n",
      "Epoch 32/100\n",
      "160045/160045 [==============================] - 199s 1ms/step - loss: 0.6660 - accuracy: 0.5956 - val_loss: 0.6705 - val_accuracy: 0.5853\n",
      "Epoch 33/100\n",
      "160045/160045 [==============================] - 199s 1ms/step - loss: 0.6654 - accuracy: 0.5944 - val_loss: 0.6704 - val_accuracy: 0.5834\n",
      "Epoch 34/100\n",
      "160045/160045 [==============================] - 199s 1ms/step - loss: 0.6651 - accuracy: 0.5946 - val_loss: 0.6729 - val_accuracy: 0.5810\n",
      "Epoch 35/100\n",
      "160045/160045 [==============================] - 200s 1ms/step - loss: 0.6644 - accuracy: 0.5957 - val_loss: 0.6771 - val_accuracy: 0.5758\n",
      "Epoch 36/100\n",
      "160045/160045 [==============================] - 199s 1ms/step - loss: 0.6640 - accuracy: 0.5966 - val_loss: 0.6758 - val_accuracy: 0.5775\n",
      "Epoch 37/100\n",
      "160045/160045 [==============================] - 198s 1ms/step - loss: 0.6637 - accuracy: 0.5972 - val_loss: 0.6699 - val_accuracy: 0.5840\n",
      "Epoch 38/100\n",
      "160045/160045 [==============================] - 200s 1ms/step - loss: 0.6630 - accuracy: 0.5997 - val_loss: 0.6725 - val_accuracy: 0.5817\n",
      "Epoch 39/100\n",
      "160045/160045 [==============================] - 199s 1ms/step - loss: 0.6629 - accuracy: 0.5988 - val_loss: 0.6719 - val_accuracy: 0.5831\n",
      "Epoch 40/100\n",
      "160045/160045 [==============================] - 199s 1ms/step - loss: 0.6621 - accuracy: 0.5995 - val_loss: 0.6800 - val_accuracy: 0.5662\n",
      "Epoch 41/100\n",
      "160045/160045 [==============================] - 199s 1ms/step - loss: 0.6619 - accuracy: 0.6000 - val_loss: 0.6702 - val_accuracy: 0.5841\n",
      "Epoch 42/100\n",
      "160045/160045 [==============================] - 201s 1ms/step - loss: 0.6609 - accuracy: 0.6017 - val_loss: 0.6696 - val_accuracy: 0.5848\n",
      "Epoch 43/100\n",
      "160045/160045 [==============================] - 201s 1ms/step - loss: 0.6604 - accuracy: 0.6014 - val_loss: 0.6783 - val_accuracy: 0.5695\n",
      "Epoch 44/100\n",
      "160045/160045 [==============================] - 200s 1ms/step - loss: 0.6606 - accuracy: 0.6015 - val_loss: 0.6717 - val_accuracy: 0.5863\n",
      "Epoch 45/100\n",
      "160045/160045 [==============================] - 201s 1ms/step - loss: 0.6601 - accuracy: 0.6029 - val_loss: 0.6786 - val_accuracy: 0.5749\n",
      "Epoch 46/100\n",
      "160045/160045 [==============================] - 200s 1ms/step - loss: 0.6592 - accuracy: 0.6040 - val_loss: 0.6782 - val_accuracy: 0.5770\n",
      "Epoch 47/100\n",
      "160045/160045 [==============================] - 204s 1ms/step - loss: 0.6588 - accuracy: 0.6039 - val_loss: 0.6708 - val_accuracy: 0.5832\n",
      "Epoch 48/100\n",
      "160045/160045 [==============================] - 206s 1ms/step - loss: 0.6579 - accuracy: 0.6066 - val_loss: 0.6731 - val_accuracy: 0.5804\n",
      "Epoch 49/100\n",
      "160045/160045 [==============================] - 205s 1ms/step - loss: 0.6581 - accuracy: 0.6059 - val_loss: 0.6766 - val_accuracy: 0.5783\n",
      "Epoch 50/100\n",
      "160045/160045 [==============================] - 207s 1ms/step - loss: 0.6571 - accuracy: 0.6063 - val_loss: 0.6713 - val_accuracy: 0.5840\n",
      "Epoch 51/100\n",
      "160045/160045 [==============================] - 208s 1ms/step - loss: 0.6566 - accuracy: 0.6074 - val_loss: 0.6714 - val_accuracy: 0.5849\n",
      "Epoch 52/100\n",
      "160045/160045 [==============================] - 210s 1ms/step - loss: 0.6558 - accuracy: 0.6084 - val_loss: 0.6755 - val_accuracy: 0.5782\n",
      "Epoch 53/100\n",
      "160045/160045 [==============================] - 209s 1ms/step - loss: 0.6552 - accuracy: 0.6111 - val_loss: 0.6730 - val_accuracy: 0.5802\n",
      "Epoch 54/100\n",
      "160045/160045 [==============================] - 208s 1ms/step - loss: 0.6541 - accuracy: 0.6119 - val_loss: 0.6738 - val_accuracy: 0.5775\n",
      "Epoch 55/100\n",
      "160045/160045 [==============================] - 209s 1ms/step - loss: 0.6537 - accuracy: 0.6122 - val_loss: 0.6706 - val_accuracy: 0.5842\n",
      "Epoch 56/100\n",
      "160045/160045 [==============================] - 209s 1ms/step - loss: 0.6531 - accuracy: 0.6142 - val_loss: 0.6851 - val_accuracy: 0.5641\n",
      "Epoch 57/100\n",
      "160045/160045 [==============================] - 207s 1ms/step - loss: 0.6526 - accuracy: 0.6140 - val_loss: 0.6761 - val_accuracy: 0.5799\n",
      "Epoch 58/100\n",
      "160045/160045 [==============================] - 208s 1ms/step - loss: 0.6515 - accuracy: 0.6161 - val_loss: 0.6788 - val_accuracy: 0.5800\n",
      "Epoch 59/100\n",
      "160045/160045 [==============================] - 209s 1ms/step - loss: 0.6509 - accuracy: 0.6168 - val_loss: 0.6802 - val_accuracy: 0.5781\n",
      "Epoch 60/100\n",
      "160045/160045 [==============================] - 209s 1ms/step - loss: 0.6496 - accuracy: 0.6183 - val_loss: 0.6812 - val_accuracy: 0.5774\n",
      "Epoch 61/100\n",
      "160045/160045 [==============================] - 208s 1ms/step - loss: 0.6487 - accuracy: 0.6200 - val_loss: 0.6787 - val_accuracy: 0.5769\n",
      "Epoch 62/100\n",
      "160045/160045 [==============================] - 207s 1ms/step - loss: 0.6477 - accuracy: 0.6205 - val_loss: 0.6759 - val_accuracy: 0.5805\n",
      "Epoch 63/100\n",
      "160045/160045 [==============================] - 208s 1ms/step - loss: 0.6465 - accuracy: 0.6228 - val_loss: 0.6826 - val_accuracy: 0.5786\n",
      "Epoch 64/100\n",
      "160045/160045 [==============================] - 207s 1ms/step - loss: 0.6458 - accuracy: 0.6218 - val_loss: 0.6814 - val_accuracy: 0.5743\n",
      "Epoch 65/100\n",
      "160045/160045 [==============================] - 210s 1ms/step - loss: 0.6446 - accuracy: 0.6264 - val_loss: 0.6824 - val_accuracy: 0.5738\n",
      "Epoch 66/100\n",
      "160045/160045 [==============================] - 207s 1ms/step - loss: 0.6437 - accuracy: 0.6274 - val_loss: 0.6824 - val_accuracy: 0.5777\n",
      "Epoch 67/100\n",
      "160045/160045 [==============================] - 208s 1ms/step - loss: 0.6421 - accuracy: 0.6292 - val_loss: 0.6787 - val_accuracy: 0.5770\n",
      "Epoch 68/100\n",
      "160045/160045 [==============================] - 209s 1ms/step - loss: 0.6411 - accuracy: 0.6303 - val_loss: 0.6817 - val_accuracy: 0.5736\n",
      "Epoch 69/100\n",
      "160045/160045 [==============================] - 209s 1ms/step - loss: 0.6395 - accuracy: 0.6324 - val_loss: 0.6951 - val_accuracy: 0.5690\n",
      "Epoch 70/100\n",
      "160045/160045 [==============================] - 208s 1ms/step - loss: 0.6377 - accuracy: 0.6353 - val_loss: 0.7034 - val_accuracy: 0.5645\n",
      "Epoch 71/100\n",
      "160045/160045 [==============================] - 161s 1ms/step - loss: 0.6361 - accuracy: 0.6367 - val_loss: 0.6811 - val_accuracy: 0.5736\n",
      "Epoch 72/100\n",
      "160045/160045 [==============================] - 130s 809us/step - loss: 0.6351 - accuracy: 0.6379 - val_loss: 0.6870 - val_accuracy: 0.5672\n",
      "Epoch 73/100\n",
      "160045/160045 [==============================] - 131s 819us/step - loss: 0.6335 - accuracy: 0.6409 - val_loss: 0.6859 - val_accuracy: 0.5706\n",
      "Epoch 74/100\n",
      "160045/160045 [==============================] - 130s 810us/step - loss: 0.6317 - accuracy: 0.6435 - val_loss: 0.6856 - val_accuracy: 0.5714\n",
      "Epoch 75/100\n",
      "160045/160045 [==============================] - 129s 809us/step - loss: 0.6297 - accuracy: 0.6454 - val_loss: 0.7158 - val_accuracy: 0.5643\n",
      "Epoch 76/100\n",
      "160045/160045 [==============================] - 130s 812us/step - loss: 0.6286 - accuracy: 0.6469 - val_loss: 0.6925 - val_accuracy: 0.5680\n",
      "Epoch 77/100\n",
      "160045/160045 [==============================] - 131s 819us/step - loss: 0.6261 - accuracy: 0.6490 - val_loss: 0.7020 - val_accuracy: 0.5640\n",
      "Epoch 78/100\n",
      "160045/160045 [==============================] - 130s 814us/step - loss: 0.6244 - accuracy: 0.6517 - val_loss: 0.7057 - val_accuracy: 0.5693\n",
      "Epoch 79/100\n",
      "160045/160045 [==============================] - 130s 813us/step - loss: 0.6224 - accuracy: 0.6535 - val_loss: 0.6992 - val_accuracy: 0.5655\n",
      "Epoch 80/100\n",
      "160045/160045 [==============================] - 130s 812us/step - loss: 0.6207 - accuracy: 0.6564 - val_loss: 0.7090 - val_accuracy: 0.5571\n",
      "Epoch 81/100\n",
      "160045/160045 [==============================] - 131s 816us/step - loss: 0.6176 - accuracy: 0.6604 - val_loss: 0.7027 - val_accuracy: 0.5617\n",
      "Epoch 82/100\n",
      "160045/160045 [==============================] - 131s 817us/step - loss: 0.6155 - accuracy: 0.6625 - val_loss: 0.7098 - val_accuracy: 0.5593\n",
      "Epoch 83/100\n",
      "160045/160045 [==============================] - 131s 816us/step - loss: 0.6129 - accuracy: 0.6643 - val_loss: 0.7113 - val_accuracy: 0.5690\n",
      "Epoch 84/100\n",
      "160045/160045 [==============================] - 131s 816us/step - loss: 0.6111 - accuracy: 0.6664 - val_loss: 0.7130 - val_accuracy: 0.5642\n",
      "Epoch 85/100\n",
      "160045/160045 [==============================] - 130s 812us/step - loss: 0.6080 - accuracy: 0.6699 - val_loss: 0.7175 - val_accuracy: 0.5599\n",
      "Epoch 86/100\n",
      "160045/160045 [==============================] - 130s 811us/step - loss: 0.6061 - accuracy: 0.6721 - val_loss: 0.7168 - val_accuracy: 0.5642\n",
      "Epoch 87/100\n",
      "160045/160045 [==============================] - 131s 819us/step - loss: 0.6028 - accuracy: 0.6757 - val_loss: 0.7162 - val_accuracy: 0.5620\n",
      "Epoch 88/100\n",
      "160045/160045 [==============================] - 129s 809us/step - loss: 0.6006 - accuracy: 0.6786 - val_loss: 0.7149 - val_accuracy: 0.5592\n",
      "Epoch 89/100\n",
      "160045/160045 [==============================] - 130s 813us/step - loss: 0.5984 - accuracy: 0.6796 - val_loss: 0.7297 - val_accuracy: 0.5625\n",
      "Epoch 90/100\n",
      "160045/160045 [==============================] - 130s 814us/step - loss: 0.5953 - accuracy: 0.6820 - val_loss: 0.7238 - val_accuracy: 0.5666\n",
      "Epoch 91/100\n",
      "160045/160045 [==============================] - 131s 818us/step - loss: 0.5925 - accuracy: 0.6859 - val_loss: 0.7306 - val_accuracy: 0.5611\n",
      "Epoch 92/100\n",
      "160045/160045 [==============================] - 130s 812us/step - loss: 0.5893 - accuracy: 0.6898 - val_loss: 0.7341 - val_accuracy: 0.5629\n",
      "Epoch 93/100\n",
      "160045/160045 [==============================] - 130s 810us/step - loss: 0.5850 - accuracy: 0.6942 - val_loss: 0.7353 - val_accuracy: 0.5626\n",
      "Epoch 94/100\n",
      "160045/160045 [==============================] - 131s 815us/step - loss: 0.5826 - accuracy: 0.6955 - val_loss: 0.7515 - val_accuracy: 0.5561\n",
      "Epoch 95/100\n",
      "160045/160045 [==============================] - 130s 813us/step - loss: 0.5790 - accuracy: 0.6999 - val_loss: 0.7467 - val_accuracy: 0.5544\n",
      "Epoch 96/100\n",
      "160045/160045 [==============================] - 129s 808us/step - loss: 0.5763 - accuracy: 0.7024 - val_loss: 0.7396 - val_accuracy: 0.5515\n",
      "Epoch 97/100\n",
      "160045/160045 [==============================] - 129s 809us/step - loss: 0.5718 - accuracy: 0.7060 - val_loss: 0.7450 - val_accuracy: 0.5578\n",
      "Epoch 98/100\n",
      "160045/160045 [==============================] - 131s 817us/step - loss: 0.5692 - accuracy: 0.7077 - val_loss: 0.7592 - val_accuracy: 0.5516\n",
      "Epoch 99/100\n",
      "160045/160045 [==============================] - 129s 808us/step - loss: 0.5654 - accuracy: 0.7113 - val_loss: 0.7527 - val_accuracy: 0.5448\n",
      "Epoch 100/100\n",
      "160045/160045 [==============================] - 130s 813us/step - loss: 0.5625 - accuracy: 0.7135 - val_loss: 0.7575 - val_accuracy: 0.5553\n"
     ]
    }
   ],
   "source": [
    "history2 = model2.fit(E8X_train, E8Y_train, batch_size=64, validation_data=(E8X_test, E8Y_test), epochs=100)"
   ]
  },
  {
   "cell_type": "code",
   "execution_count": 44,
   "metadata": {},
   "outputs": [
    {
     "data": {
      "image/png": "[encoded data removed]",
      "text/plain": [
       "<Figure size 432x288 with 2 Axes>"
      ]
     },
     "metadata": {
      "needs_background": "light"
     },
     "output_type": "display_data"
    }
   ],
   "source": [
    "summarize_diagnostics(history2)"
   ]
  },
  {
   "cell_type": "code",
   "execution_count": null,
   "metadata": {},
   "outputs": [],
   "source": []
  }
 ],
 "metadata": {
  "kernelspec": {
   "display_name": "Python 3",
   "language": "python",
   "name": "python3"
  },
  "language_info": {
   "codemirror_mode": {
    "name": "ipython",
    "version": 3
   },
   "file_extension": ".py",
   "mimetype": "text/x-python",
   "name": "python",
   "nbconvert_exporter": "python",
   "pygments_lexer": "ipython3",
   "version": "3.7.6"
  }
 },
 "nbformat": 4,
 "nbformat_minor": 4
}
